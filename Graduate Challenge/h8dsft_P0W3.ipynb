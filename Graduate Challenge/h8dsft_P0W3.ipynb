{
  "cells": [
    {
      "cell_type": "markdown",
      "metadata": {
        "id": "EYY-ZkXXxTCm"
      },
      "source": [
        "## Perkenalan"
      ]
    },
    {
      "cell_type": "markdown",
      "metadata": {
        "id": "PDklb-5nxWXK"
      },
      "source": [
        "Nama: Sivi Almanaf Ali Shahab\n",
        "\n",
        "Batch: 006"
      ]
    },
    {
      "cell_type": "markdown",
      "metadata": {
        "id": "ArB0n1l01lX1"
      },
      "source": [
        "## Kickstarter Projects\n",
        "\n",
        "#### Context\n",
        "I'm a crowdfunding enthusiast and i'm watching kickstarter since its early days. Right now I just collect data and the only app i've made is this twitter bot which tweet any project reaching some milestone: @bloomwatcher . I have a lot of other ideas, but sadly not enough time to develop them… But I hope you can!\n",
        "\n",
        "#### Content\n",
        "\n",
        "You'll find most useful data for project analysis. Columns are self explanatory except:\n",
        "\n",
        "usd_pledged: conversion in US dollars of the pledged column (conversion done by kickstarter).\n",
        "\n",
        "usd pledge real: conversion in US dollars of the pledged column (conversion from Fixer.io API).\n",
        "\n",
        "usd goal real: conversion in US dollars of the goal column (conversion from Fixer.io API).\n",
        "\n",
        "#### Acknowledgements\n",
        "\n",
        "Data are collected from Kickstarter Platform\n",
        "\n",
        "usd conversion (usdpledgedreal and usdgoalreal columns) were generated from convert ks pledges to usd script done by tonyplaysguitar"
      ]
    },
    {
      "cell_type": "markdown",
      "metadata": {
        "id": "tsm-wwj6xf9l"
      },
      "source": [
        "## Import Library"
      ]
    },
    {
      "cell_type": "markdown",
      "metadata": {
        "id": "CqyP5kxA0vR9"
      },
      "source": [
        "Before starting, you need to have the opendatasets library installed in your system.\n"
      ]
    },
    {
      "cell_type": "code",
      "execution_count": 330,
      "metadata": {
        "id": "U3V86-nU0JCy"
      },
      "outputs": [],
      "source": [
        "!pip install opendatasets --q"
      ]
    },
    {
      "cell_type": "code",
      "execution_count": 331,
      "metadata": {
        "id": "097iW5BNxCOE"
      },
      "outputs": [],
      "source": [
        "import pandas as pd\n",
        "import numpy as np\n",
        "import scipy.stats as stats\n",
        "import opendatasets as od\n",
        "import matplotlib.pyplot as plt\n",
        "import seaborn as sns"
      ]
    },
    {
      "cell_type": "markdown",
      "metadata": {
        "id": "XfxjPSAiyQtx"
      },
      "source": [
        "## Data Loading"
      ]
    },
    {
      "cell_type": "markdown",
      "metadata": {
        "id": "Xmr5R4As02fR"
      },
      "source": [
        "The process to Download is as follows:"
      ]
    },
    {
      "cell_type": "code",
      "execution_count": 332,
      "metadata": {
        "id": "CcbEb79F0QEe"
      },
      "outputs": [],
      "source": [
        "dataset_url = 'https://www.kaggle.com/kemical/kickstarter-projects?select=ks-projects-201801.csv'"
      ]
    },
    {
      "cell_type": "markdown",
      "metadata": {
        "id": "k3FTd4TIztlW"
      },
      "source": [
        "The dataset can now be downloaded using od.download. When you execute od.download, you will be asked to provide your Kaggle username and API key. Follow these instructions to create an API key: http://bit.ly/kaggle-creds"
      ]
    },
    {
      "cell_type": "code",
      "execution_count": 333,
      "metadata": {
        "colab": {
          "base_uri": "https://localhost:8080/"
        },
        "id": "FUkB8a0S0Yrq",
        "outputId": "6e3dd4e9-e064-45c1-a6c5-3ba61799da19"
      },
      "outputs": [
        {
          "name": "stdout",
          "output_type": "stream",
          "text": [
            "Skipping, found downloaded files in \".\\kickstarter-projects\" (use force=True to force download)\n"
          ]
        }
      ],
      "source": [
        "od.download(dataset_url)"
      ]
    },
    {
      "cell_type": "code",
      "execution_count": 334,
      "metadata": {
        "id": "86jqKBwbz1vv"
      },
      "outputs": [],
      "source": [
        "df_ks_projects = pd.read_csv('./kickstarter-projects/ks-projects-201801.csv')"
      ]
    },
    {
      "cell_type": "code",
      "execution_count": 335,
      "metadata": {
        "colab": {
          "base_uri": "https://localhost:8080/",
          "height": 206
        },
        "id": "DK2XEU4a1Hq6",
        "outputId": "f0e2134a-e58a-479f-b87a-71ca737997bb"
      },
      "outputs": [
        {
          "data": {
            "text/html": [
              "<div>\n",
              "<style scoped>\n",
              "    .dataframe tbody tr th:only-of-type {\n",
              "        vertical-align: middle;\n",
              "    }\n",
              "\n",
              "    .dataframe tbody tr th {\n",
              "        vertical-align: top;\n",
              "    }\n",
              "\n",
              "    .dataframe thead th {\n",
              "        text-align: right;\n",
              "    }\n",
              "</style>\n",
              "<table border=\"1\" class=\"dataframe\">\n",
              "  <thead>\n",
              "    <tr style=\"text-align: right;\">\n",
              "      <th></th>\n",
              "      <th>ID</th>\n",
              "      <th>name</th>\n",
              "      <th>category</th>\n",
              "      <th>main_category</th>\n",
              "      <th>currency</th>\n",
              "      <th>deadline</th>\n",
              "      <th>goal</th>\n",
              "      <th>launched</th>\n",
              "      <th>pledged</th>\n",
              "      <th>state</th>\n",
              "      <th>backers</th>\n",
              "      <th>country</th>\n",
              "      <th>usd pledged</th>\n",
              "      <th>usd_pledged_real</th>\n",
              "      <th>usd_goal_real</th>\n",
              "    </tr>\n",
              "  </thead>\n",
              "  <tbody>\n",
              "    <tr>\n",
              "      <th>0</th>\n",
              "      <td>1000002330</td>\n",
              "      <td>The Songs of Adelaide &amp; Abullah</td>\n",
              "      <td>Poetry</td>\n",
              "      <td>Publishing</td>\n",
              "      <td>GBP</td>\n",
              "      <td>2015-10-09</td>\n",
              "      <td>1000.0</td>\n",
              "      <td>2015-08-11 12:12:28</td>\n",
              "      <td>0.0</td>\n",
              "      <td>failed</td>\n",
              "      <td>0</td>\n",
              "      <td>GB</td>\n",
              "      <td>0.0</td>\n",
              "      <td>0.0</td>\n",
              "      <td>1533.95</td>\n",
              "    </tr>\n",
              "    <tr>\n",
              "      <th>1</th>\n",
              "      <td>1000003930</td>\n",
              "      <td>Greeting From Earth: ZGAC Arts Capsule For ET</td>\n",
              "      <td>Narrative Film</td>\n",
              "      <td>Film &amp; Video</td>\n",
              "      <td>USD</td>\n",
              "      <td>2017-11-01</td>\n",
              "      <td>30000.0</td>\n",
              "      <td>2017-09-02 04:43:57</td>\n",
              "      <td>2421.0</td>\n",
              "      <td>failed</td>\n",
              "      <td>15</td>\n",
              "      <td>US</td>\n",
              "      <td>100.0</td>\n",
              "      <td>2421.0</td>\n",
              "      <td>30000.00</td>\n",
              "    </tr>\n",
              "    <tr>\n",
              "      <th>2</th>\n",
              "      <td>1000004038</td>\n",
              "      <td>Where is Hank?</td>\n",
              "      <td>Narrative Film</td>\n",
              "      <td>Film &amp; Video</td>\n",
              "      <td>USD</td>\n",
              "      <td>2013-02-26</td>\n",
              "      <td>45000.0</td>\n",
              "      <td>2013-01-12 00:20:50</td>\n",
              "      <td>220.0</td>\n",
              "      <td>failed</td>\n",
              "      <td>3</td>\n",
              "      <td>US</td>\n",
              "      <td>220.0</td>\n",
              "      <td>220.0</td>\n",
              "      <td>45000.00</td>\n",
              "    </tr>\n",
              "    <tr>\n",
              "      <th>3</th>\n",
              "      <td>1000007540</td>\n",
              "      <td>ToshiCapital Rekordz Needs Help to Complete Album</td>\n",
              "      <td>Music</td>\n",
              "      <td>Music</td>\n",
              "      <td>USD</td>\n",
              "      <td>2012-04-16</td>\n",
              "      <td>5000.0</td>\n",
              "      <td>2012-03-17 03:24:11</td>\n",
              "      <td>1.0</td>\n",
              "      <td>failed</td>\n",
              "      <td>1</td>\n",
              "      <td>US</td>\n",
              "      <td>1.0</td>\n",
              "      <td>1.0</td>\n",
              "      <td>5000.00</td>\n",
              "    </tr>\n",
              "    <tr>\n",
              "      <th>4</th>\n",
              "      <td>1000011046</td>\n",
              "      <td>Community Film Project: The Art of Neighborhoo...</td>\n",
              "      <td>Film &amp; Video</td>\n",
              "      <td>Film &amp; Video</td>\n",
              "      <td>USD</td>\n",
              "      <td>2015-08-29</td>\n",
              "      <td>19500.0</td>\n",
              "      <td>2015-07-04 08:35:03</td>\n",
              "      <td>1283.0</td>\n",
              "      <td>canceled</td>\n",
              "      <td>14</td>\n",
              "      <td>US</td>\n",
              "      <td>1283.0</td>\n",
              "      <td>1283.0</td>\n",
              "      <td>19500.00</td>\n",
              "    </tr>\n",
              "  </tbody>\n",
              "</table>\n",
              "</div>"
            ],
            "text/plain": [
              "           ID                                               name  \\\n",
              "0  1000002330                    The Songs of Adelaide & Abullah   \n",
              "1  1000003930      Greeting From Earth: ZGAC Arts Capsule For ET   \n",
              "2  1000004038                                     Where is Hank?   \n",
              "3  1000007540  ToshiCapital Rekordz Needs Help to Complete Album   \n",
              "4  1000011046  Community Film Project: The Art of Neighborhoo...   \n",
              "\n",
              "         category main_category currency    deadline     goal  \\\n",
              "0          Poetry    Publishing      GBP  2015-10-09   1000.0   \n",
              "1  Narrative Film  Film & Video      USD  2017-11-01  30000.0   \n",
              "2  Narrative Film  Film & Video      USD  2013-02-26  45000.0   \n",
              "3           Music         Music      USD  2012-04-16   5000.0   \n",
              "4    Film & Video  Film & Video      USD  2015-08-29  19500.0   \n",
              "\n",
              "              launched  pledged     state  backers country  usd pledged  \\\n",
              "0  2015-08-11 12:12:28      0.0    failed        0      GB          0.0   \n",
              "1  2017-09-02 04:43:57   2421.0    failed       15      US        100.0   \n",
              "2  2013-01-12 00:20:50    220.0    failed        3      US        220.0   \n",
              "3  2012-03-17 03:24:11      1.0    failed        1      US          1.0   \n",
              "4  2015-07-04 08:35:03   1283.0  canceled       14      US       1283.0   \n",
              "\n",
              "   usd_pledged_real  usd_goal_real  \n",
              "0               0.0        1533.95  \n",
              "1            2421.0       30000.00  \n",
              "2             220.0       45000.00  \n",
              "3               1.0        5000.00  \n",
              "4            1283.0       19500.00  "
            ]
          },
          "execution_count": 335,
          "metadata": {},
          "output_type": "execute_result"
        }
      ],
      "source": [
        "df_ks_projects.head()"
      ]
    },
    {
      "cell_type": "code",
      "execution_count": 336,
      "metadata": {
        "colab": {
          "base_uri": "https://localhost:8080/"
        },
        "id": "vOS7Z4Zt1RRN",
        "outputId": "04fa9247-7ed7-44d1-d8f8-3aa73b133667"
      },
      "outputs": [
        {
          "data": {
            "text/plain": [
              "(378661, 15)"
            ]
          },
          "execution_count": 336,
          "metadata": {},
          "output_type": "execute_result"
        }
      ],
      "source": [
        "df_ks_projects.shape"
      ]
    },
    {
      "cell_type": "code",
      "execution_count": 337,
      "metadata": {
        "colab": {
          "base_uri": "https://localhost:8080/"
        },
        "id": "WohYHXP91V6h",
        "outputId": "bae647f7-12e4-4e28-871f-a424bb576fa3"
      },
      "outputs": [
        {
          "name": "stdout",
          "output_type": "stream",
          "text": [
            "<class 'pandas.core.frame.DataFrame'>\n",
            "RangeIndex: 378661 entries, 0 to 378660\n",
            "Data columns (total 15 columns):\n",
            " #   Column            Non-Null Count   Dtype  \n",
            "---  ------            --------------   -----  \n",
            " 0   ID                378661 non-null  int64  \n",
            " 1   name              378657 non-null  object \n",
            " 2   category          378661 non-null  object \n",
            " 3   main_category     378661 non-null  object \n",
            " 4   currency          378661 non-null  object \n",
            " 5   deadline          378661 non-null  object \n",
            " 6   goal              378661 non-null  float64\n",
            " 7   launched          378661 non-null  object \n",
            " 8   pledged           378661 non-null  float64\n",
            " 9   state             378661 non-null  object \n",
            " 10  backers           378661 non-null  int64  \n",
            " 11  country           378661 non-null  object \n",
            " 12  usd pledged       374864 non-null  float64\n",
            " 13  usd_pledged_real  378661 non-null  float64\n",
            " 14  usd_goal_real     378661 non-null  float64\n",
            "dtypes: float64(5), int64(2), object(8)\n",
            "memory usage: 43.3+ MB\n"
          ]
        }
      ],
      "source": [
        "df_ks_projects.info()"
      ]
    },
    {
      "cell_type": "markdown",
      "metadata": {
        "id": "aBrgohS6yUrI"
      },
      "source": [
        "## Data Cleaning"
      ]
    },
    {
      "cell_type": "markdown",
      "metadata": {},
      "source": [
        "### I. Change Data Types"
      ]
    },
    {
      "cell_type": "code",
      "execution_count": 338,
      "metadata": {
        "id": "Iu8ss_zW2G0N"
      },
      "outputs": [],
      "source": [
        "df = df_ks_projects.copy()"
      ]
    },
    {
      "cell_type": "markdown",
      "metadata": {},
      "source": [
        "Setelah kita cek type data dari masing-masing kolom, ada beberapa data yang masih belum sesuai dengan tipe datanya yang asli. Mari kita rubah dulu ke tipe data yang sesuai sebagai berikut:"
      ]
    },
    {
      "cell_type": "code",
      "execution_count": 339,
      "metadata": {},
      "outputs": [],
      "source": [
        "df['ID'] = df['ID'].astype(str)\n",
        "df['deadline'] = pd.to_datetime(df['deadline']).dt.date\n",
        "df['launched'] = pd.to_datetime(df['launched']).dt.date"
      ]
    },
    {
      "cell_type": "code",
      "execution_count": 340,
      "metadata": {},
      "outputs": [],
      "source": [
        "df.set_index('ID', inplace=True)"
      ]
    },
    {
      "cell_type": "code",
      "execution_count": 341,
      "metadata": {},
      "outputs": [
        {
          "data": {
            "text/html": [
              "<div>\n",
              "<style scoped>\n",
              "    .dataframe tbody tr th:only-of-type {\n",
              "        vertical-align: middle;\n",
              "    }\n",
              "\n",
              "    .dataframe tbody tr th {\n",
              "        vertical-align: top;\n",
              "    }\n",
              "\n",
              "    .dataframe thead th {\n",
              "        text-align: right;\n",
              "    }\n",
              "</style>\n",
              "<table border=\"1\" class=\"dataframe\">\n",
              "  <thead>\n",
              "    <tr style=\"text-align: right;\">\n",
              "      <th></th>\n",
              "      <th>name</th>\n",
              "      <th>category</th>\n",
              "      <th>main_category</th>\n",
              "      <th>currency</th>\n",
              "      <th>deadline</th>\n",
              "      <th>goal</th>\n",
              "      <th>launched</th>\n",
              "      <th>pledged</th>\n",
              "      <th>state</th>\n",
              "      <th>backers</th>\n",
              "      <th>country</th>\n",
              "      <th>usd pledged</th>\n",
              "      <th>usd_pledged_real</th>\n",
              "      <th>usd_goal_real</th>\n",
              "    </tr>\n",
              "    <tr>\n",
              "      <th>ID</th>\n",
              "      <th></th>\n",
              "      <th></th>\n",
              "      <th></th>\n",
              "      <th></th>\n",
              "      <th></th>\n",
              "      <th></th>\n",
              "      <th></th>\n",
              "      <th></th>\n",
              "      <th></th>\n",
              "      <th></th>\n",
              "      <th></th>\n",
              "      <th></th>\n",
              "      <th></th>\n",
              "      <th></th>\n",
              "    </tr>\n",
              "  </thead>\n",
              "  <tbody>\n",
              "    <tr>\n",
              "      <th>1610076616</th>\n",
              "      <td>The Adventures of Ife and Riff Raff</td>\n",
              "      <td>Animation</td>\n",
              "      <td>Film &amp; Video</td>\n",
              "      <td>USD</td>\n",
              "      <td>2018-02-01</td>\n",
              "      <td>20000.0</td>\n",
              "      <td>2018-01-02</td>\n",
              "      <td>0.0</td>\n",
              "      <td>live</td>\n",
              "      <td>0</td>\n",
              "      <td>US</td>\n",
              "      <td>0.0</td>\n",
              "      <td>0.0</td>\n",
              "      <td>20000.0</td>\n",
              "    </tr>\n",
              "    <tr>\n",
              "      <th>279884677</th>\n",
              "      <td>Islands in the Formless Void</td>\n",
              "      <td>Games</td>\n",
              "      <td>Games</td>\n",
              "      <td>USD</td>\n",
              "      <td>2018-02-01</td>\n",
              "      <td>26100.0</td>\n",
              "      <td>2018-01-02</td>\n",
              "      <td>35.0</td>\n",
              "      <td>live</td>\n",
              "      <td>1</td>\n",
              "      <td>US</td>\n",
              "      <td>35.0</td>\n",
              "      <td>35.0</td>\n",
              "      <td>26100.0</td>\n",
              "    </tr>\n",
              "    <tr>\n",
              "      <th>403418788</th>\n",
              "      <td>Color Pixel - Paint By Number (Build a #1 Rank...</td>\n",
              "      <td>Mobile Games</td>\n",
              "      <td>Games</td>\n",
              "      <td>USD</td>\n",
              "      <td>2018-02-01</td>\n",
              "      <td>500000.0</td>\n",
              "      <td>2018-01-02</td>\n",
              "      <td>0.0</td>\n",
              "      <td>live</td>\n",
              "      <td>0</td>\n",
              "      <td>US</td>\n",
              "      <td>0.0</td>\n",
              "      <td>0.0</td>\n",
              "      <td>500000.0</td>\n",
              "    </tr>\n",
              "    <tr>\n",
              "      <th>497046223</th>\n",
              "      <td>Children of the Apocalypse for Savage Worlds</td>\n",
              "      <td>Tabletop Games</td>\n",
              "      <td>Games</td>\n",
              "      <td>USD</td>\n",
              "      <td>2018-02-01</td>\n",
              "      <td>6500.0</td>\n",
              "      <td>2018-01-02</td>\n",
              "      <td>547.0</td>\n",
              "      <td>live</td>\n",
              "      <td>13</td>\n",
              "      <td>US</td>\n",
              "      <td>547.0</td>\n",
              "      <td>547.0</td>\n",
              "      <td>6500.0</td>\n",
              "    </tr>\n",
              "    <tr>\n",
              "      <th>2097698565</th>\n",
              "      <td>Trippy Art Shop Custom Shoes &amp; Art</td>\n",
              "      <td>Painting</td>\n",
              "      <td>Art</td>\n",
              "      <td>USD</td>\n",
              "      <td>2018-01-17</td>\n",
              "      <td>1000.0</td>\n",
              "      <td>2018-01-02</td>\n",
              "      <td>0.0</td>\n",
              "      <td>live</td>\n",
              "      <td>0</td>\n",
              "      <td>US</td>\n",
              "      <td>0.0</td>\n",
              "      <td>0.0</td>\n",
              "      <td>1000.0</td>\n",
              "    </tr>\n",
              "  </tbody>\n",
              "</table>\n",
              "</div>"
            ],
            "text/plain": [
              "                                                         name        category  \\\n",
              "ID                                                                              \n",
              "1610076616                The Adventures of Ife and Riff Raff       Animation   \n",
              "279884677                        Islands in the Formless Void           Games   \n",
              "403418788   Color Pixel - Paint By Number (Build a #1 Rank...    Mobile Games   \n",
              "497046223        Children of the Apocalypse for Savage Worlds  Tabletop Games   \n",
              "2097698565                 Trippy Art Shop Custom Shoes & Art        Painting   \n",
              "\n",
              "           main_category currency    deadline      goal    launched  pledged  \\\n",
              "ID                                                                             \n",
              "1610076616  Film & Video      USD  2018-02-01   20000.0  2018-01-02      0.0   \n",
              "279884677          Games      USD  2018-02-01   26100.0  2018-01-02     35.0   \n",
              "403418788          Games      USD  2018-02-01  500000.0  2018-01-02      0.0   \n",
              "497046223          Games      USD  2018-02-01    6500.0  2018-01-02    547.0   \n",
              "2097698565           Art      USD  2018-01-17    1000.0  2018-01-02      0.0   \n",
              "\n",
              "           state  backers country  usd pledged  usd_pledged_real  \\\n",
              "ID                                                                 \n",
              "1610076616  live        0      US          0.0               0.0   \n",
              "279884677   live        1      US         35.0              35.0   \n",
              "403418788   live        0      US          0.0               0.0   \n",
              "497046223   live       13      US        547.0             547.0   \n",
              "2097698565  live        0      US          0.0               0.0   \n",
              "\n",
              "            usd_goal_real  \n",
              "ID                         \n",
              "1610076616        20000.0  \n",
              "279884677         26100.0  \n",
              "403418788        500000.0  \n",
              "497046223          6500.0  \n",
              "2097698565         1000.0  "
            ]
          },
          "execution_count": 341,
          "metadata": {},
          "output_type": "execute_result"
        }
      ],
      "source": [
        "df = df.sort_values(by=\"launched\")\n",
        "df.tail()"
      ]
    },
    {
      "cell_type": "markdown",
      "metadata": {},
      "source": [
        "### II. Handling Missing Values"
      ]
    },
    {
      "cell_type": "markdown",
      "metadata": {},
      "source": [
        "Cek data missing values"
      ]
    },
    {
      "cell_type": "code",
      "execution_count": 342,
      "metadata": {},
      "outputs": [
        {
          "data": {
            "text/plain": [
              "name                   4\n",
              "category               0\n",
              "main_category          0\n",
              "currency               0\n",
              "deadline               0\n",
              "goal                   0\n",
              "launched               0\n",
              "pledged                0\n",
              "state                  0\n",
              "backers                0\n",
              "country                0\n",
              "usd pledged         3797\n",
              "usd_pledged_real       0\n",
              "usd_goal_real          0\n",
              "dtype: int64"
            ]
          },
          "execution_count": 342,
          "metadata": {},
          "output_type": "execute_result"
        }
      ],
      "source": [
        "df.isnull().sum()"
      ]
    },
    {
      "cell_type": "markdown",
      "metadata": {},
      "source": [
        "Handling missing values with input '-' and 0.0 in column 'name' and 'usd pledged' respectively "
      ]
    },
    {
      "cell_type": "code",
      "execution_count": 343,
      "metadata": {},
      "outputs": [],
      "source": [
        "df['name'].fillna('-', inplace=True)"
      ]
    },
    {
      "cell_type": "code",
      "execution_count": 344,
      "metadata": {},
      "outputs": [],
      "source": [
        "df['usd pledged'].fillna(0.0, inplace=True)"
      ]
    },
    {
      "cell_type": "code",
      "execution_count": 345,
      "metadata": {},
      "outputs": [
        {
          "data": {
            "text/plain": [
              "name                0\n",
              "category            0\n",
              "main_category       0\n",
              "currency            0\n",
              "deadline            0\n",
              "goal                0\n",
              "launched            0\n",
              "pledged             0\n",
              "state               0\n",
              "backers             0\n",
              "country             0\n",
              "usd pledged         0\n",
              "usd_pledged_real    0\n",
              "usd_goal_real       0\n",
              "dtype: int64"
            ]
          },
          "execution_count": 345,
          "metadata": {},
          "output_type": "execute_result"
        }
      ],
      "source": [
        "df.isnull().sum()"
      ]
    },
    {
      "cell_type": "markdown",
      "metadata": {
        "id": "xNAeXkRsyX8A"
      },
      "source": [
        "## Eksplorasi Data"
      ]
    },
    {
      "cell_type": "markdown",
      "metadata": {},
      "source": [
        "Pertama kita akan melihat status dari kickstarter crowdfunding sejak pertama di inisialisasi"
      ]
    },
    {
      "cell_type": "code",
      "execution_count": 346,
      "metadata": {
        "id": "6z5VCjvTyhLQ"
      },
      "outputs": [
        {
          "data": {
            "text/plain": [
              "array(['canceled', 'suspended', 'failed', 'successful', 'undefined',\n",
              "       'live'], dtype=object)"
            ]
          },
          "execution_count": 346,
          "metadata": {},
          "output_type": "execute_result"
        }
      ],
      "source": [
        "df['state'].unique()"
      ]
    },
    {
      "cell_type": "code",
      "execution_count": 347,
      "metadata": {},
      "outputs": [
        {
          "data": {
            "text/plain": [
              "<AxesSubplot:title={'center':'Status Crowdfunding'}, ylabel='state'>"
            ]
          },
          "execution_count": 347,
          "metadata": {},
          "output_type": "execute_result"
        },
        {
          "data": {
            "image/png": "[encoded data removed]",
            "text/plain": [
              "<Figure size 1152x576 with 1 Axes>"
            ]
          },
          "metadata": {},
          "output_type": "display_data"
        }
      ],
      "source": [
        "state = df['state'].value_counts()\n",
        "state.plot(kind='pie', figsize=[16, 8], autopct='%1.0f%%', title=\"Status Crowdfunding\")"
      ]
    },
    {
      "cell_type": "markdown",
      "metadata": {},
      "source": [
        "Dari pie chart dapat dilihat bahwa status kickstarter crowdfunding adalah 52% failed, 35% success, 10% canceled dan sisanya 3% terdiri dari supended live and undefined  "
      ]
    },
    {
      "cell_type": "code",
      "execution_count": 348,
      "metadata": {},
      "outputs": [
        {
          "data": {
            "text/plain": [
              "array(['US', 'CH', 'N,0\"', 'GB', 'CA', 'AU', 'NZ', 'NL', 'SE', 'DK', 'NO',\n",
              "       'IE', 'DE', 'FR', 'ES', 'IT', 'BE', 'AT', 'LU', 'SG', 'HK', 'MX',\n",
              "       'JP'], dtype=object)"
            ]
          },
          "execution_count": 348,
          "metadata": {},
          "output_type": "execute_result"
        }
      ],
      "source": [
        "df['country'].unique()"
      ]
    },
    {
      "cell_type": "code",
      "execution_count": 349,
      "metadata": {},
      "outputs": [],
      "source": [
        "df_country_success = df[(df['state']=='successful')]"
      ]
    },
    {
      "cell_type": "code",
      "execution_count": 350,
      "metadata": {},
      "outputs": [
        {
          "data": {
            "text/plain": [
              "(133956, 14)"
            ]
          },
          "execution_count": 350,
          "metadata": {},
          "output_type": "execute_result"
        }
      ],
      "source": [
        "df_country_success.shape"
      ]
    },
    {
      "cell_type": "code",
      "execution_count": 351,
      "metadata": {},
      "outputs": [
        {
          "data": {
            "text/plain": [
              "<AxesSubplot:title={'center':'Successful Crowdfunding based on country'}, ylabel='country'>"
            ]
          },
          "execution_count": 351,
          "metadata": {},
          "output_type": "execute_result"
        },
        {
          "data": {
            "image/png": "[encoded data removed]",
            "text/plain": [
              "<Figure size 1152x576 with 1 Axes>"
            ]
          },
          "metadata": {},
          "output_type": "display_data"
        }
      ],
      "source": [
        "country_success = df_country_success['country'].value_counts()\n",
        "country_success.plot(kind='pie', figsize=[16, 8], autopct='%1.0f%%', title=\"Successful Crowdfunding based on country\")"
      ]
    },
    {
      "cell_type": "markdown",
      "metadata": {},
      "source": [
        "Dari pie chart dapat dilihat bahwa kickstarter crowdfunding dengan status successful mayoritas adalah berasal dari negara US sebanyak 82% "
      ]
    },
    {
      "cell_type": "code",
      "execution_count": 352,
      "metadata": {},
      "outputs": [
        {
          "data": {
            "text/plain": [
              "<AxesSubplot:title={'center':'Successful Crowdfunding based on category'}, ylabel='main_category'>"
            ]
          },
          "execution_count": 352,
          "metadata": {},
          "output_type": "execute_result"
        },
        {
          "data": {
            "image/png": "[encoded data removed]",
            "text/plain": [
              "<Figure size 1152x576 with 1 Axes>"
            ]
          },
          "metadata": {},
          "output_type": "display_data"
        }
      ],
      "source": [
        "category_success = df_country_success['main_category'].value_counts()\n",
        "category_success.plot(kind='pie', figsize=[16, 8], autopct='%1.0f%%', title=\"Successful Crowdfunding based on category\")\n"
      ]
    },
    {
      "cell_type": "code",
      "execution_count": 353,
      "metadata": {},
      "outputs": [
        {
          "data": {
            "text/plain": [
              "(109299, 14)"
            ]
          },
          "execution_count": 353,
          "metadata": {},
          "output_type": "execute_result"
        }
      ],
      "source": [
        "df_US_successful = df[(df['state']=='successful') & (df['country']=='US')]\n",
        "df_US_successful.shape"
      ]
    },
    {
      "cell_type": "code",
      "execution_count": 354,
      "metadata": {},
      "outputs": [
        {
          "data": {
            "text/plain": [
              "<AxesSubplot:title={'center':'Successful Crowdfunding based on category in US'}, ylabel='main_category'>"
            ]
          },
          "execution_count": 354,
          "metadata": {},
          "output_type": "execute_result"
        },
        {
          "data": {
            "image/png": "[encoded data removed]",
            "text/plain": [
              "<Figure size 1152x576 with 1 Axes>"
            ]
          },
          "metadata": {},
          "output_type": "display_data"
        }
      ],
      "source": [
        "df_US_successful_category = df_US_successful['main_category'].value_counts()\n",
        "df_US_successful_category.plot(kind='pie', figsize=[16, 8], autopct='%1.0f%%', title=\"Successful Crowdfunding based on category in US\")"
      ]
    },
    {
      "cell_type": "code",
      "execution_count": 355,
      "metadata": {},
      "outputs": [
        {
          "name": "stderr",
          "output_type": "stream",
          "text": [
            "C:\\Users\\sivis\\AppData\\Local\\Temp/ipykernel_18092/2781851041.py:1: UserWarning: Boolean Series key will be reindexed to match DataFrame index.\n",
            "  df_top_category = df_US_successful[(df['main_category']=='Film & Video') | (df['main_category']=='Music')]\n"
          ]
        }
      ],
      "source": [
        "df_top_category = df_US_successful[(df['main_category']=='Film & Video') | (df['main_category']=='Music')]"
      ]
    },
    {
      "cell_type": "code",
      "execution_count": 356,
      "metadata": {},
      "outputs": [
        {
          "data": {
            "text/plain": [
              "(41500, 14)"
            ]
          },
          "execution_count": 356,
          "metadata": {},
          "output_type": "execute_result"
        }
      ],
      "source": [
        "df_top_category.shape"
      ]
    },
    {
      "cell_type": "markdown",
      "metadata": {
        "id": "4Ak9Y7jgyhxQ"
      },
      "source": [
        " ## Measure of Central Tendency"
      ]
    },
    {
      "cell_type": "markdown",
      "metadata": {},
      "source": [
        "A measure of central tendency is a single value that attempts to describe a set of data by identifying the central position within that set of data. As such, measures of central tendency are sometimes called measures of central location. They are also classed as summary statistics. The mean (often called the average) is most likely the measure of central tendency that you are most familiar with, but there are others, such as the median and the mode."
      ]
    },
    {
      "cell_type": "code",
      "execution_count": 357,
      "metadata": {},
      "outputs": [
        {
          "data": {
            "text/html": [
              "<div>\n",
              "<style scoped>\n",
              "    .dataframe tbody tr th:only-of-type {\n",
              "        vertical-align: middle;\n",
              "    }\n",
              "\n",
              "    .dataframe tbody tr th {\n",
              "        vertical-align: top;\n",
              "    }\n",
              "\n",
              "    .dataframe thead th {\n",
              "        text-align: right;\n",
              "    }\n",
              "</style>\n",
              "<table border=\"1\" class=\"dataframe\">\n",
              "  <thead>\n",
              "    <tr style=\"text-align: right;\">\n",
              "      <th></th>\n",
              "      <th>goal</th>\n",
              "      <th>pledged</th>\n",
              "      <th>backers</th>\n",
              "      <th>usd pledged</th>\n",
              "      <th>usd_pledged_real</th>\n",
              "      <th>usd_goal_real</th>\n",
              "    </tr>\n",
              "  </thead>\n",
              "  <tbody>\n",
              "    <tr>\n",
              "      <th>count</th>\n",
              "      <td>4.150000e+04</td>\n",
              "      <td>4.150000e+04</td>\n",
              "      <td>41500.000000</td>\n",
              "      <td>4.150000e+04</td>\n",
              "      <td>4.150000e+04</td>\n",
              "      <td>4.150000e+04</td>\n",
              "    </tr>\n",
              "    <tr>\n",
              "      <th>mean</th>\n",
              "      <td>8.715629e+03</td>\n",
              "      <td>1.100114e+04</td>\n",
              "      <td>130.782554</td>\n",
              "      <td>9.819453e+03</td>\n",
              "      <td>1.100114e+04</td>\n",
              "      <td>8.715629e+03</td>\n",
              "    </tr>\n",
              "    <tr>\n",
              "      <th>std</th>\n",
              "      <td>2.627264e+04</td>\n",
              "      <td>5.165063e+04</td>\n",
              "      <td>685.655890</td>\n",
              "      <td>5.051545e+04</td>\n",
              "      <td>5.165063e+04</td>\n",
              "      <td>2.627264e+04</td>\n",
              "    </tr>\n",
              "    <tr>\n",
              "      <th>min</th>\n",
              "      <td>1.000000e+00</td>\n",
              "      <td>1.000000e+00</td>\n",
              "      <td>1.000000</td>\n",
              "      <td>0.000000e+00</td>\n",
              "      <td>1.000000e+00</td>\n",
              "      <td>1.000000e+00</td>\n",
              "    </tr>\n",
              "    <tr>\n",
              "      <th>25%</th>\n",
              "      <td>1.625000e+03</td>\n",
              "      <td>2.071000e+03</td>\n",
              "      <td>31.000000</td>\n",
              "      <td>1.540000e+03</td>\n",
              "      <td>2.071000e+03</td>\n",
              "      <td>1.625000e+03</td>\n",
              "    </tr>\n",
              "    <tr>\n",
              "      <th>50%</th>\n",
              "      <td>4.000000e+03</td>\n",
              "      <td>4.948280e+03</td>\n",
              "      <td>61.000000</td>\n",
              "      <td>4.001000e+03</td>\n",
              "      <td>4.948280e+03</td>\n",
              "      <td>4.000000e+03</td>\n",
              "    </tr>\n",
              "    <tr>\n",
              "      <th>75%</th>\n",
              "      <td>9.997500e+03</td>\n",
              "      <td>1.041300e+04</td>\n",
              "      <td>118.000000</td>\n",
              "      <td>9.533955e+03</td>\n",
              "      <td>1.041300e+04</td>\n",
              "      <td>9.997500e+03</td>\n",
              "    </tr>\n",
              "    <tr>\n",
              "      <th>max</th>\n",
              "      <td>2.000000e+06</td>\n",
              "      <td>5.764229e+06</td>\n",
              "      <td>91585.000000</td>\n",
              "      <td>5.764229e+06</td>\n",
              "      <td>5.764229e+06</td>\n",
              "      <td>2.000000e+06</td>\n",
              "    </tr>\n",
              "  </tbody>\n",
              "</table>\n",
              "</div>"
            ],
            "text/plain": [
              "               goal       pledged       backers   usd pledged  \\\n",
              "count  4.150000e+04  4.150000e+04  41500.000000  4.150000e+04   \n",
              "mean   8.715629e+03  1.100114e+04    130.782554  9.819453e+03   \n",
              "std    2.627264e+04  5.165063e+04    685.655890  5.051545e+04   \n",
              "min    1.000000e+00  1.000000e+00      1.000000  0.000000e+00   \n",
              "25%    1.625000e+03  2.071000e+03     31.000000  1.540000e+03   \n",
              "50%    4.000000e+03  4.948280e+03     61.000000  4.001000e+03   \n",
              "75%    9.997500e+03  1.041300e+04    118.000000  9.533955e+03   \n",
              "max    2.000000e+06  5.764229e+06  91585.000000  5.764229e+06   \n",
              "\n",
              "       usd_pledged_real  usd_goal_real  \n",
              "count      4.150000e+04   4.150000e+04  \n",
              "mean       1.100114e+04   8.715629e+03  \n",
              "std        5.165063e+04   2.627264e+04  \n",
              "min        1.000000e+00   1.000000e+00  \n",
              "25%        2.071000e+03   1.625000e+03  \n",
              "50%        4.948280e+03   4.000000e+03  \n",
              "75%        1.041300e+04   9.997500e+03  \n",
              "max        5.764229e+06   2.000000e+06  "
            ]
          },
          "execution_count": 357,
          "metadata": {},
          "output_type": "execute_result"
        }
      ],
      "source": [
        "df_top_category.describe()"
      ]
    },
    {
      "cell_type": "markdown",
      "metadata": {},
      "source": [
        "Setelah melakukan eksplorasi data, data yang akan kita gunakan adalah df_top_category yaitu data yang udah di filter dengan beberapa ketentuan sebagai berikut:\n",
        "\n",
        "(state == 'successful' and country == 'US') and (main_category == 'Film & Video' or main_category == 'Music')"
      ]
    },
    {
      "cell_type": "markdown",
      "metadata": {},
      "source": [
        "### I. Mean"
      ]
    },
    {
      "cell_type": "markdown",
      "metadata": {},
      "source": [
        "Kita akan mencari mean dari kolom usd_goal_real, mean masing-masing untuk kategori 'Film & Video' dan 'Music'"
      ]
    },
    {
      "cell_type": "code",
      "execution_count": 358,
      "metadata": {},
      "outputs": [
        {
          "data": {
            "text/html": [
              "<div>\n",
              "<style scoped>\n",
              "    .dataframe tbody tr th:only-of-type {\n",
              "        vertical-align: middle;\n",
              "    }\n",
              "\n",
              "    .dataframe tbody tr th {\n",
              "        vertical-align: top;\n",
              "    }\n",
              "\n",
              "    .dataframe thead th {\n",
              "        text-align: right;\n",
              "    }\n",
              "</style>\n",
              "<table border=\"1\" class=\"dataframe\">\n",
              "  <thead>\n",
              "    <tr style=\"text-align: right;\">\n",
              "      <th></th>\n",
              "      <th>name</th>\n",
              "      <th>category</th>\n",
              "      <th>main_category</th>\n",
              "      <th>currency</th>\n",
              "      <th>deadline</th>\n",
              "      <th>goal</th>\n",
              "      <th>launched</th>\n",
              "      <th>pledged</th>\n",
              "      <th>state</th>\n",
              "      <th>backers</th>\n",
              "      <th>country</th>\n",
              "      <th>usd pledged</th>\n",
              "      <th>usd_pledged_real</th>\n",
              "      <th>usd_goal_real</th>\n",
              "    </tr>\n",
              "    <tr>\n",
              "      <th>ID</th>\n",
              "      <th></th>\n",
              "      <th></th>\n",
              "      <th></th>\n",
              "      <th></th>\n",
              "      <th></th>\n",
              "      <th></th>\n",
              "      <th></th>\n",
              "      <th></th>\n",
              "      <th></th>\n",
              "      <th></th>\n",
              "      <th></th>\n",
              "      <th></th>\n",
              "      <th></th>\n",
              "      <th></th>\n",
              "    </tr>\n",
              "  </thead>\n",
              "  <tbody>\n",
              "    <tr>\n",
              "      <th>1099226462</th>\n",
              "      <td>Logical Guess Pictures' 2nd Horror Movie!</td>\n",
              "      <td>Film &amp; Video</td>\n",
              "      <td>Film &amp; Video</td>\n",
              "      <td>USD</td>\n",
              "      <td>2009-06-06</td>\n",
              "      <td>500.0</td>\n",
              "      <td>2009-04-30</td>\n",
              "      <td>501.66</td>\n",
              "      <td>successful</td>\n",
              "      <td>22</td>\n",
              "      <td>US</td>\n",
              "      <td>501.66</td>\n",
              "      <td>501.66</td>\n",
              "      <td>500.0</td>\n",
              "    </tr>\n",
              "    <tr>\n",
              "      <th>405307432</th>\n",
              "      <td>Electronola - An electronic gumbo of New Orlea...</td>\n",
              "      <td>Electronic Music</td>\n",
              "      <td>Music</td>\n",
              "      <td>USD</td>\n",
              "      <td>2009-06-05</td>\n",
              "      <td>4000.0</td>\n",
              "      <td>2009-05-01</td>\n",
              "      <td>4100.60</td>\n",
              "      <td>successful</td>\n",
              "      <td>114</td>\n",
              "      <td>US</td>\n",
              "      <td>4100.60</td>\n",
              "      <td>4100.60</td>\n",
              "      <td>4000.0</td>\n",
              "    </tr>\n",
              "    <tr>\n",
              "      <th>2096107260</th>\n",
              "      <td>As The Dust Settles</td>\n",
              "      <td>Film &amp; Video</td>\n",
              "      <td>Film &amp; Video</td>\n",
              "      <td>USD</td>\n",
              "      <td>2009-06-02</td>\n",
              "      <td>200.0</td>\n",
              "      <td>2009-05-03</td>\n",
              "      <td>202.00</td>\n",
              "      <td>successful</td>\n",
              "      <td>7</td>\n",
              "      <td>US</td>\n",
              "      <td>202.00</td>\n",
              "      <td>202.00</td>\n",
              "      <td>200.0</td>\n",
              "    </tr>\n",
              "    <tr>\n",
              "      <th>1100844465</th>\n",
              "      <td>daily digest</td>\n",
              "      <td>Documentary</td>\n",
              "      <td>Film &amp; Video</td>\n",
              "      <td>USD</td>\n",
              "      <td>2009-06-01</td>\n",
              "      <td>700.0</td>\n",
              "      <td>2009-05-04</td>\n",
              "      <td>700.00</td>\n",
              "      <td>successful</td>\n",
              "      <td>14</td>\n",
              "      <td>US</td>\n",
              "      <td>700.00</td>\n",
              "      <td>700.00</td>\n",
              "      <td>700.0</td>\n",
              "    </tr>\n",
              "    <tr>\n",
              "      <th>585544140</th>\n",
              "      <td>Unbunny's \"Black Strawberries\" Limited-Edition LP</td>\n",
              "      <td>Indie Rock</td>\n",
              "      <td>Music</td>\n",
              "      <td>USD</td>\n",
              "      <td>2009-07-06</td>\n",
              "      <td>3500.0</td>\n",
              "      <td>2009-05-05</td>\n",
              "      <td>3690.00</td>\n",
              "      <td>successful</td>\n",
              "      <td>132</td>\n",
              "      <td>US</td>\n",
              "      <td>3690.00</td>\n",
              "      <td>3690.00</td>\n",
              "      <td>3500.0</td>\n",
              "    </tr>\n",
              "  </tbody>\n",
              "</table>\n",
              "</div>"
            ],
            "text/plain": [
              "                                                         name  \\\n",
              "ID                                                              \n",
              "1099226462          Logical Guess Pictures' 2nd Horror Movie!   \n",
              "405307432   Electronola - An electronic gumbo of New Orlea...   \n",
              "2096107260                                As The Dust Settles   \n",
              "1100844465                                       daily digest   \n",
              "585544140   Unbunny's \"Black Strawberries\" Limited-Edition LP   \n",
              "\n",
              "                    category main_category currency    deadline    goal  \\\n",
              "ID                                                                        \n",
              "1099226462      Film & Video  Film & Video      USD  2009-06-06   500.0   \n",
              "405307432   Electronic Music         Music      USD  2009-06-05  4000.0   \n",
              "2096107260      Film & Video  Film & Video      USD  2009-06-02   200.0   \n",
              "1100844465       Documentary  Film & Video      USD  2009-06-01   700.0   \n",
              "585544140         Indie Rock         Music      USD  2009-07-06  3500.0   \n",
              "\n",
              "              launched  pledged       state  backers country  usd pledged  \\\n",
              "ID                                                                          \n",
              "1099226462  2009-04-30   501.66  successful       22      US       501.66   \n",
              "405307432   2009-05-01  4100.60  successful      114      US      4100.60   \n",
              "2096107260  2009-05-03   202.00  successful        7      US       202.00   \n",
              "1100844465  2009-05-04   700.00  successful       14      US       700.00   \n",
              "585544140   2009-05-05  3690.00  successful      132      US      3690.00   \n",
              "\n",
              "            usd_pledged_real  usd_goal_real  \n",
              "ID                                           \n",
              "1099226462            501.66          500.0  \n",
              "405307432            4100.60         4000.0  \n",
              "2096107260            202.00          200.0  \n",
              "1100844465            700.00          700.0  \n",
              "585544140            3690.00         3500.0  "
            ]
          },
          "execution_count": 358,
          "metadata": {},
          "output_type": "execute_result"
        }
      ],
      "source": [
        "# check top 5 data\n",
        "df_top_category.head()"
      ]
    },
    {
      "cell_type": "code",
      "execution_count": 359,
      "metadata": {},
      "outputs": [
        {
          "name": "stdout",
          "output_type": "stream",
          "text": [
            "Rata-rata usd goal successful dari Film & Video di US:  11872\n",
            "----------------------------------------------------------------------------------------------------\n",
            "Rata-rata usd goal successful dari Music di US:  5841\n"
          ]
        },
        {
          "name": "stderr",
          "output_type": "stream",
          "text": [
            "C:\\Users\\sivis\\AppData\\Local\\Temp/ipykernel_18092/2052341.py:1: UserWarning: Boolean Series key will be reindexed to match DataFrame index.\n",
            "  usd_film_video = df_top_category[(df['main_category']=='Film & Video')]['usd_goal_real'].mean()\n",
            "C:\\Users\\sivis\\AppData\\Local\\Temp/ipykernel_18092/2052341.py:3: UserWarning: Boolean Series key will be reindexed to match DataFrame index.\n",
            "  usd_music = df_top_category[(df['main_category']=='Music')]['usd_goal_real'].mean()\n"
          ]
        }
      ],
      "source": [
        "usd_film_video = df_top_category[(df['main_category']=='Film & Video')]['usd_goal_real'].mean()\n",
        "\n",
        "usd_music = df_top_category[(df['main_category']=='Music')]['usd_goal_real'].mean()\n",
        "\n",
        "print('Rata-rata usd goal successful dari Film & Video di US: ', round(usd_film_video))\n",
        "print(\"-\"*100)\n",
        "print('Rata-rata usd goal successful dari Music di US: ', round(usd_music))"
      ]
    },
    {
      "cell_type": "markdown",
      "metadata": {},
      "source": [
        "### II. Median"
      ]
    },
    {
      "cell_type": "markdown",
      "metadata": {},
      "source": [
        "Untuk mencari median kita tidak perlu mengurutkan data mulai dari yang terkecil.\n",
        "\n",
        "Kita akan mencari median dari kolom usd_goal_real, median masing-masing untuk kategori 'Film & Video' dan 'Music'"
      ]
    },
    {
      "cell_type": "code",
      "execution_count": 360,
      "metadata": {},
      "outputs": [
        {
          "name": "stdout",
          "output_type": "stream",
          "text": [
            "Median usd goal successful dari Film & Video di US:  5000\n",
            "----------------------------------------------------------------------------------------------------\n",
            "Median usd goal successful dari Music di US:  3500\n"
          ]
        },
        {
          "name": "stderr",
          "output_type": "stream",
          "text": [
            "C:\\Users\\sivis\\AppData\\Local\\Temp/ipykernel_18092/1082822340.py:1: UserWarning: Boolean Series key will be reindexed to match DataFrame index.\n",
            "  usd_film_video_med = df_top_category[(df['main_category']=='Film & Video')]['usd_goal_real'].median()\n",
            "C:\\Users\\sivis\\AppData\\Local\\Temp/ipykernel_18092/1082822340.py:4: UserWarning: Boolean Series key will be reindexed to match DataFrame index.\n",
            "  usd_music_med = df_top_category[(df['main_category']=='Music')]['usd_goal_real'].median()\n"
          ]
        }
      ],
      "source": [
        "usd_film_video_med = df_top_category[(df['main_category']=='Film & Video')]['usd_goal_real'].median()\n",
        "\n",
        "\n",
        "usd_music_med = df_top_category[(df['main_category']=='Music')]['usd_goal_real'].median()\n",
        "\n",
        "print('Median usd goal successful dari Film & Video di US: ', round(usd_film_video_med))\n",
        "print(\"-\"*100)\n",
        "print('Median usd goal successful dari Music di US: ', round(usd_music_med))"
      ]
    },
    {
      "cell_type": "markdown",
      "metadata": {},
      "source": [
        "### III. Mode"
      ]
    },
    {
      "cell_type": "markdown",
      "metadata": {},
      "source": [
        "Kita akan mencari modus dari kolom main_category, data mana yang paling sering muncul antara 'Film & Video' dan 'Music'"
      ]
    },
    {
      "cell_type": "code",
      "execution_count": 361,
      "metadata": {},
      "outputs": [
        {
          "name": "stdout",
          "output_type": "stream",
          "text": [
            "Modus dari variabel main_category adalah di US: Music\n"
          ]
        }
      ],
      "source": [
        "print(\"Modus dari variabel main_category adalah di US:\", df_top_category['main_category'].mode().sum())"
      ]
    },
    {
      "cell_type": "code",
      "execution_count": 362,
      "metadata": {},
      "outputs": [
        {
          "data": {
            "text/plain": [
              "<AxesSubplot:title={'center':'Perbandingan Jumlah Film & Video dan Music'}>"
            ]
          },
          "execution_count": 362,
          "metadata": {},
          "output_type": "execute_result"
        },
        {
          "data": {
            "image/png": "[encoded data removed]",
            "text/plain": [
              "<Figure size 720x360 with 1 Axes>"
            ]
          },
          "metadata": {
            "needs_background": "light"
          },
          "output_type": "display_data"
        }
      ],
      "source": [
        "main_category = df_top_category['main_category'].value_counts()\n",
        "main_category.plot(kind='bar', color=['r', 'b'], figsize=[10, 5], title=\"Perbandingan Jumlah Film & Video dan Music\")"
      ]
    },
    {
      "cell_type": "code",
      "execution_count": 363,
      "metadata": {},
      "outputs": [
        {
          "name": "stdout",
          "output_type": "stream",
          "text": [
            "Jumlah data Film & Video di US: 19782\n",
            "----------------------------------------------------------------------------------------------------\n",
            "Jumlah data control Music di US: 21718\n"
          ]
        },
        {
          "name": "stderr",
          "output_type": "stream",
          "text": [
            "C:\\Users\\sivis\\AppData\\Local\\Temp/ipykernel_18092/372353659.py:1: UserWarning: Boolean Series key will be reindexed to match DataFrame index.\n",
            "  print('Jumlah data Film & Video di US:', df_top_category[(df['main_category']=='Film & Video')]['main_category'].count())\n",
            "C:\\Users\\sivis\\AppData\\Local\\Temp/ipykernel_18092/372353659.py:3: UserWarning: Boolean Series key will be reindexed to match DataFrame index.\n",
            "  print('Jumlah data control Music di US:', df_top_category[(df['main_category']=='Music')]['main_category'].count())\n"
          ]
        }
      ],
      "source": [
        "print('Jumlah data Film & Video di US:', df_top_category[(df['main_category']=='Film & Video')]['main_category'].count())\n",
        "print(\"-\"*100)\n",
        "print('Jumlah data control Music di US:', df_top_category[(df['main_category']=='Music')]['main_category'].count())"
      ]
    },
    {
      "cell_type": "markdown",
      "metadata": {
        "id": "a6EYV1YJyiBA"
      },
      "source": [
        "## Measure of Variance"
      ]
    },
    {
      "cell_type": "markdown",
      "metadata": {},
      "source": [
        "Calculate variance and standard deviation for all the numeric columns"
      ]
    },
    {
      "cell_type": "code",
      "execution_count": 364,
      "metadata": {},
      "outputs": [
        {
          "name": "stdout",
          "output_type": "stream",
          "text": [
            "Numeric columns Variance di US\n",
            "goal                6.902515e+08\n",
            "pledged             2.667788e+09\n",
            "backers             4.701240e+05\n",
            "usd pledged         2.551810e+09\n",
            "usd_pledged_real    2.667788e+09\n",
            "usd_goal_real       6.902515e+08\n",
            "dtype: float64\n",
            "\n",
            "Numeric columns Standard Deviation di US\n",
            "goal                26272.636915\n",
            "pledged             51650.630536\n",
            "backers               685.655890\n",
            "usd pledged         50515.446613\n",
            "usd_pledged_real    51650.630536\n",
            "usd_goal_real       26272.636915\n",
            "dtype: float64\n",
            "\n",
            "Numeric columns Range di US\n",
            "goal                1999999.00\n",
            "pledged             5764228.38\n",
            "backers               91584.00\n",
            "usd pledged         5764229.38\n",
            "usd_pledged_real    5764228.38\n",
            "usd_goal_real       1999999.00\n",
            "dtype: float64\n"
          ]
        }
      ],
      "source": [
        "# Variance di US\n",
        "print(\"Numeric columns Variance di US\")\n",
        "print(df_top_category.var())\n",
        "print(\"\")\n",
        "# Standard deviation di US\n",
        "print(\"Numeric columns Standard Deviation di US\")\n",
        "print(df_top_category.std())\n",
        "print(\"\")\n",
        "#Range di US\n",
        "num_columns = df_top_category.describe().columns\n",
        "print(\"Numeric columns Range di US\")\n",
        "print(df_top_category[num_columns].max()-df_top_category[num_columns].min())"
      ]
    },
    {
      "cell_type": "markdown",
      "metadata": {
        "id": "UCJ3hkGFyq7s"
      },
      "source": [
        "## Hypothesis Testing"
      ]
    },
    {
      "cell_type": "markdown",
      "metadata": {},
      "source": [
        "### One Sample Two Tailed"
      ]
    },
    {
      "cell_type": "markdown",
      "metadata": {},
      "source": [
        "Perusahaan Kickstarter crowdfunding ingin meneliti keberhasilan crowdfunding di bidang Film & Video. Perusahaan mengklaim bahwa rata-rata goal secara keseluruhan dengan status sukses yang didapatkan dlm USD setara atau tidak berbeda secara signifikan dengan rata-rata goal dengan status sukses yang didapatkan dari dua negara dengan jumlah goal terbesar yaitu US dan GB. \n",
        "Sample dari 20000 goal dalam usd dari data keseluruhan akan digunakan untuk mengkalim hipotesis tersebut dengan significant level 0.05.\n",
        "Rata-rata goal dengan status sukses yang didapatkan dari dua negara dengan jumlah goal terbesar yaitu US dan GB adalah berkisar antara $11,333.\n",
        "\n",
        "Our hypothesis on this case:\n",
        "\n",
        "**H0: μ =\\$11,333**\n",
        "\n",
        "**H1: μ != \\$11,333**"
      ]
    },
    {
      "cell_type": "code",
      "execution_count": 398,
      "metadata": {},
      "outputs": [
        {
          "name": "stdout",
          "output_type": "stream",
          "text": [
            "Rata-rata usd goal keseluruhan Film & Video: $ 11145\n"
          ]
        }
      ],
      "source": [
        "df_success_film_video = df[(df['state']=='successful') & (df['main_category']=='Film & Video')]\n",
        "\n",
        "print(\"Rata-rata usd goal keseluruhan Film & Video: $\",round(df_success_film_video['usd_goal_real'].mean()))"
      ]
    },
    {
      "cell_type": "code",
      "execution_count": 399,
      "metadata": {},
      "outputs": [
        {
          "name": "stdout",
          "output_type": "stream",
          "text": [
            "Rata-rata usd goal US dan GB Film & Video: $ 11333\n"
          ]
        }
      ],
      "source": [
        "us_gb_film_video = df_success_film_video[(df_success_film_video['country']=='US') | (df_success_film_video['country']=='GB')]\n",
        "\n",
        "print(\"Rata-rata usd goal US dan GB Film & Video: $\",round(us_gb_film_video['usd_goal_real'].mean()))"
      ]
    },
    {
      "cell_type": "code",
      "execution_count": 400,
      "metadata": {},
      "outputs": [
        {
          "name": "stdout",
          "output_type": "stream",
          "text": [
            "P-value: 0.3975356143607903\n",
            "t-statistics: -0.8460460699182901\n"
          ]
        }
      ],
      "source": [
        "t_stat,p_val = stats.ttest_1samp(df_success_film_video['usd_goal_real'], 11333)\n",
        "print('P-value:',p_val) #The p-value divided by 2 since the output is two-sided p-value\n",
        "print('t-statistics:',t_stat)"
      ]
    },
    {
      "cell_type": "code",
      "execution_count": 401,
      "metadata": {},
      "outputs": [
        {
          "name": "stderr",
          "output_type": "stream",
          "text": [
            "C:\\Users\\sivis\\anaconda3\\lib\\site-packages\\seaborn\\distributions.py:2557: FutureWarning: `distplot` is a deprecated function and will be removed in a future version. Please adapt your code to use either `displot` (a figure-level function with similar flexibility) or `histplot` (an axes-level function for histograms).\n",
            "  warnings.warn(msg, FutureWarning)\n"
          ]
        },
        {
          "data": {
            "text/plain": [
              "<matplotlib.legend.Legend at 0x23d0f53ffd0>"
            ]
          },
          "execution_count": 401,
          "metadata": {},
          "output_type": "execute_result"
        },
        {
          "data": {
            "image/png": "[encoded data removed]",
            "text/plain": [
              "<Figure size 1152x360 with 1 Axes>"
            ]
          },
          "metadata": {
            "needs_background": "light"
          },
          "output_type": "display_data"
        }
      ],
      "source": [
        "df_success_film_video_pop = np.random.normal(df_success_film_video['usd_goal_real'].mean(), df_success_film_video['usd_goal_real'].std(), 20000)\n",
        "\n",
        "ci = stats.norm.interval(0.95, df_success_film_video['usd_goal_real'].mean(),df_success_film_video['usd_goal_real'].std())\n",
        "\n",
        "plt.figure(figsize=(16,5))\n",
        "sns.distplot(df_success_film_video_pop, label='Daily Income (Population)', color='blue')\n",
        "plt.axvline(df_success_film_video['usd_goal_real'].mean(), color='red', linewidth=2, label='Daily Income (Mean)')\n",
        "\n",
        "plt.axvline(ci[1], color='green', linestyle='dashed', linewidth=2, label='confidence threshold of 95%')\n",
        "plt.axvline(ci[0], color='green', linestyle='dashed', linewidth=2, label='confidence threshold of 95%')\n",
        "\n",
        "plt.axvline(df_success_film_video_pop.mean() + t_stat*df_success_film_video_pop.std(), color='black', linestyle='dashed', linewidth=2, label = 'Alternative Hypothesis')\n",
        "plt.axvline(df_success_film_video_pop.mean() - t_stat*df_success_film_video_pop.std(), color='black', linestyle='dashed', linewidth=2)\n",
        "plt.legend()"
      ]
    },
    {
      "cell_type": "markdown",
      "metadata": {
        "id": "6UGj9IZuy6sn"
      },
      "source": [
        "## Pengambilan Kesimpulan"
      ]
    },
    {
      "cell_type": "markdown",
      "metadata": {},
      "source": [
        "Karena p-value lebih besar dari significant level 0.05, maka kita tidak bisa menolak null hipotesis (H0: diterima) yang artinya bahwa rata-rata goal secara keseluruhan dengan status sukses yang didapatkan dlm USD setara atau tidak berbeda secara signifikan dengan rata-rata goal dengan status sukses yang didapatkan dari dua negara dengan jumlah goal terbesar yaitu US dan GB. Dengan kata lain dapat disimpulkan bahwa crowdfunding untuk industri Film dan Video di US dan GB memiliki dampak yang cukup signifikan untuk ukuran keberhasilan crowdfunding di industri Film & Video secara keseluruhan."
      ]
    }
  ],
  "metadata": {
    "colab": {
      "collapsed_sections": [],
      "name": "h8dsft_P0W3.ipynb",
      "provenance": []
    },
    "kernelspec": {
      "display_name": "Python 3",
      "name": "python3"
    },
    "language_info": {
      "codemirror_mode": {
        "name": "ipython",
        "version": 3
      },
      "file_extension": ".py",
      "mimetype": "text/x-python",
      "name": "python",
      "nbconvert_exporter": "python",
      "pygments_lexer": "ipython3",
      "version": "3.8.8"
    }
  },
  "nbformat": 4,
  "nbformat_minor": 0
}
