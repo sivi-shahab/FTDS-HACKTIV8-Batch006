{
  "cells": [
    {
      "cell_type": "markdown",
      "metadata": {
        "id": "EYY-ZkXXxTCm"
      },
      "source": [
        "## Perkenalan"
      ]
    },
    {
      "cell_type": "markdown",
      "metadata": {
        "id": "PDklb-5nxWXK"
      },
      "source": [
        "Nama: Sivi Almanaf Ali Shahab\n",
        "\n",
        "Batch: 006"
      ]
    },
    {
      "cell_type": "markdown",
      "metadata": {
        "id": "ArB0n1l01lX1"
      },
      "source": [
        "## Kickstarter Projects\n",
        "\n",
        "#### Context\n",
        "I'm a crowdfunding enthusiast and i'm watching kickstarter since its early days. Right now I just collect data and the only app i've made is this twitter bot which tweet any project reaching some milestone: @bloomwatcher . I have a lot of other ideas, but sadly not enough time to develop them… But I hope you can!\n",
        "\n",
        "#### Content\n",
        "\n",
        "You'll find most useful data for project analysis. Columns are self explanatory except:\n",
        "\n",
        "usd_pledged: conversion in US dollars of the pledged column (conversion done by kickstarter).\n",
        "\n",
        "usd pledge real: conversion in US dollars of the pledged column (conversion from Fixer.io API).\n",
        "\n",
        "usd goal real: conversion in US dollars of the goal column (conversion from Fixer.io API).\n",
        "\n",
        "#### Acknowledgements\n",
        "\n",
        "Data are collected from Kickstarter Platform\n",
        "\n",
        "usd conversion (usdpledgedreal and usdgoalreal columns) were generated from convert ks pledges to usd script done by tonyplaysguitar"
      ]
    },
    {
      "cell_type": "markdown",
      "metadata": {
        "id": "tsm-wwj6xf9l"
      },
      "source": [
        "## Import Library"
      ]
    },
    {
      "cell_type": "markdown",
      "metadata": {
        "id": "CqyP5kxA0vR9"
      },
      "source": [
        "Before starting, you need to have the opendatasets library installed in your system.\n"
      ]
    },
    {
      "cell_type": "code",
      "execution_count": 1,
      "metadata": {
        "id": "U3V86-nU0JCy"
      },
      "outputs": [],
      "source": [
        "!pip install opendatasets --q"
      ]
    },
    {
      "cell_type": "code",
      "execution_count": 2,
      "metadata": {
        "id": "097iW5BNxCOE"
      },
      "outputs": [],
      "source": [
        "import pandas as pd\n",
        "import numpy as np\n",
        "import scipy.stats as stats\n",
        "import opendatasets as od\n",
        "import matplotlib.pyplot as plt\n",
        "import seaborn as sns"
      ]
    },
    {
      "cell_type": "markdown",
      "metadata": {
        "id": "XfxjPSAiyQtx"
      },
      "source": [
        "## Data Loading"
      ]
    },
    {
      "cell_type": "markdown",
      "metadata": {
        "id": "Xmr5R4As02fR"
      },
      "source": [
        "The process to Download is as follows:"
      ]
    },
    {
      "cell_type": "code",
      "execution_count": 3,
      "metadata": {
        "id": "CcbEb79F0QEe"
      },
      "outputs": [],
      "source": [
        "dataset_url = 'https://www.kaggle.com/kemical/kickstarter-projects?select=ks-projects-201801.csv'"
      ]
    },
    {
      "cell_type": "markdown",
      "metadata": {
        "id": "k3FTd4TIztlW"
      },
      "source": [
        "The dataset can now be downloaded using od.download. When you execute od.download, you will be asked to provide your Kaggle username and API key. Follow these instructions to create an API key: http://bit.ly/kaggle-creds"
      ]
    },
    {
      "cell_type": "code",
      "execution_count": 4,
      "metadata": {
        "colab": {
          "base_uri": "https://localhost:8080/"
        },
        "id": "FUkB8a0S0Yrq",
        "outputId": "7b4909de-9e85-41d2-9960-14a53e4fe673"
      },
      "outputs": [
        {
          "output_type": "stream",
          "name": "stdout",
          "text": [
            "Please provide your Kaggle credentials to download this dataset. Learn more: http://bit.ly/kaggle-creds\n",
            "Your Kaggle username: sivialmanafalishahab\n",
            "Your Kaggle Key: ··········\n",
            "Downloading kickstarter-projects.zip to ./kickstarter-projects\n"
          ]
        },
        {
          "output_type": "stream",
          "name": "stderr",
          "text": [
            "100%|██████████| 36.8M/36.8M [00:00<00:00, 189MB/s]\n"
          ]
        },
        {
          "output_type": "stream",
          "name": "stdout",
          "text": [
            "\n"
          ]
        }
      ],
      "source": [
        "od.download(dataset_url)"
      ]
    },
    {
      "cell_type": "code",
      "execution_count": 5,
      "metadata": {
        "id": "86jqKBwbz1vv"
      },
      "outputs": [],
      "source": [
        "df_ks_projects = pd.read_csv('./kickstarter-projects/ks-projects-201801.csv')"
      ]
    },
    {
      "cell_type": "code",
      "execution_count": 6,
      "metadata": {
        "colab": {
          "base_uri": "https://localhost:8080/",
          "height": 206
        },
        "id": "DK2XEU4a1Hq6",
        "outputId": "d8070078-c5d8-4259-edad-dd33ecd6ab0a"
      },
      "outputs": [
        {
          "output_type": "execute_result",
          "data": {
            "text/html": [
              "<div>\n",
              "<style scoped>\n",
              "    .dataframe tbody tr th:only-of-type {\n",
              "        vertical-align: middle;\n",
              "    }\n",
              "\n",
              "    .dataframe tbody tr th {\n",
              "        vertical-align: top;\n",
              "    }\n",
              "\n",
              "    .dataframe thead th {\n",
              "        text-align: right;\n",
              "    }\n",
              "</style>\n",
              "<table border=\"1\" class=\"dataframe\">\n",
              "  <thead>\n",
              "    <tr style=\"text-align: right;\">\n",
              "      <th></th>\n",
              "      <th>ID</th>\n",
              "      <th>name</th>\n",
              "      <th>category</th>\n",
              "      <th>main_category</th>\n",
              "      <th>currency</th>\n",
              "      <th>deadline</th>\n",
              "      <th>goal</th>\n",
              "      <th>launched</th>\n",
              "      <th>pledged</th>\n",
              "      <th>state</th>\n",
              "      <th>backers</th>\n",
              "      <th>country</th>\n",
              "      <th>usd pledged</th>\n",
              "      <th>usd_pledged_real</th>\n",
              "      <th>usd_goal_real</th>\n",
              "    </tr>\n",
              "  </thead>\n",
              "  <tbody>\n",
              "    <tr>\n",
              "      <th>0</th>\n",
              "      <td>1000002330</td>\n",
              "      <td>The Songs of Adelaide &amp; Abullah</td>\n",
              "      <td>Poetry</td>\n",
              "      <td>Publishing</td>\n",
              "      <td>GBP</td>\n",
              "      <td>2015-10-09</td>\n",
              "      <td>1000.0</td>\n",
              "      <td>2015-08-11 12:12:28</td>\n",
              "      <td>0.0</td>\n",
              "      <td>failed</td>\n",
              "      <td>0</td>\n",
              "      <td>GB</td>\n",
              "      <td>0.0</td>\n",
              "      <td>0.0</td>\n",
              "      <td>1533.95</td>\n",
              "    </tr>\n",
              "    <tr>\n",
              "      <th>1</th>\n",
              "      <td>1000003930</td>\n",
              "      <td>Greeting From Earth: ZGAC Arts Capsule For ET</td>\n",
              "      <td>Narrative Film</td>\n",
              "      <td>Film &amp; Video</td>\n",
              "      <td>USD</td>\n",
              "      <td>2017-11-01</td>\n",
              "      <td>30000.0</td>\n",
              "      <td>2017-09-02 04:43:57</td>\n",
              "      <td>2421.0</td>\n",
              "      <td>failed</td>\n",
              "      <td>15</td>\n",
              "      <td>US</td>\n",
              "      <td>100.0</td>\n",
              "      <td>2421.0</td>\n",
              "      <td>30000.00</td>\n",
              "    </tr>\n",
              "    <tr>\n",
              "      <th>2</th>\n",
              "      <td>1000004038</td>\n",
              "      <td>Where is Hank?</td>\n",
              "      <td>Narrative Film</td>\n",
              "      <td>Film &amp; Video</td>\n",
              "      <td>USD</td>\n",
              "      <td>2013-02-26</td>\n",
              "      <td>45000.0</td>\n",
              "      <td>2013-01-12 00:20:50</td>\n",
              "      <td>220.0</td>\n",
              "      <td>failed</td>\n",
              "      <td>3</td>\n",
              "      <td>US</td>\n",
              "      <td>220.0</td>\n",
              "      <td>220.0</td>\n",
              "      <td>45000.00</td>\n",
              "    </tr>\n",
              "    <tr>\n",
              "      <th>3</th>\n",
              "      <td>1000007540</td>\n",
              "      <td>ToshiCapital Rekordz Needs Help to Complete Album</td>\n",
              "      <td>Music</td>\n",
              "      <td>Music</td>\n",
              "      <td>USD</td>\n",
              "      <td>2012-04-16</td>\n",
              "      <td>5000.0</td>\n",
              "      <td>2012-03-17 03:24:11</td>\n",
              "      <td>1.0</td>\n",
              "      <td>failed</td>\n",
              "      <td>1</td>\n",
              "      <td>US</td>\n",
              "      <td>1.0</td>\n",
              "      <td>1.0</td>\n",
              "      <td>5000.00</td>\n",
              "    </tr>\n",
              "    <tr>\n",
              "      <th>4</th>\n",
              "      <td>1000011046</td>\n",
              "      <td>Community Film Project: The Art of Neighborhoo...</td>\n",
              "      <td>Film &amp; Video</td>\n",
              "      <td>Film &amp; Video</td>\n",
              "      <td>USD</td>\n",
              "      <td>2015-08-29</td>\n",
              "      <td>19500.0</td>\n",
              "      <td>2015-07-04 08:35:03</td>\n",
              "      <td>1283.0</td>\n",
              "      <td>canceled</td>\n",
              "      <td>14</td>\n",
              "      <td>US</td>\n",
              "      <td>1283.0</td>\n",
              "      <td>1283.0</td>\n",
              "      <td>19500.00</td>\n",
              "    </tr>\n",
              "  </tbody>\n",
              "</table>\n",
              "</div>"
            ],
            "text/plain": [
              "           ID  ... usd_goal_real\n",
              "0  1000002330  ...       1533.95\n",
              "1  1000003930  ...      30000.00\n",
              "2  1000004038  ...      45000.00\n",
              "3  1000007540  ...       5000.00\n",
              "4  1000011046  ...      19500.00\n",
              "\n",
              "[5 rows x 15 columns]"
            ]
          },
          "metadata": {},
          "execution_count": 6
        }
      ],
      "source": [
        "df_ks_projects.head()"
      ]
    },
    {
      "cell_type": "code",
      "execution_count": 7,
      "metadata": {
        "colab": {
          "base_uri": "https://localhost:8080/"
        },
        "id": "vOS7Z4Zt1RRN",
        "outputId": "0f818ffd-5f9c-4a0a-a3c7-4ff1f5c3b7bc"
      },
      "outputs": [
        {
          "output_type": "execute_result",
          "data": {
            "text/plain": [
              "(378661, 15)"
            ]
          },
          "metadata": {},
          "execution_count": 7
        }
      ],
      "source": [
        "# Cek dimensi dari data\n",
        "df_ks_projects.shape"
      ]
    },
    {
      "cell_type": "code",
      "execution_count": 8,
      "metadata": {
        "colab": {
          "base_uri": "https://localhost:8080/"
        },
        "id": "WohYHXP91V6h",
        "outputId": "276931e8-529d-42bf-8915-d198c528fadc"
      },
      "outputs": [
        {
          "output_type": "stream",
          "name": "stdout",
          "text": [
            "<class 'pandas.core.frame.DataFrame'>\n",
            "RangeIndex: 378661 entries, 0 to 378660\n",
            "Data columns (total 15 columns):\n",
            " #   Column            Non-Null Count   Dtype  \n",
            "---  ------            --------------   -----  \n",
            " 0   ID                378661 non-null  int64  \n",
            " 1   name              378657 non-null  object \n",
            " 2   category          378661 non-null  object \n",
            " 3   main_category     378661 non-null  object \n",
            " 4   currency          378661 non-null  object \n",
            " 5   deadline          378661 non-null  object \n",
            " 6   goal              378661 non-null  float64\n",
            " 7   launched          378661 non-null  object \n",
            " 8   pledged           378661 non-null  float64\n",
            " 9   state             378661 non-null  object \n",
            " 10  backers           378661 non-null  int64  \n",
            " 11  country           378661 non-null  object \n",
            " 12  usd pledged       374864 non-null  float64\n",
            " 13  usd_pledged_real  378661 non-null  float64\n",
            " 14  usd_goal_real     378661 non-null  float64\n",
            "dtypes: float64(5), int64(2), object(8)\n",
            "memory usage: 43.3+ MB\n"
          ]
        }
      ],
      "source": [
        "# Cek tipe data dari atribut\n",
        "df_ks_projects.info()"
      ]
    },
    {
      "cell_type": "markdown",
      "metadata": {
        "id": "aBrgohS6yUrI"
      },
      "source": [
        "## Data Cleaning"
      ]
    },
    {
      "cell_type": "markdown",
      "metadata": {
        "id": "uNFiBT3JZMMa"
      },
      "source": [
        "### I. Change Data Types"
      ]
    },
    {
      "cell_type": "code",
      "execution_count": 9,
      "metadata": {
        "id": "Iu8ss_zW2G0N"
      },
      "outputs": [],
      "source": [
        "# copy data untuk selanjutnya dilakukan data cleaning\n",
        "df = df_ks_projects.copy()"
      ]
    },
    {
      "cell_type": "markdown",
      "metadata": {
        "id": "Y8UT_nXTZMMb"
      },
      "source": [
        "Setelah kita cek type data dari masing-masing kolom, ada beberapa data yang masih belum sesuai dengan tipe datanya yang asli. Mari kita rubah dulu ke tipe data yang sesuai sebagai berikut:"
      ]
    },
    {
      "cell_type": "code",
      "execution_count": 10,
      "metadata": {
        "id": "kE0cjwFpZMMb"
      },
      "outputs": [],
      "source": [
        "df['ID'] = df['ID'].astype(str)\n",
        "df['deadline'] = pd.to_datetime(df['deadline']).dt.date\n",
        "df['launched'] = pd.to_datetime(df['launched']).dt.date"
      ]
    },
    {
      "cell_type": "code",
      "execution_count": 11,
      "metadata": {
        "id": "tbQbB1OFZMMc"
      },
      "outputs": [],
      "source": [
        "df.set_index('ID', inplace=True)"
      ]
    },
    {
      "cell_type": "code",
      "execution_count": 12,
      "metadata": {
        "colab": {
          "base_uri": "https://localhost:8080/",
          "height": 238
        },
        "id": "9Lbl18r0ZMMc",
        "outputId": "8db1d530-bf26-48f1-b88b-8e84d8fa6c6d"
      },
      "outputs": [
        {
          "output_type": "execute_result",
          "data": {
            "text/html": [
              "<div>\n",
              "<style scoped>\n",
              "    .dataframe tbody tr th:only-of-type {\n",
              "        vertical-align: middle;\n",
              "    }\n",
              "\n",
              "    .dataframe tbody tr th {\n",
              "        vertical-align: top;\n",
              "    }\n",
              "\n",
              "    .dataframe thead th {\n",
              "        text-align: right;\n",
              "    }\n",
              "</style>\n",
              "<table border=\"1\" class=\"dataframe\">\n",
              "  <thead>\n",
              "    <tr style=\"text-align: right;\">\n",
              "      <th></th>\n",
              "      <th>name</th>\n",
              "      <th>category</th>\n",
              "      <th>main_category</th>\n",
              "      <th>currency</th>\n",
              "      <th>deadline</th>\n",
              "      <th>goal</th>\n",
              "      <th>launched</th>\n",
              "      <th>pledged</th>\n",
              "      <th>state</th>\n",
              "      <th>backers</th>\n",
              "      <th>country</th>\n",
              "      <th>usd pledged</th>\n",
              "      <th>usd_pledged_real</th>\n",
              "      <th>usd_goal_real</th>\n",
              "    </tr>\n",
              "    <tr>\n",
              "      <th>ID</th>\n",
              "      <th></th>\n",
              "      <th></th>\n",
              "      <th></th>\n",
              "      <th></th>\n",
              "      <th></th>\n",
              "      <th></th>\n",
              "      <th></th>\n",
              "      <th></th>\n",
              "      <th></th>\n",
              "      <th></th>\n",
              "      <th></th>\n",
              "      <th></th>\n",
              "      <th></th>\n",
              "      <th></th>\n",
              "    </tr>\n",
              "  </thead>\n",
              "  <tbody>\n",
              "    <tr>\n",
              "      <th>1610076616</th>\n",
              "      <td>The Adventures of Ife and Riff Raff</td>\n",
              "      <td>Animation</td>\n",
              "      <td>Film &amp; Video</td>\n",
              "      <td>USD</td>\n",
              "      <td>2018-02-01</td>\n",
              "      <td>20000.0</td>\n",
              "      <td>2018-01-02</td>\n",
              "      <td>0.0</td>\n",
              "      <td>live</td>\n",
              "      <td>0</td>\n",
              "      <td>US</td>\n",
              "      <td>0.0</td>\n",
              "      <td>0.0</td>\n",
              "      <td>20000.0</td>\n",
              "    </tr>\n",
              "    <tr>\n",
              "      <th>279884677</th>\n",
              "      <td>Islands in the Formless Void</td>\n",
              "      <td>Games</td>\n",
              "      <td>Games</td>\n",
              "      <td>USD</td>\n",
              "      <td>2018-02-01</td>\n",
              "      <td>26100.0</td>\n",
              "      <td>2018-01-02</td>\n",
              "      <td>35.0</td>\n",
              "      <td>live</td>\n",
              "      <td>1</td>\n",
              "      <td>US</td>\n",
              "      <td>35.0</td>\n",
              "      <td>35.0</td>\n",
              "      <td>26100.0</td>\n",
              "    </tr>\n",
              "    <tr>\n",
              "      <th>403418788</th>\n",
              "      <td>Color Pixel - Paint By Number (Build a #1 Rank...</td>\n",
              "      <td>Mobile Games</td>\n",
              "      <td>Games</td>\n",
              "      <td>USD</td>\n",
              "      <td>2018-02-01</td>\n",
              "      <td>500000.0</td>\n",
              "      <td>2018-01-02</td>\n",
              "      <td>0.0</td>\n",
              "      <td>live</td>\n",
              "      <td>0</td>\n",
              "      <td>US</td>\n",
              "      <td>0.0</td>\n",
              "      <td>0.0</td>\n",
              "      <td>500000.0</td>\n",
              "    </tr>\n",
              "    <tr>\n",
              "      <th>497046223</th>\n",
              "      <td>Children of the Apocalypse for Savage Worlds</td>\n",
              "      <td>Tabletop Games</td>\n",
              "      <td>Games</td>\n",
              "      <td>USD</td>\n",
              "      <td>2018-02-01</td>\n",
              "      <td>6500.0</td>\n",
              "      <td>2018-01-02</td>\n",
              "      <td>547.0</td>\n",
              "      <td>live</td>\n",
              "      <td>13</td>\n",
              "      <td>US</td>\n",
              "      <td>547.0</td>\n",
              "      <td>547.0</td>\n",
              "      <td>6500.0</td>\n",
              "    </tr>\n",
              "    <tr>\n",
              "      <th>2097698565</th>\n",
              "      <td>Trippy Art Shop Custom Shoes &amp; Art</td>\n",
              "      <td>Painting</td>\n",
              "      <td>Art</td>\n",
              "      <td>USD</td>\n",
              "      <td>2018-01-17</td>\n",
              "      <td>1000.0</td>\n",
              "      <td>2018-01-02</td>\n",
              "      <td>0.0</td>\n",
              "      <td>live</td>\n",
              "      <td>0</td>\n",
              "      <td>US</td>\n",
              "      <td>0.0</td>\n",
              "      <td>0.0</td>\n",
              "      <td>1000.0</td>\n",
              "    </tr>\n",
              "  </tbody>\n",
              "</table>\n",
              "</div>"
            ],
            "text/plain": [
              "                                                         name  ... usd_goal_real\n",
              "ID                                                             ...              \n",
              "1610076616                The Adventures of Ife and Riff Raff  ...       20000.0\n",
              "279884677                        Islands in the Formless Void  ...       26100.0\n",
              "403418788   Color Pixel - Paint By Number (Build a #1 Rank...  ...      500000.0\n",
              "497046223        Children of the Apocalypse for Savage Worlds  ...        6500.0\n",
              "2097698565                 Trippy Art Shop Custom Shoes & Art  ...        1000.0\n",
              "\n",
              "[5 rows x 14 columns]"
            ]
          },
          "metadata": {},
          "execution_count": 12
        }
      ],
      "source": [
        "df = df.sort_values(by=\"launched\")\n",
        "df.tail()"
      ]
    },
    {
      "cell_type": "markdown",
      "metadata": {
        "id": "eX1sbIHjZMMc"
      },
      "source": [
        "### II. Handling Missing Values"
      ]
    },
    {
      "cell_type": "markdown",
      "metadata": {
        "id": "GqslCjJ3ZMMc"
      },
      "source": [
        "Cek data missing values"
      ]
    },
    {
      "cell_type": "code",
      "execution_count": 13,
      "metadata": {
        "colab": {
          "base_uri": "https://localhost:8080/"
        },
        "id": "zYAhuxxRZMMd",
        "outputId": "594f754c-add6-44c6-b899-ae2ac7de0946"
      },
      "outputs": [
        {
          "output_type": "execute_result",
          "data": {
            "text/plain": [
              "name                   4\n",
              "category               0\n",
              "main_category          0\n",
              "currency               0\n",
              "deadline               0\n",
              "goal                   0\n",
              "launched               0\n",
              "pledged                0\n",
              "state                  0\n",
              "backers                0\n",
              "country                0\n",
              "usd pledged         3797\n",
              "usd_pledged_real       0\n",
              "usd_goal_real          0\n",
              "dtype: int64"
            ]
          },
          "metadata": {},
          "execution_count": 13
        }
      ],
      "source": [
        "df.isnull().sum()"
      ]
    },
    {
      "cell_type": "markdown",
      "metadata": {
        "id": "BOpGHUptZMMd"
      },
      "source": [
        "Handling missing values with input '-' and 0.0 in column 'name' and 'usd pledged' respectively "
      ]
    },
    {
      "cell_type": "code",
      "execution_count": 14,
      "metadata": {
        "id": "q8HxycztZMMd"
      },
      "outputs": [],
      "source": [
        "df['name'].fillna('-', inplace=True)"
      ]
    },
    {
      "cell_type": "code",
      "execution_count": 15,
      "metadata": {
        "id": "n66r_sT-ZMMd"
      },
      "outputs": [],
      "source": [
        "df['usd pledged'].fillna(0.0, inplace=True)"
      ]
    },
    {
      "cell_type": "code",
      "execution_count": 16,
      "metadata": {
        "colab": {
          "base_uri": "https://localhost:8080/"
        },
        "id": "WLrKBALqZMMd",
        "outputId": "5eb55ea6-81dd-450d-ee51-6145308c0df2"
      },
      "outputs": [
        {
          "output_type": "execute_result",
          "data": {
            "text/plain": [
              "name                0\n",
              "category            0\n",
              "main_category       0\n",
              "currency            0\n",
              "deadline            0\n",
              "goal                0\n",
              "launched            0\n",
              "pledged             0\n",
              "state               0\n",
              "backers             0\n",
              "country             0\n",
              "usd pledged         0\n",
              "usd_pledged_real    0\n",
              "usd_goal_real       0\n",
              "dtype: int64"
            ]
          },
          "metadata": {},
          "execution_count": 16
        }
      ],
      "source": [
        "df.isnull().sum()"
      ]
    },
    {
      "cell_type": "markdown",
      "metadata": {
        "id": "xNAeXkRsyX8A"
      },
      "source": [
        "## Eksplorasi Data"
      ]
    },
    {
      "cell_type": "markdown",
      "metadata": {
        "id": "hnLnfvkBZMMd"
      },
      "source": [
        "Pertama kita akan melihat status dari kickstarter crowdfunding sejak pertama di inisialisasi"
      ]
    },
    {
      "cell_type": "code",
      "execution_count": 17,
      "metadata": {
        "id": "6z5VCjvTyhLQ",
        "colab": {
          "base_uri": "https://localhost:8080/"
        },
        "outputId": "1e2f4b47-2bba-47c6-a1d4-248640baa53e"
      },
      "outputs": [
        {
          "output_type": "execute_result",
          "data": {
            "text/plain": [
              "array(['canceled', 'suspended', 'failed', 'successful', 'undefined',\n",
              "       'live'], dtype=object)"
            ]
          },
          "metadata": {},
          "execution_count": 17
        }
      ],
      "source": [
        "df['state'].unique()"
      ]
    },
    {
      "cell_type": "code",
      "execution_count": 18,
      "metadata": {
        "colab": {
          "base_uri": "https://localhost:8080/",
          "height": 499
        },
        "id": "dXgDp6moZMMe",
        "outputId": "e5a21eb3-c31b-4d4f-8f6f-f7e69c5643df"
      },
      "outputs": [
        {
          "output_type": "execute_result",
          "data": {
            "text/plain": [
              "<matplotlib.axes._subplots.AxesSubplot at 0x7f4c82a73950>"
            ]
          },
          "metadata": {},
          "execution_count": 18
        },
        {
          "output_type": "display_data",
          "data": {
            "image/png": "[encoded data removed]",
            "text/plain": [
              "<Figure size 1152x576 with 1 Axes>"
            ]
          },
          "metadata": {}
        }
      ],
      "source": [
        "state = df['state'].value_counts()\n",
        "state.plot(kind='pie', figsize=[16, 8], autopct='%1.0f%%', title=\"Status Crowdfunding\")"
      ]
    },
    {
      "cell_type": "markdown",
      "metadata": {
        "id": "5ZpCaFUxZMMe"
      },
      "source": [
        "Dari pie chart dapat dilihat bahwa status kickstarter crowdfunding adalah 52% failed, 35% success, 10% canceled dan sisanya 3% terdiri dari supended, live, and undefined  "
      ]
    },
    {
      "cell_type": "markdown",
      "source": [
        "Selanjuntya kita ingin melihat kickstarter crowdfunding berasal dari negara mana saja dan ingin melihat persentase negara yang memiliki keberhasilan crownfunding secara keseluruhan"
      ],
      "metadata": {
        "id": "YqMxRq1NajjR"
      }
    },
    {
      "cell_type": "code",
      "execution_count": 19,
      "metadata": {
        "colab": {
          "base_uri": "https://localhost:8080/"
        },
        "id": "m4TMhG8BZMMe",
        "outputId": "d240f732-3247-463f-e4d2-f03ee4d9a1c2"
      },
      "outputs": [
        {
          "output_type": "execute_result",
          "data": {
            "text/plain": [
              "array(['US', 'CH', 'N,0\"', 'GB', 'CA', 'AU', 'NZ', 'NL', 'SE', 'DK', 'NO',\n",
              "       'IE', 'DE', 'FR', 'ES', 'IT', 'BE', 'AT', 'LU', 'SG', 'HK', 'MX',\n",
              "       'JP'], dtype=object)"
            ]
          },
          "metadata": {},
          "execution_count": 19
        }
      ],
      "source": [
        "df['country'].unique()"
      ]
    },
    {
      "cell_type": "code",
      "execution_count": 20,
      "metadata": {
        "id": "jeDpB0lCZMMf"
      },
      "outputs": [],
      "source": [
        "df_country_success = df[(df['state']=='successful')]"
      ]
    },
    {
      "cell_type": "code",
      "execution_count": 21,
      "metadata": {
        "colab": {
          "base_uri": "https://localhost:8080/"
        },
        "id": "k_V0wl8eZMMf",
        "outputId": "3d6c39b3-070b-4364-c439-309289c4c21a"
      },
      "outputs": [
        {
          "output_type": "execute_result",
          "data": {
            "text/plain": [
              "(133956, 14)"
            ]
          },
          "metadata": {},
          "execution_count": 21
        }
      ],
      "source": [
        "df_country_success.shape"
      ]
    },
    {
      "cell_type": "code",
      "execution_count": 22,
      "metadata": {
        "colab": {
          "base_uri": "https://localhost:8080/",
          "height": 499
        },
        "id": "sp8CKRC0ZMMf",
        "outputId": "6c8824fd-a972-43c9-926a-216c65381bac"
      },
      "outputs": [
        {
          "output_type": "execute_result",
          "data": {
            "text/plain": [
              "<matplotlib.axes._subplots.AxesSubplot at 0x7f4c812ad9d0>"
            ]
          },
          "metadata": {},
          "execution_count": 22
        },
        {
          "output_type": "display_data",
          "data": {
            "image/png": "[encoded data removed]",
            "text/plain": [
              "<Figure size 1152x576 with 1 Axes>"
            ]
          },
          "metadata": {}
        }
      ],
      "source": [
        "country_success = df_country_success['country'].value_counts()\n",
        "country_success.plot(kind='pie', figsize=[16, 8], autopct='%1.0f%%', title=\"Successful Crowdfunding based on country\")"
      ]
    },
    {
      "cell_type": "markdown",
      "metadata": {
        "id": "CQjhbfyaZMMf"
      },
      "source": [
        "Dari pie chart dapat dilihat bahwa kickstarter crowdfunding dengan status successful mayoritas adalah berasal dari negara US sebanyak 82% "
      ]
    },
    {
      "cell_type": "markdown",
      "source": [
        "Kita ingin melihat persentase main category keberhasilan kickstarter crowdfunding "
      ],
      "metadata": {
        "id": "jc8E_i3ObNH-"
      }
    },
    {
      "cell_type": "code",
      "execution_count": 23,
      "metadata": {
        "colab": {
          "base_uri": "https://localhost:8080/",
          "height": 499
        },
        "id": "Bz9PxhGNZMMf",
        "outputId": "934d5af3-c9fe-486e-98d1-8484023b64b3"
      },
      "outputs": [
        {
          "output_type": "execute_result",
          "data": {
            "text/plain": [
              "<matplotlib.axes._subplots.AxesSubplot at 0x7f4c8121d210>"
            ]
          },
          "metadata": {},
          "execution_count": 23
        },
        {
          "output_type": "display_data",
          "data": {
            "image/png": "[encoded data removed]",
            "text/plain": [
              "<Figure size 1152x576 with 1 Axes>"
            ]
          },
          "metadata": {}
        }
      ],
      "source": [
        "category_success = df_country_success['main_category'].value_counts()\n",
        "category_success.plot(kind='pie', figsize=[16, 8], autopct='%1.0f%%', title=\"Successful Crowdfunding based on category\")\n"
      ]
    },
    {
      "cell_type": "markdown",
      "source": [
        "Persentase main category keberhasilan kickstarter crowdfunding dua yang paling besar berasal dari industri Film & Video dan Music masing-masing 18%"
      ],
      "metadata": {
        "id": "8IHkCi3XbtHb"
      }
    },
    {
      "cell_type": "markdown",
      "source": [
        "Selanjutnya kit ingin melihat main category keberhasilan kickstarter crowdfunding dari negara US saja karena 82% kesuksesan crowdfunding berasal dari negara US"
      ],
      "metadata": {
        "id": "EWn7JubRb8ov"
      }
    },
    {
      "cell_type": "code",
      "execution_count": 24,
      "metadata": {
        "colab": {
          "base_uri": "https://localhost:8080/"
        },
        "id": "jBoeoap8ZMMf",
        "outputId": "dd683e7a-049d-4b29-e8fd-acec0682b961"
      },
      "outputs": [
        {
          "output_type": "execute_result",
          "data": {
            "text/plain": [
              "(109299, 14)"
            ]
          },
          "metadata": {},
          "execution_count": 24
        }
      ],
      "source": [
        "df_US_successful = df[(df['state']=='successful') & (df['country']=='US')]\n",
        "df_US_successful.shape"
      ]
    },
    {
      "cell_type": "code",
      "execution_count": 25,
      "metadata": {
        "colab": {
          "base_uri": "https://localhost:8080/",
          "height": 499
        },
        "id": "d_FS9Na1ZMMf",
        "outputId": "9fad67a6-2444-4d9e-f911-9f13278aaff9"
      },
      "outputs": [
        {
          "output_type": "execute_result",
          "data": {
            "text/plain": [
              "<matplotlib.axes._subplots.AxesSubplot at 0x7f4c81142550>"
            ]
          },
          "metadata": {},
          "execution_count": 25
        },
        {
          "output_type": "display_data",
          "data": {
            "image/png": "[encoded data removed]",
            "text/plain": [
              "<Figure size 1152x576 with 1 Axes>"
            ]
          },
          "metadata": {}
        }
      ],
      "source": [
        "df_US_successful_category = df_US_successful['main_category'].value_counts()\n",
        "df_US_successful_category.plot(kind='pie', figsize=[16, 8], autopct='%1.0f%%', title=\"Successful Crowdfunding based on category in US\")"
      ]
    },
    {
      "cell_type": "markdown",
      "source": [
        "Persentase main category keberhasilan kickstarter crowdfunding dua yang paling besar berasal dari industri Music 20% dan Film & Video 18%"
      ],
      "metadata": {
        "id": "GnG0sAiJcVfL"
      }
    },
    {
      "cell_type": "markdown",
      "metadata": {
        "id": "4Ak9Y7jgyhxQ"
      },
      "source": [
        " ## Measure of Central Tendency"
      ]
    },
    {
      "cell_type": "markdown",
      "metadata": {
        "id": "pHpycRQAZMMh"
      },
      "source": [
        "A measure of central tendency is a single value that attempts to describe a set of data by identifying the central position within that set of data. As such, measures of central tendency are sometimes called measures of central location. They are also classed as summary statistics. The mean (often called the average) is most likely the measure of central tendency that you are most familiar with, but there are others, such as the median and the mode."
      ]
    },
    {
      "cell_type": "code",
      "execution_count": 26,
      "metadata": {
        "colab": {
          "base_uri": "https://localhost:8080/"
        },
        "id": "McKY1s9fZMMg",
        "outputId": "ca048d99-8f81-4371-8e4a-a7d830e49d4b"
      },
      "outputs": [
        {
          "output_type": "stream",
          "name": "stderr",
          "text": [
            "/usr/local/lib/python3.7/dist-packages/ipykernel_launcher.py:1: UserWarning: Boolean Series key will be reindexed to match DataFrame index.\n",
            "  \"\"\"Entry point for launching an IPython kernel.\n"
          ]
        }
      ],
      "source": [
        "df_top_category = df_US_successful[(df['main_category']=='Film & Video') | (df['main_category']=='Music')]"
      ]
    },
    {
      "cell_type": "code",
      "execution_count": 27,
      "metadata": {
        "colab": {
          "base_uri": "https://localhost:8080/"
        },
        "id": "M2mzQg5GZMMg",
        "outputId": "c731fb57-2e1a-457d-bba7-2b82b2635f7c"
      },
      "outputs": [
        {
          "output_type": "execute_result",
          "data": {
            "text/plain": [
              "(41500, 14)"
            ]
          },
          "metadata": {},
          "execution_count": 27
        }
      ],
      "source": [
        "df_top_category.shape"
      ]
    },
    {
      "cell_type": "code",
      "execution_count": 28,
      "metadata": {
        "colab": {
          "base_uri": "https://localhost:8080/",
          "height": 300
        },
        "id": "_PA55rjpZMMh",
        "outputId": "929ec51a-f075-46db-8803-26132326c7fb"
      },
      "outputs": [
        {
          "output_type": "execute_result",
          "data": {
            "text/html": [
              "<div>\n",
              "<style scoped>\n",
              "    .dataframe tbody tr th:only-of-type {\n",
              "        vertical-align: middle;\n",
              "    }\n",
              "\n",
              "    .dataframe tbody tr th {\n",
              "        vertical-align: top;\n",
              "    }\n",
              "\n",
              "    .dataframe thead th {\n",
              "        text-align: right;\n",
              "    }\n",
              "</style>\n",
              "<table border=\"1\" class=\"dataframe\">\n",
              "  <thead>\n",
              "    <tr style=\"text-align: right;\">\n",
              "      <th></th>\n",
              "      <th>goal</th>\n",
              "      <th>pledged</th>\n",
              "      <th>backers</th>\n",
              "      <th>usd pledged</th>\n",
              "      <th>usd_pledged_real</th>\n",
              "      <th>usd_goal_real</th>\n",
              "    </tr>\n",
              "  </thead>\n",
              "  <tbody>\n",
              "    <tr>\n",
              "      <th>count</th>\n",
              "      <td>4.150000e+04</td>\n",
              "      <td>4.150000e+04</td>\n",
              "      <td>41500.000000</td>\n",
              "      <td>4.150000e+04</td>\n",
              "      <td>4.150000e+04</td>\n",
              "      <td>4.150000e+04</td>\n",
              "    </tr>\n",
              "    <tr>\n",
              "      <th>mean</th>\n",
              "      <td>8.715629e+03</td>\n",
              "      <td>1.100114e+04</td>\n",
              "      <td>130.782554</td>\n",
              "      <td>9.819453e+03</td>\n",
              "      <td>1.100114e+04</td>\n",
              "      <td>8.715629e+03</td>\n",
              "    </tr>\n",
              "    <tr>\n",
              "      <th>std</th>\n",
              "      <td>2.627264e+04</td>\n",
              "      <td>5.165063e+04</td>\n",
              "      <td>685.655890</td>\n",
              "      <td>5.051545e+04</td>\n",
              "      <td>5.165063e+04</td>\n",
              "      <td>2.627264e+04</td>\n",
              "    </tr>\n",
              "    <tr>\n",
              "      <th>min</th>\n",
              "      <td>1.000000e+00</td>\n",
              "      <td>1.000000e+00</td>\n",
              "      <td>1.000000</td>\n",
              "      <td>0.000000e+00</td>\n",
              "      <td>1.000000e+00</td>\n",
              "      <td>1.000000e+00</td>\n",
              "    </tr>\n",
              "    <tr>\n",
              "      <th>25%</th>\n",
              "      <td>1.625000e+03</td>\n",
              "      <td>2.071000e+03</td>\n",
              "      <td>31.000000</td>\n",
              "      <td>1.540000e+03</td>\n",
              "      <td>2.071000e+03</td>\n",
              "      <td>1.625000e+03</td>\n",
              "    </tr>\n",
              "    <tr>\n",
              "      <th>50%</th>\n",
              "      <td>4.000000e+03</td>\n",
              "      <td>4.948280e+03</td>\n",
              "      <td>61.000000</td>\n",
              "      <td>4.001000e+03</td>\n",
              "      <td>4.948280e+03</td>\n",
              "      <td>4.000000e+03</td>\n",
              "    </tr>\n",
              "    <tr>\n",
              "      <th>75%</th>\n",
              "      <td>9.997500e+03</td>\n",
              "      <td>1.041300e+04</td>\n",
              "      <td>118.000000</td>\n",
              "      <td>9.533955e+03</td>\n",
              "      <td>1.041300e+04</td>\n",
              "      <td>9.997500e+03</td>\n",
              "    </tr>\n",
              "    <tr>\n",
              "      <th>max</th>\n",
              "      <td>2.000000e+06</td>\n",
              "      <td>5.764229e+06</td>\n",
              "      <td>91585.000000</td>\n",
              "      <td>5.764229e+06</td>\n",
              "      <td>5.764229e+06</td>\n",
              "      <td>2.000000e+06</td>\n",
              "    </tr>\n",
              "  </tbody>\n",
              "</table>\n",
              "</div>"
            ],
            "text/plain": [
              "               goal       pledged  ...  usd_pledged_real  usd_goal_real\n",
              "count  4.150000e+04  4.150000e+04  ...      4.150000e+04   4.150000e+04\n",
              "mean   8.715629e+03  1.100114e+04  ...      1.100114e+04   8.715629e+03\n",
              "std    2.627264e+04  5.165063e+04  ...      5.165063e+04   2.627264e+04\n",
              "min    1.000000e+00  1.000000e+00  ...      1.000000e+00   1.000000e+00\n",
              "25%    1.625000e+03  2.071000e+03  ...      2.071000e+03   1.625000e+03\n",
              "50%    4.000000e+03  4.948280e+03  ...      4.948280e+03   4.000000e+03\n",
              "75%    9.997500e+03  1.041300e+04  ...      1.041300e+04   9.997500e+03\n",
              "max    2.000000e+06  5.764229e+06  ...      5.764229e+06   2.000000e+06\n",
              "\n",
              "[8 rows x 6 columns]"
            ]
          },
          "metadata": {},
          "execution_count": 28
        }
      ],
      "source": [
        "df_top_category.describe()"
      ]
    },
    {
      "cell_type": "markdown",
      "metadata": {
        "id": "RH6H_O0NZMMi"
      },
      "source": [
        "Setelah melakukan eksplorasi data, data yang akan kita gunakan adalah df_top_category yaitu data yang udah di filter dengan beberapa ketentuan sebagai berikut:\n",
        "\n",
        "(state == 'successful' and country == 'US') and (main_category == 'Film & Video' or main_category == 'Music')"
      ]
    },
    {
      "cell_type": "markdown",
      "metadata": {
        "id": "k4ILu93HZMMi"
      },
      "source": [
        "### I. Mean"
      ]
    },
    {
      "cell_type": "markdown",
      "metadata": {
        "id": "YmDRleNKZMMi"
      },
      "source": [
        "Kita akan mencari mean dari kolom usd_goal_real, mean masing-masing untuk kategori 'Film & Video' dan 'Music'"
      ]
    },
    {
      "cell_type": "code",
      "execution_count": 29,
      "metadata": {
        "colab": {
          "base_uri": "https://localhost:8080/",
          "height": 238
        },
        "id": "GM0-wC9vZMMi",
        "outputId": "1c0ecd0a-5fd8-44b1-bd30-bf3959409890"
      },
      "outputs": [
        {
          "output_type": "execute_result",
          "data": {
            "text/html": [
              "<div>\n",
              "<style scoped>\n",
              "    .dataframe tbody tr th:only-of-type {\n",
              "        vertical-align: middle;\n",
              "    }\n",
              "\n",
              "    .dataframe tbody tr th {\n",
              "        vertical-align: top;\n",
              "    }\n",
              "\n",
              "    .dataframe thead th {\n",
              "        text-align: right;\n",
              "    }\n",
              "</style>\n",
              "<table border=\"1\" class=\"dataframe\">\n",
              "  <thead>\n",
              "    <tr style=\"text-align: right;\">\n",
              "      <th></th>\n",
              "      <th>name</th>\n",
              "      <th>category</th>\n",
              "      <th>main_category</th>\n",
              "      <th>currency</th>\n",
              "      <th>deadline</th>\n",
              "      <th>goal</th>\n",
              "      <th>launched</th>\n",
              "      <th>pledged</th>\n",
              "      <th>state</th>\n",
              "      <th>backers</th>\n",
              "      <th>country</th>\n",
              "      <th>usd pledged</th>\n",
              "      <th>usd_pledged_real</th>\n",
              "      <th>usd_goal_real</th>\n",
              "    </tr>\n",
              "    <tr>\n",
              "      <th>ID</th>\n",
              "      <th></th>\n",
              "      <th></th>\n",
              "      <th></th>\n",
              "      <th></th>\n",
              "      <th></th>\n",
              "      <th></th>\n",
              "      <th></th>\n",
              "      <th></th>\n",
              "      <th></th>\n",
              "      <th></th>\n",
              "      <th></th>\n",
              "      <th></th>\n",
              "      <th></th>\n",
              "      <th></th>\n",
              "    </tr>\n",
              "  </thead>\n",
              "  <tbody>\n",
              "    <tr>\n",
              "      <th>1099226462</th>\n",
              "      <td>Logical Guess Pictures' 2nd Horror Movie!</td>\n",
              "      <td>Film &amp; Video</td>\n",
              "      <td>Film &amp; Video</td>\n",
              "      <td>USD</td>\n",
              "      <td>2009-06-06</td>\n",
              "      <td>500.0</td>\n",
              "      <td>2009-04-30</td>\n",
              "      <td>501.66</td>\n",
              "      <td>successful</td>\n",
              "      <td>22</td>\n",
              "      <td>US</td>\n",
              "      <td>501.66</td>\n",
              "      <td>501.66</td>\n",
              "      <td>500.0</td>\n",
              "    </tr>\n",
              "    <tr>\n",
              "      <th>405307432</th>\n",
              "      <td>Electronola - An electronic gumbo of New Orlea...</td>\n",
              "      <td>Electronic Music</td>\n",
              "      <td>Music</td>\n",
              "      <td>USD</td>\n",
              "      <td>2009-06-05</td>\n",
              "      <td>4000.0</td>\n",
              "      <td>2009-05-01</td>\n",
              "      <td>4100.60</td>\n",
              "      <td>successful</td>\n",
              "      <td>114</td>\n",
              "      <td>US</td>\n",
              "      <td>4100.60</td>\n",
              "      <td>4100.60</td>\n",
              "      <td>4000.0</td>\n",
              "    </tr>\n",
              "    <tr>\n",
              "      <th>2096107260</th>\n",
              "      <td>As The Dust Settles</td>\n",
              "      <td>Film &amp; Video</td>\n",
              "      <td>Film &amp; Video</td>\n",
              "      <td>USD</td>\n",
              "      <td>2009-06-02</td>\n",
              "      <td>200.0</td>\n",
              "      <td>2009-05-03</td>\n",
              "      <td>202.00</td>\n",
              "      <td>successful</td>\n",
              "      <td>7</td>\n",
              "      <td>US</td>\n",
              "      <td>202.00</td>\n",
              "      <td>202.00</td>\n",
              "      <td>200.0</td>\n",
              "    </tr>\n",
              "    <tr>\n",
              "      <th>1100844465</th>\n",
              "      <td>daily digest</td>\n",
              "      <td>Documentary</td>\n",
              "      <td>Film &amp; Video</td>\n",
              "      <td>USD</td>\n",
              "      <td>2009-06-01</td>\n",
              "      <td>700.0</td>\n",
              "      <td>2009-05-04</td>\n",
              "      <td>700.00</td>\n",
              "      <td>successful</td>\n",
              "      <td>14</td>\n",
              "      <td>US</td>\n",
              "      <td>700.00</td>\n",
              "      <td>700.00</td>\n",
              "      <td>700.0</td>\n",
              "    </tr>\n",
              "    <tr>\n",
              "      <th>585544140</th>\n",
              "      <td>Unbunny's \"Black Strawberries\" Limited-Edition LP</td>\n",
              "      <td>Indie Rock</td>\n",
              "      <td>Music</td>\n",
              "      <td>USD</td>\n",
              "      <td>2009-07-06</td>\n",
              "      <td>3500.0</td>\n",
              "      <td>2009-05-05</td>\n",
              "      <td>3690.00</td>\n",
              "      <td>successful</td>\n",
              "      <td>132</td>\n",
              "      <td>US</td>\n",
              "      <td>3690.00</td>\n",
              "      <td>3690.00</td>\n",
              "      <td>3500.0</td>\n",
              "    </tr>\n",
              "  </tbody>\n",
              "</table>\n",
              "</div>"
            ],
            "text/plain": [
              "                                                         name  ... usd_goal_real\n",
              "ID                                                             ...              \n",
              "1099226462          Logical Guess Pictures' 2nd Horror Movie!  ...         500.0\n",
              "405307432   Electronola - An electronic gumbo of New Orlea...  ...        4000.0\n",
              "2096107260                                As The Dust Settles  ...         200.0\n",
              "1100844465                                       daily digest  ...         700.0\n",
              "585544140   Unbunny's \"Black Strawberries\" Limited-Edition LP  ...        3500.0\n",
              "\n",
              "[5 rows x 14 columns]"
            ]
          },
          "metadata": {},
          "execution_count": 29
        }
      ],
      "source": [
        "# check top 5 data\n",
        "df_top_category.head()"
      ]
    },
    {
      "cell_type": "code",
      "execution_count": 30,
      "metadata": {
        "colab": {
          "base_uri": "https://localhost:8080/"
        },
        "id": "vMxBbEjYZMMi",
        "outputId": "0825e8cb-75de-45c0-8412-22287831997f"
      },
      "outputs": [
        {
          "output_type": "stream",
          "name": "stdout",
          "text": [
            "Rata-rata usd goal successful dari Film & Video di US:  11872\n",
            "----------------------------------------------------------------------------------------------------\n",
            "Rata-rata usd goal successful dari Music di US:  5841\n"
          ]
        },
        {
          "output_type": "stream",
          "name": "stderr",
          "text": [
            "/usr/local/lib/python3.7/dist-packages/ipykernel_launcher.py:1: UserWarning: Boolean Series key will be reindexed to match DataFrame index.\n",
            "  \"\"\"Entry point for launching an IPython kernel.\n",
            "/usr/local/lib/python3.7/dist-packages/ipykernel_launcher.py:3: UserWarning: Boolean Series key will be reindexed to match DataFrame index.\n",
            "  This is separate from the ipykernel package so we can avoid doing imports until\n"
          ]
        }
      ],
      "source": [
        "usd_film_video = df_top_category[(df['main_category']=='Film & Video')]['usd_goal_real'].mean()\n",
        "\n",
        "usd_music = df_top_category[(df['main_category']=='Music')]['usd_goal_real'].mean()\n",
        "\n",
        "print('Rata-rata usd goal successful dari Film & Video di US: ', round(usd_film_video))\n",
        "print(\"-\"*100)\n",
        "print('Rata-rata usd goal successful dari Music di US: ', round(usd_music))"
      ]
    },
    {
      "cell_type": "markdown",
      "metadata": {
        "id": "czN8MpKrZMMi"
      },
      "source": [
        "### II. Median"
      ]
    },
    {
      "cell_type": "markdown",
      "metadata": {
        "id": "0O0EyXrrZMMi"
      },
      "source": [
        "Untuk mencari median kita tidak perlu mengurutkan data mulai dari yang terkecil.\n",
        "\n",
        "Kita akan mencari median dari kolom usd_goal_real, median masing-masing untuk kategori 'Film & Video' dan 'Music'"
      ]
    },
    {
      "cell_type": "code",
      "execution_count": 31,
      "metadata": {
        "colab": {
          "base_uri": "https://localhost:8080/"
        },
        "id": "1ATiugNOZMMi",
        "outputId": "e5d56df8-8e57-4e58-be97-61e334e1d43b"
      },
      "outputs": [
        {
          "output_type": "stream",
          "name": "stdout",
          "text": [
            "Median usd goal successful dari Film & Video di US:  5000\n",
            "----------------------------------------------------------------------------------------------------\n",
            "Median usd goal successful dari Music di US:  3500\n"
          ]
        },
        {
          "output_type": "stream",
          "name": "stderr",
          "text": [
            "/usr/local/lib/python3.7/dist-packages/ipykernel_launcher.py:1: UserWarning: Boolean Series key will be reindexed to match DataFrame index.\n",
            "  \"\"\"Entry point for launching an IPython kernel.\n",
            "/usr/local/lib/python3.7/dist-packages/ipykernel_launcher.py:4: UserWarning: Boolean Series key will be reindexed to match DataFrame index.\n",
            "  after removing the cwd from sys.path.\n"
          ]
        }
      ],
      "source": [
        "usd_film_video_med = df_top_category[(df['main_category']=='Film & Video')]['usd_goal_real'].median()\n",
        "\n",
        "\n",
        "usd_music_med = df_top_category[(df['main_category']=='Music')]['usd_goal_real'].median()\n",
        "\n",
        "print('Median usd goal successful dari Film & Video di US: ', round(usd_film_video_med))\n",
        "print(\"-\"*100)\n",
        "print('Median usd goal successful dari Music di US: ', round(usd_music_med))"
      ]
    },
    {
      "cell_type": "markdown",
      "metadata": {
        "id": "1I8L5w9sZMMi"
      },
      "source": [
        "### III. Mode"
      ]
    },
    {
      "cell_type": "markdown",
      "metadata": {
        "id": "591siVs7ZMMi"
      },
      "source": [
        "Kita akan mencari modus dari kolom main_category, data mana yang paling sering muncul antara 'Film & Video' dan 'Music'"
      ]
    },
    {
      "cell_type": "code",
      "execution_count": 32,
      "metadata": {
        "colab": {
          "base_uri": "https://localhost:8080/"
        },
        "id": "QqZEIUqRZMMi",
        "outputId": "e8de0216-4894-4e02-cda4-8e7bec3a8e9e"
      },
      "outputs": [
        {
          "output_type": "stream",
          "name": "stdout",
          "text": [
            "Modus dari variabel main_category adalah di US: Music\n"
          ]
        }
      ],
      "source": [
        "print(\"Modus dari variabel main_category adalah di US:\", df_top_category['main_category'].mode().sum())"
      ]
    },
    {
      "cell_type": "code",
      "execution_count": 33,
      "metadata": {
        "colab": {
          "base_uri": "https://localhost:8080/",
          "height": 405
        },
        "id": "zn_cblB_ZMMj",
        "outputId": "a5714d9e-80a3-4420-9f1e-ee8c4d387bcc"
      },
      "outputs": [
        {
          "output_type": "execute_result",
          "data": {
            "text/plain": [
              "<matplotlib.axes._subplots.AxesSubplot at 0x7f4c8107f2d0>"
            ]
          },
          "metadata": {},
          "execution_count": 33
        },
        {
          "output_type": "display_data",
          "data": {
            "image/png": "[encoded data removed]",
            "text/plain": [
              "<Figure size 720x360 with 1 Axes>"
            ]
          },
          "metadata": {
            "needs_background": "light"
          }
        }
      ],
      "source": [
        "main_category = df_top_category['main_category'].value_counts()\n",
        "main_category.plot(kind='bar', color=['r', 'b'], figsize=[10, 5], title=\"Perbandingan Jumlah Film & Video dan Music\")"
      ]
    },
    {
      "cell_type": "code",
      "execution_count": 34,
      "metadata": {
        "colab": {
          "base_uri": "https://localhost:8080/"
        },
        "id": "gUDhmrawZMMj",
        "outputId": "c4fa4daa-39ab-4905-b31c-370af2bf10b2"
      },
      "outputs": [
        {
          "output_type": "stream",
          "name": "stdout",
          "text": [
            "Jumlah data Film & Video di US: 19782\n",
            "----------------------------------------------------------------------------------------------------\n",
            "Jumlah data control Music di US: 21718\n"
          ]
        },
        {
          "output_type": "stream",
          "name": "stderr",
          "text": [
            "/usr/local/lib/python3.7/dist-packages/ipykernel_launcher.py:1: UserWarning: Boolean Series key will be reindexed to match DataFrame index.\n",
            "  \"\"\"Entry point for launching an IPython kernel.\n",
            "/usr/local/lib/python3.7/dist-packages/ipykernel_launcher.py:3: UserWarning: Boolean Series key will be reindexed to match DataFrame index.\n",
            "  This is separate from the ipykernel package so we can avoid doing imports until\n"
          ]
        }
      ],
      "source": [
        "print('Jumlah data Film & Video di US:', df_top_category[(df['main_category']=='Film & Video')]['main_category'].count())\n",
        "print(\"-\"*100)\n",
        "print('Jumlah data control Music di US:', df_top_category[(df['main_category']=='Music')]['main_category'].count())"
      ]
    },
    {
      "cell_type": "markdown",
      "metadata": {
        "id": "a6EYV1YJyiBA"
      },
      "source": [
        "## Measure of Variance"
      ]
    },
    {
      "cell_type": "markdown",
      "metadata": {
        "id": "s84CmIJUZMMj"
      },
      "source": [
        "Calculate variance and standard deviation for all the numeric columns"
      ]
    },
    {
      "cell_type": "code",
      "execution_count": 35,
      "metadata": {
        "colab": {
          "base_uri": "https://localhost:8080/"
        },
        "id": "KQPvYvbdZMMj",
        "outputId": "a9223a7a-dd54-427d-84f3-b044b3c361a0"
      },
      "outputs": [
        {
          "output_type": "stream",
          "name": "stdout",
          "text": [
            "Numeric columns Variance di US\n",
            "goal                6.902515e+08\n",
            "pledged             2.667788e+09\n",
            "backers             4.701240e+05\n",
            "usd pledged         2.551810e+09\n",
            "usd_pledged_real    2.667788e+09\n",
            "usd_goal_real       6.902515e+08\n",
            "dtype: float64\n",
            "\n",
            "Numeric columns Standard Deviation di US\n",
            "goal                26272.636915\n",
            "pledged             51650.630536\n",
            "backers               685.655890\n",
            "usd pledged         50515.446613\n",
            "usd_pledged_real    51650.630536\n",
            "usd_goal_real       26272.636915\n",
            "dtype: float64\n",
            "\n",
            "Numeric columns Range di US\n",
            "goal                1999999.00\n",
            "pledged             5764228.38\n",
            "backers               91584.00\n",
            "usd pledged         5764229.38\n",
            "usd_pledged_real    5764228.38\n",
            "usd_goal_real       1999999.00\n",
            "dtype: float64\n"
          ]
        }
      ],
      "source": [
        "# Variance di US\n",
        "print(\"Numeric columns Variance di US\")\n",
        "print(df_top_category.var())\n",
        "print(\"\")\n",
        "# Standard deviation di US\n",
        "print(\"Numeric columns Standard Deviation di US\")\n",
        "print(df_top_category.std())\n",
        "print(\"\")\n",
        "#Range di US\n",
        "num_columns = df_top_category.describe().columns\n",
        "print(\"Numeric columns Range di US\")\n",
        "print(df_top_category[num_columns].max()-df_top_category[num_columns].min())"
      ]
    },
    {
      "cell_type": "markdown",
      "metadata": {
        "id": "UCJ3hkGFyq7s"
      },
      "source": [
        "## Hypothesis Testing"
      ]
    },
    {
      "cell_type": "markdown",
      "metadata": {
        "id": "DDb1vROzZMMj"
      },
      "source": [
        "### One Sample Two Tailed"
      ]
    },
    {
      "cell_type": "markdown",
      "metadata": {
        "id": "IPBRzZU9ZMMj"
      },
      "source": [
        "Perusahaan Kickstarter crowdfunding ingin meneliti keberhasilan crowdfunding di bidang Film & Video. Perusahaan mengklaim bahwa rata-rata goal secara keseluruhan dengan status sukses yang didapatkan dlm USD setara atau tidak berbeda secara signifikan dengan rata-rata goal dengan status sukses yang didapatkan dari dua negara dengan jumlah goal terbesar yaitu US dan GB. \n",
        "Sample dari 20000 goal dalam usd dari data keseluruhan akan digunakan untuk mengkalim hipotesis tersebut dengan significant level 0.05.\n",
        "Rata-rata goal dengan status sukses yang didapatkan dari dua negara dengan jumlah goal terbesar yaitu US dan GB adalah berkisar antara $11,333.\n",
        "\n",
        "Our hypothesis on this case:\n",
        "\n",
        "**H0: μ =\\$11,333**\n",
        "\n",
        "**H1: μ != \\$11,333**"
      ]
    },
    {
      "cell_type": "code",
      "execution_count": 41,
      "metadata": {
        "colab": {
          "base_uri": "https://localhost:8080/"
        },
        "id": "K0ARkXsWZMMj",
        "outputId": "0c5f125d-cde4-4069-dfc9-901f1c260bad"
      },
      "outputs": [
        {
          "output_type": "stream",
          "name": "stdout",
          "text": [
            "Rata-rata usd goal US dan GB Film & Video: $ 11333\n"
          ]
        }
      ],
      "source": [
        "us_gb_film_video = df_success_film_video[(df_success_film_video['country']=='US') | (df_success_film_video['country']=='GB')]\n",
        "\n",
        "print(\"Rata-rata usd goal US dan GB Film & Video: $\",round(us_gb_film_video['usd_goal_real'].mean()))"
      ]
    },
    {
      "cell_type": "code",
      "execution_count": 40,
      "metadata": {
        "colab": {
          "base_uri": "https://localhost:8080/"
        },
        "id": "KxCCDcUuZMMj",
        "outputId": "ed0ef0eb-6f3d-43f8-fb0d-216615a45bf5"
      },
      "outputs": [
        {
          "output_type": "stream",
          "name": "stdout",
          "text": [
            "Rata-rata usd goal keseluruhan Film & Video: $ 11145\n"
          ]
        }
      ],
      "source": [
        "df_success_film_video = df[(df['state']=='successful') & (df['main_category']=='Film & Video')]\n",
        "\n",
        "print(\"Rata-rata usd goal keseluruhan Film & Video: $\",round(df_success_film_video['usd_goal_real'].mean()))"
      ]
    },
    {
      "cell_type": "code",
      "execution_count": 44,
      "metadata": {
        "colab": {
          "base_uri": "https://localhost:8080/"
        },
        "id": "3rmUQkvPZMMj",
        "outputId": "c277a8de-f80b-4afa-a401-f28e576bf882"
      },
      "outputs": [
        {
          "output_type": "stream",
          "name": "stdout",
          "text": [
            "P-value: 0.3975356143607903\n",
            "t-statistics: -0.8460460699182901\n"
          ]
        }
      ],
      "source": [
        "t_stat,p_val = stats.ttest_1samp(df_success_film_video['usd_goal_real'], 11333)\n",
        "print('P-value:',p_val) #The p-value divided by 2 since the output is two-sided p-value\n",
        "print('t-statistics:',t_stat)"
      ]
    },
    {
      "cell_type": "code",
      "execution_count": 45,
      "metadata": {
        "colab": {
          "base_uri": "https://localhost:8080/",
          "height": 403
        },
        "id": "Txnp28PCZMMk",
        "outputId": "3a5f0961-ae46-4fd8-b575-ddd11cfb7129"
      },
      "outputs": [
        {
          "output_type": "stream",
          "name": "stderr",
          "text": [
            "/usr/local/lib/python3.7/dist-packages/seaborn/distributions.py:2619: FutureWarning: `distplot` is a deprecated function and will be removed in a future version. Please adapt your code to use either `displot` (a figure-level function with similar flexibility) or `histplot` (an axes-level function for histograms).\n",
            "  warnings.warn(msg, FutureWarning)\n"
          ]
        },
        {
          "output_type": "execute_result",
          "data": {
            "text/plain": [
              "<matplotlib.legend.Legend at 0x7f4c7643dd10>"
            ]
          },
          "metadata": {},
          "execution_count": 45
        },
        {
          "output_type": "display_data",
          "data": {
            "image/png": "[encoded data removed]",
            "text/plain": [
              "<Figure size 1152x360 with 1 Axes>"
            ]
          },
          "metadata": {
            "needs_background": "light"
          }
        }
      ],
      "source": [
        "df_success_film_video_pop = np.random.normal(df_success_film_video['usd_goal_real'].mean(), df_success_film_video['usd_goal_real'].std(), 20000)\n",
        "\n",
        "ci = stats.norm.interval(0.95, df_success_film_video['usd_goal_real'].mean(),df_success_film_video['usd_goal_real'].std())\n",
        "\n",
        "plt.figure(figsize=(16,5))\n",
        "sns.distplot(df_success_film_video_pop, label='Daily Income (Population)', color='blue')\n",
        "plt.axvline(df_success_film_video['usd_goal_real'].mean(), color='red', linewidth=2, label='Daily Income (Mean)')\n",
        "\n",
        "plt.axvline(ci[1], color='green', linestyle='dashed', linewidth=2, label='confidence threshold of 95%')\n",
        "plt.axvline(ci[0], color='green', linestyle='dashed', linewidth=2, label='confidence threshold of 95%')\n",
        "\n",
        "plt.axvline(df_success_film_video_pop.mean() + t_stat*df_success_film_video_pop.std(), color='black', linestyle='dashed', linewidth=2, label = 'Alternative Hypothesis')\n",
        "plt.axvline(df_success_film_video_pop.mean() - t_stat*df_success_film_video_pop.std(), color='black', linestyle='dashed', linewidth=2)\n",
        "plt.legend()"
      ]
    },
    {
      "cell_type": "markdown",
      "metadata": {
        "id": "6UGj9IZuy6sn"
      },
      "source": [
        "## Pengambilan Kesimpulan"
      ]
    },
    {
      "cell_type": "markdown",
      "metadata": {
        "id": "2Ox7ixSKZMMk"
      },
      "source": [
        "Karena p-value lebih besar dari significant level 0.05, maka kita tidak bisa menolak null hipotesis (H0: diterima) yang artinya bahwa rata-rata goal secara keseluruhan dengan status sukses yang didapatkan dlm USD setara atau tidak berbeda secara signifikan dengan rata-rata goal dengan status sukses yang didapatkan dari dua negara dengan jumlah goal terbesar yaitu US dan GB. Dengan kata lain dapat disimpulkan bahwa crowdfunding untuk industri Film dan Video di US dan GB memiliki dampak yang cukup signifikan untuk ukuran keberhasilan crowdfunding di industri Film & Video secara keseluruhan."
      ]
    }
  ],
  "metadata": {
    "colab": {
      "collapsed_sections": [],
      "name": "h8dsft_P0W3.ipynb",
      "provenance": []
    },
    "kernelspec": {
      "display_name": "Python 3",
      "name": "python3"
    },
    "language_info": {
      "codemirror_mode": {
        "name": "ipython",
        "version": 3
      },
      "file_extension": ".py",
      "mimetype": "text/x-python",
      "name": "python",
      "nbconvert_exporter": "python",
      "pygments_lexer": "ipython3",
      "version": "3.8.8"
    }
  },
  "nbformat": 4,
  "nbformat_minor": 0
}