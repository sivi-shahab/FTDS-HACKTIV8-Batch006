{
 "cells": [
  {
   "cell_type": "markdown",
   "metadata": {},
   "source": [
    "## Perkenalan\n",
    "\n",
    "Nama: Sivi Almanaf Ali Shahab\n",
    "\n",
    "Batch: 006\n",
    "\n",
    "\n",
    "#### Objective\n",
    "Memprediksi seseorang akan melakukan deposit atau tidak pada sebuah Bank dengan menggunakan beberapa model machine learning untuk supervised learning\n",
    "\n",
    "\n",
    "#### Input variables:\n",
    "##### bank client data:\n",
    "1 - age (numeric)\n",
    "\n",
    "2 - job : type of job (categorical: 'admin.','blue-collar','entrepreneur','housemaid','management','retired','self-employed','services','student','technician','unemployed','unknown')\n",
    "\n",
    "3 - marital : marital status (categorical: 'divorced','married','single','unknown'; note: 'divorced' means divorced or widowed)\n",
    "\n",
    "4 - education (categorical: 'basic.4y','basic.6y','basic.9y','high.school','illiterate','professional.course','university.degree','unknown')\n",
    "\n",
    "5 - default: has credit in default? (categorical: 'no','yes','unknown')\n",
    "\n",
    "6 - housing: has housing loan? (categorical: 'no','yes','unknown')\n",
    "\n",
    "7 - loan: has personal loan? (categorical: 'no','yes','unknown')\n",
    "\n",
    "##### related with the last contact of the current campaign:\n",
    "8 - contact: contact communication type (categorical: 'cellular','telephone')\n",
    "\n",
    "9 - month: last contact month of year (categorical: 'jan', 'feb', 'mar', ..., 'nov', 'dec')\n",
    "\n",
    "10 - day_of_week: last contact day of the week (categorical: 'mon','tue','wed','thu','fri')\n",
    "\n",
    "11 - duration: last contact duration, in seconds (numeric). Important note: this attribute highly affects the output target (e.g., if duration=0 then y='no'). Yet, the duration is not known before a call is performed. Also, after the end of the call y is obviously known. Thus, this input should only be included for benchmark purposes and should be discarded if the intention is to have a realistic predictive model.\n",
    "##### other attributes:\n",
    "\n",
    "12 - campaign: number of contacts performed during this campaign and for this client (numeric, includes last contact)\n",
    "\n",
    "13 - pdays: number of days that passed by after the client was last contacted from a previous campaign (numeric; 999 means client was not previously contacted)\n",
    "\n",
    "14 - previous: number of contacts performed before this campaign and for this client (numeric)\n",
    "\n",
    "15 - poutcome: outcome of the previous marketing campaign (categorical: 'failure','nonexistent','success')\n",
    "\n",
    "##### social and economic context attributes\n",
    "16 - emp.var.rate: employment variation rate - quarterly indicator (numeric)\n",
    "\n",
    "17 - cons.price.idx: consumer price index - monthly indicator (numeric)\n",
    "\n",
    "18 - cons.conf.idx: consumer confidence index - monthly indicator (numeric)\n",
    "\n",
    "19 - euribor3m: euribor 3 month rate - daily indicator (numeric)\n",
    "\n",
    "20 - nr.employed: number of employees - quarterly indicator (numeric)\n",
    "\n",
    "#### Output variable (desired target):\n",
    "\n",
    "21 - y - has the client subscribed a term deposit? (binary: 'yes','no')"
   ]
  },
  {
   "cell_type": "markdown",
   "metadata": {},
   "source": [
    "## Import pustaka yang dibutuhkan"
   ]
  },
  {
   "cell_type": "code",
   "execution_count": 1,
   "metadata": {},
   "outputs": [],
   "source": [
    "import matplotlib.pyplot as plt\n",
    "import matplotlib\n",
    "import seaborn as sns\n",
    "import numpy as np\n",
    "import pandas as pd\n",
    "%matplotlib inline\n",
    "\n",
    "from sklearn.model_selection import train_test_split\n",
    "from sklearn.pipeline import Pipeline\n",
    "from sklearn.compose import ColumnTransformer\n",
    "from sklearn.linear_model import LogisticRegression\n",
    "from sklearn.svm import SVC\n",
    "from sklearn.tree import DecisionTreeClassifier\n",
    "from sklearn.ensemble import RandomForestClassifier\n",
    "from sklearn.neighbors import KNeighborsClassifier\n",
    "from sklearn.naive_bayes import GaussianNB\n",
    "from sklearn.model_selection import RepeatedStratifiedKFold\n",
    "from sklearn.model_selection import GridSearchCV\n",
    "from numpy import percentile\n",
    "from sklearn.model_selection import train_test_split\n",
    "from sklearn.preprocessing import OneHotEncoder, MinMaxScaler, LabelEncoder\n",
    "from sklearn.metrics import classification_report\n",
    "from imblearn.over_sampling import RandomOverSampler\n",
    "from imblearn.pipeline import Pipeline as pip\n",
    "from sklearn.metrics import RocCurveDisplay\n",
    "\n",
    "\n",
    "\n",
    "pd.set_option('display.max_columns', None)\n",
    "pd.set_option('display.max_rows', 150)\n",
    "sns.set_style('darkgrid')\n",
    "matplotlib.rcParams['font.size'] = 14\n",
    "matplotlib.rcParams['figure.figsize'] = (10, 6)\n",
    "matplotlib.rcParams['figure.facecolor'] = '#00000000'"
   ]
  },
  {
   "cell_type": "markdown",
   "metadata": {},
   "source": [
    "## Data Loading"
   ]
  },
  {
   "cell_type": "markdown",
   "metadata": {},
   "source": [
    "Unduh dataset yang akan digunakan di https://archive.ics.uci.edu/ml/datasets/Bank+Marketing "
   ]
  },
  {
   "cell_type": "code",
   "execution_count": 2,
   "metadata": {},
   "outputs": [
    {
     "data": {
      "text/html": [
       "<div>\n",
       "<style scoped>\n",
       "    .dataframe tbody tr th:only-of-type {\n",
       "        vertical-align: middle;\n",
       "    }\n",
       "\n",
       "    .dataframe tbody tr th {\n",
       "        vertical-align: top;\n",
       "    }\n",
       "\n",
       "    .dataframe thead th {\n",
       "        text-align: right;\n",
       "    }\n",
       "</style>\n",
       "<table border=\"1\" class=\"dataframe\">\n",
       "  <thead>\n",
       "    <tr style=\"text-align: right;\">\n",
       "      <th></th>\n",
       "      <th>age</th>\n",
       "      <th>job</th>\n",
       "      <th>marital</th>\n",
       "      <th>education</th>\n",
       "      <th>default</th>\n",
       "      <th>housing</th>\n",
       "      <th>loan</th>\n",
       "      <th>contact</th>\n",
       "      <th>month</th>\n",
       "      <th>day_of_week</th>\n",
       "      <th>duration</th>\n",
       "      <th>campaign</th>\n",
       "      <th>pdays</th>\n",
       "      <th>previous</th>\n",
       "      <th>poutcome</th>\n",
       "      <th>emp.var.rate</th>\n",
       "      <th>cons.price.idx</th>\n",
       "      <th>cons.conf.idx</th>\n",
       "      <th>euribor3m</th>\n",
       "      <th>nr.employed</th>\n",
       "      <th>y</th>\n",
       "    </tr>\n",
       "  </thead>\n",
       "  <tbody>\n",
       "    <tr>\n",
       "      <th>0</th>\n",
       "      <td>56</td>\n",
       "      <td>housemaid</td>\n",
       "      <td>married</td>\n",
       "      <td>basic.4y</td>\n",
       "      <td>no</td>\n",
       "      <td>no</td>\n",
       "      <td>no</td>\n",
       "      <td>telephone</td>\n",
       "      <td>may</td>\n",
       "      <td>mon</td>\n",
       "      <td>261</td>\n",
       "      <td>1</td>\n",
       "      <td>999</td>\n",
       "      <td>0</td>\n",
       "      <td>nonexistent</td>\n",
       "      <td>1.1</td>\n",
       "      <td>93.994</td>\n",
       "      <td>-36.4</td>\n",
       "      <td>4.857</td>\n",
       "      <td>5191.0</td>\n",
       "      <td>no</td>\n",
       "    </tr>\n",
       "    <tr>\n",
       "      <th>1</th>\n",
       "      <td>57</td>\n",
       "      <td>services</td>\n",
       "      <td>married</td>\n",
       "      <td>high.school</td>\n",
       "      <td>unknown</td>\n",
       "      <td>no</td>\n",
       "      <td>no</td>\n",
       "      <td>telephone</td>\n",
       "      <td>may</td>\n",
       "      <td>mon</td>\n",
       "      <td>149</td>\n",
       "      <td>1</td>\n",
       "      <td>999</td>\n",
       "      <td>0</td>\n",
       "      <td>nonexistent</td>\n",
       "      <td>1.1</td>\n",
       "      <td>93.994</td>\n",
       "      <td>-36.4</td>\n",
       "      <td>4.857</td>\n",
       "      <td>5191.0</td>\n",
       "      <td>no</td>\n",
       "    </tr>\n",
       "    <tr>\n",
       "      <th>2</th>\n",
       "      <td>37</td>\n",
       "      <td>services</td>\n",
       "      <td>married</td>\n",
       "      <td>high.school</td>\n",
       "      <td>no</td>\n",
       "      <td>yes</td>\n",
       "      <td>no</td>\n",
       "      <td>telephone</td>\n",
       "      <td>may</td>\n",
       "      <td>mon</td>\n",
       "      <td>226</td>\n",
       "      <td>1</td>\n",
       "      <td>999</td>\n",
       "      <td>0</td>\n",
       "      <td>nonexistent</td>\n",
       "      <td>1.1</td>\n",
       "      <td>93.994</td>\n",
       "      <td>-36.4</td>\n",
       "      <td>4.857</td>\n",
       "      <td>5191.0</td>\n",
       "      <td>no</td>\n",
       "    </tr>\n",
       "    <tr>\n",
       "      <th>3</th>\n",
       "      <td>40</td>\n",
       "      <td>admin.</td>\n",
       "      <td>married</td>\n",
       "      <td>basic.6y</td>\n",
       "      <td>no</td>\n",
       "      <td>no</td>\n",
       "      <td>no</td>\n",
       "      <td>telephone</td>\n",
       "      <td>may</td>\n",
       "      <td>mon</td>\n",
       "      <td>151</td>\n",
       "      <td>1</td>\n",
       "      <td>999</td>\n",
       "      <td>0</td>\n",
       "      <td>nonexistent</td>\n",
       "      <td>1.1</td>\n",
       "      <td>93.994</td>\n",
       "      <td>-36.4</td>\n",
       "      <td>4.857</td>\n",
       "      <td>5191.0</td>\n",
       "      <td>no</td>\n",
       "    </tr>\n",
       "    <tr>\n",
       "      <th>4</th>\n",
       "      <td>56</td>\n",
       "      <td>services</td>\n",
       "      <td>married</td>\n",
       "      <td>high.school</td>\n",
       "      <td>no</td>\n",
       "      <td>no</td>\n",
       "      <td>yes</td>\n",
       "      <td>telephone</td>\n",
       "      <td>may</td>\n",
       "      <td>mon</td>\n",
       "      <td>307</td>\n",
       "      <td>1</td>\n",
       "      <td>999</td>\n",
       "      <td>0</td>\n",
       "      <td>nonexistent</td>\n",
       "      <td>1.1</td>\n",
       "      <td>93.994</td>\n",
       "      <td>-36.4</td>\n",
       "      <td>4.857</td>\n",
       "      <td>5191.0</td>\n",
       "      <td>no</td>\n",
       "    </tr>\n",
       "  </tbody>\n",
       "</table>\n",
       "</div>"
      ],
      "text/plain": [
       "   age        job  marital    education  default housing loan    contact  \\\n",
       "0   56  housemaid  married     basic.4y       no      no   no  telephone   \n",
       "1   57   services  married  high.school  unknown      no   no  telephone   \n",
       "2   37   services  married  high.school       no     yes   no  telephone   \n",
       "3   40     admin.  married     basic.6y       no      no   no  telephone   \n",
       "4   56   services  married  high.school       no      no  yes  telephone   \n",
       "\n",
       "  month day_of_week  duration  campaign  pdays  previous     poutcome  \\\n",
       "0   may         mon       261         1    999         0  nonexistent   \n",
       "1   may         mon       149         1    999         0  nonexistent   \n",
       "2   may         mon       226         1    999         0  nonexistent   \n",
       "3   may         mon       151         1    999         0  nonexistent   \n",
       "4   may         mon       307         1    999         0  nonexistent   \n",
       "\n",
       "   emp.var.rate  cons.price.idx  cons.conf.idx  euribor3m  nr.employed   y  \n",
       "0           1.1          93.994          -36.4      4.857       5191.0  no  \n",
       "1           1.1          93.994          -36.4      4.857       5191.0  no  \n",
       "2           1.1          93.994          -36.4      4.857       5191.0  no  \n",
       "3           1.1          93.994          -36.4      4.857       5191.0  no  \n",
       "4           1.1          93.994          -36.4      4.857       5191.0  no  "
      ]
     },
     "execution_count": 2,
     "metadata": {},
     "output_type": "execute_result"
    }
   ],
   "source": [
    "data = pd.read_csv('./bank-additional/bank-additional/bank-additional-full.csv', sep=';')\n",
    "data.head()"
   ]
  },
  {
   "cell_type": "code",
   "execution_count": 3,
   "metadata": {},
   "outputs": [
    {
     "name": "stdout",
     "output_type": "stream",
     "text": [
      "<class 'pandas.core.frame.DataFrame'>\n",
      "RangeIndex: 41188 entries, 0 to 41187\n",
      "Data columns (total 21 columns):\n",
      " #   Column          Non-Null Count  Dtype  \n",
      "---  ------          --------------  -----  \n",
      " 0   age             41188 non-null  int64  \n",
      " 1   job             41188 non-null  object \n",
      " 2   marital         41188 non-null  object \n",
      " 3   education       41188 non-null  object \n",
      " 4   default         41188 non-null  object \n",
      " 5   housing         41188 non-null  object \n",
      " 6   loan            41188 non-null  object \n",
      " 7   contact         41188 non-null  object \n",
      " 8   month           41188 non-null  object \n",
      " 9   day_of_week     41188 non-null  object \n",
      " 10  duration        41188 non-null  int64  \n",
      " 11  campaign        41188 non-null  int64  \n",
      " 12  pdays           41188 non-null  int64  \n",
      " 13  previous        41188 non-null  int64  \n",
      " 14  poutcome        41188 non-null  object \n",
      " 15  emp.var.rate    41188 non-null  float64\n",
      " 16  cons.price.idx  41188 non-null  float64\n",
      " 17  cons.conf.idx   41188 non-null  float64\n",
      " 18  euribor3m       41188 non-null  float64\n",
      " 19  nr.employed     41188 non-null  float64\n",
      " 20  y               41188 non-null  object \n",
      "dtypes: float64(5), int64(5), object(11)\n",
      "memory usage: 6.6+ MB\n"
     ]
    }
   ],
   "source": [
    "data.info()"
   ]
  },
  {
   "cell_type": "code",
   "execution_count": 4,
   "metadata": {},
   "outputs": [
    {
     "data": {
      "text/plain": [
       "(41188, 21)"
      ]
     },
     "execution_count": 4,
     "metadata": {},
     "output_type": "execute_result"
    }
   ],
   "source": [
    "# Cek Ukuran data\n",
    "data.shape"
   ]
  },
  {
   "cell_type": "code",
   "execution_count": 5,
   "metadata": {},
   "outputs": [
    {
     "data": {
      "text/html": [
       "<div>\n",
       "<style scoped>\n",
       "    .dataframe tbody tr th:only-of-type {\n",
       "        vertical-align: middle;\n",
       "    }\n",
       "\n",
       "    .dataframe tbody tr th {\n",
       "        vertical-align: top;\n",
       "    }\n",
       "\n",
       "    .dataframe thead th {\n",
       "        text-align: right;\n",
       "    }\n",
       "</style>\n",
       "<table border=\"1\" class=\"dataframe\">\n",
       "  <thead>\n",
       "    <tr style=\"text-align: right;\">\n",
       "      <th></th>\n",
       "      <th>count</th>\n",
       "      <th>mean</th>\n",
       "      <th>std</th>\n",
       "      <th>min</th>\n",
       "      <th>25%</th>\n",
       "      <th>50%</th>\n",
       "      <th>75%</th>\n",
       "      <th>max</th>\n",
       "    </tr>\n",
       "  </thead>\n",
       "  <tbody>\n",
       "    <tr>\n",
       "      <th>age</th>\n",
       "      <td>41188.0</td>\n",
       "      <td>40.024060</td>\n",
       "      <td>10.421250</td>\n",
       "      <td>17.000</td>\n",
       "      <td>32.000</td>\n",
       "      <td>38.000</td>\n",
       "      <td>47.000</td>\n",
       "      <td>98.000</td>\n",
       "    </tr>\n",
       "    <tr>\n",
       "      <th>duration</th>\n",
       "      <td>41188.0</td>\n",
       "      <td>258.285010</td>\n",
       "      <td>259.279249</td>\n",
       "      <td>0.000</td>\n",
       "      <td>102.000</td>\n",
       "      <td>180.000</td>\n",
       "      <td>319.000</td>\n",
       "      <td>4918.000</td>\n",
       "    </tr>\n",
       "    <tr>\n",
       "      <th>campaign</th>\n",
       "      <td>41188.0</td>\n",
       "      <td>2.567593</td>\n",
       "      <td>2.770014</td>\n",
       "      <td>1.000</td>\n",
       "      <td>1.000</td>\n",
       "      <td>2.000</td>\n",
       "      <td>3.000</td>\n",
       "      <td>56.000</td>\n",
       "    </tr>\n",
       "    <tr>\n",
       "      <th>pdays</th>\n",
       "      <td>41188.0</td>\n",
       "      <td>962.475454</td>\n",
       "      <td>186.910907</td>\n",
       "      <td>0.000</td>\n",
       "      <td>999.000</td>\n",
       "      <td>999.000</td>\n",
       "      <td>999.000</td>\n",
       "      <td>999.000</td>\n",
       "    </tr>\n",
       "    <tr>\n",
       "      <th>previous</th>\n",
       "      <td>41188.0</td>\n",
       "      <td>0.172963</td>\n",
       "      <td>0.494901</td>\n",
       "      <td>0.000</td>\n",
       "      <td>0.000</td>\n",
       "      <td>0.000</td>\n",
       "      <td>0.000</td>\n",
       "      <td>7.000</td>\n",
       "    </tr>\n",
       "    <tr>\n",
       "      <th>emp.var.rate</th>\n",
       "      <td>41188.0</td>\n",
       "      <td>0.081886</td>\n",
       "      <td>1.570960</td>\n",
       "      <td>-3.400</td>\n",
       "      <td>-1.800</td>\n",
       "      <td>1.100</td>\n",
       "      <td>1.400</td>\n",
       "      <td>1.400</td>\n",
       "    </tr>\n",
       "    <tr>\n",
       "      <th>cons.price.idx</th>\n",
       "      <td>41188.0</td>\n",
       "      <td>93.575664</td>\n",
       "      <td>0.578840</td>\n",
       "      <td>92.201</td>\n",
       "      <td>93.075</td>\n",
       "      <td>93.749</td>\n",
       "      <td>93.994</td>\n",
       "      <td>94.767</td>\n",
       "    </tr>\n",
       "    <tr>\n",
       "      <th>cons.conf.idx</th>\n",
       "      <td>41188.0</td>\n",
       "      <td>-40.502600</td>\n",
       "      <td>4.628198</td>\n",
       "      <td>-50.800</td>\n",
       "      <td>-42.700</td>\n",
       "      <td>-41.800</td>\n",
       "      <td>-36.400</td>\n",
       "      <td>-26.900</td>\n",
       "    </tr>\n",
       "    <tr>\n",
       "      <th>euribor3m</th>\n",
       "      <td>41188.0</td>\n",
       "      <td>3.621291</td>\n",
       "      <td>1.734447</td>\n",
       "      <td>0.634</td>\n",
       "      <td>1.344</td>\n",
       "      <td>4.857</td>\n",
       "      <td>4.961</td>\n",
       "      <td>5.045</td>\n",
       "    </tr>\n",
       "    <tr>\n",
       "      <th>nr.employed</th>\n",
       "      <td>41188.0</td>\n",
       "      <td>5167.035911</td>\n",
       "      <td>72.251528</td>\n",
       "      <td>4963.600</td>\n",
       "      <td>5099.100</td>\n",
       "      <td>5191.000</td>\n",
       "      <td>5228.100</td>\n",
       "      <td>5228.100</td>\n",
       "    </tr>\n",
       "  </tbody>\n",
       "</table>\n",
       "</div>"
      ],
      "text/plain": [
       "                  count         mean         std       min       25%  \\\n",
       "age             41188.0    40.024060   10.421250    17.000    32.000   \n",
       "duration        41188.0   258.285010  259.279249     0.000   102.000   \n",
       "campaign        41188.0     2.567593    2.770014     1.000     1.000   \n",
       "pdays           41188.0   962.475454  186.910907     0.000   999.000   \n",
       "previous        41188.0     0.172963    0.494901     0.000     0.000   \n",
       "emp.var.rate    41188.0     0.081886    1.570960    -3.400    -1.800   \n",
       "cons.price.idx  41188.0    93.575664    0.578840    92.201    93.075   \n",
       "cons.conf.idx   41188.0   -40.502600    4.628198   -50.800   -42.700   \n",
       "euribor3m       41188.0     3.621291    1.734447     0.634     1.344   \n",
       "nr.employed     41188.0  5167.035911   72.251528  4963.600  5099.100   \n",
       "\n",
       "                     50%       75%       max  \n",
       "age               38.000    47.000    98.000  \n",
       "duration         180.000   319.000  4918.000  \n",
       "campaign           2.000     3.000    56.000  \n",
       "pdays            999.000   999.000   999.000  \n",
       "previous           0.000     0.000     7.000  \n",
       "emp.var.rate       1.100     1.400     1.400  \n",
       "cons.price.idx    93.749    93.994    94.767  \n",
       "cons.conf.idx    -41.800   -36.400   -26.900  \n",
       "euribor3m          4.857     4.961     5.045  \n",
       "nr.employed     5191.000  5228.100  5228.100  "
      ]
     },
     "execution_count": 5,
     "metadata": {},
     "output_type": "execute_result"
    }
   ],
   "source": [
    "# Statistical Description\n",
    "data.describe().T"
   ]
  },
  {
   "cell_type": "code",
   "execution_count": 6,
   "metadata": {},
   "outputs": [
    {
     "data": {
      "text/plain": [
       "no     36548\n",
       "yes     4640\n",
       "Name: y, dtype: int64"
      ]
     },
     "execution_count": 6,
     "metadata": {},
     "output_type": "execute_result"
    }
   ],
   "source": [
    "# Cek proporsi data target\n",
    "data['y'].value_counts()"
   ]
  },
  {
   "cell_type": "markdown",
   "metadata": {},
   "source": [
    "## Data Cleaning"
   ]
  },
  {
   "cell_type": "code",
   "execution_count": 7,
   "metadata": {},
   "outputs": [
    {
     "data": {
      "text/plain": [
       "age               0.0\n",
       "job               0.0\n",
       "marital           0.0\n",
       "education         0.0\n",
       "default           0.0\n",
       "housing           0.0\n",
       "loan              0.0\n",
       "contact           0.0\n",
       "month             0.0\n",
       "day_of_week       0.0\n",
       "duration          0.0\n",
       "campaign          0.0\n",
       "pdays             0.0\n",
       "previous          0.0\n",
       "poutcome          0.0\n",
       "emp.var.rate      0.0\n",
       "cons.price.idx    0.0\n",
       "cons.conf.idx     0.0\n",
       "euribor3m         0.0\n",
       "nr.employed       0.0\n",
       "y                 0.0\n",
       "dtype: float64"
      ]
     },
     "execution_count": 7,
     "metadata": {},
     "output_type": "execute_result"
    }
   ],
   "source": [
    "# Check Persentase data yang hilang\n",
    "\n",
    "(data.isnull().sum()/len(data))*100"
   ]
  },
  {
   "cell_type": "markdown",
   "metadata": {},
   "source": [
    "Data yang akan kita gunakan telah dibersihkan sebelumnya sehingga tidak ada data yang hilang"
   ]
  },
  {
   "cell_type": "code",
   "execution_count": 8,
   "metadata": {},
   "outputs": [],
   "source": [
    "# Copy data asli sebagai salinan agar tidak berubah\n",
    "df = data.copy()"
   ]
  },
  {
   "cell_type": "markdown",
   "metadata": {},
   "source": [
    "#### Unique Value Categorical Variable\n",
    "\n",
    "Kita akan melihat data yang unik dari masing-masing features kategorik"
   ]
  },
  {
   "cell_type": "code",
   "execution_count": 9,
   "metadata": {},
   "outputs": [],
   "source": [
    "def unique_val(data):\n",
    "    cols = data.columns\n",
    "    for i in cols:\n",
    "        if data[i].dtype == 'O':\n",
    "            print('input unique', i, 'adalah', data[i].unique())\n",
    "            print('-'*100)"
   ]
  },
  {
   "cell_type": "code",
   "execution_count": 10,
   "metadata": {},
   "outputs": [
    {
     "name": "stdout",
     "output_type": "stream",
     "text": [
      "input unique job adalah ['housemaid' 'services' 'admin.' 'blue-collar' 'technician' 'retired'\n",
      " 'management' 'unemployed' 'self-employed' 'unknown' 'entrepreneur'\n",
      " 'student']\n",
      "----------------------------------------------------------------------------------------------------\n",
      "input unique marital adalah ['married' 'single' 'divorced' 'unknown']\n",
      "----------------------------------------------------------------------------------------------------\n",
      "input unique education adalah ['basic.4y' 'high.school' 'basic.6y' 'basic.9y' 'professional.course'\n",
      " 'unknown' 'university.degree' 'illiterate']\n",
      "----------------------------------------------------------------------------------------------------\n",
      "input unique default adalah ['no' 'unknown' 'yes']\n",
      "----------------------------------------------------------------------------------------------------\n",
      "input unique housing adalah ['no' 'yes' 'unknown']\n",
      "----------------------------------------------------------------------------------------------------\n",
      "input unique loan adalah ['no' 'yes' 'unknown']\n",
      "----------------------------------------------------------------------------------------------------\n",
      "input unique contact adalah ['telephone' 'cellular']\n",
      "----------------------------------------------------------------------------------------------------\n",
      "input unique month adalah ['may' 'jun' 'jul' 'aug' 'oct' 'nov' 'dec' 'mar' 'apr' 'sep']\n",
      "----------------------------------------------------------------------------------------------------\n",
      "input unique day_of_week adalah ['mon' 'tue' 'wed' 'thu' 'fri']\n",
      "----------------------------------------------------------------------------------------------------\n",
      "input unique poutcome adalah ['nonexistent' 'failure' 'success']\n",
      "----------------------------------------------------------------------------------------------------\n",
      "input unique y adalah ['no' 'yes']\n",
      "----------------------------------------------------------------------------------------------------\n"
     ]
    }
   ],
   "source": [
    "unique_val(df)"
   ]
  },
  {
   "cell_type": "markdown",
   "metadata": {},
   "source": [
    "Kita bisa melakukan features engineering (optional) dari variabel kategorik setelah melakukan features selection "
   ]
  },
  {
   "cell_type": "markdown",
   "metadata": {},
   "source": [
    "### Identify Outlier"
   ]
  },
  {
   "cell_type": "code",
   "execution_count": 11,
   "metadata": {},
   "outputs": [],
   "source": [
    "# Ubah duration dari detik ke menit\n",
    "df['duration_minutes'] = round(df['duration']/60, 2)"
   ]
  },
  {
   "cell_type": "code",
   "execution_count": 12,
   "metadata": {},
   "outputs": [],
   "source": [
    "df.drop(['duration'], axis=1, inplace=True)"
   ]
  },
  {
   "cell_type": "code",
   "execution_count": 13,
   "metadata": {},
   "outputs": [],
   "source": [
    "# membagi dataframe menjadi dua tipe data\n",
    "numeric_cols = df.select_dtypes(include=np.number).columns.tolist()\n",
    "categorical_cols = df.select_dtypes('object').columns.tolist()"
   ]
  },
  {
   "cell_type": "code",
   "execution_count": 14,
   "metadata": {},
   "outputs": [
    {
     "data": {
      "text/plain": [
       "Index(['age', 'campaign', 'pdays', 'previous', 'emp.var.rate',\n",
       "       'cons.price.idx', 'cons.conf.idx', 'euribor3m', 'nr.employed',\n",
       "       'duration_minutes'],\n",
       "      dtype='object')"
      ]
     },
     "execution_count": 14,
     "metadata": {},
     "output_type": "execute_result"
    }
   ],
   "source": [
    "df[numeric_cols].columns"
   ]
  },
  {
   "cell_type": "code",
   "execution_count": 15,
   "metadata": {},
   "outputs": [],
   "source": [
    "#from numpy import percentile\n",
    "\n",
    "def outliers(data):\n",
    "    cols = data.columns\n",
    "    for i in cols:\n",
    "        #print(i)\n",
    "        # calculate interquartile range\n",
    "        q25, q75 = percentile(data[i], 25), percentile(data[i], 75)\n",
    "        iqr = q75 - q25\n",
    "        print('Percentiles:',i, '25th=%.3f, 75th=%.3f, IQR=%.3f' % (q25, q75, iqr))\n",
    "        # calculate the outlier cutoff\n",
    "        cut_off = iqr * 1.5\n",
    "        lower, upper = q25 - cut_off, q75 + cut_off\n",
    "        # identify outliers\n",
    "        outliers = [x for x in data[i] if x < lower or x > upper]\n",
    "        print('Identified outliers: %d' % len(outliers))\n",
    "        "
   ]
  },
  {
   "cell_type": "code",
   "execution_count": 16,
   "metadata": {},
   "outputs": [
    {
     "name": "stdout",
     "output_type": "stream",
     "text": [
      "Percentiles: age 25th=32.000, 75th=47.000, IQR=15.000\n",
      "Identified outliers: 469\n",
      "Percentiles: campaign 25th=1.000, 75th=3.000, IQR=2.000\n",
      "Identified outliers: 2406\n",
      "Percentiles: pdays 25th=999.000, 75th=999.000, IQR=0.000\n",
      "Identified outliers: 1515\n",
      "Percentiles: previous 25th=0.000, 75th=0.000, IQR=0.000\n",
      "Identified outliers: 5625\n",
      "Percentiles: emp.var.rate 25th=-1.800, 75th=1.400, IQR=3.200\n",
      "Identified outliers: 0\n",
      "Percentiles: cons.price.idx 25th=93.075, 75th=93.994, IQR=0.919\n",
      "Identified outliers: 0\n",
      "Percentiles: cons.conf.idx 25th=-42.700, 75th=-36.400, IQR=6.300\n",
      "Identified outliers: 447\n",
      "Percentiles: euribor3m 25th=1.344, 75th=4.961, IQR=3.617\n",
      "Identified outliers: 0\n",
      "Percentiles: nr.employed 25th=5099.100, 75th=5228.100, IQR=129.000\n",
      "Identified outliers: 0\n",
      "Percentiles: duration_minutes 25th=1.700, 75th=5.320, IQR=3.620\n",
      "Identified outliers: 2955\n"
     ]
    }
   ],
   "source": [
    "outliers(df[numeric_cols])"
   ]
  },
  {
   "cell_type": "markdown",
   "metadata": {},
   "source": [
    "Dari Keterangan diatas terdapat keterangan jumlah outlier dari berbagai features contohnya age, campaign, pdays, previous, dan duration minutes. Namun kita tidak bisa sembarang untuk menghapus outlier kita perlu menyesuaikan dengan problem yang akan kita lakukan"
   ]
  },
  {
   "cell_type": "code",
   "execution_count": 17,
   "metadata": {},
   "outputs": [
    {
     "name": "stderr",
     "output_type": "stream",
     "text": [
      "C:\\Users\\sivis\\AppData\\Local\\Programs\\Python\\Python38\\lib\\site-packages\\seaborn\\_decorators.py:36: FutureWarning: Pass the following variable as a keyword arg: x. From version 0.12, the only valid positional argument will be `data`, and passing other arguments without an explicit keyword will result in an error or misinterpretation.\n",
      "  warnings.warn(\n",
      "No artists with labels found to put in legend.  Note that artists whose label start with an underscore are ignored when legend() is called with no argument.\n"
     ]
    },
    {
     "name": "stdout",
     "output_type": "stream",
     "text": [
      "age\n"
     ]
    },
    {
     "data": {
      "image/png": "[encoded data removed]",
      "text/plain": [
       "<Figure size 720x432 with 1 Axes>"
      ]
     },
     "metadata": {
      "needs_background": "light"
     },
     "output_type": "display_data"
    },
    {
     "name": "stderr",
     "output_type": "stream",
     "text": [
      "C:\\Users\\sivis\\AppData\\Local\\Programs\\Python\\Python38\\lib\\site-packages\\seaborn\\_decorators.py:36: FutureWarning: Pass the following variable as a keyword arg: x. From version 0.12, the only valid positional argument will be `data`, and passing other arguments without an explicit keyword will result in an error or misinterpretation.\n",
      "  warnings.warn(\n",
      "No artists with labels found to put in legend.  Note that artists whose label start with an underscore are ignored when legend() is called with no argument.\n"
     ]
    },
    {
     "name": "stdout",
     "output_type": "stream",
     "text": [
      "campaign\n"
     ]
    },
    {
     "data": {
      "image/png": "[encoded data removed]",
      "text/plain": [
       "<Figure size 720x432 with 1 Axes>"
      ]
     },
     "metadata": {
      "needs_background": "light"
     },
     "output_type": "display_data"
    },
    {
     "name": "stderr",
     "output_type": "stream",
     "text": [
      "C:\\Users\\sivis\\AppData\\Local\\Programs\\Python\\Python38\\lib\\site-packages\\seaborn\\_decorators.py:36: FutureWarning: Pass the following variable as a keyword arg: x. From version 0.12, the only valid positional argument will be `data`, and passing other arguments without an explicit keyword will result in an error or misinterpretation.\n",
      "  warnings.warn(\n",
      "No artists with labels found to put in legend.  Note that artists whose label start with an underscore are ignored when legend() is called with no argument.\n"
     ]
    },
    {
     "name": "stdout",
     "output_type": "stream",
     "text": [
      "cons.conf.idx\n"
     ]
    },
    {
     "data": {
      "image/png": "[encoded data removed]",
      "text/plain": [
       "<Figure size 720x432 with 1 Axes>"
      ]
     },
     "metadata": {
      "needs_background": "light"
     },
     "output_type": "display_data"
    },
    {
     "name": "stderr",
     "output_type": "stream",
     "text": [
      "C:\\Users\\sivis\\AppData\\Local\\Programs\\Python\\Python38\\lib\\site-packages\\seaborn\\_decorators.py:36: FutureWarning: Pass the following variable as a keyword arg: x. From version 0.12, the only valid positional argument will be `data`, and passing other arguments without an explicit keyword will result in an error or misinterpretation.\n",
      "  warnings.warn(\n",
      "No artists with labels found to put in legend.  Note that artists whose label start with an underscore are ignored when legend() is called with no argument.\n"
     ]
    },
    {
     "name": "stdout",
     "output_type": "stream",
     "text": [
      "duration_minutes\n"
     ]
    },
    {
     "data": {
      "image/png": "[encoded data removed]",
      "text/plain": [
       "<Figure size 720x432 with 1 Axes>"
      ]
     },
     "metadata": {
      "needs_background": "light"
     },
     "output_type": "display_data"
    }
   ],
   "source": [
    "# Kita Pilih variabel yang akan kita analisa outlier \n",
    "boxplot_cols = ['age', 'campaign', 'cons.conf.idx', 'duration_minutes']\n",
    "\n",
    "# Using boxplot to identify outliers\n",
    "for col in boxplot_cols:\n",
    "    print(col)\n",
    "    ax = sns.boxplot(df[col])\n",
    "    ax.legend()\n",
    "    plt.show()"
   ]
  },
  {
   "cell_type": "code",
   "execution_count": 18,
   "metadata": {},
   "outputs": [],
   "source": [
    "# Remove outlier pada feature age\n",
    "q25, q75 = percentile(df['age'], 25), percentile(df['age'], 75)\n",
    "iqr = q75 - q25\n",
    "cut_off = iqr * 1.5\n",
    "lower, upper = q25 - cut_off, q75 + cut_off\n",
    "\n",
    "outlier_age = df[df['age'] > upper]"
   ]
  },
  {
   "cell_type": "markdown",
   "metadata": {},
   "source": [
    "Kita batasi usia hanya pada rentang minimum-max dengan melakukan drop outlier pada features age"
   ]
  },
  {
   "cell_type": "code",
   "execution_count": 19,
   "metadata": {},
   "outputs": [],
   "source": [
    "df.drop(outlier_age.index, inplace=True)"
   ]
  },
  {
   "cell_type": "code",
   "execution_count": 20,
   "metadata": {},
   "outputs": [
    {
     "data": {
      "text/plain": [
       "1"
      ]
     },
     "execution_count": 20,
     "metadata": {},
     "output_type": "execute_result"
    }
   ],
   "source": [
    "df[df['campaign']>50]['y'].count()"
   ]
  },
  {
   "cell_type": "markdown",
   "metadata": {},
   "source": [
    "Dari Boxplot feature campaign terdapat satu data yang terlalu jauh dari data lain, kita akan hapus data tersebut."
   ]
  },
  {
   "cell_type": "code",
   "execution_count": 21,
   "metadata": {},
   "outputs": [],
   "source": [
    "df.drop(df[df['campaign']>50].index, inplace=True)"
   ]
  },
  {
   "cell_type": "markdown",
   "metadata": {},
   "source": [
    "Kita batasi masalah duration minutes tidak lebih dari 60 minutes"
   ]
  },
  {
   "cell_type": "code",
   "execution_count": 22,
   "metadata": {},
   "outputs": [],
   "source": [
    "df.drop(df[df['duration_minutes']>60].index, inplace=True)"
   ]
  },
  {
   "cell_type": "code",
   "execution_count": 23,
   "metadata": {},
   "outputs": [],
   "source": [
    "# Remove outlier pada feature cons_conf_idx\n",
    "q25, q75 = percentile(df['cons.conf.idx'], 25), percentile(df['cons.conf.idx'], 75)\n",
    "iqr = q75 - q25\n",
    "cut_off = iqr * 1.5\n",
    "lower, upper = q25 - cut_off, q75 + cut_off\n",
    "\n",
    "outlier_cons_conf_idx = df[df['cons.conf.idx'] > upper]"
   ]
  },
  {
   "cell_type": "markdown",
   "metadata": {},
   "source": [
    "Kita juga menghapus outlier pada features cons.conf.idx"
   ]
  },
  {
   "cell_type": "code",
   "execution_count": 24,
   "metadata": {},
   "outputs": [],
   "source": [
    "df.drop(outlier_cons_conf_idx.index, inplace=True)"
   ]
  },
  {
   "cell_type": "code",
   "execution_count": 25,
   "metadata": {},
   "outputs": [
    {
     "name": "stdout",
     "output_type": "stream",
     "text": [
      "Percentiles: age 25th=32.000, 75th=47.000, IQR=15.000\n",
      "Identified outliers: 0\n",
      "Percentiles: campaign 25th=1.000, 75th=3.000, IQR=2.000\n",
      "Identified outliers: 2391\n",
      "Percentiles: pdays 25th=999.000, 75th=999.000, IQR=0.000\n",
      "Identified outliers: 1351\n",
      "Percentiles: previous 25th=0.000, 75th=0.000, IQR=0.000\n",
      "Identified outliers: 5268\n",
      "Percentiles: emp.var.rate 25th=-1.800, 75th=1.400, IQR=3.200\n",
      "Identified outliers: 0\n",
      "Percentiles: cons.price.idx 25th=93.075, 75th=93.994, IQR=0.919\n",
      "Identified outliers: 0\n",
      "Percentiles: cons.conf.idx 25th=-42.700, 75th=-36.400, IQR=6.300\n",
      "Identified outliers: 0\n",
      "Percentiles: euribor3m 25th=1.365, 75th=4.961, IQR=3.596\n",
      "Identified outliers: 0\n",
      "Percentiles: nr.employed 25th=5099.100, 75th=5228.100, IQR=129.000\n",
      "Identified outliers: 0\n",
      "Percentiles: duration_minutes 25th=1.700, 75th=5.320, IQR=3.620\n",
      "Identified outliers: 2889\n"
     ]
    }
   ],
   "source": [
    "# Cek jumlah Outlier\n",
    "outliers(df[numeric_cols])"
   ]
  },
  {
   "cell_type": "markdown",
   "metadata": {},
   "source": [
    "##### Check data removed outlier"
   ]
  },
  {
   "cell_type": "code",
   "execution_count": 26,
   "metadata": {},
   "outputs": [
    {
     "name": "stderr",
     "output_type": "stream",
     "text": [
      "C:\\Users\\sivis\\AppData\\Local\\Programs\\Python\\Python38\\lib\\site-packages\\seaborn\\_decorators.py:36: FutureWarning: Pass the following variable as a keyword arg: x. From version 0.12, the only valid positional argument will be `data`, and passing other arguments without an explicit keyword will result in an error or misinterpretation.\n",
      "  warnings.warn(\n",
      "No artists with labels found to put in legend.  Note that artists whose label start with an underscore are ignored when legend() is called with no argument.\n"
     ]
    },
    {
     "name": "stdout",
     "output_type": "stream",
     "text": [
      "age\n"
     ]
    },
    {
     "data": {
      "image/png": "[encoded data removed]",
      "text/plain": [
       "<Figure size 720x432 with 1 Axes>"
      ]
     },
     "metadata": {
      "needs_background": "light"
     },
     "output_type": "display_data"
    },
    {
     "name": "stderr",
     "output_type": "stream",
     "text": [
      "C:\\Users\\sivis\\AppData\\Local\\Programs\\Python\\Python38\\lib\\site-packages\\seaborn\\_decorators.py:36: FutureWarning: Pass the following variable as a keyword arg: x. From version 0.12, the only valid positional argument will be `data`, and passing other arguments without an explicit keyword will result in an error or misinterpretation.\n",
      "  warnings.warn(\n",
      "No artists with labels found to put in legend.  Note that artists whose label start with an underscore are ignored when legend() is called with no argument.\n"
     ]
    },
    {
     "name": "stdout",
     "output_type": "stream",
     "text": [
      "campaign\n"
     ]
    },
    {
     "data": {
      "image/png": "[encoded data removed]",
      "text/plain": [
       "<Figure size 720x432 with 1 Axes>"
      ]
     },
     "metadata": {
      "needs_background": "light"
     },
     "output_type": "display_data"
    },
    {
     "name": "stderr",
     "output_type": "stream",
     "text": [
      "C:\\Users\\sivis\\AppData\\Local\\Programs\\Python\\Python38\\lib\\site-packages\\seaborn\\_decorators.py:36: FutureWarning: Pass the following variable as a keyword arg: x. From version 0.12, the only valid positional argument will be `data`, and passing other arguments without an explicit keyword will result in an error or misinterpretation.\n",
      "  warnings.warn(\n",
      "No artists with labels found to put in legend.  Note that artists whose label start with an underscore are ignored when legend() is called with no argument.\n"
     ]
    },
    {
     "name": "stdout",
     "output_type": "stream",
     "text": [
      "cons.conf.idx\n"
     ]
    },
    {
     "data": {
      "image/png": "[encoded data removed]",
      "text/plain": [
       "<Figure size 720x432 with 1 Axes>"
      ]
     },
     "metadata": {
      "needs_background": "light"
     },
     "output_type": "display_data"
    },
    {
     "name": "stderr",
     "output_type": "stream",
     "text": [
      "C:\\Users\\sivis\\AppData\\Local\\Programs\\Python\\Python38\\lib\\site-packages\\seaborn\\_decorators.py:36: FutureWarning: Pass the following variable as a keyword arg: x. From version 0.12, the only valid positional argument will be `data`, and passing other arguments without an explicit keyword will result in an error or misinterpretation.\n",
      "  warnings.warn(\n",
      "No artists with labels found to put in legend.  Note that artists whose label start with an underscore are ignored when legend() is called with no argument.\n"
     ]
    },
    {
     "name": "stdout",
     "output_type": "stream",
     "text": [
      "duration_minutes\n"
     ]
    },
    {
     "data": {
      "image/png": "[encoded data removed]",
      "text/plain": [
       "<Figure size 720x432 with 1 Axes>"
      ]
     },
     "metadata": {
      "needs_background": "light"
     },
     "output_type": "display_data"
    }
   ],
   "source": [
    "# Using boxplot to identify outliers\n",
    "for col in boxplot_cols:\n",
    "    print(col)\n",
    "    ax = sns.boxplot(df[col])\n",
    "    ax.legend()\n",
    "    plt.show()"
   ]
  },
  {
   "cell_type": "code",
   "execution_count": 27,
   "metadata": {},
   "outputs": [
    {
     "data": {
      "text/plain": [
       "array(['may', 'jun', 'jul', 'aug', 'oct', 'nov', 'dec', 'mar', 'apr',\n",
       "       'sep'], dtype=object)"
      ]
     },
     "execution_count": 27,
     "metadata": {},
     "output_type": "execute_result"
    }
   ],
   "source": [
    "df['month'].unique()"
   ]
  },
  {
   "cell_type": "markdown",
   "metadata": {},
   "source": [
    "Feature Engineering dengan merubah input feature month ke kwartal (setiap 3 bulan)"
   ]
  },
  {
   "cell_type": "code",
   "execution_count": 28,
   "metadata": {},
   "outputs": [],
   "source": [
    "kwartal = []\n",
    "\n",
    "def label_month(data):\n",
    "    idx = data.index\n",
    "    for idx in data:\n",
    "        q1 = ['jan', 'feb', 'mar']\n",
    "        q2 = ['apr', 'may', 'jun']\n",
    "        q3 = ['jul', 'aug', 'sep']\n",
    "        if idx in q1:\n",
    "            kwartal.append('q1')\n",
    "        elif idx in q2:\n",
    "            kwartal.append('q2')\n",
    "        elif idx in q3:\n",
    "            kwartal.append('q3')\n",
    "        else:\n",
    "            kwartal.append('q4')\n",
    "\n"
   ]
  },
  {
   "cell_type": "code",
   "execution_count": 29,
   "metadata": {},
   "outputs": [],
   "source": [
    "label_month(df['month'])"
   ]
  },
  {
   "cell_type": "code",
   "execution_count": 30,
   "metadata": {},
   "outputs": [],
   "source": [
    "df['kwartal'] = kwartal"
   ]
  },
  {
   "cell_type": "code",
   "execution_count": 31,
   "metadata": {},
   "outputs": [
    {
     "data": {
      "text/html": [
       "<div>\n",
       "<style scoped>\n",
       "    .dataframe tbody tr th:only-of-type {\n",
       "        vertical-align: middle;\n",
       "    }\n",
       "\n",
       "    .dataframe tbody tr th {\n",
       "        vertical-align: top;\n",
       "    }\n",
       "\n",
       "    .dataframe thead th {\n",
       "        text-align: right;\n",
       "    }\n",
       "</style>\n",
       "<table border=\"1\" class=\"dataframe\">\n",
       "  <thead>\n",
       "    <tr style=\"text-align: right;\">\n",
       "      <th></th>\n",
       "      <th>age</th>\n",
       "      <th>job</th>\n",
       "      <th>marital</th>\n",
       "      <th>education</th>\n",
       "      <th>default</th>\n",
       "      <th>housing</th>\n",
       "      <th>loan</th>\n",
       "      <th>contact</th>\n",
       "      <th>month</th>\n",
       "      <th>day_of_week</th>\n",
       "      <th>campaign</th>\n",
       "      <th>pdays</th>\n",
       "      <th>previous</th>\n",
       "      <th>poutcome</th>\n",
       "      <th>emp.var.rate</th>\n",
       "      <th>cons.price.idx</th>\n",
       "      <th>cons.conf.idx</th>\n",
       "      <th>euribor3m</th>\n",
       "      <th>nr.employed</th>\n",
       "      <th>y</th>\n",
       "      <th>duration_minutes</th>\n",
       "      <th>kwartal</th>\n",
       "    </tr>\n",
       "  </thead>\n",
       "  <tbody>\n",
       "    <tr>\n",
       "      <th>0</th>\n",
       "      <td>56</td>\n",
       "      <td>housemaid</td>\n",
       "      <td>married</td>\n",
       "      <td>basic.4y</td>\n",
       "      <td>no</td>\n",
       "      <td>no</td>\n",
       "      <td>no</td>\n",
       "      <td>telephone</td>\n",
       "      <td>may</td>\n",
       "      <td>mon</td>\n",
       "      <td>1</td>\n",
       "      <td>999</td>\n",
       "      <td>0</td>\n",
       "      <td>nonexistent</td>\n",
       "      <td>1.1</td>\n",
       "      <td>93.994</td>\n",
       "      <td>-36.4</td>\n",
       "      <td>4.857</td>\n",
       "      <td>5191.0</td>\n",
       "      <td>no</td>\n",
       "      <td>4.35</td>\n",
       "      <td>q2</td>\n",
       "    </tr>\n",
       "    <tr>\n",
       "      <th>1</th>\n",
       "      <td>57</td>\n",
       "      <td>services</td>\n",
       "      <td>married</td>\n",
       "      <td>high.school</td>\n",
       "      <td>unknown</td>\n",
       "      <td>no</td>\n",
       "      <td>no</td>\n",
       "      <td>telephone</td>\n",
       "      <td>may</td>\n",
       "      <td>mon</td>\n",
       "      <td>1</td>\n",
       "      <td>999</td>\n",
       "      <td>0</td>\n",
       "      <td>nonexistent</td>\n",
       "      <td>1.1</td>\n",
       "      <td>93.994</td>\n",
       "      <td>-36.4</td>\n",
       "      <td>4.857</td>\n",
       "      <td>5191.0</td>\n",
       "      <td>no</td>\n",
       "      <td>2.48</td>\n",
       "      <td>q2</td>\n",
       "    </tr>\n",
       "    <tr>\n",
       "      <th>2</th>\n",
       "      <td>37</td>\n",
       "      <td>services</td>\n",
       "      <td>married</td>\n",
       "      <td>high.school</td>\n",
       "      <td>no</td>\n",
       "      <td>yes</td>\n",
       "      <td>no</td>\n",
       "      <td>telephone</td>\n",
       "      <td>may</td>\n",
       "      <td>mon</td>\n",
       "      <td>1</td>\n",
       "      <td>999</td>\n",
       "      <td>0</td>\n",
       "      <td>nonexistent</td>\n",
       "      <td>1.1</td>\n",
       "      <td>93.994</td>\n",
       "      <td>-36.4</td>\n",
       "      <td>4.857</td>\n",
       "      <td>5191.0</td>\n",
       "      <td>no</td>\n",
       "      <td>3.77</td>\n",
       "      <td>q2</td>\n",
       "    </tr>\n",
       "    <tr>\n",
       "      <th>3</th>\n",
       "      <td>40</td>\n",
       "      <td>admin.</td>\n",
       "      <td>married</td>\n",
       "      <td>basic.6y</td>\n",
       "      <td>no</td>\n",
       "      <td>no</td>\n",
       "      <td>no</td>\n",
       "      <td>telephone</td>\n",
       "      <td>may</td>\n",
       "      <td>mon</td>\n",
       "      <td>1</td>\n",
       "      <td>999</td>\n",
       "      <td>0</td>\n",
       "      <td>nonexistent</td>\n",
       "      <td>1.1</td>\n",
       "      <td>93.994</td>\n",
       "      <td>-36.4</td>\n",
       "      <td>4.857</td>\n",
       "      <td>5191.0</td>\n",
       "      <td>no</td>\n",
       "      <td>2.52</td>\n",
       "      <td>q2</td>\n",
       "    </tr>\n",
       "    <tr>\n",
       "      <th>4</th>\n",
       "      <td>56</td>\n",
       "      <td>services</td>\n",
       "      <td>married</td>\n",
       "      <td>high.school</td>\n",
       "      <td>no</td>\n",
       "      <td>no</td>\n",
       "      <td>yes</td>\n",
       "      <td>telephone</td>\n",
       "      <td>may</td>\n",
       "      <td>mon</td>\n",
       "      <td>1</td>\n",
       "      <td>999</td>\n",
       "      <td>0</td>\n",
       "      <td>nonexistent</td>\n",
       "      <td>1.1</td>\n",
       "      <td>93.994</td>\n",
       "      <td>-36.4</td>\n",
       "      <td>4.857</td>\n",
       "      <td>5191.0</td>\n",
       "      <td>no</td>\n",
       "      <td>5.12</td>\n",
       "      <td>q2</td>\n",
       "    </tr>\n",
       "  </tbody>\n",
       "</table>\n",
       "</div>"
      ],
      "text/plain": [
       "   age        job  marital    education  default housing loan    contact  \\\n",
       "0   56  housemaid  married     basic.4y       no      no   no  telephone   \n",
       "1   57   services  married  high.school  unknown      no   no  telephone   \n",
       "2   37   services  married  high.school       no     yes   no  telephone   \n",
       "3   40     admin.  married     basic.6y       no      no   no  telephone   \n",
       "4   56   services  married  high.school       no      no  yes  telephone   \n",
       "\n",
       "  month day_of_week  campaign  pdays  previous     poutcome  emp.var.rate  \\\n",
       "0   may         mon         1    999         0  nonexistent           1.1   \n",
       "1   may         mon         1    999         0  nonexistent           1.1   \n",
       "2   may         mon         1    999         0  nonexistent           1.1   \n",
       "3   may         mon         1    999         0  nonexistent           1.1   \n",
       "4   may         mon         1    999         0  nonexistent           1.1   \n",
       "\n",
       "   cons.price.idx  cons.conf.idx  euribor3m  nr.employed   y  \\\n",
       "0          93.994          -36.4      4.857       5191.0  no   \n",
       "1          93.994          -36.4      4.857       5191.0  no   \n",
       "2          93.994          -36.4      4.857       5191.0  no   \n",
       "3          93.994          -36.4      4.857       5191.0  no   \n",
       "4          93.994          -36.4      4.857       5191.0  no   \n",
       "\n",
       "   duration_minutes kwartal  \n",
       "0              4.35      q2  \n",
       "1              2.48      q2  \n",
       "2              3.77      q2  \n",
       "3              2.52      q2  \n",
       "4              5.12      q2  "
      ]
     },
     "execution_count": 31,
     "metadata": {},
     "output_type": "execute_result"
    }
   ],
   "source": [
    "df.head()"
   ]
  },
  {
   "cell_type": "code",
   "execution_count": 32,
   "metadata": {},
   "outputs": [],
   "source": [
    "# hapus feature month\n",
    "df.drop(['month'], axis=1, inplace=True)"
   ]
  },
  {
   "cell_type": "code",
   "execution_count": 33,
   "metadata": {},
   "outputs": [
    {
     "data": {
      "text/html": [
       "<div>\n",
       "<style scoped>\n",
       "    .dataframe tbody tr th:only-of-type {\n",
       "        vertical-align: middle;\n",
       "    }\n",
       "\n",
       "    .dataframe tbody tr th {\n",
       "        vertical-align: top;\n",
       "    }\n",
       "\n",
       "    .dataframe thead th {\n",
       "        text-align: right;\n",
       "    }\n",
       "</style>\n",
       "<table border=\"1\" class=\"dataframe\">\n",
       "  <thead>\n",
       "    <tr style=\"text-align: right;\">\n",
       "      <th></th>\n",
       "      <th>age</th>\n",
       "      <th>job</th>\n",
       "      <th>marital</th>\n",
       "      <th>education</th>\n",
       "      <th>default</th>\n",
       "      <th>housing</th>\n",
       "      <th>loan</th>\n",
       "      <th>contact</th>\n",
       "      <th>day_of_week</th>\n",
       "      <th>campaign</th>\n",
       "      <th>pdays</th>\n",
       "      <th>previous</th>\n",
       "      <th>poutcome</th>\n",
       "      <th>emp.var.rate</th>\n",
       "      <th>cons.price.idx</th>\n",
       "      <th>cons.conf.idx</th>\n",
       "      <th>euribor3m</th>\n",
       "      <th>nr.employed</th>\n",
       "      <th>y</th>\n",
       "      <th>duration_minutes</th>\n",
       "      <th>kwartal</th>\n",
       "    </tr>\n",
       "  </thead>\n",
       "  <tbody>\n",
       "    <tr>\n",
       "      <th>0</th>\n",
       "      <td>56</td>\n",
       "      <td>housemaid</td>\n",
       "      <td>married</td>\n",
       "      <td>basic.4y</td>\n",
       "      <td>no</td>\n",
       "      <td>no</td>\n",
       "      <td>no</td>\n",
       "      <td>telephone</td>\n",
       "      <td>mon</td>\n",
       "      <td>1</td>\n",
       "      <td>999</td>\n",
       "      <td>0</td>\n",
       "      <td>nonexistent</td>\n",
       "      <td>1.1</td>\n",
       "      <td>93.994</td>\n",
       "      <td>-36.4</td>\n",
       "      <td>4.857</td>\n",
       "      <td>5191.0</td>\n",
       "      <td>no</td>\n",
       "      <td>4.35</td>\n",
       "      <td>q2</td>\n",
       "    </tr>\n",
       "    <tr>\n",
       "      <th>1</th>\n",
       "      <td>57</td>\n",
       "      <td>services</td>\n",
       "      <td>married</td>\n",
       "      <td>high.school</td>\n",
       "      <td>unknown</td>\n",
       "      <td>no</td>\n",
       "      <td>no</td>\n",
       "      <td>telephone</td>\n",
       "      <td>mon</td>\n",
       "      <td>1</td>\n",
       "      <td>999</td>\n",
       "      <td>0</td>\n",
       "      <td>nonexistent</td>\n",
       "      <td>1.1</td>\n",
       "      <td>93.994</td>\n",
       "      <td>-36.4</td>\n",
       "      <td>4.857</td>\n",
       "      <td>5191.0</td>\n",
       "      <td>no</td>\n",
       "      <td>2.48</td>\n",
       "      <td>q2</td>\n",
       "    </tr>\n",
       "    <tr>\n",
       "      <th>2</th>\n",
       "      <td>37</td>\n",
       "      <td>services</td>\n",
       "      <td>married</td>\n",
       "      <td>high.school</td>\n",
       "      <td>no</td>\n",
       "      <td>yes</td>\n",
       "      <td>no</td>\n",
       "      <td>telephone</td>\n",
       "      <td>mon</td>\n",
       "      <td>1</td>\n",
       "      <td>999</td>\n",
       "      <td>0</td>\n",
       "      <td>nonexistent</td>\n",
       "      <td>1.1</td>\n",
       "      <td>93.994</td>\n",
       "      <td>-36.4</td>\n",
       "      <td>4.857</td>\n",
       "      <td>5191.0</td>\n",
       "      <td>no</td>\n",
       "      <td>3.77</td>\n",
       "      <td>q2</td>\n",
       "    </tr>\n",
       "    <tr>\n",
       "      <th>3</th>\n",
       "      <td>40</td>\n",
       "      <td>admin.</td>\n",
       "      <td>married</td>\n",
       "      <td>basic.6y</td>\n",
       "      <td>no</td>\n",
       "      <td>no</td>\n",
       "      <td>no</td>\n",
       "      <td>telephone</td>\n",
       "      <td>mon</td>\n",
       "      <td>1</td>\n",
       "      <td>999</td>\n",
       "      <td>0</td>\n",
       "      <td>nonexistent</td>\n",
       "      <td>1.1</td>\n",
       "      <td>93.994</td>\n",
       "      <td>-36.4</td>\n",
       "      <td>4.857</td>\n",
       "      <td>5191.0</td>\n",
       "      <td>no</td>\n",
       "      <td>2.52</td>\n",
       "      <td>q2</td>\n",
       "    </tr>\n",
       "    <tr>\n",
       "      <th>4</th>\n",
       "      <td>56</td>\n",
       "      <td>services</td>\n",
       "      <td>married</td>\n",
       "      <td>high.school</td>\n",
       "      <td>no</td>\n",
       "      <td>no</td>\n",
       "      <td>yes</td>\n",
       "      <td>telephone</td>\n",
       "      <td>mon</td>\n",
       "      <td>1</td>\n",
       "      <td>999</td>\n",
       "      <td>0</td>\n",
       "      <td>nonexistent</td>\n",
       "      <td>1.1</td>\n",
       "      <td>93.994</td>\n",
       "      <td>-36.4</td>\n",
       "      <td>4.857</td>\n",
       "      <td>5191.0</td>\n",
       "      <td>no</td>\n",
       "      <td>5.12</td>\n",
       "      <td>q2</td>\n",
       "    </tr>\n",
       "  </tbody>\n",
       "</table>\n",
       "</div>"
      ],
      "text/plain": [
       "   age        job  marital    education  default housing loan    contact  \\\n",
       "0   56  housemaid  married     basic.4y       no      no   no  telephone   \n",
       "1   57   services  married  high.school  unknown      no   no  telephone   \n",
       "2   37   services  married  high.school       no     yes   no  telephone   \n",
       "3   40     admin.  married     basic.6y       no      no   no  telephone   \n",
       "4   56   services  married  high.school       no      no  yes  telephone   \n",
       "\n",
       "  day_of_week  campaign  pdays  previous     poutcome  emp.var.rate  \\\n",
       "0         mon         1    999         0  nonexistent           1.1   \n",
       "1         mon         1    999         0  nonexistent           1.1   \n",
       "2         mon         1    999         0  nonexistent           1.1   \n",
       "3         mon         1    999         0  nonexistent           1.1   \n",
       "4         mon         1    999         0  nonexistent           1.1   \n",
       "\n",
       "   cons.price.idx  cons.conf.idx  euribor3m  nr.employed   y  \\\n",
       "0          93.994          -36.4      4.857       5191.0  no   \n",
       "1          93.994          -36.4      4.857       5191.0  no   \n",
       "2          93.994          -36.4      4.857       5191.0  no   \n",
       "3          93.994          -36.4      4.857       5191.0  no   \n",
       "4          93.994          -36.4      4.857       5191.0  no   \n",
       "\n",
       "   duration_minutes kwartal  \n",
       "0              4.35      q2  \n",
       "1              2.48      q2  \n",
       "2              3.77      q2  \n",
       "3              2.52      q2  \n",
       "4              5.12      q2  "
      ]
     },
     "execution_count": 33,
     "metadata": {},
     "output_type": "execute_result"
    }
   ],
   "source": [
    "df.head()"
   ]
  },
  {
   "cell_type": "markdown",
   "metadata": {},
   "source": [
    "### Feature Selection\n",
    "\n",
    "Feature selection is the process of reducing the number of input variables when developing a\n",
    "predictive model"
   ]
  },
  {
   "cell_type": "markdown",
   "metadata": {},
   "source": [
    "##### Mutual Information\n",
    "\n",
    "Statistics for Feature Selection:\n",
    "\n",
    "I. Numerical Input, Categorical Output\n",
    "\n",
    "II. Categorical Input, Categorical Output\n"
   ]
  },
  {
   "cell_type": "code",
   "execution_count": 34,
   "metadata": {},
   "outputs": [],
   "source": [
    "# membagi dataframe menjadi dua tipe data\n",
    "numeric_cols = df.select_dtypes(include=np.number).columns.tolist()\n",
    "categorical_cols = df.select_dtypes('object').columns.tolist()"
   ]
  },
  {
   "cell_type": "code",
   "execution_count": 37,
   "metadata": {},
   "outputs": [],
   "source": [
    "from sklearn.metrics import mutual_info_score\n",
    "def calculate_mi(series):\n",
    "    return mutual_info_score(series, df.y)\n"
   ]
  },
  {
   "cell_type": "code",
   "execution_count": 38,
   "metadata": {},
   "outputs": [
    {
     "name": "stderr",
     "output_type": "stream",
     "text": [
      "C:\\Users\\sivis\\AppData\\Local\\Programs\\Python\\Python38\\lib\\site-packages\\sklearn\\metrics\\cluster\\_supervised.py:65: UserWarning: Clustering metrics expects discrete values but received continuous values for label, and binary values for target\n",
      "  warnings.warn(msg, UserWarning)\n",
      "C:\\Users\\sivis\\AppData\\Local\\Programs\\Python\\Python38\\lib\\site-packages\\sklearn\\metrics\\cluster\\_supervised.py:65: UserWarning: Clustering metrics expects discrete values but received continuous values for label, and binary values for target\n",
      "  warnings.warn(msg, UserWarning)\n",
      "C:\\Users\\sivis\\AppData\\Local\\Programs\\Python\\Python38\\lib\\site-packages\\sklearn\\metrics\\cluster\\_supervised.py:65: UserWarning: Clustering metrics expects discrete values but received continuous values for label, and binary values for target\n",
      "  warnings.warn(msg, UserWarning)\n",
      "C:\\Users\\sivis\\AppData\\Local\\Programs\\Python\\Python38\\lib\\site-packages\\sklearn\\metrics\\cluster\\_supervised.py:65: UserWarning: Clustering metrics expects discrete values but received continuous values for label, and binary values for target\n",
      "  warnings.warn(msg, UserWarning)\n",
      "C:\\Users\\sivis\\AppData\\Local\\Programs\\Python\\Python38\\lib\\site-packages\\sklearn\\metrics\\cluster\\_supervised.py:65: UserWarning: Clustering metrics expects discrete values but received continuous values for label, and binary values for target\n",
      "  warnings.warn(msg, UserWarning)\n",
      "C:\\Users\\sivis\\AppData\\Local\\Programs\\Python\\Python38\\lib\\site-packages\\sklearn\\metrics\\cluster\\_supervised.py:65: UserWarning: Clustering metrics expects discrete values but received continuous values for label, and binary values for target\n",
      "  warnings.warn(msg, UserWarning)\n"
     ]
    },
    {
     "name": "stdout",
     "output_type": "stream",
     "text": [
      "----------------------------------------------------------------------------------------------------\n",
      "#Mutual Information Numerical Input, Categorical Output#\n",
      "                        MI\n",
      "duration_minutes  0.099218\n",
      "euribor3m         0.071419\n",
      "cons.price.idx    0.061955\n",
      "cons.conf.idx     0.061955\n",
      "nr.employed       0.056159\n",
      "emp.var.rate      0.049035\n",
      "pdays             0.029187\n",
      "previous          0.017577\n",
      "age               0.008861\n",
      "campaign          0.002868\n",
      "----------------------------------------------------------------------------------------------------\n",
      "#Mutual Information Categorical Input, Categorical Output#\n",
      "                   MI\n",
      "y            0.337115\n",
      "poutcome     0.027721\n",
      "contact      0.010511\n",
      "kwartal      0.007524\n",
      "job          0.006919\n",
      "default      0.005417\n",
      "education    0.002698\n",
      "marital      0.001876\n",
      "day_of_week  0.000250\n",
      "housing      0.000077\n",
      "loan         0.000008\n",
      "----------------------------------------------------------------------------------------------------\n"
     ]
    }
   ],
   "source": [
    " # Numerical Input, Categorical Output\n",
    "df_mi_num = df[numeric_cols].apply(calculate_mi)\n",
    "df_mi_num = df_mi_num.sort_values(ascending=False).to_frame(name='MI')\n",
    "print('-'*100)\n",
    "print('#Mutual Information Numerical Input, Categorical Output#')\n",
    "print(df_mi_num)\n",
    "print('-'*100)\n",
    " \n",
    " #  Categorical Input, Numerical Output\n",
    "df_mi_cat = df[categorical_cols].apply(calculate_mi)\n",
    "df_mi_cat = df_mi_cat.sort_values(ascending=False).to_frame(name='MI')\n",
    "print('#Mutual Information Categorical Input, Categorical Output#')\n",
    "print(df_mi_cat)\n",
    "print('-'*100)"
   ]
  },
  {
   "cell_type": "markdown",
   "metadata": {},
   "source": [
    "Dari perhitungan Mutual Information score diatas kita hanya menggunakan features yang memiliki nilai MI yang cukup tinggi, selanjutnya feature yang memiliki nilai MI yang rendah kita akan hapus dikarenakan memiliki kemungkina features tersebut kurang memberikan sensitifitas terhadap feature target "
   ]
  },
  {
   "cell_type": "code",
   "execution_count": 39,
   "metadata": {},
   "outputs": [
    {
     "data": {
      "text/html": [
       "<div>\n",
       "<style scoped>\n",
       "    .dataframe tbody tr th:only-of-type {\n",
       "        vertical-align: middle;\n",
       "    }\n",
       "\n",
       "    .dataframe tbody tr th {\n",
       "        vertical-align: top;\n",
       "    }\n",
       "\n",
       "    .dataframe thead th {\n",
       "        text-align: right;\n",
       "    }\n",
       "</style>\n",
       "<table border=\"1\" class=\"dataframe\">\n",
       "  <thead>\n",
       "    <tr style=\"text-align: right;\">\n",
       "      <th></th>\n",
       "      <th>duration_minutes</th>\n",
       "      <th>euribor3m</th>\n",
       "      <th>cons.price.idx</th>\n",
       "      <th>cons.conf.idx</th>\n",
       "      <th>nr.employed</th>\n",
       "      <th>emp.var.rate</th>\n",
       "      <th>pdays</th>\n",
       "      <th>previous</th>\n",
       "      <th>poutcome</th>\n",
       "      <th>contact</th>\n",
       "      <th>y</th>\n",
       "    </tr>\n",
       "  </thead>\n",
       "  <tbody>\n",
       "    <tr>\n",
       "      <th>0</th>\n",
       "      <td>4.35</td>\n",
       "      <td>4.857</td>\n",
       "      <td>93.994</td>\n",
       "      <td>-36.4</td>\n",
       "      <td>5191.0</td>\n",
       "      <td>1.1</td>\n",
       "      <td>999</td>\n",
       "      <td>0</td>\n",
       "      <td>nonexistent</td>\n",
       "      <td>telephone</td>\n",
       "      <td>no</td>\n",
       "    </tr>\n",
       "    <tr>\n",
       "      <th>1</th>\n",
       "      <td>2.48</td>\n",
       "      <td>4.857</td>\n",
       "      <td>93.994</td>\n",
       "      <td>-36.4</td>\n",
       "      <td>5191.0</td>\n",
       "      <td>1.1</td>\n",
       "      <td>999</td>\n",
       "      <td>0</td>\n",
       "      <td>nonexistent</td>\n",
       "      <td>telephone</td>\n",
       "      <td>no</td>\n",
       "    </tr>\n",
       "    <tr>\n",
       "      <th>2</th>\n",
       "      <td>3.77</td>\n",
       "      <td>4.857</td>\n",
       "      <td>93.994</td>\n",
       "      <td>-36.4</td>\n",
       "      <td>5191.0</td>\n",
       "      <td>1.1</td>\n",
       "      <td>999</td>\n",
       "      <td>0</td>\n",
       "      <td>nonexistent</td>\n",
       "      <td>telephone</td>\n",
       "      <td>no</td>\n",
       "    </tr>\n",
       "    <tr>\n",
       "      <th>3</th>\n",
       "      <td>2.52</td>\n",
       "      <td>4.857</td>\n",
       "      <td>93.994</td>\n",
       "      <td>-36.4</td>\n",
       "      <td>5191.0</td>\n",
       "      <td>1.1</td>\n",
       "      <td>999</td>\n",
       "      <td>0</td>\n",
       "      <td>nonexistent</td>\n",
       "      <td>telephone</td>\n",
       "      <td>no</td>\n",
       "    </tr>\n",
       "    <tr>\n",
       "      <th>4</th>\n",
       "      <td>5.12</td>\n",
       "      <td>4.857</td>\n",
       "      <td>93.994</td>\n",
       "      <td>-36.4</td>\n",
       "      <td>5191.0</td>\n",
       "      <td>1.1</td>\n",
       "      <td>999</td>\n",
       "      <td>0</td>\n",
       "      <td>nonexistent</td>\n",
       "      <td>telephone</td>\n",
       "      <td>no</td>\n",
       "    </tr>\n",
       "  </tbody>\n",
       "</table>\n",
       "</div>"
      ],
      "text/plain": [
       "   duration_minutes  euribor3m  cons.price.idx  cons.conf.idx  nr.employed  \\\n",
       "0              4.35      4.857          93.994          -36.4       5191.0   \n",
       "1              2.48      4.857          93.994          -36.4       5191.0   \n",
       "2              3.77      4.857          93.994          -36.4       5191.0   \n",
       "3              2.52      4.857          93.994          -36.4       5191.0   \n",
       "4              5.12      4.857          93.994          -36.4       5191.0   \n",
       "\n",
       "   emp.var.rate  pdays  previous     poutcome    contact   y  \n",
       "0           1.1    999         0  nonexistent  telephone  no  \n",
       "1           1.1    999         0  nonexistent  telephone  no  \n",
       "2           1.1    999         0  nonexistent  telephone  no  \n",
       "3           1.1    999         0  nonexistent  telephone  no  \n",
       "4           1.1    999         0  nonexistent  telephone  no  "
      ]
     },
     "execution_count": 39,
     "metadata": {},
     "output_type": "execute_result"
    }
   ],
   "source": [
    "# Df_cleaned adalah data yang features nya telah kita seleksi dengan menggunakan MI\n",
    "df_cleaned = df[['duration_minutes', 'euribor3m', 'cons.price.idx',\n",
    "                'cons.conf.idx', 'nr.employed', 'emp.var.rate', 'pdays', 'previous', 'poutcome', 'contact', 'y']]\n",
    "df_cleaned.head()"
   ]
  },
  {
   "cell_type": "markdown",
   "metadata": {},
   "source": [
    "## Explorasi Data"
   ]
  },
  {
   "cell_type": "code",
   "execution_count": 40,
   "metadata": {},
   "outputs": [
    {
     "data": {
      "text/plain": [
       "<AxesSubplot:xlabel='previous', ylabel='duration_minutes'>"
      ]
     },
     "execution_count": 40,
     "metadata": {},
     "output_type": "execute_result"
    },
    {
     "data": {
      "image/png": "[encoded data removed]",
      "text/plain": [
       "<Figure size 720x432 with 1 Axes>"
      ]
     },
     "metadata": {
      "needs_background": "light"
     },
     "output_type": "display_data"
    }
   ],
   "source": [
    "sns.scatterplot(data=df_cleaned, x='previous', y='duration_minutes', hue='y')"
   ]
  },
  {
   "cell_type": "markdown",
   "metadata": {},
   "source": [
    "Dari Scatterplot diatas dapat disimpulkan bahwa persebaran yang paling banyak adalah pada previous 0 dan semakin banyak durasi semakin memiliki peluang client melakukan deposit"
   ]
  },
  {
   "cell_type": "markdown",
   "metadata": {},
   "source": [
    "Kita akan melakukan EDA pada client yang melakukan Deposit"
   ]
  },
  {
   "cell_type": "code",
   "execution_count": 41,
   "metadata": {},
   "outputs": [
    {
     "data": {
      "text/html": [
       "<div>\n",
       "<style scoped>\n",
       "    .dataframe tbody tr th:only-of-type {\n",
       "        vertical-align: middle;\n",
       "    }\n",
       "\n",
       "    .dataframe tbody tr th {\n",
       "        vertical-align: top;\n",
       "    }\n",
       "\n",
       "    .dataframe thead th {\n",
       "        text-align: right;\n",
       "    }\n",
       "</style>\n",
       "<table border=\"1\" class=\"dataframe\">\n",
       "  <thead>\n",
       "    <tr style=\"text-align: right;\">\n",
       "      <th></th>\n",
       "      <th>duration_minutes</th>\n",
       "      <th>euribor3m</th>\n",
       "      <th>cons.price.idx</th>\n",
       "      <th>cons.conf.idx</th>\n",
       "      <th>nr.employed</th>\n",
       "      <th>emp.var.rate</th>\n",
       "      <th>pdays</th>\n",
       "      <th>previous</th>\n",
       "      <th>poutcome</th>\n",
       "      <th>contact</th>\n",
       "      <th>y</th>\n",
       "    </tr>\n",
       "  </thead>\n",
       "  <tbody>\n",
       "    <tr>\n",
       "      <th>75</th>\n",
       "      <td>26.25</td>\n",
       "      <td>4.857</td>\n",
       "      <td>93.994</td>\n",
       "      <td>-36.4</td>\n",
       "      <td>5191.0</td>\n",
       "      <td>1.1</td>\n",
       "      <td>999</td>\n",
       "      <td>0</td>\n",
       "      <td>nonexistent</td>\n",
       "      <td>telephone</td>\n",
       "      <td>yes</td>\n",
       "    </tr>\n",
       "    <tr>\n",
       "      <th>83</th>\n",
       "      <td>17.37</td>\n",
       "      <td>4.857</td>\n",
       "      <td>93.994</td>\n",
       "      <td>-36.4</td>\n",
       "      <td>5191.0</td>\n",
       "      <td>1.1</td>\n",
       "      <td>999</td>\n",
       "      <td>0</td>\n",
       "      <td>nonexistent</td>\n",
       "      <td>telephone</td>\n",
       "      <td>yes</td>\n",
       "    </tr>\n",
       "    <tr>\n",
       "      <th>88</th>\n",
       "      <td>24.45</td>\n",
       "      <td>4.857</td>\n",
       "      <td>93.994</td>\n",
       "      <td>-36.4</td>\n",
       "      <td>5191.0</td>\n",
       "      <td>1.1</td>\n",
       "      <td>999</td>\n",
       "      <td>0</td>\n",
       "      <td>nonexistent</td>\n",
       "      <td>telephone</td>\n",
       "      <td>yes</td>\n",
       "    </tr>\n",
       "    <tr>\n",
       "      <th>129</th>\n",
       "      <td>9.65</td>\n",
       "      <td>4.857</td>\n",
       "      <td>93.994</td>\n",
       "      <td>-36.4</td>\n",
       "      <td>5191.0</td>\n",
       "      <td>1.1</td>\n",
       "      <td>999</td>\n",
       "      <td>0</td>\n",
       "      <td>nonexistent</td>\n",
       "      <td>telephone</td>\n",
       "      <td>yes</td>\n",
       "    </tr>\n",
       "    <tr>\n",
       "      <th>139</th>\n",
       "      <td>7.68</td>\n",
       "      <td>4.857</td>\n",
       "      <td>93.994</td>\n",
       "      <td>-36.4</td>\n",
       "      <td>5191.0</td>\n",
       "      <td>1.1</td>\n",
       "      <td>999</td>\n",
       "      <td>0</td>\n",
       "      <td>nonexistent</td>\n",
       "      <td>telephone</td>\n",
       "      <td>yes</td>\n",
       "    </tr>\n",
       "  </tbody>\n",
       "</table>\n",
       "</div>"
      ],
      "text/plain": [
       "     duration_minutes  euribor3m  cons.price.idx  cons.conf.idx  nr.employed  \\\n",
       "75              26.25      4.857          93.994          -36.4       5191.0   \n",
       "83              17.37      4.857          93.994          -36.4       5191.0   \n",
       "88              24.45      4.857          93.994          -36.4       5191.0   \n",
       "129              9.65      4.857          93.994          -36.4       5191.0   \n",
       "139              7.68      4.857          93.994          -36.4       5191.0   \n",
       "\n",
       "     emp.var.rate  pdays  previous     poutcome    contact    y  \n",
       "75            1.1    999         0  nonexistent  telephone  yes  \n",
       "83            1.1    999         0  nonexistent  telephone  yes  \n",
       "88            1.1    999         0  nonexistent  telephone  yes  \n",
       "129           1.1    999         0  nonexistent  telephone  yes  \n",
       "139           1.1    999         0  nonexistent  telephone  yes  "
      ]
     },
     "execution_count": 41,
     "metadata": {},
     "output_type": "execute_result"
    }
   ],
   "source": [
    "df_cleaned_yes = df_cleaned[(df_cleaned['y']=='yes')]\n",
    "df_cleaned_yes.head()"
   ]
  },
  {
   "cell_type": "code",
   "execution_count": 42,
   "metadata": {},
   "outputs": [
    {
     "data": {
      "text/plain": [
       "array([93.994, 94.465, 93.918, 93.444, 93.798, 93.2  , 92.756, 92.843,\n",
       "       93.075, 92.893, 92.963, 92.469, 92.201, 92.379, 92.649, 92.713,\n",
       "       93.369, 93.749, 93.876, 94.055, 94.215, 94.027, 94.199, 94.601,\n",
       "       94.767])"
      ]
     },
     "execution_count": 42,
     "metadata": {},
     "output_type": "execute_result"
    }
   ],
   "source": [
    "df_cleaned_yes['cons.price.idx'].unique()"
   ]
  },
  {
   "cell_type": "code",
   "execution_count": 43,
   "metadata": {},
   "outputs": [
    {
     "data": {
      "text/plain": [
       "<AxesSubplot:xlabel='cons.price.idx', ylabel='Count'>"
      ]
     },
     "execution_count": 43,
     "metadata": {},
     "output_type": "execute_result"
    },
    {
     "data": {
      "image/png": "[encoded data removed]",
      "text/plain": [
       "<Figure size 720x432 with 1 Axes>"
      ]
     },
     "metadata": {
      "needs_background": "light"
     },
     "output_type": "display_data"
    }
   ],
   "source": [
    "sns.histplot(data=df_cleaned_yes, x='cons.price.idx', color=\"green\")"
   ]
  },
  {
   "cell_type": "markdown",
   "metadata": {},
   "source": [
    "consumer price index terbesar dengan deposit yes disekitar angka 93"
   ]
  },
  {
   "cell_type": "code",
   "execution_count": 44,
   "metadata": {},
   "outputs": [
    {
     "data": {
      "text/plain": [
       "<AxesSubplot:xlabel='cons.conf.idx', ylabel='Count'>"
      ]
     },
     "execution_count": 44,
     "metadata": {},
     "output_type": "execute_result"
    },
    {
     "data": {
      "image/png": "[encoded data removed]",
      "text/plain": [
       "<Figure size 720x432 with 1 Axes>"
      ]
     },
     "metadata": {
      "needs_background": "light"
     },
     "output_type": "display_data"
    }
   ],
   "source": [
    "sns.histplot(data=df_cleaned_yes, x='cons.conf.idx', color=\"red\")"
   ]
  },
  {
   "cell_type": "markdown",
   "metadata": {},
   "source": [
    "consumer confident index terbesar dengan deposit yes disekitar angka -40"
   ]
  },
  {
   "cell_type": "code",
   "execution_count": 45,
   "metadata": {},
   "outputs": [
    {
     "data": {
      "text/plain": [
       "<AxesSubplot:xlabel='euribor3m', ylabel='Count'>"
      ]
     },
     "execution_count": 45,
     "metadata": {},
     "output_type": "execute_result"
    },
    {
     "data": {
      "image/png": "[encoded data removed]",
      "text/plain": [
       "<Figure size 720x432 with 1 Axes>"
      ]
     },
     "metadata": {
      "needs_background": "light"
     },
     "output_type": "display_data"
    }
   ],
   "source": [
    "sns.histplot(data=df_cleaned_yes, x='euribor3m', color=\"purple\")"
   ]
  },
  {
   "cell_type": "markdown",
   "metadata": {},
   "source": [
    "euribor terbesar dengan deposit yes disekitar angka 0-1"
   ]
  },
  {
   "cell_type": "code",
   "execution_count": 46,
   "metadata": {},
   "outputs": [
    {
     "data": {
      "text/plain": [
       "<AxesSubplot:xlabel='nr.employed', ylabel='emp.var.rate'>"
      ]
     },
     "execution_count": 46,
     "metadata": {},
     "output_type": "execute_result"
    },
    {
     "data": {
      "image/png": "[encoded data removed]",
      "text/plain": [
       "<Figure size 720x432 with 1 Axes>"
      ]
     },
     "metadata": {
      "needs_background": "light"
     },
     "output_type": "display_data"
    }
   ],
   "source": [
    "sns.barplot(data=df_cleaned, x='nr.employed', y='emp.var.rate')"
   ]
  },
  {
   "cell_type": "markdown",
   "metadata": {},
   "source": [
    "Perbandingan employment variation rate dan jumlah employment yang melakukan deposit, employment variation rate negatif lebih banyak jumlah employee yang melakukan deposit"
   ]
  },
  {
   "cell_type": "code",
   "execution_count": 47,
   "metadata": {},
   "outputs": [
    {
     "data": {
      "text/html": [
       "<div>\n",
       "<style scoped>\n",
       "    .dataframe tbody tr th:only-of-type {\n",
       "        vertical-align: middle;\n",
       "    }\n",
       "\n",
       "    .dataframe tbody tr th {\n",
       "        vertical-align: top;\n",
       "    }\n",
       "\n",
       "    .dataframe thead th {\n",
       "        text-align: right;\n",
       "    }\n",
       "</style>\n",
       "<table border=\"1\" class=\"dataframe\">\n",
       "  <thead>\n",
       "    <tr style=\"text-align: right;\">\n",
       "      <th></th>\n",
       "      <th>contact</th>\n",
       "      <th>poutcome</th>\n",
       "      <th>y</th>\n",
       "    </tr>\n",
       "  </thead>\n",
       "  <tbody>\n",
       "    <tr>\n",
       "      <th>0</th>\n",
       "      <td>cellular</td>\n",
       "      <td>failure</td>\n",
       "      <td>498</td>\n",
       "    </tr>\n",
       "    <tr>\n",
       "      <th>1</th>\n",
       "      <td>cellular</td>\n",
       "      <td>nonexistent</td>\n",
       "      <td>2280</td>\n",
       "    </tr>\n",
       "    <tr>\n",
       "      <th>2</th>\n",
       "      <td>cellular</td>\n",
       "      <td>success</td>\n",
       "      <td>726</td>\n",
       "    </tr>\n",
       "    <tr>\n",
       "      <th>3</th>\n",
       "      <td>telephone</td>\n",
       "      <td>failure</td>\n",
       "      <td>31</td>\n",
       "    </tr>\n",
       "    <tr>\n",
       "      <th>4</th>\n",
       "      <td>telephone</td>\n",
       "      <td>nonexistent</td>\n",
       "      <td>663</td>\n",
       "    </tr>\n",
       "    <tr>\n",
       "      <th>5</th>\n",
       "      <td>telephone</td>\n",
       "      <td>success</td>\n",
       "      <td>58</td>\n",
       "    </tr>\n",
       "  </tbody>\n",
       "</table>\n",
       "</div>"
      ],
      "text/plain": [
       "     contact     poutcome     y\n",
       "0   cellular      failure   498\n",
       "1   cellular  nonexistent  2280\n",
       "2   cellular      success   726\n",
       "3  telephone      failure    31\n",
       "4  telephone  nonexistent   663\n",
       "5  telephone      success    58"
      ]
     },
     "execution_count": 47,
     "metadata": {},
     "output_type": "execute_result"
    }
   ],
   "source": [
    "df_poutcome_contact = df_cleaned_yes.groupby(['contact', 'poutcome'])['y'].count().reset_index()\n",
    "df_poutcome_contact"
   ]
  },
  {
   "cell_type": "code",
   "execution_count": 48,
   "metadata": {},
   "outputs": [
    {
     "data": {
      "image/png": "[encoded data removed]",
      "text/plain": [
       "<Figure size 720x432 with 1 Axes>"
      ]
     },
     "metadata": {
      "needs_background": "light"
     },
     "output_type": "display_data"
    }
   ],
   "source": [
    "ax = sns.barplot(x='contact', y=df_poutcome_contact['y'], hue='poutcome', data=df_poutcome_contact)"
   ]
  },
  {
   "cell_type": "markdown",
   "metadata": {},
   "source": [
    "Kita bisa melihat dari pengelompokan berdasarkan contact dan poutcome yang melakukan deposit, dengan poutcome sukses lebih banyak dilakukan degan contact cellular"
   ]
  },
  {
   "cell_type": "code",
   "execution_count": 49,
   "metadata": {},
   "outputs": [
    {
     "data": {
      "text/plain": [
       "array([999,   5,   6,  10,   7,  11,   2,   0,   3,   9,  12,   1,   4,\n",
       "        13,  14,  15,  16,   8,  21,  18,  22,  25,  26,  17,  27,  19],\n",
       "      dtype=int64)"
      ]
     },
     "execution_count": 49,
     "metadata": {},
     "output_type": "execute_result"
    }
   ],
   "source": [
    "labels = df_cleaned_yes['pdays'].unique()\n",
    "labels"
   ]
  },
  {
   "cell_type": "markdown",
   "metadata": {},
   "source": [
    "Kita melakukan feature engineering dengan merubah data features pdays menjadi pdays_perweek"
   ]
  },
  {
   "cell_type": "code",
   "execution_count": 50,
   "metadata": {},
   "outputs": [],
   "source": [
    "def pdays_perweek(data):\n",
    "    pdays_perweek = []\n",
    "    for i in data.iloc[:]:\n",
    "        if i <= 7:\n",
    "            pdays_perweek.append('week1')\n",
    "        elif i == 999:\n",
    "            pdays_perweek.append('notpreviouslycontacted')\n",
    "        elif i > 21:\n",
    "            pdays_perweek.append('week4')\n",
    "        elif (i > 7) and (i <= 14):\n",
    "            pdays_perweek.append('week2')\n",
    "        else:\n",
    "            pdays_perweek.append('week3')\n",
    "    return pdays_perweek"
   ]
  },
  {
   "cell_type": "code",
   "execution_count": 51,
   "metadata": {},
   "outputs": [],
   "source": [
    "pdays_per_week = pdays_perweek(df_cleaned_yes['pdays'])"
   ]
  },
  {
   "cell_type": "code",
   "execution_count": 53,
   "metadata": {},
   "outputs": [
    {
     "name": "stderr",
     "output_type": "stream",
     "text": [
      "C:\\Users\\sivis\\AppData\\Local\\Temp/ipykernel_32320/2656241480.py:1: SettingWithCopyWarning: \n",
      "A value is trying to be set on a copy of a slice from a DataFrame.\n",
      "Try using .loc[row_indexer,col_indexer] = value instead\n",
      "\n",
      "See the caveats in the documentation: https://pandas.pydata.org/pandas-docs/stable/user_guide/indexing.html#returning-a-view-versus-a-copy\n",
      "  df_cleaned_yes['pdays_perweek'] = pdays_per_week\n"
     ]
    }
   ],
   "source": [
    "df_cleaned_yes['pdays_perweek'] = pdays_per_week"
   ]
  },
  {
   "cell_type": "code",
   "execution_count": 54,
   "metadata": {},
   "outputs": [
    {
     "data": {
      "text/html": [
       "<div>\n",
       "<style scoped>\n",
       "    .dataframe tbody tr th:only-of-type {\n",
       "        vertical-align: middle;\n",
       "    }\n",
       "\n",
       "    .dataframe tbody tr th {\n",
       "        vertical-align: top;\n",
       "    }\n",
       "\n",
       "    .dataframe thead th {\n",
       "        text-align: right;\n",
       "    }\n",
       "</style>\n",
       "<table border=\"1\" class=\"dataframe\">\n",
       "  <thead>\n",
       "    <tr style=\"text-align: right;\">\n",
       "      <th></th>\n",
       "      <th>duration_minutes</th>\n",
       "      <th>euribor3m</th>\n",
       "      <th>cons.price.idx</th>\n",
       "      <th>cons.conf.idx</th>\n",
       "      <th>nr.employed</th>\n",
       "      <th>emp.var.rate</th>\n",
       "      <th>pdays</th>\n",
       "      <th>previous</th>\n",
       "      <th>poutcome</th>\n",
       "      <th>contact</th>\n",
       "      <th>y</th>\n",
       "      <th>pdays_perweek</th>\n",
       "    </tr>\n",
       "  </thead>\n",
       "  <tbody>\n",
       "    <tr>\n",
       "      <th>75</th>\n",
       "      <td>26.25</td>\n",
       "      <td>4.857</td>\n",
       "      <td>93.994</td>\n",
       "      <td>-36.4</td>\n",
       "      <td>5191.0</td>\n",
       "      <td>1.1</td>\n",
       "      <td>999</td>\n",
       "      <td>0</td>\n",
       "      <td>nonexistent</td>\n",
       "      <td>telephone</td>\n",
       "      <td>yes</td>\n",
       "      <td>notpreviouslycontacted</td>\n",
       "    </tr>\n",
       "    <tr>\n",
       "      <th>83</th>\n",
       "      <td>17.37</td>\n",
       "      <td>4.857</td>\n",
       "      <td>93.994</td>\n",
       "      <td>-36.4</td>\n",
       "      <td>5191.0</td>\n",
       "      <td>1.1</td>\n",
       "      <td>999</td>\n",
       "      <td>0</td>\n",
       "      <td>nonexistent</td>\n",
       "      <td>telephone</td>\n",
       "      <td>yes</td>\n",
       "      <td>notpreviouslycontacted</td>\n",
       "    </tr>\n",
       "    <tr>\n",
       "      <th>88</th>\n",
       "      <td>24.45</td>\n",
       "      <td>4.857</td>\n",
       "      <td>93.994</td>\n",
       "      <td>-36.4</td>\n",
       "      <td>5191.0</td>\n",
       "      <td>1.1</td>\n",
       "      <td>999</td>\n",
       "      <td>0</td>\n",
       "      <td>nonexistent</td>\n",
       "      <td>telephone</td>\n",
       "      <td>yes</td>\n",
       "      <td>notpreviouslycontacted</td>\n",
       "    </tr>\n",
       "    <tr>\n",
       "      <th>129</th>\n",
       "      <td>9.65</td>\n",
       "      <td>4.857</td>\n",
       "      <td>93.994</td>\n",
       "      <td>-36.4</td>\n",
       "      <td>5191.0</td>\n",
       "      <td>1.1</td>\n",
       "      <td>999</td>\n",
       "      <td>0</td>\n",
       "      <td>nonexistent</td>\n",
       "      <td>telephone</td>\n",
       "      <td>yes</td>\n",
       "      <td>notpreviouslycontacted</td>\n",
       "    </tr>\n",
       "    <tr>\n",
       "      <th>139</th>\n",
       "      <td>7.68</td>\n",
       "      <td>4.857</td>\n",
       "      <td>93.994</td>\n",
       "      <td>-36.4</td>\n",
       "      <td>5191.0</td>\n",
       "      <td>1.1</td>\n",
       "      <td>999</td>\n",
       "      <td>0</td>\n",
       "      <td>nonexistent</td>\n",
       "      <td>telephone</td>\n",
       "      <td>yes</td>\n",
       "      <td>notpreviouslycontacted</td>\n",
       "    </tr>\n",
       "  </tbody>\n",
       "</table>\n",
       "</div>"
      ],
      "text/plain": [
       "     duration_minutes  euribor3m  cons.price.idx  cons.conf.idx  nr.employed  \\\n",
       "75              26.25      4.857          93.994          -36.4       5191.0   \n",
       "83              17.37      4.857          93.994          -36.4       5191.0   \n",
       "88              24.45      4.857          93.994          -36.4       5191.0   \n",
       "129              9.65      4.857          93.994          -36.4       5191.0   \n",
       "139              7.68      4.857          93.994          -36.4       5191.0   \n",
       "\n",
       "     emp.var.rate  pdays  previous     poutcome    contact    y  \\\n",
       "75            1.1    999         0  nonexistent  telephone  yes   \n",
       "83            1.1    999         0  nonexistent  telephone  yes   \n",
       "88            1.1    999         0  nonexistent  telephone  yes   \n",
       "129           1.1    999         0  nonexistent  telephone  yes   \n",
       "139           1.1    999         0  nonexistent  telephone  yes   \n",
       "\n",
       "              pdays_perweek  \n",
       "75   notpreviouslycontacted  \n",
       "83   notpreviouslycontacted  \n",
       "88   notpreviouslycontacted  \n",
       "129  notpreviouslycontacted  \n",
       "139  notpreviouslycontacted  "
      ]
     },
     "execution_count": 54,
     "metadata": {},
     "output_type": "execute_result"
    }
   ],
   "source": [
    "df_cleaned_yes.head()"
   ]
  },
  {
   "cell_type": "code",
   "execution_count": 55,
   "metadata": {},
   "outputs": [
    {
     "data": {
      "text/plain": [
       "array(['notpreviouslycontacted', 'week1', 'week2', 'week3', 'week4'],\n",
       "      dtype=object)"
      ]
     },
     "execution_count": 55,
     "metadata": {},
     "output_type": "execute_result"
    }
   ],
   "source": [
    "labels = df_cleaned_yes['pdays_perweek'].unique()\n",
    "labels"
   ]
  },
  {
   "cell_type": "code",
   "execution_count": 56,
   "metadata": {},
   "outputs": [],
   "source": [
    "pdays_per_week_count = df_cleaned_yes['pdays_perweek'].value_counts()"
   ]
  },
  {
   "cell_type": "code",
   "execution_count": 57,
   "metadata": {},
   "outputs": [
    {
     "data": {
      "image/png": "[encoded data removed]",
      "text/plain": [
       "<Figure size 864x576 with 1 Axes>"
      ]
     },
     "metadata": {},
     "output_type": "display_data"
    }
   ],
   "source": [
    "colors = sns.color_palette('pastel')[0:5]\n",
    "sns.set_theme(style=\"whitegrid\")\n",
    "fig, ax = plt.subplots(figsize=(12, 8))\n",
    "plt.pie(pdays_per_week_count, labels= labels, colors=colors, autopct='%.0f%%')\n",
    "plt.title(\"Persentase pdays per Weeks 'Yes' Deposit\")\n",
    "plt.show()"
   ]
  },
  {
   "cell_type": "markdown",
   "metadata": {},
   "source": [
    "Dari pie chat tersebut 80% orang yang melakukan deposit tidak dikontak sebelumnya"
   ]
  },
  {
   "cell_type": "code",
   "execution_count": 58,
   "metadata": {},
   "outputs": [
    {
     "name": "stdout",
     "output_type": "stream",
     "text": [
      "<class 'pandas.core.frame.DataFrame'>\n",
      "Int64Index: 4256 entries, 75 to 41186\n",
      "Data columns (total 12 columns):\n",
      " #   Column            Non-Null Count  Dtype  \n",
      "---  ------            --------------  -----  \n",
      " 0   duration_minutes  4256 non-null   float64\n",
      " 1   euribor3m         4256 non-null   float64\n",
      " 2   cons.price.idx    4256 non-null   float64\n",
      " 3   cons.conf.idx     4256 non-null   float64\n",
      " 4   nr.employed       4256 non-null   float64\n",
      " 5   emp.var.rate      4256 non-null   float64\n",
      " 6   pdays             4256 non-null   int64  \n",
      " 7   previous          4256 non-null   int64  \n",
      " 8   poutcome          4256 non-null   object \n",
      " 9   contact           4256 non-null   object \n",
      " 10  y                 4256 non-null   object \n",
      " 11  pdays_perweek     4256 non-null   object \n",
      "dtypes: float64(6), int64(2), object(4)\n",
      "memory usage: 432.2+ KB\n"
     ]
    }
   ],
   "source": [
    "df_cleaned_yes.info()"
   ]
  },
  {
   "cell_type": "code",
   "execution_count": 59,
   "metadata": {},
   "outputs": [
    {
     "name": "stderr",
     "output_type": "stream",
     "text": [
      "C:\\Users\\sivis\\AppData\\Local\\Temp/ipykernel_32320/2141761433.py:1: SettingWithCopyWarning: \n",
      "A value is trying to be set on a copy of a slice from a DataFrame.\n",
      "Try using .loc[row_indexer,col_indexer] = value instead\n",
      "\n",
      "See the caveats in the documentation: https://pandas.pydata.org/pandas-docs/stable/user_guide/indexing.html#returning-a-view-versus-a-copy\n",
      "  df_cleaned['pdays_perweek'] = pdays_perweek(df_cleaned['pdays'])\n"
     ]
    }
   ],
   "source": [
    "df_cleaned['pdays_perweek'] = pdays_perweek(df_cleaned['pdays'])"
   ]
  },
  {
   "cell_type": "code",
   "execution_count": 60,
   "metadata": {},
   "outputs": [
    {
     "name": "stderr",
     "output_type": "stream",
     "text": [
      "C:\\Users\\sivis\\AppData\\Local\\Programs\\Python\\Python38\\lib\\site-packages\\pandas\\core\\frame.py:4906: SettingWithCopyWarning: \n",
      "A value is trying to be set on a copy of a slice from a DataFrame\n",
      "\n",
      "See the caveats in the documentation: https://pandas.pydata.org/pandas-docs/stable/user_guide/indexing.html#returning-a-view-versus-a-copy\n",
      "  return super().drop(\n"
     ]
    }
   ],
   "source": [
    "df_cleaned.drop(['pdays'], axis=1, inplace=True)"
   ]
  },
  {
   "cell_type": "code",
   "execution_count": 61,
   "metadata": {},
   "outputs": [
    {
     "data": {
      "text/html": [
       "<div>\n",
       "<style scoped>\n",
       "    .dataframe tbody tr th:only-of-type {\n",
       "        vertical-align: middle;\n",
       "    }\n",
       "\n",
       "    .dataframe tbody tr th {\n",
       "        vertical-align: top;\n",
       "    }\n",
       "\n",
       "    .dataframe thead th {\n",
       "        text-align: right;\n",
       "    }\n",
       "</style>\n",
       "<table border=\"1\" class=\"dataframe\">\n",
       "  <thead>\n",
       "    <tr style=\"text-align: right;\">\n",
       "      <th></th>\n",
       "      <th>duration_minutes</th>\n",
       "      <th>euribor3m</th>\n",
       "      <th>cons.price.idx</th>\n",
       "      <th>cons.conf.idx</th>\n",
       "      <th>nr.employed</th>\n",
       "      <th>emp.var.rate</th>\n",
       "      <th>previous</th>\n",
       "      <th>poutcome</th>\n",
       "      <th>contact</th>\n",
       "      <th>y</th>\n",
       "      <th>pdays_perweek</th>\n",
       "    </tr>\n",
       "  </thead>\n",
       "  <tbody>\n",
       "    <tr>\n",
       "      <th>0</th>\n",
       "      <td>4.35</td>\n",
       "      <td>4.857</td>\n",
       "      <td>93.994</td>\n",
       "      <td>-36.4</td>\n",
       "      <td>5191.0</td>\n",
       "      <td>1.1</td>\n",
       "      <td>0</td>\n",
       "      <td>nonexistent</td>\n",
       "      <td>telephone</td>\n",
       "      <td>no</td>\n",
       "      <td>notpreviouslycontacted</td>\n",
       "    </tr>\n",
       "    <tr>\n",
       "      <th>1</th>\n",
       "      <td>2.48</td>\n",
       "      <td>4.857</td>\n",
       "      <td>93.994</td>\n",
       "      <td>-36.4</td>\n",
       "      <td>5191.0</td>\n",
       "      <td>1.1</td>\n",
       "      <td>0</td>\n",
       "      <td>nonexistent</td>\n",
       "      <td>telephone</td>\n",
       "      <td>no</td>\n",
       "      <td>notpreviouslycontacted</td>\n",
       "    </tr>\n",
       "    <tr>\n",
       "      <th>2</th>\n",
       "      <td>3.77</td>\n",
       "      <td>4.857</td>\n",
       "      <td>93.994</td>\n",
       "      <td>-36.4</td>\n",
       "      <td>5191.0</td>\n",
       "      <td>1.1</td>\n",
       "      <td>0</td>\n",
       "      <td>nonexistent</td>\n",
       "      <td>telephone</td>\n",
       "      <td>no</td>\n",
       "      <td>notpreviouslycontacted</td>\n",
       "    </tr>\n",
       "    <tr>\n",
       "      <th>3</th>\n",
       "      <td>2.52</td>\n",
       "      <td>4.857</td>\n",
       "      <td>93.994</td>\n",
       "      <td>-36.4</td>\n",
       "      <td>5191.0</td>\n",
       "      <td>1.1</td>\n",
       "      <td>0</td>\n",
       "      <td>nonexistent</td>\n",
       "      <td>telephone</td>\n",
       "      <td>no</td>\n",
       "      <td>notpreviouslycontacted</td>\n",
       "    </tr>\n",
       "    <tr>\n",
       "      <th>4</th>\n",
       "      <td>5.12</td>\n",
       "      <td>4.857</td>\n",
       "      <td>93.994</td>\n",
       "      <td>-36.4</td>\n",
       "      <td>5191.0</td>\n",
       "      <td>1.1</td>\n",
       "      <td>0</td>\n",
       "      <td>nonexistent</td>\n",
       "      <td>telephone</td>\n",
       "      <td>no</td>\n",
       "      <td>notpreviouslycontacted</td>\n",
       "    </tr>\n",
       "  </tbody>\n",
       "</table>\n",
       "</div>"
      ],
      "text/plain": [
       "   duration_minutes  euribor3m  cons.price.idx  cons.conf.idx  nr.employed  \\\n",
       "0              4.35      4.857          93.994          -36.4       5191.0   \n",
       "1              2.48      4.857          93.994          -36.4       5191.0   \n",
       "2              3.77      4.857          93.994          -36.4       5191.0   \n",
       "3              2.52      4.857          93.994          -36.4       5191.0   \n",
       "4              5.12      4.857          93.994          -36.4       5191.0   \n",
       "\n",
       "   emp.var.rate  previous     poutcome    contact   y           pdays_perweek  \n",
       "0           1.1         0  nonexistent  telephone  no  notpreviouslycontacted  \n",
       "1           1.1         0  nonexistent  telephone  no  notpreviouslycontacted  \n",
       "2           1.1         0  nonexistent  telephone  no  notpreviouslycontacted  \n",
       "3           1.1         0  nonexistent  telephone  no  notpreviouslycontacted  \n",
       "4           1.1         0  nonexistent  telephone  no  notpreviouslycontacted  "
      ]
     },
     "execution_count": 61,
     "metadata": {},
     "output_type": "execute_result"
    }
   ],
   "source": [
    "df_cleaned.head()"
   ]
  },
  {
   "cell_type": "code",
   "execution_count": 62,
   "metadata": {},
   "outputs": [
    {
     "data": {
      "text/plain": [
       "array([0, 1, 2, 3, 4, 5, 6, 7], dtype=int64)"
      ]
     },
     "execution_count": 62,
     "metadata": {},
     "output_type": "execute_result"
    }
   ],
   "source": [
    "df_cleaned['previous'].unique()"
   ]
  },
  {
   "cell_type": "markdown",
   "metadata": {},
   "source": [
    "## Data Preprocessing"
   ]
  },
  {
   "cell_type": "code",
   "execution_count": 63,
   "metadata": {},
   "outputs": [
    {
     "name": "stderr",
     "output_type": "stream",
     "text": [
      "C:\\Users\\sivis\\AppData\\Local\\Temp/ipykernel_32320/1817447344.py:2: SettingWithCopyWarning: \n",
      "A value is trying to be set on a copy of a slice from a DataFrame.\n",
      "Try using .loc[row_indexer,col_indexer] = value instead\n",
      "\n",
      "See the caveats in the documentation: https://pandas.pydata.org/pandas-docs/stable/user_guide/indexing.html#returning-a-view-versus-a-copy\n",
      "  df_cleaned['y'] = label_encode.fit_transform(df_cleaned['y'])\n"
     ]
    }
   ],
   "source": [
    "label_encode = LabelEncoder()\n",
    "df_cleaned['y'] = label_encode.fit_transform(df_cleaned['y'])"
   ]
  },
  {
   "cell_type": "markdown",
   "metadata": {},
   "source": [
    "Bagi features dan target, variabel target adalah kolom 'y' yaitu deposit yes dan no"
   ]
  },
  {
   "cell_type": "code",
   "execution_count": 64,
   "metadata": {},
   "outputs": [],
   "source": [
    "X = df_cleaned.drop(['y'], axis=1)\n",
    "y = df_cleaned['y']"
   ]
  },
  {
   "cell_type": "markdown",
   "metadata": {},
   "source": [
    "Split Data Train dan Data Test"
   ]
  },
  {
   "cell_type": "code",
   "execution_count": 65,
   "metadata": {},
   "outputs": [],
   "source": [
    "X_train, X_test, y_train, y_test = train_test_split(X, y, test_size=0.2, stratify=y, random_state=0)"
   ]
  },
  {
   "cell_type": "markdown",
   "metadata": {},
   "source": [
    "Buat Pipeline untuk masing-masing data types"
   ]
  },
  {
   "cell_type": "code",
   "execution_count": 66,
   "metadata": {},
   "outputs": [],
   "source": [
    "numerical_pipeline = Pipeline([\n",
    "                               (\"scaler\", MinMaxScaler())\n",
    "                               \n",
    "\n",
    "                               ])\n",
    "\n",
    "categorical_pipeline = Pipeline([\n",
    "                                 (\"onehot\", OneHotEncoder())\n",
    "                               \n",
    "                                 ])"
   ]
  },
  {
   "cell_type": "code",
   "execution_count": 67,
   "metadata": {},
   "outputs": [
    {
     "data": {
      "text/plain": [
       "['duration_minutes',\n",
       " 'euribor3m',\n",
       " 'cons.price.idx',\n",
       " 'cons.conf.idx',\n",
       " 'nr.employed',\n",
       " 'emp.var.rate',\n",
       " 'previous',\n",
       " 'y']"
      ]
     },
     "execution_count": 67,
     "metadata": {},
     "output_type": "execute_result"
    }
   ],
   "source": [
    "# membagi dataframe menjadi dua tipe data\n",
    "\n",
    "numeric_cols = df_cleaned.select_dtypes(include=np.number).columns.tolist()\n",
    "categorical_cols = df_cleaned.select_dtypes('object').columns.tolist()\n",
    "numeric_cols"
   ]
  },
  {
   "cell_type": "code",
   "execution_count": 68,
   "metadata": {},
   "outputs": [
    {
     "data": {
      "text/plain": [
       "Index(['duration_minutes', 'euribor3m', 'cons.price.idx', 'cons.conf.idx',\n",
       "       'nr.employed', 'emp.var.rate', 'previous'],\n",
       "      dtype='object')"
      ]
     },
     "execution_count": 68,
     "metadata": {},
     "output_type": "execute_result"
    }
   ],
   "source": [
    "num_cols = df_cleaned[numeric_cols].drop(['y'], axis=1)\n",
    "num_cols.columns"
   ]
  },
  {
   "cell_type": "code",
   "execution_count": 69,
   "metadata": {},
   "outputs": [
    {
     "data": {
      "text/plain": [
       "['poutcome', 'contact', 'pdays_perweek']"
      ]
     },
     "execution_count": 69,
     "metadata": {},
     "output_type": "execute_result"
    }
   ],
   "source": [
    "categorical_cols"
   ]
  },
  {
   "cell_type": "code",
   "execution_count": 73,
   "metadata": {},
   "outputs": [],
   "source": [
    "from sklearn.compose import ColumnTransformer\n",
    "\n",
    "\n",
    "preprocessor = ColumnTransformer([\n",
    "                                  (\"numeric\", numerical_pipeline, num_cols.columns),\n",
    "                                  (\"categoric\", categorical_pipeline, categorical_cols)\n",
    "                      \n",
    "\n",
    "])"
   ]
  },
  {
   "cell_type": "markdown",
   "metadata": {},
   "source": [
    "## Machine Learning Model"
   ]
  },
  {
   "cell_type": "markdown",
   "metadata": {},
   "source": [
    "1. Kita akan membuat beberapa Machine Learning Model seperti, Logistic Regression, SVM, Decision Tree, Random Forest, Naive Bayes, KNN, dan Stochastic Gradient Boosting\n",
    "\n",
    "2. Kita akan menggunakan model dengan hyperparameter default sebagai baseline model, dan kita akan menggunakan RandomOverSampler sebagai cara untuk menangani data imbalanced karena RandomOverSampler cukup bagus untuk menangani data imbalanced dengan ukuran data yang tidak terlalu banyak\n",
    "\n",
    "3. Repeated stratified k-flod cross-validation adalah sebuah cara untuk meningkatkan estimasi performa machine learning model dengan melakukan pengambilan sample secara acak di setiap pengulangan dengan mempertahankan proporsi data\n",
    "4. Evaluasi Model kita akan menggunakan metric recall yang berfokus pada seseorang/calon nasabah yang akan melakukan deposit dengan alasan bahwa bank akan dirugikan jika calon nasabah potential diprediksi tidak melakukan deposit padahal nasabah sangat potential melakukan deposit\n"
   ]
  },
  {
   "cell_type": "markdown",
   "metadata": {},
   "source": [
    "### Pendefinisian Model\n",
    "\n",
    "**Logistic Regression**"
   ]
  },
  {
   "cell_type": "code",
   "execution_count": 74,
   "metadata": {},
   "outputs": [],
   "source": [
    "# Model logistic Regression\n",
    "clf = LogisticRegression()\n",
    "\n",
    "\n",
    "pipeline_clf = pip([\n",
    "                      (\"prep_clf\", preprocessor),\n",
    "                    ('random', RandomOverSampler(random_state=42)),\n",
    "                      (\"algo_clf\", clf)\n",
    "])"
   ]
  },
  {
   "cell_type": "markdown",
   "metadata": {},
   "source": [
    "### Pelatihan Model"
   ]
  },
  {
   "cell_type": "code",
   "execution_count": 76,
   "metadata": {},
   "outputs": [
    {
     "name": "stderr",
     "output_type": "stream",
     "text": [
      "C:\\Users\\sivis\\AppData\\Local\\Programs\\Python\\Python38\\lib\\site-packages\\sklearn\\linear_model\\_logistic.py:814: ConvergenceWarning: lbfgs failed to converge (status=1):\n",
      "STOP: TOTAL NO. of ITERATIONS REACHED LIMIT.\n",
      "\n",
      "Increase the number of iterations (max_iter) or scale the data as shown in:\n",
      "    https://scikit-learn.org/stable/modules/preprocessing.html\n",
      "Please also refer to the documentation for alternative solver options:\n",
      "    https://scikit-learn.org/stable/modules/linear_model.html#logistic-regression\n",
      "  n_iter_i = _check_optimize_result(\n"
     ]
    },
    {
     "data": {
      "text/plain": [
       "Pipeline(steps=[('prep_clf',\n",
       "                 ColumnTransformer(transformers=[('numeric',\n",
       "                                                  Pipeline(steps=[('scaler',\n",
       "                                                                   MinMaxScaler())]),\n",
       "                                                  Index(['duration_minutes', 'euribor3m', 'cons.price.idx', 'cons.conf.idx',\n",
       "       'nr.employed', 'emp.var.rate', 'previous'],\n",
       "      dtype='object')),\n",
       "                                                 ('categoric',\n",
       "                                                  Pipeline(steps=[('onehot',\n",
       "                                                                   OneHotEncoder())]),\n",
       "                                                  ['poutcome', 'contact',\n",
       "                                                   'pdays_perweek'])])),\n",
       "                ('random', RandomOverSampler(random_state=42)),\n",
       "                ('algo_clf', LogisticRegression())])"
      ]
     },
     "execution_count": 76,
     "metadata": {},
     "output_type": "execute_result"
    }
   ],
   "source": [
    "pipeline_clf.fit(X_train, y_train)"
   ]
  },
  {
   "cell_type": "markdown",
   "metadata": {},
   "source": [
    "### Evaluasi Model"
   ]
  },
  {
   "cell_type": "code",
   "execution_count": 77,
   "metadata": {},
   "outputs": [
    {
     "data": {
      "text/plain": [
       "0.8576565406075636"
      ]
     },
     "execution_count": 77,
     "metadata": {},
     "output_type": "execute_result"
    }
   ],
   "source": [
    "pipeline_clf.score(X_test, y_test)"
   ]
  },
  {
   "cell_type": "code",
   "execution_count": 78,
   "metadata": {},
   "outputs": [],
   "source": [
    "y_pred = pipeline_clf.predict(X_test)"
   ]
  },
  {
   "cell_type": "code",
   "execution_count": 80,
   "metadata": {},
   "outputs": [
    {
     "name": "stdout",
     "output_type": "stream",
     "text": [
      "              precision    recall  f1-score   support\n",
      "\n",
      "           0       0.98      0.86      0.92      7214\n",
      "           1       0.41      0.85      0.56       851\n",
      "\n",
      "    accuracy                           0.86      8065\n",
      "   macro avg       0.70      0.85      0.74      8065\n",
      "weighted avg       0.92      0.86      0.88      8065\n",
      "\n"
     ]
    }
   ],
   "source": [
    "from sklearn.metrics import classification_report\n",
    "print(classification_report(y_test, y_pred))"
   ]
  },
  {
   "cell_type": "markdown",
   "metadata": {},
   "source": [
    "Recall untuk variabel target 'y'=1 adalah 85% dan variabel target 'y'=0 adalah 86%. kedua metrics tidak memiliki perbedaan yang cukup signifikan"
   ]
  },
  {
   "cell_type": "code",
   "execution_count": 81,
   "metadata": {},
   "outputs": [
    {
     "data": {
      "text/plain": [
       "<sklearn.metrics._plot.roc_curve.RocCurveDisplay at 0x1e653c6f5e0>"
      ]
     },
     "execution_count": 81,
     "metadata": {},
     "output_type": "execute_result"
    },
    {
     "data": {
      "image/png": "[encoded data removed]",
      "text/plain": [
       "<Figure size 720x432 with 1 Axes>"
      ]
     },
     "metadata": {},
     "output_type": "display_data"
    }
   ],
   "source": [
    "RocCurveDisplay.from_estimator(pipeline_clf, X_test, y_test)"
   ]
  },
  {
   "cell_type": "markdown",
   "metadata": {},
   "source": [
    "Dari ROC-AUC Curve dapat disimpulkan bahwa peluang model bisa memprediksi kelas positif dan negatif secara benar adalah 93% "
   ]
  },
  {
   "cell_type": "markdown",
   "metadata": {},
   "source": [
    "#### Hyperparameter Tuning\n",
    "\n",
    "\"For small datasets, ‘liblinear’ is a good choice, whereas ‘sag’ and ‘saga’ are faster for large ones;\n",
    "\n",
    "For multiclass problems, only ‘newton-cg’, ‘sag’, ‘saga’ and ‘lbfgs’ handle multinomial loss;\n",
    "\n",
    "‘liblinear’ is limited to one-versus-rest schemes.\"\n",
    "\n",
    "Sehingga kita akan gunakan hyperparameter ['sag', 'saga', 'liblinear'] untuk kasus binary problem dan data yang relatif kecil"
   ]
  },
  {
   "cell_type": "code",
   "execution_count": 82,
   "metadata": {},
   "outputs": [],
   "source": [
    "parameter_clf = {\n",
    "    \"algo_clf__penalty\":  ['l1', 'l2'],\n",
    "    \"algo_clf__C\": [100, 10, 1.0, 0.1, 0.01],\n",
    "    \"algo_clf__solver\": ['sag', 'saga', 'liblinear']\n",
    "}\n",
    "\n",
    "cv = RepeatedStratifiedKFold(n_splits=5, n_repeats=5, random_state=1)\n",
    "model_clf = GridSearchCV(pipeline_clf, param_grid= parameter_clf, cv = cv, n_jobs=-1, verbose=1)"
   ]
  },
  {
   "cell_type": "code",
   "execution_count": 83,
   "metadata": {},
   "outputs": [
    {
     "name": "stdout",
     "output_type": "stream",
     "text": [
      "Fitting 25 folds for each of 30 candidates, totalling 750 fits\n"
     ]
    },
    {
     "name": "stderr",
     "output_type": "stream",
     "text": [
      "C:\\Users\\sivis\\AppData\\Local\\Programs\\Python\\Python38\\lib\\site-packages\\sklearn\\model_selection\\_validation.py:372: FitFailedWarning: \n",
      "125 fits failed out of a total of 750.\n",
      "The score on these train-test partitions for these parameters will be set to nan.\n",
      "If these failures are not expected, you can try to debug them by setting error_score='raise'.\n",
      "\n",
      "Below are more details about the failures:\n",
      "--------------------------------------------------------------------------------\n",
      "125 fits failed with the following error:\n",
      "Traceback (most recent call last):\n",
      "  File \"C:\\Users\\sivis\\AppData\\Local\\Programs\\Python\\Python38\\lib\\site-packages\\sklearn\\model_selection\\_validation.py\", line 680, in _fit_and_score\n",
      "    estimator.fit(X_train, y_train, **fit_params)\n",
      "  File \"C:\\Users\\sivis\\AppData\\Local\\Programs\\Python\\Python38\\lib\\site-packages\\imblearn\\pipeline.py\", line 266, in fit\n",
      "    self._final_estimator.fit(Xt, yt, **fit_params_last_step)\n",
      "  File \"C:\\Users\\sivis\\AppData\\Local\\Programs\\Python\\Python38\\lib\\site-packages\\sklearn\\linear_model\\_logistic.py\", line 1461, in fit\n",
      "    solver = _check_solver(self.solver, self.penalty, self.dual)\n",
      "  File \"C:\\Users\\sivis\\AppData\\Local\\Programs\\Python\\Python38\\lib\\site-packages\\sklearn\\linear_model\\_logistic.py\", line 447, in _check_solver\n",
      "    raise ValueError(\n",
      "ValueError: Solver sag supports only 'l2' or 'none' penalties, got l1 penalty.\n",
      "\n",
      "  warnings.warn(some_fits_failed_message, FitFailedWarning)\n",
      "C:\\Users\\sivis\\AppData\\Local\\Programs\\Python\\Python38\\lib\\site-packages\\sklearn\\model_selection\\_search.py:969: UserWarning: One or more of the test scores are non-finite: [       nan 0.8584511  0.8584139  0.8584573  0.85841389 0.8584325\n",
      "        nan 0.8584449  0.8584511  0.85841389 0.85840769 0.85841389\n",
      "        nan 0.85827749 0.85825269 0.85812249 0.8581907  0.8582217\n",
      "        nan 0.85738467 0.85707465 0.8568762  0.8568328  0.8568824\n",
      "        nan 0.85158106 0.85296994 0.81400659 0.81401899 0.81686499]\n",
      "  warnings.warn(\n"
     ]
    },
    {
     "data": {
      "text/plain": [
       "GridSearchCV(cv=RepeatedStratifiedKFold(n_repeats=5, n_splits=5, random_state=1),\n",
       "             estimator=Pipeline(steps=[('prep_clf',\n",
       "                                        ColumnTransformer(transformers=[('numeric',\n",
       "                                                                         Pipeline(steps=[('scaler',\n",
       "                                                                                          MinMaxScaler())]),\n",
       "                                                                         Index(['duration_minutes', 'euribor3m', 'cons.price.idx', 'cons.conf.idx',\n",
       "       'nr.employed', 'emp.var.rate', 'previous'],\n",
       "      dtype='object')),\n",
       "                                                                        ('categoric',\n",
       "                                                                         Pipeline(steps=[('onehot',\n",
       "                                                                                          OneHotEncoder())]),\n",
       "                                                                         ['poutcome',\n",
       "                                                                          'contact',\n",
       "                                                                          'pdays_perweek'])])),\n",
       "                                       ('random',\n",
       "                                        RandomOverSampler(random_state=42)),\n",
       "                                       ('algo_clf', LogisticRegression())]),\n",
       "             n_jobs=-1,\n",
       "             param_grid={'algo_clf__C': [100, 10, 1.0, 0.1, 0.01],\n",
       "                         'algo_clf__penalty': ['l1', 'l2'],\n",
       "                         'algo_clf__solver': ['sag', 'saga', 'liblinear']},\n",
       "             verbose=1)"
      ]
     },
     "execution_count": 83,
     "metadata": {},
     "output_type": "execute_result"
    }
   ],
   "source": [
    "model_clf.fit(X_train, y_train)"
   ]
  },
  {
   "cell_type": "code",
   "execution_count": 84,
   "metadata": {},
   "outputs": [
    {
     "name": "stdout",
     "output_type": "stream",
     "text": [
      "Best: 0.858457 using {'algo_clf__C': 100, 'algo_clf__penalty': 'l2', 'algo_clf__solver': 'sag'}\n",
      "nan (nan) with: {'algo_clf__C': 100, 'algo_clf__penalty': 'l1', 'algo_clf__solver': 'sag'}\n",
      "0.858451 (0.004154) with: {'algo_clf__C': 100, 'algo_clf__penalty': 'l1', 'algo_clf__solver': 'saga'}\n",
      "0.858414 (0.004124) with: {'algo_clf__C': 100, 'algo_clf__penalty': 'l1', 'algo_clf__solver': 'liblinear'}\n",
      "0.858457 (0.004162) with: {'algo_clf__C': 100, 'algo_clf__penalty': 'l2', 'algo_clf__solver': 'sag'}\n",
      "0.858414 (0.004146) with: {'algo_clf__C': 100, 'algo_clf__penalty': 'l2', 'algo_clf__solver': 'saga'}\n",
      "0.858432 (0.004138) with: {'algo_clf__C': 100, 'algo_clf__penalty': 'l2', 'algo_clf__solver': 'liblinear'}\n",
      "nan (nan) with: {'algo_clf__C': 10, 'algo_clf__penalty': 'l1', 'algo_clf__solver': 'sag'}\n",
      "0.858445 (0.004111) with: {'algo_clf__C': 10, 'algo_clf__penalty': 'l1', 'algo_clf__solver': 'saga'}\n",
      "0.858451 (0.004163) with: {'algo_clf__C': 10, 'algo_clf__penalty': 'l1', 'algo_clf__solver': 'liblinear'}\n",
      "0.858414 (0.004120) with: {'algo_clf__C': 10, 'algo_clf__penalty': 'l2', 'algo_clf__solver': 'sag'}\n",
      "0.858408 (0.004119) with: {'algo_clf__C': 10, 'algo_clf__penalty': 'l2', 'algo_clf__solver': 'saga'}\n",
      "0.858414 (0.004134) with: {'algo_clf__C': 10, 'algo_clf__penalty': 'l2', 'algo_clf__solver': 'liblinear'}\n",
      "nan (nan) with: {'algo_clf__C': 1.0, 'algo_clf__penalty': 'l1', 'algo_clf__solver': 'sag'}\n",
      "0.858277 (0.004187) with: {'algo_clf__C': 1.0, 'algo_clf__penalty': 'l1', 'algo_clf__solver': 'saga'}\n",
      "0.858253 (0.004169) with: {'algo_clf__C': 1.0, 'algo_clf__penalty': 'l1', 'algo_clf__solver': 'liblinear'}\n",
      "0.858122 (0.004381) with: {'algo_clf__C': 1.0, 'algo_clf__penalty': 'l2', 'algo_clf__solver': 'sag'}\n",
      "0.858191 (0.004356) with: {'algo_clf__C': 1.0, 'algo_clf__penalty': 'l2', 'algo_clf__solver': 'saga'}\n",
      "0.858222 (0.004356) with: {'algo_clf__C': 1.0, 'algo_clf__penalty': 'l2', 'algo_clf__solver': 'liblinear'}\n",
      "nan (nan) with: {'algo_clf__C': 0.1, 'algo_clf__penalty': 'l1', 'algo_clf__solver': 'sag'}\n",
      "0.857385 (0.004115) with: {'algo_clf__C': 0.1, 'algo_clf__penalty': 'l1', 'algo_clf__solver': 'saga'}\n",
      "0.857075 (0.004135) with: {'algo_clf__C': 0.1, 'algo_clf__penalty': 'l1', 'algo_clf__solver': 'liblinear'}\n",
      "0.856876 (0.004433) with: {'algo_clf__C': 0.1, 'algo_clf__penalty': 'l2', 'algo_clf__solver': 'sag'}\n",
      "0.856833 (0.004414) with: {'algo_clf__C': 0.1, 'algo_clf__penalty': 'l2', 'algo_clf__solver': 'saga'}\n",
      "0.856882 (0.004456) with: {'algo_clf__C': 0.1, 'algo_clf__penalty': 'l2', 'algo_clf__solver': 'liblinear'}\n",
      "nan (nan) with: {'algo_clf__C': 0.01, 'algo_clf__penalty': 'l1', 'algo_clf__solver': 'sag'}\n",
      "0.851581 (0.003930) with: {'algo_clf__C': 0.01, 'algo_clf__penalty': 'l1', 'algo_clf__solver': 'saga'}\n",
      "0.852970 (0.004021) with: {'algo_clf__C': 0.01, 'algo_clf__penalty': 'l1', 'algo_clf__solver': 'liblinear'}\n",
      "0.814007 (0.005995) with: {'algo_clf__C': 0.01, 'algo_clf__penalty': 'l2', 'algo_clf__solver': 'sag'}\n",
      "0.814019 (0.006026) with: {'algo_clf__C': 0.01, 'algo_clf__penalty': 'l2', 'algo_clf__solver': 'saga'}\n",
      "0.816865 (0.005662) with: {'algo_clf__C': 0.01, 'algo_clf__penalty': 'l2', 'algo_clf__solver': 'liblinear'}\n"
     ]
    }
   ],
   "source": [
    "# summarize results\n",
    "print(\"Best: %f using %s\" % (model_clf.best_score_, model_clf.best_params_))\n",
    "means = model_clf.cv_results_['mean_test_score']\n",
    "stds = model_clf.cv_results_['std_test_score']\n",
    "params = model_clf.cv_results_['params']\n",
    "for mean, stdev, param in zip(means, stds, params):\n",
    "    print(\"%f (%f) with: %r\" % (mean, stdev, param))"
   ]
  },
  {
   "cell_type": "markdown",
   "metadata": {},
   "source": [
    "Model dengan best hyperparameter"
   ]
  },
  {
   "cell_type": "code",
   "execution_count": 85,
   "metadata": {},
   "outputs": [
    {
     "data": {
      "text/plain": [
       "{'algo_clf__C': 100, 'algo_clf__penalty': 'l2', 'algo_clf__solver': 'sag'}"
      ]
     },
     "execution_count": 85,
     "metadata": {},
     "output_type": "execute_result"
    }
   ],
   "source": [
    "model_clf.best_params_"
   ]
  },
  {
   "cell_type": "code",
   "execution_count": 86,
   "metadata": {},
   "outputs": [],
   "source": [
    "y_pred = model_clf.predict(X_test)"
   ]
  },
  {
   "cell_type": "code",
   "execution_count": 87,
   "metadata": {},
   "outputs": [
    {
     "name": "stdout",
     "output_type": "stream",
     "text": [
      "              precision    recall  f1-score   support\n",
      "\n",
      "           0       0.98      0.86      0.92      7214\n",
      "           1       0.41      0.85      0.56       851\n",
      "\n",
      "    accuracy                           0.86      8065\n",
      "   macro avg       0.70      0.85      0.74      8065\n",
      "weighted avg       0.92      0.86      0.88      8065\n",
      "\n"
     ]
    }
   ],
   "source": [
    "print(classification_report(y_test, y_pred))"
   ]
  },
  {
   "cell_type": "markdown",
   "metadata": {},
   "source": [
    "Hasil model dengan best paramater dan baseline model untuk metric recall hasilnya sama yaitu:\n",
    "\n",
    "Recall untuk variabel target 'y'=1 adalah 85% dan variabel target 'y'=0 adalah 86%. kedua metrics tidak memiliki perbedaan yang cukup signifikan"
   ]
  },
  {
   "cell_type": "code",
   "execution_count": 88,
   "metadata": {},
   "outputs": [
    {
     "data": {
      "text/plain": [
       "<sklearn.metrics._plot.roc_curve.RocCurveDisplay at 0x1e653909760>"
      ]
     },
     "execution_count": 88,
     "metadata": {},
     "output_type": "execute_result"
    },
    {
     "data": {
      "image/png": "[encoded data removed]",
      "text/plain": [
       "<Figure size 720x432 with 1 Axes>"
      ]
     },
     "metadata": {},
     "output_type": "display_data"
    }
   ],
   "source": [
    "RocCurveDisplay.from_estimator(model_clf, X_test, y_test)"
   ]
  },
  {
   "cell_type": "markdown",
   "metadata": {},
   "source": [
    "Dari ROC-AUC Curve dapat disimpulkan bahwa peluang model bisa memprediksi kelas positif dan negatif secara benar adalah 93% "
   ]
  },
  {
   "cell_type": "markdown",
   "metadata": {},
   "source": [
    "### Pendefinisian Model\n",
    "\n",
    "**SVM**"
   ]
  },
  {
   "cell_type": "code",
   "execution_count": 89,
   "metadata": {},
   "outputs": [],
   "source": [
    "svm = SVC()\n",
    "pipeline_svm = pip([\n",
    "                      (\"prep_svm\", preprocessor),\n",
    "                      ('random', RandomOverSampler(random_state=42)),\n",
    "                      (\"algo_svm\", svm)\n",
    "                      ])"
   ]
  },
  {
   "cell_type": "markdown",
   "metadata": {},
   "source": [
    "### Pelatihan Model"
   ]
  },
  {
   "cell_type": "code",
   "execution_count": 90,
   "metadata": {},
   "outputs": [
    {
     "data": {
      "text/plain": [
       "Pipeline(steps=[('prep_svm',\n",
       "                 ColumnTransformer(transformers=[('numeric',\n",
       "                                                  Pipeline(steps=[('scaler',\n",
       "                                                                   MinMaxScaler())]),\n",
       "                                                  Index(['duration_minutes', 'euribor3m', 'cons.price.idx', 'cons.conf.idx',\n",
       "       'nr.employed', 'emp.var.rate', 'previous'],\n",
       "      dtype='object')),\n",
       "                                                 ('categoric',\n",
       "                                                  Pipeline(steps=[('onehot',\n",
       "                                                                   OneHotEncoder())]),\n",
       "                                                  ['poutcome', 'contact',\n",
       "                                                   'pdays_perweek'])])),\n",
       "                ('random', RandomOverSampler(random_state=42)),\n",
       "                ('algo_svm', SVC())])"
      ]
     },
     "execution_count": 90,
     "metadata": {},
     "output_type": "execute_result"
    }
   ],
   "source": [
    "pipeline_svm.fit(X_train, y_train)"
   ]
  },
  {
   "cell_type": "markdown",
   "metadata": {},
   "source": [
    "### Evaluasi Model"
   ]
  },
  {
   "cell_type": "code",
   "execution_count": 91,
   "metadata": {},
   "outputs": [
    {
     "data": {
      "text/plain": [
       "0.8534407935523869"
      ]
     },
     "execution_count": 91,
     "metadata": {},
     "output_type": "execute_result"
    }
   ],
   "source": [
    "pipeline_svm.score(X_test, y_test)"
   ]
  },
  {
   "cell_type": "code",
   "execution_count": 92,
   "metadata": {},
   "outputs": [
    {
     "name": "stdout",
     "output_type": "stream",
     "text": [
      "              precision    recall  f1-score   support\n",
      "\n",
      "           0       0.99      0.85      0.91      7214\n",
      "           1       0.41      0.90      0.56       851\n",
      "\n",
      "    accuracy                           0.85      8065\n",
      "   macro avg       0.70      0.87      0.74      8065\n",
      "weighted avg       0.93      0.85      0.88      8065\n",
      "\n"
     ]
    }
   ],
   "source": [
    "y_pred = pipeline_svm.predict(X_test)\n",
    "\n",
    "print(classification_report(y_test, y_pred))"
   ]
  },
  {
   "cell_type": "markdown",
   "metadata": {},
   "source": [
    "Recall untuk variabel target 'y'=1 adalah 90% dan variabel target 'y'=0 adalah 85%. kedua metrics memiliki perbedaan namun tidak terlalu jauh"
   ]
  },
  {
   "cell_type": "code",
   "execution_count": 93,
   "metadata": {},
   "outputs": [
    {
     "data": {
      "text/plain": [
       "<sklearn.metrics._plot.roc_curve.RocCurveDisplay at 0x1e657a239d0>"
      ]
     },
     "execution_count": 93,
     "metadata": {},
     "output_type": "execute_result"
    },
    {
     "data": {
      "image/png": "[encoded data removed]",
      "text/plain": [
       "<Figure size 720x432 with 1 Axes>"
      ]
     },
     "metadata": {},
     "output_type": "display_data"
    }
   ],
   "source": [
    "RocCurveDisplay.from_estimator(pipeline_svm, X_test, y_test)"
   ]
  },
  {
   "cell_type": "markdown",
   "metadata": {},
   "source": [
    "Dari ROC-AUC Curve dapat disimpulkan bahwa peluang model bisa memprediksi kelas positif dan negatif secara benar adalah 94% "
   ]
  },
  {
   "cell_type": "markdown",
   "metadata": {},
   "source": [
    "#### Hyperparameter Tuning\n",
    "\n",
    "Untuk Hyperparameter model svm yang akan kita gunakan adalah hyperparameter yang paling sering digunakan untuk classification"
   ]
  },
  {
   "cell_type": "code",
   "execution_count": 94,
   "metadata": {},
   "outputs": [],
   "source": [
    "parameter_svm = {\n",
    "    \"algo_svm__kernel\":  ['poly', 'rbf'],\n",
    "    \"algo_svm__C\": [0.1, 0.01],\n",
    "    \"algo_svm__gamma\": ['scale']\n",
    "}\n",
    "\n",
    "cv = RepeatedStratifiedKFold(n_splits=5, n_repeats=5, random_state=1)\n",
    "model_svm = GridSearchCV(pipeline_svm, param_grid= parameter_svm, cv = cv, n_jobs=-1, verbose=1)"
   ]
  },
  {
   "cell_type": "code",
   "execution_count": 95,
   "metadata": {},
   "outputs": [
    {
     "name": "stdout",
     "output_type": "stream",
     "text": [
      "Fitting 25 folds for each of 4 candidates, totalling 100 fits\n"
     ]
    },
    {
     "data": {
      "text/plain": [
       "GridSearchCV(cv=RepeatedStratifiedKFold(n_repeats=5, n_splits=5, random_state=1),\n",
       "             estimator=Pipeline(steps=[('prep_svm',\n",
       "                                        ColumnTransformer(transformers=[('numeric',\n",
       "                                                                         Pipeline(steps=[('scaler',\n",
       "                                                                                          MinMaxScaler())]),\n",
       "                                                                         Index(['duration_minutes', 'euribor3m', 'cons.price.idx', 'cons.conf.idx',\n",
       "       'nr.employed', 'emp.var.rate', 'previous'],\n",
       "      dtype='object')),\n",
       "                                                                        ('categoric',\n",
       "                                                                         Pipeline(steps=[('onehot',\n",
       "                                                                                          OneHotEncoder())]),\n",
       "                                                                         ['poutcome',\n",
       "                                                                          'contact',\n",
       "                                                                          'pdays_perweek'])])),\n",
       "                                       ('random',\n",
       "                                        RandomOverSampler(random_state=42)),\n",
       "                                       ('algo_svm', SVC())]),\n",
       "             n_jobs=-1,\n",
       "             param_grid={'algo_svm__C': [0.1, 0.01],\n",
       "                         'algo_svm__gamma': ['scale'],\n",
       "                         'algo_svm__kernel': ['poly', 'rbf']},\n",
       "             verbose=1)"
      ]
     },
     "execution_count": 95,
     "metadata": {},
     "output_type": "execute_result"
    }
   ],
   "source": [
    "model_svm.fit(X_train, y_train)"
   ]
  },
  {
   "cell_type": "code",
   "execution_count": 96,
   "metadata": {},
   "outputs": [
    {
     "name": "stdout",
     "output_type": "stream",
     "text": [
      "Best: 0.860237 using {'algo_svm__C': 0.1, 'algo_svm__gamma': 'scale', 'algo_svm__kernel': 'rbf'}\n",
      "0.857081 (0.004002) with: {'algo_svm__C': 0.1, 'algo_svm__gamma': 'scale', 'algo_svm__kernel': 'poly'}\n",
      "0.860237 (0.004589) with: {'algo_svm__C': 0.1, 'algo_svm__gamma': 'scale', 'algo_svm__kernel': 'rbf'}\n",
      "0.778956 (0.008015) with: {'algo_svm__C': 0.01, 'algo_svm__gamma': 'scale', 'algo_svm__kernel': 'poly'}\n",
      "0.772650 (0.005030) with: {'algo_svm__C': 0.01, 'algo_svm__gamma': 'scale', 'algo_svm__kernel': 'rbf'}\n"
     ]
    }
   ],
   "source": [
    "# summarize results\n",
    "print(\"Best: %f using %s\" % (model_svm.best_score_, model_svm.best_params_))\n",
    "means = model_svm.cv_results_['mean_test_score']\n",
    "stds = model_svm.cv_results_['std_test_score']\n",
    "params = model_svm.cv_results_['params']\n",
    "for mean, stdev, param in zip(means, stds, params):\n",
    "    print(\"%f (%f) with: %r\" % (mean, stdev, param))"
   ]
  },
  {
   "cell_type": "code",
   "execution_count": 97,
   "metadata": {},
   "outputs": [],
   "source": [
    "y_pred_svm = model_svm.predict(X_test)"
   ]
  },
  {
   "cell_type": "code",
   "execution_count": 98,
   "metadata": {},
   "outputs": [
    {
     "name": "stdout",
     "output_type": "stream",
     "text": [
      "              precision    recall  f1-score   support\n",
      "\n",
      "           0       0.98      0.86      0.92      7214\n",
      "           1       0.42      0.86      0.57       851\n",
      "\n",
      "    accuracy                           0.86      8065\n",
      "   macro avg       0.70      0.86      0.74      8065\n",
      "weighted avg       0.92      0.86      0.88      8065\n",
      "\n"
     ]
    }
   ],
   "source": [
    "print(classification_report(y_test, y_pred_svm))"
   ]
  },
  {
   "cell_type": "markdown",
   "metadata": {},
   "source": [
    "Hasil model dengan best paramater yaitu:\n",
    "Recall untuk variabel target 'y'=1 adalah 86% dan variabel target 'y'=0 adalah 86%, kedua metrics sama."
   ]
  },
  {
   "cell_type": "code",
   "execution_count": 99,
   "metadata": {},
   "outputs": [
    {
     "data": {
      "text/plain": [
       "<sklearn.metrics._plot.roc_curve.RocCurveDisplay at 0x1e654e048b0>"
      ]
     },
     "execution_count": 99,
     "metadata": {},
     "output_type": "execute_result"
    },
    {
     "data": {
      "image/png": "[encoded data removed]",
      "text/plain": [
       "<Figure size 720x432 with 1 Axes>"
      ]
     },
     "metadata": {},
     "output_type": "display_data"
    }
   ],
   "source": [
    "RocCurveDisplay.from_estimator(model_svm, X_test, y_test)"
   ]
  },
  {
   "cell_type": "markdown",
   "metadata": {},
   "source": [
    "Dari ROC-AUC Curve dapat disimpulkan bahwa peluang model bisa memprediksi kelas positif dan negatif secara benar adalah 93% "
   ]
  },
  {
   "cell_type": "markdown",
   "metadata": {},
   "source": [
    "### Pendefinisian Model\n",
    "\n",
    "**Decision Tree**"
   ]
  },
  {
   "cell_type": "code",
   "execution_count": 104,
   "metadata": {},
   "outputs": [],
   "source": [
    "tree = DecisionTreeClassifier()\n",
    "pipeline_tree = pip([\n",
    "                      (\"prep_tree\", preprocessor),\n",
    "                      ('random', RandomOverSampler(random_state=42)),\n",
    "                      (\"algo_tree\", tree)\n",
    "                      ])\n"
   ]
  },
  {
   "cell_type": "markdown",
   "metadata": {},
   "source": [
    "### Pelatihan Model"
   ]
  },
  {
   "cell_type": "code",
   "execution_count": 105,
   "metadata": {},
   "outputs": [
    {
     "data": {
      "text/plain": [
       "Pipeline(steps=[('prep_tree',\n",
       "                 ColumnTransformer(transformers=[('numeric',\n",
       "                                                  Pipeline(steps=[('scaler',\n",
       "                                                                   MinMaxScaler())]),\n",
       "                                                  Index(['duration_minutes', 'euribor3m', 'cons.price.idx', 'cons.conf.idx',\n",
       "       'nr.employed', 'emp.var.rate', 'previous'],\n",
       "      dtype='object')),\n",
       "                                                 ('categoric',\n",
       "                                                  Pipeline(steps=[('onehot',\n",
       "                                                                   OneHotEncoder())]),\n",
       "                                                  ['poutcome', 'contact',\n",
       "                                                   'pdays_perweek'])])),\n",
       "                ('random', RandomOverSampler(random_state=42)),\n",
       "                ('algo_tree', DecisionTreeClassifier())])"
      ]
     },
     "execution_count": 105,
     "metadata": {},
     "output_type": "execute_result"
    }
   ],
   "source": [
    "pipeline_tree.fit(X_train, y_train)"
   ]
  },
  {
   "cell_type": "code",
   "execution_count": 106,
   "metadata": {},
   "outputs": [
    {
     "data": {
      "text/plain": [
       "0.8964662120272784"
      ]
     },
     "execution_count": 106,
     "metadata": {},
     "output_type": "execute_result"
    }
   ],
   "source": [
    "pipeline_tree.score(X_test, y_test)"
   ]
  },
  {
   "cell_type": "code",
   "execution_count": 107,
   "metadata": {},
   "outputs": [
    {
     "name": "stdout",
     "output_type": "stream",
     "text": [
      "              precision    recall  f1-score   support\n",
      "\n",
      "           0       0.94      0.94      0.94      7214\n",
      "           1       0.51      0.50      0.50       851\n",
      "\n",
      "    accuracy                           0.90      8065\n",
      "   macro avg       0.73      0.72      0.72      8065\n",
      "weighted avg       0.90      0.90      0.90      8065\n",
      "\n"
     ]
    }
   ],
   "source": [
    "y_pred = pipeline_tree.predict(X_test)\n",
    "\n",
    "print(classification_report(y_test, y_pred))"
   ]
  },
  {
   "cell_type": "markdown",
   "metadata": {},
   "source": [
    "Recall untuk variabel target 'y'=1 adalah 50% dan variabel target 'y'=0 adalah 94%, dengan menggunakan baseline model hasil metric recall cukup tidak seimbang."
   ]
  },
  {
   "cell_type": "code",
   "execution_count": 108,
   "metadata": {},
   "outputs": [
    {
     "data": {
      "text/plain": [
       "<sklearn.metrics._plot.roc_curve.RocCurveDisplay at 0x1e658131340>"
      ]
     },
     "execution_count": 108,
     "metadata": {},
     "output_type": "execute_result"
    },
    {
     "data": {
      "image/png": "[encoded data removed]",
      "text/plain": [
       "<Figure size 720x432 with 1 Axes>"
      ]
     },
     "metadata": {},
     "output_type": "display_data"
    }
   ],
   "source": [
    "RocCurveDisplay.from_estimator(pipeline_tree, X_test, y_test)"
   ]
  },
  {
   "cell_type": "markdown",
   "metadata": {},
   "source": [
    "Dari ROC-AUC Curve dapat disimpulkan bahwa peluang model bisa memprediksi kelas positif dan negatif secara benar adalah 72% "
   ]
  },
  {
   "cell_type": "markdown",
   "metadata": {},
   "source": [
    "#### Hyperparameter Tuning\n",
    "\n",
    "Kita menggunakan criterion gini dan entropy sebagai fungsi untuk mengukur kualitas split, kedalaman maximum pohon antar range 1-10 untuk menghindari overfit, min sample split jumlah sample yang diperlukan untuk split range (1, 10), dan min sample leaf range(1, 5) yaitu digunakan sebagai jumalah minimum sample yang diperlukan sebagai leaf node"
   ]
  },
  {
   "cell_type": "code",
   "execution_count": 109,
   "metadata": {},
   "outputs": [],
   "source": [
    "parameter_tree = {\n",
    "    \"algo_tree__criterion\":  ['gini', 'entropy'],\n",
    "    \"algo_tree__max_depth\": range(1, 10),\n",
    "    \"algo_tree__min_samples_split\": range(1, 10),\n",
    "    \"algo_tree__min_samples_leaf\": range(1, 5) \n",
    "}\n",
    "\n",
    "cv = RepeatedStratifiedKFold(n_splits=5, n_repeats=5, random_state=1)\n",
    "model_tree = GridSearchCV(pipeline_tree, param_grid= parameter_tree, cv = cv, n_jobs=-1, verbose=1)"
   ]
  },
  {
   "cell_type": "code",
   "execution_count": 110,
   "metadata": {},
   "outputs": [
    {
     "name": "stdout",
     "output_type": "stream",
     "text": [
      "Fitting 25 folds for each of 648 candidates, totalling 16200 fits\n"
     ]
    },
    {
     "name": "stderr",
     "output_type": "stream",
     "text": [
      "C:\\Users\\sivis\\AppData\\Local\\Programs\\Python\\Python38\\lib\\site-packages\\sklearn\\model_selection\\_validation.py:372: FitFailedWarning: \n",
      "1800 fits failed out of a total of 16200.\n",
      "The score on these train-test partitions for these parameters will be set to nan.\n",
      "If these failures are not expected, you can try to debug them by setting error_score='raise'.\n",
      "\n",
      "Below are more details about the failures:\n",
      "--------------------------------------------------------------------------------\n",
      "1800 fits failed with the following error:\n",
      "Traceback (most recent call last):\n",
      "  File \"C:\\Users\\sivis\\AppData\\Local\\Programs\\Python\\Python38\\lib\\site-packages\\sklearn\\model_selection\\_validation.py\", line 680, in _fit_and_score\n",
      "    estimator.fit(X_train, y_train, **fit_params)\n",
      "  File \"C:\\Users\\sivis\\AppData\\Local\\Programs\\Python\\Python38\\lib\\site-packages\\imblearn\\pipeline.py\", line 266, in fit\n",
      "    self._final_estimator.fit(Xt, yt, **fit_params_last_step)\n",
      "  File \"C:\\Users\\sivis\\AppData\\Local\\Programs\\Python\\Python38\\lib\\site-packages\\sklearn\\tree\\_classes.py\", line 937, in fit\n",
      "    super().fit(\n",
      "  File \"C:\\Users\\sivis\\AppData\\Local\\Programs\\Python\\Python38\\lib\\site-packages\\sklearn\\tree\\_classes.py\", line 250, in fit\n",
      "    raise ValueError(\n",
      "ValueError: min_samples_split must be an integer greater than 1 or a float in (0.0, 1.0]; got the integer 1\n",
      "\n",
      "  warnings.warn(some_fits_failed_message, FitFailedWarning)\n",
      "C:\\Users\\sivis\\AppData\\Local\\Programs\\Python\\Python38\\lib\\site-packages\\sklearn\\model_selection\\_search.py:969: UserWarning: One or more of the test scores are non-finite: [       nan 0.67463411 0.67463411 0.67463411 0.67463411 0.67463411\n",
      " 0.67463411 0.67463411 0.67463411        nan 0.67463411 0.67463411\n",
      " 0.67463411 0.67463411 0.67463411 0.67463411 0.67463411 0.67463411\n",
      "        nan 0.67463411 0.67463411 0.67463411 0.67463411 0.67463411\n",
      " 0.67463411 0.67463411 0.67463411        nan 0.67463411 0.67463411\n",
      " 0.67463411 0.67463411 0.67463411 0.67463411 0.67463411 0.67463411\n",
      "        nan 0.64881565 0.64881565 0.64881565 0.64881565 0.64881565\n",
      " 0.64881565 0.64881565 0.64881565        nan 0.64881565 0.64881565\n",
      " 0.64881565 0.64881565 0.64881565 0.64881565 0.64881565 0.64881565\n",
      "        nan 0.64881565 0.64881565 0.64881565 0.64881565 0.64881565\n",
      " 0.64881565 0.64881565 0.64881565        nan 0.64881565 0.64881565\n",
      " 0.64881565 0.64881565 0.64881565 0.64881565 0.64881565 0.64881565\n",
      "        nan 0.82900508 0.82900508 0.82900508 0.82900508 0.82900508\n",
      " 0.82900508 0.82900508 0.82900508        nan 0.82900508 0.82900508\n",
      " 0.82900508 0.82900508 0.82900508 0.82900508 0.82900508 0.82900508\n",
      "        nan 0.82900508 0.82900508 0.82900508 0.82900508 0.82900508\n",
      " 0.82900508 0.82900508 0.82900508        nan 0.82900508 0.82900508\n",
      " 0.82900508 0.82900508 0.82900508 0.82900508 0.82900508 0.82900508\n",
      "        nan 0.81137762 0.81137762 0.81137762 0.81137762 0.81137762\n",
      " 0.81137762 0.81137762 0.81137762        nan 0.81137762 0.81137762\n",
      " 0.81137762 0.81137762 0.81137762 0.81137762 0.81137762 0.81137762\n",
      "        nan 0.81137762 0.81137762 0.81137762 0.81137762 0.81137762\n",
      " 0.81137762 0.81137762 0.81137762        nan 0.81136522 0.81136522\n",
      " 0.81136522 0.81136522 0.81136522 0.81136522 0.81136522 0.81136522\n",
      "        nan 0.84045118 0.84045118 0.84045118 0.84045118 0.84045118\n",
      " 0.84045118 0.84045118 0.84045118        nan 0.84045118 0.84044498\n",
      " 0.84044498 0.84043878 0.84043878 0.84043878 0.84043878 0.84043878\n",
      "        nan 0.84046358 0.84046358 0.84046358 0.84046358 0.84046358\n",
      " 0.84046358 0.84046358 0.84046358        nan 0.84044498 0.84044498\n",
      " 0.84044498 0.84044498 0.84044498 0.84044498 0.84044498 0.84044498\n",
      "        nan 0.84097836 0.84098456 0.84099696 0.84097215 0.84096596\n",
      " 0.84095975 0.84099696 0.84095975        nan 0.84101556 0.84099076\n",
      " 0.84099696 0.84100936 0.84098456 0.84102796 0.84099696 0.84099696\n",
      "        nan 0.84104036 0.84102796 0.84102176 0.84103416 0.84103416\n",
      " 0.84101556 0.84102176 0.84101556        nan 0.84091016 0.84089775\n",
      " 0.84090396 0.84091016 0.84091016 0.84089155 0.84092256 0.84089776\n",
      "        nan 0.84734628 0.84730908 0.84728428 0.84734008 0.84737728\n",
      " 0.84735868 0.84736488 0.84737108        nan 0.84735248 0.84736488\n",
      " 0.84738968 0.84735868 0.84740208 0.84737108 0.84737728 0.84741449\n",
      "        nan 0.84732768 0.84736488 0.84737728 0.84738968 0.84735248\n",
      " 0.84735868 0.84738348 0.84737728        nan 0.84719127 0.84719747\n",
      " 0.84718507 0.84721607 0.84722847 0.84720367 0.84720367 0.84719747\n",
      "        nan 0.85279632 0.85278391 0.85277771 0.85286452 0.85285212\n",
      " 0.85286452 0.85277771 0.85275291        nan 0.85282731 0.85282732\n",
      " 0.85285831 0.85283971 0.85275291 0.85283351 0.85285212 0.85282111\n",
      "        nan 0.85286451 0.85285211 0.85285211 0.85290171 0.85282111\n",
      " 0.85290171 0.8528335  0.85283971        nan 0.85255447 0.85256688\n",
      " 0.85260408 0.85257928 0.85257308 0.85261648 0.85252348 0.85259788\n",
      "        nan 0.85527036 0.85530756 0.85521455 0.85519595 0.85528275\n",
      " 0.85528275 0.85522075 0.85523315        nan 0.85506574 0.85514015\n",
      " 0.85512774 0.85513394 0.85516494 0.85515254 0.85512775 0.85505333\n",
      "        nan 0.85512775 0.85515255 0.85504095 0.85504715 0.85510915\n",
      " 0.85504715 0.85513396 0.85504095        nan 0.85487973 0.85492933\n",
      " 0.85489213 0.85486733 0.85487353 0.85489833 0.85489833 0.85496033\n",
      "        nan 0.65598971 0.65598971 0.65598971 0.65598971 0.65598971\n",
      " 0.65598971 0.65598971 0.65598971        nan 0.65598971 0.65598971\n",
      " 0.65598971 0.65598971 0.65598971 0.65598971 0.65598971 0.65598971\n",
      "        nan 0.65598971 0.65598971 0.65598971 0.65598971 0.65598971\n",
      " 0.65598971 0.65598971 0.65598971        nan 0.65598971 0.65598971\n",
      " 0.65598971 0.65598971 0.65598971 0.65598971 0.65598971 0.65598971\n",
      "        nan 0.63480898 0.63480898 0.63480898 0.63480898 0.63480898\n",
      " 0.63480898 0.63480898 0.63480898        nan 0.63480898 0.63480898\n",
      " 0.63480898 0.63480898 0.63480898 0.63480898 0.63480898 0.63480898\n",
      "        nan 0.63480898 0.63480898 0.63480898 0.63480898 0.63480898\n",
      " 0.63480898 0.63480898 0.63480898        nan 0.63480898 0.63480898\n",
      " 0.63480898 0.63480898 0.63480898 0.63480898 0.63480898 0.63480898\n",
      "        nan 0.85531378 0.85531378 0.85531378 0.85531378 0.85531378\n",
      " 0.85531378 0.85531378 0.85531378        nan 0.85531378 0.85531378\n",
      " 0.85531378 0.85531378 0.85531378 0.85531378 0.85531378 0.85531378\n",
      "        nan 0.85531378 0.85531378 0.85531378 0.85531378 0.85531378\n",
      " 0.85531378 0.85531378 0.85531378        nan 0.85531378 0.85531378\n",
      " 0.85531378 0.85531378 0.85531378 0.85531378 0.85531378 0.85531378\n",
      "        nan 0.7967318  0.796738   0.7967318  0.7967194  0.7967256\n",
      " 0.7967318  0.7967194  0.7967194         nan 0.796738   0.796738\n",
      " 0.7967256  0.796738   0.796738   0.7967256  0.796738   0.796738\n",
      "        nan 0.796769   0.7967566  0.7967566  0.796769   0.796769\n",
      " 0.7967566  0.7967566  0.796769          nan 0.7967566  0.7967566\n",
      " 0.796769   0.796769   0.7967566  0.796769   0.796769   0.796769\n",
      "        nan 0.83576382 0.83577002 0.83575762 0.83577002 0.83575762\n",
      " 0.83574522 0.83577002 0.83577002        nan 0.83578242 0.83578242\n",
      " 0.83578242 0.83578242 0.83577002 0.83577622 0.83577622 0.83577622\n",
      "        nan 0.83578242 0.83579482 0.83579482 0.83578242 0.83579482\n",
      " 0.83579482 0.83579482 0.83579482        nan 0.83578242 0.83578242\n",
      " 0.83579482 0.83578242 0.83579482 0.83578242 0.83579482 0.83578242\n",
      "        nan 0.83572046 0.83573286 0.83570806 0.83572666 0.83570806\n",
      " 0.83572046 0.83573906 0.83570186        nan 0.83573287 0.83572047\n",
      " 0.83572667 0.83573907 0.83572667 0.83571426 0.83572667 0.83568326\n",
      "        nan 0.83580107 0.83580107 0.83580727 0.83581347 0.83580107\n",
      " 0.83580727 0.83581347 0.83578246        nan 0.83578246 0.83578246\n",
      " 0.83578867 0.83578246 0.83578867 0.83578867 0.83578246 0.83579487\n",
      "        nan 0.84022186 0.84019086 0.84020946 0.84019706 0.84022806\n",
      " 0.84021566 0.84022186 0.84020326        nan 0.84020326 0.84022806\n",
      " 0.84024666 0.84022806 0.84021566 0.84022186 0.84020946 0.84020946\n",
      "        nan 0.84027766 0.84029626 0.84029626 0.84032107 0.84029626\n",
      " 0.84030246 0.84029626 0.84026526        nan 0.84032106 0.84029626\n",
      " 0.84030866 0.84032726 0.84030866 0.84032726 0.84030246 0.84029626\n",
      "        nan 0.84587657 0.84590137 0.84578976 0.84587037 0.84579596\n",
      " 0.84588897 0.84581456 0.84579596        nan 0.84588897 0.84584556\n",
      " 0.84589517 0.84590757 0.84590757 0.84591377 0.84583316 0.84589516\n",
      "        nan 0.84596957 0.84593236 0.84595096 0.84595096 0.84599436\n",
      " 0.84593856 0.84593236 0.84595716        nan 0.84587036 0.84587036\n",
      " 0.84588896 0.84591996 0.84585176 0.84588276 0.84587656 0.84582696\n",
      "        nan 0.85069433 0.85066332 0.85063852 0.85067572 0.85062612\n",
      " 0.85068193 0.85069432 0.85069432        nan 0.85074393 0.85068812\n",
      " 0.85066332 0.85073773 0.85066952 0.85068812 0.85066332 0.85077492\n",
      "        nan 0.85083072 0.85075011 0.85078112 0.85078112 0.85079352\n",
      " 0.85079352 0.85073772 0.85086172        nan 0.85074392 0.85065711\n",
      " 0.85068811 0.85066331 0.85070052 0.85067572 0.85065092 0.85066952]\n",
      "  warnings.warn(\n"
     ]
    },
    {
     "data": {
      "text/plain": [
       "GridSearchCV(cv=RepeatedStratifiedKFold(n_repeats=5, n_splits=5, random_state=1),\n",
       "             estimator=Pipeline(steps=[('prep_tree',\n",
       "                                        ColumnTransformer(transformers=[('numeric',\n",
       "                                                                         Pipeline(steps=[('scaler',\n",
       "                                                                                          MinMaxScaler())]),\n",
       "                                                                         Index(['duration_minutes', 'euribor3m', 'cons.price.idx', 'cons.conf.idx',\n",
       "       'nr.employed', 'emp.var.rate', 'previous'],\n",
       "      dtype='object')),\n",
       "                                                                        ('categoric',\n",
       "                                                                         Pip...nehot',\n",
       "                                                                                          OneHotEncoder())]),\n",
       "                                                                         ['poutcome',\n",
       "                                                                          'contact',\n",
       "                                                                          'pdays_perweek'])])),\n",
       "                                       ('random',\n",
       "                                        RandomOverSampler(random_state=42)),\n",
       "                                       ('algo_tree',\n",
       "                                        DecisionTreeClassifier())]),\n",
       "             n_jobs=-1,\n",
       "             param_grid={'algo_tree__criterion': ['gini', 'entropy'],\n",
       "                         'algo_tree__max_depth': range(1, 10),\n",
       "                         'algo_tree__min_samples_leaf': range(1, 5),\n",
       "                         'algo_tree__min_samples_split': range(1, 10)},\n",
       "             verbose=1)"
      ]
     },
     "execution_count": 110,
     "metadata": {},
     "output_type": "execute_result"
    }
   ],
   "source": [
    "model_tree.fit(X_train, y_train)"
   ]
  },
  {
   "cell_type": "code",
   "execution_count": 115,
   "metadata": {},
   "outputs": [
    {
     "name": "stdout",
     "output_type": "stream",
     "text": [
      "Best: 0.855314 using {'algo_tree__criterion': 'entropy', 'algo_tree__max_depth': 3, 'algo_tree__min_samples_leaf': 1, 'algo_tree__min_samples_split': 2}\n",
      "nan (nan) with: {'algo_tree__criterion': 'gini', 'algo_tree__max_depth': 1, 'algo_tree__min_samples_leaf': 1, 'algo_tree__min_samples_split': 1}\n",
      "0.674634 (0.036493) with: {'algo_tree__criterion': 'gini', 'algo_tree__max_depth': 1, 'algo_tree__min_samples_leaf': 1, 'algo_tree__min_samples_split': 2}\n",
      "0.674634 (0.036493) with: {'algo_tree__criterion': 'gini', 'algo_tree__max_depth': 1, 'algo_tree__min_samples_leaf': 1, 'algo_tree__min_samples_split': 3}\n",
      "0.674634 (0.036493) with: {'algo_tree__criterion': 'gini', 'algo_tree__max_depth': 1, 'algo_tree__min_samples_leaf': 1, 'algo_tree__min_samples_split': 4}\n",
      "0.674634 (0.036493) with: {'algo_tree__criterion': 'gini', 'algo_tree__max_depth': 1, 'algo_tree__min_samples_leaf': 1, 'algo_tree__min_samples_split': 5}\n",
      "0.674634 (0.036493) with: {'algo_tree__criterion': 'gini', 'algo_tree__max_depth': 1, 'algo_tree__min_samples_leaf': 1, 'algo_tree__min_samples_split': 6}\n",
      "0.674634 (0.036493) with: {'algo_tree__criterion': 'gini', 'algo_tree__max_depth': 1, 'algo_tree__min_samples_leaf': 1, 'algo_tree__min_samples_split': 7}\n",
      "0.674634 (0.036493) with: {'algo_tree__criterion': 'gini', 'algo_tree__max_depth': 1, 'algo_tree__min_samples_leaf': 1, 'algo_tree__min_samples_split': 8}\n",
      "0.674634 (0.036493) with: {'algo_tree__criterion': 'gini', 'algo_tree__max_depth': 1, 'algo_tree__min_samples_leaf': 1, 'algo_tree__min_samples_split': 9}\n",
      "nan (nan) with: {'algo_tree__criterion': 'gini', 'algo_tree__max_depth': 1, 'algo_tree__min_samples_leaf': 2, 'algo_tree__min_samples_split': 1}\n",
      "0.674634 (0.036493) with: {'algo_tree__criterion': 'gini', 'algo_tree__max_depth': 1, 'algo_tree__min_samples_leaf': 2, 'algo_tree__min_samples_split': 2}\n",
      "0.674634 (0.036493) with: {'algo_tree__criterion': 'gini', 'algo_tree__max_depth': 1, 'algo_tree__min_samples_leaf': 2, 'algo_tree__min_samples_split': 3}\n",
      "0.674634 (0.036493) with: {'algo_tree__criterion': 'gini', 'algo_tree__max_depth': 1, 'algo_tree__min_samples_leaf': 2, 'algo_tree__min_samples_split': 4}\n",
      "0.674634 (0.036493) with: {'algo_tree__criterion': 'gini', 'algo_tree__max_depth': 1, 'algo_tree__min_samples_leaf': 2, 'algo_tree__min_samples_split': 5}\n",
      "0.674634 (0.036493) with: {'algo_tree__criterion': 'gini', 'algo_tree__max_depth': 1, 'algo_tree__min_samples_leaf': 2, 'algo_tree__min_samples_split': 6}\n",
      "0.674634 (0.036493) with: {'algo_tree__criterion': 'gini', 'algo_tree__max_depth': 1, 'algo_tree__min_samples_leaf': 2, 'algo_tree__min_samples_split': 7}\n",
      "0.674634 (0.036493) with: {'algo_tree__criterion': 'gini', 'algo_tree__max_depth': 1, 'algo_tree__min_samples_leaf': 2, 'algo_tree__min_samples_split': 8}\n",
      "0.674634 (0.036493) with: {'algo_tree__criterion': 'gini', 'algo_tree__max_depth': 1, 'algo_tree__min_samples_leaf': 2, 'algo_tree__min_samples_split': 9}\n",
      "nan (nan) with: {'algo_tree__criterion': 'gini', 'algo_tree__max_depth': 1, 'algo_tree__min_samples_leaf': 3, 'algo_tree__min_samples_split': 1}\n",
      "0.674634 (0.036493) with: {'algo_tree__criterion': 'gini', 'algo_tree__max_depth': 1, 'algo_tree__min_samples_leaf': 3, 'algo_tree__min_samples_split': 2}\n",
      "0.674634 (0.036493) with: {'algo_tree__criterion': 'gini', 'algo_tree__max_depth': 1, 'algo_tree__min_samples_leaf': 3, 'algo_tree__min_samples_split': 3}\n",
      "0.674634 (0.036493) with: {'algo_tree__criterion': 'gini', 'algo_tree__max_depth': 1, 'algo_tree__min_samples_leaf': 3, 'algo_tree__min_samples_split': 4}\n",
      "0.674634 (0.036493) with: {'algo_tree__criterion': 'gini', 'algo_tree__max_depth': 1, 'algo_tree__min_samples_leaf': 3, 'algo_tree__min_samples_split': 5}\n",
      "0.674634 (0.036493) with: {'algo_tree__criterion': 'gini', 'algo_tree__max_depth': 1, 'algo_tree__min_samples_leaf': 3, 'algo_tree__min_samples_split': 6}\n",
      "0.674634 (0.036493) with: {'algo_tree__criterion': 'gini', 'algo_tree__max_depth': 1, 'algo_tree__min_samples_leaf': 3, 'algo_tree__min_samples_split': 7}\n",
      "0.674634 (0.036493) with: {'algo_tree__criterion': 'gini', 'algo_tree__max_depth': 1, 'algo_tree__min_samples_leaf': 3, 'algo_tree__min_samples_split': 8}\n",
      "0.674634 (0.036493) with: {'algo_tree__criterion': 'gini', 'algo_tree__max_depth': 1, 'algo_tree__min_samples_leaf': 3, 'algo_tree__min_samples_split': 9}\n",
      "nan (nan) with: {'algo_tree__criterion': 'gini', 'algo_tree__max_depth': 1, 'algo_tree__min_samples_leaf': 4, 'algo_tree__min_samples_split': 1}\n",
      "0.674634 (0.036493) with: {'algo_tree__criterion': 'gini', 'algo_tree__max_depth': 1, 'algo_tree__min_samples_leaf': 4, 'algo_tree__min_samples_split': 2}\n",
      "0.674634 (0.036493) with: {'algo_tree__criterion': 'gini', 'algo_tree__max_depth': 1, 'algo_tree__min_samples_leaf': 4, 'algo_tree__min_samples_split': 3}\n",
      "0.674634 (0.036493) with: {'algo_tree__criterion': 'gini', 'algo_tree__max_depth': 1, 'algo_tree__min_samples_leaf': 4, 'algo_tree__min_samples_split': 4}\n",
      "0.674634 (0.036493) with: {'algo_tree__criterion': 'gini', 'algo_tree__max_depth': 1, 'algo_tree__min_samples_leaf': 4, 'algo_tree__min_samples_split': 5}\n",
      "0.674634 (0.036493) with: {'algo_tree__criterion': 'gini', 'algo_tree__max_depth': 1, 'algo_tree__min_samples_leaf': 4, 'algo_tree__min_samples_split': 6}\n",
      "0.674634 (0.036493) with: {'algo_tree__criterion': 'gini', 'algo_tree__max_depth': 1, 'algo_tree__min_samples_leaf': 4, 'algo_tree__min_samples_split': 7}\n",
      "0.674634 (0.036493) with: {'algo_tree__criterion': 'gini', 'algo_tree__max_depth': 1, 'algo_tree__min_samples_leaf': 4, 'algo_tree__min_samples_split': 8}\n",
      "0.674634 (0.036493) with: {'algo_tree__criterion': 'gini', 'algo_tree__max_depth': 1, 'algo_tree__min_samples_leaf': 4, 'algo_tree__min_samples_split': 9}\n",
      "nan (nan) with: {'algo_tree__criterion': 'gini', 'algo_tree__max_depth': 2, 'algo_tree__min_samples_leaf': 1, 'algo_tree__min_samples_split': 1}\n",
      "0.648816 (0.037672) with: {'algo_tree__criterion': 'gini', 'algo_tree__max_depth': 2, 'algo_tree__min_samples_leaf': 1, 'algo_tree__min_samples_split': 2}\n",
      "0.648816 (0.037672) with: {'algo_tree__criterion': 'gini', 'algo_tree__max_depth': 2, 'algo_tree__min_samples_leaf': 1, 'algo_tree__min_samples_split': 3}\n",
      "0.648816 (0.037672) with: {'algo_tree__criterion': 'gini', 'algo_tree__max_depth': 2, 'algo_tree__min_samples_leaf': 1, 'algo_tree__min_samples_split': 4}\n",
      "0.648816 (0.037672) with: {'algo_tree__criterion': 'gini', 'algo_tree__max_depth': 2, 'algo_tree__min_samples_leaf': 1, 'algo_tree__min_samples_split': 5}\n",
      "0.648816 (0.037672) with: {'algo_tree__criterion': 'gini', 'algo_tree__max_depth': 2, 'algo_tree__min_samples_leaf': 1, 'algo_tree__min_samples_split': 6}\n",
      "0.648816 (0.037672) with: {'algo_tree__criterion': 'gini', 'algo_tree__max_depth': 2, 'algo_tree__min_samples_leaf': 1, 'algo_tree__min_samples_split': 7}\n",
      "0.648816 (0.037672) with: {'algo_tree__criterion': 'gini', 'algo_tree__max_depth': 2, 'algo_tree__min_samples_leaf': 1, 'algo_tree__min_samples_split': 8}\n",
      "0.648816 (0.037672) with: {'algo_tree__criterion': 'gini', 'algo_tree__max_depth': 2, 'algo_tree__min_samples_leaf': 1, 'algo_tree__min_samples_split': 9}\n",
      "nan (nan) with: {'algo_tree__criterion': 'gini', 'algo_tree__max_depth': 2, 'algo_tree__min_samples_leaf': 2, 'algo_tree__min_samples_split': 1}\n",
      "0.648816 (0.037672) with: {'algo_tree__criterion': 'gini', 'algo_tree__max_depth': 2, 'algo_tree__min_samples_leaf': 2, 'algo_tree__min_samples_split': 2}\n",
      "0.648816 (0.037672) with: {'algo_tree__criterion': 'gini', 'algo_tree__max_depth': 2, 'algo_tree__min_samples_leaf': 2, 'algo_tree__min_samples_split': 3}\n",
      "0.648816 (0.037672) with: {'algo_tree__criterion': 'gini', 'algo_tree__max_depth': 2, 'algo_tree__min_samples_leaf': 2, 'algo_tree__min_samples_split': 4}\n",
      "0.648816 (0.037672) with: {'algo_tree__criterion': 'gini', 'algo_tree__max_depth': 2, 'algo_tree__min_samples_leaf': 2, 'algo_tree__min_samples_split': 5}\n",
      "0.648816 (0.037672) with: {'algo_tree__criterion': 'gini', 'algo_tree__max_depth': 2, 'algo_tree__min_samples_leaf': 2, 'algo_tree__min_samples_split': 6}\n",
      "0.648816 (0.037672) with: {'algo_tree__criterion': 'gini', 'algo_tree__max_depth': 2, 'algo_tree__min_samples_leaf': 2, 'algo_tree__min_samples_split': 7}\n",
      "0.648816 (0.037672) with: {'algo_tree__criterion': 'gini', 'algo_tree__max_depth': 2, 'algo_tree__min_samples_leaf': 2, 'algo_tree__min_samples_split': 8}\n",
      "0.648816 (0.037672) with: {'algo_tree__criterion': 'gini', 'algo_tree__max_depth': 2, 'algo_tree__min_samples_leaf': 2, 'algo_tree__min_samples_split': 9}\n",
      "nan (nan) with: {'algo_tree__criterion': 'gini', 'algo_tree__max_depth': 2, 'algo_tree__min_samples_leaf': 3, 'algo_tree__min_samples_split': 1}\n",
      "0.648816 (0.037672) with: {'algo_tree__criterion': 'gini', 'algo_tree__max_depth': 2, 'algo_tree__min_samples_leaf': 3, 'algo_tree__min_samples_split': 2}\n",
      "0.648816 (0.037672) with: {'algo_tree__criterion': 'gini', 'algo_tree__max_depth': 2, 'algo_tree__min_samples_leaf': 3, 'algo_tree__min_samples_split': 3}\n",
      "0.648816 (0.037672) with: {'algo_tree__criterion': 'gini', 'algo_tree__max_depth': 2, 'algo_tree__min_samples_leaf': 3, 'algo_tree__min_samples_split': 4}\n",
      "0.648816 (0.037672) with: {'algo_tree__criterion': 'gini', 'algo_tree__max_depth': 2, 'algo_tree__min_samples_leaf': 3, 'algo_tree__min_samples_split': 5}\n",
      "0.648816 (0.037672) with: {'algo_tree__criterion': 'gini', 'algo_tree__max_depth': 2, 'algo_tree__min_samples_leaf': 3, 'algo_tree__min_samples_split': 6}\n",
      "0.648816 (0.037672) with: {'algo_tree__criterion': 'gini', 'algo_tree__max_depth': 2, 'algo_tree__min_samples_leaf': 3, 'algo_tree__min_samples_split': 7}\n",
      "0.648816 (0.037672) with: {'algo_tree__criterion': 'gini', 'algo_tree__max_depth': 2, 'algo_tree__min_samples_leaf': 3, 'algo_tree__min_samples_split': 8}\n",
      "0.648816 (0.037672) with: {'algo_tree__criterion': 'gini', 'algo_tree__max_depth': 2, 'algo_tree__min_samples_leaf': 3, 'algo_tree__min_samples_split': 9}\n",
      "nan (nan) with: {'algo_tree__criterion': 'gini', 'algo_tree__max_depth': 2, 'algo_tree__min_samples_leaf': 4, 'algo_tree__min_samples_split': 1}\n",
      "0.648816 (0.037672) with: {'algo_tree__criterion': 'gini', 'algo_tree__max_depth': 2, 'algo_tree__min_samples_leaf': 4, 'algo_tree__min_samples_split': 2}\n",
      "0.648816 (0.037672) with: {'algo_tree__criterion': 'gini', 'algo_tree__max_depth': 2, 'algo_tree__min_samples_leaf': 4, 'algo_tree__min_samples_split': 3}\n",
      "0.648816 (0.037672) with: {'algo_tree__criterion': 'gini', 'algo_tree__max_depth': 2, 'algo_tree__min_samples_leaf': 4, 'algo_tree__min_samples_split': 4}\n",
      "0.648816 (0.037672) with: {'algo_tree__criterion': 'gini', 'algo_tree__max_depth': 2, 'algo_tree__min_samples_leaf': 4, 'algo_tree__min_samples_split': 5}\n",
      "0.648816 (0.037672) with: {'algo_tree__criterion': 'gini', 'algo_tree__max_depth': 2, 'algo_tree__min_samples_leaf': 4, 'algo_tree__min_samples_split': 6}\n",
      "0.648816 (0.037672) with: {'algo_tree__criterion': 'gini', 'algo_tree__max_depth': 2, 'algo_tree__min_samples_leaf': 4, 'algo_tree__min_samples_split': 7}\n",
      "0.648816 (0.037672) with: {'algo_tree__criterion': 'gini', 'algo_tree__max_depth': 2, 'algo_tree__min_samples_leaf': 4, 'algo_tree__min_samples_split': 8}\n",
      "0.648816 (0.037672) with: {'algo_tree__criterion': 'gini', 'algo_tree__max_depth': 2, 'algo_tree__min_samples_leaf': 4, 'algo_tree__min_samples_split': 9}\n",
      "nan (nan) with: {'algo_tree__criterion': 'gini', 'algo_tree__max_depth': 3, 'algo_tree__min_samples_leaf': 1, 'algo_tree__min_samples_split': 1}\n",
      "0.829005 (0.022451) with: {'algo_tree__criterion': 'gini', 'algo_tree__max_depth': 3, 'algo_tree__min_samples_leaf': 1, 'algo_tree__min_samples_split': 2}\n",
      "0.829005 (0.022451) with: {'algo_tree__criterion': 'gini', 'algo_tree__max_depth': 3, 'algo_tree__min_samples_leaf': 1, 'algo_tree__min_samples_split': 3}\n",
      "0.829005 (0.022451) with: {'algo_tree__criterion': 'gini', 'algo_tree__max_depth': 3, 'algo_tree__min_samples_leaf': 1, 'algo_tree__min_samples_split': 4}\n",
      "0.829005 (0.022451) with: {'algo_tree__criterion': 'gini', 'algo_tree__max_depth': 3, 'algo_tree__min_samples_leaf': 1, 'algo_tree__min_samples_split': 5}\n",
      "0.829005 (0.022451) with: {'algo_tree__criterion': 'gini', 'algo_tree__max_depth': 3, 'algo_tree__min_samples_leaf': 1, 'algo_tree__min_samples_split': 6}\n",
      "0.829005 (0.022451) with: {'algo_tree__criterion': 'gini', 'algo_tree__max_depth': 3, 'algo_tree__min_samples_leaf': 1, 'algo_tree__min_samples_split': 7}\n",
      "0.829005 (0.022451) with: {'algo_tree__criterion': 'gini', 'algo_tree__max_depth': 3, 'algo_tree__min_samples_leaf': 1, 'algo_tree__min_samples_split': 8}\n",
      "0.829005 (0.022451) with: {'algo_tree__criterion': 'gini', 'algo_tree__max_depth': 3, 'algo_tree__min_samples_leaf': 1, 'algo_tree__min_samples_split': 9}\n",
      "nan (nan) with: {'algo_tree__criterion': 'gini', 'algo_tree__max_depth': 3, 'algo_tree__min_samples_leaf': 2, 'algo_tree__min_samples_split': 1}\n",
      "0.829005 (0.022451) with: {'algo_tree__criterion': 'gini', 'algo_tree__max_depth': 3, 'algo_tree__min_samples_leaf': 2, 'algo_tree__min_samples_split': 2}\n",
      "0.829005 (0.022451) with: {'algo_tree__criterion': 'gini', 'algo_tree__max_depth': 3, 'algo_tree__min_samples_leaf': 2, 'algo_tree__min_samples_split': 3}\n",
      "0.829005 (0.022451) with: {'algo_tree__criterion': 'gini', 'algo_tree__max_depth': 3, 'algo_tree__min_samples_leaf': 2, 'algo_tree__min_samples_split': 4}\n",
      "0.829005 (0.022451) with: {'algo_tree__criterion': 'gini', 'algo_tree__max_depth': 3, 'algo_tree__min_samples_leaf': 2, 'algo_tree__min_samples_split': 5}\n",
      "0.829005 (0.022451) with: {'algo_tree__criterion': 'gini', 'algo_tree__max_depth': 3, 'algo_tree__min_samples_leaf': 2, 'algo_tree__min_samples_split': 6}\n",
      "0.829005 (0.022451) with: {'algo_tree__criterion': 'gini', 'algo_tree__max_depth': 3, 'algo_tree__min_samples_leaf': 2, 'algo_tree__min_samples_split': 7}\n",
      "0.829005 (0.022451) with: {'algo_tree__criterion': 'gini', 'algo_tree__max_depth': 3, 'algo_tree__min_samples_leaf': 2, 'algo_tree__min_samples_split': 8}\n",
      "0.829005 (0.022451) with: {'algo_tree__criterion': 'gini', 'algo_tree__max_depth': 3, 'algo_tree__min_samples_leaf': 2, 'algo_tree__min_samples_split': 9}\n",
      "nan (nan) with: {'algo_tree__criterion': 'gini', 'algo_tree__max_depth': 3, 'algo_tree__min_samples_leaf': 3, 'algo_tree__min_samples_split': 1}\n",
      "0.829005 (0.022451) with: {'algo_tree__criterion': 'gini', 'algo_tree__max_depth': 3, 'algo_tree__min_samples_leaf': 3, 'algo_tree__min_samples_split': 2}\n",
      "0.829005 (0.022451) with: {'algo_tree__criterion': 'gini', 'algo_tree__max_depth': 3, 'algo_tree__min_samples_leaf': 3, 'algo_tree__min_samples_split': 3}\n",
      "0.829005 (0.022451) with: {'algo_tree__criterion': 'gini', 'algo_tree__max_depth': 3, 'algo_tree__min_samples_leaf': 3, 'algo_tree__min_samples_split': 4}\n",
      "0.829005 (0.022451) with: {'algo_tree__criterion': 'gini', 'algo_tree__max_depth': 3, 'algo_tree__min_samples_leaf': 3, 'algo_tree__min_samples_split': 5}\n",
      "0.829005 (0.022451) with: {'algo_tree__criterion': 'gini', 'algo_tree__max_depth': 3, 'algo_tree__min_samples_leaf': 3, 'algo_tree__min_samples_split': 6}\n",
      "0.829005 (0.022451) with: {'algo_tree__criterion': 'gini', 'algo_tree__max_depth': 3, 'algo_tree__min_samples_leaf': 3, 'algo_tree__min_samples_split': 7}\n",
      "0.829005 (0.022451) with: {'algo_tree__criterion': 'gini', 'algo_tree__max_depth': 3, 'algo_tree__min_samples_leaf': 3, 'algo_tree__min_samples_split': 8}\n",
      "0.829005 (0.022451) with: {'algo_tree__criterion': 'gini', 'algo_tree__max_depth': 3, 'algo_tree__min_samples_leaf': 3, 'algo_tree__min_samples_split': 9}\n",
      "nan (nan) with: {'algo_tree__criterion': 'gini', 'algo_tree__max_depth': 3, 'algo_tree__min_samples_leaf': 4, 'algo_tree__min_samples_split': 1}\n",
      "0.829005 (0.022451) with: {'algo_tree__criterion': 'gini', 'algo_tree__max_depth': 3, 'algo_tree__min_samples_leaf': 4, 'algo_tree__min_samples_split': 2}\n",
      "0.829005 (0.022451) with: {'algo_tree__criterion': 'gini', 'algo_tree__max_depth': 3, 'algo_tree__min_samples_leaf': 4, 'algo_tree__min_samples_split': 3}\n",
      "0.829005 (0.022451) with: {'algo_tree__criterion': 'gini', 'algo_tree__max_depth': 3, 'algo_tree__min_samples_leaf': 4, 'algo_tree__min_samples_split': 4}\n",
      "0.829005 (0.022451) with: {'algo_tree__criterion': 'gini', 'algo_tree__max_depth': 3, 'algo_tree__min_samples_leaf': 4, 'algo_tree__min_samples_split': 5}\n",
      "0.829005 (0.022451) with: {'algo_tree__criterion': 'gini', 'algo_tree__max_depth': 3, 'algo_tree__min_samples_leaf': 4, 'algo_tree__min_samples_split': 6}\n",
      "0.829005 (0.022451) with: {'algo_tree__criterion': 'gini', 'algo_tree__max_depth': 3, 'algo_tree__min_samples_leaf': 4, 'algo_tree__min_samples_split': 7}\n",
      "0.829005 (0.022451) with: {'algo_tree__criterion': 'gini', 'algo_tree__max_depth': 3, 'algo_tree__min_samples_leaf': 4, 'algo_tree__min_samples_split': 8}\n",
      "0.829005 (0.022451) with: {'algo_tree__criterion': 'gini', 'algo_tree__max_depth': 3, 'algo_tree__min_samples_leaf': 4, 'algo_tree__min_samples_split': 9}\n",
      "nan (nan) with: {'algo_tree__criterion': 'gini', 'algo_tree__max_depth': 4, 'algo_tree__min_samples_leaf': 1, 'algo_tree__min_samples_split': 1}\n",
      "0.811378 (0.016743) with: {'algo_tree__criterion': 'gini', 'algo_tree__max_depth': 4, 'algo_tree__min_samples_leaf': 1, 'algo_tree__min_samples_split': 2}\n",
      "0.811378 (0.016743) with: {'algo_tree__criterion': 'gini', 'algo_tree__max_depth': 4, 'algo_tree__min_samples_leaf': 1, 'algo_tree__min_samples_split': 3}\n",
      "0.811378 (0.016743) with: {'algo_tree__criterion': 'gini', 'algo_tree__max_depth': 4, 'algo_tree__min_samples_leaf': 1, 'algo_tree__min_samples_split': 4}\n",
      "0.811378 (0.016743) with: {'algo_tree__criterion': 'gini', 'algo_tree__max_depth': 4, 'algo_tree__min_samples_leaf': 1, 'algo_tree__min_samples_split': 5}\n",
      "0.811378 (0.016743) with: {'algo_tree__criterion': 'gini', 'algo_tree__max_depth': 4, 'algo_tree__min_samples_leaf': 1, 'algo_tree__min_samples_split': 6}\n",
      "0.811378 (0.016743) with: {'algo_tree__criterion': 'gini', 'algo_tree__max_depth': 4, 'algo_tree__min_samples_leaf': 1, 'algo_tree__min_samples_split': 7}\n",
      "0.811378 (0.016743) with: {'algo_tree__criterion': 'gini', 'algo_tree__max_depth': 4, 'algo_tree__min_samples_leaf': 1, 'algo_tree__min_samples_split': 8}\n",
      "0.811378 (0.016743) with: {'algo_tree__criterion': 'gini', 'algo_tree__max_depth': 4, 'algo_tree__min_samples_leaf': 1, 'algo_tree__min_samples_split': 9}\n",
      "nan (nan) with: {'algo_tree__criterion': 'gini', 'algo_tree__max_depth': 4, 'algo_tree__min_samples_leaf': 2, 'algo_tree__min_samples_split': 1}\n",
      "0.811378 (0.016743) with: {'algo_tree__criterion': 'gini', 'algo_tree__max_depth': 4, 'algo_tree__min_samples_leaf': 2, 'algo_tree__min_samples_split': 2}\n",
      "0.811378 (0.016743) with: {'algo_tree__criterion': 'gini', 'algo_tree__max_depth': 4, 'algo_tree__min_samples_leaf': 2, 'algo_tree__min_samples_split': 3}\n",
      "0.811378 (0.016743) with: {'algo_tree__criterion': 'gini', 'algo_tree__max_depth': 4, 'algo_tree__min_samples_leaf': 2, 'algo_tree__min_samples_split': 4}\n",
      "0.811378 (0.016743) with: {'algo_tree__criterion': 'gini', 'algo_tree__max_depth': 4, 'algo_tree__min_samples_leaf': 2, 'algo_tree__min_samples_split': 5}\n",
      "0.811378 (0.016743) with: {'algo_tree__criterion': 'gini', 'algo_tree__max_depth': 4, 'algo_tree__min_samples_leaf': 2, 'algo_tree__min_samples_split': 6}\n",
      "0.811378 (0.016743) with: {'algo_tree__criterion': 'gini', 'algo_tree__max_depth': 4, 'algo_tree__min_samples_leaf': 2, 'algo_tree__min_samples_split': 7}\n",
      "0.811378 (0.016743) with: {'algo_tree__criterion': 'gini', 'algo_tree__max_depth': 4, 'algo_tree__min_samples_leaf': 2, 'algo_tree__min_samples_split': 8}\n",
      "0.811378 (0.016743) with: {'algo_tree__criterion': 'gini', 'algo_tree__max_depth': 4, 'algo_tree__min_samples_leaf': 2, 'algo_tree__min_samples_split': 9}\n",
      "nan (nan) with: {'algo_tree__criterion': 'gini', 'algo_tree__max_depth': 4, 'algo_tree__min_samples_leaf': 3, 'algo_tree__min_samples_split': 1}\n",
      "0.811378 (0.016743) with: {'algo_tree__criterion': 'gini', 'algo_tree__max_depth': 4, 'algo_tree__min_samples_leaf': 3, 'algo_tree__min_samples_split': 2}\n",
      "0.811378 (0.016743) with: {'algo_tree__criterion': 'gini', 'algo_tree__max_depth': 4, 'algo_tree__min_samples_leaf': 3, 'algo_tree__min_samples_split': 3}\n",
      "0.811378 (0.016743) with: {'algo_tree__criterion': 'gini', 'algo_tree__max_depth': 4, 'algo_tree__min_samples_leaf': 3, 'algo_tree__min_samples_split': 4}\n",
      "0.811378 (0.016743) with: {'algo_tree__criterion': 'gini', 'algo_tree__max_depth': 4, 'algo_tree__min_samples_leaf': 3, 'algo_tree__min_samples_split': 5}\n",
      "0.811378 (0.016743) with: {'algo_tree__criterion': 'gini', 'algo_tree__max_depth': 4, 'algo_tree__min_samples_leaf': 3, 'algo_tree__min_samples_split': 6}\n",
      "0.811378 (0.016743) with: {'algo_tree__criterion': 'gini', 'algo_tree__max_depth': 4, 'algo_tree__min_samples_leaf': 3, 'algo_tree__min_samples_split': 7}\n",
      "0.811378 (0.016743) with: {'algo_tree__criterion': 'gini', 'algo_tree__max_depth': 4, 'algo_tree__min_samples_leaf': 3, 'algo_tree__min_samples_split': 8}\n",
      "0.811378 (0.016743) with: {'algo_tree__criterion': 'gini', 'algo_tree__max_depth': 4, 'algo_tree__min_samples_leaf': 3, 'algo_tree__min_samples_split': 9}\n",
      "nan (nan) with: {'algo_tree__criterion': 'gini', 'algo_tree__max_depth': 4, 'algo_tree__min_samples_leaf': 4, 'algo_tree__min_samples_split': 1}\n",
      "0.811365 (0.016737) with: {'algo_tree__criterion': 'gini', 'algo_tree__max_depth': 4, 'algo_tree__min_samples_leaf': 4, 'algo_tree__min_samples_split': 2}\n",
      "0.811365 (0.016737) with: {'algo_tree__criterion': 'gini', 'algo_tree__max_depth': 4, 'algo_tree__min_samples_leaf': 4, 'algo_tree__min_samples_split': 3}\n",
      "0.811365 (0.016737) with: {'algo_tree__criterion': 'gini', 'algo_tree__max_depth': 4, 'algo_tree__min_samples_leaf': 4, 'algo_tree__min_samples_split': 4}\n",
      "0.811365 (0.016737) with: {'algo_tree__criterion': 'gini', 'algo_tree__max_depth': 4, 'algo_tree__min_samples_leaf': 4, 'algo_tree__min_samples_split': 5}\n",
      "0.811365 (0.016737) with: {'algo_tree__criterion': 'gini', 'algo_tree__max_depth': 4, 'algo_tree__min_samples_leaf': 4, 'algo_tree__min_samples_split': 6}\n",
      "0.811365 (0.016737) with: {'algo_tree__criterion': 'gini', 'algo_tree__max_depth': 4, 'algo_tree__min_samples_leaf': 4, 'algo_tree__min_samples_split': 7}\n",
      "0.811365 (0.016737) with: {'algo_tree__criterion': 'gini', 'algo_tree__max_depth': 4, 'algo_tree__min_samples_leaf': 4, 'algo_tree__min_samples_split': 8}\n",
      "0.811365 (0.016737) with: {'algo_tree__criterion': 'gini', 'algo_tree__max_depth': 4, 'algo_tree__min_samples_leaf': 4, 'algo_tree__min_samples_split': 9}\n",
      "nan (nan) with: {'algo_tree__criterion': 'gini', 'algo_tree__max_depth': 5, 'algo_tree__min_samples_leaf': 1, 'algo_tree__min_samples_split': 1}\n",
      "0.840451 (0.007997) with: {'algo_tree__criterion': 'gini', 'algo_tree__max_depth': 5, 'algo_tree__min_samples_leaf': 1, 'algo_tree__min_samples_split': 2}\n",
      "0.840451 (0.007997) with: {'algo_tree__criterion': 'gini', 'algo_tree__max_depth': 5, 'algo_tree__min_samples_leaf': 1, 'algo_tree__min_samples_split': 3}\n",
      "0.840451 (0.007997) with: {'algo_tree__criterion': 'gini', 'algo_tree__max_depth': 5, 'algo_tree__min_samples_leaf': 1, 'algo_tree__min_samples_split': 4}\n",
      "0.840451 (0.007997) with: {'algo_tree__criterion': 'gini', 'algo_tree__max_depth': 5, 'algo_tree__min_samples_leaf': 1, 'algo_tree__min_samples_split': 5}\n",
      "0.840451 (0.007997) with: {'algo_tree__criterion': 'gini', 'algo_tree__max_depth': 5, 'algo_tree__min_samples_leaf': 1, 'algo_tree__min_samples_split': 6}\n",
      "0.840451 (0.007997) with: {'algo_tree__criterion': 'gini', 'algo_tree__max_depth': 5, 'algo_tree__min_samples_leaf': 1, 'algo_tree__min_samples_split': 7}\n",
      "0.840451 (0.007997) with: {'algo_tree__criterion': 'gini', 'algo_tree__max_depth': 5, 'algo_tree__min_samples_leaf': 1, 'algo_tree__min_samples_split': 8}\n",
      "0.840451 (0.007997) with: {'algo_tree__criterion': 'gini', 'algo_tree__max_depth': 5, 'algo_tree__min_samples_leaf': 1, 'algo_tree__min_samples_split': 9}\n",
      "nan (nan) with: {'algo_tree__criterion': 'gini', 'algo_tree__max_depth': 5, 'algo_tree__min_samples_leaf': 2, 'algo_tree__min_samples_split': 1}\n",
      "0.840451 (0.007997) with: {'algo_tree__criterion': 'gini', 'algo_tree__max_depth': 5, 'algo_tree__min_samples_leaf': 2, 'algo_tree__min_samples_split': 2}\n",
      "0.840445 (0.008001) with: {'algo_tree__criterion': 'gini', 'algo_tree__max_depth': 5, 'algo_tree__min_samples_leaf': 2, 'algo_tree__min_samples_split': 3}\n",
      "0.840445 (0.008001) with: {'algo_tree__criterion': 'gini', 'algo_tree__max_depth': 5, 'algo_tree__min_samples_leaf': 2, 'algo_tree__min_samples_split': 4}\n",
      "0.840439 (0.008004) with: {'algo_tree__criterion': 'gini', 'algo_tree__max_depth': 5, 'algo_tree__min_samples_leaf': 2, 'algo_tree__min_samples_split': 5}\n",
      "0.840439 (0.008004) with: {'algo_tree__criterion': 'gini', 'algo_tree__max_depth': 5, 'algo_tree__min_samples_leaf': 2, 'algo_tree__min_samples_split': 6}\n",
      "0.840439 (0.008004) with: {'algo_tree__criterion': 'gini', 'algo_tree__max_depth': 5, 'algo_tree__min_samples_leaf': 2, 'algo_tree__min_samples_split': 7}\n",
      "0.840439 (0.008004) with: {'algo_tree__criterion': 'gini', 'algo_tree__max_depth': 5, 'algo_tree__min_samples_leaf': 2, 'algo_tree__min_samples_split': 8}\n",
      "0.840439 (0.008004) with: {'algo_tree__criterion': 'gini', 'algo_tree__max_depth': 5, 'algo_tree__min_samples_leaf': 2, 'algo_tree__min_samples_split': 9}\n",
      "nan (nan) with: {'algo_tree__criterion': 'gini', 'algo_tree__max_depth': 5, 'algo_tree__min_samples_leaf': 3, 'algo_tree__min_samples_split': 1}\n",
      "0.840464 (0.007987) with: {'algo_tree__criterion': 'gini', 'algo_tree__max_depth': 5, 'algo_tree__min_samples_leaf': 3, 'algo_tree__min_samples_split': 2}\n",
      "0.840464 (0.007987) with: {'algo_tree__criterion': 'gini', 'algo_tree__max_depth': 5, 'algo_tree__min_samples_leaf': 3, 'algo_tree__min_samples_split': 3}\n",
      "0.840464 (0.007987) with: {'algo_tree__criterion': 'gini', 'algo_tree__max_depth': 5, 'algo_tree__min_samples_leaf': 3, 'algo_tree__min_samples_split': 4}\n",
      "0.840464 (0.007987) with: {'algo_tree__criterion': 'gini', 'algo_tree__max_depth': 5, 'algo_tree__min_samples_leaf': 3, 'algo_tree__min_samples_split': 5}\n",
      "0.840464 (0.007987) with: {'algo_tree__criterion': 'gini', 'algo_tree__max_depth': 5, 'algo_tree__min_samples_leaf': 3, 'algo_tree__min_samples_split': 6}\n",
      "0.840464 (0.007987) with: {'algo_tree__criterion': 'gini', 'algo_tree__max_depth': 5, 'algo_tree__min_samples_leaf': 3, 'algo_tree__min_samples_split': 7}\n",
      "0.840464 (0.007987) with: {'algo_tree__criterion': 'gini', 'algo_tree__max_depth': 5, 'algo_tree__min_samples_leaf': 3, 'algo_tree__min_samples_split': 8}\n",
      "0.840464 (0.007987) with: {'algo_tree__criterion': 'gini', 'algo_tree__max_depth': 5, 'algo_tree__min_samples_leaf': 3, 'algo_tree__min_samples_split': 9}\n",
      "nan (nan) with: {'algo_tree__criterion': 'gini', 'algo_tree__max_depth': 5, 'algo_tree__min_samples_leaf': 4, 'algo_tree__min_samples_split': 1}\n",
      "0.840445 (0.007976) with: {'algo_tree__criterion': 'gini', 'algo_tree__max_depth': 5, 'algo_tree__min_samples_leaf': 4, 'algo_tree__min_samples_split': 2}\n",
      "0.840445 (0.007976) with: {'algo_tree__criterion': 'gini', 'algo_tree__max_depth': 5, 'algo_tree__min_samples_leaf': 4, 'algo_tree__min_samples_split': 3}\n",
      "0.840445 (0.007976) with: {'algo_tree__criterion': 'gini', 'algo_tree__max_depth': 5, 'algo_tree__min_samples_leaf': 4, 'algo_tree__min_samples_split': 4}\n",
      "0.840445 (0.007976) with: {'algo_tree__criterion': 'gini', 'algo_tree__max_depth': 5, 'algo_tree__min_samples_leaf': 4, 'algo_tree__min_samples_split': 5}\n",
      "0.840445 (0.007976) with: {'algo_tree__criterion': 'gini', 'algo_tree__max_depth': 5, 'algo_tree__min_samples_leaf': 4, 'algo_tree__min_samples_split': 6}\n",
      "0.840445 (0.007976) with: {'algo_tree__criterion': 'gini', 'algo_tree__max_depth': 5, 'algo_tree__min_samples_leaf': 4, 'algo_tree__min_samples_split': 7}\n",
      "0.840445 (0.007976) with: {'algo_tree__criterion': 'gini', 'algo_tree__max_depth': 5, 'algo_tree__min_samples_leaf': 4, 'algo_tree__min_samples_split': 8}\n",
      "0.840445 (0.007976) with: {'algo_tree__criterion': 'gini', 'algo_tree__max_depth': 5, 'algo_tree__min_samples_leaf': 4, 'algo_tree__min_samples_split': 9}\n",
      "nan (nan) with: {'algo_tree__criterion': 'gini', 'algo_tree__max_depth': 6, 'algo_tree__min_samples_leaf': 1, 'algo_tree__min_samples_split': 1}\n",
      "0.840978 (0.008924) with: {'algo_tree__criterion': 'gini', 'algo_tree__max_depth': 6, 'algo_tree__min_samples_leaf': 1, 'algo_tree__min_samples_split': 2}\n",
      "0.840985 (0.008913) with: {'algo_tree__criterion': 'gini', 'algo_tree__max_depth': 6, 'algo_tree__min_samples_leaf': 1, 'algo_tree__min_samples_split': 3}\n",
      "0.840997 (0.008899) with: {'algo_tree__criterion': 'gini', 'algo_tree__max_depth': 6, 'algo_tree__min_samples_leaf': 1, 'algo_tree__min_samples_split': 4}\n",
      "0.840972 (0.008928) with: {'algo_tree__criterion': 'gini', 'algo_tree__max_depth': 6, 'algo_tree__min_samples_leaf': 1, 'algo_tree__min_samples_split': 5}\n",
      "0.840966 (0.008925) with: {'algo_tree__criterion': 'gini', 'algo_tree__max_depth': 6, 'algo_tree__min_samples_leaf': 1, 'algo_tree__min_samples_split': 6}\n",
      "0.840960 (0.008912) with: {'algo_tree__criterion': 'gini', 'algo_tree__max_depth': 6, 'algo_tree__min_samples_leaf': 1, 'algo_tree__min_samples_split': 7}\n",
      "0.840997 (0.008893) with: {'algo_tree__criterion': 'gini', 'algo_tree__max_depth': 6, 'algo_tree__min_samples_leaf': 1, 'algo_tree__min_samples_split': 8}\n",
      "0.840960 (0.008910) with: {'algo_tree__criterion': 'gini', 'algo_tree__max_depth': 6, 'algo_tree__min_samples_leaf': 1, 'algo_tree__min_samples_split': 9}\n",
      "nan (nan) with: {'algo_tree__criterion': 'gini', 'algo_tree__max_depth': 6, 'algo_tree__min_samples_leaf': 2, 'algo_tree__min_samples_split': 1}\n",
      "0.841016 (0.008870) with: {'algo_tree__criterion': 'gini', 'algo_tree__max_depth': 6, 'algo_tree__min_samples_leaf': 2, 'algo_tree__min_samples_split': 2}\n",
      "0.840991 (0.008856) with: {'algo_tree__criterion': 'gini', 'algo_tree__max_depth': 6, 'algo_tree__min_samples_leaf': 2, 'algo_tree__min_samples_split': 3}\n",
      "0.840997 (0.008845) with: {'algo_tree__criterion': 'gini', 'algo_tree__max_depth': 6, 'algo_tree__min_samples_leaf': 2, 'algo_tree__min_samples_split': 4}\n",
      "0.841009 (0.008860) with: {'algo_tree__criterion': 'gini', 'algo_tree__max_depth': 6, 'algo_tree__min_samples_leaf': 2, 'algo_tree__min_samples_split': 5}\n",
      "0.840985 (0.008851) with: {'algo_tree__criterion': 'gini', 'algo_tree__max_depth': 6, 'algo_tree__min_samples_leaf': 2, 'algo_tree__min_samples_split': 6}\n",
      "0.841028 (0.008833) with: {'algo_tree__criterion': 'gini', 'algo_tree__max_depth': 6, 'algo_tree__min_samples_leaf': 2, 'algo_tree__min_samples_split': 7}\n",
      "0.840997 (0.008873) with: {'algo_tree__criterion': 'gini', 'algo_tree__max_depth': 6, 'algo_tree__min_samples_leaf': 2, 'algo_tree__min_samples_split': 8}\n",
      "0.840997 (0.008862) with: {'algo_tree__criterion': 'gini', 'algo_tree__max_depth': 6, 'algo_tree__min_samples_leaf': 2, 'algo_tree__min_samples_split': 9}\n",
      "nan (nan) with: {'algo_tree__criterion': 'gini', 'algo_tree__max_depth': 6, 'algo_tree__min_samples_leaf': 3, 'algo_tree__min_samples_split': 1}\n",
      "0.841040 (0.008926) with: {'algo_tree__criterion': 'gini', 'algo_tree__max_depth': 6, 'algo_tree__min_samples_leaf': 3, 'algo_tree__min_samples_split': 2}\n",
      "0.841028 (0.008943) with: {'algo_tree__criterion': 'gini', 'algo_tree__max_depth': 6, 'algo_tree__min_samples_leaf': 3, 'algo_tree__min_samples_split': 3}\n",
      "0.841022 (0.008911) with: {'algo_tree__criterion': 'gini', 'algo_tree__max_depth': 6, 'algo_tree__min_samples_leaf': 3, 'algo_tree__min_samples_split': 4}\n",
      "0.841034 (0.008923) with: {'algo_tree__criterion': 'gini', 'algo_tree__max_depth': 6, 'algo_tree__min_samples_leaf': 3, 'algo_tree__min_samples_split': 5}\n",
      "0.841034 (0.008948) with: {'algo_tree__criterion': 'gini', 'algo_tree__max_depth': 6, 'algo_tree__min_samples_leaf': 3, 'algo_tree__min_samples_split': 6}\n",
      "0.841016 (0.008967) with: {'algo_tree__criterion': 'gini', 'algo_tree__max_depth': 6, 'algo_tree__min_samples_leaf': 3, 'algo_tree__min_samples_split': 7}\n",
      "0.841022 (0.008941) with: {'algo_tree__criterion': 'gini', 'algo_tree__max_depth': 6, 'algo_tree__min_samples_leaf': 3, 'algo_tree__min_samples_split': 8}\n",
      "0.841016 (0.008937) with: {'algo_tree__criterion': 'gini', 'algo_tree__max_depth': 6, 'algo_tree__min_samples_leaf': 3, 'algo_tree__min_samples_split': 9}\n",
      "nan (nan) with: {'algo_tree__criterion': 'gini', 'algo_tree__max_depth': 6, 'algo_tree__min_samples_leaf': 4, 'algo_tree__min_samples_split': 1}\n",
      "0.840910 (0.008902) with: {'algo_tree__criterion': 'gini', 'algo_tree__max_depth': 6, 'algo_tree__min_samples_leaf': 4, 'algo_tree__min_samples_split': 2}\n",
      "0.840898 (0.008896) with: {'algo_tree__criterion': 'gini', 'algo_tree__max_depth': 6, 'algo_tree__min_samples_leaf': 4, 'algo_tree__min_samples_split': 3}\n",
      "0.840904 (0.008900) with: {'algo_tree__criterion': 'gini', 'algo_tree__max_depth': 6, 'algo_tree__min_samples_leaf': 4, 'algo_tree__min_samples_split': 4}\n",
      "0.840910 (0.008905) with: {'algo_tree__criterion': 'gini', 'algo_tree__max_depth': 6, 'algo_tree__min_samples_leaf': 4, 'algo_tree__min_samples_split': 5}\n",
      "0.840910 (0.008905) with: {'algo_tree__criterion': 'gini', 'algo_tree__max_depth': 6, 'algo_tree__min_samples_leaf': 4, 'algo_tree__min_samples_split': 6}\n",
      "0.840892 (0.008888) with: {'algo_tree__criterion': 'gini', 'algo_tree__max_depth': 6, 'algo_tree__min_samples_leaf': 4, 'algo_tree__min_samples_split': 7}\n",
      "0.840923 (0.008918) with: {'algo_tree__criterion': 'gini', 'algo_tree__max_depth': 6, 'algo_tree__min_samples_leaf': 4, 'algo_tree__min_samples_split': 8}\n",
      "0.840898 (0.008917) with: {'algo_tree__criterion': 'gini', 'algo_tree__max_depth': 6, 'algo_tree__min_samples_leaf': 4, 'algo_tree__min_samples_split': 9}\n",
      "nan (nan) with: {'algo_tree__criterion': 'gini', 'algo_tree__max_depth': 7, 'algo_tree__min_samples_leaf': 1, 'algo_tree__min_samples_split': 1}\n",
      "0.847346 (0.008122) with: {'algo_tree__criterion': 'gini', 'algo_tree__max_depth': 7, 'algo_tree__min_samples_leaf': 1, 'algo_tree__min_samples_split': 2}\n",
      "0.847309 (0.008110) with: {'algo_tree__criterion': 'gini', 'algo_tree__max_depth': 7, 'algo_tree__min_samples_leaf': 1, 'algo_tree__min_samples_split': 3}\n",
      "0.847284 (0.008140) with: {'algo_tree__criterion': 'gini', 'algo_tree__max_depth': 7, 'algo_tree__min_samples_leaf': 1, 'algo_tree__min_samples_split': 4}\n",
      "0.847340 (0.008125) with: {'algo_tree__criterion': 'gini', 'algo_tree__max_depth': 7, 'algo_tree__min_samples_leaf': 1, 'algo_tree__min_samples_split': 5}\n",
      "0.847377 (0.008122) with: {'algo_tree__criterion': 'gini', 'algo_tree__max_depth': 7, 'algo_tree__min_samples_leaf': 1, 'algo_tree__min_samples_split': 6}\n",
      "0.847359 (0.008098) with: {'algo_tree__criterion': 'gini', 'algo_tree__max_depth': 7, 'algo_tree__min_samples_leaf': 1, 'algo_tree__min_samples_split': 7}\n",
      "0.847365 (0.008098) with: {'algo_tree__criterion': 'gini', 'algo_tree__max_depth': 7, 'algo_tree__min_samples_leaf': 1, 'algo_tree__min_samples_split': 8}\n",
      "0.847371 (0.008153) with: {'algo_tree__criterion': 'gini', 'algo_tree__max_depth': 7, 'algo_tree__min_samples_leaf': 1, 'algo_tree__min_samples_split': 9}\n",
      "nan (nan) with: {'algo_tree__criterion': 'gini', 'algo_tree__max_depth': 7, 'algo_tree__min_samples_leaf': 2, 'algo_tree__min_samples_split': 1}\n",
      "0.847352 (0.008164) with: {'algo_tree__criterion': 'gini', 'algo_tree__max_depth': 7, 'algo_tree__min_samples_leaf': 2, 'algo_tree__min_samples_split': 2}\n",
      "0.847365 (0.008133) with: {'algo_tree__criterion': 'gini', 'algo_tree__max_depth': 7, 'algo_tree__min_samples_leaf': 2, 'algo_tree__min_samples_split': 3}\n",
      "0.847390 (0.008161) with: {'algo_tree__criterion': 'gini', 'algo_tree__max_depth': 7, 'algo_tree__min_samples_leaf': 2, 'algo_tree__min_samples_split': 4}\n",
      "0.847359 (0.008137) with: {'algo_tree__criterion': 'gini', 'algo_tree__max_depth': 7, 'algo_tree__min_samples_leaf': 2, 'algo_tree__min_samples_split': 5}\n",
      "0.847402 (0.008096) with: {'algo_tree__criterion': 'gini', 'algo_tree__max_depth': 7, 'algo_tree__min_samples_leaf': 2, 'algo_tree__min_samples_split': 6}\n",
      "0.847371 (0.008167) with: {'algo_tree__criterion': 'gini', 'algo_tree__max_depth': 7, 'algo_tree__min_samples_leaf': 2, 'algo_tree__min_samples_split': 7}\n",
      "0.847377 (0.008127) with: {'algo_tree__criterion': 'gini', 'algo_tree__max_depth': 7, 'algo_tree__min_samples_leaf': 2, 'algo_tree__min_samples_split': 8}\n",
      "0.847414 (0.008176) with: {'algo_tree__criterion': 'gini', 'algo_tree__max_depth': 7, 'algo_tree__min_samples_leaf': 2, 'algo_tree__min_samples_split': 9}\n",
      "nan (nan) with: {'algo_tree__criterion': 'gini', 'algo_tree__max_depth': 7, 'algo_tree__min_samples_leaf': 3, 'algo_tree__min_samples_split': 1}\n",
      "0.847328 (0.008191) with: {'algo_tree__criterion': 'gini', 'algo_tree__max_depth': 7, 'algo_tree__min_samples_leaf': 3, 'algo_tree__min_samples_split': 2}\n",
      "0.847365 (0.008186) with: {'algo_tree__criterion': 'gini', 'algo_tree__max_depth': 7, 'algo_tree__min_samples_leaf': 3, 'algo_tree__min_samples_split': 3}\n",
      "0.847377 (0.008132) with: {'algo_tree__criterion': 'gini', 'algo_tree__max_depth': 7, 'algo_tree__min_samples_leaf': 3, 'algo_tree__min_samples_split': 4}\n",
      "0.847390 (0.008148) with: {'algo_tree__criterion': 'gini', 'algo_tree__max_depth': 7, 'algo_tree__min_samples_leaf': 3, 'algo_tree__min_samples_split': 5}\n",
      "0.847352 (0.008172) with: {'algo_tree__criterion': 'gini', 'algo_tree__max_depth': 7, 'algo_tree__min_samples_leaf': 3, 'algo_tree__min_samples_split': 6}\n",
      "0.847359 (0.008157) with: {'algo_tree__criterion': 'gini', 'algo_tree__max_depth': 7, 'algo_tree__min_samples_leaf': 3, 'algo_tree__min_samples_split': 7}\n",
      "0.847383 (0.008172) with: {'algo_tree__criterion': 'gini', 'algo_tree__max_depth': 7, 'algo_tree__min_samples_leaf': 3, 'algo_tree__min_samples_split': 8}\n",
      "0.847377 (0.008180) with: {'algo_tree__criterion': 'gini', 'algo_tree__max_depth': 7, 'algo_tree__min_samples_leaf': 3, 'algo_tree__min_samples_split': 9}\n",
      "nan (nan) with: {'algo_tree__criterion': 'gini', 'algo_tree__max_depth': 7, 'algo_tree__min_samples_leaf': 4, 'algo_tree__min_samples_split': 1}\n",
      "0.847191 (0.008126) with: {'algo_tree__criterion': 'gini', 'algo_tree__max_depth': 7, 'algo_tree__min_samples_leaf': 4, 'algo_tree__min_samples_split': 2}\n",
      "0.847197 (0.008141) with: {'algo_tree__criterion': 'gini', 'algo_tree__max_depth': 7, 'algo_tree__min_samples_leaf': 4, 'algo_tree__min_samples_split': 3}\n",
      "0.847185 (0.008124) with: {'algo_tree__criterion': 'gini', 'algo_tree__max_depth': 7, 'algo_tree__min_samples_leaf': 4, 'algo_tree__min_samples_split': 4}\n",
      "0.847216 (0.008122) with: {'algo_tree__criterion': 'gini', 'algo_tree__max_depth': 7, 'algo_tree__min_samples_leaf': 4, 'algo_tree__min_samples_split': 5}\n",
      "0.847228 (0.008141) with: {'algo_tree__criterion': 'gini', 'algo_tree__max_depth': 7, 'algo_tree__min_samples_leaf': 4, 'algo_tree__min_samples_split': 6}\n",
      "0.847204 (0.008129) with: {'algo_tree__criterion': 'gini', 'algo_tree__max_depth': 7, 'algo_tree__min_samples_leaf': 4, 'algo_tree__min_samples_split': 7}\n",
      "0.847204 (0.008125) with: {'algo_tree__criterion': 'gini', 'algo_tree__max_depth': 7, 'algo_tree__min_samples_leaf': 4, 'algo_tree__min_samples_split': 8}\n",
      "0.847197 (0.008121) with: {'algo_tree__criterion': 'gini', 'algo_tree__max_depth': 7, 'algo_tree__min_samples_leaf': 4, 'algo_tree__min_samples_split': 9}\n",
      "nan (nan) with: {'algo_tree__criterion': 'gini', 'algo_tree__max_depth': 8, 'algo_tree__min_samples_leaf': 1, 'algo_tree__min_samples_split': 1}\n",
      "0.852796 (0.006637) with: {'algo_tree__criterion': 'gini', 'algo_tree__max_depth': 8, 'algo_tree__min_samples_leaf': 1, 'algo_tree__min_samples_split': 2}\n",
      "0.852784 (0.006582) with: {'algo_tree__criterion': 'gini', 'algo_tree__max_depth': 8, 'algo_tree__min_samples_leaf': 1, 'algo_tree__min_samples_split': 3}\n",
      "0.852778 (0.006629) with: {'algo_tree__criterion': 'gini', 'algo_tree__max_depth': 8, 'algo_tree__min_samples_leaf': 1, 'algo_tree__min_samples_split': 4}\n",
      "0.852865 (0.006615) with: {'algo_tree__criterion': 'gini', 'algo_tree__max_depth': 8, 'algo_tree__min_samples_leaf': 1, 'algo_tree__min_samples_split': 5}\n",
      "0.852852 (0.006643) with: {'algo_tree__criterion': 'gini', 'algo_tree__max_depth': 8, 'algo_tree__min_samples_leaf': 1, 'algo_tree__min_samples_split': 6}\n",
      "0.852865 (0.006612) with: {'algo_tree__criterion': 'gini', 'algo_tree__max_depth': 8, 'algo_tree__min_samples_leaf': 1, 'algo_tree__min_samples_split': 7}\n",
      "0.852778 (0.006671) with: {'algo_tree__criterion': 'gini', 'algo_tree__max_depth': 8, 'algo_tree__min_samples_leaf': 1, 'algo_tree__min_samples_split': 8}\n",
      "0.852753 (0.006653) with: {'algo_tree__criterion': 'gini', 'algo_tree__max_depth': 8, 'algo_tree__min_samples_leaf': 1, 'algo_tree__min_samples_split': 9}\n",
      "nan (nan) with: {'algo_tree__criterion': 'gini', 'algo_tree__max_depth': 8, 'algo_tree__min_samples_leaf': 2, 'algo_tree__min_samples_split': 1}\n",
      "0.852827 (0.006693) with: {'algo_tree__criterion': 'gini', 'algo_tree__max_depth': 8, 'algo_tree__min_samples_leaf': 2, 'algo_tree__min_samples_split': 2}\n",
      "0.852827 (0.006662) with: {'algo_tree__criterion': 'gini', 'algo_tree__max_depth': 8, 'algo_tree__min_samples_leaf': 2, 'algo_tree__min_samples_split': 3}\n",
      "0.852858 (0.006669) with: {'algo_tree__criterion': 'gini', 'algo_tree__max_depth': 8, 'algo_tree__min_samples_leaf': 2, 'algo_tree__min_samples_split': 4}\n",
      "0.852840 (0.006668) with: {'algo_tree__criterion': 'gini', 'algo_tree__max_depth': 8, 'algo_tree__min_samples_leaf': 2, 'algo_tree__min_samples_split': 5}\n",
      "0.852753 (0.006646) with: {'algo_tree__criterion': 'gini', 'algo_tree__max_depth': 8, 'algo_tree__min_samples_leaf': 2, 'algo_tree__min_samples_split': 6}\n",
      "0.852834 (0.006665) with: {'algo_tree__criterion': 'gini', 'algo_tree__max_depth': 8, 'algo_tree__min_samples_leaf': 2, 'algo_tree__min_samples_split': 7}\n",
      "0.852852 (0.006633) with: {'algo_tree__criterion': 'gini', 'algo_tree__max_depth': 8, 'algo_tree__min_samples_leaf': 2, 'algo_tree__min_samples_split': 8}\n",
      "0.852821 (0.006613) with: {'algo_tree__criterion': 'gini', 'algo_tree__max_depth': 8, 'algo_tree__min_samples_leaf': 2, 'algo_tree__min_samples_split': 9}\n",
      "nan (nan) with: {'algo_tree__criterion': 'gini', 'algo_tree__max_depth': 8, 'algo_tree__min_samples_leaf': 3, 'algo_tree__min_samples_split': 1}\n",
      "0.852865 (0.006769) with: {'algo_tree__criterion': 'gini', 'algo_tree__max_depth': 8, 'algo_tree__min_samples_leaf': 3, 'algo_tree__min_samples_split': 2}\n",
      "0.852852 (0.006769) with: {'algo_tree__criterion': 'gini', 'algo_tree__max_depth': 8, 'algo_tree__min_samples_leaf': 3, 'algo_tree__min_samples_split': 3}\n",
      "0.852852 (0.006768) with: {'algo_tree__criterion': 'gini', 'algo_tree__max_depth': 8, 'algo_tree__min_samples_leaf': 3, 'algo_tree__min_samples_split': 4}\n",
      "0.852902 (0.006803) with: {'algo_tree__criterion': 'gini', 'algo_tree__max_depth': 8, 'algo_tree__min_samples_leaf': 3, 'algo_tree__min_samples_split': 5}\n",
      "0.852821 (0.006795) with: {'algo_tree__criterion': 'gini', 'algo_tree__max_depth': 8, 'algo_tree__min_samples_leaf': 3, 'algo_tree__min_samples_split': 6}\n",
      "0.852902 (0.006755) with: {'algo_tree__criterion': 'gini', 'algo_tree__max_depth': 8, 'algo_tree__min_samples_leaf': 3, 'algo_tree__min_samples_split': 7}\n",
      "0.852834 (0.006794) with: {'algo_tree__criterion': 'gini', 'algo_tree__max_depth': 8, 'algo_tree__min_samples_leaf': 3, 'algo_tree__min_samples_split': 8}\n",
      "0.852840 (0.006787) with: {'algo_tree__criterion': 'gini', 'algo_tree__max_depth': 8, 'algo_tree__min_samples_leaf': 3, 'algo_tree__min_samples_split': 9}\n",
      "nan (nan) with: {'algo_tree__criterion': 'gini', 'algo_tree__max_depth': 8, 'algo_tree__min_samples_leaf': 4, 'algo_tree__min_samples_split': 1}\n",
      "0.852554 (0.006815) with: {'algo_tree__criterion': 'gini', 'algo_tree__max_depth': 8, 'algo_tree__min_samples_leaf': 4, 'algo_tree__min_samples_split': 2}\n",
      "0.852567 (0.006783) with: {'algo_tree__criterion': 'gini', 'algo_tree__max_depth': 8, 'algo_tree__min_samples_leaf': 4, 'algo_tree__min_samples_split': 3}\n",
      "0.852604 (0.006786) with: {'algo_tree__criterion': 'gini', 'algo_tree__max_depth': 8, 'algo_tree__min_samples_leaf': 4, 'algo_tree__min_samples_split': 4}\n",
      "0.852579 (0.006825) with: {'algo_tree__criterion': 'gini', 'algo_tree__max_depth': 8, 'algo_tree__min_samples_leaf': 4, 'algo_tree__min_samples_split': 5}\n",
      "0.852573 (0.006837) with: {'algo_tree__criterion': 'gini', 'algo_tree__max_depth': 8, 'algo_tree__min_samples_leaf': 4, 'algo_tree__min_samples_split': 6}\n",
      "0.852616 (0.006848) with: {'algo_tree__criterion': 'gini', 'algo_tree__max_depth': 8, 'algo_tree__min_samples_leaf': 4, 'algo_tree__min_samples_split': 7}\n",
      "0.852523 (0.006762) with: {'algo_tree__criterion': 'gini', 'algo_tree__max_depth': 8, 'algo_tree__min_samples_leaf': 4, 'algo_tree__min_samples_split': 8}\n",
      "0.852598 (0.006812) with: {'algo_tree__criterion': 'gini', 'algo_tree__max_depth': 8, 'algo_tree__min_samples_leaf': 4, 'algo_tree__min_samples_split': 9}\n",
      "nan (nan) with: {'algo_tree__criterion': 'gini', 'algo_tree__max_depth': 9, 'algo_tree__min_samples_leaf': 1, 'algo_tree__min_samples_split': 1}\n",
      "0.855270 (0.006838) with: {'algo_tree__criterion': 'gini', 'algo_tree__max_depth': 9, 'algo_tree__min_samples_leaf': 1, 'algo_tree__min_samples_split': 2}\n",
      "0.855308 (0.006787) with: {'algo_tree__criterion': 'gini', 'algo_tree__max_depth': 9, 'algo_tree__min_samples_leaf': 1, 'algo_tree__min_samples_split': 3}\n",
      "0.855215 (0.006703) with: {'algo_tree__criterion': 'gini', 'algo_tree__max_depth': 9, 'algo_tree__min_samples_leaf': 1, 'algo_tree__min_samples_split': 4}\n",
      "0.855196 (0.006693) with: {'algo_tree__criterion': 'gini', 'algo_tree__max_depth': 9, 'algo_tree__min_samples_leaf': 1, 'algo_tree__min_samples_split': 5}\n",
      "0.855283 (0.006804) with: {'algo_tree__criterion': 'gini', 'algo_tree__max_depth': 9, 'algo_tree__min_samples_leaf': 1, 'algo_tree__min_samples_split': 6}\n",
      "0.855283 (0.006813) with: {'algo_tree__criterion': 'gini', 'algo_tree__max_depth': 9, 'algo_tree__min_samples_leaf': 1, 'algo_tree__min_samples_split': 7}\n",
      "0.855221 (0.006786) with: {'algo_tree__criterion': 'gini', 'algo_tree__max_depth': 9, 'algo_tree__min_samples_leaf': 1, 'algo_tree__min_samples_split': 8}\n",
      "0.855233 (0.006784) with: {'algo_tree__criterion': 'gini', 'algo_tree__max_depth': 9, 'algo_tree__min_samples_leaf': 1, 'algo_tree__min_samples_split': 9}\n",
      "nan (nan) with: {'algo_tree__criterion': 'gini', 'algo_tree__max_depth': 9, 'algo_tree__min_samples_leaf': 2, 'algo_tree__min_samples_split': 1}\n",
      "0.855066 (0.006726) with: {'algo_tree__criterion': 'gini', 'algo_tree__max_depth': 9, 'algo_tree__min_samples_leaf': 2, 'algo_tree__min_samples_split': 2}\n",
      "0.855140 (0.006824) with: {'algo_tree__criterion': 'gini', 'algo_tree__max_depth': 9, 'algo_tree__min_samples_leaf': 2, 'algo_tree__min_samples_split': 3}\n",
      "0.855128 (0.006808) with: {'algo_tree__criterion': 'gini', 'algo_tree__max_depth': 9, 'algo_tree__min_samples_leaf': 2, 'algo_tree__min_samples_split': 4}\n",
      "0.855134 (0.006796) with: {'algo_tree__criterion': 'gini', 'algo_tree__max_depth': 9, 'algo_tree__min_samples_leaf': 2, 'algo_tree__min_samples_split': 5}\n",
      "0.855165 (0.006788) with: {'algo_tree__criterion': 'gini', 'algo_tree__max_depth': 9, 'algo_tree__min_samples_leaf': 2, 'algo_tree__min_samples_split': 6}\n",
      "0.855153 (0.006701) with: {'algo_tree__criterion': 'gini', 'algo_tree__max_depth': 9, 'algo_tree__min_samples_leaf': 2, 'algo_tree__min_samples_split': 7}\n",
      "0.855128 (0.006743) with: {'algo_tree__criterion': 'gini', 'algo_tree__max_depth': 9, 'algo_tree__min_samples_leaf': 2, 'algo_tree__min_samples_split': 8}\n",
      "0.855053 (0.006734) with: {'algo_tree__criterion': 'gini', 'algo_tree__max_depth': 9, 'algo_tree__min_samples_leaf': 2, 'algo_tree__min_samples_split': 9}\n",
      "nan (nan) with: {'algo_tree__criterion': 'gini', 'algo_tree__max_depth': 9, 'algo_tree__min_samples_leaf': 3, 'algo_tree__min_samples_split': 1}\n",
      "0.855128 (0.006956) with: {'algo_tree__criterion': 'gini', 'algo_tree__max_depth': 9, 'algo_tree__min_samples_leaf': 3, 'algo_tree__min_samples_split': 2}\n",
      "0.855153 (0.006846) with: {'algo_tree__criterion': 'gini', 'algo_tree__max_depth': 9, 'algo_tree__min_samples_leaf': 3, 'algo_tree__min_samples_split': 3}\n",
      "0.855041 (0.006906) with: {'algo_tree__criterion': 'gini', 'algo_tree__max_depth': 9, 'algo_tree__min_samples_leaf': 3, 'algo_tree__min_samples_split': 4}\n",
      "0.855047 (0.006892) with: {'algo_tree__criterion': 'gini', 'algo_tree__max_depth': 9, 'algo_tree__min_samples_leaf': 3, 'algo_tree__min_samples_split': 5}\n",
      "0.855109 (0.006936) with: {'algo_tree__criterion': 'gini', 'algo_tree__max_depth': 9, 'algo_tree__min_samples_leaf': 3, 'algo_tree__min_samples_split': 6}\n",
      "0.855047 (0.006861) with: {'algo_tree__criterion': 'gini', 'algo_tree__max_depth': 9, 'algo_tree__min_samples_leaf': 3, 'algo_tree__min_samples_split': 7}\n",
      "0.855134 (0.006897) with: {'algo_tree__criterion': 'gini', 'algo_tree__max_depth': 9, 'algo_tree__min_samples_leaf': 3, 'algo_tree__min_samples_split': 8}\n",
      "0.855041 (0.006930) with: {'algo_tree__criterion': 'gini', 'algo_tree__max_depth': 9, 'algo_tree__min_samples_leaf': 3, 'algo_tree__min_samples_split': 9}\n",
      "nan (nan) with: {'algo_tree__criterion': 'gini', 'algo_tree__max_depth': 9, 'algo_tree__min_samples_leaf': 4, 'algo_tree__min_samples_split': 1}\n",
      "0.854880 (0.007019) with: {'algo_tree__criterion': 'gini', 'algo_tree__max_depth': 9, 'algo_tree__min_samples_leaf': 4, 'algo_tree__min_samples_split': 2}\n",
      "0.854929 (0.006924) with: {'algo_tree__criterion': 'gini', 'algo_tree__max_depth': 9, 'algo_tree__min_samples_leaf': 4, 'algo_tree__min_samples_split': 3}\n",
      "0.854892 (0.007032) with: {'algo_tree__criterion': 'gini', 'algo_tree__max_depth': 9, 'algo_tree__min_samples_leaf': 4, 'algo_tree__min_samples_split': 4}\n",
      "0.854867 (0.006985) with: {'algo_tree__criterion': 'gini', 'algo_tree__max_depth': 9, 'algo_tree__min_samples_leaf': 4, 'algo_tree__min_samples_split': 5}\n",
      "0.854874 (0.006963) with: {'algo_tree__criterion': 'gini', 'algo_tree__max_depth': 9, 'algo_tree__min_samples_leaf': 4, 'algo_tree__min_samples_split': 6}\n",
      "0.854898 (0.007020) with: {'algo_tree__criterion': 'gini', 'algo_tree__max_depth': 9, 'algo_tree__min_samples_leaf': 4, 'algo_tree__min_samples_split': 7}\n",
      "0.854898 (0.007036) with: {'algo_tree__criterion': 'gini', 'algo_tree__max_depth': 9, 'algo_tree__min_samples_leaf': 4, 'algo_tree__min_samples_split': 8}\n",
      "0.854960 (0.007004) with: {'algo_tree__criterion': 'gini', 'algo_tree__max_depth': 9, 'algo_tree__min_samples_leaf': 4, 'algo_tree__min_samples_split': 9}\n",
      "nan (nan) with: {'algo_tree__criterion': 'entropy', 'algo_tree__max_depth': 1, 'algo_tree__min_samples_leaf': 1, 'algo_tree__min_samples_split': 1}\n",
      "0.655990 (0.030765) with: {'algo_tree__criterion': 'entropy', 'algo_tree__max_depth': 1, 'algo_tree__min_samples_leaf': 1, 'algo_tree__min_samples_split': 2}\n",
      "0.655990 (0.030765) with: {'algo_tree__criterion': 'entropy', 'algo_tree__max_depth': 1, 'algo_tree__min_samples_leaf': 1, 'algo_tree__min_samples_split': 3}\n",
      "0.655990 (0.030765) with: {'algo_tree__criterion': 'entropy', 'algo_tree__max_depth': 1, 'algo_tree__min_samples_leaf': 1, 'algo_tree__min_samples_split': 4}\n",
      "0.655990 (0.030765) with: {'algo_tree__criterion': 'entropy', 'algo_tree__max_depth': 1, 'algo_tree__min_samples_leaf': 1, 'algo_tree__min_samples_split': 5}\n",
      "0.655990 (0.030765) with: {'algo_tree__criterion': 'entropy', 'algo_tree__max_depth': 1, 'algo_tree__min_samples_leaf': 1, 'algo_tree__min_samples_split': 6}\n",
      "0.655990 (0.030765) with: {'algo_tree__criterion': 'entropy', 'algo_tree__max_depth': 1, 'algo_tree__min_samples_leaf': 1, 'algo_tree__min_samples_split': 7}\n",
      "0.655990 (0.030765) with: {'algo_tree__criterion': 'entropy', 'algo_tree__max_depth': 1, 'algo_tree__min_samples_leaf': 1, 'algo_tree__min_samples_split': 8}\n",
      "0.655990 (0.030765) with: {'algo_tree__criterion': 'entropy', 'algo_tree__max_depth': 1, 'algo_tree__min_samples_leaf': 1, 'algo_tree__min_samples_split': 9}\n",
      "nan (nan) with: {'algo_tree__criterion': 'entropy', 'algo_tree__max_depth': 1, 'algo_tree__min_samples_leaf': 2, 'algo_tree__min_samples_split': 1}\n",
      "0.655990 (0.030765) with: {'algo_tree__criterion': 'entropy', 'algo_tree__max_depth': 1, 'algo_tree__min_samples_leaf': 2, 'algo_tree__min_samples_split': 2}\n",
      "0.655990 (0.030765) with: {'algo_tree__criterion': 'entropy', 'algo_tree__max_depth': 1, 'algo_tree__min_samples_leaf': 2, 'algo_tree__min_samples_split': 3}\n",
      "0.655990 (0.030765) with: {'algo_tree__criterion': 'entropy', 'algo_tree__max_depth': 1, 'algo_tree__min_samples_leaf': 2, 'algo_tree__min_samples_split': 4}\n",
      "0.655990 (0.030765) with: {'algo_tree__criterion': 'entropy', 'algo_tree__max_depth': 1, 'algo_tree__min_samples_leaf': 2, 'algo_tree__min_samples_split': 5}\n",
      "0.655990 (0.030765) with: {'algo_tree__criterion': 'entropy', 'algo_tree__max_depth': 1, 'algo_tree__min_samples_leaf': 2, 'algo_tree__min_samples_split': 6}\n",
      "0.655990 (0.030765) with: {'algo_tree__criterion': 'entropy', 'algo_tree__max_depth': 1, 'algo_tree__min_samples_leaf': 2, 'algo_tree__min_samples_split': 7}\n",
      "0.655990 (0.030765) with: {'algo_tree__criterion': 'entropy', 'algo_tree__max_depth': 1, 'algo_tree__min_samples_leaf': 2, 'algo_tree__min_samples_split': 8}\n",
      "0.655990 (0.030765) with: {'algo_tree__criterion': 'entropy', 'algo_tree__max_depth': 1, 'algo_tree__min_samples_leaf': 2, 'algo_tree__min_samples_split': 9}\n",
      "nan (nan) with: {'algo_tree__criterion': 'entropy', 'algo_tree__max_depth': 1, 'algo_tree__min_samples_leaf': 3, 'algo_tree__min_samples_split': 1}\n",
      "0.655990 (0.030765) with: {'algo_tree__criterion': 'entropy', 'algo_tree__max_depth': 1, 'algo_tree__min_samples_leaf': 3, 'algo_tree__min_samples_split': 2}\n",
      "0.655990 (0.030765) with: {'algo_tree__criterion': 'entropy', 'algo_tree__max_depth': 1, 'algo_tree__min_samples_leaf': 3, 'algo_tree__min_samples_split': 3}\n",
      "0.655990 (0.030765) with: {'algo_tree__criterion': 'entropy', 'algo_tree__max_depth': 1, 'algo_tree__min_samples_leaf': 3, 'algo_tree__min_samples_split': 4}\n",
      "0.655990 (0.030765) with: {'algo_tree__criterion': 'entropy', 'algo_tree__max_depth': 1, 'algo_tree__min_samples_leaf': 3, 'algo_tree__min_samples_split': 5}\n",
      "0.655990 (0.030765) with: {'algo_tree__criterion': 'entropy', 'algo_tree__max_depth': 1, 'algo_tree__min_samples_leaf': 3, 'algo_tree__min_samples_split': 6}\n",
      "0.655990 (0.030765) with: {'algo_tree__criterion': 'entropy', 'algo_tree__max_depth': 1, 'algo_tree__min_samples_leaf': 3, 'algo_tree__min_samples_split': 7}\n",
      "0.655990 (0.030765) with: {'algo_tree__criterion': 'entropy', 'algo_tree__max_depth': 1, 'algo_tree__min_samples_leaf': 3, 'algo_tree__min_samples_split': 8}\n",
      "0.655990 (0.030765) with: {'algo_tree__criterion': 'entropy', 'algo_tree__max_depth': 1, 'algo_tree__min_samples_leaf': 3, 'algo_tree__min_samples_split': 9}\n",
      "nan (nan) with: {'algo_tree__criterion': 'entropy', 'algo_tree__max_depth': 1, 'algo_tree__min_samples_leaf': 4, 'algo_tree__min_samples_split': 1}\n",
      "0.655990 (0.030765) with: {'algo_tree__criterion': 'entropy', 'algo_tree__max_depth': 1, 'algo_tree__min_samples_leaf': 4, 'algo_tree__min_samples_split': 2}\n",
      "0.655990 (0.030765) with: {'algo_tree__criterion': 'entropy', 'algo_tree__max_depth': 1, 'algo_tree__min_samples_leaf': 4, 'algo_tree__min_samples_split': 3}\n",
      "0.655990 (0.030765) with: {'algo_tree__criterion': 'entropy', 'algo_tree__max_depth': 1, 'algo_tree__min_samples_leaf': 4, 'algo_tree__min_samples_split': 4}\n",
      "0.655990 (0.030765) with: {'algo_tree__criterion': 'entropy', 'algo_tree__max_depth': 1, 'algo_tree__min_samples_leaf': 4, 'algo_tree__min_samples_split': 5}\n",
      "0.655990 (0.030765) with: {'algo_tree__criterion': 'entropy', 'algo_tree__max_depth': 1, 'algo_tree__min_samples_leaf': 4, 'algo_tree__min_samples_split': 6}\n",
      "0.655990 (0.030765) with: {'algo_tree__criterion': 'entropy', 'algo_tree__max_depth': 1, 'algo_tree__min_samples_leaf': 4, 'algo_tree__min_samples_split': 7}\n",
      "0.655990 (0.030765) with: {'algo_tree__criterion': 'entropy', 'algo_tree__max_depth': 1, 'algo_tree__min_samples_leaf': 4, 'algo_tree__min_samples_split': 8}\n",
      "0.655990 (0.030765) with: {'algo_tree__criterion': 'entropy', 'algo_tree__max_depth': 1, 'algo_tree__min_samples_leaf': 4, 'algo_tree__min_samples_split': 9}\n",
      "nan (nan) with: {'algo_tree__criterion': 'entropy', 'algo_tree__max_depth': 2, 'algo_tree__min_samples_leaf': 1, 'algo_tree__min_samples_split': 1}\n",
      "0.634809 (0.028334) with: {'algo_tree__criterion': 'entropy', 'algo_tree__max_depth': 2, 'algo_tree__min_samples_leaf': 1, 'algo_tree__min_samples_split': 2}\n",
      "0.634809 (0.028334) with: {'algo_tree__criterion': 'entropy', 'algo_tree__max_depth': 2, 'algo_tree__min_samples_leaf': 1, 'algo_tree__min_samples_split': 3}\n",
      "0.634809 (0.028334) with: {'algo_tree__criterion': 'entropy', 'algo_tree__max_depth': 2, 'algo_tree__min_samples_leaf': 1, 'algo_tree__min_samples_split': 4}\n",
      "0.634809 (0.028334) with: {'algo_tree__criterion': 'entropy', 'algo_tree__max_depth': 2, 'algo_tree__min_samples_leaf': 1, 'algo_tree__min_samples_split': 5}\n",
      "0.634809 (0.028334) with: {'algo_tree__criterion': 'entropy', 'algo_tree__max_depth': 2, 'algo_tree__min_samples_leaf': 1, 'algo_tree__min_samples_split': 6}\n",
      "0.634809 (0.028334) with: {'algo_tree__criterion': 'entropy', 'algo_tree__max_depth': 2, 'algo_tree__min_samples_leaf': 1, 'algo_tree__min_samples_split': 7}\n",
      "0.634809 (0.028334) with: {'algo_tree__criterion': 'entropy', 'algo_tree__max_depth': 2, 'algo_tree__min_samples_leaf': 1, 'algo_tree__min_samples_split': 8}\n",
      "0.634809 (0.028334) with: {'algo_tree__criterion': 'entropy', 'algo_tree__max_depth': 2, 'algo_tree__min_samples_leaf': 1, 'algo_tree__min_samples_split': 9}\n",
      "nan (nan) with: {'algo_tree__criterion': 'entropy', 'algo_tree__max_depth': 2, 'algo_tree__min_samples_leaf': 2, 'algo_tree__min_samples_split': 1}\n",
      "0.634809 (0.028334) with: {'algo_tree__criterion': 'entropy', 'algo_tree__max_depth': 2, 'algo_tree__min_samples_leaf': 2, 'algo_tree__min_samples_split': 2}\n",
      "0.634809 (0.028334) with: {'algo_tree__criterion': 'entropy', 'algo_tree__max_depth': 2, 'algo_tree__min_samples_leaf': 2, 'algo_tree__min_samples_split': 3}\n",
      "0.634809 (0.028334) with: {'algo_tree__criterion': 'entropy', 'algo_tree__max_depth': 2, 'algo_tree__min_samples_leaf': 2, 'algo_tree__min_samples_split': 4}\n",
      "0.634809 (0.028334) with: {'algo_tree__criterion': 'entropy', 'algo_tree__max_depth': 2, 'algo_tree__min_samples_leaf': 2, 'algo_tree__min_samples_split': 5}\n",
      "0.634809 (0.028334) with: {'algo_tree__criterion': 'entropy', 'algo_tree__max_depth': 2, 'algo_tree__min_samples_leaf': 2, 'algo_tree__min_samples_split': 6}\n",
      "0.634809 (0.028334) with: {'algo_tree__criterion': 'entropy', 'algo_tree__max_depth': 2, 'algo_tree__min_samples_leaf': 2, 'algo_tree__min_samples_split': 7}\n",
      "0.634809 (0.028334) with: {'algo_tree__criterion': 'entropy', 'algo_tree__max_depth': 2, 'algo_tree__min_samples_leaf': 2, 'algo_tree__min_samples_split': 8}\n",
      "0.634809 (0.028334) with: {'algo_tree__criterion': 'entropy', 'algo_tree__max_depth': 2, 'algo_tree__min_samples_leaf': 2, 'algo_tree__min_samples_split': 9}\n",
      "nan (nan) with: {'algo_tree__criterion': 'entropy', 'algo_tree__max_depth': 2, 'algo_tree__min_samples_leaf': 3, 'algo_tree__min_samples_split': 1}\n",
      "0.634809 (0.028334) with: {'algo_tree__criterion': 'entropy', 'algo_tree__max_depth': 2, 'algo_tree__min_samples_leaf': 3, 'algo_tree__min_samples_split': 2}\n",
      "0.634809 (0.028334) with: {'algo_tree__criterion': 'entropy', 'algo_tree__max_depth': 2, 'algo_tree__min_samples_leaf': 3, 'algo_tree__min_samples_split': 3}\n",
      "0.634809 (0.028334) with: {'algo_tree__criterion': 'entropy', 'algo_tree__max_depth': 2, 'algo_tree__min_samples_leaf': 3, 'algo_tree__min_samples_split': 4}\n",
      "0.634809 (0.028334) with: {'algo_tree__criterion': 'entropy', 'algo_tree__max_depth': 2, 'algo_tree__min_samples_leaf': 3, 'algo_tree__min_samples_split': 5}\n",
      "0.634809 (0.028334) with: {'algo_tree__criterion': 'entropy', 'algo_tree__max_depth': 2, 'algo_tree__min_samples_leaf': 3, 'algo_tree__min_samples_split': 6}\n",
      "0.634809 (0.028334) with: {'algo_tree__criterion': 'entropy', 'algo_tree__max_depth': 2, 'algo_tree__min_samples_leaf': 3, 'algo_tree__min_samples_split': 7}\n",
      "0.634809 (0.028334) with: {'algo_tree__criterion': 'entropy', 'algo_tree__max_depth': 2, 'algo_tree__min_samples_leaf': 3, 'algo_tree__min_samples_split': 8}\n",
      "0.634809 (0.028334) with: {'algo_tree__criterion': 'entropy', 'algo_tree__max_depth': 2, 'algo_tree__min_samples_leaf': 3, 'algo_tree__min_samples_split': 9}\n",
      "nan (nan) with: {'algo_tree__criterion': 'entropy', 'algo_tree__max_depth': 2, 'algo_tree__min_samples_leaf': 4, 'algo_tree__min_samples_split': 1}\n",
      "0.634809 (0.028334) with: {'algo_tree__criterion': 'entropy', 'algo_tree__max_depth': 2, 'algo_tree__min_samples_leaf': 4, 'algo_tree__min_samples_split': 2}\n",
      "0.634809 (0.028334) with: {'algo_tree__criterion': 'entropy', 'algo_tree__max_depth': 2, 'algo_tree__min_samples_leaf': 4, 'algo_tree__min_samples_split': 3}\n",
      "0.634809 (0.028334) with: {'algo_tree__criterion': 'entropy', 'algo_tree__max_depth': 2, 'algo_tree__min_samples_leaf': 4, 'algo_tree__min_samples_split': 4}\n",
      "0.634809 (0.028334) with: {'algo_tree__criterion': 'entropy', 'algo_tree__max_depth': 2, 'algo_tree__min_samples_leaf': 4, 'algo_tree__min_samples_split': 5}\n",
      "0.634809 (0.028334) with: {'algo_tree__criterion': 'entropy', 'algo_tree__max_depth': 2, 'algo_tree__min_samples_leaf': 4, 'algo_tree__min_samples_split': 6}\n",
      "0.634809 (0.028334) with: {'algo_tree__criterion': 'entropy', 'algo_tree__max_depth': 2, 'algo_tree__min_samples_leaf': 4, 'algo_tree__min_samples_split': 7}\n",
      "0.634809 (0.028334) with: {'algo_tree__criterion': 'entropy', 'algo_tree__max_depth': 2, 'algo_tree__min_samples_leaf': 4, 'algo_tree__min_samples_split': 8}\n",
      "0.634809 (0.028334) with: {'algo_tree__criterion': 'entropy', 'algo_tree__max_depth': 2, 'algo_tree__min_samples_leaf': 4, 'algo_tree__min_samples_split': 9}\n",
      "nan (nan) with: {'algo_tree__criterion': 'entropy', 'algo_tree__max_depth': 3, 'algo_tree__min_samples_leaf': 1, 'algo_tree__min_samples_split': 1}\n",
      "0.855314 (0.013217) with: {'algo_tree__criterion': 'entropy', 'algo_tree__max_depth': 3, 'algo_tree__min_samples_leaf': 1, 'algo_tree__min_samples_split': 2}\n",
      "0.855314 (0.013217) with: {'algo_tree__criterion': 'entropy', 'algo_tree__max_depth': 3, 'algo_tree__min_samples_leaf': 1, 'algo_tree__min_samples_split': 3}\n",
      "0.855314 (0.013217) with: {'algo_tree__criterion': 'entropy', 'algo_tree__max_depth': 3, 'algo_tree__min_samples_leaf': 1, 'algo_tree__min_samples_split': 4}\n",
      "0.855314 (0.013217) with: {'algo_tree__criterion': 'entropy', 'algo_tree__max_depth': 3, 'algo_tree__min_samples_leaf': 1, 'algo_tree__min_samples_split': 5}\n",
      "0.855314 (0.013217) with: {'algo_tree__criterion': 'entropy', 'algo_tree__max_depth': 3, 'algo_tree__min_samples_leaf': 1, 'algo_tree__min_samples_split': 6}\n",
      "0.855314 (0.013217) with: {'algo_tree__criterion': 'entropy', 'algo_tree__max_depth': 3, 'algo_tree__min_samples_leaf': 1, 'algo_tree__min_samples_split': 7}\n",
      "0.855314 (0.013217) with: {'algo_tree__criterion': 'entropy', 'algo_tree__max_depth': 3, 'algo_tree__min_samples_leaf': 1, 'algo_tree__min_samples_split': 8}\n",
      "0.855314 (0.013217) with: {'algo_tree__criterion': 'entropy', 'algo_tree__max_depth': 3, 'algo_tree__min_samples_leaf': 1, 'algo_tree__min_samples_split': 9}\n",
      "nan (nan) with: {'algo_tree__criterion': 'entropy', 'algo_tree__max_depth': 3, 'algo_tree__min_samples_leaf': 2, 'algo_tree__min_samples_split': 1}\n",
      "0.855314 (0.013217) with: {'algo_tree__criterion': 'entropy', 'algo_tree__max_depth': 3, 'algo_tree__min_samples_leaf': 2, 'algo_tree__min_samples_split': 2}\n",
      "0.855314 (0.013217) with: {'algo_tree__criterion': 'entropy', 'algo_tree__max_depth': 3, 'algo_tree__min_samples_leaf': 2, 'algo_tree__min_samples_split': 3}\n",
      "0.855314 (0.013217) with: {'algo_tree__criterion': 'entropy', 'algo_tree__max_depth': 3, 'algo_tree__min_samples_leaf': 2, 'algo_tree__min_samples_split': 4}\n",
      "0.855314 (0.013217) with: {'algo_tree__criterion': 'entropy', 'algo_tree__max_depth': 3, 'algo_tree__min_samples_leaf': 2, 'algo_tree__min_samples_split': 5}\n",
      "0.855314 (0.013217) with: {'algo_tree__criterion': 'entropy', 'algo_tree__max_depth': 3, 'algo_tree__min_samples_leaf': 2, 'algo_tree__min_samples_split': 6}\n",
      "0.855314 (0.013217) with: {'algo_tree__criterion': 'entropy', 'algo_tree__max_depth': 3, 'algo_tree__min_samples_leaf': 2, 'algo_tree__min_samples_split': 7}\n",
      "0.855314 (0.013217) with: {'algo_tree__criterion': 'entropy', 'algo_tree__max_depth': 3, 'algo_tree__min_samples_leaf': 2, 'algo_tree__min_samples_split': 8}\n",
      "0.855314 (0.013217) with: {'algo_tree__criterion': 'entropy', 'algo_tree__max_depth': 3, 'algo_tree__min_samples_leaf': 2, 'algo_tree__min_samples_split': 9}\n",
      "nan (nan) with: {'algo_tree__criterion': 'entropy', 'algo_tree__max_depth': 3, 'algo_tree__min_samples_leaf': 3, 'algo_tree__min_samples_split': 1}\n",
      "0.855314 (0.013217) with: {'algo_tree__criterion': 'entropy', 'algo_tree__max_depth': 3, 'algo_tree__min_samples_leaf': 3, 'algo_tree__min_samples_split': 2}\n",
      "0.855314 (0.013217) with: {'algo_tree__criterion': 'entropy', 'algo_tree__max_depth': 3, 'algo_tree__min_samples_leaf': 3, 'algo_tree__min_samples_split': 3}\n",
      "0.855314 (0.013217) with: {'algo_tree__criterion': 'entropy', 'algo_tree__max_depth': 3, 'algo_tree__min_samples_leaf': 3, 'algo_tree__min_samples_split': 4}\n",
      "0.855314 (0.013217) with: {'algo_tree__criterion': 'entropy', 'algo_tree__max_depth': 3, 'algo_tree__min_samples_leaf': 3, 'algo_tree__min_samples_split': 5}\n",
      "0.855314 (0.013217) with: {'algo_tree__criterion': 'entropy', 'algo_tree__max_depth': 3, 'algo_tree__min_samples_leaf': 3, 'algo_tree__min_samples_split': 6}\n",
      "0.855314 (0.013217) with: {'algo_tree__criterion': 'entropy', 'algo_tree__max_depth': 3, 'algo_tree__min_samples_leaf': 3, 'algo_tree__min_samples_split': 7}\n",
      "0.855314 (0.013217) with: {'algo_tree__criterion': 'entropy', 'algo_tree__max_depth': 3, 'algo_tree__min_samples_leaf': 3, 'algo_tree__min_samples_split': 8}\n",
      "0.855314 (0.013217) with: {'algo_tree__criterion': 'entropy', 'algo_tree__max_depth': 3, 'algo_tree__min_samples_leaf': 3, 'algo_tree__min_samples_split': 9}\n",
      "nan (nan) with: {'algo_tree__criterion': 'entropy', 'algo_tree__max_depth': 3, 'algo_tree__min_samples_leaf': 4, 'algo_tree__min_samples_split': 1}\n",
      "0.855314 (0.013217) with: {'algo_tree__criterion': 'entropy', 'algo_tree__max_depth': 3, 'algo_tree__min_samples_leaf': 4, 'algo_tree__min_samples_split': 2}\n",
      "0.855314 (0.013217) with: {'algo_tree__criterion': 'entropy', 'algo_tree__max_depth': 3, 'algo_tree__min_samples_leaf': 4, 'algo_tree__min_samples_split': 3}\n",
      "0.855314 (0.013217) with: {'algo_tree__criterion': 'entropy', 'algo_tree__max_depth': 3, 'algo_tree__min_samples_leaf': 4, 'algo_tree__min_samples_split': 4}\n",
      "0.855314 (0.013217) with: {'algo_tree__criterion': 'entropy', 'algo_tree__max_depth': 3, 'algo_tree__min_samples_leaf': 4, 'algo_tree__min_samples_split': 5}\n",
      "0.855314 (0.013217) with: {'algo_tree__criterion': 'entropy', 'algo_tree__max_depth': 3, 'algo_tree__min_samples_leaf': 4, 'algo_tree__min_samples_split': 6}\n",
      "0.855314 (0.013217) with: {'algo_tree__criterion': 'entropy', 'algo_tree__max_depth': 3, 'algo_tree__min_samples_leaf': 4, 'algo_tree__min_samples_split': 7}\n",
      "0.855314 (0.013217) with: {'algo_tree__criterion': 'entropy', 'algo_tree__max_depth': 3, 'algo_tree__min_samples_leaf': 4, 'algo_tree__min_samples_split': 8}\n",
      "0.855314 (0.013217) with: {'algo_tree__criterion': 'entropy', 'algo_tree__max_depth': 3, 'algo_tree__min_samples_leaf': 4, 'algo_tree__min_samples_split': 9}\n",
      "nan (nan) with: {'algo_tree__criterion': 'entropy', 'algo_tree__max_depth': 4, 'algo_tree__min_samples_leaf': 1, 'algo_tree__min_samples_split': 1}\n",
      "0.796732 (0.024228) with: {'algo_tree__criterion': 'entropy', 'algo_tree__max_depth': 4, 'algo_tree__min_samples_leaf': 1, 'algo_tree__min_samples_split': 2}\n",
      "0.796738 (0.024246) with: {'algo_tree__criterion': 'entropy', 'algo_tree__max_depth': 4, 'algo_tree__min_samples_leaf': 1, 'algo_tree__min_samples_split': 3}\n",
      "0.796732 (0.024228) with: {'algo_tree__criterion': 'entropy', 'algo_tree__max_depth': 4, 'algo_tree__min_samples_leaf': 1, 'algo_tree__min_samples_split': 4}\n",
      "0.796719 (0.024237) with: {'algo_tree__criterion': 'entropy', 'algo_tree__max_depth': 4, 'algo_tree__min_samples_leaf': 1, 'algo_tree__min_samples_split': 5}\n",
      "0.796726 (0.024255) with: {'algo_tree__criterion': 'entropy', 'algo_tree__max_depth': 4, 'algo_tree__min_samples_leaf': 1, 'algo_tree__min_samples_split': 6}\n",
      "0.796732 (0.024228) with: {'algo_tree__criterion': 'entropy', 'algo_tree__max_depth': 4, 'algo_tree__min_samples_leaf': 1, 'algo_tree__min_samples_split': 7}\n",
      "0.796719 (0.024237) with: {'algo_tree__criterion': 'entropy', 'algo_tree__max_depth': 4, 'algo_tree__min_samples_leaf': 1, 'algo_tree__min_samples_split': 8}\n",
      "0.796719 (0.024237) with: {'algo_tree__criterion': 'entropy', 'algo_tree__max_depth': 4, 'algo_tree__min_samples_leaf': 1, 'algo_tree__min_samples_split': 9}\n",
      "nan (nan) with: {'algo_tree__criterion': 'entropy', 'algo_tree__max_depth': 4, 'algo_tree__min_samples_leaf': 2, 'algo_tree__min_samples_split': 1}\n",
      "0.796738 (0.024246) with: {'algo_tree__criterion': 'entropy', 'algo_tree__max_depth': 4, 'algo_tree__min_samples_leaf': 2, 'algo_tree__min_samples_split': 2}\n",
      "0.796738 (0.024246) with: {'algo_tree__criterion': 'entropy', 'algo_tree__max_depth': 4, 'algo_tree__min_samples_leaf': 2, 'algo_tree__min_samples_split': 3}\n",
      "0.796726 (0.024255) with: {'algo_tree__criterion': 'entropy', 'algo_tree__max_depth': 4, 'algo_tree__min_samples_leaf': 2, 'algo_tree__min_samples_split': 4}\n",
      "0.796738 (0.024246) with: {'algo_tree__criterion': 'entropy', 'algo_tree__max_depth': 4, 'algo_tree__min_samples_leaf': 2, 'algo_tree__min_samples_split': 5}\n",
      "0.796738 (0.024246) with: {'algo_tree__criterion': 'entropy', 'algo_tree__max_depth': 4, 'algo_tree__min_samples_leaf': 2, 'algo_tree__min_samples_split': 6}\n",
      "0.796726 (0.024255) with: {'algo_tree__criterion': 'entropy', 'algo_tree__max_depth': 4, 'algo_tree__min_samples_leaf': 2, 'algo_tree__min_samples_split': 7}\n",
      "0.796738 (0.024246) with: {'algo_tree__criterion': 'entropy', 'algo_tree__max_depth': 4, 'algo_tree__min_samples_leaf': 2, 'algo_tree__min_samples_split': 8}\n",
      "0.796738 (0.024246) with: {'algo_tree__criterion': 'entropy', 'algo_tree__max_depth': 4, 'algo_tree__min_samples_leaf': 2, 'algo_tree__min_samples_split': 9}\n",
      "nan (nan) with: {'algo_tree__criterion': 'entropy', 'algo_tree__max_depth': 4, 'algo_tree__min_samples_leaf': 3, 'algo_tree__min_samples_split': 1}\n",
      "0.796769 (0.024241) with: {'algo_tree__criterion': 'entropy', 'algo_tree__max_depth': 4, 'algo_tree__min_samples_leaf': 3, 'algo_tree__min_samples_split': 2}\n",
      "0.796757 (0.024250) with: {'algo_tree__criterion': 'entropy', 'algo_tree__max_depth': 4, 'algo_tree__min_samples_leaf': 3, 'algo_tree__min_samples_split': 3}\n",
      "0.796757 (0.024250) with: {'algo_tree__criterion': 'entropy', 'algo_tree__max_depth': 4, 'algo_tree__min_samples_leaf': 3, 'algo_tree__min_samples_split': 4}\n",
      "0.796769 (0.024241) with: {'algo_tree__criterion': 'entropy', 'algo_tree__max_depth': 4, 'algo_tree__min_samples_leaf': 3, 'algo_tree__min_samples_split': 5}\n",
      "0.796769 (0.024241) with: {'algo_tree__criterion': 'entropy', 'algo_tree__max_depth': 4, 'algo_tree__min_samples_leaf': 3, 'algo_tree__min_samples_split': 6}\n",
      "0.796757 (0.024250) with: {'algo_tree__criterion': 'entropy', 'algo_tree__max_depth': 4, 'algo_tree__min_samples_leaf': 3, 'algo_tree__min_samples_split': 7}\n",
      "0.796757 (0.024250) with: {'algo_tree__criterion': 'entropy', 'algo_tree__max_depth': 4, 'algo_tree__min_samples_leaf': 3, 'algo_tree__min_samples_split': 8}\n",
      "0.796769 (0.024241) with: {'algo_tree__criterion': 'entropy', 'algo_tree__max_depth': 4, 'algo_tree__min_samples_leaf': 3, 'algo_tree__min_samples_split': 9}\n",
      "nan (nan) with: {'algo_tree__criterion': 'entropy', 'algo_tree__max_depth': 4, 'algo_tree__min_samples_leaf': 4, 'algo_tree__min_samples_split': 1}\n",
      "0.796757 (0.024250) with: {'algo_tree__criterion': 'entropy', 'algo_tree__max_depth': 4, 'algo_tree__min_samples_leaf': 4, 'algo_tree__min_samples_split': 2}\n",
      "0.796757 (0.024250) with: {'algo_tree__criterion': 'entropy', 'algo_tree__max_depth': 4, 'algo_tree__min_samples_leaf': 4, 'algo_tree__min_samples_split': 3}\n",
      "0.796769 (0.024241) with: {'algo_tree__criterion': 'entropy', 'algo_tree__max_depth': 4, 'algo_tree__min_samples_leaf': 4, 'algo_tree__min_samples_split': 4}\n",
      "0.796769 (0.024241) with: {'algo_tree__criterion': 'entropy', 'algo_tree__max_depth': 4, 'algo_tree__min_samples_leaf': 4, 'algo_tree__min_samples_split': 5}\n",
      "0.796757 (0.024250) with: {'algo_tree__criterion': 'entropy', 'algo_tree__max_depth': 4, 'algo_tree__min_samples_leaf': 4, 'algo_tree__min_samples_split': 6}\n",
      "0.796769 (0.024241) with: {'algo_tree__criterion': 'entropy', 'algo_tree__max_depth': 4, 'algo_tree__min_samples_leaf': 4, 'algo_tree__min_samples_split': 7}\n",
      "0.796769 (0.024241) with: {'algo_tree__criterion': 'entropy', 'algo_tree__max_depth': 4, 'algo_tree__min_samples_leaf': 4, 'algo_tree__min_samples_split': 8}\n",
      "0.796769 (0.024241) with: {'algo_tree__criterion': 'entropy', 'algo_tree__max_depth': 4, 'algo_tree__min_samples_leaf': 4, 'algo_tree__min_samples_split': 9}\n",
      "nan (nan) with: {'algo_tree__criterion': 'entropy', 'algo_tree__max_depth': 5, 'algo_tree__min_samples_leaf': 1, 'algo_tree__min_samples_split': 1}\n",
      "0.835764 (0.005725) with: {'algo_tree__criterion': 'entropy', 'algo_tree__max_depth': 5, 'algo_tree__min_samples_leaf': 1, 'algo_tree__min_samples_split': 2}\n",
      "0.835770 (0.005706) with: {'algo_tree__criterion': 'entropy', 'algo_tree__max_depth': 5, 'algo_tree__min_samples_leaf': 1, 'algo_tree__min_samples_split': 3}\n",
      "0.835758 (0.005696) with: {'algo_tree__criterion': 'entropy', 'algo_tree__max_depth': 5, 'algo_tree__min_samples_leaf': 1, 'algo_tree__min_samples_split': 4}\n",
      "0.835770 (0.005706) with: {'algo_tree__criterion': 'entropy', 'algo_tree__max_depth': 5, 'algo_tree__min_samples_leaf': 1, 'algo_tree__min_samples_split': 5}\n",
      "0.835758 (0.005696) with: {'algo_tree__criterion': 'entropy', 'algo_tree__max_depth': 5, 'algo_tree__min_samples_leaf': 1, 'algo_tree__min_samples_split': 6}\n",
      "0.835745 (0.005710) with: {'algo_tree__criterion': 'entropy', 'algo_tree__max_depth': 5, 'algo_tree__min_samples_leaf': 1, 'algo_tree__min_samples_split': 7}\n",
      "0.835770 (0.005706) with: {'algo_tree__criterion': 'entropy', 'algo_tree__max_depth': 5, 'algo_tree__min_samples_leaf': 1, 'algo_tree__min_samples_split': 8}\n",
      "0.835770 (0.005706) with: {'algo_tree__criterion': 'entropy', 'algo_tree__max_depth': 5, 'algo_tree__min_samples_leaf': 1, 'algo_tree__min_samples_split': 9}\n",
      "nan (nan) with: {'algo_tree__criterion': 'entropy', 'algo_tree__max_depth': 5, 'algo_tree__min_samples_leaf': 2, 'algo_tree__min_samples_split': 1}\n",
      "0.835782 (0.005700) with: {'algo_tree__criterion': 'entropy', 'algo_tree__max_depth': 5, 'algo_tree__min_samples_leaf': 2, 'algo_tree__min_samples_split': 2}\n",
      "0.835782 (0.005700) with: {'algo_tree__criterion': 'entropy', 'algo_tree__max_depth': 5, 'algo_tree__min_samples_leaf': 2, 'algo_tree__min_samples_split': 3}\n",
      "0.835782 (0.005700) with: {'algo_tree__criterion': 'entropy', 'algo_tree__max_depth': 5, 'algo_tree__min_samples_leaf': 2, 'algo_tree__min_samples_split': 4}\n",
      "0.835782 (0.005700) with: {'algo_tree__criterion': 'entropy', 'algo_tree__max_depth': 5, 'algo_tree__min_samples_leaf': 2, 'algo_tree__min_samples_split': 5}\n",
      "0.835770 (0.005714) with: {'algo_tree__criterion': 'entropy', 'algo_tree__max_depth': 5, 'algo_tree__min_samples_leaf': 2, 'algo_tree__min_samples_split': 6}\n",
      "0.835776 (0.005695) with: {'algo_tree__criterion': 'entropy', 'algo_tree__max_depth': 5, 'algo_tree__min_samples_leaf': 2, 'algo_tree__min_samples_split': 7}\n",
      "0.835776 (0.005695) with: {'algo_tree__criterion': 'entropy', 'algo_tree__max_depth': 5, 'algo_tree__min_samples_leaf': 2, 'algo_tree__min_samples_split': 8}\n",
      "0.835776 (0.005695) with: {'algo_tree__criterion': 'entropy', 'algo_tree__max_depth': 5, 'algo_tree__min_samples_leaf': 2, 'algo_tree__min_samples_split': 9}\n",
      "nan (nan) with: {'algo_tree__criterion': 'entropy', 'algo_tree__max_depth': 5, 'algo_tree__min_samples_leaf': 3, 'algo_tree__min_samples_split': 1}\n",
      "0.835782 (0.005751) with: {'algo_tree__criterion': 'entropy', 'algo_tree__max_depth': 5, 'algo_tree__min_samples_leaf': 3, 'algo_tree__min_samples_split': 2}\n",
      "0.835795 (0.005737) with: {'algo_tree__criterion': 'entropy', 'algo_tree__max_depth': 5, 'algo_tree__min_samples_leaf': 3, 'algo_tree__min_samples_split': 3}\n",
      "0.835795 (0.005737) with: {'algo_tree__criterion': 'entropy', 'algo_tree__max_depth': 5, 'algo_tree__min_samples_leaf': 3, 'algo_tree__min_samples_split': 4}\n",
      "0.835782 (0.005751) with: {'algo_tree__criterion': 'entropy', 'algo_tree__max_depth': 5, 'algo_tree__min_samples_leaf': 3, 'algo_tree__min_samples_split': 5}\n",
      "0.835795 (0.005737) with: {'algo_tree__criterion': 'entropy', 'algo_tree__max_depth': 5, 'algo_tree__min_samples_leaf': 3, 'algo_tree__min_samples_split': 6}\n",
      "0.835795 (0.005737) with: {'algo_tree__criterion': 'entropy', 'algo_tree__max_depth': 5, 'algo_tree__min_samples_leaf': 3, 'algo_tree__min_samples_split': 7}\n",
      "0.835795 (0.005737) with: {'algo_tree__criterion': 'entropy', 'algo_tree__max_depth': 5, 'algo_tree__min_samples_leaf': 3, 'algo_tree__min_samples_split': 8}\n",
      "0.835795 (0.005737) with: {'algo_tree__criterion': 'entropy', 'algo_tree__max_depth': 5, 'algo_tree__min_samples_leaf': 3, 'algo_tree__min_samples_split': 9}\n",
      "nan (nan) with: {'algo_tree__criterion': 'entropy', 'algo_tree__max_depth': 5, 'algo_tree__min_samples_leaf': 4, 'algo_tree__min_samples_split': 1}\n",
      "0.835782 (0.005751) with: {'algo_tree__criterion': 'entropy', 'algo_tree__max_depth': 5, 'algo_tree__min_samples_leaf': 4, 'algo_tree__min_samples_split': 2}\n",
      "0.835782 (0.005751) with: {'algo_tree__criterion': 'entropy', 'algo_tree__max_depth': 5, 'algo_tree__min_samples_leaf': 4, 'algo_tree__min_samples_split': 3}\n",
      "0.835795 (0.005737) with: {'algo_tree__criterion': 'entropy', 'algo_tree__max_depth': 5, 'algo_tree__min_samples_leaf': 4, 'algo_tree__min_samples_split': 4}\n",
      "0.835782 (0.005751) with: {'algo_tree__criterion': 'entropy', 'algo_tree__max_depth': 5, 'algo_tree__min_samples_leaf': 4, 'algo_tree__min_samples_split': 5}\n",
      "0.835795 (0.005737) with: {'algo_tree__criterion': 'entropy', 'algo_tree__max_depth': 5, 'algo_tree__min_samples_leaf': 4, 'algo_tree__min_samples_split': 6}\n",
      "0.835782 (0.005751) with: {'algo_tree__criterion': 'entropy', 'algo_tree__max_depth': 5, 'algo_tree__min_samples_leaf': 4, 'algo_tree__min_samples_split': 7}\n",
      "0.835795 (0.005737) with: {'algo_tree__criterion': 'entropy', 'algo_tree__max_depth': 5, 'algo_tree__min_samples_leaf': 4, 'algo_tree__min_samples_split': 8}\n",
      "0.835782 (0.005751) with: {'algo_tree__criterion': 'entropy', 'algo_tree__max_depth': 5, 'algo_tree__min_samples_leaf': 4, 'algo_tree__min_samples_split': 9}\n",
      "nan (nan) with: {'algo_tree__criterion': 'entropy', 'algo_tree__max_depth': 6, 'algo_tree__min_samples_leaf': 1, 'algo_tree__min_samples_split': 1}\n",
      "0.835720 (0.012819) with: {'algo_tree__criterion': 'entropy', 'algo_tree__max_depth': 6, 'algo_tree__min_samples_leaf': 1, 'algo_tree__min_samples_split': 2}\n",
      "0.835733 (0.012818) with: {'algo_tree__criterion': 'entropy', 'algo_tree__max_depth': 6, 'algo_tree__min_samples_leaf': 1, 'algo_tree__min_samples_split': 3}\n",
      "0.835708 (0.012832) with: {'algo_tree__criterion': 'entropy', 'algo_tree__max_depth': 6, 'algo_tree__min_samples_leaf': 1, 'algo_tree__min_samples_split': 4}\n",
      "0.835727 (0.012817) with: {'algo_tree__criterion': 'entropy', 'algo_tree__max_depth': 6, 'algo_tree__min_samples_leaf': 1, 'algo_tree__min_samples_split': 5}\n",
      "0.835708 (0.012845) with: {'algo_tree__criterion': 'entropy', 'algo_tree__max_depth': 6, 'algo_tree__min_samples_leaf': 1, 'algo_tree__min_samples_split': 6}\n",
      "0.835720 (0.012817) with: {'algo_tree__criterion': 'entropy', 'algo_tree__max_depth': 6, 'algo_tree__min_samples_leaf': 1, 'algo_tree__min_samples_split': 7}\n",
      "0.835739 (0.012782) with: {'algo_tree__criterion': 'entropy', 'algo_tree__max_depth': 6, 'algo_tree__min_samples_leaf': 1, 'algo_tree__min_samples_split': 8}\n",
      "0.835702 (0.012810) with: {'algo_tree__criterion': 'entropy', 'algo_tree__max_depth': 6, 'algo_tree__min_samples_leaf': 1, 'algo_tree__min_samples_split': 9}\n",
      "nan (nan) with: {'algo_tree__criterion': 'entropy', 'algo_tree__max_depth': 6, 'algo_tree__min_samples_leaf': 2, 'algo_tree__min_samples_split': 1}\n",
      "0.835733 (0.012846) with: {'algo_tree__criterion': 'entropy', 'algo_tree__max_depth': 6, 'algo_tree__min_samples_leaf': 2, 'algo_tree__min_samples_split': 2}\n",
      "0.835720 (0.012848) with: {'algo_tree__criterion': 'entropy', 'algo_tree__max_depth': 6, 'algo_tree__min_samples_leaf': 2, 'algo_tree__min_samples_split': 3}\n",
      "0.835727 (0.012835) with: {'algo_tree__criterion': 'entropy', 'algo_tree__max_depth': 6, 'algo_tree__min_samples_leaf': 2, 'algo_tree__min_samples_split': 4}\n",
      "0.835739 (0.012844) with: {'algo_tree__criterion': 'entropy', 'algo_tree__max_depth': 6, 'algo_tree__min_samples_leaf': 2, 'algo_tree__min_samples_split': 5}\n",
      "0.835727 (0.012831) with: {'algo_tree__criterion': 'entropy', 'algo_tree__max_depth': 6, 'algo_tree__min_samples_leaf': 2, 'algo_tree__min_samples_split': 6}\n",
      "0.835714 (0.012857) with: {'algo_tree__criterion': 'entropy', 'algo_tree__max_depth': 6, 'algo_tree__min_samples_leaf': 2, 'algo_tree__min_samples_split': 7}\n",
      "0.835727 (0.012839) with: {'algo_tree__criterion': 'entropy', 'algo_tree__max_depth': 6, 'algo_tree__min_samples_leaf': 2, 'algo_tree__min_samples_split': 8}\n",
      "0.835683 (0.012862) with: {'algo_tree__criterion': 'entropy', 'algo_tree__max_depth': 6, 'algo_tree__min_samples_leaf': 2, 'algo_tree__min_samples_split': 9}\n",
      "nan (nan) with: {'algo_tree__criterion': 'entropy', 'algo_tree__max_depth': 6, 'algo_tree__min_samples_leaf': 3, 'algo_tree__min_samples_split': 1}\n",
      "0.835801 (0.012831) with: {'algo_tree__criterion': 'entropy', 'algo_tree__max_depth': 6, 'algo_tree__min_samples_leaf': 3, 'algo_tree__min_samples_split': 2}\n",
      "0.835801 (0.012831) with: {'algo_tree__criterion': 'entropy', 'algo_tree__max_depth': 6, 'algo_tree__min_samples_leaf': 3, 'algo_tree__min_samples_split': 3}\n",
      "0.835807 (0.012842) with: {'algo_tree__criterion': 'entropy', 'algo_tree__max_depth': 6, 'algo_tree__min_samples_leaf': 3, 'algo_tree__min_samples_split': 4}\n",
      "0.835813 (0.012835) with: {'algo_tree__criterion': 'entropy', 'algo_tree__max_depth': 6, 'algo_tree__min_samples_leaf': 3, 'algo_tree__min_samples_split': 5}\n",
      "0.835801 (0.012838) with: {'algo_tree__criterion': 'entropy', 'algo_tree__max_depth': 6, 'algo_tree__min_samples_leaf': 3, 'algo_tree__min_samples_split': 6}\n",
      "0.835807 (0.012824) with: {'algo_tree__criterion': 'entropy', 'algo_tree__max_depth': 6, 'algo_tree__min_samples_leaf': 3, 'algo_tree__min_samples_split': 7}\n",
      "0.835813 (0.012835) with: {'algo_tree__criterion': 'entropy', 'algo_tree__max_depth': 6, 'algo_tree__min_samples_leaf': 3, 'algo_tree__min_samples_split': 8}\n",
      "0.835782 (0.012865) with: {'algo_tree__criterion': 'entropy', 'algo_tree__max_depth': 6, 'algo_tree__min_samples_leaf': 3, 'algo_tree__min_samples_split': 9}\n",
      "nan (nan) with: {'algo_tree__criterion': 'entropy', 'algo_tree__max_depth': 6, 'algo_tree__min_samples_leaf': 4, 'algo_tree__min_samples_split': 1}\n",
      "0.835782 (0.012842) with: {'algo_tree__criterion': 'entropy', 'algo_tree__max_depth': 6, 'algo_tree__min_samples_leaf': 4, 'algo_tree__min_samples_split': 2}\n",
      "0.835782 (0.012842) with: {'algo_tree__criterion': 'entropy', 'algo_tree__max_depth': 6, 'algo_tree__min_samples_leaf': 4, 'algo_tree__min_samples_split': 3}\n",
      "0.835789 (0.012811) with: {'algo_tree__criterion': 'entropy', 'algo_tree__max_depth': 6, 'algo_tree__min_samples_leaf': 4, 'algo_tree__min_samples_split': 4}\n",
      "0.835782 (0.012842) with: {'algo_tree__criterion': 'entropy', 'algo_tree__max_depth': 6, 'algo_tree__min_samples_leaf': 4, 'algo_tree__min_samples_split': 5}\n",
      "0.835789 (0.012811) with: {'algo_tree__criterion': 'entropy', 'algo_tree__max_depth': 6, 'algo_tree__min_samples_leaf': 4, 'algo_tree__min_samples_split': 6}\n",
      "0.835789 (0.012828) with: {'algo_tree__criterion': 'entropy', 'algo_tree__max_depth': 6, 'algo_tree__min_samples_leaf': 4, 'algo_tree__min_samples_split': 7}\n",
      "0.835782 (0.012824) with: {'algo_tree__criterion': 'entropy', 'algo_tree__max_depth': 6, 'algo_tree__min_samples_leaf': 4, 'algo_tree__min_samples_split': 8}\n",
      "0.835795 (0.012822) with: {'algo_tree__criterion': 'entropy', 'algo_tree__max_depth': 6, 'algo_tree__min_samples_leaf': 4, 'algo_tree__min_samples_split': 9}\n",
      "nan (nan) with: {'algo_tree__criterion': 'entropy', 'algo_tree__max_depth': 7, 'algo_tree__min_samples_leaf': 1, 'algo_tree__min_samples_split': 1}\n",
      "0.840222 (0.007498) with: {'algo_tree__criterion': 'entropy', 'algo_tree__max_depth': 7, 'algo_tree__min_samples_leaf': 1, 'algo_tree__min_samples_split': 2}\n",
      "0.840191 (0.007497) with: {'algo_tree__criterion': 'entropy', 'algo_tree__max_depth': 7, 'algo_tree__min_samples_leaf': 1, 'algo_tree__min_samples_split': 3}\n",
      "0.840209 (0.007499) with: {'algo_tree__criterion': 'entropy', 'algo_tree__max_depth': 7, 'algo_tree__min_samples_leaf': 1, 'algo_tree__min_samples_split': 4}\n",
      "0.840197 (0.007501) with: {'algo_tree__criterion': 'entropy', 'algo_tree__max_depth': 7, 'algo_tree__min_samples_leaf': 1, 'algo_tree__min_samples_split': 5}\n",
      "0.840228 (0.007479) with: {'algo_tree__criterion': 'entropy', 'algo_tree__max_depth': 7, 'algo_tree__min_samples_leaf': 1, 'algo_tree__min_samples_split': 6}\n",
      "0.840216 (0.007491) with: {'algo_tree__criterion': 'entropy', 'algo_tree__max_depth': 7, 'algo_tree__min_samples_leaf': 1, 'algo_tree__min_samples_split': 7}\n",
      "0.840222 (0.007498) with: {'algo_tree__criterion': 'entropy', 'algo_tree__max_depth': 7, 'algo_tree__min_samples_leaf': 1, 'algo_tree__min_samples_split': 8}\n",
      "0.840203 (0.007525) with: {'algo_tree__criterion': 'entropy', 'algo_tree__max_depth': 7, 'algo_tree__min_samples_leaf': 1, 'algo_tree__min_samples_split': 9}\n",
      "nan (nan) with: {'algo_tree__criterion': 'entropy', 'algo_tree__max_depth': 7, 'algo_tree__min_samples_leaf': 2, 'algo_tree__min_samples_split': 1}\n",
      "0.840203 (0.007541) with: {'algo_tree__criterion': 'entropy', 'algo_tree__max_depth': 7, 'algo_tree__min_samples_leaf': 2, 'algo_tree__min_samples_split': 2}\n",
      "0.840228 (0.007536) with: {'algo_tree__criterion': 'entropy', 'algo_tree__max_depth': 7, 'algo_tree__min_samples_leaf': 2, 'algo_tree__min_samples_split': 3}\n",
      "0.840247 (0.007536) with: {'algo_tree__criterion': 'entropy', 'algo_tree__max_depth': 7, 'algo_tree__min_samples_leaf': 2, 'algo_tree__min_samples_split': 4}\n",
      "0.840228 (0.007524) with: {'algo_tree__criterion': 'entropy', 'algo_tree__max_depth': 7, 'algo_tree__min_samples_leaf': 2, 'algo_tree__min_samples_split': 5}\n",
      "0.840216 (0.007519) with: {'algo_tree__criterion': 'entropy', 'algo_tree__max_depth': 7, 'algo_tree__min_samples_leaf': 2, 'algo_tree__min_samples_split': 6}\n",
      "0.840222 (0.007536) with: {'algo_tree__criterion': 'entropy', 'algo_tree__max_depth': 7, 'algo_tree__min_samples_leaf': 2, 'algo_tree__min_samples_split': 7}\n",
      "0.840209 (0.007537) with: {'algo_tree__criterion': 'entropy', 'algo_tree__max_depth': 7, 'algo_tree__min_samples_leaf': 2, 'algo_tree__min_samples_split': 8}\n",
      "0.840209 (0.007566) with: {'algo_tree__criterion': 'entropy', 'algo_tree__max_depth': 7, 'algo_tree__min_samples_leaf': 2, 'algo_tree__min_samples_split': 9}\n",
      "nan (nan) with: {'algo_tree__criterion': 'entropy', 'algo_tree__max_depth': 7, 'algo_tree__min_samples_leaf': 3, 'algo_tree__min_samples_split': 1}\n",
      "0.840278 (0.007498) with: {'algo_tree__criterion': 'entropy', 'algo_tree__max_depth': 7, 'algo_tree__min_samples_leaf': 3, 'algo_tree__min_samples_split': 2}\n",
      "0.840296 (0.007482) with: {'algo_tree__criterion': 'entropy', 'algo_tree__max_depth': 7, 'algo_tree__min_samples_leaf': 3, 'algo_tree__min_samples_split': 3}\n",
      "0.840296 (0.007477) with: {'algo_tree__criterion': 'entropy', 'algo_tree__max_depth': 7, 'algo_tree__min_samples_leaf': 3, 'algo_tree__min_samples_split': 4}\n",
      "0.840321 (0.007481) with: {'algo_tree__criterion': 'entropy', 'algo_tree__max_depth': 7, 'algo_tree__min_samples_leaf': 3, 'algo_tree__min_samples_split': 5}\n",
      "0.840296 (0.007499) with: {'algo_tree__criterion': 'entropy', 'algo_tree__max_depth': 7, 'algo_tree__min_samples_leaf': 3, 'algo_tree__min_samples_split': 6}\n",
      "0.840302 (0.007503) with: {'algo_tree__criterion': 'entropy', 'algo_tree__max_depth': 7, 'algo_tree__min_samples_leaf': 3, 'algo_tree__min_samples_split': 7}\n",
      "0.840296 (0.007514) with: {'algo_tree__criterion': 'entropy', 'algo_tree__max_depth': 7, 'algo_tree__min_samples_leaf': 3, 'algo_tree__min_samples_split': 8}\n",
      "0.840265 (0.007500) with: {'algo_tree__criterion': 'entropy', 'algo_tree__max_depth': 7, 'algo_tree__min_samples_leaf': 3, 'algo_tree__min_samples_split': 9}\n",
      "nan (nan) with: {'algo_tree__criterion': 'entropy', 'algo_tree__max_depth': 7, 'algo_tree__min_samples_leaf': 4, 'algo_tree__min_samples_split': 1}\n",
      "0.840321 (0.007533) with: {'algo_tree__criterion': 'entropy', 'algo_tree__max_depth': 7, 'algo_tree__min_samples_leaf': 4, 'algo_tree__min_samples_split': 2}\n",
      "0.840296 (0.007517) with: {'algo_tree__criterion': 'entropy', 'algo_tree__max_depth': 7, 'algo_tree__min_samples_leaf': 4, 'algo_tree__min_samples_split': 3}\n",
      "0.840309 (0.007523) with: {'algo_tree__criterion': 'entropy', 'algo_tree__max_depth': 7, 'algo_tree__min_samples_leaf': 4, 'algo_tree__min_samples_split': 4}\n",
      "0.840327 (0.007513) with: {'algo_tree__criterion': 'entropy', 'algo_tree__max_depth': 7, 'algo_tree__min_samples_leaf': 4, 'algo_tree__min_samples_split': 5}\n",
      "0.840309 (0.007523) with: {'algo_tree__criterion': 'entropy', 'algo_tree__max_depth': 7, 'algo_tree__min_samples_leaf': 4, 'algo_tree__min_samples_split': 6}\n",
      "0.840327 (0.007527) with: {'algo_tree__criterion': 'entropy', 'algo_tree__max_depth': 7, 'algo_tree__min_samples_leaf': 4, 'algo_tree__min_samples_split': 7}\n",
      "0.840302 (0.007523) with: {'algo_tree__criterion': 'entropy', 'algo_tree__max_depth': 7, 'algo_tree__min_samples_leaf': 4, 'algo_tree__min_samples_split': 8}\n",
      "0.840296 (0.007518) with: {'algo_tree__criterion': 'entropy', 'algo_tree__max_depth': 7, 'algo_tree__min_samples_leaf': 4, 'algo_tree__min_samples_split': 9}\n",
      "nan (nan) with: {'algo_tree__criterion': 'entropy', 'algo_tree__max_depth': 8, 'algo_tree__min_samples_leaf': 1, 'algo_tree__min_samples_split': 1}\n",
      "0.845877 (0.006983) with: {'algo_tree__criterion': 'entropy', 'algo_tree__max_depth': 8, 'algo_tree__min_samples_leaf': 1, 'algo_tree__min_samples_split': 2}\n",
      "0.845901 (0.006913) with: {'algo_tree__criterion': 'entropy', 'algo_tree__max_depth': 8, 'algo_tree__min_samples_leaf': 1, 'algo_tree__min_samples_split': 3}\n",
      "0.845790 (0.006966) with: {'algo_tree__criterion': 'entropy', 'algo_tree__max_depth': 8, 'algo_tree__min_samples_leaf': 1, 'algo_tree__min_samples_split': 4}\n",
      "0.845870 (0.006948) with: {'algo_tree__criterion': 'entropy', 'algo_tree__max_depth': 8, 'algo_tree__min_samples_leaf': 1, 'algo_tree__min_samples_split': 5}\n",
      "0.845796 (0.006959) with: {'algo_tree__criterion': 'entropy', 'algo_tree__max_depth': 8, 'algo_tree__min_samples_leaf': 1, 'algo_tree__min_samples_split': 6}\n",
      "0.845889 (0.006932) with: {'algo_tree__criterion': 'entropy', 'algo_tree__max_depth': 8, 'algo_tree__min_samples_leaf': 1, 'algo_tree__min_samples_split': 7}\n",
      "0.845815 (0.006910) with: {'algo_tree__criterion': 'entropy', 'algo_tree__max_depth': 8, 'algo_tree__min_samples_leaf': 1, 'algo_tree__min_samples_split': 8}\n",
      "0.845796 (0.007011) with: {'algo_tree__criterion': 'entropy', 'algo_tree__max_depth': 8, 'algo_tree__min_samples_leaf': 1, 'algo_tree__min_samples_split': 9}\n",
      "nan (nan) with: {'algo_tree__criterion': 'entropy', 'algo_tree__max_depth': 8, 'algo_tree__min_samples_leaf': 2, 'algo_tree__min_samples_split': 1}\n",
      "0.845889 (0.007030) with: {'algo_tree__criterion': 'entropy', 'algo_tree__max_depth': 8, 'algo_tree__min_samples_leaf': 2, 'algo_tree__min_samples_split': 2}\n",
      "0.845846 (0.007055) with: {'algo_tree__criterion': 'entropy', 'algo_tree__max_depth': 8, 'algo_tree__min_samples_leaf': 2, 'algo_tree__min_samples_split': 3}\n",
      "0.845895 (0.007064) with: {'algo_tree__criterion': 'entropy', 'algo_tree__max_depth': 8, 'algo_tree__min_samples_leaf': 2, 'algo_tree__min_samples_split': 4}\n",
      "0.845908 (0.007005) with: {'algo_tree__criterion': 'entropy', 'algo_tree__max_depth': 8, 'algo_tree__min_samples_leaf': 2, 'algo_tree__min_samples_split': 5}\n",
      "0.845908 (0.007018) with: {'algo_tree__criterion': 'entropy', 'algo_tree__max_depth': 8, 'algo_tree__min_samples_leaf': 2, 'algo_tree__min_samples_split': 6}\n",
      "0.845914 (0.007033) with: {'algo_tree__criterion': 'entropy', 'algo_tree__max_depth': 8, 'algo_tree__min_samples_leaf': 2, 'algo_tree__min_samples_split': 7}\n",
      "0.845833 (0.007067) with: {'algo_tree__criterion': 'entropy', 'algo_tree__max_depth': 8, 'algo_tree__min_samples_leaf': 2, 'algo_tree__min_samples_split': 8}\n",
      "0.845895 (0.007092) with: {'algo_tree__criterion': 'entropy', 'algo_tree__max_depth': 8, 'algo_tree__min_samples_leaf': 2, 'algo_tree__min_samples_split': 9}\n",
      "nan (nan) with: {'algo_tree__criterion': 'entropy', 'algo_tree__max_depth': 8, 'algo_tree__min_samples_leaf': 3, 'algo_tree__min_samples_split': 1}\n",
      "0.845970 (0.006991) with: {'algo_tree__criterion': 'entropy', 'algo_tree__max_depth': 8, 'algo_tree__min_samples_leaf': 3, 'algo_tree__min_samples_split': 2}\n",
      "0.845932 (0.006989) with: {'algo_tree__criterion': 'entropy', 'algo_tree__max_depth': 8, 'algo_tree__min_samples_leaf': 3, 'algo_tree__min_samples_split': 3}\n",
      "0.845951 (0.007039) with: {'algo_tree__criterion': 'entropy', 'algo_tree__max_depth': 8, 'algo_tree__min_samples_leaf': 3, 'algo_tree__min_samples_split': 4}\n",
      "0.845951 (0.007028) with: {'algo_tree__criterion': 'entropy', 'algo_tree__max_depth': 8, 'algo_tree__min_samples_leaf': 3, 'algo_tree__min_samples_split': 5}\n",
      "0.845994 (0.007046) with: {'algo_tree__criterion': 'entropy', 'algo_tree__max_depth': 8, 'algo_tree__min_samples_leaf': 3, 'algo_tree__min_samples_split': 6}\n",
      "0.845939 (0.006990) with: {'algo_tree__criterion': 'entropy', 'algo_tree__max_depth': 8, 'algo_tree__min_samples_leaf': 3, 'algo_tree__min_samples_split': 7}\n",
      "0.845932 (0.007012) with: {'algo_tree__criterion': 'entropy', 'algo_tree__max_depth': 8, 'algo_tree__min_samples_leaf': 3, 'algo_tree__min_samples_split': 8}\n",
      "0.845957 (0.007056) with: {'algo_tree__criterion': 'entropy', 'algo_tree__max_depth': 8, 'algo_tree__min_samples_leaf': 3, 'algo_tree__min_samples_split': 9}\n",
      "nan (nan) with: {'algo_tree__criterion': 'entropy', 'algo_tree__max_depth': 8, 'algo_tree__min_samples_leaf': 4, 'algo_tree__min_samples_split': 1}\n",
      "0.845870 (0.006911) with: {'algo_tree__criterion': 'entropy', 'algo_tree__max_depth': 8, 'algo_tree__min_samples_leaf': 4, 'algo_tree__min_samples_split': 2}\n",
      "0.845870 (0.006873) with: {'algo_tree__criterion': 'entropy', 'algo_tree__max_depth': 8, 'algo_tree__min_samples_leaf': 4, 'algo_tree__min_samples_split': 3}\n",
      "0.845889 (0.006876) with: {'algo_tree__criterion': 'entropy', 'algo_tree__max_depth': 8, 'algo_tree__min_samples_leaf': 4, 'algo_tree__min_samples_split': 4}\n",
      "0.845920 (0.006883) with: {'algo_tree__criterion': 'entropy', 'algo_tree__max_depth': 8, 'algo_tree__min_samples_leaf': 4, 'algo_tree__min_samples_split': 5}\n",
      "0.845852 (0.006908) with: {'algo_tree__criterion': 'entropy', 'algo_tree__max_depth': 8, 'algo_tree__min_samples_leaf': 4, 'algo_tree__min_samples_split': 6}\n",
      "0.845883 (0.006898) with: {'algo_tree__criterion': 'entropy', 'algo_tree__max_depth': 8, 'algo_tree__min_samples_leaf': 4, 'algo_tree__min_samples_split': 7}\n",
      "0.845877 (0.006909) with: {'algo_tree__criterion': 'entropy', 'algo_tree__max_depth': 8, 'algo_tree__min_samples_leaf': 4, 'algo_tree__min_samples_split': 8}\n",
      "0.845827 (0.006918) with: {'algo_tree__criterion': 'entropy', 'algo_tree__max_depth': 8, 'algo_tree__min_samples_leaf': 4, 'algo_tree__min_samples_split': 9}\n",
      "nan (nan) with: {'algo_tree__criterion': 'entropy', 'algo_tree__max_depth': 9, 'algo_tree__min_samples_leaf': 1, 'algo_tree__min_samples_split': 1}\n",
      "0.850694 (0.006226) with: {'algo_tree__criterion': 'entropy', 'algo_tree__max_depth': 9, 'algo_tree__min_samples_leaf': 1, 'algo_tree__min_samples_split': 2}\n",
      "0.850663 (0.006314) with: {'algo_tree__criterion': 'entropy', 'algo_tree__max_depth': 9, 'algo_tree__min_samples_leaf': 1, 'algo_tree__min_samples_split': 3}\n",
      "0.850639 (0.006200) with: {'algo_tree__criterion': 'entropy', 'algo_tree__max_depth': 9, 'algo_tree__min_samples_leaf': 1, 'algo_tree__min_samples_split': 4}\n",
      "0.850676 (0.006214) with: {'algo_tree__criterion': 'entropy', 'algo_tree__max_depth': 9, 'algo_tree__min_samples_leaf': 1, 'algo_tree__min_samples_split': 5}\n",
      "0.850626 (0.006219) with: {'algo_tree__criterion': 'entropy', 'algo_tree__max_depth': 9, 'algo_tree__min_samples_leaf': 1, 'algo_tree__min_samples_split': 6}\n",
      "0.850682 (0.006266) with: {'algo_tree__criterion': 'entropy', 'algo_tree__max_depth': 9, 'algo_tree__min_samples_leaf': 1, 'algo_tree__min_samples_split': 7}\n",
      "0.850694 (0.006221) with: {'algo_tree__criterion': 'entropy', 'algo_tree__max_depth': 9, 'algo_tree__min_samples_leaf': 1, 'algo_tree__min_samples_split': 8}\n",
      "0.850694 (0.006243) with: {'algo_tree__criterion': 'entropy', 'algo_tree__max_depth': 9, 'algo_tree__min_samples_leaf': 1, 'algo_tree__min_samples_split': 9}\n",
      "nan (nan) with: {'algo_tree__criterion': 'entropy', 'algo_tree__max_depth': 9, 'algo_tree__min_samples_leaf': 2, 'algo_tree__min_samples_split': 1}\n",
      "0.850744 (0.006149) with: {'algo_tree__criterion': 'entropy', 'algo_tree__max_depth': 9, 'algo_tree__min_samples_leaf': 2, 'algo_tree__min_samples_split': 2}\n",
      "0.850688 (0.006208) with: {'algo_tree__criterion': 'entropy', 'algo_tree__max_depth': 9, 'algo_tree__min_samples_leaf': 2, 'algo_tree__min_samples_split': 3}\n",
      "0.850663 (0.006113) with: {'algo_tree__criterion': 'entropy', 'algo_tree__max_depth': 9, 'algo_tree__min_samples_leaf': 2, 'algo_tree__min_samples_split': 4}\n",
      "0.850738 (0.006122) with: {'algo_tree__criterion': 'entropy', 'algo_tree__max_depth': 9, 'algo_tree__min_samples_leaf': 2, 'algo_tree__min_samples_split': 5}\n",
      "0.850670 (0.006161) with: {'algo_tree__criterion': 'entropy', 'algo_tree__max_depth': 9, 'algo_tree__min_samples_leaf': 2, 'algo_tree__min_samples_split': 6}\n",
      "0.850688 (0.006112) with: {'algo_tree__criterion': 'entropy', 'algo_tree__max_depth': 9, 'algo_tree__min_samples_leaf': 2, 'algo_tree__min_samples_split': 7}\n",
      "0.850663 (0.006222) with: {'algo_tree__criterion': 'entropy', 'algo_tree__max_depth': 9, 'algo_tree__min_samples_leaf': 2, 'algo_tree__min_samples_split': 8}\n",
      "0.850775 (0.006268) with: {'algo_tree__criterion': 'entropy', 'algo_tree__max_depth': 9, 'algo_tree__min_samples_leaf': 2, 'algo_tree__min_samples_split': 9}\n",
      "nan (nan) with: {'algo_tree__criterion': 'entropy', 'algo_tree__max_depth': 9, 'algo_tree__min_samples_leaf': 3, 'algo_tree__min_samples_split': 1}\n",
      "0.850831 (0.006163) with: {'algo_tree__criterion': 'entropy', 'algo_tree__max_depth': 9, 'algo_tree__min_samples_leaf': 3, 'algo_tree__min_samples_split': 2}\n",
      "0.850750 (0.006147) with: {'algo_tree__criterion': 'entropy', 'algo_tree__max_depth': 9, 'algo_tree__min_samples_leaf': 3, 'algo_tree__min_samples_split': 3}\n",
      "0.850781 (0.006086) with: {'algo_tree__criterion': 'entropy', 'algo_tree__max_depth': 9, 'algo_tree__min_samples_leaf': 3, 'algo_tree__min_samples_split': 4}\n",
      "0.850781 (0.006115) with: {'algo_tree__criterion': 'entropy', 'algo_tree__max_depth': 9, 'algo_tree__min_samples_leaf': 3, 'algo_tree__min_samples_split': 5}\n",
      "0.850794 (0.006158) with: {'algo_tree__criterion': 'entropy', 'algo_tree__max_depth': 9, 'algo_tree__min_samples_leaf': 3, 'algo_tree__min_samples_split': 6}\n",
      "0.850794 (0.006148) with: {'algo_tree__criterion': 'entropy', 'algo_tree__max_depth': 9, 'algo_tree__min_samples_leaf': 3, 'algo_tree__min_samples_split': 7}\n",
      "0.850738 (0.006122) with: {'algo_tree__criterion': 'entropy', 'algo_tree__max_depth': 9, 'algo_tree__min_samples_leaf': 3, 'algo_tree__min_samples_split': 8}\n",
      "0.850862 (0.006215) with: {'algo_tree__criterion': 'entropy', 'algo_tree__max_depth': 9, 'algo_tree__min_samples_leaf': 3, 'algo_tree__min_samples_split': 9}\n",
      "nan (nan) with: {'algo_tree__criterion': 'entropy', 'algo_tree__max_depth': 9, 'algo_tree__min_samples_leaf': 4, 'algo_tree__min_samples_split': 1}\n",
      "0.850744 (0.006135) with: {'algo_tree__criterion': 'entropy', 'algo_tree__max_depth': 9, 'algo_tree__min_samples_leaf': 4, 'algo_tree__min_samples_split': 2}\n",
      "0.850657 (0.006105) with: {'algo_tree__criterion': 'entropy', 'algo_tree__max_depth': 9, 'algo_tree__min_samples_leaf': 4, 'algo_tree__min_samples_split': 3}\n",
      "0.850688 (0.006190) with: {'algo_tree__criterion': 'entropy', 'algo_tree__max_depth': 9, 'algo_tree__min_samples_leaf': 4, 'algo_tree__min_samples_split': 4}\n",
      "0.850663 (0.006133) with: {'algo_tree__criterion': 'entropy', 'algo_tree__max_depth': 9, 'algo_tree__min_samples_leaf': 4, 'algo_tree__min_samples_split': 5}\n",
      "0.850701 (0.006177) with: {'algo_tree__criterion': 'entropy', 'algo_tree__max_depth': 9, 'algo_tree__min_samples_leaf': 4, 'algo_tree__min_samples_split': 6}\n",
      "0.850676 (0.006098) with: {'algo_tree__criterion': 'entropy', 'algo_tree__max_depth': 9, 'algo_tree__min_samples_leaf': 4, 'algo_tree__min_samples_split': 7}\n",
      "0.850651 (0.006030) with: {'algo_tree__criterion': 'entropy', 'algo_tree__max_depth': 9, 'algo_tree__min_samples_leaf': 4, 'algo_tree__min_samples_split': 8}\n",
      "0.850670 (0.006149) with: {'algo_tree__criterion': 'entropy', 'algo_tree__max_depth': 9, 'algo_tree__min_samples_leaf': 4, 'algo_tree__min_samples_split': 9}\n"
     ]
    }
   ],
   "source": [
    "# summarize results\n",
    "print(\"Best: %f using %s\" % (model_tree.best_score_, model_tree.best_params_))\n",
    "means = model_tree.cv_results_['mean_test_score']\n",
    "stds = model_tree.cv_results_['std_test_score']\n",
    "params = model_tree.cv_results_['params']\n",
    "for mean, stdev, param in zip(means, stds, params):\n",
    "    print(\"%f (%f) with: %r\" % (mean, stdev, param))"
   ]
  },
  {
   "cell_type": "code",
   "execution_count": 116,
   "metadata": {},
   "outputs": [],
   "source": [
    "y_pred = model_tree.predict(X_test)"
   ]
  },
  {
   "cell_type": "code",
   "execution_count": 117,
   "metadata": {},
   "outputs": [
    {
     "name": "stdout",
     "output_type": "stream",
     "text": [
      "              precision    recall  f1-score   support\n",
      "\n",
      "           0       0.98      0.85      0.91      7214\n",
      "           1       0.40      0.83      0.54       851\n",
      "\n",
      "    accuracy                           0.85      8065\n",
      "   macro avg       0.69      0.84      0.73      8065\n",
      "weighted avg       0.92      0.85      0.87      8065\n",
      "\n"
     ]
    }
   ],
   "source": [
    "print(classification_report(y_test, y_pred))"
   ]
  },
  {
   "cell_type": "markdown",
   "metadata": {},
   "source": [
    "Hasil model dengan best paramater yaitu:\n",
    "\n",
    "Recall untuk variabel target 'y'=1 adalah 83% dan variabel target 'y'=0 adalah 85%, keduaa metrics ini tidak berbeda secara signifikan atau cukup seimbang sehingga dari hasil tuning memberikan performance yang lebih baik "
   ]
  },
  {
   "cell_type": "code",
   "execution_count": 118,
   "metadata": {},
   "outputs": [
    {
     "data": {
      "text/plain": [
       "<sklearn.metrics._plot.roc_curve.RocCurveDisplay at 0x1e658006fd0>"
      ]
     },
     "execution_count": 118,
     "metadata": {},
     "output_type": "execute_result"
    },
    {
     "data": {
      "image/png": "[encoded data removed]",
      "text/plain": [
       "<Figure size 720x432 with 1 Axes>"
      ]
     },
     "metadata": {},
     "output_type": "display_data"
    }
   ],
   "source": [
    "RocCurveDisplay.from_estimator(model_tree, X_test, y_test)"
   ]
  },
  {
   "cell_type": "markdown",
   "metadata": {},
   "source": [
    "Dari ROC-AUC Curve dapat disimpulkan bahwa peluang model bisa memprediksi kelas positif dan negatif secara benar adalah 90% "
   ]
  },
  {
   "cell_type": "markdown",
   "metadata": {},
   "source": [
    "### Pendefinisian Model\n",
    "\n",
    "**Random Forest**"
   ]
  },
  {
   "cell_type": "code",
   "execution_count": 119,
   "metadata": {},
   "outputs": [],
   "source": [
    "rf = RandomForestClassifier()\n",
    "\n",
    "pipeline_rf = pip([\n",
    "                      (\"prep_rf\", preprocessor),\n",
    "                      ('random', RandomOverSampler(random_state=42)),\n",
    "                      (\"algo_rf\", rf)\n",
    "                ])"
   ]
  },
  {
   "cell_type": "markdown",
   "metadata": {},
   "source": [
    "### Pelatihan Model"
   ]
  },
  {
   "cell_type": "code",
   "execution_count": 120,
   "metadata": {},
   "outputs": [
    {
     "data": {
      "text/plain": [
       "Pipeline(steps=[('prep_rf',\n",
       "                 ColumnTransformer(transformers=[('numeric',\n",
       "                                                  Pipeline(steps=[('scaler',\n",
       "                                                                   MinMaxScaler())]),\n",
       "                                                  Index(['duration_minutes', 'euribor3m', 'cons.price.idx', 'cons.conf.idx',\n",
       "       'nr.employed', 'emp.var.rate', 'previous'],\n",
       "      dtype='object')),\n",
       "                                                 ('categoric',\n",
       "                                                  Pipeline(steps=[('onehot',\n",
       "                                                                   OneHotEncoder())]),\n",
       "                                                  ['poutcome', 'contact',\n",
       "                                                   'pdays_perweek'])])),\n",
       "                ('random', RandomOverSampler(random_state=42)),\n",
       "                ('algo_rf', RandomForestClassifier())])"
      ]
     },
     "execution_count": 120,
     "metadata": {},
     "output_type": "execute_result"
    }
   ],
   "source": [
    "pipeline_rf.fit(X_train, y_train)"
   ]
  },
  {
   "cell_type": "markdown",
   "metadata": {},
   "source": [
    "### Evaluasi Model"
   ]
  },
  {
   "cell_type": "code",
   "execution_count": 121,
   "metadata": {},
   "outputs": [
    {
     "data": {
      "text/plain": [
       "0.8990700557966522"
      ]
     },
     "execution_count": 121,
     "metadata": {},
     "output_type": "execute_result"
    }
   ],
   "source": [
    "pipeline_rf.score(X_test, y_test)"
   ]
  },
  {
   "cell_type": "code",
   "execution_count": 122,
   "metadata": {},
   "outputs": [
    {
     "name": "stdout",
     "output_type": "stream",
     "text": [
      "              precision    recall  f1-score   support\n",
      "\n",
      "           0       0.95      0.94      0.94      7214\n",
      "           1       0.52      0.58      0.55       851\n",
      "\n",
      "    accuracy                           0.90      8065\n",
      "   macro avg       0.73      0.76      0.74      8065\n",
      "weighted avg       0.90      0.90      0.90      8065\n",
      "\n"
     ]
    }
   ],
   "source": [
    "y_pred = pipeline_rf.predict(X_test)\n",
    "\n",
    "print(classification_report(y_test, y_pred))"
   ]
  },
  {
   "cell_type": "markdown",
   "metadata": {},
   "source": [
    "Recall untuk variabel target 'y'=1 adalah 58% dan variabel target 'y'=0 adalah 94%, dengan menggunakan baseline model hasil metric recall cukup tidak seimbang."
   ]
  },
  {
   "cell_type": "code",
   "execution_count": 123,
   "metadata": {},
   "outputs": [
    {
     "data": {
      "text/plain": [
       "<sklearn.metrics._plot.roc_curve.RocCurveDisplay at 0x1e6580ede80>"
      ]
     },
     "execution_count": 123,
     "metadata": {},
     "output_type": "execute_result"
    },
    {
     "data": {
      "image/png": "[encoded data removed]",
      "text/plain": [
       "<Figure size 720x432 with 1 Axes>"
      ]
     },
     "metadata": {},
     "output_type": "display_data"
    }
   ],
   "source": [
    "RocCurveDisplay.from_estimator(pipeline_rf, X_test, y_test)"
   ]
  },
  {
   "cell_type": "markdown",
   "metadata": {},
   "source": [
    "Dari ROC-AUC Curve dapat disimpulkan bahwa peluang model bisa memprediksi kelas positif dan negatif secara benar adalah 91% "
   ]
  },
  {
   "cell_type": "markdown",
   "metadata": {},
   "source": [
    "#### Hyperparameter Tuning\n",
    "\n",
    "\n",
    "Kita pilih n_estimators atau jumlah pohon 10, 100, dan 1000 untuk mengetahui model terbaik dan menggunakan max_features (jumlah features yang diperhatikan ketika melakuka split) sqrt dan log2 akan mengambil square root dari total banyaknya features dalam setiap run, begitu juga dengan log2 akan mengambil log2 dari total banyaknya features dalam setiap run"
   ]
  },
  {
   "cell_type": "code",
   "execution_count": 124,
   "metadata": {},
   "outputs": [],
   "source": [
    "parameter_rf = {\n",
    "    \"algo_rf__n_estimators\":  [10, 100, 1000],\n",
    "    \"algo_rf__max_features\": ['sqrt', 'log2']\n",
    "}"
   ]
  },
  {
   "cell_type": "code",
   "execution_count": 125,
   "metadata": {},
   "outputs": [
    {
     "name": "stdout",
     "output_type": "stream",
     "text": [
      "Fitting 25 folds for each of 6 candidates, totalling 150 fits\n"
     ]
    },
    {
     "data": {
      "text/plain": [
       "GridSearchCV(cv=RepeatedStratifiedKFold(n_repeats=5, n_splits=5, random_state=1),\n",
       "             estimator=Pipeline(steps=[('prep_rf',\n",
       "                                        ColumnTransformer(transformers=[('numeric',\n",
       "                                                                         Pipeline(steps=[('scaler',\n",
       "                                                                                          MinMaxScaler())]),\n",
       "                                                                         Index(['duration_minutes', 'euribor3m', 'cons.price.idx', 'cons.conf.idx',\n",
       "       'nr.employed', 'emp.var.rate', 'previous'],\n",
       "      dtype='object')),\n",
       "                                                                        ('categoric',\n",
       "                                                                         Pipeline(steps=[('onehot',\n",
       "                                                                                          OneHotEncoder())]),\n",
       "                                                                         ['poutcome',\n",
       "                                                                          'contact',\n",
       "                                                                          'pdays_perweek'])])),\n",
       "                                       ('random',\n",
       "                                        RandomOverSampler(random_state=42)),\n",
       "                                       ('algo_rf', RandomForestClassifier())]),\n",
       "             n_jobs=-1,\n",
       "             param_grid={'algo_rf__max_features': ['sqrt', 'log2'],\n",
       "                         'algo_rf__n_estimators': [10, 100, 1000]},\n",
       "             verbose=1)"
      ]
     },
     "execution_count": 125,
     "metadata": {},
     "output_type": "execute_result"
    }
   ],
   "source": [
    "cv = RepeatedStratifiedKFold(n_splits=5, n_repeats=5, random_state=1)\n",
    "model_rf = GridSearchCV(pipeline_rf, param_grid= parameter_rf, cv = cv, n_jobs=-1, verbose=1)\n",
    "model_rf.fit(X_train, y_train)"
   ]
  },
  {
   "cell_type": "code",
   "execution_count": 126,
   "metadata": {},
   "outputs": [
    {
     "name": "stdout",
     "output_type": "stream",
     "text": [
      "Best: 0.898332 using {'algo_rf__max_features': 'sqrt', 'algo_rf__n_estimators': 100}\n",
      "0.897204 (0.003589) with: {'algo_rf__max_features': 'sqrt', 'algo_rf__n_estimators': 10}\n",
      "0.898332 (0.002805) with: {'algo_rf__max_features': 'sqrt', 'algo_rf__n_estimators': 100}\n",
      "0.898208 (0.002995) with: {'algo_rf__max_features': 'sqrt', 'algo_rf__n_estimators': 1000}\n",
      "0.897514 (0.002679) with: {'algo_rf__max_features': 'log2', 'algo_rf__n_estimators': 10}\n",
      "0.898183 (0.002845) with: {'algo_rf__max_features': 'log2', 'algo_rf__n_estimators': 100}\n",
      "0.898134 (0.002910) with: {'algo_rf__max_features': 'log2', 'algo_rf__n_estimators': 1000}\n"
     ]
    }
   ],
   "source": [
    "# summarize results\n",
    "print(\"Best: %f using %s\" % (model_rf.best_score_, model_rf.best_params_))\n",
    "means = model_rf.cv_results_['mean_test_score']\n",
    "stds = model_rf.cv_results_['std_test_score']\n",
    "params = model_rf.cv_results_['params']\n",
    "for mean, stdev, param in zip(means, stds, params):\n",
    "    print(\"%f (%f) with: %r\" % (mean, stdev, param))"
   ]
  },
  {
   "cell_type": "code",
   "execution_count": 127,
   "metadata": {},
   "outputs": [
    {
     "name": "stdout",
     "output_type": "stream",
     "text": [
      "              precision    recall  f1-score   support\n",
      "\n",
      "           0       0.95      0.94      0.94      7214\n",
      "           1       0.52      0.57      0.54       851\n",
      "\n",
      "    accuracy                           0.90      8065\n",
      "   macro avg       0.73      0.75      0.74      8065\n",
      "weighted avg       0.90      0.90      0.90      8065\n",
      "\n"
     ]
    }
   ],
   "source": [
    "y_pred = model_rf.predict(X_test)\n",
    "\n",
    "print(classification_report(y_test, y_pred))"
   ]
  },
  {
   "cell_type": "markdown",
   "metadata": {},
   "source": [
    "Hasil Hyperparameter Tuning masih memiliki perbedaan yang signifikan yaitu:\n",
    "\n",
    "Recall untuk variabel target 'y'=1 adalah 57% dan variabel target 'y'=0 adalah 94%, dengan menggunakan baseline model hasil metric recall cukup tidak seimbang."
   ]
  },
  {
   "cell_type": "code",
   "execution_count": 128,
   "metadata": {},
   "outputs": [
    {
     "data": {
      "text/plain": [
       "<sklearn.metrics._plot.roc_curve.RocCurveDisplay at 0x1e657a00f10>"
      ]
     },
     "execution_count": 128,
     "metadata": {},
     "output_type": "execute_result"
    },
    {
     "data": {
      "image/png": "[encoded data removed]",
      "text/plain": [
       "<Figure size 720x432 with 1 Axes>"
      ]
     },
     "metadata": {},
     "output_type": "display_data"
    }
   ],
   "source": [
    "RocCurveDisplay.from_estimator(model_rf, X_test, y_test)"
   ]
  },
  {
   "cell_type": "markdown",
   "metadata": {},
   "source": [
    "Dari ROC-AUC Curve dapat disimpulkan bahwa peluang model bisa memprediksi kelas positif dan negatif secara benar adalah 91% "
   ]
  },
  {
   "cell_type": "markdown",
   "metadata": {},
   "source": [
    "### Pendefinisian Model\n",
    "\n",
    "**KNN**"
   ]
  },
  {
   "cell_type": "code",
   "execution_count": 129,
   "metadata": {},
   "outputs": [],
   "source": [
    "#from sklearn.neighbors import KNeighborsClassifier\n",
    "\n",
    "knn = KNeighborsClassifier()\n",
    "\n",
    "pipeline_knn = pip([\n",
    "                      (\"prep_knn\", preprocessor),\n",
    "                      ('random', RandomOverSampler(random_state=42)),\n",
    "                      (\"algo_knn\", knn)\n",
    "                      ])\n"
   ]
  },
  {
   "cell_type": "markdown",
   "metadata": {},
   "source": [
    "### Pelatihan Model"
   ]
  },
  {
   "cell_type": "code",
   "execution_count": 130,
   "metadata": {},
   "outputs": [
    {
     "data": {
      "text/plain": [
       "Pipeline(steps=[('prep_knn',\n",
       "                 ColumnTransformer(transformers=[('numeric',\n",
       "                                                  Pipeline(steps=[('scaler',\n",
       "                                                                   MinMaxScaler())]),\n",
       "                                                  Index(['duration_minutes', 'euribor3m', 'cons.price.idx', 'cons.conf.idx',\n",
       "       'nr.employed', 'emp.var.rate', 'previous'],\n",
       "      dtype='object')),\n",
       "                                                 ('categoric',\n",
       "                                                  Pipeline(steps=[('onehot',\n",
       "                                                                   OneHotEncoder())]),\n",
       "                                                  ['poutcome', 'contact',\n",
       "                                                   'pdays_perweek'])])),\n",
       "                ('random', RandomOverSampler(random_state=42)),\n",
       "                ('algo_knn', KNeighborsClassifier())])"
      ]
     },
     "execution_count": 130,
     "metadata": {},
     "output_type": "execute_result"
    }
   ],
   "source": [
    "pipeline_knn.fit(X_train, y_train)"
   ]
  },
  {
   "cell_type": "markdown",
   "metadata": {},
   "source": [
    "### Evaluasi Model"
   ]
  },
  {
   "cell_type": "code",
   "execution_count": 131,
   "metadata": {},
   "outputs": [
    {
     "data": {
      "text/plain": [
       "0.8719156850588965"
      ]
     },
     "execution_count": 131,
     "metadata": {},
     "output_type": "execute_result"
    }
   ],
   "source": [
    "pipeline_knn.score(X_test, y_test)"
   ]
  },
  {
   "cell_type": "code",
   "execution_count": 132,
   "metadata": {},
   "outputs": [
    {
     "name": "stdout",
     "output_type": "stream",
     "text": [
      "              precision    recall  f1-score   support\n",
      "\n",
      "           0       0.97      0.88      0.92      7214\n",
      "           1       0.44      0.80      0.57       851\n",
      "\n",
      "    accuracy                           0.87      8065\n",
      "   macro avg       0.71      0.84      0.75      8065\n",
      "weighted avg       0.92      0.87      0.89      8065\n",
      "\n"
     ]
    }
   ],
   "source": [
    "y_pred = pipeline_knn.predict(X_test)\n",
    "\n",
    "print(classification_report(y_test, y_pred))"
   ]
  },
  {
   "cell_type": "markdown",
   "metadata": {},
   "source": [
    "\n",
    "Recall untuk variabel target 'y'=1 adalah 80% dan variabel target 'y'=0 adalah 88%, keduaa metrics ini tidak berbeda secara signifikan atau cukup seimbang sehingga dari hasil tuning memberikan performance yang lebih baik "
   ]
  },
  {
   "cell_type": "code",
   "execution_count": 133,
   "metadata": {},
   "outputs": [
    {
     "data": {
      "text/plain": [
       "<sklearn.metrics._plot.roc_curve.RocCurveDisplay at 0x1e658bf3ca0>"
      ]
     },
     "execution_count": 133,
     "metadata": {},
     "output_type": "execute_result"
    },
    {
     "data": {
      "image/png": "[encoded data removed]",
      "text/plain": [
       "<Figure size 720x432 with 1 Axes>"
      ]
     },
     "metadata": {},
     "output_type": "display_data"
    }
   ],
   "source": [
    "RocCurveDisplay.from_estimator(pipeline_knn, X_test, y_test)"
   ]
  },
  {
   "cell_type": "markdown",
   "metadata": {},
   "source": [
    "Dari ROC-AUC Curve dapat disimpulkan bahwa peluang model bisa memprediksi kelas positif dan negatif secara benar adalah 88% "
   ]
  },
  {
   "cell_type": "markdown",
   "metadata": {},
   "source": [
    "#### Hyperparameter Tuning\n",
    "\n",
    "Kita memilih n_neighbors dari range(1, 21) untuk semua bilangan ganjil sebagai hyperparameter tetangga terdekat selain itu kita menguji metric ukuran jarak seperti euclidean, manhattan, dan minkowski.\n",
    "Weight fungsi yang kita gunakan untuk prediksi adalah uniform artinya semua titik atau data disetiap tetangga mempunyai bobot yang sama sedangkan distance tetangga yang paling dekat memiliki bobot yang lebih besar dibanding tetangga yang jauh"
   ]
  },
  {
   "cell_type": "code",
   "execution_count": 192,
   "metadata": {},
   "outputs": [],
   "source": [
    "parameter_knn = {\n",
    "    \"algo_knn__n_neighbors\":  range(1, 11, 2),\n",
    "    \"algo_knn__weights\": ['uniform', 'distance'],\n",
    "    \"algo_knn__metric\": ['euclidean', 'minkowski']\n",
    "}\n",
    "cv = RepeatedStratifiedKFold(n_splits=5, n_repeats=5, random_state=1)\n",
    "model_knn = GridSearchCV(pipeline_knn, param_grid= parameter_knn, cv = cv, n_jobs=-1, verbose=1)"
   ]
  },
  {
   "cell_type": "code",
   "execution_count": 193,
   "metadata": {},
   "outputs": [
    {
     "name": "stdout",
     "output_type": "stream",
     "text": [
      "Fitting 25 folds for each of 20 candidates, totalling 500 fits\n"
     ]
    },
    {
     "name": "stderr",
     "output_type": "stream",
     "text": [
      "C:\\Users\\sivis\\AppData\\Local\\Programs\\Python\\Python38\\lib\\site-packages\\sklearn\\model_selection\\_search.py:969: UserWarning: One or more of the test scores are non-finite: [nan nan nan nan nan nan nan nan nan nan nan nan nan nan nan nan nan nan\n",
      " nan nan]\n",
      "  warnings.warn(\n"
     ]
    },
    {
     "data": {
      "text/plain": [
       "GridSearchCV(cv=RepeatedStratifiedKFold(n_repeats=5, n_splits=5, random_state=1),\n",
       "             estimator=Pipeline(steps=[('prep_knn',\n",
       "                                        ColumnTransformer(transformers=[('numeric',\n",
       "                                                                         Pipeline(steps=[('scaler',\n",
       "                                                                                          MinMaxScaler())]),\n",
       "                                                                         Index(['duration_minutes', 'euribor3m', 'cons.price.idx', 'cons.conf.idx',\n",
       "       'nr.employed', 'emp.var.rate', 'previous'],\n",
       "      dtype='object')),\n",
       "                                                                        ('categoric',\n",
       "                                                                         Pipeline(steps=[('onehot',\n",
       "                                                                                          OneHotEncoder())]),\n",
       "                                                                         ['poutcome',\n",
       "                                                                          'contact',\n",
       "                                                                          'pdays_perweek'])])),\n",
       "                                       ('random',\n",
       "                                        RandomOverSampler(random_state=42)),\n",
       "                                       ('algo_knn', KNeighborsClassifier())]),\n",
       "             n_jobs=-1,\n",
       "             param_grid={'algo_knn__metric': ['euclidean', 'minkowski'],\n",
       "                         'algo_knn__n_neighbors': range(1, 11, 2),\n",
       "                         'algo_knn__weights': ['uniform', 'distance']},\n",
       "             verbose=1)"
      ]
     },
     "execution_count": 193,
     "metadata": {},
     "output_type": "execute_result"
    }
   ],
   "source": [
    "model_knn.fit(X_train, y_train)"
   ]
  },
  {
   "cell_type": "code",
   "execution_count": 195,
   "metadata": {},
   "outputs": [
    {
     "name": "stdout",
     "output_type": "stream",
     "text": [
      "Best: nan using {'algo_knn__metric': 'euclidean', 'algo_knn__n_neighbors': 1, 'algo_knn__weights': 'uniform'}\n",
      "nan (nan) with: {'algo_knn__metric': 'euclidean', 'algo_knn__n_neighbors': 1, 'algo_knn__weights': 'uniform'}\n",
      "nan (nan) with: {'algo_knn__metric': 'euclidean', 'algo_knn__n_neighbors': 1, 'algo_knn__weights': 'distance'}\n",
      "nan (nan) with: {'algo_knn__metric': 'euclidean', 'algo_knn__n_neighbors': 3, 'algo_knn__weights': 'uniform'}\n",
      "nan (nan) with: {'algo_knn__metric': 'euclidean', 'algo_knn__n_neighbors': 3, 'algo_knn__weights': 'distance'}\n",
      "nan (nan) with: {'algo_knn__metric': 'euclidean', 'algo_knn__n_neighbors': 5, 'algo_knn__weights': 'uniform'}\n",
      "nan (nan) with: {'algo_knn__metric': 'euclidean', 'algo_knn__n_neighbors': 5, 'algo_knn__weights': 'distance'}\n",
      "nan (nan) with: {'algo_knn__metric': 'euclidean', 'algo_knn__n_neighbors': 7, 'algo_knn__weights': 'uniform'}\n",
      "nan (nan) with: {'algo_knn__metric': 'euclidean', 'algo_knn__n_neighbors': 7, 'algo_knn__weights': 'distance'}\n",
      "nan (nan) with: {'algo_knn__metric': 'euclidean', 'algo_knn__n_neighbors': 9, 'algo_knn__weights': 'uniform'}\n",
      "nan (nan) with: {'algo_knn__metric': 'euclidean', 'algo_knn__n_neighbors': 9, 'algo_knn__weights': 'distance'}\n",
      "nan (nan) with: {'algo_knn__metric': 'minkowski', 'algo_knn__n_neighbors': 1, 'algo_knn__weights': 'uniform'}\n",
      "nan (nan) with: {'algo_knn__metric': 'minkowski', 'algo_knn__n_neighbors': 1, 'algo_knn__weights': 'distance'}\n",
      "nan (nan) with: {'algo_knn__metric': 'minkowski', 'algo_knn__n_neighbors': 3, 'algo_knn__weights': 'uniform'}\n",
      "nan (nan) with: {'algo_knn__metric': 'minkowski', 'algo_knn__n_neighbors': 3, 'algo_knn__weights': 'distance'}\n",
      "nan (nan) with: {'algo_knn__metric': 'minkowski', 'algo_knn__n_neighbors': 5, 'algo_knn__weights': 'uniform'}\n",
      "nan (nan) with: {'algo_knn__metric': 'minkowski', 'algo_knn__n_neighbors': 5, 'algo_knn__weights': 'distance'}\n",
      "nan (nan) with: {'algo_knn__metric': 'minkowski', 'algo_knn__n_neighbors': 7, 'algo_knn__weights': 'uniform'}\n",
      "nan (nan) with: {'algo_knn__metric': 'minkowski', 'algo_knn__n_neighbors': 7, 'algo_knn__weights': 'distance'}\n",
      "nan (nan) with: {'algo_knn__metric': 'minkowski', 'algo_knn__n_neighbors': 9, 'algo_knn__weights': 'uniform'}\n",
      "nan (nan) with: {'algo_knn__metric': 'minkowski', 'algo_knn__n_neighbors': 9, 'algo_knn__weights': 'distance'}\n"
     ]
    }
   ],
   "source": [
    "# summarize results\n",
    "print(\"Best: %f using %s\" % (model_knn.best_score_, model_knn.best_params_))\n",
    "means = model_knn.cv_results_['mean_test_score']\n",
    "stds = model_knn.cv_results_['std_test_score']\n",
    "params = model_knn.cv_results_['params']\n",
    "for mean, stdev, param in zip(means, stds, params):\n",
    "    print(\"%f (%f) with: %r\" % (mean, stdev, param))"
   ]
  },
  {
   "cell_type": "code",
   "execution_count": 201,
   "metadata": {},
   "outputs": [
    {
     "name": "stdout",
     "output_type": "stream",
     "text": [
      "nan\n",
      "{'algo_knn__metric': 'euclidean', 'algo_knn__n_neighbors': 1, 'algo_knn__weights': 'uniform'}\n"
     ]
    }
   ],
   "source": [
    "print(model_knn.best_score_)\n",
    "print(model_knn.best_params_)"
   ]
  },
  {
   "cell_type": "code",
   "execution_count": 197,
   "metadata": {},
   "outputs": [
    {
     "name": "stdout",
     "output_type": "stream",
     "text": [
      "              precision    recall  f1-score   support\n",
      "\n",
      "           0       0.94      0.94      0.94      7214\n",
      "           1       0.51      0.49      0.50       851\n",
      "\n",
      "    accuracy                           0.90      8065\n",
      "   macro avg       0.72      0.72      0.72      8065\n",
      "weighted avg       0.89      0.90      0.90      8065\n",
      "\n"
     ]
    }
   ],
   "source": [
    "y_pred = model_knn.predict(X_test)\n",
    "\n",
    "print(classification_report(y_test, y_pred))"
   ]
  },
  {
   "cell_type": "markdown",
   "metadata": {},
   "source": [
    "Recall untuk variabel target 'y'=1 adalah 49% dan variabel target 'y'=0 adalah 94%, setelah dilakukan hyperparameter metric recall menjadi berbeda secara signifikan hal ini juga diperkuat dengan hasil best score *nan* dan hasil best paramater yang kurang dapat dipercaya sehingga untuk kasus knn kita akan menggunakan baseline model sebagai model untuk memprediksi data test yang baru "
   ]
  },
  {
   "cell_type": "code",
   "execution_count": 198,
   "metadata": {},
   "outputs": [
    {
     "data": {
      "text/plain": [
       "<sklearn.metrics._plot.roc_curve.RocCurveDisplay at 0x1e66759be50>"
      ]
     },
     "execution_count": 198,
     "metadata": {},
     "output_type": "execute_result"
    },
    {
     "data": {
      "image/png": "[encoded data removed]",
      "text/plain": [
       "<Figure size 720x432 with 1 Axes>"
      ]
     },
     "metadata": {},
     "output_type": "display_data"
    }
   ],
   "source": [
    "RocCurveDisplay.from_estimator(model_knn, X_test, y_test)"
   ]
  },
  {
   "cell_type": "markdown",
   "metadata": {},
   "source": [
    "Dari ROC-AUC Curve dapat disimpulkan bahwa peluang model bisa memprediksi kelas positif dan negatif secara benar adalah 72% "
   ]
  },
  {
   "cell_type": "markdown",
   "metadata": {},
   "source": [
    "### Pendefinisian Model\n",
    "\n",
    "**Naive Bayes**"
   ]
  },
  {
   "cell_type": "code",
   "execution_count": 141,
   "metadata": {},
   "outputs": [],
   "source": [
    "nb = GaussianNB()\n",
    "\n",
    "\n",
    "pipeline_nb = pip([\n",
    "                      (\"prep_nb\", preprocessor),\n",
    "                      ('random', RandomOverSampler(random_state=42)),\n",
    "                      (\"algo_nb\", nb)\n",
    "                      ])"
   ]
  },
  {
   "cell_type": "markdown",
   "metadata": {},
   "source": [
    "### Pelatihan Model"
   ]
  },
  {
   "cell_type": "code",
   "execution_count": 142,
   "metadata": {},
   "outputs": [
    {
     "data": {
      "text/plain": [
       "Pipeline(steps=[('prep_nb',\n",
       "                 ColumnTransformer(transformers=[('numeric',\n",
       "                                                  Pipeline(steps=[('scaler',\n",
       "                                                                   MinMaxScaler())]),\n",
       "                                                  Index(['duration_minutes', 'euribor3m', 'cons.price.idx', 'cons.conf.idx',\n",
       "       'nr.employed', 'emp.var.rate', 'previous'],\n",
       "      dtype='object')),\n",
       "                                                 ('categoric',\n",
       "                                                  Pipeline(steps=[('onehot',\n",
       "                                                                   OneHotEncoder())]),\n",
       "                                                  ['poutcome', 'contact',\n",
       "                                                   'pdays_perweek'])])),\n",
       "                ('random', RandomOverSampler(random_state=42)),\n",
       "                ('algo_nb', GaussianNB())])"
      ]
     },
     "execution_count": 142,
     "metadata": {},
     "output_type": "execute_result"
    }
   ],
   "source": [
    "pipeline_nb.fit(X_train, y_train)"
   ]
  },
  {
   "cell_type": "markdown",
   "metadata": {},
   "source": [
    "### Evaluasi Model"
   ]
  },
  {
   "cell_type": "code",
   "execution_count": 143,
   "metadata": {},
   "outputs": [
    {
     "data": {
      "text/plain": [
       "0.8948722718253969"
      ]
     },
     "execution_count": 143,
     "metadata": {},
     "output_type": "execute_result"
    }
   ],
   "source": [
    "pipeline_nb.score(X_train, y_train)"
   ]
  },
  {
   "cell_type": "code",
   "execution_count": 144,
   "metadata": {},
   "outputs": [
    {
     "name": "stdout",
     "output_type": "stream",
     "text": [
      "              precision    recall  f1-score   support\n",
      "\n",
      "           0       0.93      0.96      0.94      7214\n",
      "           1       0.51      0.34      0.41       851\n",
      "\n",
      "    accuracy                           0.90      8065\n",
      "   macro avg       0.72      0.65      0.68      8065\n",
      "weighted avg       0.88      0.90      0.89      8065\n",
      "\n"
     ]
    }
   ],
   "source": [
    "y_pred = pipeline_nb.predict(X_test)\n",
    "\n",
    "print(classification_report(y_test, y_pred))"
   ]
  },
  {
   "cell_type": "markdown",
   "metadata": {},
   "source": [
    "Recall untuk variabel target 'y'=1 adalah 34% dan variabel target 'y'=0 adalah 96%, dengan menggunakan baseline model hasil metric recall cukup tidak seimbang."
   ]
  },
  {
   "cell_type": "code",
   "execution_count": 145,
   "metadata": {},
   "outputs": [
    {
     "data": {
      "text/plain": [
       "<sklearn.metrics._plot.roc_curve.RocCurveDisplay at 0x1e6674a50a0>"
      ]
     },
     "execution_count": 145,
     "metadata": {},
     "output_type": "execute_result"
    },
    {
     "data": {
      "image/png": "[encoded data removed]",
      "text/plain": [
       "<Figure size 720x432 with 1 Axes>"
      ]
     },
     "metadata": {},
     "output_type": "display_data"
    }
   ],
   "source": [
    "RocCurveDisplay.from_estimator(pipeline_nb, X_test, y_test)"
   ]
  },
  {
   "cell_type": "markdown",
   "metadata": {},
   "source": [
    "Dari ROC-AUC Curve dapat disimpulkan bahwa peluang model bisa memprediksi kelas positif dan negatif secara benar adalah 85% "
   ]
  },
  {
   "cell_type": "markdown",
   "metadata": {},
   "source": [
    "#### Hyperparameter Tuning\n",
    "\n",
    "Referensi Hyperparameter Tuning Naive Bayes bisa dilihat di https://www.analyticsvidhya.com/blog/2021/01/gaussian-naive-bayes-with-hyperpameter-tuning/ "
   ]
  },
  {
   "cell_type": "code",
   "execution_count": 149,
   "metadata": {},
   "outputs": [],
   "source": [
    "parameter_nb = {'algo_nb__var_smoothing': np.logspace(0,-9, num=100)}\n",
    "cv = RepeatedStratifiedKFold(n_splits=5, n_repeats=5, random_state=1)"
   ]
  },
  {
   "cell_type": "code",
   "execution_count": 150,
   "metadata": {},
   "outputs": [],
   "source": [
    "model_nb = GridSearchCV(pipeline_nb, param_grid= parameter_nb, cv = cv, n_jobs=-1, verbose=1)"
   ]
  },
  {
   "cell_type": "code",
   "execution_count": 151,
   "metadata": {},
   "outputs": [
    {
     "name": "stdout",
     "output_type": "stream",
     "text": [
      "Fitting 25 folds for each of 100 candidates, totalling 2500 fits\n"
     ]
    },
    {
     "data": {
      "text/plain": [
       "GridSearchCV(cv=RepeatedStratifiedKFold(n_repeats=5, n_splits=5, random_state=1),\n",
       "             estimator=Pipeline(steps=[('prep_nb',\n",
       "                                        ColumnTransformer(transformers=[('numeric',\n",
       "                                                                         Pipeline(steps=[('scaler',\n",
       "                                                                                          MinMaxScaler())]),\n",
       "                                                                         Index(['duration_minutes', 'euribor3m', 'cons.price.idx', 'cons.conf.idx',\n",
       "       'nr.employed', 'emp.var.rate', 'previous'],\n",
       "      dtype='object')),\n",
       "                                                                        ('categoric',\n",
       "                                                                         Pipel...\n",
       "       1.23284674e-07, 1.00000000e-07, 8.11130831e-08, 6.57933225e-08,\n",
       "       5.33669923e-08, 4.32876128e-08, 3.51119173e-08, 2.84803587e-08,\n",
       "       2.31012970e-08, 1.87381742e-08, 1.51991108e-08, 1.23284674e-08,\n",
       "       1.00000000e-08, 8.11130831e-09, 6.57933225e-09, 5.33669923e-09,\n",
       "       4.32876128e-09, 3.51119173e-09, 2.84803587e-09, 2.31012970e-09,\n",
       "       1.87381742e-09, 1.51991108e-09, 1.23284674e-09, 1.00000000e-09])},\n",
       "             verbose=1)"
      ]
     },
     "execution_count": 151,
     "metadata": {},
     "output_type": "execute_result"
    }
   ],
   "source": [
    "model_nb.fit(X_train, y_train)"
   ]
  },
  {
   "cell_type": "code",
   "execution_count": 152,
   "metadata": {},
   "outputs": [
    {
     "name": "stdout",
     "output_type": "stream",
     "text": [
      "Best: 0.895567 using {'algo_nb__var_smoothing': 1e-09}\n",
      "0.841009 (0.003513) with: {'algo_nb__var_smoothing': 1.0}\n",
      "0.840749 (0.003581) with: {'algo_nb__var_smoothing': 0.8111308307896871}\n",
      "0.840458 (0.003584) with: {'algo_nb__var_smoothing': 0.657933224657568}\n",
      "0.840284 (0.003556) with: {'algo_nb__var_smoothing': 0.533669923120631}\n",
      "0.840427 (0.003498) with: {'algo_nb__var_smoothing': 0.43287612810830584}\n",
      "0.841896 (0.004080) with: {'algo_nb__var_smoothing': 0.3511191734215131}\n",
      "0.843595 (0.003459) with: {'algo_nb__var_smoothing': 0.2848035868435802}\n",
      "0.843638 (0.003522) with: {'algo_nb__var_smoothing': 0.23101297000831597}\n",
      "0.843452 (0.003622) with: {'algo_nb__var_smoothing': 0.1873817422860384}\n",
      "0.843533 (0.003476) with: {'algo_nb__var_smoothing': 0.15199110829529336}\n",
      "0.843676 (0.003397) with: {'algo_nb__var_smoothing': 0.12328467394420659}\n",
      "0.843868 (0.003392) with: {'algo_nb__var_smoothing': 0.1}\n",
      "0.843824 (0.003568) with: {'algo_nb__var_smoothing': 0.08111308307896872}\n",
      "0.843862 (0.003704) with: {'algo_nb__var_smoothing': 0.0657933224657568}\n",
      "0.843725 (0.003579) with: {'algo_nb__var_smoothing': 0.0533669923120631}\n",
      "0.843886 (0.003617) with: {'algo_nb__var_smoothing': 0.04328761281083057}\n",
      "0.845610 (0.003699) with: {'algo_nb__var_smoothing': 0.03511191734215131}\n",
      "0.847111 (0.003580) with: {'algo_nb__var_smoothing': 0.02848035868435802}\n",
      "0.847662 (0.003513) with: {'algo_nb__var_smoothing': 0.02310129700083159}\n",
      "0.848047 (0.003354) with: {'algo_nb__var_smoothing': 0.01873817422860384}\n",
      "0.848313 (0.003399) with: {'algo_nb__var_smoothing': 0.01519911082952933}\n",
      "0.848425 (0.003319) with: {'algo_nb__var_smoothing': 0.012328467394420659}\n",
      "0.848493 (0.003266) with: {'algo_nb__var_smoothing': 0.01}\n",
      "0.848927 (0.004005) with: {'algo_nb__var_smoothing': 0.008111308307896872}\n",
      "0.849374 (0.004655) with: {'algo_nb__var_smoothing': 0.006579332246575682}\n",
      "0.851283 (0.008764) with: {'algo_nb__var_smoothing': 0.005336699231206307}\n",
      "0.852629 (0.010555) with: {'algo_nb__var_smoothing': 0.004328761281083057}\n",
      "0.855227 (0.011757) with: {'algo_nb__var_smoothing': 0.003511191734215131}\n",
      "0.859642 (0.014186) with: {'algo_nb__var_smoothing': 0.002848035868435802}\n",
      "0.864782 (0.015958) with: {'algo_nb__var_smoothing': 0.0023101297000831605}\n",
      "0.868589 (0.016572) with: {'algo_nb__var_smoothing': 0.001873817422860383}\n",
      "0.873636 (0.016023) with: {'algo_nb__var_smoothing': 0.0015199110829529332}\n",
      "0.878280 (0.014369) with: {'algo_nb__var_smoothing': 0.0012328467394420659}\n",
      "0.881690 (0.012838) with: {'algo_nb__var_smoothing': 0.001}\n",
      "0.884604 (0.010895) with: {'algo_nb__var_smoothing': 0.0008111308307896872}\n",
      "0.886434 (0.010190) with: {'algo_nb__var_smoothing': 0.0006579332246575676}\n",
      "0.887531 (0.009886) with: {'algo_nb__var_smoothing': 0.0005336699231206307}\n",
      "0.888976 (0.008525) with: {'algo_nb__var_smoothing': 0.0004328761281083057}\n",
      "0.890110 (0.007803) with: {'algo_nb__var_smoothing': 0.0003511191734215131}\n",
      "0.891226 (0.005848) with: {'algo_nb__var_smoothing': 0.0002848035868435802}\n",
      "0.892057 (0.004330) with: {'algo_nb__var_smoothing': 0.0002310129700083158}\n",
      "0.892467 (0.003772) with: {'algo_nb__var_smoothing': 0.0001873817422860383}\n",
      "0.892963 (0.003516) with: {'algo_nb__var_smoothing': 0.0001519911082952933}\n",
      "0.893260 (0.003341) with: {'algo_nb__var_smoothing': 0.0001232846739442066}\n",
      "0.893477 (0.003257) with: {'algo_nb__var_smoothing': 0.0001}\n",
      "0.893769 (0.003153) with: {'algo_nb__var_smoothing': 8.111308307896872e-05}\n",
      "0.893955 (0.003130) with: {'algo_nb__var_smoothing': 6.579332246575683e-05}\n",
      "0.894097 (0.003105) with: {'algo_nb__var_smoothing': 5.3366992312063123e-05}\n",
      "0.894246 (0.003064) with: {'algo_nb__var_smoothing': 4.328761281083062e-05}\n",
      "0.894413 (0.003029) with: {'algo_nb__var_smoothing': 3.511191734215127e-05}\n",
      "0.894432 (0.002978) with: {'algo_nb__var_smoothing': 2.848035868435799e-05}\n",
      "0.894575 (0.002998) with: {'algo_nb__var_smoothing': 2.310129700083158e-05}\n",
      "0.894674 (0.002967) with: {'algo_nb__var_smoothing': 1.873817422860383e-05}\n",
      "0.894785 (0.002948) with: {'algo_nb__var_smoothing': 1.5199110829529332e-05}\n",
      "0.894835 (0.002954) with: {'algo_nb__var_smoothing': 1.2328467394420658e-05}\n",
      "0.894872 (0.002912) with: {'algo_nb__var_smoothing': 1e-05}\n",
      "0.894922 (0.002923) with: {'algo_nb__var_smoothing': 8.111308307896873e-06}\n",
      "0.894860 (0.002897) with: {'algo_nb__var_smoothing': 6.579332246575683e-06}\n",
      "0.894872 (0.002894) with: {'algo_nb__var_smoothing': 5.336699231206313e-06}\n",
      "0.894860 (0.002916) with: {'algo_nb__var_smoothing': 4.328761281083053e-06}\n",
      "0.894878 (0.002944) with: {'algo_nb__var_smoothing': 3.5111917342151275e-06}\n",
      "0.894928 (0.002981) with: {'algo_nb__var_smoothing': 2.848035868435799e-06}\n",
      "0.895033 (0.003128) with: {'algo_nb__var_smoothing': 2.310129700083158e-06}\n",
      "0.895071 (0.003129) with: {'algo_nb__var_smoothing': 1.873817422860383e-06}\n",
      "0.895095 (0.003145) with: {'algo_nb__var_smoothing': 1.519911082952933e-06}\n",
      "0.895120 (0.003120) with: {'algo_nb__var_smoothing': 1.232846739442066e-06}\n",
      "0.895219 (0.003181) with: {'algo_nb__var_smoothing': 1e-06}\n",
      "0.895250 (0.003210) with: {'algo_nb__var_smoothing': 8.111308307896872e-07}\n",
      "0.895269 (0.003232) with: {'algo_nb__var_smoothing': 6.579332246575682e-07}\n",
      "0.895238 (0.003188) with: {'algo_nb__var_smoothing': 5.336699231206313e-07}\n",
      "0.895226 (0.003161) with: {'algo_nb__var_smoothing': 4.3287612810830526e-07}\n",
      "0.895207 (0.003144) with: {'algo_nb__var_smoothing': 3.5111917342151277e-07}\n",
      "0.895201 (0.003141) with: {'algo_nb__var_smoothing': 2.848035868435799e-07}\n",
      "0.895219 (0.003191) with: {'algo_nb__var_smoothing': 2.310129700083158e-07}\n",
      "0.895188 (0.003164) with: {'algo_nb__var_smoothing': 1.873817422860383e-07}\n",
      "0.895164 (0.003125) with: {'algo_nb__var_smoothing': 1.519911082952933e-07}\n",
      "0.895133 (0.003065) with: {'algo_nb__var_smoothing': 1.232846739442066e-07}\n",
      "0.895176 (0.003106) with: {'algo_nb__var_smoothing': 1e-07}\n",
      "0.895201 (0.003143) with: {'algo_nb__var_smoothing': 8.111308307896873e-08}\n",
      "0.895213 (0.003137) with: {'algo_nb__var_smoothing': 6.579332246575682e-08}\n",
      "0.895232 (0.003191) with: {'algo_nb__var_smoothing': 5.336699231206302e-08}\n",
      "0.895244 (0.003184) with: {'algo_nb__var_smoothing': 4.3287612810830526e-08}\n",
      "0.895269 (0.003213) with: {'algo_nb__var_smoothing': 3.5111917342151277e-08}\n",
      "0.895281 (0.003214) with: {'algo_nb__var_smoothing': 2.848035868435799e-08}\n",
      "0.895263 (0.003196) with: {'algo_nb__var_smoothing': 2.310129700083158e-08}\n",
      "0.895281 (0.003229) with: {'algo_nb__var_smoothing': 1.873817422860383e-08}\n",
      "0.895294 (0.003240) with: {'algo_nb__var_smoothing': 1.519911082952933e-08}\n",
      "0.895288 (0.003227) with: {'algo_nb__var_smoothing': 1.232846739442066e-08}\n",
      "0.895269 (0.003201) with: {'algo_nb__var_smoothing': 1e-08}\n",
      "0.895269 (0.003191) with: {'algo_nb__var_smoothing': 8.111308307896856e-09}\n",
      "0.895269 (0.003193) with: {'algo_nb__var_smoothing': 6.579332246575682e-09}\n",
      "0.895275 (0.003209) with: {'algo_nb__var_smoothing': 5.336699231206302e-09}\n",
      "0.895306 (0.003297) with: {'algo_nb__var_smoothing': 4.328761281083061e-09}\n",
      "0.895312 (0.003332) with: {'algo_nb__var_smoothing': 3.5111917342151273e-09}\n",
      "0.895343 (0.003399) with: {'algo_nb__var_smoothing': 2.848035868435805e-09}\n",
      "0.895399 (0.003486) with: {'algo_nb__var_smoothing': 2.310129700083158e-09}\n",
      "0.895449 (0.003566) with: {'algo_nb__var_smoothing': 1.873817422860387e-09}\n",
      "0.895467 (0.003581) with: {'algo_nb__var_smoothing': 1.519911082952933e-09}\n",
      "0.895511 (0.003617) with: {'algo_nb__var_smoothing': 1.2328467394420635e-09}\n",
      "0.895567 (0.003685) with: {'algo_nb__var_smoothing': 1e-09}\n"
     ]
    }
   ],
   "source": [
    "# summarize results\n",
    "print(\"Best: %f using %s\" % (model_nb.best_score_, model_nb.best_params_))\n",
    "means = model_nb.cv_results_['mean_test_score']\n",
    "stds = model_nb.cv_results_['std_test_score']\n",
    "params = model_nb.cv_results_['params']\n",
    "for mean, stdev, param in zip(means, stds, params):\n",
    "    print(\"%f (%f) with: %r\" % (mean, stdev, param))"
   ]
  },
  {
   "cell_type": "code",
   "execution_count": 153,
   "metadata": {},
   "outputs": [
    {
     "name": "stdout",
     "output_type": "stream",
     "text": [
      "              precision    recall  f1-score   support\n",
      "\n",
      "           0       0.98      0.86      0.92      7214\n",
      "           1       0.42      0.86      0.57       851\n",
      "\n",
      "    accuracy                           0.86      8065\n",
      "   macro avg       0.70      0.86      0.74      8065\n",
      "weighted avg       0.92      0.86      0.88      8065\n",
      "\n"
     ]
    }
   ],
   "source": [
    "y_pred = model_svm.predict(X_test)\n",
    "\n",
    "print(classification_report(y_test, y_pred))"
   ]
  },
  {
   "cell_type": "markdown",
   "metadata": {},
   "source": [
    "Hasil Hyperparameter Tuning yaitu:\n",
    "\n",
    "Recall untuk variabel target 'y'=1 adalah 86% dan variabel target 'y'=0 adalah 86% kedua metric seimbang dan hasil hyperparamter tuning untuk metric recall cukup meningkat secara signifikan."
   ]
  },
  {
   "cell_type": "code",
   "execution_count": 154,
   "metadata": {},
   "outputs": [
    {
     "data": {
      "text/plain": [
       "<sklearn.metrics._plot.roc_curve.RocCurveDisplay at 0x1e6585ba8b0>"
      ]
     },
     "execution_count": 154,
     "metadata": {},
     "output_type": "execute_result"
    },
    {
     "data": {
      "image/png": "[encoded data removed]",
      "text/plain": [
       "<Figure size 720x432 with 1 Axes>"
      ]
     },
     "metadata": {},
     "output_type": "display_data"
    }
   ],
   "source": [
    "RocCurveDisplay.from_estimator(model_nb, X_test, y_test)"
   ]
  },
  {
   "cell_type": "markdown",
   "metadata": {},
   "source": [
    "Dari ROC-AUC Curve dapat disimpulkan bahwa peluang model bisa memprediksi kelas positif dan negatif secara benar adalah 85% "
   ]
  },
  {
   "cell_type": "markdown",
   "metadata": {},
   "source": [
    "### Pendefinisian Model\n",
    "\n",
    "**Stochastic Gradient Boosting**"
   ]
  },
  {
   "cell_type": "code",
   "execution_count": 160,
   "metadata": {},
   "outputs": [],
   "source": [
    "from sklearn.ensemble import GradientBoostingClassifier\n",
    "\n",
    "sgb = GradientBoostingClassifier()\n",
    "\n",
    "pipeline_sgb = pip([\n",
    "                      (\"prep_sgb\", preprocessor),\n",
    "                      ('random', RandomOverSampler(random_state=42)),\n",
    "                      (\"algo_sgb\", sgb)\n",
    "                      ])"
   ]
  },
  {
   "cell_type": "markdown",
   "metadata": {},
   "source": [
    "### Pelatihan Model"
   ]
  },
  {
   "cell_type": "code",
   "execution_count": 161,
   "metadata": {},
   "outputs": [
    {
     "data": {
      "text/plain": [
       "Pipeline(steps=[('prep_sgb',\n",
       "                 ColumnTransformer(transformers=[('numeric',\n",
       "                                                  Pipeline(steps=[('scaler',\n",
       "                                                                   MinMaxScaler())]),\n",
       "                                                  Index(['duration_minutes', 'euribor3m', 'cons.price.idx', 'cons.conf.idx',\n",
       "       'nr.employed', 'emp.var.rate', 'previous'],\n",
       "      dtype='object')),\n",
       "                                                 ('categoric',\n",
       "                                                  Pipeline(steps=[('onehot',\n",
       "                                                                   OneHotEncoder())]),\n",
       "                                                  ['poutcome', 'contact',\n",
       "                                                   'pdays_perweek'])])),\n",
       "                ('random', RandomOverSampler(random_state=42)),\n",
       "                ('algo_sgb', GradientBoostingClassifier())])"
      ]
     },
     "execution_count": 161,
     "metadata": {},
     "output_type": "execute_result"
    }
   ],
   "source": [
    "pipeline_sgb.fit(X_train, y_train)"
   ]
  },
  {
   "cell_type": "markdown",
   "metadata": {},
   "source": [
    "### Evaluasi Model"
   ]
  },
  {
   "cell_type": "code",
   "execution_count": 165,
   "metadata": {},
   "outputs": [
    {
     "data": {
      "text/plain": [
       "0.8533916170634921"
      ]
     },
     "execution_count": 165,
     "metadata": {},
     "output_type": "execute_result"
    }
   ],
   "source": [
    "pipeline_sgb.score(X_train, y_train)"
   ]
  },
  {
   "cell_type": "code",
   "execution_count": 166,
   "metadata": {},
   "outputs": [
    {
     "name": "stdout",
     "output_type": "stream",
     "text": [
      "              precision    recall  f1-score   support\n",
      "\n",
      "           0       0.99      0.84      0.91      7214\n",
      "           1       0.40      0.93      0.56       851\n",
      "\n",
      "    accuracy                           0.85      8065\n",
      "   macro avg       0.70      0.89      0.74      8065\n",
      "weighted avg       0.93      0.85      0.87      8065\n",
      "\n"
     ]
    }
   ],
   "source": [
    "y_pred = pipeline_sgb.predict(X_test)\n",
    "\n",
    "print(classification_report(y_test, y_pred))"
   ]
  },
  {
   "cell_type": "markdown",
   "metadata": {},
   "source": [
    "Recall untuk variabel target 'y'=1 adalah 93% dan variabel target 'y'=0 adalah 84%, Recall untuk 'y'=1 memiliki nilai yang lebih bagus meskipun tidak signifikan"
   ]
  },
  {
   "cell_type": "code",
   "execution_count": 167,
   "metadata": {},
   "outputs": [
    {
     "data": {
      "text/plain": [
       "<sklearn.metrics._plot.roc_curve.RocCurveDisplay at 0x1e658090220>"
      ]
     },
     "execution_count": 167,
     "metadata": {},
     "output_type": "execute_result"
    },
    {
     "data": {
      "image/png": "[encoded data removed]",
      "text/plain": [
       "<Figure size 720x432 with 1 Axes>"
      ]
     },
     "metadata": {},
     "output_type": "display_data"
    }
   ],
   "source": [
    "RocCurveDisplay.from_estimator(model_nb, X_test, y_test)"
   ]
  },
  {
   "cell_type": "markdown",
   "metadata": {},
   "source": [
    "Dari ROC-AUC Curve dapat disimpulkan bahwa peluang model bisa memprediksi kelas positif dan negatif secara benar adalah 85% "
   ]
  },
  {
   "cell_type": "markdown",
   "metadata": {},
   "source": [
    "#### Hyperparameter Tuning"
   ]
  },
  {
   "cell_type": "markdown",
   "metadata": {},
   "source": [
    "Kita pilih jumlah pohon (n_estimators) 100 dan 200, learning rate digunakan untuk mengontrol bobot pohon baru yang ditambahkan ke model, kedalaman pohon maximum 10 dan memilih subsample kurang dari 1 sebagai parameter SGB juga untuk mengurangi varians dan meningkatkan bias"
   ]
  },
  {
   "cell_type": "code",
   "execution_count": 174,
   "metadata": {},
   "outputs": [],
   "source": [
    "parameter_sgb = {\n",
    "    \"algo_sgb__n_estimators\":  [100, 200],\n",
    "    \"algo_sgb__learning_rate\": [0.001, 0.01],\n",
    "    \"algo_sgb__subsample\": [0.5, 0.7],\n",
    "    \"algo_sgb__max_depth\": [10]\n",
    "}"
   ]
  },
  {
   "cell_type": "code",
   "execution_count": 175,
   "metadata": {},
   "outputs": [],
   "source": [
    "cv = RepeatedStratifiedKFold(n_splits=5, n_repeats=5, random_state=1)\n",
    "model_sgb = GridSearchCV(pipeline_sgb, param_grid= parameter_sgb, cv = cv, n_jobs=-1, verbose=1)"
   ]
  },
  {
   "cell_type": "code",
   "execution_count": 176,
   "metadata": {},
   "outputs": [
    {
     "name": "stdout",
     "output_type": "stream",
     "text": [
      "Fitting 25 folds for each of 8 candidates, totalling 200 fits\n"
     ]
    },
    {
     "data": {
      "text/plain": [
       "GridSearchCV(cv=RepeatedStratifiedKFold(n_repeats=5, n_splits=5, random_state=1),\n",
       "             estimator=Pipeline(steps=[('prep_sgb',\n",
       "                                        ColumnTransformer(transformers=[('numeric',\n",
       "                                                                         Pipeline(steps=[('scaler',\n",
       "                                                                                          MinMaxScaler())]),\n",
       "                                                                         Index(['duration_minutes', 'euribor3m', 'cons.price.idx', 'cons.conf.idx',\n",
       "       'nr.employed', 'emp.var.rate', 'previous'],\n",
       "      dtype='object')),\n",
       "                                                                        ('categoric',\n",
       "                                                                         Pipeline(steps=[('onehot',\n",
       "                                                                                          OneHotEncoder())]),\n",
       "                                                                         ['poutcome',\n",
       "                                                                          'contact',\n",
       "                                                                          'pdays_perweek'])])),\n",
       "                                       ('random',\n",
       "                                        RandomOverSampler(random_state=42)),\n",
       "                                       ('algo_sgb',\n",
       "                                        GradientBoostingClassifier())]),\n",
       "             n_jobs=-1,\n",
       "             param_grid={'algo_sgb__learning_rate': [0.001, 0.01],\n",
       "                         'algo_sgb__max_depth': [10],\n",
       "                         'algo_sgb__n_estimators': [100, 200],\n",
       "                         'algo_sgb__subsample': [0.5, 0.7]},\n",
       "             verbose=1)"
      ]
     },
     "execution_count": 176,
     "metadata": {},
     "output_type": "execute_result"
    }
   ],
   "source": [
    "model_sgb.fit(X_train, y_train)"
   ]
  },
  {
   "cell_type": "code",
   "execution_count": 177,
   "metadata": {},
   "outputs": [
    {
     "name": "stdout",
     "output_type": "stream",
     "text": [
      "Best: 0.877313 using {'algo_sgb__learning_rate': 0.01, 'algo_sgb__max_depth': 10, 'algo_sgb__n_estimators': 200, 'algo_sgb__subsample': 0.7}\n",
      "0.867045 (0.004591) with: {'algo_sgb__learning_rate': 0.001, 'algo_sgb__max_depth': 10, 'algo_sgb__n_estimators': 100, 'algo_sgb__subsample': 0.5}\n",
      "0.866295 (0.004639) with: {'algo_sgb__learning_rate': 0.001, 'algo_sgb__max_depth': 10, 'algo_sgb__n_estimators': 100, 'algo_sgb__subsample': 0.7}\n",
      "0.867181 (0.004366) with: {'algo_sgb__learning_rate': 0.001, 'algo_sgb__max_depth': 10, 'algo_sgb__n_estimators': 200, 'algo_sgb__subsample': 0.5}\n",
      "0.866902 (0.004656) with: {'algo_sgb__learning_rate': 0.001, 'algo_sgb__max_depth': 10, 'algo_sgb__n_estimators': 200, 'algo_sgb__subsample': 0.7}\n",
      "0.872315 (0.003867) with: {'algo_sgb__learning_rate': 0.01, 'algo_sgb__max_depth': 10, 'algo_sgb__n_estimators': 100, 'algo_sgb__subsample': 0.5}\n",
      "0.871931 (0.004037) with: {'algo_sgb__learning_rate': 0.01, 'algo_sgb__max_depth': 10, 'algo_sgb__n_estimators': 100, 'algo_sgb__subsample': 0.7}\n",
      "0.877300 (0.003881) with: {'algo_sgb__learning_rate': 0.01, 'algo_sgb__max_depth': 10, 'algo_sgb__n_estimators': 200, 'algo_sgb__subsample': 0.5}\n",
      "0.877313 (0.003959) with: {'algo_sgb__learning_rate': 0.01, 'algo_sgb__max_depth': 10, 'algo_sgb__n_estimators': 200, 'algo_sgb__subsample': 0.7}\n"
     ]
    }
   ],
   "source": [
    "# summarize results\n",
    "print(\"Best: %f using %s\" % (model_sgb.best_score_, model_sgb.best_params_))\n",
    "means = model_sgb.cv_results_['mean_test_score']\n",
    "stds = model_sgb.cv_results_['std_test_score']\n",
    "params = model_sgb.cv_results_['params']\n",
    "for mean, stdev, param in zip(means, stds, params):\n",
    "    print(\"%f (%f) with: %r\" % (mean, stdev, param))"
   ]
  },
  {
   "cell_type": "code",
   "execution_count": 178,
   "metadata": {},
   "outputs": [
    {
     "name": "stdout",
     "output_type": "stream",
     "text": [
      "              precision    recall  f1-score   support\n",
      "\n",
      "           0       0.98      0.88      0.93      7214\n",
      "           1       0.45      0.86      0.59       851\n",
      "\n",
      "    accuracy                           0.87      8065\n",
      "   macro avg       0.72      0.87      0.76      8065\n",
      "weighted avg       0.93      0.87      0.89      8065\n",
      "\n"
     ]
    }
   ],
   "source": [
    "y_pred = model_sgb.predict(X_test)\n",
    "\n",
    "print(classification_report(y_test, y_pred))"
   ]
  },
  {
   "cell_type": "markdown",
   "metadata": {},
   "source": [
    "Hasil Hyperparameter Tuning membuat metric recal dari dua nilai traget label menjadi seimbang dengan rincian sebagai berikut:\n",
    "\n",
    "Recall untuk variabel target 'y'=1 adalah 86% dan variabel target 'y'=0 adalah 88%"
   ]
  },
  {
   "cell_type": "code",
   "execution_count": 179,
   "metadata": {},
   "outputs": [
    {
     "data": {
      "text/plain": [
       "<sklearn.metrics._plot.roc_curve.RocCurveDisplay at 0x1e658ddd910>"
      ]
     },
     "execution_count": 179,
     "metadata": {},
     "output_type": "execute_result"
    },
    {
     "data": {
      "image/png": "[encoded data removed]",
      "text/plain": [
       "<Figure size 720x432 with 1 Axes>"
      ]
     },
     "metadata": {},
     "output_type": "display_data"
    }
   ],
   "source": [
    "RocCurveDisplay.from_estimator(model_sgb, X_test, y_test)"
   ]
  },
  {
   "cell_type": "markdown",
   "metadata": {},
   "source": [
    "Dari ROC-AUC Curve dapat disimpulkan bahwa peluang model bisa memprediksi kelas positif dan negatif secara benar adalah 94% "
   ]
  },
  {
   "cell_type": "markdown",
   "metadata": {},
   "source": [
    "## Model Inference"
   ]
  },
  {
   "cell_type": "code",
   "execution_count": 180,
   "metadata": {},
   "outputs": [
    {
     "data": {
      "text/html": [
       "<div>\n",
       "<style scoped>\n",
       "    .dataframe tbody tr th:only-of-type {\n",
       "        vertical-align: middle;\n",
       "    }\n",
       "\n",
       "    .dataframe tbody tr th {\n",
       "        vertical-align: top;\n",
       "    }\n",
       "\n",
       "    .dataframe thead th {\n",
       "        text-align: right;\n",
       "    }\n",
       "</style>\n",
       "<table border=\"1\" class=\"dataframe\">\n",
       "  <thead>\n",
       "    <tr style=\"text-align: right;\">\n",
       "      <th></th>\n",
       "      <th>duration_minutes</th>\n",
       "      <th>euribor3m</th>\n",
       "      <th>cons.price.idx</th>\n",
       "      <th>cons.conf.idx</th>\n",
       "      <th>nr.employed</th>\n",
       "      <th>emp.var.rate</th>\n",
       "      <th>previous</th>\n",
       "      <th>poutcome</th>\n",
       "      <th>contact</th>\n",
       "      <th>pdays_perweek</th>\n",
       "    </tr>\n",
       "  </thead>\n",
       "  <tbody>\n",
       "    <tr>\n",
       "      <th>4204</th>\n",
       "      <td>1.45</td>\n",
       "      <td>4.858</td>\n",
       "      <td>93.994</td>\n",
       "      <td>-36.4</td>\n",
       "      <td>5191.0</td>\n",
       "      <td>1.1</td>\n",
       "      <td>0</td>\n",
       "      <td>nonexistent</td>\n",
       "      <td>telephone</td>\n",
       "      <td>notpreviouslycontacted</td>\n",
       "    </tr>\n",
       "  </tbody>\n",
       "</table>\n",
       "</div>"
      ],
      "text/plain": [
       "      duration_minutes  euribor3m  cons.price.idx  cons.conf.idx  nr.employed  \\\n",
       "4204              1.45      4.858          93.994          -36.4       5191.0   \n",
       "\n",
       "      emp.var.rate  previous     poutcome    contact           pdays_perweek  \n",
       "4204           1.1         0  nonexistent  telephone  notpreviouslycontacted  "
      ]
     },
     "execution_count": 180,
     "metadata": {},
     "output_type": "execute_result"
    }
   ],
   "source": [
    "# Check data train sebaga role model untuk prediksi data baru\n",
    "X_train.iloc[0:1]"
   ]
  },
  {
   "cell_type": "code",
   "execution_count": 182,
   "metadata": {},
   "outputs": [
    {
     "data": {
      "text/html": [
       "<div>\n",
       "<style scoped>\n",
       "    .dataframe tbody tr th:only-of-type {\n",
       "        vertical-align: middle;\n",
       "    }\n",
       "\n",
       "    .dataframe tbody tr th {\n",
       "        vertical-align: top;\n",
       "    }\n",
       "\n",
       "    .dataframe thead th {\n",
       "        text-align: right;\n",
       "    }\n",
       "</style>\n",
       "<table border=\"1\" class=\"dataframe\">\n",
       "  <thead>\n",
       "    <tr style=\"text-align: right;\">\n",
       "      <th></th>\n",
       "      <th>duration_minutes</th>\n",
       "      <th>euribor3m</th>\n",
       "      <th>cons.price.idx</th>\n",
       "      <th>cons.conf.idx</th>\n",
       "      <th>nr.employed</th>\n",
       "      <th>emp.var.rate</th>\n",
       "      <th>previous</th>\n",
       "      <th>poutcome</th>\n",
       "      <th>contact</th>\n",
       "      <th>pdays_perweek</th>\n",
       "    </tr>\n",
       "  </thead>\n",
       "  <tbody>\n",
       "    <tr>\n",
       "      <th>1</th>\n",
       "      <td>5</td>\n",
       "      <td>4.2</td>\n",
       "      <td>93.9</td>\n",
       "      <td>-36</td>\n",
       "      <td>5193.0</td>\n",
       "      <td>1.1</td>\n",
       "      <td>0</td>\n",
       "      <td>nonexistent</td>\n",
       "      <td>telephone</td>\n",
       "      <td>week1</td>\n",
       "    </tr>\n",
       "    <tr>\n",
       "      <th>2</th>\n",
       "      <td>60</td>\n",
       "      <td>3.0</td>\n",
       "      <td>92.0</td>\n",
       "      <td>-40</td>\n",
       "      <td>5193.0</td>\n",
       "      <td>1.0</td>\n",
       "      <td>3</td>\n",
       "      <td>nonexistent</td>\n",
       "      <td>cellular</td>\n",
       "      <td>week4</td>\n",
       "    </tr>\n",
       "  </tbody>\n",
       "</table>\n",
       "</div>"
      ],
      "text/plain": [
       "   duration_minutes  euribor3m  cons.price.idx  cons.conf.idx  nr.employed  \\\n",
       "1                 5        4.2            93.9            -36       5193.0   \n",
       "2                60        3.0            92.0            -40       5193.0   \n",
       "\n",
       "   emp.var.rate  previous     poutcome    contact pdays_perweek  \n",
       "1           1.1         0  nonexistent  telephone         week1  \n",
       "2           1.0         3  nonexistent   cellular         week4  "
      ]
     },
     "execution_count": 182,
     "metadata": {},
     "output_type": "execute_result"
    }
   ],
   "source": [
    "data = [\n",
    "        [5, 4.2, 93.9, -36, 5193.0, 1.1, 0, 'nonexistent', 'telephone', 'week1'],\n",
    "        [60, 3.0, 92.0, -40, 5193.0, 1.0, 3, 'nonexistent', 'cellular', 'week4']\n",
    "\n",
    "      ]\n",
    "X_pred = pd.DataFrame(data, index=[1, 2], columns=X.columns)\n",
    "X_pred"
   ]
  },
  {
   "cell_type": "code",
   "execution_count": 199,
   "metadata": {},
   "outputs": [
    {
     "name": "stdout",
     "output_type": "stream",
     "text": [
      "prediksi data model logistic regression [0 1]\n",
      "----------------------------------------------------------------------------------------------------\n",
      "prediksi data model svm [0 1]\n",
      "----------------------------------------------------------------------------------------------------\n",
      "prediksi data model decision tree [0 1]\n",
      "----------------------------------------------------------------------------------------------------\n",
      "prediksi data model random forest [0 0]\n",
      "----------------------------------------------------------------------------------------------------\n",
      "prediksi data model KNN [0 1]\n",
      "----------------------------------------------------------------------------------------------------\n",
      "prediksi data model Naive Bayes [1 1]\n",
      "----------------------------------------------------------------------------------------------------\n",
      "prediksi data model Stochastic Gradient Boosting [0 0]\n"
     ]
    }
   ],
   "source": [
    "# Prediksi Model\n",
    "print(\"prediksi data model logistic regression\", model_clf.predict(X_pred))\n",
    "print(\"-\"*100)\n",
    "print(\"prediksi data model svm\", model_svm.predict(X_pred))\n",
    "print(\"-\"*100)\n",
    "print(\"prediksi data model decision tree\", model_tree.predict(X_pred))\n",
    "print(\"-\"*100)\n",
    "print(\"prediksi data model random forest\", model_rf.predict(X_pred))\n",
    "print(\"-\"*100)\n",
    "print(\"prediksi data model KNN\", pipeline_knn.predict(X_pred))\n",
    "print(\"-\"*100)\n",
    "print(\"prediksi data model Naive Bayes\", model_nb.predict(X_pred))\n",
    "print(\"-\"*100)\n",
    "print(\"prediksi data model Stochastic Gradient Boosting\", model_sgb.predict(X_pred))\n"
   ]
  },
  {
   "cell_type": "markdown",
   "metadata": {},
   "source": [
    "Model logistic regression, svm, decision tree, dan KNN memprediksi kedua data dengan [0, 1] artinya salah satu akan melakukan deposit, sedangkan untuk random forest dan SGB [0, 0] artinya keduanya tidak akan melakukan deposit, dan Naive Bayes [1, 1] artinya keduanya akan melakukan deposit"
   ]
  },
  {
   "cell_type": "markdown",
   "metadata": {},
   "source": [
    "## Pengambilan Kesimpulan"
   ]
  },
  {
   "cell_type": "code",
   "execution_count": 211,
   "metadata": {},
   "outputs": [
    {
     "name": "stdout",
     "output_type": "stream",
     "text": [
      "----------------------------Metric Recall All Model-----------------------------\n"
     ]
    },
    {
     "data": {
      "text/html": [
       "<div>\n",
       "<style scoped>\n",
       "    .dataframe tbody tr th:only-of-type {\n",
       "        vertical-align: middle;\n",
       "    }\n",
       "\n",
       "    .dataframe tbody tr th {\n",
       "        vertical-align: top;\n",
       "    }\n",
       "\n",
       "    .dataframe thead th {\n",
       "        text-align: right;\n",
       "    }\n",
       "</style>\n",
       "<table border=\"1\" class=\"dataframe\">\n",
       "  <thead>\n",
       "    <tr style=\"text-align: right;\">\n",
       "      <th></th>\n",
       "      <th>baseline_0</th>\n",
       "      <th>baseline_1</th>\n",
       "      <th>hyper_0</th>\n",
       "      <th>hyper_1</th>\n",
       "    </tr>\n",
       "  </thead>\n",
       "  <tbody>\n",
       "    <tr>\n",
       "      <th>logistic regression</th>\n",
       "      <td>0.86</td>\n",
       "      <td>0.85</td>\n",
       "      <td>0.86</td>\n",
       "      <td>0.85</td>\n",
       "    </tr>\n",
       "    <tr>\n",
       "      <th>support vector machine</th>\n",
       "      <td>0.85</td>\n",
       "      <td>0.90</td>\n",
       "      <td>0.86</td>\n",
       "      <td>0.86</td>\n",
       "    </tr>\n",
       "    <tr>\n",
       "      <th>decision tree</th>\n",
       "      <td>0.94</td>\n",
       "      <td>0.50</td>\n",
       "      <td>0.85</td>\n",
       "      <td>0.83</td>\n",
       "    </tr>\n",
       "    <tr>\n",
       "      <th>random forest</th>\n",
       "      <td>0.94</td>\n",
       "      <td>0.58</td>\n",
       "      <td>0.94</td>\n",
       "      <td>0.57</td>\n",
       "    </tr>\n",
       "    <tr>\n",
       "      <th>k-nearest neighbors</th>\n",
       "      <td>0.88</td>\n",
       "      <td>0.80</td>\n",
       "      <td>0.94</td>\n",
       "      <td>0.49</td>\n",
       "    </tr>\n",
       "    <tr>\n",
       "      <th>naive bayes</th>\n",
       "      <td>0.96</td>\n",
       "      <td>0.34</td>\n",
       "      <td>0.86</td>\n",
       "      <td>0.86</td>\n",
       "    </tr>\n",
       "    <tr>\n",
       "      <th>stochastics gradient bosting</th>\n",
       "      <td>0.84</td>\n",
       "      <td>0.93</td>\n",
       "      <td>0.88</td>\n",
       "      <td>0.86</td>\n",
       "    </tr>\n",
       "  </tbody>\n",
       "</table>\n",
       "</div>"
      ],
      "text/plain": [
       "                              baseline_0  baseline_1  hyper_0  hyper_1\n",
       "logistic regression                 0.86        0.85     0.86     0.85\n",
       "support vector machine              0.85        0.90     0.86     0.86\n",
       "decision tree                       0.94        0.50     0.85     0.83\n",
       "random forest                       0.94        0.58     0.94     0.57\n",
       "k-nearest neighbors                 0.88        0.80     0.94     0.49\n",
       "naive bayes                         0.96        0.34     0.86     0.86\n",
       "stochastics gradient bosting        0.84        0.93     0.88     0.86"
      ]
     },
     "execution_count": 211,
     "metadata": {},
     "output_type": "execute_result"
    }
   ],
   "source": [
    "d = {'baseline_0': [0.86, 0.85, 0.94, 0.94, 0.88, 0.96, 0.84], 'baseline_1': [0.85, 0.90, 0.50, 0.58, 0.80, 0.34, 0.93], 'hyper_0': [0.86, 0.86, 0.85, 0.94, 0.94, 0.86, 0.88], 'hyper_1':[0.85, 0.86, 0.83, 0.57, 0.49, 0.86, 0.86]}\n",
    "\n",
    "recall_results = pd.DataFrame(data=d, index=['logistic regression', 'support vector machine', 'decision tree', 'random forest', 'k-nearest neighbors', 'naive bayes', 'stochastics gradient bosting'])\n",
    "print('----------------------------Metric Recall All Model-----------------------------')\n",
    "recall_results"
   ]
  },
  {
   "cell_type": "markdown",
   "metadata": {},
   "source": [
    "### Results\n",
    "\n",
    "Berdasarkan beberapa model Machine Learning yang telah kita buat untuk data bank yang kita gunakan dengan tujuan memprediksi seseorang/calon nasabah yang potential untuk melakukan deposit dengan melihat metric recall dapat disimpulkan bahwa model machine learning yang cukup bagus untuk digunakan adalah logistic regression dan svm (baseline model atau hyperparameter model), sedangkan untuk decision tree dan naive bayes cukup bagus digunakan hanya untuk hyperparameter model, untuk model random forest tidak cukup bagus untuk memprediksi dengan data yang kita gunakan. Model Stochastics Gradient Boosting untuk baseline model mengalami overfitting kemudian hasil hyperparamter tuning membuat model lebih baik."
   ]
  }
 ],
 "metadata": {
  "interpreter": {
   "hash": "110f0df45e1191da7809021d0b497e6f6071b07328a6e239c9d83d6f6aa1e854"
  },
  "kernelspec": {
   "display_name": "Python 3.8.8 64-bit",
   "language": "python",
   "name": "python3"
  },
  "language_info": {
   "codemirror_mode": {
    "name": "ipython",
    "version": 3
   },
   "file_extension": ".py",
   "mimetype": "text/x-python",
   "name": "python",
   "nbconvert_exporter": "python",
   "pygments_lexer": "ipython3",
   "version": "3.8.8"
  },
  "orig_nbformat": 4
 },
 "nbformat": 4,
 "nbformat_minor": 2
}
