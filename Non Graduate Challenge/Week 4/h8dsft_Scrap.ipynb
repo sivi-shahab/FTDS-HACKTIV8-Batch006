{
 "cells": [
  {
   "cell_type": "markdown",
   "metadata": {},
   "source": [
    "- Lakukan web scraping terhadap website berikut:\n",
    "https://www.imdb.com/search/title/?genres=animation\n",
    "\n",
    "- Extract data Judul, Rating, Deskripsi, Votes. serta\n",
    "Poster."
   ]
  },
  {
   "cell_type": "markdown",
   "metadata": {},
   "source": []
  }
 ],
 "metadata": {
  "language_info": {
   "name": "python"
  },
  "orig_nbformat": 4
 },
 "nbformat": 4,
 "nbformat_minor": 2
}
