{
 "cells": [
  {
   "cell_type": "markdown",
   "metadata": {},
   "source": [
    "## Tasks"
   ]
  },
  {
   "cell_type": "markdown",
   "metadata": {},
   "source": [
    "- Lakukan web scraping terhadap website berikut:\n",
    "https://www.imdb.com/search/title/?genres=animation\n",
    "\n",
    "- Extract data Judul, Rating, Deskripsi, Votes. serta\n",
    "Poster."
   ]
  },
  {
   "cell_type": "markdown",
   "metadata": {},
   "source": [
    "## Import the Packages"
   ]
  },
  {
   "cell_type": "code",
   "execution_count": 4,
   "metadata": {},
   "outputs": [],
   "source": [
    "import pandas as pd ## To convert into data frame\n",
    "import numpy as np\n",
    "from time import sleep\n",
    "import requests ## To generate the request to download HTML data \n",
    "from bs4 import BeautifulSoup as bsoup ## Beautiful Soup to parse the HTML files "
   ]
  },
  {
   "cell_type": "code",
   "execution_count": null,
   "metadata": {},
   "outputs": [],
   "source": [
    "#Declaring variables to store the data\n",
    "title = [] # The title of the movie\n",
    "years = [] # Year of release\n",
    "time = [] # duration in minutes\n",
    "imdb_ratings = [] # ratings\n",
    "metascores = [] # metascores\n",
    "votes = [] # Number of votes\n",
    "us_gross = [] # Gross collection\n",
    "\n",
    "\n"
   ]
  },
  {
   "cell_type": "code",
   "execution_count": null,
   "metadata": {},
   "outputs": [],
   "source": []
  },
  {
   "cell_type": "code",
   "execution_count": null,
   "metadata": {},
   "outputs": [],
   "source": []
  }
 ],
 "metadata": {
  "interpreter": {
   "hash": "110f0df45e1191da7809021d0b497e6f6071b07328a6e239c9d83d6f6aa1e854"
  },
  "kernelspec": {
   "display_name": "Python 3.8.8 64-bit",
   "language": "python",
   "name": "python3"
  },
  "language_info": {
   "codemirror_mode": {
    "name": "ipython",
    "version": 3
   },
   "file_extension": ".py",
   "mimetype": "text/x-python",
   "name": "python",
   "nbconvert_exporter": "python",
   "pygments_lexer": "ipython3",
   "version": "3.8.8"
  },
  "orig_nbformat": 4
 },
 "nbformat": 4,
 "nbformat_minor": 2
}
