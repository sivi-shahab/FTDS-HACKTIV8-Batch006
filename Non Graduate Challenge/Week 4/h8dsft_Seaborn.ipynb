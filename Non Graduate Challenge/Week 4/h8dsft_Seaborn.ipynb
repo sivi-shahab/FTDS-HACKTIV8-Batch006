{
 "cells": [
  {
   "cell_type": "markdown",
   "metadata": {},
   "source": [
    "- Unduh dataset yang akan dipakai [disini](https://www.kaggle.com/karangadiya/fifa19).\n",
    "- Buatlah visualisasi dengan data tersebut dengan\n",
    "menggunakan seaborn, adapun jenis visualisasinya berupa:\n",
    "    - Bar Plot\n",
    "    - Histogram, KDE, Density\n",
    "    - Pie Chart\n",
    "    - Pair Plot\n",
    "    - Violin Plot"
   ]
  },
  {
   "cell_type": "code",
   "execution_count": null,
   "metadata": {},
   "outputs": [],
   "source": []
  }
 ],
 "metadata": {
  "language_info": {
   "name": "python"
  },
  "orig_nbformat": 4
 },
 "nbformat": 4,
 "nbformat_minor": 2
}
