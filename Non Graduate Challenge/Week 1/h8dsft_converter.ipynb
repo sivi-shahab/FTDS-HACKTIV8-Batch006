{
  "nbformat": 4,
  "nbformat_minor": 0,
  "metadata": {
    "colab": {
      "name": "Non Graduate Challenge-2.ipynb",
      "provenance": []
    },
    "kernelspec": {
      "name": "python3",
      "display_name": "Python 3"
    },
    "language_info": {
      "name": "python"
    }
  },
  "cells": [
    {
      "cell_type": "markdown",
      "metadata": {
        "id": "DVywN-TbahTq"
      },
      "source": [
        "1. Buatlah sebuah function yang dapat mengkonversi suhu dari kelvin ke celcius, dan celcius ke kelvin.\n"
      ]
    },
    {
      "cell_type": "code",
      "metadata": {
        "id": "AiIQIZnw-WI_"
      },
      "source": [
        "def cel2kel(C):\n",
        "  '''\n",
        "  Fungsi untuk mengubah Celsius ke Kelvin\n",
        "  '''\n",
        "  K = C + 273.15\n",
        "  print(\"Nilai Suhu\", C, \"derajat Celsius ke Kelvin adalah:\")\n",
        "  return K\n",
        "\n",
        "def kel2cel(K):\n",
        "  '''\n",
        "  Fungsi untuk mengubah Kelvin ke Celsius \n",
        "  '''\n",
        "  C = K - 273.5\n",
        "  print(\"Nilai Suhu\", K, \"derajat Kelvin ke Celsius adalah:\")\n",
        "  return C"
      ],
      "execution_count": 73,
      "outputs": []
    },
    {
      "cell_type": "code",
      "metadata": {
        "colab": {
          "base_uri": "https://localhost:8080/"
        },
        "id": "W1pvcOymMRXm",
        "outputId": "6abf4a8a-e14a-4a72-a23f-83a432abc7e7"
      },
      "source": [
        "cel2kel(100)"
      ],
      "execution_count": 74,
      "outputs": [
        {
          "output_type": "stream",
          "name": "stdout",
          "text": [
            "Nilai Suhu 100 derajat Celsius ke Kelvin adalah:\n"
          ]
        },
        {
          "output_type": "execute_result",
          "data": {
            "text/plain": [
              "373.15"
            ]
          },
          "metadata": {},
          "execution_count": 74
        }
      ]
    },
    {
      "cell_type": "code",
      "metadata": {
        "colab": {
          "base_uri": "https://localhost:8080/"
        },
        "id": "qZxbiYK1M0FA",
        "outputId": "63fc4f89-96ee-4d4b-e275-da2a64f1c061"
      },
      "source": [
        "kel2cel(100)"
      ],
      "execution_count": 75,
      "outputs": [
        {
          "output_type": "stream",
          "name": "stdout",
          "text": [
            "Nilai Suhu 100 derajat Kelvin ke Celsius adalah:\n"
          ]
        },
        {
          "output_type": "execute_result",
          "data": {
            "text/plain": [
              "-173.5"
            ]
          },
          "metadata": {},
          "execution_count": 75
        }
      ]
    },
    {
      "cell_type": "markdown",
      "metadata": {
        "id": "zjRXhaAPaoG0"
      },
      "source": [
        "2. Buatlah sebuah function yang dapat mengkonversi suhu ke fahrenheit. Tambahkan parameter untuk memastikan bahwa argumen yang dimasukan adalah celcius atau kelvin. Panggil function yang pertama jika diperlukan."
      ]
    },
    {
      "cell_type": "code",
      "metadata": {
        "id": "5PY4eeom-q0T"
      },
      "source": [
        "def convert_2_fahr(suhu, mode='Celsius'):\n",
        "  '''\n",
        "  fungsi ini digunkanan unutk mengkonversi suhu celsius/reamur ke fahrenheit.\n",
        "  :param: mode: tipw suhu awal | celsius/reamur | str\n",
        "  :output suhu: suhu fahrenheit | int\n",
        "  '''\n",
        "  if mode == 'Celsius':\n",
        "    print(\"Nilai Suhu\", suhu, \"derajat Celsius ke Fahrenheit adalah:\")\n",
        "    F = (suhu * 9/5) + 32\n",
        "    return F\n",
        "  elif mode == 'Kelvin':\n",
        "    suhu = kel2cel(suhu)\n",
        "    print(suhu)\n",
        "    print(\"Nilai Suhu\", suhu, \"derajat Kelvin ke Fahrenheit adalah:\")\n",
        "    F = (suhu * 9/5) + 32\n",
        "    return F"
      ],
      "execution_count": 76,
      "outputs": []
    },
    {
      "cell_type": "code",
      "metadata": {
        "colab": {
          "base_uri": "https://localhost:8080/"
        },
        "id": "nReCrR0jSqwe",
        "outputId": "c1c291fd-abd7-487d-dfb9-3bc2ed5758cc"
      },
      "source": [
        "convert_2_fahr(100, 'Celsius')"
      ],
      "execution_count": 77,
      "outputs": [
        {
          "output_type": "stream",
          "name": "stdout",
          "text": [
            "Nilai Suhu 100 derajat Celsius ke Fahrenheit adalah:\n"
          ]
        },
        {
          "output_type": "execute_result",
          "data": {
            "text/plain": [
              "212.0"
            ]
          },
          "metadata": {},
          "execution_count": 77
        }
      ]
    },
    {
      "cell_type": "code",
      "metadata": {
        "colab": {
          "base_uri": "https://localhost:8080/"
        },
        "id": "0DxOhBUgS3eK",
        "outputId": "c56a4857-94a4-4e24-87b8-9ad82d7abe66"
      },
      "source": [
        "convert_2_fahr(100, mode='Kelvin')"
      ],
      "execution_count": 78,
      "outputs": [
        {
          "output_type": "stream",
          "name": "stdout",
          "text": [
            "Nilai Suhu 100 derajat Kelvin ke Celsius adalah:\n",
            "-173.5\n",
            "Nilai Suhu -173.5 derajat Kelvin ke Fahrenheit adalah:\n"
          ]
        },
        {
          "output_type": "execute_result",
          "data": {
            "text/plain": [
              "-280.3"
            ]
          },
          "metadata": {},
          "execution_count": 78
        }
      ]
    },
    {
      "cell_type": "markdown",
      "metadata": {
        "id": "_bIDJlcaazSy"
      },
      "source": [
        "3. Buatlah sebuah function yang dapat mengkonversi suhu dari fahrenheit. Berikan argumen untuk memastikan bahwa outputnya dalah celcius atau kelvin.\n",
        "4. Berikan dokumentasi pada setiap baris kode yang kalian tulis."
      ]
    },
    {
      "cell_type": "code",
      "metadata": {
        "id": "FR-21_KS_A3Q"
      },
      "source": [
        "def fahr_to_others(suhu, mode='Celsius'):\n",
        "  '''\n",
        "  Fungsi ini digunakan untuk mengkonversi suhu dari Fahrenheit to Celsius/Kelvin.\n",
        "  :param : input nilai suhu int | mode suhu Celsius/Kelvin | str\n",
        "  :output: Suhu Celsius/Kelvin | int\n",
        "\n",
        "  '''\n",
        "  if mode == 'Celsius':\n",
        "    C = (suhu - 32) * 5/9\n",
        "    print(\"Nilai Suhu\", suhu, \"derajat Fahrenheit ke Celsius adalah:\")\n",
        "    return C\n",
        "  elif mode == 'Kelvin':\n",
        "    K = ((suhu - 32) * 5/9) + 273.5\n",
        "    print(\"Nilai Suhu\", suhu, \"derajat Fahrenheit ke Kelvin adalah:\")\n",
        "    return K"
      ],
      "execution_count": 79,
      "outputs": []
    },
    {
      "cell_type": "code",
      "metadata": {
        "colab": {
          "base_uri": "https://localhost:8080/"
        },
        "id": "DJQgUR9t_R7l",
        "outputId": "e5600d13-ec39-44ba-f70a-30dc97f96eb5"
      },
      "source": [
        "fahr_to_others(212, 'Celsius')"
      ],
      "execution_count": 80,
      "outputs": [
        {
          "output_type": "stream",
          "name": "stdout",
          "text": [
            "Nilai Suhu 212 derajat Fahrenheit ke Celsius adalah:\n"
          ]
        },
        {
          "output_type": "execute_result",
          "data": {
            "text/plain": [
              "100.0"
            ]
          },
          "metadata": {},
          "execution_count": 80
        }
      ]
    },
    {
      "cell_type": "code",
      "metadata": {
        "colab": {
          "base_uri": "https://localhost:8080/"
        },
        "id": "BfFRffmpYLdu",
        "outputId": "03f1b5bf-8779-4634-e8ad-73ec2a1e0324"
      },
      "source": [
        "fahr_to_others(-280.3, 'Kelvin')"
      ],
      "execution_count": 81,
      "outputs": [
        {
          "output_type": "stream",
          "name": "stdout",
          "text": [
            "Nilai Suhu -280.3 derajat Fahrenheit ke Kelvin adalah:\n"
          ]
        },
        {
          "output_type": "execute_result",
          "data": {
            "text/plain": [
              "100.0"
            ]
          },
          "metadata": {},
          "execution_count": 81
        }
      ]
    },
    {
      "cell_type": "code",
      "metadata": {
        "id": "4RJsmGlCYWlb"
      },
      "source": [
        ""
      ],
      "execution_count": null,
      "outputs": []
    }
  ]
}