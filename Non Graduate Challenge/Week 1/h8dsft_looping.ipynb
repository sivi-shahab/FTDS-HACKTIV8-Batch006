{
 "cells": [
  {
   "cell_type": "code",
   "execution_count": 1,
   "id": "89bd592a",
   "metadata": {},
   "outputs": [],
   "source": [
    "# Buatlah sebuah list dengan value berupa\n",
    "\n",
    "numbers = [951, 402, 984, 651, 360, 69, 408, 319, 601, 485, 980, 507, 725, 547, 544, 615, 83,\n",
    "           165, 141, 501, 263, 617, 865, 575, 219, 390, 984, 592, 236, 105, 942, 941, 386, 462,\n",
    "           47, 418, 907, 344, 236, 375, 823, 566, 597, 978, 328, 615, 953, 345, 399, 162, 758, 219,\n",
    "           918, 237, 412, 566, 826, 248, 866, 950, 626, 949 ]"
   ]
  },
  {
   "cell_type": "markdown",
   "id": "6def7ece",
   "metadata": {},
   "source": [
    "1. Loop dan print semua angka genap dari list angka diatas dengan urutan yang sama. Jangan mencetak angka apa pun yang muncul setelah angka 918.\n",
    "\n",
    "  Tampilkan pesan 'Done' setelah looping berakhir."
   ]
  },
  {
   "cell_type": "code",
   "execution_count": 17,
   "id": "ce4669e4",
   "metadata": {},
   "outputs": [
    {
     "name": "stdout",
     "output_type": "stream",
     "text": [
      "402 984 360 408 980 544 390 984 592 236 942 386 462 418 344 236 566 978 328 162 758 918 \n",
      "Done\n"
     ]
    }
   ],
   "source": [
    "for n in numbers:\n",
    "    if n % 2 == 0:\n",
    "        print(n, end=' ')\n",
    "    if n == 918:\n",
    "        break\n",
    "        \n",
    "print('\\nDone')"
   ]
  },
  {
   "cell_type": "markdown",
   "id": "8ee0d298",
   "metadata": {},
   "source": [
    "2. Skip nilai yang lebih dari 918"
   ]
  },
  {
   "cell_type": "code",
   "execution_count": 18,
   "id": "bbdb0b40",
   "metadata": {},
   "outputs": [
    {
     "name": "stdout",
     "output_type": "stream",
     "text": [
      "402 984 360 408 980 544 390 984 592 236 942 386 462 418 344 236 566 978 328 162 758 918 412 566 826 248 866 950 626 \n",
      "Done\n"
     ]
    }
   ],
   "source": [
    "for n in numbers:\n",
    "    if n % 2 == 0:\n",
    "        print(n, end=' ')\n",
    "    if n > 918:\n",
    "        continue\n",
    "        \n",
    "print('\\nDone')"
   ]
  },
  {
   "cell_type": "code",
   "execution_count": null,
   "id": "50806ea2",
   "metadata": {},
   "outputs": [],
   "source": []
  }
 ],
 "metadata": {
  "kernelspec": {
   "display_name": "Python 3",
   "language": "python",
   "name": "python3"
  },
  "language_info": {
   "codemirror_mode": {
    "name": "ipython",
    "version": 3
   },
   "file_extension": ".py",
   "mimetype": "text/x-python",
   "name": "python",
   "nbconvert_exporter": "python",
   "pygments_lexer": "ipython3",
   "version": "3.8.8"
  }
 },
 "nbformat": 4,
 "nbformat_minor": 5
}
