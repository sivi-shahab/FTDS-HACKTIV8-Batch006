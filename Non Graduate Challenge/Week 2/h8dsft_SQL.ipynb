{
 "cells": [
  {
   "cell_type": "markdown",
   "metadata": {},
   "source": [
    "• Akses data-data pada dataset kecuali studentVle.csv\n",
    "\n",
    "• Koneksikan Python dengan SQL Database menggunakan SQLite.\n",
    "\n",
    "• Simpan masing-masing data ke masing-masing tabel ke dalam SQLite database menggunakan keyword CREATE dan\n",
    "INSERT.\n",
    "\n",
    "• Buatlah query select untuk memperoleh data dengan kolom: id_student, region, code_module, assessment_type, score. Data\n",
    "yang diambil hanya dengan code_presentation 2014B.\n",
    "\n",
    "• Simpan hasil select record ke sebuah pandas dataframe, kemudian tampilkan hasilnya dan simpan ke dalam file excel."
   ]
  },
  {
   "cell_type": "markdown",
   "metadata": {},
   "source": []
  }
 ],
 "metadata": {
  "language_info": {
   "name": "python"
  },
  "orig_nbformat": 4
 },
 "nbformat": 4,
 "nbformat_minor": 2
}
