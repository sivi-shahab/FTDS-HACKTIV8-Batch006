{
  "nbformat": 4,
  "nbformat_minor": 0,
  "metadata": {
    "colab": {
      "name": "h8dsft_Calculus1.ipynb",
      "provenance": [],
      "collapsed_sections": []
    },
    "kernelspec": {
      "name": "python3",
      "display_name": "Python 3"
    },
    "language_info": {
      "name": "python"
    }
  },
  "cells": [
    {
      "cell_type": "markdown",
      "metadata": {
        "id": "Rng762TPwGyu"
      },
      "source": [
        "1. Carilah turunan dari fungsi:"
      ]
    },
    {
      "cell_type": "code",
      "metadata": {
        "id": "fWfgmSnJvbuZ"
      },
      "source": [
        "import sympy as sy\n",
        "\n",
        "x = sy.Symbol('x', real=True)"
      ],
      "execution_count": 1,
      "outputs": []
    },
    {
      "cell_type": "code",
      "metadata": {
        "colab": {
          "base_uri": "https://localhost:8080/",
          "height": 39
        },
        "id": "Dthy5HrUwiy-",
        "outputId": "4ff84c51-c365-4165-db80-090b2bf3823b"
      },
      "source": [
        "#1\n",
        "f = x**2 + 2*x + 1\n",
        "f"
      ],
      "execution_count": 4,
      "outputs": [
        {
          "output_type": "execute_result",
          "data": {
            "text/latex": "$\\displaystyle x^{2} + 2 x + 1$",
            "text/plain": [
              "x**2 + 2*x + 1"
            ]
          },
          "metadata": {},
          "execution_count": 4
        }
      ]
    },
    {
      "cell_type": "code",
      "metadata": {
        "colab": {
          "base_uri": "https://localhost:8080/",
          "height": 39
        },
        "id": "3Nns4_06wqwj",
        "outputId": "79f8c3dc-59dd-4bf7-8b5e-d3f851eb73cb"
      },
      "source": [
        "# Turunannya adalah\n",
        "f.diff()"
      ],
      "execution_count": 5,
      "outputs": [
        {
          "output_type": "execute_result",
          "data": {
            "text/latex": "$\\displaystyle 2 x + 2$",
            "text/plain": [
              "2*x + 2"
            ]
          },
          "metadata": {},
          "execution_count": 5
        }
      ]
    },
    {
      "cell_type": "code",
      "metadata": {
        "colab": {
          "base_uri": "https://localhost:8080/",
          "height": 39
        },
        "id": "dnx1zzGRw45i",
        "outputId": "52387b5d-4038-41a3-fc56-824fa249b935"
      },
      "source": [
        "#2\n",
        "g = 4*x**3 - 3*x**2 + 2*x - 1\n",
        "g"
      ],
      "execution_count": 6,
      "outputs": [
        {
          "output_type": "execute_result",
          "data": {
            "text/latex": "$\\displaystyle 4 x^{3} - 3 x^{2} + 2 x - 1$",
            "text/plain": [
              "4*x**3 - 3*x**2 + 2*x - 1"
            ]
          },
          "metadata": {},
          "execution_count": 6
        }
      ]
    },
    {
      "cell_type": "code",
      "metadata": {
        "colab": {
          "base_uri": "https://localhost:8080/",
          "height": 39
        },
        "id": "qnRgg8nfxDGg",
        "outputId": "080fdfbc-76bc-42a4-a565-7c85f271a705"
      },
      "source": [
        "# Turunannya adalah\n",
        "g.diff()"
      ],
      "execution_count": 7,
      "outputs": [
        {
          "output_type": "execute_result",
          "data": {
            "text/latex": "$\\displaystyle 12 x^{2} - 6 x + 2$",
            "text/plain": [
              "12*x**2 - 6*x + 2"
            ]
          },
          "metadata": {},
          "execution_count": 7
        }
      ]
    },
    {
      "cell_type": "code",
      "metadata": {
        "id": "qpOCzQ7kxF8s"
      },
      "source": [
        ""
      ],
      "execution_count": null,
      "outputs": []
    }
  ]
}