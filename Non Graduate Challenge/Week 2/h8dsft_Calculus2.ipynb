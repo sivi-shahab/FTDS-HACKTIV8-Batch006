{
  "nbformat": 4,
  "nbformat_minor": 0,
  "metadata": {
    "colab": {
      "name": "h8dsft_Calculus3.ipynb",
      "provenance": [],
      "collapsed_sections": []
    },
    "kernelspec": {
      "name": "python3",
      "display_name": "Python 3"
    },
    "language_info": {
      "name": "python"
    }
  },
  "cells": [
    {
      "cell_type": "markdown",
      "metadata": {
        "id": "mTonlWzdvi2F"
      },
      "source": [
        "1. Carilah Integral dari fungsi berikut"
      ]
    },
    {
      "cell_type": "code",
      "metadata": {
        "id": "m7IsohrfvLxk"
      },
      "source": [
        "import sympy as sy\n",
        "\n",
        "x = sy.Symbol('x', real=True)\n",
        "C = sy.Symbol('C', real=True)"
      ],
      "execution_count": 6,
      "outputs": []
    },
    {
      "cell_type": "code",
      "metadata": {
        "colab": {
          "base_uri": "https://localhost:8080/",
          "height": 39
        },
        "id": "la67E8kMxvgC",
        "outputId": "c893827a-d3f5-4b6b-9e51-9a0e3938cd7d"
      },
      "source": [
        "f = 3*x**2 - 6*x + 3\n",
        "f"
      ],
      "execution_count": 7,
      "outputs": [
        {
          "output_type": "execute_result",
          "data": {
            "text/latex": "$\\displaystyle 3 x^{2} - 6 x + 3$",
            "text/plain": [
              "3*x**2 - 6*x + 3"
            ]
          },
          "metadata": {},
          "execution_count": 7
        }
      ]
    },
    {
      "cell_type": "code",
      "metadata": {
        "id": "nddX42fLx5NA"
      },
      "source": [
        "# Integral nya adalah\n",
        "hasil_1 = sy.integrate(f)"
      ],
      "execution_count": 8,
      "outputs": []
    },
    {
      "cell_type": "code",
      "metadata": {
        "colab": {
          "base_uri": "https://localhost:8080/",
          "height": 39
        },
        "id": "RdlhKb4vzZqR",
        "outputId": "f5c2191f-55b8-4f65-8deb-85629c81de41"
      },
      "source": [
        "hasil_1"
      ],
      "execution_count": 19,
      "outputs": [
        {
          "output_type": "execute_result",
          "data": {
            "text/latex": "$\\displaystyle x^{3} - 3 x^{2} + 3 x$",
            "text/plain": [
              "x**3 - 3*x**2 + 3*x"
            ]
          },
          "metadata": {},
          "execution_count": 19
        }
      ]
    },
    {
      "cell_type": "code",
      "metadata": {
        "colab": {
          "base_uri": "https://localhost:8080/",
          "height": 39
        },
        "id": "PdXSCxPdx-0F",
        "outputId": "c4761aae-7ee4-44cd-b275-473a4ee6551e"
      },
      "source": [
        "# Karena merupakan integral tak tentu maka kita harus menambahkan variable C (konstanta)\n",
        "hasil_1 + C"
      ],
      "execution_count": 18,
      "outputs": [
        {
          "output_type": "execute_result",
          "data": {
            "text/latex": "$\\displaystyle C + x^{3} - 3 x^{2} + 3 x$",
            "text/plain": [
              "C + x**3 - 3*x**2 + 3*x"
            ]
          },
          "metadata": {},
          "execution_count": 18
        }
      ]
    },
    {
      "cell_type": "code",
      "metadata": {
        "colab": {
          "base_uri": "https://localhost:8080/",
          "height": 39
        },
        "id": "gBpuqpsxyL3C",
        "outputId": "7ce5331e-9f57-4704-e1b4-14482f19af8c"
      },
      "source": [
        "g = 8*x**3 - x**2 + 5*x - 1\n",
        "g"
      ],
      "execution_count": 13,
      "outputs": [
        {
          "output_type": "execute_result",
          "data": {
            "text/latex": "$\\displaystyle 8 x^{3} - x^{2} + 5 x - 1$",
            "text/plain": [
              "8*x**3 - x**2 + 5*x - 1"
            ]
          },
          "metadata": {},
          "execution_count": 13
        }
      ]
    },
    {
      "cell_type": "code",
      "metadata": {
        "colab": {
          "base_uri": "https://localhost:8080/",
          "height": 54
        },
        "id": "03P5qMuqzEw6",
        "outputId": "3568782e-9419-4cf3-a0af-bb5833f3ad73"
      },
      "source": [
        "# Integral nya adalah\n",
        "hasil_2 = sy.integrate(g)\n",
        "hasil_2"
      ],
      "execution_count": 16,
      "outputs": [
        {
          "output_type": "execute_result",
          "data": {
            "text/latex": "$\\displaystyle 2 x^{4} - \\frac{x^{3}}{3} + \\frac{5 x^{2}}{2} - x$",
            "text/plain": [
              "2*x**4 - x**3/3 + 5*x**2/2 - x"
            ]
          },
          "metadata": {},
          "execution_count": 16
        }
      ]
    },
    {
      "cell_type": "code",
      "metadata": {
        "colab": {
          "base_uri": "https://localhost:8080/",
          "height": 54
        },
        "id": "UhQ4XEADzIXi",
        "outputId": "13f0e5f9-9975-413d-c8b3-cdc114e4680b"
      },
      "source": [
        "# Karena merupakan integral tak tentu maka kita harus menambahkan variable C (konstanta)\n",
        "hasil_2 + C"
      ],
      "execution_count": 17,
      "outputs": [
        {
          "output_type": "execute_result",
          "data": {
            "text/latex": "$\\displaystyle C + 2 x^{4} - \\frac{x^{3}}{3} + \\frac{5 x^{2}}{2} - x$",
            "text/plain": [
              "C + 2*x**4 - x**3/3 + 5*x**2/2 - x"
            ]
          },
          "metadata": {},
          "execution_count": 17
        }
      ]
    },
    {
      "cell_type": "code",
      "metadata": {
        "id": "v74yrq0ozKwW"
      },
      "source": [
        ""
      ],
      "execution_count": null,
      "outputs": []
    }
  ]
}