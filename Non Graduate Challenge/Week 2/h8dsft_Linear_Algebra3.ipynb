{
  "nbformat": 4,
  "nbformat_minor": 0,
  "metadata": {
    "colab": {
      "name": "h8dsft_Linear_Algebra3.ipynb",
      "provenance": [],
      "collapsed_sections": []
    },
    "kernelspec": {
      "name": "python3",
      "display_name": "Python 3"
    },
    "language_info": {
      "name": "python"
    }
  },
  "cells": [
    {
      "cell_type": "markdown",
      "metadata": {
        "id": "5r06kgNsr1G7"
      },
      "source": [
        "1. Apakah x adalah eigenvector dari A?\n",
        "Jika Iya, berapakah eigenvalue-nya?"
      ]
    },
    {
      "cell_type": "code",
      "metadata": {
        "id": "6tesfT_xrrO-"
      },
      "source": [
        " import numpy as np\n",
        "\n",
        " x = np.array([1, 3])\n",
        " A = np.array([[1, -1], [6, 4]]) "
      ],
      "execution_count": 1,
      "outputs": []
    },
    {
      "cell_type": "code",
      "metadata": {
        "colab": {
          "base_uri": "https://localhost:8080/"
        },
        "id": "6ZDb0CMAsAyB",
        "outputId": "a0cc0362-1640-46ac-d6b0-1515951b10f4"
      },
      "source": [
        "print(x)\n",
        "print('-'*100)\n",
        "print(A)"
      ],
      "execution_count": 3,
      "outputs": [
        {
          "output_type": "stream",
          "name": "stdout",
          "text": [
            "[1 3]\n",
            "----------------------------------------------------------------------------------------------------\n",
            "[[ 1 -1]\n",
            " [ 6  4]]\n"
          ]
        }
      ]
    },
    {
      "cell_type": "code",
      "metadata": {
        "id": "jsTcikWGsUR6"
      },
      "source": [
        "from numpy.linalg import eig"
      ],
      "execution_count": 6,
      "outputs": []
    },
    {
      "cell_type": "code",
      "metadata": {
        "id": "m_OrIRMZsddk"
      },
      "source": [
        "eigVal, eigVec = eig(A)"
      ],
      "execution_count": 8,
      "outputs": []
    },
    {
      "cell_type": "code",
      "metadata": {
        "colab": {
          "base_uri": "https://localhost:8080/"
        },
        "id": "yJDIoHzHsxR_",
        "outputId": "ac95634f-160a-4458-d735-989921625b47"
      },
      "source": [
        "eigVal"
      ],
      "execution_count": 9,
      "outputs": [
        {
          "output_type": "execute_result",
          "data": {
            "text/plain": [
              "array([2.5+1.93649167j, 2.5-1.93649167j])"
            ]
          },
          "metadata": {},
          "execution_count": 9
        }
      ]
    },
    {
      "cell_type": "code",
      "metadata": {
        "colab": {
          "base_uri": "https://localhost:8080/"
        },
        "id": "NRkVDBTKs2Rr",
        "outputId": "8e47a775-2db4-42bf-ee8d-377dcdc921d2"
      },
      "source": [
        "eigVec"
      ],
      "execution_count": 10,
      "outputs": [
        {
          "output_type": "execute_result",
          "data": {
            "text/plain": [
              "array([[-0.23145502+0.29880715j, -0.23145502-0.29880715j],\n",
              "       [ 0.9258201 +0.j        ,  0.9258201 -0.j        ]])"
            ]
          },
          "metadata": {},
          "execution_count": 10
        }
      ]
    },
    {
      "cell_type": "code",
      "metadata": {
        "colab": {
          "base_uri": "https://localhost:8080/"
        },
        "id": "zmL7dvens49s",
        "outputId": "09be21f5-5c2f-45d5-e6d3-3c2dff0f7254"
      },
      "source": [
        "np.allclose(x, eigVec[0])"
      ],
      "execution_count": 12,
      "outputs": [
        {
          "output_type": "execute_result",
          "data": {
            "text/plain": [
              "False"
            ]
          },
          "metadata": {},
          "execution_count": 12
        }
      ]
    },
    {
      "cell_type": "code",
      "metadata": {
        "colab": {
          "base_uri": "https://localhost:8080/"
        },
        "id": "a4v4RMe6tCfY",
        "outputId": "da1c064c-e417-4510-9e9d-0f9d1d66ce36"
      },
      "source": [
        "np.allclose(x, eigVec[1])"
      ],
      "execution_count": 13,
      "outputs": [
        {
          "output_type": "execute_result",
          "data": {
            "text/plain": [
              "False"
            ]
          },
          "metadata": {},
          "execution_count": 13
        }
      ]
    },
    {
      "cell_type": "markdown",
      "metadata": {
        "id": "qCegRIhJtpit"
      },
      "source": [
        "Dapat disimpulkan bahwa x bukan EigenVector dari A"
      ]
    }
  ]
}