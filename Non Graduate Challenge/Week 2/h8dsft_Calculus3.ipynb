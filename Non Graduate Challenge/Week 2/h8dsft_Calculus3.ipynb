{
  "nbformat": 4,
  "nbformat_minor": 0,
  "metadata": {
    "colab": {
      "name": "h8dsft_Calculus3.ipynb",
      "provenance": [],
      "collapsed_sections": []
    },
    "kernelspec": {
      "name": "python3",
      "display_name": "Python 3"
    },
    "language_info": {
      "name": "python"
    }
  },
  "cells": [
    {
      "cell_type": "markdown",
      "metadata": {
        "id": "-TnSGcCz0G9G"
      },
      "source": [
        "1. Carilah Gradient dari sebuah fungsi berikut:"
      ]
    },
    {
      "cell_type": "code",
      "metadata": {
        "id": "lf477TF3vVcy"
      },
      "source": [
        "import sympy as sy\n",
        "\n",
        "x= sy.Symbol('x', real=True)"
      ],
      "execution_count": 3,
      "outputs": []
    },
    {
      "cell_type": "code",
      "metadata": {
        "colab": {
          "base_uri": "https://localhost:8080/",
          "height": 39
        },
        "id": "etANU4o-0Hiq",
        "outputId": "fd7231f9-9691-4cfb-d97e-1089e3d0dc11"
      },
      "source": [
        "y = 1/4*(5 - 3*x)\n",
        "y"
      ],
      "execution_count": 5,
      "outputs": [
        {
          "output_type": "execute_result",
          "data": {
            "text/latex": "$\\displaystyle 1.25 - 0.75 x$",
            "text/plain": [
              "1.25 - 0.75*x"
            ]
          },
          "metadata": {},
          "execution_count": 5
        }
      ]
    },
    {
      "cell_type": "code",
      "metadata": {
        "colab": {
          "base_uri": "https://localhost:8080/",
          "height": 37
        },
        "id": "kf513Xwo1VuB",
        "outputId": "7614cc4e-f269-4c22-9ee9-5108dd92040c"
      },
      "source": [
        "# Gradient dari sebuah fungsi yang linier adalah turunan pertamanya\n",
        "y.diff()"
      ],
      "execution_count": 7,
      "outputs": [
        {
          "output_type": "execute_result",
          "data": {
            "text/latex": "$\\displaystyle -0.75$",
            "text/plain": [
              "-0.750000000000000"
            ]
          },
          "metadata": {},
          "execution_count": 7
        }
      ]
    },
    {
      "cell_type": "code",
      "metadata": {
        "id": "1CX3zlmz1NZu"
      },
      "source": [
        ""
      ],
      "execution_count": null,
      "outputs": []
    }
  ]
}