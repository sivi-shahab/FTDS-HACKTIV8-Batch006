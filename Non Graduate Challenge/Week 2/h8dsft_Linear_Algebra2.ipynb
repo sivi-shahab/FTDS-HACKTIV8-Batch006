{
  "nbformat": 4,
  "nbformat_minor": 0,
  "metadata": {
    "colab": {
      "name": "h8dsft_Linear_Algebra2.ipynb",
      "provenance": [],
      "collapsed_sections": []
    },
    "kernelspec": {
      "name": "python3",
      "display_name": "Python 3"
    },
    "language_info": {
      "name": "python"
    }
  },
  "cells": [
    {
      "cell_type": "markdown",
      "metadata": {
        "id": "WjD3CdDTpNnm"
      },
      "source": [
        "1. Buatlah Tensor di bawah ini dengan Python:"
      ]
    },
    {
      "cell_type": "code",
      "metadata": {
        "colab": {
          "base_uri": "https://localhost:8080/"
        },
        "id": "JLnf_zrMm2GI",
        "outputId": "dbb58908-a960-4685-cd90-fdbe7974cf19"
      },
      "source": [
        "import numpy as np\n",
        "\n",
        "#Membuat Tensor\n",
        "Tensor = np.array(\n",
        "    [\n",
        "     [[23, 50], [7, 12]], [[57, 67], [99, 43]],\n",
        "     [[75, 21], [57, 12]], [[87, 26], [18, 84]]\n",
        "    ]\n",
        ")\n",
        "\n",
        "Tensor"
      ],
      "execution_count": 1,
      "outputs": [
        {
          "output_type": "execute_result",
          "data": {
            "text/plain": [
              "array([[[23, 50],\n",
              "        [ 7, 12]],\n",
              "\n",
              "       [[57, 67],\n",
              "        [99, 43]],\n",
              "\n",
              "       [[75, 21],\n",
              "        [57, 12]],\n",
              "\n",
              "       [[87, 26],\n",
              "        [18, 84]]])"
            ]
          },
          "metadata": {},
          "execution_count": 1
        }
      ]
    },
    {
      "cell_type": "markdown",
      "metadata": {
        "id": "nVRztK7WpTpV"
      },
      "source": [
        "2. Lakukan perkalian terhadap matrix berikut"
      ]
    },
    {
      "cell_type": "code",
      "metadata": {
        "colab": {
          "base_uri": "https://localhost:8080/"
        },
        "id": "6TxwoVs9oZHE",
        "outputId": "e24db302-a175-4727-fefe-e7c1c62819a4"
      },
      "source": [
        "A = np.array([[23, 50, 19],\n",
        "              [7, 12, 109],\n",
        "              [57, 67, 98]])\n",
        "\n",
        "B = np.array([17, 22, 19])\n",
        "print(A.shape)\n",
        "print(B.shape)\n",
        "\n",
        "# Perkalian Matrix\n",
        "print(A.dot(B))"
      ],
      "execution_count": 4,
      "outputs": [
        {
          "output_type": "stream",
          "name": "stdout",
          "text": [
            "(3, 3)\n",
            "(3,)\n",
            "[1852 2454 4305]\n"
          ]
        }
      ]
    },
    {
      "cell_type": "markdown",
      "metadata": {
        "id": "t4wsgXvrqSE7"
      },
      "source": [
        "3. Lakukan Transpose, hitung determinan, dan inverse\n",
        "terhadap matrix dibawah ini: "
      ]
    },
    {
      "cell_type": "code",
      "metadata": {
        "id": "UVhVhKIrp713"
      },
      "source": [
        "A = np.array([[23, 50, 19],\n",
        "              [7, 12, 109],\n",
        "              [57, 67, 98]])"
      ],
      "execution_count": 5,
      "outputs": []
    },
    {
      "cell_type": "code",
      "metadata": {
        "colab": {
          "base_uri": "https://localhost:8080/"
        },
        "id": "tpcuUdA1qWMg",
        "outputId": "dc69e846-af6f-49c2-8e75-013c0fb49fa0"
      },
      "source": [
        "# Transpose\n",
        "print(A.T)"
      ],
      "execution_count": 6,
      "outputs": [
        {
          "output_type": "stream",
          "name": "stdout",
          "text": [
            "[[ 23   7  57]\n",
            " [ 50  12  67]\n",
            " [ 19 109  98]]\n"
          ]
        }
      ]
    },
    {
      "cell_type": "code",
      "metadata": {
        "colab": {
          "base_uri": "https://localhost:8080/"
        },
        "id": "SxD6RhQbqv96",
        "outputId": "5a7d48bf-aee8-4487-f8c7-7352948aa344"
      },
      "source": [
        "# determinan\n",
        "\n",
        "print(np.linalg.det(A))"
      ],
      "execution_count": 8,
      "outputs": [
        {
          "output_type": "stream",
          "name": "stdout",
          "text": [
            "131344.0000000002\n"
          ]
        }
      ]
    },
    {
      "cell_type": "code",
      "metadata": {
        "colab": {
          "base_uri": "https://localhost:8080/"
        },
        "id": "WFmza5CDq5Gc",
        "outputId": "fa8dc45c-d795-4093-b9be-843518c910a8"
      },
      "source": [
        "# Inverse\n",
        "\n",
        "print(np.linalg.inv(A))"
      ],
      "execution_count": 9,
      "outputs": [
        {
          "output_type": "stream",
          "name": "stdout",
          "text": [
            "[[-0.0466485  -0.02761451  0.03975819]\n",
            " [ 0.04208034  0.00891552 -0.01807467]\n",
            " [-0.00163692  0.0099662  -0.00056341]]\n"
          ]
        }
      ]
    },
    {
      "cell_type": "code",
      "metadata": {
        "id": "c3g_4g-krd7y"
      },
      "source": [
        ""
      ],
      "execution_count": null,
      "outputs": []
    }
  ]
}