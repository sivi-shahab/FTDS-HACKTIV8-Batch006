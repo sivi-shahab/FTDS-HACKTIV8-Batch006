{
  "cells": [
    {
      "cell_type": "markdown",
      "metadata": {
        "id": "3Z4fF0nTdGCw"
      },
      "source": [
        "1. Buatlah vektor di bawah ini dengan Python:\n"
      ]
    },
    {
      "cell_type": "code",
      "execution_count": 1,
      "metadata": {
        "colab": {
          "base_uri": "https://localhost:8080/"
        },
        "id": "H_46kmpGcgVS",
        "outputId": "1779c947-8b01-4d88-cc9c-fc8fb52491c8"
      },
      "outputs": [
        {
          "name": "stdout",
          "output_type": "stream",
          "text": [
            "[17 22 19]\n"
          ]
        }
      ],
      "source": [
        "import numpy as np\n",
        "\n",
        "v = np.array([17, 22, 19])\n",
        "\n",
        "print(v)"
      ]
    },
    {
      "cell_type": "markdown",
      "metadata": {
        "id": "HomzHZ8UfEZl"
      },
      "source": [
        "2. Diberikan 3 buah vector 3 dimensi:"
      ]
    },
    {
      "cell_type": "code",
      "execution_count": 2,
      "metadata": {
        "id": "Iys3dSFfdY11"
      },
      "outputs": [],
      "source": [
        "A = np.array([17, 22, 19])\n",
        "B = np.array([10, 20, 11])\n",
        "C = np.array([5, 12, 9])"
      ]
    },
    {
      "cell_type": "code",
      "execution_count": 3,
      "metadata": {
        "colab": {
          "base_uri": "https://localhost:8080/"
        },
        "id": "Gfg7Bk9Hdj3P",
        "outputId": "0f5442e4-3d68-42d5-e714-18bbda6fb7e1"
      },
      "outputs": [
        {
          "data": {
            "text/plain": [
              "array([27, 42, 30])"
            ]
          },
          "execution_count": 3,
          "metadata": {},
          "output_type": "execute_result"
        }
      ],
      "source": [
        "A + B"
      ]
    },
    {
      "cell_type": "code",
      "execution_count": 4,
      "metadata": {
        "colab": {
          "base_uri": "https://localhost:8080/"
        },
        "id": "btmqlYIjevC7",
        "outputId": "557ec4af-b3d9-4105-be0f-975f82647005"
      },
      "outputs": [
        {
          "data": {
            "text/plain": [
              "array([5, 8, 2])"
            ]
          },
          "execution_count": 4,
          "metadata": {},
          "output_type": "execute_result"
        }
      ],
      "source": [
        "B - C"
      ]
    },
    {
      "cell_type": "code",
      "execution_count": 5,
      "metadata": {
        "colab": {
          "base_uri": "https://localhost:8080/"
        },
        "id": "kThv2preexOd",
        "outputId": "b39e8740-0ed1-4682-a32c-50697711c05e"
      },
      "outputs": [
        {
          "data": {
            "text/plain": [
              "520"
            ]
          },
          "execution_count": 5,
          "metadata": {},
          "output_type": "execute_result"
        }
      ],
      "source": [
        "A.dot(C)"
      ]
    },
    {
      "cell_type": "code",
      "execution_count": 6,
      "metadata": {
        "colab": {
          "base_uri": "https://localhost:8080/"
        },
        "id": "mHdCqsq3ey_v",
        "outputId": "7207b94e-60d1-449e-d647-3295d9ad720f"
      },
      "outputs": [
        {
          "data": {
            "text/plain": [
              "array([170, 440, 209])"
            ]
          },
          "execution_count": 6,
          "metadata": {},
          "output_type": "execute_result"
        }
      ],
      "source": [
        "A * B"
      ]
    },
    {
      "cell_type": "code",
      "execution_count": 7,
      "metadata": {
        "colab": {
          "base_uri": "https://localhost:8080/"
        },
        "id": "k9y1ak6efN54",
        "outputId": "64f4af32-3d78-41e0-b2a9-33b9c6115249"
      },
      "outputs": [
        {
          "data": {
            "text/plain": [
              "33.67491648096547"
            ]
          },
          "execution_count": 7,
          "metadata": {},
          "output_type": "execute_result"
        }
      ],
      "source": [
        "from numpy import linalg as LA\n",
        "LA.norm(A)"
      ]
    },
    {
      "cell_type": "code",
      "execution_count": 8,
      "metadata": {},
      "outputs": [
        {
          "data": {
            "text/plain": [
              "819"
            ]
          },
          "execution_count": 8,
          "metadata": {},
          "output_type": "execute_result"
        }
      ],
      "source": [
        "AdotB = A.dot(B)\n",
        "AdotB"
      ]
    },
    {
      "cell_type": "code",
      "execution_count": 9,
      "metadata": {},
      "outputs": [
        {
          "data": {
            "text/plain": [
              "839.1745944676828"
            ]
          },
          "execution_count": 9,
          "metadata": {},
          "output_type": "execute_result"
        }
      ],
      "source": [
        "norm_mul = LA.norm(A)*LA.norm(B)\n",
        "norm_mul"
      ]
    },
    {
      "cell_type": "code",
      "execution_count": 10,
      "metadata": {
        "colab": {
          "base_uri": "https://localhost:8080/"
        },
        "id": "X0qVT5tbhQYf",
        "outputId": "4f0a2c03-2a98-4330-e71c-fa13debfc0fa"
      },
      "outputs": [
        {
          "data": {
            "text/plain": [
              "0.9759590023331435"
            ]
          },
          "execution_count": 10,
          "metadata": {},
          "output_type": "execute_result"
        }
      ],
      "source": [
        "cos_theta =  AdotB/norm_mul\n",
        "cos_theta"
      ]
    },
    {
      "cell_type": "code",
      "execution_count": 11,
      "metadata": {},
      "outputs": [
        {
          "data": {
            "text/plain": [
              "0.21971776576153962"
            ]
          },
          "execution_count": 11,
          "metadata": {},
          "output_type": "execute_result"
        }
      ],
      "source": [
        "theta = np.arccos(cos_theta)\n",
        "theta"
      ]
    },
    {
      "cell_type": "code",
      "execution_count": 12,
      "metadata": {
        "colab": {
          "base_uri": "https://localhost:8080/"
        },
        "id": "IslQsK8nl-yg",
        "outputId": "93d4891f-d919-4d00-9bd8-abf16941db15"
      },
      "outputs": [
        {
          "name": "stdout",
          "output_type": "stream",
          "text": [
            "0.9759590023331435\n"
          ]
        }
      ],
      "source": [
        "print(np.cos(theta))"
      ]
    },
    {
      "cell_type": "code",
      "execution_count": 47,
      "metadata": {
        "colab": {
          "base_uri": "https://localhost:8080/"
        },
        "id": "YyR5vwxqlWKo",
        "outputId": "85b4d6fd-4fe5-4cac-b52f-c4e0d901af1e"
      },
      "outputs": [
        {
          "data": {
            "text/plain": [
              "819.0"
            ]
          },
          "execution_count": 47,
          "metadata": {},
          "output_type": "execute_result"
        }
      ],
      "source": [
        "# Cek Hasilkali titik\n",
        "C = (LA.norm(A))*(LA.norm(B)) * np.cos(theta)\n",
        "C"
      ]
    },
    {
      "cell_type": "code",
      "execution_count": 48,
      "metadata": {
        "colab": {
          "base_uri": "https://localhost:8080/"
        },
        "id": "F_D54mmimcN8",
        "outputId": "1d0e7ea2-e391-4ee5-f91b-f6d22bcec619"
      },
      "outputs": [
        {
          "data": {
            "text/plain": [
              "True"
            ]
          },
          "execution_count": 48,
          "metadata": {},
          "output_type": "execute_result"
        }
      ],
      "source": [
        "C == A.dot(B)"
      ]
    },
    {
      "cell_type": "markdown",
      "metadata": {
        "id": "N_3lk1kBfMk5"
      },
      "source": [
        "3. Buatlah plot dari vector berikut ini ke dalam bidang 2D:"
      ]
    },
    {
      "cell_type": "code",
      "execution_count": 26,
      "metadata": {
        "id": "R7qkTMIae1Mr"
      },
      "outputs": [],
      "source": [
        "u = np.array([2, 5])\n",
        "v = np.array([3, 1])"
      ]
    },
    {
      "cell_type": "code",
      "execution_count": 28,
      "metadata": {
        "colab": {
          "base_uri": "https://localhost:8080/",
          "height": 269
        },
        "id": "HSRPzv9Eiw9h",
        "outputId": "277edfac-eac5-46e5-ac79-c464047e0f40"
      },
      "outputs": [
        {
          "data": {
            "image/png": "[encoded data removed]",
            "text/plain": [
              "<Figure size 432x288 with 1 Axes>"
            ]
          },
          "metadata": {
            "needs_background": "light"
          },
          "output_type": "display_data"
        }
      ],
      "source": [
        "import matplotlib.pyplot as plt\n",
        "x_coords, y_coords = zip(u, v)\n",
        "plt.scatter(x_coords, y_coords, color=[\"r\", \"b\"])\n",
        "plt.axis([0, 9, 0, 6])\n",
        "plt.grid()\n",
        "plt.show()"
      ]
    },
    {
      "cell_type": "code",
      "execution_count": 29,
      "metadata": {
        "id": "7dbCD5IOjj1V"
      },
      "outputs": [],
      "source": [
        "def plot_vector2d(vector2d, origin=[0, 0], **options):\n",
        "  return plt.arrow(origin[0], origin[1], vector2d[0], vector2d[1],\n",
        "                   head_width=0.2, head_length=0.3, length_includes_head=True,\n",
        "                   **options)"
      ]
    },
    {
      "cell_type": "code",
      "execution_count": 30,
      "metadata": {
        "colab": {
          "base_uri": "https://localhost:8080/",
          "height": 269
        },
        "id": "w1BtFKQxjr7I",
        "outputId": "5a51474f-ad0a-4344-faf5-9f5fdf5dd187"
      },
      "outputs": [
        {
          "data": {
            "image/png": "[encoded data removed]",
            "text/plain": [
              "<Figure size 432x288 with 1 Axes>"
            ]
          },
          "metadata": {
            "needs_background": "light"
          },
          "output_type": "display_data"
        }
      ],
      "source": [
        "plot_vector2d(u, color=\"r\")\n",
        "plot_vector2d(v, color=\"b\")\n",
        "plt.axis([0, 9, 0, 6])\n",
        "plt.grid()\n",
        "plt.show()"
      ]
    },
    {
      "cell_type": "code",
      "execution_count": null,
      "metadata": {
        "id": "D4I5pcX4jt5D"
      },
      "outputs": [],
      "source": []
    }
  ],
  "metadata": {
    "colab": {
      "collapsed_sections": [],
      "name": "h8dsft_Linear_Algebra1..ipynb",
      "provenance": []
    },
    "kernelspec": {
      "display_name": "Python 3",
      "name": "python3"
    },
    "language_info": {
      "codemirror_mode": {
        "name": "ipython",
        "version": 3
      },
      "file_extension": ".py",
      "mimetype": "text/x-python",
      "name": "python",
      "nbconvert_exporter": "python",
      "pygments_lexer": "ipython3",
      "version": "3.8.8"
    }
  },
  "nbformat": 4,
  "nbformat_minor": 0
}
