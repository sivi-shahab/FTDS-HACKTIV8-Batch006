{
 "cells": [
  {
   "cell_type": "markdown",
   "metadata": {},
   "source": [
    "Buatlah sebuah kode untuk mensimulasikan melempar koin sebanyak 50.000 kali dengan assign value\n",
    "random berupa 0 dan 1 untuk kepala atau ekor. Setiap kali koin dilempar, peluang untuk mendapatkan\n",
    "kepala atau ekor adalah 50%."
   ]
  },
  {
   "cell_type": "code",
   "execution_count": null,
   "metadata": {},
   "outputs": [],
   "source": []
  }
 ],
 "metadata": {
  "interpreter": {
   "hash": "36abe59f417de92da46b2706f21451c1fa535e9e046bdfcc896774547a2c1180"
  },
  "kernelspec": {
   "display_name": "Python 3.8.8 64-bit ('base': conda)",
   "language": "python",
   "name": "python3"
  },
  "language_info": {
   "name": "python",
   "version": "3.8.8"
  },
  "orig_nbformat": 4
 },
 "nbformat": 4,
 "nbformat_minor": 2
}
