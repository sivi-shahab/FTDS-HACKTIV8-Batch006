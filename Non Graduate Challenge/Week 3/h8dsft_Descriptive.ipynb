{
 "cells": [
  {
   "cell_type": "markdown",
   "metadata": {},
   "source": [
    "- Cari Measure of Central Tendency dari data tersebut.\n",
    "- Cari Measure of Variance dari data tersebut."
   ]
  },
  {
   "cell_type": "markdown",
   "metadata": {},
   "source": [
    "### Download Dataset"
   ]
  },
  {
   "cell_type": "markdown",
   "metadata": {},
   "source": [
    "Before starting, you need to have the opendatasets library installed in your system."
   ]
  },
  {
   "cell_type": "code",
   "execution_count": 147,
   "metadata": {},
   "outputs": [],
   "source": [
    "!pip install opendatasets --q"
   ]
  },
  {
   "cell_type": "markdown",
   "metadata": {},
   "source": [
    "The process to Download is as follows:"
   ]
  },
  {
   "cell_type": "code",
   "execution_count": 148,
   "metadata": {},
   "outputs": [],
   "source": [
    "import opendatasets as od"
   ]
  },
  {
   "cell_type": "markdown",
   "metadata": {},
   "source": [
    "The dataset can now be downloaded using od.download. When you execute od.download, you will be asked to provide your Kaggle username and API key. Follow these instructions to create an API key: http://bit.ly/kaggle-creds"
   ]
  },
  {
   "cell_type": "code",
   "execution_count": 149,
   "metadata": {},
   "outputs": [],
   "source": [
    "dataset_url = 'https://www.kaggle.com/hendratno/covid19-indonesia'"
   ]
  },
  {
   "cell_type": "code",
   "execution_count": 150,
   "metadata": {},
   "outputs": [
    {
     "name": "stdout",
     "output_type": "stream",
     "text": [
      "Skipping, found downloaded files in \".\\covid19-indonesia\" (use force=True to force download)\n"
     ]
    }
   ],
   "source": [
    "od.download(dataset_url)"
   ]
  },
  {
   "cell_type": "markdown",
   "metadata": {},
   "source": [
    "## Import Library"
   ]
  },
  {
   "cell_type": "code",
   "execution_count": 151,
   "metadata": {},
   "outputs": [],
   "source": [
    "import pandas as pd\n",
    "import numpy as np\n",
    "import matplotlib.pyplot as plt"
   ]
  },
  {
   "cell_type": "markdown",
   "metadata": {},
   "source": [
    "Let's load the data from covid_19_indonesia_time_series_all.csv using Pandas."
   ]
  },
  {
   "cell_type": "code",
   "execution_count": 152,
   "metadata": {},
   "outputs": [
    {
     "data": {
      "text/html": [
       "<div>\n",
       "<style scoped>\n",
       "    .dataframe tbody tr th:only-of-type {\n",
       "        vertical-align: middle;\n",
       "    }\n",
       "\n",
       "    .dataframe tbody tr th {\n",
       "        vertical-align: top;\n",
       "    }\n",
       "\n",
       "    .dataframe thead th {\n",
       "        text-align: right;\n",
       "    }\n",
       "</style>\n",
       "<table border=\"1\" class=\"dataframe\">\n",
       "  <thead>\n",
       "    <tr style=\"text-align: right;\">\n",
       "      <th></th>\n",
       "      <th>Date</th>\n",
       "      <th>Location ISO Code</th>\n",
       "      <th>Location</th>\n",
       "      <th>New Cases</th>\n",
       "      <th>New Deaths</th>\n",
       "      <th>New Recovered</th>\n",
       "      <th>New Active Cases</th>\n",
       "      <th>Total Cases</th>\n",
       "      <th>Total Deaths</th>\n",
       "      <th>Total Recovered</th>\n",
       "      <th>Total Active Cases</th>\n",
       "      <th>Location Level</th>\n",
       "      <th>City or Regency</th>\n",
       "      <th>Province</th>\n",
       "      <th>Country</th>\n",
       "      <th>Continent</th>\n",
       "      <th>Island</th>\n",
       "      <th>Time Zone</th>\n",
       "      <th>Special Status</th>\n",
       "      <th>Total Regencies</th>\n",
       "      <th>Total Cities</th>\n",
       "      <th>Total Districts</th>\n",
       "      <th>Total Urban Villages</th>\n",
       "      <th>Total Rural Villages</th>\n",
       "      <th>Area (km2)</th>\n",
       "      <th>Population</th>\n",
       "      <th>Population Density</th>\n",
       "      <th>Longitude</th>\n",
       "      <th>Latitude</th>\n",
       "      <th>New Cases per Million</th>\n",
       "      <th>Total Cases per Million</th>\n",
       "      <th>New Deaths per Million</th>\n",
       "      <th>Total Deaths per Million</th>\n",
       "      <th>Total Deaths per 100rb</th>\n",
       "      <th>Case Fatality Rate</th>\n",
       "      <th>Case Recovered Rate</th>\n",
       "      <th>Growth Factor of New Cases</th>\n",
       "      <th>Growth Factor of New Deaths</th>\n",
       "    </tr>\n",
       "  </thead>\n",
       "  <tbody>\n",
       "    <tr>\n",
       "      <th>0</th>\n",
       "      <td>3/1/2020</td>\n",
       "      <td>ID-JK</td>\n",
       "      <td>DKI Jakarta</td>\n",
       "      <td>2</td>\n",
       "      <td>0</td>\n",
       "      <td>0</td>\n",
       "      <td>2</td>\n",
       "      <td>39</td>\n",
       "      <td>20</td>\n",
       "      <td>41</td>\n",
       "      <td>-22</td>\n",
       "      <td>Province</td>\n",
       "      <td>NaN</td>\n",
       "      <td>DKI Jakarta</td>\n",
       "      <td>Indonesia</td>\n",
       "      <td>Asia</td>\n",
       "      <td>Jawa</td>\n",
       "      <td>UTC+07:00</td>\n",
       "      <td>Daerah Khusus Ibu Kota</td>\n",
       "      <td>1</td>\n",
       "      <td>5.0</td>\n",
       "      <td>44</td>\n",
       "      <td>267.0</td>\n",
       "      <td>NaN</td>\n",
       "      <td>664</td>\n",
       "      <td>10846145</td>\n",
       "      <td>16334.31</td>\n",
       "      <td>106.836118</td>\n",
       "      <td>-6.204699</td>\n",
       "      <td>0.18</td>\n",
       "      <td>3.60</td>\n",
       "      <td>0.0</td>\n",
       "      <td>1.84</td>\n",
       "      <td>0.18</td>\n",
       "      <td>51.28%</td>\n",
       "      <td>105.13%</td>\n",
       "      <td>NaN</td>\n",
       "      <td>NaN</td>\n",
       "    </tr>\n",
       "    <tr>\n",
       "      <th>1</th>\n",
       "      <td>3/2/2020</td>\n",
       "      <td>ID-JK</td>\n",
       "      <td>DKI Jakarta</td>\n",
       "      <td>2</td>\n",
       "      <td>0</td>\n",
       "      <td>0</td>\n",
       "      <td>2</td>\n",
       "      <td>41</td>\n",
       "      <td>20</td>\n",
       "      <td>41</td>\n",
       "      <td>-20</td>\n",
       "      <td>Province</td>\n",
       "      <td>NaN</td>\n",
       "      <td>DKI Jakarta</td>\n",
       "      <td>Indonesia</td>\n",
       "      <td>Asia</td>\n",
       "      <td>Jawa</td>\n",
       "      <td>UTC+07:00</td>\n",
       "      <td>Daerah Khusus Ibu Kota</td>\n",
       "      <td>1</td>\n",
       "      <td>5.0</td>\n",
       "      <td>44</td>\n",
       "      <td>267.0</td>\n",
       "      <td>NaN</td>\n",
       "      <td>664</td>\n",
       "      <td>10846145</td>\n",
       "      <td>16334.31</td>\n",
       "      <td>106.836118</td>\n",
       "      <td>-6.204699</td>\n",
       "      <td>0.18</td>\n",
       "      <td>3.78</td>\n",
       "      <td>0.0</td>\n",
       "      <td>1.84</td>\n",
       "      <td>0.18</td>\n",
       "      <td>48.78%</td>\n",
       "      <td>100.00%</td>\n",
       "      <td>1.0</td>\n",
       "      <td>1.0</td>\n",
       "    </tr>\n",
       "    <tr>\n",
       "      <th>2</th>\n",
       "      <td>3/2/2020</td>\n",
       "      <td>IDN</td>\n",
       "      <td>Indonesia</td>\n",
       "      <td>2</td>\n",
       "      <td>0</td>\n",
       "      <td>0</td>\n",
       "      <td>2</td>\n",
       "      <td>2</td>\n",
       "      <td>0</td>\n",
       "      <td>0</td>\n",
       "      <td>2</td>\n",
       "      <td>Country</td>\n",
       "      <td>NaN</td>\n",
       "      <td>NaN</td>\n",
       "      <td>Indonesia</td>\n",
       "      <td>Asia</td>\n",
       "      <td>NaN</td>\n",
       "      <td>NaN</td>\n",
       "      <td>NaN</td>\n",
       "      <td>416</td>\n",
       "      <td>98.0</td>\n",
       "      <td>7230</td>\n",
       "      <td>8488.0</td>\n",
       "      <td>74953.0</td>\n",
       "      <td>1916907</td>\n",
       "      <td>265185520</td>\n",
       "      <td>138.34</td>\n",
       "      <td>113.921327</td>\n",
       "      <td>-0.789275</td>\n",
       "      <td>0.01</td>\n",
       "      <td>0.01</td>\n",
       "      <td>0.0</td>\n",
       "      <td>0.00</td>\n",
       "      <td>0.00</td>\n",
       "      <td>0.00%</td>\n",
       "      <td>0.00%</td>\n",
       "      <td>NaN</td>\n",
       "      <td>NaN</td>\n",
       "    </tr>\n",
       "    <tr>\n",
       "      <th>3</th>\n",
       "      <td>3/2/2020</td>\n",
       "      <td>ID-RI</td>\n",
       "      <td>Riau</td>\n",
       "      <td>1</td>\n",
       "      <td>0</td>\n",
       "      <td>0</td>\n",
       "      <td>1</td>\n",
       "      <td>2</td>\n",
       "      <td>0</td>\n",
       "      <td>3</td>\n",
       "      <td>-1</td>\n",
       "      <td>Province</td>\n",
       "      <td>NaN</td>\n",
       "      <td>Riau</td>\n",
       "      <td>Indonesia</td>\n",
       "      <td>Asia</td>\n",
       "      <td>Sumatera</td>\n",
       "      <td>UTC+07:00</td>\n",
       "      <td>NaN</td>\n",
       "      <td>10</td>\n",
       "      <td>2.0</td>\n",
       "      <td>169</td>\n",
       "      <td>268.0</td>\n",
       "      <td>1591.0</td>\n",
       "      <td>87024</td>\n",
       "      <td>6074100</td>\n",
       "      <td>69.80</td>\n",
       "      <td>101.805109</td>\n",
       "      <td>0.511648</td>\n",
       "      <td>0.16</td>\n",
       "      <td>0.33</td>\n",
       "      <td>0.0</td>\n",
       "      <td>0.00</td>\n",
       "      <td>0.00</td>\n",
       "      <td>0.00%</td>\n",
       "      <td>150.00%</td>\n",
       "      <td>NaN</td>\n",
       "      <td>NaN</td>\n",
       "    </tr>\n",
       "    <tr>\n",
       "      <th>4</th>\n",
       "      <td>3/3/2020</td>\n",
       "      <td>ID-JK</td>\n",
       "      <td>DKI Jakarta</td>\n",
       "      <td>2</td>\n",
       "      <td>0</td>\n",
       "      <td>0</td>\n",
       "      <td>2</td>\n",
       "      <td>43</td>\n",
       "      <td>20</td>\n",
       "      <td>41</td>\n",
       "      <td>-18</td>\n",
       "      <td>Province</td>\n",
       "      <td>NaN</td>\n",
       "      <td>DKI Jakarta</td>\n",
       "      <td>Indonesia</td>\n",
       "      <td>Asia</td>\n",
       "      <td>Jawa</td>\n",
       "      <td>UTC+07:00</td>\n",
       "      <td>Daerah Khusus Ibu Kota</td>\n",
       "      <td>1</td>\n",
       "      <td>5.0</td>\n",
       "      <td>44</td>\n",
       "      <td>267.0</td>\n",
       "      <td>NaN</td>\n",
       "      <td>664</td>\n",
       "      <td>10846145</td>\n",
       "      <td>16334.31</td>\n",
       "      <td>106.836118</td>\n",
       "      <td>-6.204699</td>\n",
       "      <td>0.18</td>\n",
       "      <td>3.96</td>\n",
       "      <td>0.0</td>\n",
       "      <td>1.84</td>\n",
       "      <td>0.18</td>\n",
       "      <td>46.51%</td>\n",
       "      <td>95.35%</td>\n",
       "      <td>1.0</td>\n",
       "      <td>1.0</td>\n",
       "    </tr>\n",
       "  </tbody>\n",
       "</table>\n",
       "</div>"
      ],
      "text/plain": [
       "       Date Location ISO Code     Location  New Cases  New Deaths  \\\n",
       "0  3/1/2020             ID-JK  DKI Jakarta          2           0   \n",
       "1  3/2/2020             ID-JK  DKI Jakarta          2           0   \n",
       "2  3/2/2020               IDN    Indonesia          2           0   \n",
       "3  3/2/2020             ID-RI         Riau          1           0   \n",
       "4  3/3/2020             ID-JK  DKI Jakarta          2           0   \n",
       "\n",
       "   New Recovered  New Active Cases  Total Cases  Total Deaths  \\\n",
       "0              0                 2           39            20   \n",
       "1              0                 2           41            20   \n",
       "2              0                 2            2             0   \n",
       "3              0                 1            2             0   \n",
       "4              0                 2           43            20   \n",
       "\n",
       "   Total Recovered  Total Active Cases Location Level  City or Regency  \\\n",
       "0               41                 -22       Province              NaN   \n",
       "1               41                 -20       Province              NaN   \n",
       "2                0                   2        Country              NaN   \n",
       "3                3                  -1       Province              NaN   \n",
       "4               41                 -18       Province              NaN   \n",
       "\n",
       "      Province    Country Continent    Island  Time Zone  \\\n",
       "0  DKI Jakarta  Indonesia      Asia      Jawa  UTC+07:00   \n",
       "1  DKI Jakarta  Indonesia      Asia      Jawa  UTC+07:00   \n",
       "2          NaN  Indonesia      Asia       NaN        NaN   \n",
       "3         Riau  Indonesia      Asia  Sumatera  UTC+07:00   \n",
       "4  DKI Jakarta  Indonesia      Asia      Jawa  UTC+07:00   \n",
       "\n",
       "           Special Status  Total Regencies  Total Cities  Total Districts  \\\n",
       "0  Daerah Khusus Ibu Kota                1           5.0               44   \n",
       "1  Daerah Khusus Ibu Kota                1           5.0               44   \n",
       "2                     NaN              416          98.0             7230   \n",
       "3                     NaN               10           2.0              169   \n",
       "4  Daerah Khusus Ibu Kota                1           5.0               44   \n",
       "\n",
       "   Total Urban Villages  Total Rural Villages  Area (km2)  Population  \\\n",
       "0                 267.0                   NaN         664    10846145   \n",
       "1                 267.0                   NaN         664    10846145   \n",
       "2                8488.0               74953.0     1916907   265185520   \n",
       "3                 268.0                1591.0       87024     6074100   \n",
       "4                 267.0                   NaN         664    10846145   \n",
       "\n",
       "   Population Density   Longitude  Latitude  New Cases per Million  \\\n",
       "0            16334.31  106.836118 -6.204699                   0.18   \n",
       "1            16334.31  106.836118 -6.204699                   0.18   \n",
       "2              138.34  113.921327 -0.789275                   0.01   \n",
       "3               69.80  101.805109  0.511648                   0.16   \n",
       "4            16334.31  106.836118 -6.204699                   0.18   \n",
       "\n",
       "   Total Cases per Million  New Deaths per Million  Total Deaths per Million  \\\n",
       "0                     3.60                     0.0                      1.84   \n",
       "1                     3.78                     0.0                      1.84   \n",
       "2                     0.01                     0.0                      0.00   \n",
       "3                     0.33                     0.0                      0.00   \n",
       "4                     3.96                     0.0                      1.84   \n",
       "\n",
       "   Total Deaths per 100rb Case Fatality Rate Case Recovered Rate  \\\n",
       "0                    0.18             51.28%             105.13%   \n",
       "1                    0.18             48.78%             100.00%   \n",
       "2                    0.00              0.00%               0.00%   \n",
       "3                    0.00              0.00%             150.00%   \n",
       "4                    0.18             46.51%              95.35%   \n",
       "\n",
       "   Growth Factor of New Cases  Growth Factor of New Deaths  \n",
       "0                         NaN                          NaN  \n",
       "1                         1.0                          1.0  \n",
       "2                         NaN                          NaN  \n",
       "3                         NaN                          NaN  \n",
       "4                         1.0                          1.0  "
      ]
     },
     "execution_count": 152,
     "metadata": {},
     "output_type": "execute_result"
    }
   ],
   "source": [
    "df_covid19_indo = pd.read_csv('./covid19-indonesia/covid_19_indonesia_time_series_all.csv')\n",
    "\n",
    "#for printing all (string-)content in a cell:\n",
    "#print five top data\n",
    "pd.set_option('display.max_colwidth', None)\n",
    "df_covid19_indo.head()\n"
   ]
  },
  {
   "cell_type": "code",
   "execution_count": 153,
   "metadata": {},
   "outputs": [
    {
     "data": {
      "text/plain": [
       "(21759, 38)"
      ]
     },
     "execution_count": 153,
     "metadata": {},
     "output_type": "execute_result"
    }
   ],
   "source": [
    "df_covid19_indo.shape"
   ]
  },
  {
   "cell_type": "code",
   "execution_count": 154,
   "metadata": {},
   "outputs": [
    {
     "name": "stdout",
     "output_type": "stream",
     "text": [
      "<class 'pandas.core.frame.DataFrame'>\n",
      "RangeIndex: 21759 entries, 0 to 21758\n",
      "Data columns (total 38 columns):\n",
      " #   Column                       Non-Null Count  Dtype  \n",
      "---  ------                       --------------  -----  \n",
      " 0   Date                         21759 non-null  object \n",
      " 1   Location ISO Code            21759 non-null  object \n",
      " 2   Location                     21759 non-null  object \n",
      " 3   New Cases                    21759 non-null  int64  \n",
      " 4   New Deaths                   21759 non-null  int64  \n",
      " 5   New Recovered                21759 non-null  int64  \n",
      " 6   New Active Cases             21759 non-null  int64  \n",
      " 7   Total Cases                  21759 non-null  int64  \n",
      " 8   Total Deaths                 21759 non-null  int64  \n",
      " 9   Total Recovered              21759 non-null  int64  \n",
      " 10  Total Active Cases           21759 non-null  int64  \n",
      " 11  Location Level               21759 non-null  object \n",
      " 12  City or Regency              0 non-null      float64\n",
      " 13  Province                     21117 non-null  object \n",
      " 14  Country                      21759 non-null  object \n",
      " 15  Continent                    21759 non-null  object \n",
      " 16  Island                       21117 non-null  object \n",
      " 17  Time Zone                    21117 non-null  object \n",
      " 18  Special Status               3123 non-null   object \n",
      " 19  Total Regencies              21759 non-null  int64  \n",
      " 20  Total Cities                 21145 non-null  float64\n",
      " 21  Total Districts              21759 non-null  int64  \n",
      " 22  Total Urban Villages         21142 non-null  float64\n",
      " 23  Total Rural Villages         21117 non-null  float64\n",
      " 24  Area (km2)                   21759 non-null  int64  \n",
      " 25  Population                   21759 non-null  int64  \n",
      " 26  Population Density           21759 non-null  float64\n",
      " 27  Longitude                    21759 non-null  float64\n",
      " 28  Latitude                     21759 non-null  float64\n",
      " 29  New Cases per Million        21759 non-null  float64\n",
      " 30  Total Cases per Million      21759 non-null  float64\n",
      " 31  New Deaths per Million       21759 non-null  float64\n",
      " 32  Total Deaths per Million     21759 non-null  float64\n",
      " 33  Total Deaths per 100rb       21759 non-null  float64\n",
      " 34  Case Fatality Rate           21759 non-null  object \n",
      " 35  Case Recovered Rate          21759 non-null  object \n",
      " 36  Growth Factor of New Cases   20572 non-null  float64\n",
      " 37  Growth Factor of New Deaths  19292 non-null  float64\n",
      "dtypes: float64(14), int64(12), object(12)\n",
      "memory usage: 6.3+ MB\n"
     ]
    }
   ],
   "source": [
    "df_covid19_indo.info()"
   ]
  },
  {
   "cell_type": "code",
   "execution_count": 155,
   "metadata": {},
   "outputs": [],
   "source": [
    "df_covid19_indo['Date'] = pd.to_datetime(df_covid19_indo['Date'])"
   ]
  },
  {
   "cell_type": "code",
   "execution_count": 156,
   "metadata": {},
   "outputs": [
    {
     "name": "stdout",
     "output_type": "stream",
     "text": [
      "<class 'pandas.core.frame.DataFrame'>\n",
      "RangeIndex: 21759 entries, 0 to 21758\n",
      "Data columns (total 38 columns):\n",
      " #   Column                       Non-Null Count  Dtype         \n",
      "---  ------                       --------------  -----         \n",
      " 0   Date                         21759 non-null  datetime64[ns]\n",
      " 1   Location ISO Code            21759 non-null  object        \n",
      " 2   Location                     21759 non-null  object        \n",
      " 3   New Cases                    21759 non-null  int64         \n",
      " 4   New Deaths                   21759 non-null  int64         \n",
      " 5   New Recovered                21759 non-null  int64         \n",
      " 6   New Active Cases             21759 non-null  int64         \n",
      " 7   Total Cases                  21759 non-null  int64         \n",
      " 8   Total Deaths                 21759 non-null  int64         \n",
      " 9   Total Recovered              21759 non-null  int64         \n",
      " 10  Total Active Cases           21759 non-null  int64         \n",
      " 11  Location Level               21759 non-null  object        \n",
      " 12  City or Regency              0 non-null      float64       \n",
      " 13  Province                     21117 non-null  object        \n",
      " 14  Country                      21759 non-null  object        \n",
      " 15  Continent                    21759 non-null  object        \n",
      " 16  Island                       21117 non-null  object        \n",
      " 17  Time Zone                    21117 non-null  object        \n",
      " 18  Special Status               3123 non-null   object        \n",
      " 19  Total Regencies              21759 non-null  int64         \n",
      " 20  Total Cities                 21145 non-null  float64       \n",
      " 21  Total Districts              21759 non-null  int64         \n",
      " 22  Total Urban Villages         21142 non-null  float64       \n",
      " 23  Total Rural Villages         21117 non-null  float64       \n",
      " 24  Area (km2)                   21759 non-null  int64         \n",
      " 25  Population                   21759 non-null  int64         \n",
      " 26  Population Density           21759 non-null  float64       \n",
      " 27  Longitude                    21759 non-null  float64       \n",
      " 28  Latitude                     21759 non-null  float64       \n",
      " 29  New Cases per Million        21759 non-null  float64       \n",
      " 30  Total Cases per Million      21759 non-null  float64       \n",
      " 31  New Deaths per Million       21759 non-null  float64       \n",
      " 32  Total Deaths per Million     21759 non-null  float64       \n",
      " 33  Total Deaths per 100rb       21759 non-null  float64       \n",
      " 34  Case Fatality Rate           21759 non-null  object        \n",
      " 35  Case Recovered Rate          21759 non-null  object        \n",
      " 36  Growth Factor of New Cases   20572 non-null  float64       \n",
      " 37  Growth Factor of New Deaths  19292 non-null  float64       \n",
      "dtypes: datetime64[ns](1), float64(14), int64(12), object(11)\n",
      "memory usage: 6.3+ MB\n"
     ]
    }
   ],
   "source": [
    "df_covid19_indo.info()"
   ]
  },
  {
   "cell_type": "code",
   "execution_count": 171,
   "metadata": {},
   "outputs": [
    {
     "data": {
      "text/html": [
       "<div>\n",
       "<style scoped>\n",
       "    .dataframe tbody tr th:only-of-type {\n",
       "        vertical-align: middle;\n",
       "    }\n",
       "\n",
       "    .dataframe tbody tr th {\n",
       "        vertical-align: top;\n",
       "    }\n",
       "\n",
       "    .dataframe thead th {\n",
       "        text-align: right;\n",
       "    }\n",
       "</style>\n",
       "<table border=\"1\" class=\"dataframe\">\n",
       "  <thead>\n",
       "    <tr style=\"text-align: right;\">\n",
       "      <th></th>\n",
       "      <th>New Cases</th>\n",
       "      <th>New Deaths</th>\n",
       "      <th>New Recovered</th>\n",
       "      <th>New Active Cases</th>\n",
       "      <th>Total Cases</th>\n",
       "      <th>Total Deaths</th>\n",
       "      <th>Total Recovered</th>\n",
       "      <th>Total Active Cases</th>\n",
       "      <th>City or Regency</th>\n",
       "      <th>Total Regencies</th>\n",
       "      <th>Total Cities</th>\n",
       "      <th>Total Districts</th>\n",
       "      <th>Total Urban Villages</th>\n",
       "      <th>Total Rural Villages</th>\n",
       "      <th>Area (km2)</th>\n",
       "      <th>Population</th>\n",
       "      <th>Population Density</th>\n",
       "      <th>Longitude</th>\n",
       "      <th>Latitude</th>\n",
       "      <th>New Cases per Million</th>\n",
       "      <th>Total Cases per Million</th>\n",
       "      <th>New Deaths per Million</th>\n",
       "      <th>Total Deaths per Million</th>\n",
       "      <th>Total Deaths per 100rb</th>\n",
       "      <th>Growth Factor of New Cases</th>\n",
       "      <th>Growth Factor of New Deaths</th>\n",
       "    </tr>\n",
       "  </thead>\n",
       "  <tbody>\n",
       "    <tr>\n",
       "      <th>count</th>\n",
       "      <td>21759.000000</td>\n",
       "      <td>21759.000000</td>\n",
       "      <td>21759.000000</td>\n",
       "      <td>21759.000000</td>\n",
       "      <td>2.175900e+04</td>\n",
       "      <td>21759.000000</td>\n",
       "      <td>2.175900e+04</td>\n",
       "      <td>21759.000000</td>\n",
       "      <td>0.0</td>\n",
       "      <td>21759.000000</td>\n",
       "      <td>21145.000000</td>\n",
       "      <td>21759.000000</td>\n",
       "      <td>21142.000000</td>\n",
       "      <td>21117.000000</td>\n",
       "      <td>2.175900e+04</td>\n",
       "      <td>2.175900e+04</td>\n",
       "      <td>21759.000000</td>\n",
       "      <td>21759.000000</td>\n",
       "      <td>21759.000000</td>\n",
       "      <td>21759.000000</td>\n",
       "      <td>21759.000000</td>\n",
       "      <td>21759.000000</td>\n",
       "      <td>21759.000000</td>\n",
       "      <td>21759.000000</td>\n",
       "      <td>20572.000000</td>\n",
       "      <td>19292.000000</td>\n",
       "    </tr>\n",
       "    <tr>\n",
       "      <th>mean</th>\n",
       "      <td>391.293580</td>\n",
       "      <td>13.220415</td>\n",
       "      <td>377.310998</td>\n",
       "      <td>0.762167</td>\n",
       "      <td>8.525997e+04</td>\n",
       "      <td>2648.289352</td>\n",
       "      <td>7.671260e+04</td>\n",
       "      <td>5899.079002</td>\n",
       "      <td>NaN</td>\n",
       "      <td>24.160256</td>\n",
       "      <td>5.872499</td>\n",
       "      <td>420.444368</td>\n",
       "      <td>508.740517</td>\n",
       "      <td>4490.348298</td>\n",
       "      <td>1.112418e+05</td>\n",
       "      <td>1.547817e+07</td>\n",
       "      <td>744.989784</td>\n",
       "      <td>113.680803</td>\n",
       "      <td>-2.731868</td>\n",
       "      <td>29.393033</td>\n",
       "      <td>6183.650588</td>\n",
       "      <td>0.852727</td>\n",
       "      <td>163.542156</td>\n",
       "      <td>16.354192</td>\n",
       "      <td>1.395671</td>\n",
       "      <td>1.074145</td>\n",
       "    </tr>\n",
       "    <tr>\n",
       "      <th>std</th>\n",
       "      <td>2074.551043</td>\n",
       "      <td>76.482617</td>\n",
       "      <td>1999.062563</td>\n",
       "      <td>937.213509</td>\n",
       "      <td>3.685133e+05</td>\n",
       "      <td>11776.011067</td>\n",
       "      <td>3.403957e+05</td>\n",
       "      <td>27518.102431</td>\n",
       "      <td>NaN</td>\n",
       "      <td>68.708265</td>\n",
       "      <td>16.471412</td>\n",
       "      <td>1199.018696</td>\n",
       "      <td>1429.127644</td>\n",
       "      <td>12647.556247</td>\n",
       "      <td>3.203746e+05</td>\n",
       "      <td>4.483574e+07</td>\n",
       "      <td>2743.209719</td>\n",
       "      <td>9.857587</td>\n",
       "      <td>3.608264</td>\n",
       "      <td>69.941090</td>\n",
       "      <td>10288.123342</td>\n",
       "      <td>2.277310</td>\n",
       "      <td>254.195761</td>\n",
       "      <td>25.419595</td>\n",
       "      <td>3.080207</td>\n",
       "      <td>1.578502</td>\n",
       "    </tr>\n",
       "    <tr>\n",
       "      <th>min</th>\n",
       "      <td>0.000000</td>\n",
       "      <td>0.000000</td>\n",
       "      <td>0.000000</td>\n",
       "      <td>-25725.000000</td>\n",
       "      <td>1.000000e+00</td>\n",
       "      <td>0.000000</td>\n",
       "      <td>0.000000e+00</td>\n",
       "      <td>-2306.000000</td>\n",
       "      <td>NaN</td>\n",
       "      <td>1.000000</td>\n",
       "      <td>1.000000</td>\n",
       "      <td>44.000000</td>\n",
       "      <td>35.000000</td>\n",
       "      <td>275.000000</td>\n",
       "      <td>6.640000e+02</td>\n",
       "      <td>6.484070e+05</td>\n",
       "      <td>8.590000</td>\n",
       "      <td>96.910522</td>\n",
       "      <td>-8.682205</td>\n",
       "      <td>0.000000</td>\n",
       "      <td>0.010000</td>\n",
       "      <td>0.000000</td>\n",
       "      <td>0.000000</td>\n",
       "      <td>0.000000</td>\n",
       "      <td>0.000000</td>\n",
       "      <td>0.000000</td>\n",
       "    </tr>\n",
       "    <tr>\n",
       "      <th>25%</th>\n",
       "      <td>7.000000</td>\n",
       "      <td>0.000000</td>\n",
       "      <td>4.000000</td>\n",
       "      <td>-16.000000</td>\n",
       "      <td>1.822500e+03</td>\n",
       "      <td>50.000000</td>\n",
       "      <td>1.038500e+03</td>\n",
       "      <td>182.000000</td>\n",
       "      <td>NaN</td>\n",
       "      <td>7.000000</td>\n",
       "      <td>1.000000</td>\n",
       "      <td>103.000000</td>\n",
       "      <td>99.000000</td>\n",
       "      <td>928.000000</td>\n",
       "      <td>1.678700e+04</td>\n",
       "      <td>1.999539e+06</td>\n",
       "      <td>47.790000</td>\n",
       "      <td>106.109004</td>\n",
       "      <td>-6.204699</td>\n",
       "      <td>1.750000</td>\n",
       "      <td>415.915000</td>\n",
       "      <td>0.000000</td>\n",
       "      <td>10.880000</td>\n",
       "      <td>1.090000</td>\n",
       "      <td>0.650000</td>\n",
       "      <td>0.660000</td>\n",
       "    </tr>\n",
       "    <tr>\n",
       "      <th>50%</th>\n",
       "      <td>41.000000</td>\n",
       "      <td>1.000000</td>\n",
       "      <td>31.000000</td>\n",
       "      <td>0.000000</td>\n",
       "      <td>1.078000e+04</td>\n",
       "      <td>283.000000</td>\n",
       "      <td>8.745000e+03</td>\n",
       "      <td>919.000000</td>\n",
       "      <td>NaN</td>\n",
       "      <td>11.000000</td>\n",
       "      <td>2.000000</td>\n",
       "      <td>169.000000</td>\n",
       "      <td>175.000000</td>\n",
       "      <td>1591.000000</td>\n",
       "      <td>4.201300e+04</td>\n",
       "      <td>4.216171e+06</td>\n",
       "      <td>103.840000</td>\n",
       "      <td>113.417654</td>\n",
       "      <td>-2.461746</td>\n",
       "      <td>8.160000</td>\n",
       "      <td>2727.460000</td>\n",
       "      <td>0.180000</td>\n",
       "      <td>73.550000</td>\n",
       "      <td>7.350000</td>\n",
       "      <td>0.990000</td>\n",
       "      <td>1.000000</td>\n",
       "    </tr>\n",
       "    <tr>\n",
       "      <th>75%</th>\n",
       "      <td>151.000000</td>\n",
       "      <td>5.000000</td>\n",
       "      <td>143.000000</td>\n",
       "      <td>27.000000</td>\n",
       "      <td>3.646450e+04</td>\n",
       "      <td>1050.000000</td>\n",
       "      <td>3.293250e+04</td>\n",
       "      <td>2607.500000</td>\n",
       "      <td>NaN</td>\n",
       "      <td>18.000000</td>\n",
       "      <td>4.000000</td>\n",
       "      <td>289.000000</td>\n",
       "      <td>332.000000</td>\n",
       "      <td>2853.000000</td>\n",
       "      <td>7.546800e+04</td>\n",
       "      <td>9.095591e+06</td>\n",
       "      <td>262.700000</td>\n",
       "      <td>121.201093</td>\n",
       "      <td>0.212037</td>\n",
       "      <td>26.260000</td>\n",
       "      <td>7374.120000</td>\n",
       "      <td>0.750000</td>\n",
       "      <td>195.850000</td>\n",
       "      <td>19.585000</td>\n",
       "      <td>1.330000</td>\n",
       "      <td>1.000000</td>\n",
       "    </tr>\n",
       "    <tr>\n",
       "      <th>max</th>\n",
       "      <td>56757.000000</td>\n",
       "      <td>2069.000000</td>\n",
       "      <td>48832.000000</td>\n",
       "      <td>36726.000000</td>\n",
       "      <td>4.257243e+06</td>\n",
       "      <td>143858.000000</td>\n",
       "      <td>4.105680e+06</td>\n",
       "      <td>574135.000000</td>\n",
       "      <td>NaN</td>\n",
       "      <td>416.000000</td>\n",
       "      <td>98.000000</td>\n",
       "      <td>7230.000000</td>\n",
       "      <td>8488.000000</td>\n",
       "      <td>74953.000000</td>\n",
       "      <td>1.916907e+06</td>\n",
       "      <td>2.651855e+08</td>\n",
       "      <td>16334.310000</td>\n",
       "      <td>138.696030</td>\n",
       "      <td>4.225615</td>\n",
       "      <td>1348.130000</td>\n",
       "      <td>79663.790000</td>\n",
       "      <td>63.800000</td>\n",
       "      <td>1533.980000</td>\n",
       "      <td>153.400000</td>\n",
       "      <td>175.000000</td>\n",
       "      <td>134.500000</td>\n",
       "    </tr>\n",
       "  </tbody>\n",
       "</table>\n",
       "</div>"
      ],
      "text/plain": [
       "          New Cases    New Deaths  New Recovered  New Active Cases  \\\n",
       "count  21759.000000  21759.000000   21759.000000      21759.000000   \n",
       "mean     391.293580     13.220415     377.310998          0.762167   \n",
       "std     2074.551043     76.482617    1999.062563        937.213509   \n",
       "min        0.000000      0.000000       0.000000     -25725.000000   \n",
       "25%        7.000000      0.000000       4.000000        -16.000000   \n",
       "50%       41.000000      1.000000      31.000000          0.000000   \n",
       "75%      151.000000      5.000000     143.000000         27.000000   \n",
       "max    56757.000000   2069.000000   48832.000000      36726.000000   \n",
       "\n",
       "        Total Cases   Total Deaths  Total Recovered  Total Active Cases  \\\n",
       "count  2.175900e+04   21759.000000     2.175900e+04        21759.000000   \n",
       "mean   8.525997e+04    2648.289352     7.671260e+04         5899.079002   \n",
       "std    3.685133e+05   11776.011067     3.403957e+05        27518.102431   \n",
       "min    1.000000e+00       0.000000     0.000000e+00        -2306.000000   \n",
       "25%    1.822500e+03      50.000000     1.038500e+03          182.000000   \n",
       "50%    1.078000e+04     283.000000     8.745000e+03          919.000000   \n",
       "75%    3.646450e+04    1050.000000     3.293250e+04         2607.500000   \n",
       "max    4.257243e+06  143858.000000     4.105680e+06       574135.000000   \n",
       "\n",
       "       City or Regency  Total Regencies  Total Cities  Total Districts  \\\n",
       "count              0.0     21759.000000  21145.000000     21759.000000   \n",
       "mean               NaN        24.160256      5.872499       420.444368   \n",
       "std                NaN        68.708265     16.471412      1199.018696   \n",
       "min                NaN         1.000000      1.000000        44.000000   \n",
       "25%                NaN         7.000000      1.000000       103.000000   \n",
       "50%                NaN        11.000000      2.000000       169.000000   \n",
       "75%                NaN        18.000000      4.000000       289.000000   \n",
       "max                NaN       416.000000     98.000000      7230.000000   \n",
       "\n",
       "       Total Urban Villages  Total Rural Villages    Area (km2)    Population  \\\n",
       "count          21142.000000          21117.000000  2.175900e+04  2.175900e+04   \n",
       "mean             508.740517           4490.348298  1.112418e+05  1.547817e+07   \n",
       "std             1429.127644          12647.556247  3.203746e+05  4.483574e+07   \n",
       "min               35.000000            275.000000  6.640000e+02  6.484070e+05   \n",
       "25%               99.000000            928.000000  1.678700e+04  1.999539e+06   \n",
       "50%              175.000000           1591.000000  4.201300e+04  4.216171e+06   \n",
       "75%              332.000000           2853.000000  7.546800e+04  9.095591e+06   \n",
       "max             8488.000000          74953.000000  1.916907e+06  2.651855e+08   \n",
       "\n",
       "       Population Density     Longitude      Latitude  New Cases per Million  \\\n",
       "count        21759.000000  21759.000000  21759.000000           21759.000000   \n",
       "mean           744.989784    113.680803     -2.731868              29.393033   \n",
       "std           2743.209719      9.857587      3.608264              69.941090   \n",
       "min              8.590000     96.910522     -8.682205               0.000000   \n",
       "25%             47.790000    106.109004     -6.204699               1.750000   \n",
       "50%            103.840000    113.417654     -2.461746               8.160000   \n",
       "75%            262.700000    121.201093      0.212037              26.260000   \n",
       "max          16334.310000    138.696030      4.225615            1348.130000   \n",
       "\n",
       "       Total Cases per Million  New Deaths per Million  \\\n",
       "count             21759.000000            21759.000000   \n",
       "mean               6183.650588                0.852727   \n",
       "std               10288.123342                2.277310   \n",
       "min                   0.010000                0.000000   \n",
       "25%                 415.915000                0.000000   \n",
       "50%                2727.460000                0.180000   \n",
       "75%                7374.120000                0.750000   \n",
       "max               79663.790000               63.800000   \n",
       "\n",
       "       Total Deaths per Million  Total Deaths per 100rb  \\\n",
       "count              21759.000000            21759.000000   \n",
       "mean                 163.542156               16.354192   \n",
       "std                  254.195761               25.419595   \n",
       "min                    0.000000                0.000000   \n",
       "25%                   10.880000                1.090000   \n",
       "50%                   73.550000                7.350000   \n",
       "75%                  195.850000               19.585000   \n",
       "max                 1533.980000              153.400000   \n",
       "\n",
       "       Growth Factor of New Cases  Growth Factor of New Deaths  \n",
       "count                20572.000000                 19292.000000  \n",
       "mean                     1.395671                     1.074145  \n",
       "std                      3.080207                     1.578502  \n",
       "min                      0.000000                     0.000000  \n",
       "25%                      0.650000                     0.660000  \n",
       "50%                      0.990000                     1.000000  \n",
       "75%                      1.330000                     1.000000  \n",
       "max                    175.000000                   134.500000  "
      ]
     },
     "execution_count": 171,
     "metadata": {},
     "output_type": "execute_result"
    }
   ],
   "source": [
    "df_covid19_indo.describe()"
   ]
  },
  {
   "cell_type": "markdown",
   "metadata": {},
   "source": [
    "Covid-19 Data was Grouped by Date=\"Monthly\" "
   ]
  },
  {
   "cell_type": "code",
   "execution_count": 157,
   "metadata": {},
   "outputs": [
    {
     "data": {
      "text/html": [
       "<div>\n",
       "<style scoped>\n",
       "    .dataframe tbody tr th:only-of-type {\n",
       "        vertical-align: middle;\n",
       "    }\n",
       "\n",
       "    .dataframe tbody tr th {\n",
       "        vertical-align: top;\n",
       "    }\n",
       "\n",
       "    .dataframe thead th {\n",
       "        text-align: right;\n",
       "    }\n",
       "</style>\n",
       "<table border=\"1\" class=\"dataframe\">\n",
       "  <thead>\n",
       "    <tr style=\"text-align: right;\">\n",
       "      <th></th>\n",
       "      <th>New Cases</th>\n",
       "      <th>New Deaths</th>\n",
       "      <th>New Recovered</th>\n",
       "      <th>New Active Cases</th>\n",
       "      <th>Total Cases</th>\n",
       "      <th>Total Deaths</th>\n",
       "      <th>Total Recovered</th>\n",
       "      <th>Total Active Cases</th>\n",
       "      <th>City or Regency</th>\n",
       "      <th>Total Regencies</th>\n",
       "      <th>Total Cities</th>\n",
       "      <th>Total Districts</th>\n",
       "      <th>Total Urban Villages</th>\n",
       "      <th>Total Rural Villages</th>\n",
       "      <th>Area (km2)</th>\n",
       "      <th>Population</th>\n",
       "      <th>Population Density</th>\n",
       "      <th>Longitude</th>\n",
       "      <th>Latitude</th>\n",
       "      <th>New Cases per Million</th>\n",
       "      <th>Total Cases per Million</th>\n",
       "      <th>New Deaths per Million</th>\n",
       "      <th>Total Deaths per Million</th>\n",
       "      <th>Total Deaths per 100rb</th>\n",
       "      <th>Growth Factor of New Cases</th>\n",
       "      <th>Growth Factor of New Deaths</th>\n",
       "    </tr>\n",
       "    <tr>\n",
       "      <th>Date</th>\n",
       "      <th></th>\n",
       "      <th></th>\n",
       "      <th></th>\n",
       "      <th></th>\n",
       "      <th></th>\n",
       "      <th></th>\n",
       "      <th></th>\n",
       "      <th></th>\n",
       "      <th></th>\n",
       "      <th></th>\n",
       "      <th></th>\n",
       "      <th></th>\n",
       "      <th></th>\n",
       "      <th></th>\n",
       "      <th></th>\n",
       "      <th></th>\n",
       "      <th></th>\n",
       "      <th></th>\n",
       "      <th></th>\n",
       "      <th></th>\n",
       "      <th></th>\n",
       "      <th></th>\n",
       "      <th></th>\n",
       "      <th></th>\n",
       "      <th></th>\n",
       "      <th></th>\n",
       "    </tr>\n",
       "  </thead>\n",
       "  <tbody>\n",
       "    <tr>\n",
       "      <th>2020-03-31</th>\n",
       "      <td>2548</td>\n",
       "      <td>322</td>\n",
       "      <td>272</td>\n",
       "      <td>1954</td>\n",
       "      <td>19373</td>\n",
       "      <td>3795</td>\n",
       "      <td>9489</td>\n",
       "      <td>6089</td>\n",
       "      <td>0.0</td>\n",
       "      <td>17268</td>\n",
       "      <td>4362.0</td>\n",
       "      <td>311079</td>\n",
       "      <td>379953.0</td>\n",
       "      <td>3200602.0</td>\n",
       "      <td>77043312</td>\n",
       "      <td>12547816592</td>\n",
       "      <td>669868.38</td>\n",
       "      <td>45882.629642</td>\n",
       "      <td>-1376.064177</td>\n",
       "      <td>100.02</td>\n",
       "      <td>678.86</td>\n",
       "      <td>17.06</td>\n",
       "      <td>216.26</td>\n",
       "      <td>21.54</td>\n",
       "      <td>398.64</td>\n",
       "      <td>327.64</td>\n",
       "    </tr>\n",
       "    <tr>\n",
       "      <th>2020-04-30</th>\n",
       "      <td>17248</td>\n",
       "      <td>1345</td>\n",
       "      <td>3440</td>\n",
       "      <td>12463</td>\n",
       "      <td>317461</td>\n",
       "      <td>33499</td>\n",
       "      <td>62594</td>\n",
       "      <td>221368</td>\n",
       "      <td>0.0</td>\n",
       "      <td>24747</td>\n",
       "      <td>5863.0</td>\n",
       "      <td>430635</td>\n",
       "      <td>506016.0</td>\n",
       "      <td>4467059.0</td>\n",
       "      <td>114523333</td>\n",
       "      <td>15857214773</td>\n",
       "      <td>761368.12</td>\n",
       "      <td>117341.108290</td>\n",
       "      <td>-2790.560669</td>\n",
       "      <td>1215.61</td>\n",
       "      <td>18682.77</td>\n",
       "      <td>62.03</td>\n",
       "      <td>1736.91</td>\n",
       "      <td>173.77</td>\n",
       "      <td>1053.33</td>\n",
       "      <td>913.39</td>\n",
       "    </tr>\n",
       "    <tr>\n",
       "      <th>2020-05-31</th>\n",
       "      <td>33546</td>\n",
       "      <td>1707</td>\n",
       "      <td>12641</td>\n",
       "      <td>19198</td>\n",
       "      <td>1098871</td>\n",
       "      <td>78475</td>\n",
       "      <td>297177</td>\n",
       "      <td>723219</td>\n",
       "      <td>0.0</td>\n",
       "      <td>25792</td>\n",
       "      <td>6076.0</td>\n",
       "      <td>448260</td>\n",
       "      <td>526256.0</td>\n",
       "      <td>4647086.0</td>\n",
       "      <td>118848203</td>\n",
       "      <td>16441502240</td>\n",
       "      <td>788640.62</td>\n",
       "      <td>123395.738680</td>\n",
       "      <td>-2948.963128</td>\n",
       "      <td>2407.53</td>\n",
       "      <td>75343.34</td>\n",
       "      <td>103.82</td>\n",
       "      <td>4013.07</td>\n",
       "      <td>401.15</td>\n",
       "      <td>1496.52</td>\n",
       "      <td>915.80</td>\n",
       "    </tr>\n",
       "    <tr>\n",
       "      <th>2020-06-30</th>\n",
       "      <td>60649</td>\n",
       "      <td>2824</td>\n",
       "      <td>36687</td>\n",
       "      <td>21138</td>\n",
       "      <td>2447479</td>\n",
       "      <td>144156</td>\n",
       "      <td>1016701</td>\n",
       "      <td>1286622</td>\n",
       "      <td>0.0</td>\n",
       "      <td>24960</td>\n",
       "      <td>5880.0</td>\n",
       "      <td>433800</td>\n",
       "      <td>509280.0</td>\n",
       "      <td>4497180.0</td>\n",
       "      <td>115014390</td>\n",
       "      <td>15911131200</td>\n",
       "      <td>763200.60</td>\n",
       "      <td>119415.230981</td>\n",
       "      <td>-2853.835286</td>\n",
       "      <td>4437.60</td>\n",
       "      <td>175210.51</td>\n",
       "      <td>169.49</td>\n",
       "      <td>8119.49</td>\n",
       "      <td>811.75</td>\n",
       "      <td>1256.59</td>\n",
       "      <td>923.95</td>\n",
       "    </tr>\n",
       "    <tr>\n",
       "      <th>2020-07-31</th>\n",
       "      <td>105594</td>\n",
       "      <td>4604</td>\n",
       "      <td>79387</td>\n",
       "      <td>21603</td>\n",
       "      <td>5154699</td>\n",
       "      <td>262940</td>\n",
       "      <td>2735460</td>\n",
       "      <td>2156299</td>\n",
       "      <td>0.0</td>\n",
       "      <td>25792</td>\n",
       "      <td>6076.0</td>\n",
       "      <td>448260</td>\n",
       "      <td>526256.0</td>\n",
       "      <td>4647086.0</td>\n",
       "      <td>118848203</td>\n",
       "      <td>16441502240</td>\n",
       "      <td>788640.62</td>\n",
       "      <td>123395.738680</td>\n",
       "      <td>-2948.963128</td>\n",
       "      <td>7685.48</td>\n",
       "      <td>366487.84</td>\n",
       "      <td>231.58</td>\n",
       "      <td>14555.79</td>\n",
       "      <td>1455.39</td>\n",
       "      <td>1416.81</td>\n",
       "      <td>904.92</td>\n",
       "    </tr>\n",
       "  </tbody>\n",
       "</table>\n",
       "</div>"
      ],
      "text/plain": [
       "            New Cases  New Deaths  New Recovered  New Active Cases  \\\n",
       "Date                                                                 \n",
       "2020-03-31       2548         322            272              1954   \n",
       "2020-04-30      17248        1345           3440             12463   \n",
       "2020-05-31      33546        1707          12641             19198   \n",
       "2020-06-30      60649        2824          36687             21138   \n",
       "2020-07-31     105594        4604          79387             21603   \n",
       "\n",
       "            Total Cases  Total Deaths  Total Recovered  Total Active Cases  \\\n",
       "Date                                                                         \n",
       "2020-03-31        19373          3795             9489                6089   \n",
       "2020-04-30       317461         33499            62594              221368   \n",
       "2020-05-31      1098871         78475           297177              723219   \n",
       "2020-06-30      2447479        144156          1016701             1286622   \n",
       "2020-07-31      5154699        262940          2735460             2156299   \n",
       "\n",
       "            City or Regency  Total Regencies  Total Cities  Total Districts  \\\n",
       "Date                                                                          \n",
       "2020-03-31              0.0            17268        4362.0           311079   \n",
       "2020-04-30              0.0            24747        5863.0           430635   \n",
       "2020-05-31              0.0            25792        6076.0           448260   \n",
       "2020-06-30              0.0            24960        5880.0           433800   \n",
       "2020-07-31              0.0            25792        6076.0           448260   \n",
       "\n",
       "            Total Urban Villages  Total Rural Villages  Area (km2)  \\\n",
       "Date                                                                 \n",
       "2020-03-31              379953.0             3200602.0    77043312   \n",
       "2020-04-30              506016.0             4467059.0   114523333   \n",
       "2020-05-31              526256.0             4647086.0   118848203   \n",
       "2020-06-30              509280.0             4497180.0   115014390   \n",
       "2020-07-31              526256.0             4647086.0   118848203   \n",
       "\n",
       "             Population  Population Density      Longitude     Latitude  \\\n",
       "Date                                                                      \n",
       "2020-03-31  12547816592           669868.38   45882.629642 -1376.064177   \n",
       "2020-04-30  15857214773           761368.12  117341.108290 -2790.560669   \n",
       "2020-05-31  16441502240           788640.62  123395.738680 -2948.963128   \n",
       "2020-06-30  15911131200           763200.60  119415.230981 -2853.835286   \n",
       "2020-07-31  16441502240           788640.62  123395.738680 -2948.963128   \n",
       "\n",
       "            New Cases per Million  Total Cases per Million  \\\n",
       "Date                                                         \n",
       "2020-03-31                 100.02                   678.86   \n",
       "2020-04-30                1215.61                 18682.77   \n",
       "2020-05-31                2407.53                 75343.34   \n",
       "2020-06-30                4437.60                175210.51   \n",
       "2020-07-31                7685.48                366487.84   \n",
       "\n",
       "            New Deaths per Million  Total Deaths per Million  \\\n",
       "Date                                                           \n",
       "2020-03-31                   17.06                    216.26   \n",
       "2020-04-30                   62.03                   1736.91   \n",
       "2020-05-31                  103.82                   4013.07   \n",
       "2020-06-30                  169.49                   8119.49   \n",
       "2020-07-31                  231.58                  14555.79   \n",
       "\n",
       "            Total Deaths per 100rb  Growth Factor of New Cases  \\\n",
       "Date                                                             \n",
       "2020-03-31                   21.54                      398.64   \n",
       "2020-04-30                  173.77                     1053.33   \n",
       "2020-05-31                  401.15                     1496.52   \n",
       "2020-06-30                  811.75                     1256.59   \n",
       "2020-07-31                 1455.39                     1416.81   \n",
       "\n",
       "            Growth Factor of New Deaths  \n",
       "Date                                     \n",
       "2020-03-31                       327.64  \n",
       "2020-04-30                       913.39  \n",
       "2020-05-31                       915.80  \n",
       "2020-06-30                       923.95  \n",
       "2020-07-31                       904.92  "
      ]
     },
     "execution_count": 157,
     "metadata": {},
     "output_type": "execute_result"
    }
   ],
   "source": [
    "df_covid19_indo_monthly = df_covid19_indo.groupby(pd.Grouper(key='Date', axis=0, freq='M')).sum()\n",
    "df_covid19_indo_monthly.head()"
   ]
  },
  {
   "cell_type": "markdown",
   "metadata": {},
   "source": [
    "## Handling Missing Values"
   ]
  },
  {
   "cell_type": "markdown",
   "metadata": {},
   "source": [
    "Copy dataset original"
   ]
  },
  {
   "cell_type": "code",
   "execution_count": 158,
   "metadata": {},
   "outputs": [],
   "source": [
    "df = df_covid19_indo_monthly.copy()"
   ]
  },
  {
   "cell_type": "markdown",
   "metadata": {},
   "source": [
    "Check Missing Values in dataset"
   ]
  },
  {
   "cell_type": "code",
   "execution_count": 159,
   "metadata": {},
   "outputs": [
    {
     "data": {
      "text/plain": [
       "New Cases                      0\n",
       "New Deaths                     0\n",
       "New Recovered                  0\n",
       "New Active Cases               0\n",
       "Total Cases                    0\n",
       "Total Deaths                   0\n",
       "Total Recovered                0\n",
       "Total Active Cases             0\n",
       "City or Regency                0\n",
       "Total Regencies                0\n",
       "Total Cities                   0\n",
       "Total Districts                0\n",
       "Total Urban Villages           0\n",
       "Total Rural Villages           0\n",
       "Area (km2)                     0\n",
       "Population                     0\n",
       "Population Density             0\n",
       "Longitude                      0\n",
       "Latitude                       0\n",
       "New Cases per Million          0\n",
       "Total Cases per Million        0\n",
       "New Deaths per Million         0\n",
       "Total Deaths per Million       0\n",
       "Total Deaths per 100rb         0\n",
       "Growth Factor of New Cases     0\n",
       "Growth Factor of New Deaths    0\n",
       "dtype: int64"
      ]
     },
     "execution_count": 159,
     "metadata": {},
     "output_type": "execute_result"
    }
   ],
   "source": [
    "df.isnull().sum()"
   ]
  },
  {
   "cell_type": "markdown",
   "metadata": {},
   "source": [
    "Drop Column have missing values because we will not use"
   ]
  },
  {
   "cell_type": "code",
   "execution_count": 160,
   "metadata": {},
   "outputs": [],
   "source": [
    "df = df.drop([\"City or Regency\", \"Total Cities\", \"Total Urban Villages\", \"Total Rural Villages\", \"Growth Factor of New Cases\", \"Growth Factor of New Deaths\"], axis=1)"
   ]
  },
  {
   "cell_type": "code",
   "execution_count": 161,
   "metadata": {},
   "outputs": [
    {
     "data": {
      "text/plain": [
       "Index(['New Cases', 'New Deaths', 'New Recovered', 'New Active Cases',\n",
       "       'Total Cases', 'Total Deaths', 'Total Recovered', 'Total Active Cases',\n",
       "       'Total Regencies', 'Total Districts', 'Area (km2)', 'Population',\n",
       "       'Population Density', 'Longitude', 'Latitude', 'New Cases per Million',\n",
       "       'Total Cases per Million', 'New Deaths per Million',\n",
       "       'Total Deaths per Million', 'Total Deaths per 100rb'],\n",
       "      dtype='object')"
      ]
     },
     "execution_count": 161,
     "metadata": {},
     "output_type": "execute_result"
    }
   ],
   "source": [
    "df.columns"
   ]
  },
  {
   "cell_type": "markdown",
   "metadata": {},
   "source": [
    "Select Numerical Variable from dataset then set as the list with a variable name is num_data"
   ]
  },
  {
   "cell_type": "code",
   "execution_count": 162,
   "metadata": {},
   "outputs": [],
   "source": [
    "numerics = ['int16', 'int32', 'int64', 'float16', 'float32', 'float64']\n",
    "\n",
    "num_data = df.select_dtypes(include=numerics)"
   ]
  },
  {
   "cell_type": "code",
   "execution_count": 163,
   "metadata": {},
   "outputs": [
    {
     "name": "stdout",
     "output_type": "stream",
     "text": [
      "(22, 20)\n"
     ]
    }
   ],
   "source": [
    "print(num_data.shape)"
   ]
  },
  {
   "cell_type": "code",
   "execution_count": 164,
   "metadata": {},
   "outputs": [
    {
     "data": {
      "text/plain": [
       "New Cases                   0\n",
       "New Deaths                  0\n",
       "New Recovered               0\n",
       "New Active Cases            0\n",
       "Total Cases                 0\n",
       "Total Deaths                0\n",
       "Total Recovered             0\n",
       "Total Active Cases          0\n",
       "Total Regencies             0\n",
       "Total Districts             0\n",
       "Area (km2)                  0\n",
       "Population                  0\n",
       "Population Density          0\n",
       "Longitude                   0\n",
       "Latitude                    0\n",
       "New Cases per Million       0\n",
       "Total Cases per Million     0\n",
       "New Deaths per Million      0\n",
       "Total Deaths per Million    0\n",
       "Total Deaths per 100rb      0\n",
       "dtype: int64"
      ]
     },
     "execution_count": 164,
     "metadata": {},
     "output_type": "execute_result"
    }
   ],
   "source": [
    "# Check missing values num_data\n",
    "num_data.isnull().sum()"
   ]
  },
  {
   "cell_type": "markdown",
   "metadata": {},
   "source": [
    "## Measure of Central Tendency"
   ]
  },
  {
   "cell_type": "markdown",
   "metadata": {},
   "source": [
    "A measure of central tendency is a single value that attempts to describe a set of data by identifying the central position within that set of data. As such, measures of central tendency are sometimes called measures of central location. They are also classed as summary statistics. The mean (often called the average) is most likely the measure of central tendency that you are most familiar with, but there are others, such as the median and the mode."
   ]
  },
  {
   "cell_type": "markdown",
   "metadata": {},
   "source": [
    "Monthly mean of New Cases, New Deaths, New Recover of Positive Covid-19"
   ]
  },
  {
   "cell_type": "code",
   "execution_count": 170,
   "metadata": {},
   "outputs": [
    {
     "name": "stdout",
     "output_type": "stream",
     "text": [
      "Monthly average of new cases covid-19:  387007\n"
     ]
    }
   ],
   "source": [
    "avg_new_cases = round(df['New Cases'].mean())\n",
    "print(\"Monthly average of new cases covid-19: \", avg_new_cases)"
   ]
  },
  {
   "cell_type": "code",
   "execution_count": 172,
   "metadata": {},
   "outputs": [
    {
     "name": "stdout",
     "output_type": "stream",
     "text": [
      "Monthly average of new deaths covid-19:  13076\n"
     ]
    }
   ],
   "source": [
    "avg_new_death = round(df['New Deaths'].mean())\n",
    "print(\"Monthly average of new deaths covid-19: \", avg_new_death)"
   ]
  },
  {
   "cell_type": "code",
   "execution_count": 173,
   "metadata": {},
   "outputs": [
    {
     "name": "stdout",
     "output_type": "stream",
     "text": [
      "Monthly average of new recovered covid-19:  373178\n"
     ]
    }
   ],
   "source": [
    "avg_new_recover = round(df['New Recovered'].mean())\n",
    "print(\"Monthly average of new recovered covid-19: \", avg_new_recover)"
   ]
  },
  {
   "cell_type": "markdown",
   "metadata": {},
   "source": [
    "Monthly Median of New Cases, New Deaths, New Recover of Positive Covid-19"
   ]
  },
  {
   "cell_type": "code",
   "execution_count": 175,
   "metadata": {},
   "outputs": [
    {
     "name": "stdout",
     "output_type": "stream",
     "text": [
      "Monthly median of new cases covid-19:  248948\n"
     ]
    }
   ],
   "source": [
    "med_new_cases = round(df['New Cases'].median())\n",
    "print(\"Monthly median of new cases covid-19: \", med_new_cases)"
   ]
  },
  {
   "cell_type": "code",
   "execution_count": 177,
   "metadata": {},
   "outputs": [
    {
     "name": "stdout",
     "output_type": "stream",
     "text": [
      "Monthly median of new deaths covid-19:  6498\n"
     ]
    }
   ],
   "source": [
    "med_new_death = round(df['New Deaths'].median())\n",
    "print(\"Monthly median of new deaths covid-19: \", med_new_death)"
   ]
  },
  {
   "cell_type": "code",
   "execution_count": 178,
   "metadata": {},
   "outputs": [
    {
     "name": "stdout",
     "output_type": "stream",
     "text": [
      "Monthly median of new recovered covid-19:  240608\n"
     ]
    }
   ],
   "source": [
    "med_new_recover = round(df['New Recovered'].median())\n",
    "print(\"Monthly median of new recovered covid-19: \", med_new_recover)"
   ]
  },
  {
   "cell_type": "code",
   "execution_count": 191,
   "metadata": {},
   "outputs": [
    {
     "data": {
      "image/png": "[encoded data removed]",
      "text/plain": [
       "<Figure size 432x288 with 1 Axes>"
      ]
     },
     "metadata": {
      "needs_background": "light"
     },
     "output_type": "display_data"
    }
   ],
   "source": [
    "# Create Histogram New Cases\n",
    "import scipy.stats as stats\n",
    "\n",
    "%matplotlib inline\n",
    "new_cases = df['New Cases']\n",
    "new_cases.plot.hist(title='New Cases Monthly Distribution', color='lightblue', bins=22)\n",
    "density = stats.gaussian_kde(new_cases)\n",
    "n, x, _ = plt.hist(new_cases, histtype='step', bins=22)\n",
    "plt.plot(x, density(x)*10**6)\n",
    "plt.axvline(avg_new_cases, color='magenta', linestyle='dashed', linewidth=2)\n",
    "plt.axvline(med_new_cases, color='green', linestyle='dashed', linewidth=2)\n",
    "plt.show()"
   ]
  },
  {
   "cell_type": "code",
   "execution_count": 196,
   "metadata": {},
   "outputs": [
    {
     "data": {
      "image/png": "[encoded data removed]",
      "text/plain": [
       "<Figure size 432x288 with 1 Axes>"
      ]
     },
     "metadata": {
      "needs_background": "light"
     },
     "output_type": "display_data"
    }
   ],
   "source": [
    "# Create Histogram New Deaths\n",
    "\n",
    "%matplotlib inline\n",
    "new_death = df['New Deaths']\n",
    "new_death.plot.hist(title='New Deaths Monthly Distribution', color='lightblue', bins=22)\n",
    "density = stats.gaussian_kde(new_death)\n",
    "n, x, _ = plt.hist(new_death, histtype='step', bins=22)\n",
    "new_death.plot.hist(title='New Deaths Monthly Distribution', color='lightblue', bins=22)\n",
    "plt.plot(x, density(x)*10**5)\n",
    "plt.axvline(avg_new_death, color='magenta', linestyle='dashed', linewidth=2)\n",
    "plt.axvline(med_new_death, color='green', linestyle='dashed', linewidth=2)\n",
    "plt.show()"
   ]
  },
  {
   "cell_type": "code",
   "execution_count": 200,
   "metadata": {},
   "outputs": [
    {
     "data": {
      "image/png": "[encoded data removed]",
      "text/plain": [
       "<Figure size 432x288 with 1 Axes>"
      ]
     },
     "metadata": {
      "needs_background": "light"
     },
     "output_type": "display_data"
    }
   ],
   "source": [
    "# Create Histogram New Recovered\n",
    "\n",
    "%matplotlib inline\n",
    "new_rec = df['New Recovered']\n",
    "new_rec.plot.hist(title='New Recovered Monthly Distribution', color='lightblue', bins=22)\n",
    "density = stats.gaussian_kde(new_rec)\n",
    "n, x, _ = plt.hist(new_rec, histtype='step', bins=22)\n",
    "new_rec.plot.hist(title='New Deaths Monthly Distribution', color='lightblue', bins=22)\n",
    "plt.plot(x, density(x)*10**6)\n",
    "new_rec.plot.hist(title='New Deaths Monthly Distribution', color='lightblue', bins=22)\n",
    "plt.axvline(avg_new_recover, color='magenta', linestyle='dashed', linewidth=2)\n",
    "plt.axvline(med_new_recover, color='green', linestyle='dashed', linewidth=2)\n",
    "plt.show()"
   ]
  },
  {
   "cell_type": "markdown",
   "metadata": {},
   "source": [
    "## Measure of Variance"
   ]
  },
  {
   "cell_type": "markdown",
   "metadata": {},
   "source": [
    "#### Range"
   ]
  },
  {
   "cell_type": "code",
   "execution_count": 227,
   "metadata": {},
   "outputs": [
    {
     "name": "stdout",
     "output_type": "stream",
     "text": [
      "New Cases range: 2455728\n",
      "----------------------------------------------------------------------------------------------------\n",
      "New Deaths range: 77396\n",
      "----------------------------------------------------------------------------------------------------\n",
      "New Recovered range: 1968512\n",
      "----------------------------------------------------------------------------------------------------\n"
     ]
    }
   ],
   "source": [
    "numcols = ['New Cases', 'New Deaths', 'New Recovered']\n",
    "\n",
    "for col in numcols:\n",
    "    print(df[col].name + ' range: ' + str(df[col].max() - df[col].min()))\n",
    "    print('-'*100)\n"
   ]
  },
  {
   "cell_type": "markdown",
   "metadata": {},
   "source": [
    "#### Percentile"
   ]
  },
  {
   "cell_type": "code",
   "execution_count": 226,
   "metadata": {},
   "outputs": [
    {
     "name": "stdout",
     "output_type": "stream",
     "text": [
      "New Cases Percentile of mean: \n",
      "72.72727272727273\n",
      "----------------------------------------------------------------------------------------------------\n",
      "New Deaths Percentile of mean: \n",
      "77.27272727272727\n",
      "----------------------------------------------------------------------------------------------------\n",
      "New Recovered Percentile of mean: \n",
      "68.18181818181817\n",
      "----------------------------------------------------------------------------------------------------\n"
     ]
    }
   ],
   "source": [
    "numcols = ['New Cases', 'New Deaths', 'New Recovered']\n",
    "\n",
    "for col in numcols:\n",
    "    print(df[col].name + \" Percentile of mean: \") \n",
    "    print(stats.percentileofscore(df[col], df[col].mean(), 'strict'))\n",
    "    print('-'*100)"
   ]
  },
  {
   "cell_type": "markdown",
   "metadata": {},
   "source": [
    "#### Quartiles"
   ]
  },
  {
   "cell_type": "code",
   "execution_count": 225,
   "metadata": {},
   "outputs": [
    {
     "name": "stdout",
     "output_type": "stream",
     "text": [
      "New Cases Quartiles: \n",
      "0.25     59045.5\n",
      "0.50    248948.5\n",
      "0.75    395883.5\n",
      "Name: New Cases, dtype: float64\n",
      "----------------------------------------------------------------------------------------------------\n",
      "New Deaths Quartiles: \n",
      "0.25     2838.75\n",
      "0.50     6498.50\n",
      "0.75    11826.75\n",
      "Name: New Deaths, dtype: float64\n",
      "----------------------------------------------------------------------------------------------------\n",
      "New Recovered Quartiles: \n",
      "0.25     47362.00\n",
      "0.50    240608.00\n",
      "0.75    422012.75\n",
      "Name: New Recovered, dtype: float64\n",
      "----------------------------------------------------------------------------------------------------\n"
     ]
    }
   ],
   "source": [
    "numcols = ['New Cases', 'New Deaths', 'New Recovered']\n",
    "\n",
    "for col in numcols:\n",
    "    print(df[col].name + \" Quartiles: \")\n",
    "    print(df[col].quantile([0.25, 0.5, 0.75]))\n",
    "    print('-'*100)"
   ]
  },
  {
   "cell_type": "markdown",
   "metadata": {},
   "source": [
    "#### Box Plot"
   ]
  },
  {
   "cell_type": "code",
   "execution_count": 230,
   "metadata": {},
   "outputs": [
    {
     "data": {
      "image/png": "[encoded data removed]",
      "text/plain": [
       "<Figure size 720x576 with 1 Axes>"
      ]
     },
     "metadata": {
      "needs_background": "light"
     },
     "output_type": "display_data"
    },
    {
     "data": {
      "image/png": "[encoded data removed]",
      "text/plain": [
       "<Figure size 720x576 with 1 Axes>"
      ]
     },
     "metadata": {
      "needs_background": "light"
     },
     "output_type": "display_data"
    },
    {
     "data": {
      "image/png": "[encoded data removed]",
      "text/plain": [
       "<Figure size 720x576 with 1 Axes>"
      ]
     },
     "metadata": {
      "needs_background": "light"
     },
     "output_type": "display_data"
    }
   ],
   "source": [
    "numcols = ['New Cases', 'New Deaths', 'New Recovered']\n",
    "\n",
    "for col in numcols:\n",
    "    df[col].plot(kind='box', title=df[col].name + ' Distribution', figsize=(10,8))\n",
    "    plt.show()"
   ]
  },
  {
   "cell_type": "markdown",
   "metadata": {},
   "source": [
    "#### Variance"
   ]
  },
  {
   "cell_type": "code",
   "execution_count": 232,
   "metadata": {},
   "outputs": [
    {
     "name": "stdout",
     "output_type": "stream",
     "text": [
      "New Cases Variance: \n",
      "313244907660\n",
      "----------------------------------------------------------------------------------------------------\n",
      "New Deaths Variance: \n",
      "420362787\n",
      "----------------------------------------------------------------------------------------------------\n",
      "New Recovered Variance: \n",
      "271854429564\n",
      "----------------------------------------------------------------------------------------------------\n"
     ]
    }
   ],
   "source": [
    "numcols = ['New Cases', 'New Deaths', 'New Recovered']\n",
    "\n",
    "for col in numcols:\n",
    "    print(df[col].name + \" Variance: \")\n",
    "    print(round(df[col].var()))\n",
    "    print('-'*100)"
   ]
  },
  {
   "cell_type": "code",
   "execution_count": 233,
   "metadata": {},
   "outputs": [
    {
     "name": "stdout",
     "output_type": "stream",
     "text": [
      "New Cases Standard Deviation: \n",
      "559683\n",
      "----------------------------------------------------------------------------------------------------\n",
      "New Deaths Standard Deviation: \n",
      "20503\n",
      "----------------------------------------------------------------------------------------------------\n",
      "New Recovered Standard Deviation: \n",
      "521397\n",
      "----------------------------------------------------------------------------------------------------\n"
     ]
    }
   ],
   "source": [
    "numcols = ['New Cases', 'New Deaths', 'New Recovered']\n",
    "\n",
    "for col in numcols:\n",
    "    print(df[col].name + \" Standard Deviation: \")\n",
    "    print(round(df[col].std()))\n",
    "    print('-'*100)"
   ]
  },
  {
   "cell_type": "code",
   "execution_count": 235,
   "metadata": {},
   "outputs": [
    {
     "data": {
      "image/png": "[encoded data removed]",
      "text/plain": [
       "<Figure size 432x288 with 1 Axes>"
      ]
     },
     "metadata": {
      "needs_background": "light"
     },
     "output_type": "display_data"
    }
   ],
   "source": [
    "# # Create a random standard normal distribution\n",
    "# df = pd.DataFrame(np.random.rand(100000, 1), columns=['New Cases'])\n",
    "\n",
    "# # Plot the distribution as a histogram with a density curve\n",
    "# new_cases = df['New Cases']\n",
    "# density = stats.gaussian_kde(new_cases)\n",
    "# n, x, _ = plt.hist(new_cases, color='lightgrey', bins=100)  \n",
    "# plt.plot(x, density(x))\n",
    "\n",
    "# # Get the mean and standard deviation\n",
    "# s = df['New Cases'].std()\n",
    "# m = df['New Cases'].mean()\n",
    "\n",
    "# # Annotate 1 stdev\n",
    "# x1 = [m-s, m+s]\n",
    "# y1 = [0.25, 0.25]\n",
    "# plt.plot(x1,y1, color='magenta')\n",
    "# plt.annotate('1s (68.26%)', (x1[1],y1[1]))\n",
    "\n",
    "# # Annotate 2 stdevs\n",
    "# x2 = [m-(s*2), m+(s*2)]\n",
    "# y2 = [0.05, 0.05]\n",
    "# plt.plot(x2,y2, color='green')\n",
    "# plt.annotate('2s (95.45%)', (x2[1],y2[1]))\n",
    "\n",
    "# # Annotate 3 stdevs\n",
    "# x3 = [m-(s*3), m+(s*3)]\n",
    "# y3 = [0.005, 0.005]\n",
    "# plt.plot(x3,y3, color='orange')\n",
    "# plt.annotate('3s (99.73%)', (x3[1],y3[1]))\n",
    "\n",
    "# # Show the location of the mean\n",
    "# plt.axvline(new_cases.mean(), color='grey', linestyle='dashed', linewidth=1)\n",
    "\n",
    "# plt.show()"
   ]
  },
  {
   "cell_type": "markdown",
   "metadata": {},
   "source": []
  }
 ],
 "metadata": {
  "interpreter": {
   "hash": "36abe59f417de92da46b2706f21451c1fa535e9e046bdfcc896774547a2c1180"
  },
  "kernelspec": {
   "display_name": "Python 3.8.8 64-bit ('base': conda)",
   "language": "python",
   "name": "python3"
  },
  "language_info": {
   "codemirror_mode": {
    "name": "ipython",
    "version": 3
   },
   "file_extension": ".py",
   "mimetype": "text/x-python",
   "name": "python",
   "nbconvert_exporter": "python",
   "pygments_lexer": "ipython3",
   "version": "3.8.8"
  },
  "orig_nbformat": 4
 },
 "nbformat": 4,
 "nbformat_minor": 2
}
