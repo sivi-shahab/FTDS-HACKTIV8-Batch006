{
  "cells": [
    {
      "cell_type": "markdown",
      "metadata": {
        "id": "3ZY49_FON9n_"
      },
      "source": [
        "### Perkenalan\n",
        "\n",
        "Nama: Sivi Almanaf Ali Shahab\n",
        "\n",
        "Batch: 06\n",
        "\n",
        "**Predicting Customer Churn in the Telecommunications Industry**\n",
        "\n",
        "According to BeyondPhilosophy.com:\n",
        "\n",
        "“Loyal customers reduce costs associated with consumer education and marketing, especially when they become Net Promoters for your organization.”\n",
        "\n",
        "**Problem Statement**\n",
        "Mendapat customer baru biayanya enam sampai tujuh kali lebih mahal daripada menjaga customer yang sudah ada. Perusahaan Telekomunikasi yang menawarkan layanan provider hp dan internet mempunyai problem bahwa banyak customer yang churn tidak menggunakan providernya lagi dan beralih ke provider yang lain. Perusaahaan tersebut ingin mencegah customer churn, maka kita ingin mengembangkan sebuah system untuk mengidentifikasi customer yang churn dan menargetkan mereka dengan pesan promosi untuk menawarkan insentif atau diskon agar tetap menggunakan provider tersebut. \n",
        "\n",
        "**Objective**\n",
        "Kita ingin memahami karakterirstik customer yang churn dan mampu membuat model untuk prediksi customer churn\n",
        "\n",
        "\n",
        "Variable dataset:\n",
        "\n",
        "\n",
        "1. CustomerID: the ID of the customer\n",
        "2. Gender: male/female\n",
        "3. SeniorCitizen: whether the customer is a senior citizen (0/1)\n",
        "4. Partner: whether they live with a partner (yes/no)\n",
        "5. Dependents: whether they have dependents (yes/no)\n",
        "6. Tenure: number of months since the start of the contract\n",
        "7. PhoneService: whether they have phone service (yes/no)\n",
        "8. MultipleLines: whether they have multiple phone lines (yes/no/no phone service)\n",
        "9. InternetService: the type of internet service (no/fiber/optic)\n",
        "10. OnlineSecurity: if online security is enabled (yes/no/no internet)\n",
        "11. OnlineBackup: if online backup service is enabled (yes/no/no internet)\n",
        "12. DeviceProtection: if the device protection service is enabled (yes/no/no internet)\n",
        "13. TechSupport: if the customer has tech support (yes/no/no internet)\n",
        "14. StreamingTV: if the TV streaming service is enabled (yes/no/no internet)\n",
        "15. StreamingMovies: if the movie streaming service is enabled (yes/no/no internet)\n",
        "16. Contract: the type of contract (monthly/yearly/two years)\n",
        "17. PaperlessBilling: if the billing is paperless (yes/no)\n",
        "18. PaymentMethod: payment method (electronic check, mailed check, bank transfer, credit card)\n",
        "19. MonthlyCharges: the amount charged monthly (numeric)\n",
        "20. TotalCharges: the total amount charged (numeric)\n",
        "21. Churn: if the client has canceled the contract (yes/no)\n",
        "\n",
        "\n"
      ]
    },
    {
      "cell_type": "markdown",
      "metadata": {
        "id": "WG_eTk5SN9oE"
      },
      "source": [
        "### Import pustaka yang dibutuhkan"
      ]
    },
    {
      "cell_type": "code",
      "execution_count": 1,
      "metadata": {
        "id": "dqgUyY5wN9oE"
      },
      "outputs": [],
      "source": [
        "import pandas as pd\n",
        "import seaborn as sns\n",
        "import numpy as np\n",
        "from sklearn.metrics import mutual_info_score\n",
        "from sklearn.preprocessing import MinMaxScaler\n",
        "from sklearn.model_selection import train_test_split\n",
        "from sklearn.preprocessing import LabelEncoder\n",
        "from tensorflow.keras.models import Sequential\n",
        "from tensorflow.keras.layers import Dense\n",
        "import tensorflow as tf\n",
        "from tensorflow import keras\n",
        "import matplotlib.ticker as mtick\n",
        "import matplotlib.pyplot as plt\n",
        "from tensorflow.keras.utils import plot_model\n",
        "\n",
        "pd.set_option(\"display.max_columns\", 100)"
      ]
    },
    {
      "cell_type": "markdown",
      "metadata": {
        "id": "EIqP45WSN9oG"
      },
      "source": [
        "### Data Loading\n",
        "\n",
        "\n",
        "data bisa di download: https://www.kaggle.com/blastchar/telco-customer-churn"
      ]
    },
    {
      "cell_type": "code",
      "execution_count": 2,
      "metadata": {
        "colab": {
          "base_uri": "https://localhost:8080/",
          "height": 357
        },
        "id": "is_1MG1DN9oH",
        "outputId": "45c93548-8135-4ca0-e83c-9f5efe27f8bd"
      },
      "outputs": [
        {
          "output_type": "execute_result",
          "data": {
            "text/html": [
              "\n",
              "  <div id=\"df-c0f8d692-0da8-46eb-8a73-84a22a1255ee\">\n",
              "    <div class=\"colab-df-container\">\n",
              "      <div>\n",
              "<style scoped>\n",
              "    .dataframe tbody tr th:only-of-type {\n",
              "        vertical-align: middle;\n",
              "    }\n",
              "\n",
              "    .dataframe tbody tr th {\n",
              "        vertical-align: top;\n",
              "    }\n",
              "\n",
              "    .dataframe thead th {\n",
              "        text-align: right;\n",
              "    }\n",
              "</style>\n",
              "<table border=\"1\" class=\"dataframe\">\n",
              "  <thead>\n",
              "    <tr style=\"text-align: right;\">\n",
              "      <th></th>\n",
              "      <th>customerID</th>\n",
              "      <th>gender</th>\n",
              "      <th>SeniorCitizen</th>\n",
              "      <th>Partner</th>\n",
              "      <th>Dependents</th>\n",
              "      <th>tenure</th>\n",
              "      <th>PhoneService</th>\n",
              "      <th>MultipleLines</th>\n",
              "      <th>InternetService</th>\n",
              "      <th>OnlineSecurity</th>\n",
              "      <th>OnlineBackup</th>\n",
              "      <th>DeviceProtection</th>\n",
              "      <th>TechSupport</th>\n",
              "      <th>StreamingTV</th>\n",
              "      <th>StreamingMovies</th>\n",
              "      <th>Contract</th>\n",
              "      <th>PaperlessBilling</th>\n",
              "      <th>PaymentMethod</th>\n",
              "      <th>MonthlyCharges</th>\n",
              "      <th>TotalCharges</th>\n",
              "      <th>Churn</th>\n",
              "    </tr>\n",
              "  </thead>\n",
              "  <tbody>\n",
              "    <tr>\n",
              "      <th>0</th>\n",
              "      <td>7590-VHVEG</td>\n",
              "      <td>Female</td>\n",
              "      <td>0</td>\n",
              "      <td>Yes</td>\n",
              "      <td>No</td>\n",
              "      <td>1</td>\n",
              "      <td>No</td>\n",
              "      <td>No phone service</td>\n",
              "      <td>DSL</td>\n",
              "      <td>No</td>\n",
              "      <td>Yes</td>\n",
              "      <td>No</td>\n",
              "      <td>No</td>\n",
              "      <td>No</td>\n",
              "      <td>No</td>\n",
              "      <td>Month-to-month</td>\n",
              "      <td>Yes</td>\n",
              "      <td>Electronic check</td>\n",
              "      <td>29.85</td>\n",
              "      <td>29.85</td>\n",
              "      <td>No</td>\n",
              "    </tr>\n",
              "    <tr>\n",
              "      <th>1</th>\n",
              "      <td>5575-GNVDE</td>\n",
              "      <td>Male</td>\n",
              "      <td>0</td>\n",
              "      <td>No</td>\n",
              "      <td>No</td>\n",
              "      <td>34</td>\n",
              "      <td>Yes</td>\n",
              "      <td>No</td>\n",
              "      <td>DSL</td>\n",
              "      <td>Yes</td>\n",
              "      <td>No</td>\n",
              "      <td>Yes</td>\n",
              "      <td>No</td>\n",
              "      <td>No</td>\n",
              "      <td>No</td>\n",
              "      <td>One year</td>\n",
              "      <td>No</td>\n",
              "      <td>Mailed check</td>\n",
              "      <td>56.95</td>\n",
              "      <td>1889.5</td>\n",
              "      <td>No</td>\n",
              "    </tr>\n",
              "    <tr>\n",
              "      <th>2</th>\n",
              "      <td>3668-QPYBK</td>\n",
              "      <td>Male</td>\n",
              "      <td>0</td>\n",
              "      <td>No</td>\n",
              "      <td>No</td>\n",
              "      <td>2</td>\n",
              "      <td>Yes</td>\n",
              "      <td>No</td>\n",
              "      <td>DSL</td>\n",
              "      <td>Yes</td>\n",
              "      <td>Yes</td>\n",
              "      <td>No</td>\n",
              "      <td>No</td>\n",
              "      <td>No</td>\n",
              "      <td>No</td>\n",
              "      <td>Month-to-month</td>\n",
              "      <td>Yes</td>\n",
              "      <td>Mailed check</td>\n",
              "      <td>53.85</td>\n",
              "      <td>108.15</td>\n",
              "      <td>Yes</td>\n",
              "    </tr>\n",
              "    <tr>\n",
              "      <th>3</th>\n",
              "      <td>7795-CFOCW</td>\n",
              "      <td>Male</td>\n",
              "      <td>0</td>\n",
              "      <td>No</td>\n",
              "      <td>No</td>\n",
              "      <td>45</td>\n",
              "      <td>No</td>\n",
              "      <td>No phone service</td>\n",
              "      <td>DSL</td>\n",
              "      <td>Yes</td>\n",
              "      <td>No</td>\n",
              "      <td>Yes</td>\n",
              "      <td>Yes</td>\n",
              "      <td>No</td>\n",
              "      <td>No</td>\n",
              "      <td>One year</td>\n",
              "      <td>No</td>\n",
              "      <td>Bank transfer (automatic)</td>\n",
              "      <td>42.30</td>\n",
              "      <td>1840.75</td>\n",
              "      <td>No</td>\n",
              "    </tr>\n",
              "    <tr>\n",
              "      <th>4</th>\n",
              "      <td>9237-HQITU</td>\n",
              "      <td>Female</td>\n",
              "      <td>0</td>\n",
              "      <td>No</td>\n",
              "      <td>No</td>\n",
              "      <td>2</td>\n",
              "      <td>Yes</td>\n",
              "      <td>No</td>\n",
              "      <td>Fiber optic</td>\n",
              "      <td>No</td>\n",
              "      <td>No</td>\n",
              "      <td>No</td>\n",
              "      <td>No</td>\n",
              "      <td>No</td>\n",
              "      <td>No</td>\n",
              "      <td>Month-to-month</td>\n",
              "      <td>Yes</td>\n",
              "      <td>Electronic check</td>\n",
              "      <td>70.70</td>\n",
              "      <td>151.65</td>\n",
              "      <td>Yes</td>\n",
              "    </tr>\n",
              "  </tbody>\n",
              "</table>\n",
              "</div>\n",
              "      <button class=\"colab-df-convert\" onclick=\"convertToInteractive('df-c0f8d692-0da8-46eb-8a73-84a22a1255ee')\"\n",
              "              title=\"Convert this dataframe to an interactive table.\"\n",
              "              style=\"display:none;\">\n",
              "        \n",
              "  <svg xmlns=\"http://www.w3.org/2000/svg\" height=\"24px\"viewBox=\"0 0 24 24\"\n",
              "       width=\"24px\">\n",
              "    <path d=\"M0 0h24v24H0V0z\" fill=\"none\"/>\n",
              "    <path d=\"M18.56 5.44l.94 2.06.94-2.06 2.06-.94-2.06-.94-.94-2.06-.94 2.06-2.06.94zm-11 1L8.5 8.5l.94-2.06 2.06-.94-2.06-.94L8.5 2.5l-.94 2.06-2.06.94zm10 10l.94 2.06.94-2.06 2.06-.94-2.06-.94-.94-2.06-.94 2.06-2.06.94z\"/><path d=\"M17.41 7.96l-1.37-1.37c-.4-.4-.92-.59-1.43-.59-.52 0-1.04.2-1.43.59L10.3 9.45l-7.72 7.72c-.78.78-.78 2.05 0 2.83L4 21.41c.39.39.9.59 1.41.59.51 0 1.02-.2 1.41-.59l7.78-7.78 2.81-2.81c.8-.78.8-2.07 0-2.86zM5.41 20L4 18.59l7.72-7.72 1.47 1.35L5.41 20z\"/>\n",
              "  </svg>\n",
              "      </button>\n",
              "      \n",
              "  <style>\n",
              "    .colab-df-container {\n",
              "      display:flex;\n",
              "      flex-wrap:wrap;\n",
              "      gap: 12px;\n",
              "    }\n",
              "\n",
              "    .colab-df-convert {\n",
              "      background-color: #E8F0FE;\n",
              "      border: none;\n",
              "      border-radius: 50%;\n",
              "      cursor: pointer;\n",
              "      display: none;\n",
              "      fill: #1967D2;\n",
              "      height: 32px;\n",
              "      padding: 0 0 0 0;\n",
              "      width: 32px;\n",
              "    }\n",
              "\n",
              "    .colab-df-convert:hover {\n",
              "      background-color: #E2EBFA;\n",
              "      box-shadow: 0px 1px 2px rgba(60, 64, 67, 0.3), 0px 1px 3px 1px rgba(60, 64, 67, 0.15);\n",
              "      fill: #174EA6;\n",
              "    }\n",
              "\n",
              "    [theme=dark] .colab-df-convert {\n",
              "      background-color: #3B4455;\n",
              "      fill: #D2E3FC;\n",
              "    }\n",
              "\n",
              "    [theme=dark] .colab-df-convert:hover {\n",
              "      background-color: #434B5C;\n",
              "      box-shadow: 0px 1px 3px 1px rgba(0, 0, 0, 0.15);\n",
              "      filter: drop-shadow(0px 1px 2px rgba(0, 0, 0, 0.3));\n",
              "      fill: #FFFFFF;\n",
              "    }\n",
              "  </style>\n",
              "\n",
              "      <script>\n",
              "        const buttonEl =\n",
              "          document.querySelector('#df-c0f8d692-0da8-46eb-8a73-84a22a1255ee button.colab-df-convert');\n",
              "        buttonEl.style.display =\n",
              "          google.colab.kernel.accessAllowed ? 'block' : 'none';\n",
              "\n",
              "        async function convertToInteractive(key) {\n",
              "          const element = document.querySelector('#df-c0f8d692-0da8-46eb-8a73-84a22a1255ee');\n",
              "          const dataTable =\n",
              "            await google.colab.kernel.invokeFunction('convertToInteractive',\n",
              "                                                     [key], {});\n",
              "          if (!dataTable) return;\n",
              "\n",
              "          const docLinkHtml = 'Like what you see? Visit the ' +\n",
              "            '<a target=\"_blank\" href=https://colab.research.google.com/notebooks/data_table.ipynb>data table notebook</a>'\n",
              "            + ' to learn more about interactive tables.';\n",
              "          element.innerHTML = '';\n",
              "          dataTable['output_type'] = 'display_data';\n",
              "          await google.colab.output.renderOutput(dataTable, element);\n",
              "          const docLink = document.createElement('div');\n",
              "          docLink.innerHTML = docLinkHtml;\n",
              "          element.appendChild(docLink);\n",
              "        }\n",
              "      </script>\n",
              "    </div>\n",
              "  </div>\n",
              "  "
            ],
            "text/plain": [
              "   customerID  gender  SeniorCitizen Partner Dependents  tenure PhoneService  \\\n",
              "0  7590-VHVEG  Female              0     Yes         No       1           No   \n",
              "1  5575-GNVDE    Male              0      No         No      34          Yes   \n",
              "2  3668-QPYBK    Male              0      No         No       2          Yes   \n",
              "3  7795-CFOCW    Male              0      No         No      45           No   \n",
              "4  9237-HQITU  Female              0      No         No       2          Yes   \n",
              "\n",
              "      MultipleLines InternetService OnlineSecurity OnlineBackup  \\\n",
              "0  No phone service             DSL             No          Yes   \n",
              "1                No             DSL            Yes           No   \n",
              "2                No             DSL            Yes          Yes   \n",
              "3  No phone service             DSL            Yes           No   \n",
              "4                No     Fiber optic             No           No   \n",
              "\n",
              "  DeviceProtection TechSupport StreamingTV StreamingMovies        Contract  \\\n",
              "0               No          No          No              No  Month-to-month   \n",
              "1              Yes          No          No              No        One year   \n",
              "2               No          No          No              No  Month-to-month   \n",
              "3              Yes         Yes          No              No        One year   \n",
              "4               No          No          No              No  Month-to-month   \n",
              "\n",
              "  PaperlessBilling              PaymentMethod  MonthlyCharges TotalCharges  \\\n",
              "0              Yes           Electronic check           29.85        29.85   \n",
              "1               No               Mailed check           56.95       1889.5   \n",
              "2              Yes               Mailed check           53.85       108.15   \n",
              "3               No  Bank transfer (automatic)           42.30      1840.75   \n",
              "4              Yes           Electronic check           70.70       151.65   \n",
              "\n",
              "  Churn  \n",
              "0    No  \n",
              "1    No  \n",
              "2   Yes  \n",
              "3    No  \n",
              "4   Yes  "
            ]
          },
          "metadata": {},
          "execution_count": 2
        }
      ],
      "source": [
        "data = pd.read_csv('./WA_Fn-UseC_-Telco-Customer-Churn.csv')\n",
        "data.head()"
      ]
    },
    {
      "cell_type": "code",
      "execution_count": 3,
      "metadata": {
        "colab": {
          "base_uri": "https://localhost:8080/"
        },
        "id": "JATqlutiN9oI",
        "outputId": "2f6c04f9-e515-4918-9885-83de915bb11e"
      },
      "outputs": [
        {
          "output_type": "stream",
          "name": "stdout",
          "text": [
            "<class 'pandas.core.frame.DataFrame'>\n",
            "RangeIndex: 7043 entries, 0 to 7042\n",
            "Data columns (total 21 columns):\n",
            " #   Column            Non-Null Count  Dtype  \n",
            "---  ------            --------------  -----  \n",
            " 0   customerID        7043 non-null   object \n",
            " 1   gender            7043 non-null   object \n",
            " 2   SeniorCitizen     7043 non-null   int64  \n",
            " 3   Partner           7043 non-null   object \n",
            " 4   Dependents        7043 non-null   object \n",
            " 5   tenure            7043 non-null   int64  \n",
            " 6   PhoneService      7043 non-null   object \n",
            " 7   MultipleLines     7043 non-null   object \n",
            " 8   InternetService   7043 non-null   object \n",
            " 9   OnlineSecurity    7043 non-null   object \n",
            " 10  OnlineBackup      7043 non-null   object \n",
            " 11  DeviceProtection  7043 non-null   object \n",
            " 12  TechSupport       7043 non-null   object \n",
            " 13  StreamingTV       7043 non-null   object \n",
            " 14  StreamingMovies   7043 non-null   object \n",
            " 15  Contract          7043 non-null   object \n",
            " 16  PaperlessBilling  7043 non-null   object \n",
            " 17  PaymentMethod     7043 non-null   object \n",
            " 18  MonthlyCharges    7043 non-null   float64\n",
            " 19  TotalCharges      7043 non-null   object \n",
            " 20  Churn             7043 non-null   object \n",
            "dtypes: float64(1), int64(2), object(18)\n",
            "memory usage: 1.1+ MB\n"
          ]
        }
      ],
      "source": [
        "data.info()"
      ]
    },
    {
      "cell_type": "markdown",
      "source": [
        "SeniorCitizen tipe datanya sudah berupa 'int' kita biarkan, selanjutnya kita perhatikan bahwa TotalCharges data nya berupa object kita perlu mengubah tipe datanya menjadi 'float'"
      ],
      "metadata": {
        "id": "idcylYQ10qUI"
      }
    },
    {
      "cell_type": "code",
      "execution_count": 4,
      "metadata": {
        "colab": {
          "base_uri": "https://localhost:8080/",
          "height": 300
        },
        "id": "RIrf650AN9oJ",
        "outputId": "32b3e79c-31fa-4f48-9a57-481828a97d4b"
      },
      "outputs": [
        {
          "output_type": "execute_result",
          "data": {
            "text/html": [
              "\n",
              "  <div id=\"df-49445cf7-af1b-40b2-8f82-2bb328de809a\">\n",
              "    <div class=\"colab-df-container\">\n",
              "      <div>\n",
              "<style scoped>\n",
              "    .dataframe tbody tr th:only-of-type {\n",
              "        vertical-align: middle;\n",
              "    }\n",
              "\n",
              "    .dataframe tbody tr th {\n",
              "        vertical-align: top;\n",
              "    }\n",
              "\n",
              "    .dataframe thead th {\n",
              "        text-align: right;\n",
              "    }\n",
              "</style>\n",
              "<table border=\"1\" class=\"dataframe\">\n",
              "  <thead>\n",
              "    <tr style=\"text-align: right;\">\n",
              "      <th></th>\n",
              "      <th>SeniorCitizen</th>\n",
              "      <th>tenure</th>\n",
              "      <th>MonthlyCharges</th>\n",
              "    </tr>\n",
              "  </thead>\n",
              "  <tbody>\n",
              "    <tr>\n",
              "      <th>count</th>\n",
              "      <td>7043.000000</td>\n",
              "      <td>7043.000000</td>\n",
              "      <td>7043.000000</td>\n",
              "    </tr>\n",
              "    <tr>\n",
              "      <th>mean</th>\n",
              "      <td>0.162147</td>\n",
              "      <td>32.371149</td>\n",
              "      <td>64.761692</td>\n",
              "    </tr>\n",
              "    <tr>\n",
              "      <th>std</th>\n",
              "      <td>0.368612</td>\n",
              "      <td>24.559481</td>\n",
              "      <td>30.090047</td>\n",
              "    </tr>\n",
              "    <tr>\n",
              "      <th>min</th>\n",
              "      <td>0.000000</td>\n",
              "      <td>0.000000</td>\n",
              "      <td>18.250000</td>\n",
              "    </tr>\n",
              "    <tr>\n",
              "      <th>25%</th>\n",
              "      <td>0.000000</td>\n",
              "      <td>9.000000</td>\n",
              "      <td>35.500000</td>\n",
              "    </tr>\n",
              "    <tr>\n",
              "      <th>50%</th>\n",
              "      <td>0.000000</td>\n",
              "      <td>29.000000</td>\n",
              "      <td>70.350000</td>\n",
              "    </tr>\n",
              "    <tr>\n",
              "      <th>75%</th>\n",
              "      <td>0.000000</td>\n",
              "      <td>55.000000</td>\n",
              "      <td>89.850000</td>\n",
              "    </tr>\n",
              "    <tr>\n",
              "      <th>max</th>\n",
              "      <td>1.000000</td>\n",
              "      <td>72.000000</td>\n",
              "      <td>118.750000</td>\n",
              "    </tr>\n",
              "  </tbody>\n",
              "</table>\n",
              "</div>\n",
              "      <button class=\"colab-df-convert\" onclick=\"convertToInteractive('df-49445cf7-af1b-40b2-8f82-2bb328de809a')\"\n",
              "              title=\"Convert this dataframe to an interactive table.\"\n",
              "              style=\"display:none;\">\n",
              "        \n",
              "  <svg xmlns=\"http://www.w3.org/2000/svg\" height=\"24px\"viewBox=\"0 0 24 24\"\n",
              "       width=\"24px\">\n",
              "    <path d=\"M0 0h24v24H0V0z\" fill=\"none\"/>\n",
              "    <path d=\"M18.56 5.44l.94 2.06.94-2.06 2.06-.94-2.06-.94-.94-2.06-.94 2.06-2.06.94zm-11 1L8.5 8.5l.94-2.06 2.06-.94-2.06-.94L8.5 2.5l-.94 2.06-2.06.94zm10 10l.94 2.06.94-2.06 2.06-.94-2.06-.94-.94-2.06-.94 2.06-2.06.94z\"/><path d=\"M17.41 7.96l-1.37-1.37c-.4-.4-.92-.59-1.43-.59-.52 0-1.04.2-1.43.59L10.3 9.45l-7.72 7.72c-.78.78-.78 2.05 0 2.83L4 21.41c.39.39.9.59 1.41.59.51 0 1.02-.2 1.41-.59l7.78-7.78 2.81-2.81c.8-.78.8-2.07 0-2.86zM5.41 20L4 18.59l7.72-7.72 1.47 1.35L5.41 20z\"/>\n",
              "  </svg>\n",
              "      </button>\n",
              "      \n",
              "  <style>\n",
              "    .colab-df-container {\n",
              "      display:flex;\n",
              "      flex-wrap:wrap;\n",
              "      gap: 12px;\n",
              "    }\n",
              "\n",
              "    .colab-df-convert {\n",
              "      background-color: #E8F0FE;\n",
              "      border: none;\n",
              "      border-radius: 50%;\n",
              "      cursor: pointer;\n",
              "      display: none;\n",
              "      fill: #1967D2;\n",
              "      height: 32px;\n",
              "      padding: 0 0 0 0;\n",
              "      width: 32px;\n",
              "    }\n",
              "\n",
              "    .colab-df-convert:hover {\n",
              "      background-color: #E2EBFA;\n",
              "      box-shadow: 0px 1px 2px rgba(60, 64, 67, 0.3), 0px 1px 3px 1px rgba(60, 64, 67, 0.15);\n",
              "      fill: #174EA6;\n",
              "    }\n",
              "\n",
              "    [theme=dark] .colab-df-convert {\n",
              "      background-color: #3B4455;\n",
              "      fill: #D2E3FC;\n",
              "    }\n",
              "\n",
              "    [theme=dark] .colab-df-convert:hover {\n",
              "      background-color: #434B5C;\n",
              "      box-shadow: 0px 1px 3px 1px rgba(0, 0, 0, 0.15);\n",
              "      filter: drop-shadow(0px 1px 2px rgba(0, 0, 0, 0.3));\n",
              "      fill: #FFFFFF;\n",
              "    }\n",
              "  </style>\n",
              "\n",
              "      <script>\n",
              "        const buttonEl =\n",
              "          document.querySelector('#df-49445cf7-af1b-40b2-8f82-2bb328de809a button.colab-df-convert');\n",
              "        buttonEl.style.display =\n",
              "          google.colab.kernel.accessAllowed ? 'block' : 'none';\n",
              "\n",
              "        async function convertToInteractive(key) {\n",
              "          const element = document.querySelector('#df-49445cf7-af1b-40b2-8f82-2bb328de809a');\n",
              "          const dataTable =\n",
              "            await google.colab.kernel.invokeFunction('convertToInteractive',\n",
              "                                                     [key], {});\n",
              "          if (!dataTable) return;\n",
              "\n",
              "          const docLinkHtml = 'Like what you see? Visit the ' +\n",
              "            '<a target=\"_blank\" href=https://colab.research.google.com/notebooks/data_table.ipynb>data table notebook</a>'\n",
              "            + ' to learn more about interactive tables.';\n",
              "          element.innerHTML = '';\n",
              "          dataTable['output_type'] = 'display_data';\n",
              "          await google.colab.output.renderOutput(dataTable, element);\n",
              "          const docLink = document.createElement('div');\n",
              "          docLink.innerHTML = docLinkHtml;\n",
              "          element.appendChild(docLink);\n",
              "        }\n",
              "      </script>\n",
              "    </div>\n",
              "  </div>\n",
              "  "
            ],
            "text/plain": [
              "       SeniorCitizen       tenure  MonthlyCharges\n",
              "count    7043.000000  7043.000000     7043.000000\n",
              "mean        0.162147    32.371149       64.761692\n",
              "std         0.368612    24.559481       30.090047\n",
              "min         0.000000     0.000000       18.250000\n",
              "25%         0.000000     9.000000       35.500000\n",
              "50%         0.000000    29.000000       70.350000\n",
              "75%         0.000000    55.000000       89.850000\n",
              "max         1.000000    72.000000      118.750000"
            ]
          },
          "metadata": {},
          "execution_count": 4
        }
      ],
      "source": [
        "# Check statistik dasar pada variabel numerik\n",
        "data.describe()"
      ]
    },
    {
      "cell_type": "markdown",
      "metadata": {
        "id": "PnfIAB90N9oJ"
      },
      "source": [
        "### Data Cleaning"
      ]
    },
    {
      "cell_type": "code",
      "execution_count": 5,
      "metadata": {
        "id": "pytfRD3cN9oK"
      },
      "outputs": [],
      "source": [
        "# copy data\n",
        "df = data.copy()"
      ]
    },
    {
      "cell_type": "code",
      "execution_count": 6,
      "metadata": {
        "id": "Y01HlE3RN9oK"
      },
      "outputs": [],
      "source": [
        "# merubah nama features\n",
        "df.columns = df.columns.str.lower().str.replace(' ', '_')"
      ]
    },
    {
      "cell_type": "code",
      "execution_count": 7,
      "metadata": {
        "colab": {
          "base_uri": "https://localhost:8080/",
          "height": 708
        },
        "id": "HONkkTxaN9oL",
        "outputId": "5e9044ef-45cb-4d74-dab5-1d776bdcb818"
      },
      "outputs": [
        {
          "output_type": "execute_result",
          "data": {
            "text/html": [
              "\n",
              "  <div id=\"df-4692aff1-a61a-437f-a379-08ee5ae4c37e\">\n",
              "    <div class=\"colab-df-container\">\n",
              "      <div>\n",
              "<style scoped>\n",
              "    .dataframe tbody tr th:only-of-type {\n",
              "        vertical-align: middle;\n",
              "    }\n",
              "\n",
              "    .dataframe tbody tr th {\n",
              "        vertical-align: top;\n",
              "    }\n",
              "\n",
              "    .dataframe thead th {\n",
              "        text-align: right;\n",
              "    }\n",
              "</style>\n",
              "<table border=\"1\" class=\"dataframe\">\n",
              "  <thead>\n",
              "    <tr style=\"text-align: right;\">\n",
              "      <th></th>\n",
              "      <th>0</th>\n",
              "      <th>1</th>\n",
              "      <th>2</th>\n",
              "      <th>3</th>\n",
              "      <th>4</th>\n",
              "    </tr>\n",
              "  </thead>\n",
              "  <tbody>\n",
              "    <tr>\n",
              "      <th>customerid</th>\n",
              "      <td>7590-VHVEG</td>\n",
              "      <td>5575-GNVDE</td>\n",
              "      <td>3668-QPYBK</td>\n",
              "      <td>7795-CFOCW</td>\n",
              "      <td>9237-HQITU</td>\n",
              "    </tr>\n",
              "    <tr>\n",
              "      <th>gender</th>\n",
              "      <td>Female</td>\n",
              "      <td>Male</td>\n",
              "      <td>Male</td>\n",
              "      <td>Male</td>\n",
              "      <td>Female</td>\n",
              "    </tr>\n",
              "    <tr>\n",
              "      <th>seniorcitizen</th>\n",
              "      <td>0</td>\n",
              "      <td>0</td>\n",
              "      <td>0</td>\n",
              "      <td>0</td>\n",
              "      <td>0</td>\n",
              "    </tr>\n",
              "    <tr>\n",
              "      <th>partner</th>\n",
              "      <td>Yes</td>\n",
              "      <td>No</td>\n",
              "      <td>No</td>\n",
              "      <td>No</td>\n",
              "      <td>No</td>\n",
              "    </tr>\n",
              "    <tr>\n",
              "      <th>dependents</th>\n",
              "      <td>No</td>\n",
              "      <td>No</td>\n",
              "      <td>No</td>\n",
              "      <td>No</td>\n",
              "      <td>No</td>\n",
              "    </tr>\n",
              "    <tr>\n",
              "      <th>tenure</th>\n",
              "      <td>1</td>\n",
              "      <td>34</td>\n",
              "      <td>2</td>\n",
              "      <td>45</td>\n",
              "      <td>2</td>\n",
              "    </tr>\n",
              "    <tr>\n",
              "      <th>phoneservice</th>\n",
              "      <td>No</td>\n",
              "      <td>Yes</td>\n",
              "      <td>Yes</td>\n",
              "      <td>No</td>\n",
              "      <td>Yes</td>\n",
              "    </tr>\n",
              "    <tr>\n",
              "      <th>multiplelines</th>\n",
              "      <td>No phone service</td>\n",
              "      <td>No</td>\n",
              "      <td>No</td>\n",
              "      <td>No phone service</td>\n",
              "      <td>No</td>\n",
              "    </tr>\n",
              "    <tr>\n",
              "      <th>internetservice</th>\n",
              "      <td>DSL</td>\n",
              "      <td>DSL</td>\n",
              "      <td>DSL</td>\n",
              "      <td>DSL</td>\n",
              "      <td>Fiber optic</td>\n",
              "    </tr>\n",
              "    <tr>\n",
              "      <th>onlinesecurity</th>\n",
              "      <td>No</td>\n",
              "      <td>Yes</td>\n",
              "      <td>Yes</td>\n",
              "      <td>Yes</td>\n",
              "      <td>No</td>\n",
              "    </tr>\n",
              "    <tr>\n",
              "      <th>onlinebackup</th>\n",
              "      <td>Yes</td>\n",
              "      <td>No</td>\n",
              "      <td>Yes</td>\n",
              "      <td>No</td>\n",
              "      <td>No</td>\n",
              "    </tr>\n",
              "    <tr>\n",
              "      <th>deviceprotection</th>\n",
              "      <td>No</td>\n",
              "      <td>Yes</td>\n",
              "      <td>No</td>\n",
              "      <td>Yes</td>\n",
              "      <td>No</td>\n",
              "    </tr>\n",
              "    <tr>\n",
              "      <th>techsupport</th>\n",
              "      <td>No</td>\n",
              "      <td>No</td>\n",
              "      <td>No</td>\n",
              "      <td>Yes</td>\n",
              "      <td>No</td>\n",
              "    </tr>\n",
              "    <tr>\n",
              "      <th>streamingtv</th>\n",
              "      <td>No</td>\n",
              "      <td>No</td>\n",
              "      <td>No</td>\n",
              "      <td>No</td>\n",
              "      <td>No</td>\n",
              "    </tr>\n",
              "    <tr>\n",
              "      <th>streamingmovies</th>\n",
              "      <td>No</td>\n",
              "      <td>No</td>\n",
              "      <td>No</td>\n",
              "      <td>No</td>\n",
              "      <td>No</td>\n",
              "    </tr>\n",
              "    <tr>\n",
              "      <th>contract</th>\n",
              "      <td>Month-to-month</td>\n",
              "      <td>One year</td>\n",
              "      <td>Month-to-month</td>\n",
              "      <td>One year</td>\n",
              "      <td>Month-to-month</td>\n",
              "    </tr>\n",
              "    <tr>\n",
              "      <th>paperlessbilling</th>\n",
              "      <td>Yes</td>\n",
              "      <td>No</td>\n",
              "      <td>Yes</td>\n",
              "      <td>No</td>\n",
              "      <td>Yes</td>\n",
              "    </tr>\n",
              "    <tr>\n",
              "      <th>paymentmethod</th>\n",
              "      <td>Electronic check</td>\n",
              "      <td>Mailed check</td>\n",
              "      <td>Mailed check</td>\n",
              "      <td>Bank transfer (automatic)</td>\n",
              "      <td>Electronic check</td>\n",
              "    </tr>\n",
              "    <tr>\n",
              "      <th>monthlycharges</th>\n",
              "      <td>29.85</td>\n",
              "      <td>56.95</td>\n",
              "      <td>53.85</td>\n",
              "      <td>42.3</td>\n",
              "      <td>70.7</td>\n",
              "    </tr>\n",
              "    <tr>\n",
              "      <th>totalcharges</th>\n",
              "      <td>29.85</td>\n",
              "      <td>1889.5</td>\n",
              "      <td>108.15</td>\n",
              "      <td>1840.75</td>\n",
              "      <td>151.65</td>\n",
              "    </tr>\n",
              "    <tr>\n",
              "      <th>churn</th>\n",
              "      <td>No</td>\n",
              "      <td>No</td>\n",
              "      <td>Yes</td>\n",
              "      <td>No</td>\n",
              "      <td>Yes</td>\n",
              "    </tr>\n",
              "  </tbody>\n",
              "</table>\n",
              "</div>\n",
              "      <button class=\"colab-df-convert\" onclick=\"convertToInteractive('df-4692aff1-a61a-437f-a379-08ee5ae4c37e')\"\n",
              "              title=\"Convert this dataframe to an interactive table.\"\n",
              "              style=\"display:none;\">\n",
              "        \n",
              "  <svg xmlns=\"http://www.w3.org/2000/svg\" height=\"24px\"viewBox=\"0 0 24 24\"\n",
              "       width=\"24px\">\n",
              "    <path d=\"M0 0h24v24H0V0z\" fill=\"none\"/>\n",
              "    <path d=\"M18.56 5.44l.94 2.06.94-2.06 2.06-.94-2.06-.94-.94-2.06-.94 2.06-2.06.94zm-11 1L8.5 8.5l.94-2.06 2.06-.94-2.06-.94L8.5 2.5l-.94 2.06-2.06.94zm10 10l.94 2.06.94-2.06 2.06-.94-2.06-.94-.94-2.06-.94 2.06-2.06.94z\"/><path d=\"M17.41 7.96l-1.37-1.37c-.4-.4-.92-.59-1.43-.59-.52 0-1.04.2-1.43.59L10.3 9.45l-7.72 7.72c-.78.78-.78 2.05 0 2.83L4 21.41c.39.39.9.59 1.41.59.51 0 1.02-.2 1.41-.59l7.78-7.78 2.81-2.81c.8-.78.8-2.07 0-2.86zM5.41 20L4 18.59l7.72-7.72 1.47 1.35L5.41 20z\"/>\n",
              "  </svg>\n",
              "      </button>\n",
              "      \n",
              "  <style>\n",
              "    .colab-df-container {\n",
              "      display:flex;\n",
              "      flex-wrap:wrap;\n",
              "      gap: 12px;\n",
              "    }\n",
              "\n",
              "    .colab-df-convert {\n",
              "      background-color: #E8F0FE;\n",
              "      border: none;\n",
              "      border-radius: 50%;\n",
              "      cursor: pointer;\n",
              "      display: none;\n",
              "      fill: #1967D2;\n",
              "      height: 32px;\n",
              "      padding: 0 0 0 0;\n",
              "      width: 32px;\n",
              "    }\n",
              "\n",
              "    .colab-df-convert:hover {\n",
              "      background-color: #E2EBFA;\n",
              "      box-shadow: 0px 1px 2px rgba(60, 64, 67, 0.3), 0px 1px 3px 1px rgba(60, 64, 67, 0.15);\n",
              "      fill: #174EA6;\n",
              "    }\n",
              "\n",
              "    [theme=dark] .colab-df-convert {\n",
              "      background-color: #3B4455;\n",
              "      fill: #D2E3FC;\n",
              "    }\n",
              "\n",
              "    [theme=dark] .colab-df-convert:hover {\n",
              "      background-color: #434B5C;\n",
              "      box-shadow: 0px 1px 3px 1px rgba(0, 0, 0, 0.15);\n",
              "      filter: drop-shadow(0px 1px 2px rgba(0, 0, 0, 0.3));\n",
              "      fill: #FFFFFF;\n",
              "    }\n",
              "  </style>\n",
              "\n",
              "      <script>\n",
              "        const buttonEl =\n",
              "          document.querySelector('#df-4692aff1-a61a-437f-a379-08ee5ae4c37e button.colab-df-convert');\n",
              "        buttonEl.style.display =\n",
              "          google.colab.kernel.accessAllowed ? 'block' : 'none';\n",
              "\n",
              "        async function convertToInteractive(key) {\n",
              "          const element = document.querySelector('#df-4692aff1-a61a-437f-a379-08ee5ae4c37e');\n",
              "          const dataTable =\n",
              "            await google.colab.kernel.invokeFunction('convertToInteractive',\n",
              "                                                     [key], {});\n",
              "          if (!dataTable) return;\n",
              "\n",
              "          const docLinkHtml = 'Like what you see? Visit the ' +\n",
              "            '<a target=\"_blank\" href=https://colab.research.google.com/notebooks/data_table.ipynb>data table notebook</a>'\n",
              "            + ' to learn more about interactive tables.';\n",
              "          element.innerHTML = '';\n",
              "          dataTable['output_type'] = 'display_data';\n",
              "          await google.colab.output.renderOutput(dataTable, element);\n",
              "          const docLink = document.createElement('div');\n",
              "          docLink.innerHTML = docLinkHtml;\n",
              "          element.appendChild(docLink);\n",
              "        }\n",
              "      </script>\n",
              "    </div>\n",
              "  </div>\n",
              "  "
            ],
            "text/plain": [
              "                                 0             1               2  \\\n",
              "customerid              7590-VHVEG    5575-GNVDE      3668-QPYBK   \n",
              "gender                      Female          Male            Male   \n",
              "seniorcitizen                    0             0               0   \n",
              "partner                        Yes            No              No   \n",
              "dependents                      No            No              No   \n",
              "tenure                           1            34               2   \n",
              "phoneservice                    No           Yes             Yes   \n",
              "multiplelines     No phone service            No              No   \n",
              "internetservice                DSL           DSL             DSL   \n",
              "onlinesecurity                  No           Yes             Yes   \n",
              "onlinebackup                   Yes            No             Yes   \n",
              "deviceprotection                No           Yes              No   \n",
              "techsupport                     No            No              No   \n",
              "streamingtv                     No            No              No   \n",
              "streamingmovies                 No            No              No   \n",
              "contract            Month-to-month      One year  Month-to-month   \n",
              "paperlessbilling               Yes            No             Yes   \n",
              "paymentmethod     Electronic check  Mailed check    Mailed check   \n",
              "monthlycharges               29.85         56.95           53.85   \n",
              "totalcharges                 29.85        1889.5          108.15   \n",
              "churn                           No            No             Yes   \n",
              "\n",
              "                                          3                 4  \n",
              "customerid                       7795-CFOCW        9237-HQITU  \n",
              "gender                                 Male            Female  \n",
              "seniorcitizen                             0                 0  \n",
              "partner                                  No                No  \n",
              "dependents                               No                No  \n",
              "tenure                                   45                 2  \n",
              "phoneservice                             No               Yes  \n",
              "multiplelines              No phone service                No  \n",
              "internetservice                         DSL       Fiber optic  \n",
              "onlinesecurity                          Yes                No  \n",
              "onlinebackup                             No                No  \n",
              "deviceprotection                        Yes                No  \n",
              "techsupport                             Yes                No  \n",
              "streamingtv                              No                No  \n",
              "streamingmovies                          No                No  \n",
              "contract                           One year    Month-to-month  \n",
              "paperlessbilling                         No               Yes  \n",
              "paymentmethod     Bank transfer (automatic)  Electronic check  \n",
              "monthlycharges                         42.3              70.7  \n",
              "totalcharges                        1840.75            151.65  \n",
              "churn                                    No               Yes  "
            ]
          },
          "metadata": {},
          "execution_count": 7
        }
      ],
      "source": [
        "df.head().T"
      ]
    },
    {
      "cell_type": "code",
      "execution_count": 8,
      "metadata": {
        "id": "Wc-7v45AN9oL"
      },
      "outputs": [],
      "source": [
        "# digunakan untuk mengubah tipe data ke numerik dan mengganti semua nilai nonnumerik dengan NaN\n",
        "df.totalcharges = pd.to_numeric(df.totalcharges, errors='coerce')"
      ]
    },
    {
      "cell_type": "code",
      "execution_count": 9,
      "metadata": {
        "colab": {
          "base_uri": "https://localhost:8080/"
        },
        "id": "bo-Gn1qkN9oL",
        "outputId": "ee2c1382-4c3d-4631-9731-d7d1b53ad9ea"
      },
      "outputs": [
        {
          "output_type": "execute_result",
          "data": {
            "text/plain": [
              "customerid           0\n",
              "gender               0\n",
              "seniorcitizen        0\n",
              "partner              0\n",
              "dependents           0\n",
              "tenure               0\n",
              "phoneservice         0\n",
              "multiplelines        0\n",
              "internetservice      0\n",
              "onlinesecurity       0\n",
              "onlinebackup         0\n",
              "deviceprotection     0\n",
              "techsupport          0\n",
              "streamingtv          0\n",
              "streamingmovies      0\n",
              "contract             0\n",
              "paperlessbilling     0\n",
              "paymentmethod        0\n",
              "monthlycharges       0\n",
              "totalcharges        11\n",
              "churn                0\n",
              "dtype: int64"
            ]
          },
          "metadata": {},
          "execution_count": 9
        }
      ],
      "source": [
        "df.isnull().sum()"
      ]
    },
    {
      "cell_type": "markdown",
      "source": [
        "Terdapat missing values pada kolom totalcharges, kita akan hapus missing values karena berdasarkan pengetahuan totalcharges bergantung pada banyak faktor yang mempengaruhi nilai totalcharges"
      ],
      "metadata": {
        "id": "OGMLy4Zb2V5w"
      }
    },
    {
      "cell_type": "code",
      "execution_count": 10,
      "metadata": {
        "id": "nAMJXrRzN9oL"
      },
      "outputs": [],
      "source": [
        "df = df.dropna()"
      ]
    },
    {
      "cell_type": "code",
      "execution_count": 11,
      "metadata": {
        "colab": {
          "base_uri": "https://localhost:8080/"
        },
        "id": "UvFCma1PN9oM",
        "outputId": "73c0d7c2-471b-4b6e-814a-c3db44c60bb6"
      },
      "outputs": [
        {
          "output_type": "execute_result",
          "data": {
            "text/plain": [
              "(7032, 21)"
            ]
          },
          "metadata": {},
          "execution_count": 11
        }
      ],
      "source": [
        "df.shape"
      ]
    },
    {
      "cell_type": "code",
      "execution_count": 12,
      "metadata": {
        "colab": {
          "base_uri": "https://localhost:8080/"
        },
        "id": "TzVOhOkgN9oM",
        "outputId": "793d7e4f-cd30-4a6e-b1d6-ad3ffad7f589"
      },
      "outputs": [
        {
          "output_type": "stream",
          "name": "stdout",
          "text": [
            "<class 'pandas.core.frame.DataFrame'>\n",
            "Int64Index: 7032 entries, 0 to 7042\n",
            "Data columns (total 21 columns):\n",
            " #   Column            Non-Null Count  Dtype  \n",
            "---  ------            --------------  -----  \n",
            " 0   customerid        7032 non-null   object \n",
            " 1   gender            7032 non-null   object \n",
            " 2   seniorcitizen     7032 non-null   int64  \n",
            " 3   partner           7032 non-null   object \n",
            " 4   dependents        7032 non-null   object \n",
            " 5   tenure            7032 non-null   int64  \n",
            " 6   phoneservice      7032 non-null   object \n",
            " 7   multiplelines     7032 non-null   object \n",
            " 8   internetservice   7032 non-null   object \n",
            " 9   onlinesecurity    7032 non-null   object \n",
            " 10  onlinebackup      7032 non-null   object \n",
            " 11  deviceprotection  7032 non-null   object \n",
            " 12  techsupport       7032 non-null   object \n",
            " 13  streamingtv       7032 non-null   object \n",
            " 14  streamingmovies   7032 non-null   object \n",
            " 15  contract          7032 non-null   object \n",
            " 16  paperlessbilling  7032 non-null   object \n",
            " 17  paymentmethod     7032 non-null   object \n",
            " 18  monthlycharges    7032 non-null   float64\n",
            " 19  totalcharges      7032 non-null   float64\n",
            " 20  churn             7032 non-null   object \n",
            "dtypes: float64(2), int64(2), object(17)\n",
            "memory usage: 1.2+ MB\n"
          ]
        }
      ],
      "source": [
        "# Cek info data sekaligus missing values\n",
        "df.info()"
      ]
    },
    {
      "cell_type": "code",
      "execution_count": 13,
      "metadata": {
        "id": "Ka6m7tsoN9oN"
      },
      "outputs": [],
      "source": [
        "df.drop(['customerid'], axis=1, inplace=True)"
      ]
    },
    {
      "cell_type": "code",
      "execution_count": 14,
      "metadata": {
        "id": "Ixg708ksN9oN"
      },
      "outputs": [],
      "source": [
        "# fungsi untuk Cek unique value pada variable kategorik\n",
        "\n",
        "def unique_val(data):\n",
        "    cols = data.columns\n",
        "    for i in cols:\n",
        "        if data[i].dtype == 'O':\n",
        "            print('input unique', i, 'adalah', data[i].unique())\n",
        "            print('-'*100)"
      ]
    },
    {
      "cell_type": "code",
      "execution_count": 15,
      "metadata": {
        "colab": {
          "base_uri": "https://localhost:8080/"
        },
        "id": "YN2Bz9AGN9oN",
        "outputId": "9fa4834e-03d5-4d63-bc26-bb6ec0654962"
      },
      "outputs": [
        {
          "output_type": "stream",
          "name": "stdout",
          "text": [
            "input unique gender adalah ['Female' 'Male']\n",
            "----------------------------------------------------------------------------------------------------\n",
            "input unique partner adalah ['Yes' 'No']\n",
            "----------------------------------------------------------------------------------------------------\n",
            "input unique dependents adalah ['No' 'Yes']\n",
            "----------------------------------------------------------------------------------------------------\n",
            "input unique phoneservice adalah ['No' 'Yes']\n",
            "----------------------------------------------------------------------------------------------------\n",
            "input unique multiplelines adalah ['No phone service' 'No' 'Yes']\n",
            "----------------------------------------------------------------------------------------------------\n",
            "input unique internetservice adalah ['DSL' 'Fiber optic' 'No']\n",
            "----------------------------------------------------------------------------------------------------\n",
            "input unique onlinesecurity adalah ['No' 'Yes' 'No internet service']\n",
            "----------------------------------------------------------------------------------------------------\n",
            "input unique onlinebackup adalah ['Yes' 'No' 'No internet service']\n",
            "----------------------------------------------------------------------------------------------------\n",
            "input unique deviceprotection adalah ['No' 'Yes' 'No internet service']\n",
            "----------------------------------------------------------------------------------------------------\n",
            "input unique techsupport adalah ['No' 'Yes' 'No internet service']\n",
            "----------------------------------------------------------------------------------------------------\n",
            "input unique streamingtv adalah ['No' 'Yes' 'No internet service']\n",
            "----------------------------------------------------------------------------------------------------\n",
            "input unique streamingmovies adalah ['No' 'Yes' 'No internet service']\n",
            "----------------------------------------------------------------------------------------------------\n",
            "input unique contract adalah ['Month-to-month' 'One year' 'Two year']\n",
            "----------------------------------------------------------------------------------------------------\n",
            "input unique paperlessbilling adalah ['Yes' 'No']\n",
            "----------------------------------------------------------------------------------------------------\n",
            "input unique paymentmethod adalah ['Electronic check' 'Mailed check' 'Bank transfer (automatic)'\n",
            " 'Credit card (automatic)']\n",
            "----------------------------------------------------------------------------------------------------\n",
            "input unique churn adalah ['No' 'Yes']\n",
            "----------------------------------------------------------------------------------------------------\n"
          ]
        }
      ],
      "source": [
        "unique_val(df)"
      ]
    },
    {
      "cell_type": "code",
      "execution_count": 16,
      "metadata": {
        "id": "nUMCRxEdN9oN"
      },
      "outputs": [],
      "source": [
        "# membagi dataframe menjadi dua tipe data\n",
        "numeric_cols = df.select_dtypes(include=np.number).columns.tolist()\n",
        "categorical_cols = df.select_dtypes('object').columns.tolist()"
      ]
    },
    {
      "cell_type": "code",
      "execution_count": 17,
      "metadata": {
        "colab": {
          "base_uri": "https://localhost:8080/"
        },
        "id": "I1Qn_uthN9oO",
        "outputId": "bf0b1bb5-a3e7-44cd-a9f5-4730b6994dca"
      },
      "outputs": [
        {
          "output_type": "execute_result",
          "data": {
            "text/plain": [
              "['seniorcitizen', 'tenure', 'monthlycharges', 'totalcharges']"
            ]
          },
          "metadata": {},
          "execution_count": 17
        }
      ],
      "source": [
        "numeric_cols"
      ]
    },
    {
      "cell_type": "code",
      "execution_count": 18,
      "metadata": {
        "colab": {
          "base_uri": "https://localhost:8080/"
        },
        "id": "KjAfktg9N9oO",
        "outputId": "fd1f1e3b-f463-4d02-fb7c-3c720e09a74e"
      },
      "outputs": [
        {
          "output_type": "execute_result",
          "data": {
            "text/plain": [
              "['gender',\n",
              " 'partner',\n",
              " 'dependents',\n",
              " 'phoneservice',\n",
              " 'multiplelines',\n",
              " 'internetservice',\n",
              " 'onlinesecurity',\n",
              " 'onlinebackup',\n",
              " 'deviceprotection',\n",
              " 'techsupport',\n",
              " 'streamingtv',\n",
              " 'streamingmovies',\n",
              " 'contract',\n",
              " 'paperlessbilling',\n",
              " 'paymentmethod',\n",
              " 'churn']"
            ]
          },
          "metadata": {},
          "execution_count": 18
        }
      ],
      "source": [
        "categorical_cols"
      ]
    },
    {
      "cell_type": "code",
      "execution_count": 19,
      "metadata": {
        "id": "oF4xDORbN9oP"
      },
      "outputs": [],
      "source": [
        "# as we see that there is extra categories which we have to convert it into No.\n",
        "df.multiplelines = df.multiplelines.replace('No phone service','No')\n",
        "df.onlinesecurity = df.onlinesecurity.replace('No internet service','No')\n",
        "df.onlinebackup = df.onlinebackup.replace('No internet service','No')\n",
        "df.deviceprotection = df.deviceprotection.replace('No internet service','No')\n",
        "df.techsupport = df.techsupport.replace('No internet service','No')\n",
        "df.streamingtv = df.streamingtv.replace('No internet service','No')\n",
        "df.streamingmovies = df.streamingmovies.replace('No internet service','No')"
      ]
    },
    {
      "cell_type": "code",
      "execution_count": 20,
      "metadata": {
        "colab": {
          "base_uri": "https://localhost:8080/",
          "height": 340
        },
        "id": "9yWsT86vN9oP",
        "outputId": "6d7b49e7-3b0b-4765-924b-3fc593a85903"
      },
      "outputs": [
        {
          "output_type": "execute_result",
          "data": {
            "text/html": [
              "\n",
              "  <div id=\"df-f53aa406-817b-4da8-9d09-0fc9362bb049\">\n",
              "    <div class=\"colab-df-container\">\n",
              "      <div>\n",
              "<style scoped>\n",
              "    .dataframe tbody tr th:only-of-type {\n",
              "        vertical-align: middle;\n",
              "    }\n",
              "\n",
              "    .dataframe tbody tr th {\n",
              "        vertical-align: top;\n",
              "    }\n",
              "\n",
              "    .dataframe thead th {\n",
              "        text-align: right;\n",
              "    }\n",
              "</style>\n",
              "<table border=\"1\" class=\"dataframe\">\n",
              "  <thead>\n",
              "    <tr style=\"text-align: right;\">\n",
              "      <th></th>\n",
              "      <th>gender</th>\n",
              "      <th>seniorcitizen</th>\n",
              "      <th>partner</th>\n",
              "      <th>dependents</th>\n",
              "      <th>tenure</th>\n",
              "      <th>phoneservice</th>\n",
              "      <th>multiplelines</th>\n",
              "      <th>internetservice</th>\n",
              "      <th>onlinesecurity</th>\n",
              "      <th>onlinebackup</th>\n",
              "      <th>deviceprotection</th>\n",
              "      <th>techsupport</th>\n",
              "      <th>streamingtv</th>\n",
              "      <th>streamingmovies</th>\n",
              "      <th>contract</th>\n",
              "      <th>paperlessbilling</th>\n",
              "      <th>paymentmethod</th>\n",
              "      <th>monthlycharges</th>\n",
              "      <th>totalcharges</th>\n",
              "      <th>churn</th>\n",
              "    </tr>\n",
              "  </thead>\n",
              "  <tbody>\n",
              "    <tr>\n",
              "      <th>0</th>\n",
              "      <td>Female</td>\n",
              "      <td>0</td>\n",
              "      <td>Yes</td>\n",
              "      <td>No</td>\n",
              "      <td>1</td>\n",
              "      <td>No</td>\n",
              "      <td>No</td>\n",
              "      <td>DSL</td>\n",
              "      <td>No</td>\n",
              "      <td>Yes</td>\n",
              "      <td>No</td>\n",
              "      <td>No</td>\n",
              "      <td>No</td>\n",
              "      <td>No</td>\n",
              "      <td>Month-to-month</td>\n",
              "      <td>Yes</td>\n",
              "      <td>Electronic check</td>\n",
              "      <td>29.85</td>\n",
              "      <td>29.85</td>\n",
              "      <td>No</td>\n",
              "    </tr>\n",
              "    <tr>\n",
              "      <th>1</th>\n",
              "      <td>Male</td>\n",
              "      <td>0</td>\n",
              "      <td>No</td>\n",
              "      <td>No</td>\n",
              "      <td>34</td>\n",
              "      <td>Yes</td>\n",
              "      <td>No</td>\n",
              "      <td>DSL</td>\n",
              "      <td>Yes</td>\n",
              "      <td>No</td>\n",
              "      <td>Yes</td>\n",
              "      <td>No</td>\n",
              "      <td>No</td>\n",
              "      <td>No</td>\n",
              "      <td>One year</td>\n",
              "      <td>No</td>\n",
              "      <td>Mailed check</td>\n",
              "      <td>56.95</td>\n",
              "      <td>1889.50</td>\n",
              "      <td>No</td>\n",
              "    </tr>\n",
              "    <tr>\n",
              "      <th>2</th>\n",
              "      <td>Male</td>\n",
              "      <td>0</td>\n",
              "      <td>No</td>\n",
              "      <td>No</td>\n",
              "      <td>2</td>\n",
              "      <td>Yes</td>\n",
              "      <td>No</td>\n",
              "      <td>DSL</td>\n",
              "      <td>Yes</td>\n",
              "      <td>Yes</td>\n",
              "      <td>No</td>\n",
              "      <td>No</td>\n",
              "      <td>No</td>\n",
              "      <td>No</td>\n",
              "      <td>Month-to-month</td>\n",
              "      <td>Yes</td>\n",
              "      <td>Mailed check</td>\n",
              "      <td>53.85</td>\n",
              "      <td>108.15</td>\n",
              "      <td>Yes</td>\n",
              "    </tr>\n",
              "    <tr>\n",
              "      <th>3</th>\n",
              "      <td>Male</td>\n",
              "      <td>0</td>\n",
              "      <td>No</td>\n",
              "      <td>No</td>\n",
              "      <td>45</td>\n",
              "      <td>No</td>\n",
              "      <td>No</td>\n",
              "      <td>DSL</td>\n",
              "      <td>Yes</td>\n",
              "      <td>No</td>\n",
              "      <td>Yes</td>\n",
              "      <td>Yes</td>\n",
              "      <td>No</td>\n",
              "      <td>No</td>\n",
              "      <td>One year</td>\n",
              "      <td>No</td>\n",
              "      <td>Bank transfer (automatic)</td>\n",
              "      <td>42.30</td>\n",
              "      <td>1840.75</td>\n",
              "      <td>No</td>\n",
              "    </tr>\n",
              "    <tr>\n",
              "      <th>4</th>\n",
              "      <td>Female</td>\n",
              "      <td>0</td>\n",
              "      <td>No</td>\n",
              "      <td>No</td>\n",
              "      <td>2</td>\n",
              "      <td>Yes</td>\n",
              "      <td>No</td>\n",
              "      <td>Fiber optic</td>\n",
              "      <td>No</td>\n",
              "      <td>No</td>\n",
              "      <td>No</td>\n",
              "      <td>No</td>\n",
              "      <td>No</td>\n",
              "      <td>No</td>\n",
              "      <td>Month-to-month</td>\n",
              "      <td>Yes</td>\n",
              "      <td>Electronic check</td>\n",
              "      <td>70.70</td>\n",
              "      <td>151.65</td>\n",
              "      <td>Yes</td>\n",
              "    </tr>\n",
              "  </tbody>\n",
              "</table>\n",
              "</div>\n",
              "      <button class=\"colab-df-convert\" onclick=\"convertToInteractive('df-f53aa406-817b-4da8-9d09-0fc9362bb049')\"\n",
              "              title=\"Convert this dataframe to an interactive table.\"\n",
              "              style=\"display:none;\">\n",
              "        \n",
              "  <svg xmlns=\"http://www.w3.org/2000/svg\" height=\"24px\"viewBox=\"0 0 24 24\"\n",
              "       width=\"24px\">\n",
              "    <path d=\"M0 0h24v24H0V0z\" fill=\"none\"/>\n",
              "    <path d=\"M18.56 5.44l.94 2.06.94-2.06 2.06-.94-2.06-.94-.94-2.06-.94 2.06-2.06.94zm-11 1L8.5 8.5l.94-2.06 2.06-.94-2.06-.94L8.5 2.5l-.94 2.06-2.06.94zm10 10l.94 2.06.94-2.06 2.06-.94-2.06-.94-.94-2.06-.94 2.06-2.06.94z\"/><path d=\"M17.41 7.96l-1.37-1.37c-.4-.4-.92-.59-1.43-.59-.52 0-1.04.2-1.43.59L10.3 9.45l-7.72 7.72c-.78.78-.78 2.05 0 2.83L4 21.41c.39.39.9.59 1.41.59.51 0 1.02-.2 1.41-.59l7.78-7.78 2.81-2.81c.8-.78.8-2.07 0-2.86zM5.41 20L4 18.59l7.72-7.72 1.47 1.35L5.41 20z\"/>\n",
              "  </svg>\n",
              "      </button>\n",
              "      \n",
              "  <style>\n",
              "    .colab-df-container {\n",
              "      display:flex;\n",
              "      flex-wrap:wrap;\n",
              "      gap: 12px;\n",
              "    }\n",
              "\n",
              "    .colab-df-convert {\n",
              "      background-color: #E8F0FE;\n",
              "      border: none;\n",
              "      border-radius: 50%;\n",
              "      cursor: pointer;\n",
              "      display: none;\n",
              "      fill: #1967D2;\n",
              "      height: 32px;\n",
              "      padding: 0 0 0 0;\n",
              "      width: 32px;\n",
              "    }\n",
              "\n",
              "    .colab-df-convert:hover {\n",
              "      background-color: #E2EBFA;\n",
              "      box-shadow: 0px 1px 2px rgba(60, 64, 67, 0.3), 0px 1px 3px 1px rgba(60, 64, 67, 0.15);\n",
              "      fill: #174EA6;\n",
              "    }\n",
              "\n",
              "    [theme=dark] .colab-df-convert {\n",
              "      background-color: #3B4455;\n",
              "      fill: #D2E3FC;\n",
              "    }\n",
              "\n",
              "    [theme=dark] .colab-df-convert:hover {\n",
              "      background-color: #434B5C;\n",
              "      box-shadow: 0px 1px 3px 1px rgba(0, 0, 0, 0.15);\n",
              "      filter: drop-shadow(0px 1px 2px rgba(0, 0, 0, 0.3));\n",
              "      fill: #FFFFFF;\n",
              "    }\n",
              "  </style>\n",
              "\n",
              "      <script>\n",
              "        const buttonEl =\n",
              "          document.querySelector('#df-f53aa406-817b-4da8-9d09-0fc9362bb049 button.colab-df-convert');\n",
              "        buttonEl.style.display =\n",
              "          google.colab.kernel.accessAllowed ? 'block' : 'none';\n",
              "\n",
              "        async function convertToInteractive(key) {\n",
              "          const element = document.querySelector('#df-f53aa406-817b-4da8-9d09-0fc9362bb049');\n",
              "          const dataTable =\n",
              "            await google.colab.kernel.invokeFunction('convertToInteractive',\n",
              "                                                     [key], {});\n",
              "          if (!dataTable) return;\n",
              "\n",
              "          const docLinkHtml = 'Like what you see? Visit the ' +\n",
              "            '<a target=\"_blank\" href=https://colab.research.google.com/notebooks/data_table.ipynb>data table notebook</a>'\n",
              "            + ' to learn more about interactive tables.';\n",
              "          element.innerHTML = '';\n",
              "          dataTable['output_type'] = 'display_data';\n",
              "          await google.colab.output.renderOutput(dataTable, element);\n",
              "          const docLink = document.createElement('div');\n",
              "          docLink.innerHTML = docLinkHtml;\n",
              "          element.appendChild(docLink);\n",
              "        }\n",
              "      </script>\n",
              "    </div>\n",
              "  </div>\n",
              "  "
            ],
            "text/plain": [
              "   gender  seniorcitizen partner dependents  tenure phoneservice  \\\n",
              "0  Female              0     Yes         No       1           No   \n",
              "1    Male              0      No         No      34          Yes   \n",
              "2    Male              0      No         No       2          Yes   \n",
              "3    Male              0      No         No      45           No   \n",
              "4  Female              0      No         No       2          Yes   \n",
              "\n",
              "  multiplelines internetservice onlinesecurity onlinebackup deviceprotection  \\\n",
              "0            No             DSL             No          Yes               No   \n",
              "1            No             DSL            Yes           No              Yes   \n",
              "2            No             DSL            Yes          Yes               No   \n",
              "3            No             DSL            Yes           No              Yes   \n",
              "4            No     Fiber optic             No           No               No   \n",
              "\n",
              "  techsupport streamingtv streamingmovies        contract paperlessbilling  \\\n",
              "0          No          No              No  Month-to-month              Yes   \n",
              "1          No          No              No        One year               No   \n",
              "2          No          No              No  Month-to-month              Yes   \n",
              "3         Yes          No              No        One year               No   \n",
              "4          No          No              No  Month-to-month              Yes   \n",
              "\n",
              "               paymentmethod  monthlycharges  totalcharges churn  \n",
              "0           Electronic check           29.85         29.85    No  \n",
              "1               Mailed check           56.95       1889.50    No  \n",
              "2               Mailed check           53.85        108.15   Yes  \n",
              "3  Bank transfer (automatic)           42.30       1840.75    No  \n",
              "4           Electronic check           70.70        151.65   Yes  "
            ]
          },
          "metadata": {},
          "execution_count": 20
        }
      ],
      "source": [
        "df.head()"
      ]
    },
    {
      "cell_type": "markdown",
      "metadata": {
        "id": "yhWPp3h0N9oP"
      },
      "source": [
        "#### Feature importance\n",
        "\n",
        "Kita akan memilih feature dengan menggunakan mutual info score untuk variabel kategorik dan correlastion untuk variabel numerik"
      ]
    },
    {
      "cell_type": "code",
      "execution_count": 21,
      "metadata": {
        "id": "T5k2DbjxN9oP"
      },
      "outputs": [],
      "source": [
        "def calculate_mi(series):\n",
        "    return mutual_info_score(series, df.churn)\n",
        "\n",
        "df_mi = df[categorical_cols].apply(calculate_mi)\n",
        "df_mi = df_mi.sort_values(ascending=False).to_frame(name='MI')"
      ]
    },
    {
      "cell_type": "code",
      "execution_count": 22,
      "metadata": {
        "colab": {
          "base_uri": "https://localhost:8080/"
        },
        "id": "M-LUofzGN9oP",
        "outputId": "b4261414-c3fa-4dc0-f856-f82956d2e53e"
      },
      "outputs": [
        {
          "output_type": "stream",
          "name": "stdout",
          "text": [
            "                        MI\n",
            "churn             0.579021\n",
            "contract          0.098182\n",
            "internetservice   0.055394\n",
            "paymentmethod     0.044423\n",
            "paperlessbilling  0.019119\n",
            "onlinesecurity    0.015891\n",
            "techsupport       0.014614\n",
            "dependents        0.014270\n",
            "partner           0.011383\n",
            "onlinebackup      0.003464\n",
            "deviceprotection  0.002230\n",
            "streamingtv       0.001983\n",
            "streamingmovies   0.001837\n",
            "multiplelines     0.000798\n",
            "phoneservice      0.000069\n",
            "gender            0.000037\n"
          ]
        }
      ],
      "source": [
        "print(df_mi)"
      ]
    },
    {
      "cell_type": "markdown",
      "source": [
        "Nilai **mi score** pada features streamingmovies, multiplelines, dan gender sangat kecil artinya features ini bisa dibilang kurang berpengaruh terhadap model sehingga kita bisa hapus features tersebut"
      ],
      "metadata": {
        "id": "aO3zpXZH5DvX"
      }
    },
    {
      "cell_type": "code",
      "source": [
        "enc = LabelEncoder()\n",
        "df['churn'] =  enc.fit_transform(df['churn'])"
      ],
      "metadata": {
        "id": "GV_CbcSFrwWC"
      },
      "execution_count": 23,
      "outputs": []
    },
    {
      "cell_type": "code",
      "execution_count": 24,
      "metadata": {
        "colab": {
          "base_uri": "https://localhost:8080/",
          "height": 175
        },
        "id": "6nSujAONN9oQ",
        "outputId": "73d0d592-0821-4326-9fdf-131a557b3065"
      },
      "outputs": [
        {
          "output_type": "execute_result",
          "data": {
            "text/html": [
              "\n",
              "  <div id=\"df-e4f14466-7f41-43d5-b946-3ca968ee296b\">\n",
              "    <div class=\"colab-df-container\">\n",
              "      <div>\n",
              "<style scoped>\n",
              "    .dataframe tbody tr th:only-of-type {\n",
              "        vertical-align: middle;\n",
              "    }\n",
              "\n",
              "    .dataframe tbody tr th {\n",
              "        vertical-align: top;\n",
              "    }\n",
              "\n",
              "    .dataframe thead th {\n",
              "        text-align: right;\n",
              "    }\n",
              "</style>\n",
              "<table border=\"1\" class=\"dataframe\">\n",
              "  <thead>\n",
              "    <tr style=\"text-align: right;\">\n",
              "      <th></th>\n",
              "      <th>correlation</th>\n",
              "    </tr>\n",
              "  </thead>\n",
              "  <tbody>\n",
              "    <tr>\n",
              "      <th>seniorcitizen</th>\n",
              "      <td>0.150541</td>\n",
              "    </tr>\n",
              "    <tr>\n",
              "      <th>tenure</th>\n",
              "      <td>-0.354049</td>\n",
              "    </tr>\n",
              "    <tr>\n",
              "      <th>monthlycharges</th>\n",
              "      <td>0.192858</td>\n",
              "    </tr>\n",
              "    <tr>\n",
              "      <th>totalcharges</th>\n",
              "      <td>-0.199484</td>\n",
              "    </tr>\n",
              "  </tbody>\n",
              "</table>\n",
              "</div>\n",
              "      <button class=\"colab-df-convert\" onclick=\"convertToInteractive('df-e4f14466-7f41-43d5-b946-3ca968ee296b')\"\n",
              "              title=\"Convert this dataframe to an interactive table.\"\n",
              "              style=\"display:none;\">\n",
              "        \n",
              "  <svg xmlns=\"http://www.w3.org/2000/svg\" height=\"24px\"viewBox=\"0 0 24 24\"\n",
              "       width=\"24px\">\n",
              "    <path d=\"M0 0h24v24H0V0z\" fill=\"none\"/>\n",
              "    <path d=\"M18.56 5.44l.94 2.06.94-2.06 2.06-.94-2.06-.94-.94-2.06-.94 2.06-2.06.94zm-11 1L8.5 8.5l.94-2.06 2.06-.94-2.06-.94L8.5 2.5l-.94 2.06-2.06.94zm10 10l.94 2.06.94-2.06 2.06-.94-2.06-.94-.94-2.06-.94 2.06-2.06.94z\"/><path d=\"M17.41 7.96l-1.37-1.37c-.4-.4-.92-.59-1.43-.59-.52 0-1.04.2-1.43.59L10.3 9.45l-7.72 7.72c-.78.78-.78 2.05 0 2.83L4 21.41c.39.39.9.59 1.41.59.51 0 1.02-.2 1.41-.59l7.78-7.78 2.81-2.81c.8-.78.8-2.07 0-2.86zM5.41 20L4 18.59l7.72-7.72 1.47 1.35L5.41 20z\"/>\n",
              "  </svg>\n",
              "      </button>\n",
              "      \n",
              "  <style>\n",
              "    .colab-df-container {\n",
              "      display:flex;\n",
              "      flex-wrap:wrap;\n",
              "      gap: 12px;\n",
              "    }\n",
              "\n",
              "    .colab-df-convert {\n",
              "      background-color: #E8F0FE;\n",
              "      border: none;\n",
              "      border-radius: 50%;\n",
              "      cursor: pointer;\n",
              "      display: none;\n",
              "      fill: #1967D2;\n",
              "      height: 32px;\n",
              "      padding: 0 0 0 0;\n",
              "      width: 32px;\n",
              "    }\n",
              "\n",
              "    .colab-df-convert:hover {\n",
              "      background-color: #E2EBFA;\n",
              "      box-shadow: 0px 1px 2px rgba(60, 64, 67, 0.3), 0px 1px 3px 1px rgba(60, 64, 67, 0.15);\n",
              "      fill: #174EA6;\n",
              "    }\n",
              "\n",
              "    [theme=dark] .colab-df-convert {\n",
              "      background-color: #3B4455;\n",
              "      fill: #D2E3FC;\n",
              "    }\n",
              "\n",
              "    [theme=dark] .colab-df-convert:hover {\n",
              "      background-color: #434B5C;\n",
              "      box-shadow: 0px 1px 3px 1px rgba(0, 0, 0, 0.15);\n",
              "      filter: drop-shadow(0px 1px 2px rgba(0, 0, 0, 0.3));\n",
              "      fill: #FFFFFF;\n",
              "    }\n",
              "  </style>\n",
              "\n",
              "      <script>\n",
              "        const buttonEl =\n",
              "          document.querySelector('#df-e4f14466-7f41-43d5-b946-3ca968ee296b button.colab-df-convert');\n",
              "        buttonEl.style.display =\n",
              "          google.colab.kernel.accessAllowed ? 'block' : 'none';\n",
              "\n",
              "        async function convertToInteractive(key) {\n",
              "          const element = document.querySelector('#df-e4f14466-7f41-43d5-b946-3ca968ee296b');\n",
              "          const dataTable =\n",
              "            await google.colab.kernel.invokeFunction('convertToInteractive',\n",
              "                                                     [key], {});\n",
              "          if (!dataTable) return;\n",
              "\n",
              "          const docLinkHtml = 'Like what you see? Visit the ' +\n",
              "            '<a target=\"_blank\" href=https://colab.research.google.com/notebooks/data_table.ipynb>data table notebook</a>'\n",
              "            + ' to learn more about interactive tables.';\n",
              "          element.innerHTML = '';\n",
              "          dataTable['output_type'] = 'display_data';\n",
              "          await google.colab.output.renderOutput(dataTable, element);\n",
              "          const docLink = document.createElement('div');\n",
              "          docLink.innerHTML = docLinkHtml;\n",
              "          element.appendChild(docLink);\n",
              "        }\n",
              "      </script>\n",
              "    </div>\n",
              "  </div>\n",
              "  "
            ],
            "text/plain": [
              "                correlation\n",
              "seniorcitizen      0.150541\n",
              "tenure            -0.354049\n",
              "monthlycharges     0.192858\n",
              "totalcharges      -0.199484"
            ]
          },
          "metadata": {},
          "execution_count": 24
        }
      ],
      "source": [
        "df[numeric_cols].corrwith(df.churn).to_frame('correlation')"
      ]
    },
    {
      "cell_type": "markdown",
      "source": [
        "Nilai korelasi pada varibael numerik memiliki angka yang cukup untuk kita gunakan sebagai features pada model"
      ],
      "metadata": {
        "id": "z6clRDwr5sQM"
      }
    },
    {
      "cell_type": "code",
      "execution_count": 25,
      "metadata": {
        "id": "Z-xhRQuEN9oQ"
      },
      "outputs": [],
      "source": [
        "df.drop(['multiplelines', 'phoneservice', 'gender'], axis=1, inplace=True)"
      ]
    },
    {
      "cell_type": "code",
      "execution_count": 26,
      "metadata": {
        "colab": {
          "base_uri": "https://localhost:8080/",
          "height": 320
        },
        "id": "4XE3-i8vN9oQ",
        "outputId": "b7e4e606-4f50-4bfb-d1e2-cf47f1f2d0c2"
      },
      "outputs": [
        {
          "output_type": "execute_result",
          "data": {
            "text/html": [
              "\n",
              "  <div id=\"df-9bbbcfd6-0b28-47ca-8294-313a0418a25e\">\n",
              "    <div class=\"colab-df-container\">\n",
              "      <div>\n",
              "<style scoped>\n",
              "    .dataframe tbody tr th:only-of-type {\n",
              "        vertical-align: middle;\n",
              "    }\n",
              "\n",
              "    .dataframe tbody tr th {\n",
              "        vertical-align: top;\n",
              "    }\n",
              "\n",
              "    .dataframe thead th {\n",
              "        text-align: right;\n",
              "    }\n",
              "</style>\n",
              "<table border=\"1\" class=\"dataframe\">\n",
              "  <thead>\n",
              "    <tr style=\"text-align: right;\">\n",
              "      <th></th>\n",
              "      <th>seniorcitizen</th>\n",
              "      <th>partner</th>\n",
              "      <th>dependents</th>\n",
              "      <th>tenure</th>\n",
              "      <th>internetservice</th>\n",
              "      <th>onlinesecurity</th>\n",
              "      <th>onlinebackup</th>\n",
              "      <th>deviceprotection</th>\n",
              "      <th>techsupport</th>\n",
              "      <th>streamingtv</th>\n",
              "      <th>streamingmovies</th>\n",
              "      <th>contract</th>\n",
              "      <th>paperlessbilling</th>\n",
              "      <th>paymentmethod</th>\n",
              "      <th>monthlycharges</th>\n",
              "      <th>totalcharges</th>\n",
              "      <th>churn</th>\n",
              "    </tr>\n",
              "  </thead>\n",
              "  <tbody>\n",
              "    <tr>\n",
              "      <th>0</th>\n",
              "      <td>0</td>\n",
              "      <td>Yes</td>\n",
              "      <td>No</td>\n",
              "      <td>1</td>\n",
              "      <td>DSL</td>\n",
              "      <td>No</td>\n",
              "      <td>Yes</td>\n",
              "      <td>No</td>\n",
              "      <td>No</td>\n",
              "      <td>No</td>\n",
              "      <td>No</td>\n",
              "      <td>Month-to-month</td>\n",
              "      <td>Yes</td>\n",
              "      <td>Electronic check</td>\n",
              "      <td>29.85</td>\n",
              "      <td>29.85</td>\n",
              "      <td>0</td>\n",
              "    </tr>\n",
              "    <tr>\n",
              "      <th>1</th>\n",
              "      <td>0</td>\n",
              "      <td>No</td>\n",
              "      <td>No</td>\n",
              "      <td>34</td>\n",
              "      <td>DSL</td>\n",
              "      <td>Yes</td>\n",
              "      <td>No</td>\n",
              "      <td>Yes</td>\n",
              "      <td>No</td>\n",
              "      <td>No</td>\n",
              "      <td>No</td>\n",
              "      <td>One year</td>\n",
              "      <td>No</td>\n",
              "      <td>Mailed check</td>\n",
              "      <td>56.95</td>\n",
              "      <td>1889.50</td>\n",
              "      <td>0</td>\n",
              "    </tr>\n",
              "    <tr>\n",
              "      <th>2</th>\n",
              "      <td>0</td>\n",
              "      <td>No</td>\n",
              "      <td>No</td>\n",
              "      <td>2</td>\n",
              "      <td>DSL</td>\n",
              "      <td>Yes</td>\n",
              "      <td>Yes</td>\n",
              "      <td>No</td>\n",
              "      <td>No</td>\n",
              "      <td>No</td>\n",
              "      <td>No</td>\n",
              "      <td>Month-to-month</td>\n",
              "      <td>Yes</td>\n",
              "      <td>Mailed check</td>\n",
              "      <td>53.85</td>\n",
              "      <td>108.15</td>\n",
              "      <td>1</td>\n",
              "    </tr>\n",
              "    <tr>\n",
              "      <th>3</th>\n",
              "      <td>0</td>\n",
              "      <td>No</td>\n",
              "      <td>No</td>\n",
              "      <td>45</td>\n",
              "      <td>DSL</td>\n",
              "      <td>Yes</td>\n",
              "      <td>No</td>\n",
              "      <td>Yes</td>\n",
              "      <td>Yes</td>\n",
              "      <td>No</td>\n",
              "      <td>No</td>\n",
              "      <td>One year</td>\n",
              "      <td>No</td>\n",
              "      <td>Bank transfer (automatic)</td>\n",
              "      <td>42.30</td>\n",
              "      <td>1840.75</td>\n",
              "      <td>0</td>\n",
              "    </tr>\n",
              "    <tr>\n",
              "      <th>4</th>\n",
              "      <td>0</td>\n",
              "      <td>No</td>\n",
              "      <td>No</td>\n",
              "      <td>2</td>\n",
              "      <td>Fiber optic</td>\n",
              "      <td>No</td>\n",
              "      <td>No</td>\n",
              "      <td>No</td>\n",
              "      <td>No</td>\n",
              "      <td>No</td>\n",
              "      <td>No</td>\n",
              "      <td>Month-to-month</td>\n",
              "      <td>Yes</td>\n",
              "      <td>Electronic check</td>\n",
              "      <td>70.70</td>\n",
              "      <td>151.65</td>\n",
              "      <td>1</td>\n",
              "    </tr>\n",
              "  </tbody>\n",
              "</table>\n",
              "</div>\n",
              "      <button class=\"colab-df-convert\" onclick=\"convertToInteractive('df-9bbbcfd6-0b28-47ca-8294-313a0418a25e')\"\n",
              "              title=\"Convert this dataframe to an interactive table.\"\n",
              "              style=\"display:none;\">\n",
              "        \n",
              "  <svg xmlns=\"http://www.w3.org/2000/svg\" height=\"24px\"viewBox=\"0 0 24 24\"\n",
              "       width=\"24px\">\n",
              "    <path d=\"M0 0h24v24H0V0z\" fill=\"none\"/>\n",
              "    <path d=\"M18.56 5.44l.94 2.06.94-2.06 2.06-.94-2.06-.94-.94-2.06-.94 2.06-2.06.94zm-11 1L8.5 8.5l.94-2.06 2.06-.94-2.06-.94L8.5 2.5l-.94 2.06-2.06.94zm10 10l.94 2.06.94-2.06 2.06-.94-2.06-.94-.94-2.06-.94 2.06-2.06.94z\"/><path d=\"M17.41 7.96l-1.37-1.37c-.4-.4-.92-.59-1.43-.59-.52 0-1.04.2-1.43.59L10.3 9.45l-7.72 7.72c-.78.78-.78 2.05 0 2.83L4 21.41c.39.39.9.59 1.41.59.51 0 1.02-.2 1.41-.59l7.78-7.78 2.81-2.81c.8-.78.8-2.07 0-2.86zM5.41 20L4 18.59l7.72-7.72 1.47 1.35L5.41 20z\"/>\n",
              "  </svg>\n",
              "      </button>\n",
              "      \n",
              "  <style>\n",
              "    .colab-df-container {\n",
              "      display:flex;\n",
              "      flex-wrap:wrap;\n",
              "      gap: 12px;\n",
              "    }\n",
              "\n",
              "    .colab-df-convert {\n",
              "      background-color: #E8F0FE;\n",
              "      border: none;\n",
              "      border-radius: 50%;\n",
              "      cursor: pointer;\n",
              "      display: none;\n",
              "      fill: #1967D2;\n",
              "      height: 32px;\n",
              "      padding: 0 0 0 0;\n",
              "      width: 32px;\n",
              "    }\n",
              "\n",
              "    .colab-df-convert:hover {\n",
              "      background-color: #E2EBFA;\n",
              "      box-shadow: 0px 1px 2px rgba(60, 64, 67, 0.3), 0px 1px 3px 1px rgba(60, 64, 67, 0.15);\n",
              "      fill: #174EA6;\n",
              "    }\n",
              "\n",
              "    [theme=dark] .colab-df-convert {\n",
              "      background-color: #3B4455;\n",
              "      fill: #D2E3FC;\n",
              "    }\n",
              "\n",
              "    [theme=dark] .colab-df-convert:hover {\n",
              "      background-color: #434B5C;\n",
              "      box-shadow: 0px 1px 3px 1px rgba(0, 0, 0, 0.15);\n",
              "      filter: drop-shadow(0px 1px 2px rgba(0, 0, 0, 0.3));\n",
              "      fill: #FFFFFF;\n",
              "    }\n",
              "  </style>\n",
              "\n",
              "      <script>\n",
              "        const buttonEl =\n",
              "          document.querySelector('#df-9bbbcfd6-0b28-47ca-8294-313a0418a25e button.colab-df-convert');\n",
              "        buttonEl.style.display =\n",
              "          google.colab.kernel.accessAllowed ? 'block' : 'none';\n",
              "\n",
              "        async function convertToInteractive(key) {\n",
              "          const element = document.querySelector('#df-9bbbcfd6-0b28-47ca-8294-313a0418a25e');\n",
              "          const dataTable =\n",
              "            await google.colab.kernel.invokeFunction('convertToInteractive',\n",
              "                                                     [key], {});\n",
              "          if (!dataTable) return;\n",
              "\n",
              "          const docLinkHtml = 'Like what you see? Visit the ' +\n",
              "            '<a target=\"_blank\" href=https://colab.research.google.com/notebooks/data_table.ipynb>data table notebook</a>'\n",
              "            + ' to learn more about interactive tables.';\n",
              "          element.innerHTML = '';\n",
              "          dataTable['output_type'] = 'display_data';\n",
              "          await google.colab.output.renderOutput(dataTable, element);\n",
              "          const docLink = document.createElement('div');\n",
              "          docLink.innerHTML = docLinkHtml;\n",
              "          element.appendChild(docLink);\n",
              "        }\n",
              "      </script>\n",
              "    </div>\n",
              "  </div>\n",
              "  "
            ],
            "text/plain": [
              "   seniorcitizen partner dependents  tenure internetservice onlinesecurity  \\\n",
              "0              0     Yes         No       1             DSL             No   \n",
              "1              0      No         No      34             DSL            Yes   \n",
              "2              0      No         No       2             DSL            Yes   \n",
              "3              0      No         No      45             DSL            Yes   \n",
              "4              0      No         No       2     Fiber optic             No   \n",
              "\n",
              "  onlinebackup deviceprotection techsupport streamingtv streamingmovies  \\\n",
              "0          Yes               No          No          No              No   \n",
              "1           No              Yes          No          No              No   \n",
              "2          Yes               No          No          No              No   \n",
              "3           No              Yes         Yes          No              No   \n",
              "4           No               No          No          No              No   \n",
              "\n",
              "         contract paperlessbilling              paymentmethod  monthlycharges  \\\n",
              "0  Month-to-month              Yes           Electronic check           29.85   \n",
              "1        One year               No               Mailed check           56.95   \n",
              "2  Month-to-month              Yes               Mailed check           53.85   \n",
              "3        One year               No  Bank transfer (automatic)           42.30   \n",
              "4  Month-to-month              Yes           Electronic check           70.70   \n",
              "\n",
              "   totalcharges  churn  \n",
              "0         29.85      0  \n",
              "1       1889.50      0  \n",
              "2        108.15      1  \n",
              "3       1840.75      0  \n",
              "4        151.65      1  "
            ]
          },
          "metadata": {},
          "execution_count": 26
        }
      ],
      "source": [
        "df.head()"
      ]
    },
    {
      "cell_type": "code",
      "execution_count": 27,
      "metadata": {
        "colab": {
          "base_uri": "https://localhost:8080/"
        },
        "id": "dvlWYTuAN9oQ",
        "outputId": "831913f4-f589-446e-ef94-23d4f4cc0116"
      },
      "outputs": [
        {
          "output_type": "stream",
          "name": "stdout",
          "text": [
            "input unique partner adalah ['Yes' 'No']\n",
            "----------------------------------------------------------------------------------------------------\n",
            "input unique dependents adalah ['No' 'Yes']\n",
            "----------------------------------------------------------------------------------------------------\n",
            "input unique internetservice adalah ['DSL' 'Fiber optic' 'No']\n",
            "----------------------------------------------------------------------------------------------------\n",
            "input unique onlinesecurity adalah ['No' 'Yes']\n",
            "----------------------------------------------------------------------------------------------------\n",
            "input unique onlinebackup adalah ['Yes' 'No']\n",
            "----------------------------------------------------------------------------------------------------\n",
            "input unique deviceprotection adalah ['No' 'Yes']\n",
            "----------------------------------------------------------------------------------------------------\n",
            "input unique techsupport adalah ['No' 'Yes']\n",
            "----------------------------------------------------------------------------------------------------\n",
            "input unique streamingtv adalah ['No' 'Yes']\n",
            "----------------------------------------------------------------------------------------------------\n",
            "input unique streamingmovies adalah ['No' 'Yes']\n",
            "----------------------------------------------------------------------------------------------------\n",
            "input unique contract adalah ['Month-to-month' 'One year' 'Two year']\n",
            "----------------------------------------------------------------------------------------------------\n",
            "input unique paperlessbilling adalah ['Yes' 'No']\n",
            "----------------------------------------------------------------------------------------------------\n",
            "input unique paymentmethod adalah ['Electronic check' 'Mailed check' 'Bank transfer (automatic)'\n",
            " 'Credit card (automatic)']\n",
            "----------------------------------------------------------------------------------------------------\n"
          ]
        }
      ],
      "source": [
        "unique_val(df)"
      ]
    },
    {
      "cell_type": "code",
      "source": [
        "df.shape"
      ],
      "metadata": {
        "colab": {
          "base_uri": "https://localhost:8080/"
        },
        "id": "_0XS8a7QRopq",
        "outputId": "e9d28f71-92e2-45c1-861d-f8472e90087c"
      },
      "execution_count": 28,
      "outputs": [
        {
          "output_type": "execute_result",
          "data": {
            "text/plain": [
              "(7032, 17)"
            ]
          },
          "metadata": {},
          "execution_count": 28
        }
      ]
    },
    {
      "cell_type": "code",
      "execution_count": 29,
      "metadata": {
        "id": "NGIcgUVVN9oS"
      },
      "outputs": [],
      "source": [
        "# membagi dataframe menjadi dua tipe data\n",
        "num_cols = df.select_dtypes(include=np.number).columns.tolist()\n",
        "cat_cols = df.select_dtypes('object').columns.tolist()"
      ]
    },
    {
      "cell_type": "code",
      "execution_count": 30,
      "metadata": {
        "colab": {
          "base_uri": "https://localhost:8080/"
        },
        "id": "EiTH3PEaN9oS",
        "outputId": "7222bb06-e0f1-4b5b-9960-2e8794150e33"
      },
      "outputs": [
        {
          "output_type": "execute_result",
          "data": {
            "text/plain": [
              "['seniorcitizen', 'tenure', 'monthlycharges', 'totalcharges', 'churn']"
            ]
          },
          "metadata": {},
          "execution_count": 30
        }
      ],
      "source": [
        "num_cols"
      ]
    },
    {
      "cell_type": "code",
      "source": [
        "cat_cols"
      ],
      "metadata": {
        "colab": {
          "base_uri": "https://localhost:8080/"
        },
        "id": "RxjuOiR7sFqA",
        "outputId": "0b2e0ec8-f214-4817-d0fb-1413d7ffa164"
      },
      "execution_count": 31,
      "outputs": [
        {
          "output_type": "execute_result",
          "data": {
            "text/plain": [
              "['partner',\n",
              " 'dependents',\n",
              " 'internetservice',\n",
              " 'onlinesecurity',\n",
              " 'onlinebackup',\n",
              " 'deviceprotection',\n",
              " 'techsupport',\n",
              " 'streamingtv',\n",
              " 'streamingmovies',\n",
              " 'contract',\n",
              " 'paperlessbilling',\n",
              " 'paymentmethod']"
            ]
          },
          "metadata": {},
          "execution_count": 31
        }
      ]
    },
    {
      "cell_type": "markdown",
      "metadata": {
        "id": "XunHOsqmN9oU"
      },
      "source": [
        "### Eksplorasi Data"
      ]
    },
    {
      "cell_type": "markdown",
      "metadata": {
        "id": "aLSP2uE3N9oU"
      },
      "source": [
        "We build a model to predict how likely a customer will churn by analyzing its characteristics:\n",
        "\n",
        "(1) demographic information: gender, age, and whether they have dependents or a partner\n",
        "\n",
        "(2) account information: how long they have been clients, type of contract, type of payment method\n",
        "\n",
        "(3) Services of the customers: phone; multiple lines; internet; tech support and extra services such as online security, backup, device protection, and TV streaming\n",
        "\n",
        "(4) Charges: how much the client was charged in the past month and in total"
      ]
    },
    {
      "cell_type": "code",
      "execution_count": 32,
      "metadata": {
        "id": "zkvSQodxN9oU",
        "colab": {
          "base_uri": "https://localhost:8080/",
          "height": 320
        },
        "outputId": "9dc59f5e-a161-4c0d-d196-8d509a56835e"
      },
      "outputs": [
        {
          "output_type": "execute_result",
          "data": {
            "text/html": [
              "\n",
              "  <div id=\"df-1c01178c-43f1-4a53-b77f-f00bb741d490\">\n",
              "    <div class=\"colab-df-container\">\n",
              "      <div>\n",
              "<style scoped>\n",
              "    .dataframe tbody tr th:only-of-type {\n",
              "        vertical-align: middle;\n",
              "    }\n",
              "\n",
              "    .dataframe tbody tr th {\n",
              "        vertical-align: top;\n",
              "    }\n",
              "\n",
              "    .dataframe thead th {\n",
              "        text-align: right;\n",
              "    }\n",
              "</style>\n",
              "<table border=\"1\" class=\"dataframe\">\n",
              "  <thead>\n",
              "    <tr style=\"text-align: right;\">\n",
              "      <th></th>\n",
              "      <th>seniorcitizen</th>\n",
              "      <th>partner</th>\n",
              "      <th>dependents</th>\n",
              "      <th>tenure</th>\n",
              "      <th>internetservice</th>\n",
              "      <th>onlinesecurity</th>\n",
              "      <th>onlinebackup</th>\n",
              "      <th>deviceprotection</th>\n",
              "      <th>techsupport</th>\n",
              "      <th>streamingtv</th>\n",
              "      <th>streamingmovies</th>\n",
              "      <th>contract</th>\n",
              "      <th>paperlessbilling</th>\n",
              "      <th>paymentmethod</th>\n",
              "      <th>monthlycharges</th>\n",
              "      <th>totalcharges</th>\n",
              "      <th>churn</th>\n",
              "    </tr>\n",
              "  </thead>\n",
              "  <tbody>\n",
              "    <tr>\n",
              "      <th>0</th>\n",
              "      <td>0</td>\n",
              "      <td>Yes</td>\n",
              "      <td>No</td>\n",
              "      <td>1</td>\n",
              "      <td>DSL</td>\n",
              "      <td>No</td>\n",
              "      <td>Yes</td>\n",
              "      <td>No</td>\n",
              "      <td>No</td>\n",
              "      <td>No</td>\n",
              "      <td>No</td>\n",
              "      <td>Month-to-month</td>\n",
              "      <td>Yes</td>\n",
              "      <td>Electronic check</td>\n",
              "      <td>29.85</td>\n",
              "      <td>29.85</td>\n",
              "      <td>0</td>\n",
              "    </tr>\n",
              "    <tr>\n",
              "      <th>1</th>\n",
              "      <td>0</td>\n",
              "      <td>No</td>\n",
              "      <td>No</td>\n",
              "      <td>34</td>\n",
              "      <td>DSL</td>\n",
              "      <td>Yes</td>\n",
              "      <td>No</td>\n",
              "      <td>Yes</td>\n",
              "      <td>No</td>\n",
              "      <td>No</td>\n",
              "      <td>No</td>\n",
              "      <td>One year</td>\n",
              "      <td>No</td>\n",
              "      <td>Mailed check</td>\n",
              "      <td>56.95</td>\n",
              "      <td>1889.50</td>\n",
              "      <td>0</td>\n",
              "    </tr>\n",
              "    <tr>\n",
              "      <th>2</th>\n",
              "      <td>0</td>\n",
              "      <td>No</td>\n",
              "      <td>No</td>\n",
              "      <td>2</td>\n",
              "      <td>DSL</td>\n",
              "      <td>Yes</td>\n",
              "      <td>Yes</td>\n",
              "      <td>No</td>\n",
              "      <td>No</td>\n",
              "      <td>No</td>\n",
              "      <td>No</td>\n",
              "      <td>Month-to-month</td>\n",
              "      <td>Yes</td>\n",
              "      <td>Mailed check</td>\n",
              "      <td>53.85</td>\n",
              "      <td>108.15</td>\n",
              "      <td>1</td>\n",
              "    </tr>\n",
              "    <tr>\n",
              "      <th>3</th>\n",
              "      <td>0</td>\n",
              "      <td>No</td>\n",
              "      <td>No</td>\n",
              "      <td>45</td>\n",
              "      <td>DSL</td>\n",
              "      <td>Yes</td>\n",
              "      <td>No</td>\n",
              "      <td>Yes</td>\n",
              "      <td>Yes</td>\n",
              "      <td>No</td>\n",
              "      <td>No</td>\n",
              "      <td>One year</td>\n",
              "      <td>No</td>\n",
              "      <td>Bank transfer (automatic)</td>\n",
              "      <td>42.30</td>\n",
              "      <td>1840.75</td>\n",
              "      <td>0</td>\n",
              "    </tr>\n",
              "    <tr>\n",
              "      <th>4</th>\n",
              "      <td>0</td>\n",
              "      <td>No</td>\n",
              "      <td>No</td>\n",
              "      <td>2</td>\n",
              "      <td>Fiber optic</td>\n",
              "      <td>No</td>\n",
              "      <td>No</td>\n",
              "      <td>No</td>\n",
              "      <td>No</td>\n",
              "      <td>No</td>\n",
              "      <td>No</td>\n",
              "      <td>Month-to-month</td>\n",
              "      <td>Yes</td>\n",
              "      <td>Electronic check</td>\n",
              "      <td>70.70</td>\n",
              "      <td>151.65</td>\n",
              "      <td>1</td>\n",
              "    </tr>\n",
              "  </tbody>\n",
              "</table>\n",
              "</div>\n",
              "      <button class=\"colab-df-convert\" onclick=\"convertToInteractive('df-1c01178c-43f1-4a53-b77f-f00bb741d490')\"\n",
              "              title=\"Convert this dataframe to an interactive table.\"\n",
              "              style=\"display:none;\">\n",
              "        \n",
              "  <svg xmlns=\"http://www.w3.org/2000/svg\" height=\"24px\"viewBox=\"0 0 24 24\"\n",
              "       width=\"24px\">\n",
              "    <path d=\"M0 0h24v24H0V0z\" fill=\"none\"/>\n",
              "    <path d=\"M18.56 5.44l.94 2.06.94-2.06 2.06-.94-2.06-.94-.94-2.06-.94 2.06-2.06.94zm-11 1L8.5 8.5l.94-2.06 2.06-.94-2.06-.94L8.5 2.5l-.94 2.06-2.06.94zm10 10l.94 2.06.94-2.06 2.06-.94-2.06-.94-.94-2.06-.94 2.06-2.06.94z\"/><path d=\"M17.41 7.96l-1.37-1.37c-.4-.4-.92-.59-1.43-.59-.52 0-1.04.2-1.43.59L10.3 9.45l-7.72 7.72c-.78.78-.78 2.05 0 2.83L4 21.41c.39.39.9.59 1.41.59.51 0 1.02-.2 1.41-.59l7.78-7.78 2.81-2.81c.8-.78.8-2.07 0-2.86zM5.41 20L4 18.59l7.72-7.72 1.47 1.35L5.41 20z\"/>\n",
              "  </svg>\n",
              "      </button>\n",
              "      \n",
              "  <style>\n",
              "    .colab-df-container {\n",
              "      display:flex;\n",
              "      flex-wrap:wrap;\n",
              "      gap: 12px;\n",
              "    }\n",
              "\n",
              "    .colab-df-convert {\n",
              "      background-color: #E8F0FE;\n",
              "      border: none;\n",
              "      border-radius: 50%;\n",
              "      cursor: pointer;\n",
              "      display: none;\n",
              "      fill: #1967D2;\n",
              "      height: 32px;\n",
              "      padding: 0 0 0 0;\n",
              "      width: 32px;\n",
              "    }\n",
              "\n",
              "    .colab-df-convert:hover {\n",
              "      background-color: #E2EBFA;\n",
              "      box-shadow: 0px 1px 2px rgba(60, 64, 67, 0.3), 0px 1px 3px 1px rgba(60, 64, 67, 0.15);\n",
              "      fill: #174EA6;\n",
              "    }\n",
              "\n",
              "    [theme=dark] .colab-df-convert {\n",
              "      background-color: #3B4455;\n",
              "      fill: #D2E3FC;\n",
              "    }\n",
              "\n",
              "    [theme=dark] .colab-df-convert:hover {\n",
              "      background-color: #434B5C;\n",
              "      box-shadow: 0px 1px 3px 1px rgba(0, 0, 0, 0.15);\n",
              "      filter: drop-shadow(0px 1px 2px rgba(0, 0, 0, 0.3));\n",
              "      fill: #FFFFFF;\n",
              "    }\n",
              "  </style>\n",
              "\n",
              "      <script>\n",
              "        const buttonEl =\n",
              "          document.querySelector('#df-1c01178c-43f1-4a53-b77f-f00bb741d490 button.colab-df-convert');\n",
              "        buttonEl.style.display =\n",
              "          google.colab.kernel.accessAllowed ? 'block' : 'none';\n",
              "\n",
              "        async function convertToInteractive(key) {\n",
              "          const element = document.querySelector('#df-1c01178c-43f1-4a53-b77f-f00bb741d490');\n",
              "          const dataTable =\n",
              "            await google.colab.kernel.invokeFunction('convertToInteractive',\n",
              "                                                     [key], {});\n",
              "          if (!dataTable) return;\n",
              "\n",
              "          const docLinkHtml = 'Like what you see? Visit the ' +\n",
              "            '<a target=\"_blank\" href=https://colab.research.google.com/notebooks/data_table.ipynb>data table notebook</a>'\n",
              "            + ' to learn more about interactive tables.';\n",
              "          element.innerHTML = '';\n",
              "          dataTable['output_type'] = 'display_data';\n",
              "          await google.colab.output.renderOutput(dataTable, element);\n",
              "          const docLink = document.createElement('div');\n",
              "          docLink.innerHTML = docLinkHtml;\n",
              "          element.appendChild(docLink);\n",
              "        }\n",
              "      </script>\n",
              "    </div>\n",
              "  </div>\n",
              "  "
            ],
            "text/plain": [
              "   seniorcitizen partner dependents  tenure internetservice onlinesecurity  \\\n",
              "0              0     Yes         No       1             DSL             No   \n",
              "1              0      No         No      34             DSL            Yes   \n",
              "2              0      No         No       2             DSL            Yes   \n",
              "3              0      No         No      45             DSL            Yes   \n",
              "4              0      No         No       2     Fiber optic             No   \n",
              "\n",
              "  onlinebackup deviceprotection techsupport streamingtv streamingmovies  \\\n",
              "0          Yes               No          No          No              No   \n",
              "1           No              Yes          No          No              No   \n",
              "2          Yes               No          No          No              No   \n",
              "3           No              Yes         Yes          No              No   \n",
              "4           No               No          No          No              No   \n",
              "\n",
              "         contract paperlessbilling              paymentmethod  monthlycharges  \\\n",
              "0  Month-to-month              Yes           Electronic check           29.85   \n",
              "1        One year               No               Mailed check           56.95   \n",
              "2  Month-to-month              Yes               Mailed check           53.85   \n",
              "3        One year               No  Bank transfer (automatic)           42.30   \n",
              "4  Month-to-month              Yes           Electronic check           70.70   \n",
              "\n",
              "   totalcharges  churn  \n",
              "0         29.85      0  \n",
              "1       1889.50      0  \n",
              "2        108.15      1  \n",
              "3       1840.75      0  \n",
              "4        151.65      1  "
            ]
          },
          "metadata": {},
          "execution_count": 32
        }
      ],
      "source": [
        "df.head()"
      ]
    },
    {
      "cell_type": "code",
      "source": [
        "df.churn.value_counts()/len(df)"
      ],
      "metadata": {
        "colab": {
          "base_uri": "https://localhost:8080/"
        },
        "id": "Egf-MdfTIsS6",
        "outputId": "daa08205-23a4-4c7f-a722-3e850abae5c9"
      },
      "execution_count": 33,
      "outputs": [
        {
          "output_type": "execute_result",
          "data": {
            "text/plain": [
              "0    0.734215\n",
              "1    0.265785\n",
              "Name: churn, dtype: float64"
            ]
          },
          "metadata": {},
          "execution_count": 33
        }
      ]
    },
    {
      "cell_type": "markdown",
      "source": [
        "Berdasarkan proporsi data antara no churn 73% and churn 27% dapat dikatakan data imbalanced, selanjutnya kita akan menganalisa karakteristik customer yang churn."
      ],
      "metadata": {
        "id": "CAmT9XvHzSDp"
      }
    },
    {
      "cell_type": "code",
      "source": [
        "df_churn = df[df['churn']==1]"
      ],
      "metadata": {
        "id": "gII4HHp3I94Y"
      },
      "execution_count": 34,
      "outputs": []
    },
    {
      "cell_type": "code",
      "source": [
        "labels = df_churn['partner'].unique()\n",
        "labels"
      ],
      "metadata": {
        "colab": {
          "base_uri": "https://localhost:8080/"
        },
        "id": "Ntl3vrboKnuK",
        "outputId": "48b3b234-8163-471f-d8af-7356992bd8ef"
      },
      "execution_count": 35,
      "outputs": [
        {
          "output_type": "execute_result",
          "data": {
            "text/plain": [
              "array(['No', 'Yes'], dtype=object)"
            ]
          },
          "metadata": {},
          "execution_count": 35
        }
      ]
    },
    {
      "cell_type": "code",
      "source": [
        "colors = ['#4D3425','#E4512B']\n",
        "partner_dependents = df_churn.groupby(['partner','dependents']).size().unstack()\n",
        "\n",
        "ax = (partner_dependents.T*100.0 / partner_dependents.T.sum()).T.plot(kind='bar',\n",
        "                                                                width = 0.2,\n",
        "                                                                stacked = True,\n",
        "                                                                rot = 0, \n",
        "                                                                figsize = (8,6),\n",
        "                                                                color = colors)\n",
        "ax.yaxis.set_major_formatter(mtick.PercentFormatter())\n",
        "ax.legend(loc='center',prop={'size':14},title = 'Dependents',fontsize =14)\n",
        "ax.set_ylabel('% Customers',size = 14)\n",
        "ax.set_title('% Customers with/without dependents based on whether they have a partner',size = 14)\n",
        "ax.xaxis.label.set_size(14)\n",
        "\n",
        "# Code to add the data labels on the stacked bar chart\n",
        "for p in ax.patches:\n",
        "    width, height = p.get_width(), p.get_height()\n",
        "    x, y = p.get_xy() \n",
        "    ax.annotate('{:.0f}%'.format(height), (p.get_x()+.25*width, p.get_y()+.4*height),\n",
        "                color = 'white',\n",
        "               weight = 'bold',\n",
        "               size = 14)"
      ],
      "metadata": {
        "colab": {
          "base_uri": "https://localhost:8080/",
          "height": 409
        },
        "id": "Sbm1d1_XOPmO",
        "outputId": "0b7c7a15-6607-452c-9fef-0e51277c6913"
      },
      "execution_count": 36,
      "outputs": [
        {
          "output_type": "display_data",
          "data": {
            "image/png": "[encoded data removed]",
            "text/plain": [
              "<Figure size 576x432 with 1 Axes>"
            ]
          },
          "metadata": {
            "needs_background": "light"
          }
        }
      ]
    },
    {
      "cell_type": "markdown",
      "source": [
        "63%  Customer yang mempunyai partner (pasangan hidup) namun tidak memiliki tanggungan akan churn, dan 37% customer yang mempunyai partner (pasangan hidup) sekaligus memiliki tanggungan (dependent) akan churn\n",
        "\n",
        "94% Customer yang tidak mempunyai partner (pasangan hidup) dan tidak memiliki tanggungan akan churn, dan 6% customer yang tidak mempunyai partnersekaligus memiliki tanggungan akan churn"
      ],
      "metadata": {
        "id": "A9PIvkPY8a9t"
      }
    },
    {
      "cell_type": "code",
      "source": [
        "import matplotlib.ticker as mtick # For specifying the axes tick format \n",
        "\n",
        "ax = (df_churn['seniorcitizen'].value_counts()*100.0 /len(df_churn))\\\n",
        ".plot.pie(autopct='%.1f%%', labels = ['No', 'Yes'],figsize =(12,8), fontsize = 12 )                                                                           \n",
        "ax.yaxis.set_major_formatter(mtick.PercentFormatter())\n",
        "ax.set_ylabel('Senior Citizens',fontsize = 12)\n",
        "ax.set_title('% of Senior Citizens', fontsize = 12)"
      ],
      "metadata": {
        "colab": {
          "base_uri": "https://localhost:8080/",
          "height": 499
        },
        "id": "lx-OOY_2LaUF",
        "outputId": "487ed0e1-a6fc-411c-e31f-633c4e42e2b0"
      },
      "execution_count": 37,
      "outputs": [
        {
          "output_type": "execute_result",
          "data": {
            "text/plain": [
              "Text(0.5, 1.0, '% of Senior Citizens')"
            ]
          },
          "metadata": {},
          "execution_count": 37
        },
        {
          "output_type": "display_data",
          "data": {
            "image/png": "[encoded data removed]",
            "text/plain": [
              "<Figure size 864x576 with 1 Axes>"
            ]
          },
          "metadata": {}
        }
      ]
    },
    {
      "cell_type": "markdown",
      "source": [
        "Senior Citizens ada 25.5% customer churn, dan 74.5% bukan senior citizen yang churn"
      ],
      "metadata": {
        "id": "l8zrllt06MZV"
      }
    },
    {
      "cell_type": "code",
      "source": [
        "fig, ax = plt.subplots(figsize=(12, 8))\n",
        "ax = df_churn['contract'].value_counts().plot(kind = 'bar',rot = 0, width = 0.3, color=['b', 'r', 'g'])\n",
        "ax.set_ylabel('# of Customers')\n",
        "ax.set_title('# of Customers by Contract Type')"
      ],
      "metadata": {
        "colab": {
          "base_uri": "https://localhost:8080/",
          "height": 516
        },
        "id": "rP5qsCJgNdj_",
        "outputId": "167c567c-e59f-4db3-faaf-1fc7fbd8aae7"
      },
      "execution_count": 38,
      "outputs": [
        {
          "output_type": "execute_result",
          "data": {
            "text/plain": [
              "Text(0.5, 1.0, '# of Customers by Contract Type')"
            ]
          },
          "metadata": {},
          "execution_count": 38
        },
        {
          "output_type": "display_data",
          "data": {
            "image/png": "[encoded data removed]",
            "text/plain": [
              "<Figure size 864x576 with 1 Axes>"
            ]
          },
          "metadata": {
            "needs_background": "light"
          }
        }
      ]
    },
    {
      "cell_type": "markdown",
      "source": [
        "Lebih dari 1600 Customer dengan type contracts Month-to-month melakukan churn"
      ],
      "metadata": {
        "id": "H_hztnFx64m2"
      }
    },
    {
      "cell_type": "code",
      "source": [
        "df_churn['paymentmethod'].unique()"
      ],
      "metadata": {
        "colab": {
          "base_uri": "https://localhost:8080/"
        },
        "id": "ZA-Tb2k9RbXW",
        "outputId": "746d53d6-3795-4cd6-a3b2-0e93d91e2fd3"
      },
      "execution_count": 39,
      "outputs": [
        {
          "output_type": "execute_result",
          "data": {
            "text/plain": [
              "array(['Mailed check', 'Electronic check', 'Bank transfer (automatic)',\n",
              "       'Credit card (automatic)'], dtype=object)"
            ]
          },
          "metadata": {},
          "execution_count": 39
        }
      ]
    },
    {
      "cell_type": "code",
      "source": [
        "import matplotlib.ticker as mtick # For specifying the axes tick format \n",
        "\n",
        "ax = (df_churn['paymentmethod'].value_counts()*100.0 /len(df_churn))\\\n",
        ".plot.pie(autopct='%.1f%%', labels = ['Mailed check', 'Electronic check', 'Bank transfer (automatic)',\n",
        "       'Credit card (automatic)'],figsize =(12,8), fontsize = 12 )                                                                           \n",
        "ax.yaxis.set_major_formatter(mtick.PercentFormatter())\n",
        "#ax.set_ylabel('Senior Citizens',fontsize = 12)\n",
        "ax.set_title('% of Payment Methods', fontsize = 12)"
      ],
      "metadata": {
        "colab": {
          "base_uri": "https://localhost:8080/",
          "height": 499
        },
        "id": "qPbtXEEvRLND",
        "outputId": "fd7a66b7-dc06-46bf-fd2e-6d52c8abe9e3"
      },
      "execution_count": 40,
      "outputs": [
        {
          "output_type": "execute_result",
          "data": {
            "text/plain": [
              "Text(0.5, 1.0, '% of Payment Methods')"
            ]
          },
          "metadata": {},
          "execution_count": 40
        },
        {
          "output_type": "display_data",
          "data": {
            "image/png": "[encoded data removed]",
            "text/plain": [
              "<Figure size 864x576 with 1 Axes>"
            ]
          },
          "metadata": {}
        }
      ]
    },
    {
      "cell_type": "markdown",
      "source": [
        "Customer yang churn mayoritas payment method adalah mailed check 57.3%, kemudian Electronic check, 16.5%, Bank transfer 13.8%, dan 12.4% Credit Card"
      ],
      "metadata": {
        "id": "xZPKvgb69r9h"
      }
    },
    {
      "cell_type": "code",
      "source": [
        "services = ['internetservice','onlinesecurity',\n",
        "           'onlinebackup','deviceprotection','techsupport','streamingtv','streamingmovies']\n",
        "\n",
        "fig, axes = plt.subplots(nrows = 3,ncols = 3,figsize = (15,12))\n",
        "for i, item in enumerate(services):\n",
        "    if i < 3:\n",
        "        ax = df_churn[item].value_counts().plot(kind = 'bar',ax=axes[i,0],rot = 0, color=['red', 'blue', 'green'])\n",
        "        \n",
        "    elif i >=3 and i < 6:\n",
        "        ax = df_churn[item].value_counts().plot(kind = 'bar',ax=axes[i-3,1],rot = 0, color=['red', 'blue'])\n",
        "        \n",
        "    elif i < 9:\n",
        "        ax = df_churn[item].value_counts().plot(kind = 'bar',ax=axes[i-6,2],rot = 0, color=['red', 'blue'])\n",
        "    ax.set_title(item)"
      ],
      "metadata": {
        "colab": {
          "base_uri": "https://localhost:8080/",
          "height": 716
        },
        "id": "qfM-V_7iN75x",
        "outputId": "b6f86e55-9d43-4e94-de95-7c38bc6ea80c"
      },
      "execution_count": 41,
      "outputs": [
        {
          "output_type": "display_data",
          "data": {
            "image/png": "[encoded data removed]",
            "text/plain": [
              "<Figure size 1080x864 with 9 Axes>"
            ]
          },
          "metadata": {
            "needs_background": "light"
          }
        }
      ]
    },
    {
      "cell_type": "markdown",
      "source": [
        "Kita bisa lihat customer yang churn berdasarakan beberapa kriteria, untuk deviceprotection, streamingmovies, onlinesecurity, techsupport, onlinebackup dan streamingtv persentasi lebih besar adalah No. Untuk customer churn internet service mayoritas adalah Fiber Optic"
      ],
      "metadata": {
        "id": "otutyCv6-pYi"
      }
    },
    {
      "cell_type": "code",
      "source": [
        "fig, ax = plt.subplots(figsize=(12, 8))\n",
        "ax = sns.kdeplot(df.monthlycharges[(df[\"churn\"] == 0)],\n",
        "                color=\"Red\", shade = True)\n",
        "ax = sns.kdeplot(df.monthlycharges[(df[\"churn\"] == 1) ],\n",
        "                ax =ax, color=\"Blue\", shade= True)\n",
        "ax.legend([\"Not Churn\",\"Churn\"],loc='upper right')\n",
        "ax.set_ylabel('Density')\n",
        "ax.set_xlabel('Monthly Charges')\n",
        "ax.set_title('Distribution of monthly charges by churn')"
      ],
      "metadata": {
        "colab": {
          "base_uri": "https://localhost:8080/",
          "height": 530
        },
        "id": "fcDegEfXSDyM",
        "outputId": "241cc2fa-33a3-4d00-e7cf-4233b9803f56"
      },
      "execution_count": 42,
      "outputs": [
        {
          "output_type": "execute_result",
          "data": {
            "text/plain": [
              "Text(0.5, 1.0, 'Distribution of monthly charges by churn')"
            ]
          },
          "metadata": {},
          "execution_count": 42
        },
        {
          "output_type": "display_data",
          "data": {
            "image/png": "[encoded data removed]",
            "text/plain": [
              "<Figure size 864x576 with 1 Axes>"
            ]
          },
          "metadata": {
            "needs_background": "light"
          }
        }
      ]
    },
    {
      "cell_type": "markdown",
      "source": [
        "Persentase customer yang churn lebih tinggi saat Monthly Charges tinggi"
      ],
      "metadata": {
        "id": "e_1KlFP1QjCD"
      }
    },
    {
      "cell_type": "code",
      "source": [
        "fig, ax = plt.subplots(figsize=(12, 8))\n",
        "ax = sns.kdeplot(df.totalcharges[(df[\"churn\"] == 0)],\n",
        "                color=\"Red\", shade = True)\n",
        "ax = sns.kdeplot(df.totalcharges[(df[\"churn\"] == 1) ],\n",
        "                ax =ax, color=\"Blue\", shade= True)\n",
        "ax.legend([\"Not Churn\",\"Churn\"],loc='upper right')\n",
        "ax.set_ylabel('Density')\n",
        "ax.set_xlabel('Total Charges')\n",
        "ax.set_title('Distribution of Total Charges by churn')"
      ],
      "metadata": {
        "colab": {
          "base_uri": "https://localhost:8080/",
          "height": 530
        },
        "id": "wfy7prniTfVS",
        "outputId": "26a1608d-b1c5-4e02-88ab-2fcb71738606"
      },
      "execution_count": 43,
      "outputs": [
        {
          "output_type": "execute_result",
          "data": {
            "text/plain": [
              "Text(0.5, 1.0, 'Distribution of Total Charges by churn')"
            ]
          },
          "metadata": {},
          "execution_count": 43
        },
        {
          "output_type": "display_data",
          "data": {
            "image/png": "[encoded data removed]",
            "text/plain": [
              "<Figure size 864x576 with 1 Axes>"
            ]
          },
          "metadata": {
            "needs_background": "light"
          }
        }
      ]
    },
    {
      "cell_type": "markdown",
      "source": [
        "Terlihat bahwa customer churn tinggi ketika Total Charges rendah"
      ],
      "metadata": {
        "id": "gDoaRfLsRU4o"
      }
    },
    {
      "cell_type": "code",
      "source": [
        "sns.set_theme(style=\"whitegrid\")\n",
        "fig, ax = plt.subplots(figsize=(12, 8))\n",
        "sns.histplot(data=df_churn, x=\"tenure\", bins=20, kde=True)"
      ],
      "metadata": {
        "colab": {
          "base_uri": "https://localhost:8080/",
          "height": 519
        },
        "id": "lCokO9DtOQa9",
        "outputId": "f40ea037-2c24-4f79-e1b5-9f2fe6823f73"
      },
      "execution_count": 87,
      "outputs": [
        {
          "output_type": "execute_result",
          "data": {
            "text/plain": [
              "<matplotlib.axes._subplots.AxesSubplot at 0x7fd922665950>"
            ]
          },
          "metadata": {},
          "execution_count": 87
        },
        {
          "output_type": "display_data",
          "data": {
            "image/png": "[encoded data removed]",
            "text/plain": [
              "<Figure size 864x576 with 1 Axes>"
            ]
          },
          "metadata": {}
        }
      ]
    },
    {
      "cell_type": "markdown",
      "source": [
        "Customer churn mayoritas tenure dibawah 10 bulan"
      ],
      "metadata": {
        "id": "FEFSyEKjPTzd"
      }
    },
    {
      "cell_type": "markdown",
      "metadata": {
        "id": "vVn_2KD1N9oU"
      },
      "source": [
        "### Data Preprocessing"
      ]
    },
    {
      "cell_type": "code",
      "execution_count": 44,
      "metadata": {
        "id": "_d_DODMwN9oU"
      },
      "outputs": [],
      "source": [
        "X = df.iloc[:, :-1]\n",
        "y = df['churn']"
      ]
    },
    {
      "cell_type": "code",
      "source": [
        "X.head()"
      ],
      "metadata": {
        "colab": {
          "base_uri": "https://localhost:8080/",
          "height": 320
        },
        "id": "mfjc2Bi79uKy",
        "outputId": "86b9dcc4-2f8f-4217-8db1-e9a1d57e9802"
      },
      "execution_count": 45,
      "outputs": [
        {
          "output_type": "execute_result",
          "data": {
            "text/html": [
              "\n",
              "  <div id=\"df-0f6efdc1-af7d-4ef1-be21-b16a47e3b74c\">\n",
              "    <div class=\"colab-df-container\">\n",
              "      <div>\n",
              "<style scoped>\n",
              "    .dataframe tbody tr th:only-of-type {\n",
              "        vertical-align: middle;\n",
              "    }\n",
              "\n",
              "    .dataframe tbody tr th {\n",
              "        vertical-align: top;\n",
              "    }\n",
              "\n",
              "    .dataframe thead th {\n",
              "        text-align: right;\n",
              "    }\n",
              "</style>\n",
              "<table border=\"1\" class=\"dataframe\">\n",
              "  <thead>\n",
              "    <tr style=\"text-align: right;\">\n",
              "      <th></th>\n",
              "      <th>seniorcitizen</th>\n",
              "      <th>partner</th>\n",
              "      <th>dependents</th>\n",
              "      <th>tenure</th>\n",
              "      <th>internetservice</th>\n",
              "      <th>onlinesecurity</th>\n",
              "      <th>onlinebackup</th>\n",
              "      <th>deviceprotection</th>\n",
              "      <th>techsupport</th>\n",
              "      <th>streamingtv</th>\n",
              "      <th>streamingmovies</th>\n",
              "      <th>contract</th>\n",
              "      <th>paperlessbilling</th>\n",
              "      <th>paymentmethod</th>\n",
              "      <th>monthlycharges</th>\n",
              "      <th>totalcharges</th>\n",
              "    </tr>\n",
              "  </thead>\n",
              "  <tbody>\n",
              "    <tr>\n",
              "      <th>0</th>\n",
              "      <td>0</td>\n",
              "      <td>Yes</td>\n",
              "      <td>No</td>\n",
              "      <td>1</td>\n",
              "      <td>DSL</td>\n",
              "      <td>No</td>\n",
              "      <td>Yes</td>\n",
              "      <td>No</td>\n",
              "      <td>No</td>\n",
              "      <td>No</td>\n",
              "      <td>No</td>\n",
              "      <td>Month-to-month</td>\n",
              "      <td>Yes</td>\n",
              "      <td>Electronic check</td>\n",
              "      <td>29.85</td>\n",
              "      <td>29.85</td>\n",
              "    </tr>\n",
              "    <tr>\n",
              "      <th>1</th>\n",
              "      <td>0</td>\n",
              "      <td>No</td>\n",
              "      <td>No</td>\n",
              "      <td>34</td>\n",
              "      <td>DSL</td>\n",
              "      <td>Yes</td>\n",
              "      <td>No</td>\n",
              "      <td>Yes</td>\n",
              "      <td>No</td>\n",
              "      <td>No</td>\n",
              "      <td>No</td>\n",
              "      <td>One year</td>\n",
              "      <td>No</td>\n",
              "      <td>Mailed check</td>\n",
              "      <td>56.95</td>\n",
              "      <td>1889.50</td>\n",
              "    </tr>\n",
              "    <tr>\n",
              "      <th>2</th>\n",
              "      <td>0</td>\n",
              "      <td>No</td>\n",
              "      <td>No</td>\n",
              "      <td>2</td>\n",
              "      <td>DSL</td>\n",
              "      <td>Yes</td>\n",
              "      <td>Yes</td>\n",
              "      <td>No</td>\n",
              "      <td>No</td>\n",
              "      <td>No</td>\n",
              "      <td>No</td>\n",
              "      <td>Month-to-month</td>\n",
              "      <td>Yes</td>\n",
              "      <td>Mailed check</td>\n",
              "      <td>53.85</td>\n",
              "      <td>108.15</td>\n",
              "    </tr>\n",
              "    <tr>\n",
              "      <th>3</th>\n",
              "      <td>0</td>\n",
              "      <td>No</td>\n",
              "      <td>No</td>\n",
              "      <td>45</td>\n",
              "      <td>DSL</td>\n",
              "      <td>Yes</td>\n",
              "      <td>No</td>\n",
              "      <td>Yes</td>\n",
              "      <td>Yes</td>\n",
              "      <td>No</td>\n",
              "      <td>No</td>\n",
              "      <td>One year</td>\n",
              "      <td>No</td>\n",
              "      <td>Bank transfer (automatic)</td>\n",
              "      <td>42.30</td>\n",
              "      <td>1840.75</td>\n",
              "    </tr>\n",
              "    <tr>\n",
              "      <th>4</th>\n",
              "      <td>0</td>\n",
              "      <td>No</td>\n",
              "      <td>No</td>\n",
              "      <td>2</td>\n",
              "      <td>Fiber optic</td>\n",
              "      <td>No</td>\n",
              "      <td>No</td>\n",
              "      <td>No</td>\n",
              "      <td>No</td>\n",
              "      <td>No</td>\n",
              "      <td>No</td>\n",
              "      <td>Month-to-month</td>\n",
              "      <td>Yes</td>\n",
              "      <td>Electronic check</td>\n",
              "      <td>70.70</td>\n",
              "      <td>151.65</td>\n",
              "    </tr>\n",
              "  </tbody>\n",
              "</table>\n",
              "</div>\n",
              "      <button class=\"colab-df-convert\" onclick=\"convertToInteractive('df-0f6efdc1-af7d-4ef1-be21-b16a47e3b74c')\"\n",
              "              title=\"Convert this dataframe to an interactive table.\"\n",
              "              style=\"display:none;\">\n",
              "        \n",
              "  <svg xmlns=\"http://www.w3.org/2000/svg\" height=\"24px\"viewBox=\"0 0 24 24\"\n",
              "       width=\"24px\">\n",
              "    <path d=\"M0 0h24v24H0V0z\" fill=\"none\"/>\n",
              "    <path d=\"M18.56 5.44l.94 2.06.94-2.06 2.06-.94-2.06-.94-.94-2.06-.94 2.06-2.06.94zm-11 1L8.5 8.5l.94-2.06 2.06-.94-2.06-.94L8.5 2.5l-.94 2.06-2.06.94zm10 10l.94 2.06.94-2.06 2.06-.94-2.06-.94-.94-2.06-.94 2.06-2.06.94z\"/><path d=\"M17.41 7.96l-1.37-1.37c-.4-.4-.92-.59-1.43-.59-.52 0-1.04.2-1.43.59L10.3 9.45l-7.72 7.72c-.78.78-.78 2.05 0 2.83L4 21.41c.39.39.9.59 1.41.59.51 0 1.02-.2 1.41-.59l7.78-7.78 2.81-2.81c.8-.78.8-2.07 0-2.86zM5.41 20L4 18.59l7.72-7.72 1.47 1.35L5.41 20z\"/>\n",
              "  </svg>\n",
              "      </button>\n",
              "      \n",
              "  <style>\n",
              "    .colab-df-container {\n",
              "      display:flex;\n",
              "      flex-wrap:wrap;\n",
              "      gap: 12px;\n",
              "    }\n",
              "\n",
              "    .colab-df-convert {\n",
              "      background-color: #E8F0FE;\n",
              "      border: none;\n",
              "      border-radius: 50%;\n",
              "      cursor: pointer;\n",
              "      display: none;\n",
              "      fill: #1967D2;\n",
              "      height: 32px;\n",
              "      padding: 0 0 0 0;\n",
              "      width: 32px;\n",
              "    }\n",
              "\n",
              "    .colab-df-convert:hover {\n",
              "      background-color: #E2EBFA;\n",
              "      box-shadow: 0px 1px 2px rgba(60, 64, 67, 0.3), 0px 1px 3px 1px rgba(60, 64, 67, 0.15);\n",
              "      fill: #174EA6;\n",
              "    }\n",
              "\n",
              "    [theme=dark] .colab-df-convert {\n",
              "      background-color: #3B4455;\n",
              "      fill: #D2E3FC;\n",
              "    }\n",
              "\n",
              "    [theme=dark] .colab-df-convert:hover {\n",
              "      background-color: #434B5C;\n",
              "      box-shadow: 0px 1px 3px 1px rgba(0, 0, 0, 0.15);\n",
              "      filter: drop-shadow(0px 1px 2px rgba(0, 0, 0, 0.3));\n",
              "      fill: #FFFFFF;\n",
              "    }\n",
              "  </style>\n",
              "\n",
              "      <script>\n",
              "        const buttonEl =\n",
              "          document.querySelector('#df-0f6efdc1-af7d-4ef1-be21-b16a47e3b74c button.colab-df-convert');\n",
              "        buttonEl.style.display =\n",
              "          google.colab.kernel.accessAllowed ? 'block' : 'none';\n",
              "\n",
              "        async function convertToInteractive(key) {\n",
              "          const element = document.querySelector('#df-0f6efdc1-af7d-4ef1-be21-b16a47e3b74c');\n",
              "          const dataTable =\n",
              "            await google.colab.kernel.invokeFunction('convertToInteractive',\n",
              "                                                     [key], {});\n",
              "          if (!dataTable) return;\n",
              "\n",
              "          const docLinkHtml = 'Like what you see? Visit the ' +\n",
              "            '<a target=\"_blank\" href=https://colab.research.google.com/notebooks/data_table.ipynb>data table notebook</a>'\n",
              "            + ' to learn more about interactive tables.';\n",
              "          element.innerHTML = '';\n",
              "          dataTable['output_type'] = 'display_data';\n",
              "          await google.colab.output.renderOutput(dataTable, element);\n",
              "          const docLink = document.createElement('div');\n",
              "          docLink.innerHTML = docLinkHtml;\n",
              "          element.appendChild(docLink);\n",
              "        }\n",
              "      </script>\n",
              "    </div>\n",
              "  </div>\n",
              "  "
            ],
            "text/plain": [
              "   seniorcitizen partner dependents  tenure internetservice onlinesecurity  \\\n",
              "0              0     Yes         No       1             DSL             No   \n",
              "1              0      No         No      34             DSL            Yes   \n",
              "2              0      No         No       2             DSL            Yes   \n",
              "3              0      No         No      45             DSL            Yes   \n",
              "4              0      No         No       2     Fiber optic             No   \n",
              "\n",
              "  onlinebackup deviceprotection techsupport streamingtv streamingmovies  \\\n",
              "0          Yes               No          No          No              No   \n",
              "1           No              Yes          No          No              No   \n",
              "2          Yes               No          No          No              No   \n",
              "3           No              Yes         Yes          No              No   \n",
              "4           No               No          No          No              No   \n",
              "\n",
              "         contract paperlessbilling              paymentmethod  monthlycharges  \\\n",
              "0  Month-to-month              Yes           Electronic check           29.85   \n",
              "1        One year               No               Mailed check           56.95   \n",
              "2  Month-to-month              Yes               Mailed check           53.85   \n",
              "3        One year               No  Bank transfer (automatic)           42.30   \n",
              "4  Month-to-month              Yes           Electronic check           70.70   \n",
              "\n",
              "   totalcharges  \n",
              "0         29.85  \n",
              "1       1889.50  \n",
              "2        108.15  \n",
              "3       1840.75  \n",
              "4        151.65  "
            ]
          },
          "metadata": {},
          "execution_count": 45
        }
      ]
    },
    {
      "cell_type": "code",
      "source": [
        "X.shape"
      ],
      "metadata": {
        "colab": {
          "base_uri": "https://localhost:8080/"
        },
        "id": "lMPv0_qKP49a",
        "outputId": "3747cee8-361f-41d7-8c6a-79541e8166bf"
      },
      "execution_count": 46,
      "outputs": [
        {
          "output_type": "execute_result",
          "data": {
            "text/plain": [
              "(7032, 16)"
            ]
          },
          "metadata": {},
          "execution_count": 46
        }
      ]
    },
    {
      "cell_type": "markdown",
      "source": [
        "Split model menjadi data train, validation, dan test"
      ],
      "metadata": {
        "id": "VyM04j_u4oW6"
      }
    },
    {
      "cell_type": "code",
      "execution_count": 47,
      "metadata": {
        "id": "KmVkVWoKN9oU"
      },
      "outputs": [],
      "source": [
        "X_train, X_test, y_train, y_test = train_test_split(X, y, test_size=0.05, random_state=42)\n",
        "X_train, X_val, y_train, y_val = train_test_split(X_train, y_train, test_size=0.20, random_state=42)"
      ]
    },
    {
      "cell_type": "markdown",
      "source": [
        "Kita definiskan kelas MultiColumnLabelEncoder untuk membuat beberapa fungsi untuk mentransformasikan bebebrapa variabel kategorik sekaligus dengan LabelEncoder "
      ],
      "metadata": {
        "id": "XONcN23-R_H7"
      }
    },
    {
      "cell_type": "code",
      "source": [
        "class MultiColumnLabelEncoder:\n",
        "\n",
        "    def __init__(self, columns=None):\n",
        "        self.columns = columns # array of column names to encode\n",
        "\n",
        "\n",
        "    def fit(self, X, y=None):\n",
        "        self.encoders = {}\n",
        "        columns = X.columns if self.columns is None else self.columns\n",
        "        for col in columns:\n",
        "            self.encoders[col] = LabelEncoder().fit(X[col])\n",
        "        return self\n",
        "\n",
        "\n",
        "    def transform(self, X):\n",
        "        output = X.copy()\n",
        "        columns = X.columns if self.columns is None else self.columns\n",
        "        for col in columns:\n",
        "            output[col] = self.encoders[col].transform(X[col])\n",
        "        return output\n",
        "\n",
        "\n",
        "    def fit_transform(self, X, y=None):\n",
        "        return self.fit(X,y).transform(X)\n"
      ],
      "metadata": {
        "id": "3EBCmomSxCcn"
      },
      "execution_count": 48,
      "outputs": []
    },
    {
      "cell_type": "code",
      "source": [
        "cat_cols = MultiColumnLabelEncoder(columns=cat_cols)"
      ],
      "metadata": {
        "id": "aByCuE3Aylf8"
      },
      "execution_count": 49,
      "outputs": []
    },
    {
      "cell_type": "code",
      "execution_count": 50,
      "metadata": {
        "id": "pXQsby-kN9oQ"
      },
      "outputs": [],
      "source": [
        "X_train = cat_cols.fit_transform(X_train)"
      ]
    },
    {
      "cell_type": "code",
      "source": [
        "X_test = cat_cols.transform(X_test)\n",
        "X_val = cat_cols.transform(X_val)"
      ],
      "metadata": {
        "id": "_zCeE9x2zUcV"
      },
      "execution_count": 51,
      "outputs": []
    },
    {
      "cell_type": "code",
      "execution_count": 52,
      "metadata": {
        "colab": {
          "base_uri": "https://localhost:8080/"
        },
        "id": "x5aVpkzoN9oU",
        "outputId": "a2439808-1794-42b7-e812-bb434a1e0de9"
      },
      "outputs": [
        {
          "output_type": "stream",
          "name": "stdout",
          "text": [
            "(5344, 16)\n",
            "(352, 16)\n",
            "(1336, 16)\n"
          ]
        }
      ],
      "source": [
        "print(X_train.shape)\n",
        "print(X_test.shape)\n",
        "print(X_val.shape)"
      ]
    },
    {
      "cell_type": "code",
      "source": [
        "numeric_cols_scaler = num_cols[1:-1]\n",
        "numeric_cols_scaler"
      ],
      "metadata": {
        "colab": {
          "base_uri": "https://localhost:8080/"
        },
        "id": "ccs29HadzjZH",
        "outputId": "0b04d5dc-a29b-41d7-a25e-2e1ab4678e23"
      },
      "execution_count": 53,
      "outputs": [
        {
          "output_type": "execute_result",
          "data": {
            "text/plain": [
              "['tenure', 'monthlycharges', 'totalcharges']"
            ]
          },
          "metadata": {},
          "execution_count": 53
        }
      ]
    },
    {
      "cell_type": "code",
      "source": [
        "tf.convert_to_tensor(X_train)"
      ],
      "metadata": {
        "colab": {
          "base_uri": "https://localhost:8080/"
        },
        "id": "Pm5DRCXw2A--",
        "outputId": "426cca75-7323-4b83-95dd-b3717e452329"
      },
      "execution_count": 54,
      "outputs": [
        {
          "output_type": "execute_result",
          "data": {
            "text/plain": [
              "<tf.Tensor: shape=(5344, 16), dtype=float64, numpy=\n",
              "array([[0.0000e+00, 0.0000e+00, 0.0000e+00, ..., 3.0000e+00, 5.9900e+01,\n",
              "        5.4240e+02],\n",
              "       [1.0000e+00, 1.0000e+00, 0.0000e+00, ..., 2.0000e+00, 7.0050e+01,\n",
              "        3.0260e+02],\n",
              "       [0.0000e+00, 0.0000e+00, 0.0000e+00, ..., 3.0000e+00, 2.0050e+01,\n",
              "        6.7820e+02],\n",
              "       ...,\n",
              "       [1.0000e+00, 0.0000e+00, 0.0000e+00, ..., 2.0000e+00, 9.8250e+01,\n",
              "        5.6060e+02],\n",
              "       [0.0000e+00, 1.0000e+00, 0.0000e+00, ..., 2.0000e+00, 1.0175e+02,\n",
              "        7.0693e+03],\n",
              "       [1.0000e+00, 1.0000e+00, 0.0000e+00, ..., 0.0000e+00, 9.7800e+01,\n",
              "        5.4588e+03]])>"
            ]
          },
          "metadata": {},
          "execution_count": 54
        }
      ]
    },
    {
      "cell_type": "code",
      "source": [
        "normalizer = tf.keras.layers.Normalization(axis=-1)\n",
        "normalizer.adapt(X_train)"
      ],
      "metadata": {
        "id": "8aQQvStA23CH"
      },
      "execution_count": 55,
      "outputs": []
    },
    {
      "cell_type": "markdown",
      "metadata": {
        "id": "J5lqAWa8N9oV"
      },
      "source": [
        "### Pendefinisian Model"
      ]
    },
    {
      "cell_type": "markdown",
      "source": [
        "#### Sequential API"
      ],
      "metadata": {
        "id": "-sQx1qDV40gG"
      }
    },
    {
      "cell_type": "code",
      "source": [
        "def first_model():\n",
        "  model = tf.keras.Sequential([\n",
        "        normalizer,    \n",
        "         tf.keras.layers.Dense(64, activation='relu', input_shape=(16,)),\n",
        "         tf.keras.layers.Dense(32, activation='relu'),\n",
        "         tf.keras.layers.Dense(1, activation='sigmoid')\n",
        "         ])\n",
        "  model.compile(optimizer='adam',\n",
        "                loss=tf.keras.losses.BinaryCrossentropy(),\n",
        "                metrics=['Accuracy', 'Recall'])\n",
        "  return model"
      ],
      "metadata": {
        "id": "cYwYhSyRQsj5"
      },
      "execution_count": 90,
      "outputs": []
    },
    {
      "cell_type": "code",
      "source": [
        "first_model = first_model()\n",
        "first_history = first_model.fit(X_train, y_train, epochs=100, validation_data=(X_val, y_val))"
      ],
      "metadata": {
        "colab": {
          "base_uri": "https://localhost:8080/"
        },
        "id": "yrtDh-xdRzJm",
        "outputId": "9d5d24fa-8524-45bd-c38e-91f3dff83f9c"
      },
      "execution_count": 91,
      "outputs": [
        {
          "output_type": "stream",
          "name": "stdout",
          "text": [
            "Epoch 1/100\n",
            "167/167 [==============================] - 2s 7ms/step - loss: 0.4758 - Accuracy: 0.7717 - recall: 0.3704 - val_loss: 0.3975 - val_Accuracy: 0.8061 - val_recall: 0.5015\n",
            "Epoch 2/100\n",
            "167/167 [==============================] - 1s 5ms/step - loss: 0.4321 - Accuracy: 0.7915 - recall: 0.5169 - val_loss: 0.3976 - val_Accuracy: 0.8061 - val_recall: 0.5438\n",
            "Epoch 3/100\n",
            "167/167 [==============================] - 1s 5ms/step - loss: 0.4262 - Accuracy: 0.8015 - recall: 0.5404 - val_loss: 0.3955 - val_Accuracy: 0.8009 - val_recall: 0.4864\n",
            "Epoch 4/100\n",
            "167/167 [==============================] - 1s 5ms/step - loss: 0.4225 - Accuracy: 0.8013 - recall: 0.5273 - val_loss: 0.3945 - val_Accuracy: 0.8076 - val_recall: 0.4924\n",
            "Epoch 5/100\n",
            "167/167 [==============================] - 1s 5ms/step - loss: 0.4190 - Accuracy: 0.8028 - recall: 0.5363 - val_loss: 0.3931 - val_Accuracy: 0.8099 - val_recall: 0.4834\n",
            "Epoch 6/100\n",
            "167/167 [==============================] - 1s 5ms/step - loss: 0.4185 - Accuracy: 0.8065 - recall: 0.5418 - val_loss: 0.3970 - val_Accuracy: 0.8061 - val_recall: 0.5076\n",
            "Epoch 7/100\n",
            "167/167 [==============================] - 1s 5ms/step - loss: 0.4170 - Accuracy: 0.8050 - recall: 0.5349 - val_loss: 0.3956 - val_Accuracy: 0.8061 - val_recall: 0.5347\n",
            "Epoch 8/100\n",
            "167/167 [==============================] - 1s 5ms/step - loss: 0.4146 - Accuracy: 0.8078 - recall: 0.5370 - val_loss: 0.3923 - val_Accuracy: 0.7994 - val_recall: 0.5136\n",
            "Epoch 9/100\n",
            "167/167 [==============================] - 1s 5ms/step - loss: 0.4121 - Accuracy: 0.8058 - recall: 0.5425 - val_loss: 0.3987 - val_Accuracy: 0.8061 - val_recall: 0.5891\n",
            "Epoch 10/100\n",
            "167/167 [==============================] - 1s 5ms/step - loss: 0.4114 - Accuracy: 0.8093 - recall: 0.5418 - val_loss: 0.3942 - val_Accuracy: 0.8016 - val_recall: 0.5045\n",
            "Epoch 11/100\n",
            "167/167 [==============================] - 1s 5ms/step - loss: 0.4074 - Accuracy: 0.8101 - recall: 0.5404 - val_loss: 0.3929 - val_Accuracy: 0.8061 - val_recall: 0.5257\n",
            "Epoch 12/100\n",
            "167/167 [==============================] - 1s 5ms/step - loss: 0.4074 - Accuracy: 0.8088 - recall: 0.5453 - val_loss: 0.3951 - val_Accuracy: 0.8016 - val_recall: 0.4622\n",
            "Epoch 13/100\n",
            "167/167 [==============================] - 1s 5ms/step - loss: 0.4056 - Accuracy: 0.8134 - recall: 0.5466 - val_loss: 0.3964 - val_Accuracy: 0.8091 - val_recall: 0.5801\n",
            "Epoch 14/100\n",
            "167/167 [==============================] - 1s 5ms/step - loss: 0.4042 - Accuracy: 0.8074 - recall: 0.5543 - val_loss: 0.4006 - val_Accuracy: 0.8069 - val_recall: 0.4924\n",
            "Epoch 15/100\n",
            "167/167 [==============================] - 1s 5ms/step - loss: 0.4022 - Accuracy: 0.8132 - recall: 0.5501 - val_loss: 0.3940 - val_Accuracy: 0.8099 - val_recall: 0.5287\n",
            "Epoch 16/100\n",
            "167/167 [==============================] - 1s 5ms/step - loss: 0.4000 - Accuracy: 0.8140 - recall: 0.5480 - val_loss: 0.3969 - val_Accuracy: 0.8054 - val_recall: 0.5498\n",
            "Epoch 17/100\n",
            "167/167 [==============================] - 1s 5ms/step - loss: 0.3978 - Accuracy: 0.8132 - recall: 0.5529 - val_loss: 0.3989 - val_Accuracy: 0.8069 - val_recall: 0.5408\n",
            "Epoch 18/100\n",
            "167/167 [==============================] - 1s 5ms/step - loss: 0.3976 - Accuracy: 0.8166 - recall: 0.5598 - val_loss: 0.3947 - val_Accuracy: 0.8061 - val_recall: 0.4955\n",
            "Epoch 19/100\n",
            "167/167 [==============================] - 1s 5ms/step - loss: 0.3951 - Accuracy: 0.8161 - recall: 0.5625 - val_loss: 0.3955 - val_Accuracy: 0.8076 - val_recall: 0.5136\n",
            "Epoch 20/100\n",
            "167/167 [==============================] - 1s 5ms/step - loss: 0.3934 - Accuracy: 0.8144 - recall: 0.5598 - val_loss: 0.3962 - val_Accuracy: 0.8114 - val_recall: 0.5317\n",
            "Epoch 21/100\n",
            "167/167 [==============================] - 1s 5ms/step - loss: 0.3913 - Accuracy: 0.8174 - recall: 0.5612 - val_loss: 0.4040 - val_Accuracy: 0.8031 - val_recall: 0.5347\n",
            "Epoch 22/100\n",
            "167/167 [==============================] - 1s 5ms/step - loss: 0.3912 - Accuracy: 0.8155 - recall: 0.5529 - val_loss: 0.4040 - val_Accuracy: 0.8069 - val_recall: 0.6012\n",
            "Epoch 23/100\n",
            "167/167 [==============================] - 1s 5ms/step - loss: 0.3888 - Accuracy: 0.8224 - recall: 0.5688 - val_loss: 0.4003 - val_Accuracy: 0.8076 - val_recall: 0.5196\n",
            "Epoch 24/100\n",
            "167/167 [==============================] - 1s 5ms/step - loss: 0.3887 - Accuracy: 0.8190 - recall: 0.5771 - val_loss: 0.3981 - val_Accuracy: 0.8114 - val_recall: 0.4864\n",
            "Epoch 25/100\n",
            "167/167 [==============================] - 1s 5ms/step - loss: 0.3858 - Accuracy: 0.8234 - recall: 0.5805 - val_loss: 0.4025 - val_Accuracy: 0.8121 - val_recall: 0.5347\n",
            "Epoch 26/100\n",
            "167/167 [==============================] - 1s 5ms/step - loss: 0.3860 - Accuracy: 0.8194 - recall: 0.5688 - val_loss: 0.4003 - val_Accuracy: 0.8076 - val_recall: 0.4985\n",
            "Epoch 27/100\n",
            "167/167 [==============================] - 1s 5ms/step - loss: 0.3830 - Accuracy: 0.8222 - recall: 0.5729 - val_loss: 0.4001 - val_Accuracy: 0.8099 - val_recall: 0.5317\n",
            "Epoch 28/100\n",
            "167/167 [==============================] - 1s 5ms/step - loss: 0.3818 - Accuracy: 0.8247 - recall: 0.5853 - val_loss: 0.4027 - val_Accuracy: 0.8024 - val_recall: 0.5227\n",
            "Epoch 29/100\n",
            "167/167 [==============================] - 1s 6ms/step - loss: 0.3803 - Accuracy: 0.8256 - recall: 0.5826 - val_loss: 0.4038 - val_Accuracy: 0.8054 - val_recall: 0.5589\n",
            "Epoch 30/100\n",
            "167/167 [==============================] - 1s 5ms/step - loss: 0.3785 - Accuracy: 0.8249 - recall: 0.5853 - val_loss: 0.3999 - val_Accuracy: 0.8099 - val_recall: 0.5227\n",
            "Epoch 31/100\n",
            "167/167 [==============================] - 1s 5ms/step - loss: 0.3769 - Accuracy: 0.8217 - recall: 0.5764 - val_loss: 0.4030 - val_Accuracy: 0.8039 - val_recall: 0.5378\n",
            "Epoch 32/100\n",
            "167/167 [==============================] - 1s 5ms/step - loss: 0.3757 - Accuracy: 0.8254 - recall: 0.5881 - val_loss: 0.4209 - val_Accuracy: 0.7912 - val_recall: 0.5801\n",
            "Epoch 33/100\n",
            "167/167 [==============================] - 1s 6ms/step - loss: 0.3745 - Accuracy: 0.8258 - recall: 0.5860 - val_loss: 0.4115 - val_Accuracy: 0.8106 - val_recall: 0.5921\n",
            "Epoch 34/100\n",
            "167/167 [==============================] - 1s 5ms/step - loss: 0.3727 - Accuracy: 0.8258 - recall: 0.5916 - val_loss: 0.4081 - val_Accuracy: 0.8054 - val_recall: 0.5347\n",
            "Epoch 35/100\n",
            "167/167 [==============================] - 1s 5ms/step - loss: 0.3708 - Accuracy: 0.8273 - recall: 0.5833 - val_loss: 0.4180 - val_Accuracy: 0.8031 - val_recall: 0.5831\n",
            "Epoch 36/100\n",
            "167/167 [==============================] - 1s 6ms/step - loss: 0.3705 - Accuracy: 0.8286 - recall: 0.5943 - val_loss: 0.4105 - val_Accuracy: 0.8061 - val_recall: 0.4713\n",
            "Epoch 37/100\n",
            "167/167 [==============================] - 1s 6ms/step - loss: 0.3688 - Accuracy: 0.8295 - recall: 0.5957 - val_loss: 0.4223 - val_Accuracy: 0.7987 - val_recall: 0.5982\n",
            "Epoch 38/100\n",
            "167/167 [==============================] - 1s 5ms/step - loss: 0.3658 - Accuracy: 0.8305 - recall: 0.6047 - val_loss: 0.4191 - val_Accuracy: 0.8039 - val_recall: 0.5408\n",
            "Epoch 39/100\n",
            "167/167 [==============================] - 1s 5ms/step - loss: 0.3657 - Accuracy: 0.8314 - recall: 0.6116 - val_loss: 0.4144 - val_Accuracy: 0.8024 - val_recall: 0.5438\n",
            "Epoch 40/100\n",
            "167/167 [==============================] - 1s 5ms/step - loss: 0.3623 - Accuracy: 0.8331 - recall: 0.6047 - val_loss: 0.4091 - val_Accuracy: 0.8076 - val_recall: 0.5710\n",
            "Epoch 41/100\n",
            "167/167 [==============================] - 1s 5ms/step - loss: 0.3616 - Accuracy: 0.8333 - recall: 0.6130 - val_loss: 0.4167 - val_Accuracy: 0.8054 - val_recall: 0.5559\n",
            "Epoch 42/100\n",
            "167/167 [==============================] - 1s 5ms/step - loss: 0.3592 - Accuracy: 0.8357 - recall: 0.6116 - val_loss: 0.4127 - val_Accuracy: 0.8069 - val_recall: 0.5861\n",
            "Epoch 43/100\n",
            "167/167 [==============================] - 1s 5ms/step - loss: 0.3572 - Accuracy: 0.8331 - recall: 0.6095 - val_loss: 0.4227 - val_Accuracy: 0.8046 - val_recall: 0.6042\n",
            "Epoch 44/100\n",
            "167/167 [==============================] - 1s 6ms/step - loss: 0.3586 - Accuracy: 0.8344 - recall: 0.6234 - val_loss: 0.4251 - val_Accuracy: 0.7919 - val_recall: 0.5468\n",
            "Epoch 45/100\n",
            "167/167 [==============================] - 1s 6ms/step - loss: 0.3548 - Accuracy: 0.8365 - recall: 0.6213 - val_loss: 0.4294 - val_Accuracy: 0.7904 - val_recall: 0.6133\n",
            "Epoch 46/100\n",
            "167/167 [==============================] - 1s 5ms/step - loss: 0.3551 - Accuracy: 0.8336 - recall: 0.6268 - val_loss: 0.4207 - val_Accuracy: 0.8054 - val_recall: 0.5861\n",
            "Epoch 47/100\n",
            "167/167 [==============================] - 1s 5ms/step - loss: 0.3528 - Accuracy: 0.8394 - recall: 0.6185 - val_loss: 0.4308 - val_Accuracy: 0.7979 - val_recall: 0.6042\n",
            "Epoch 48/100\n",
            "167/167 [==============================] - 1s 5ms/step - loss: 0.3510 - Accuracy: 0.8372 - recall: 0.6234 - val_loss: 0.4176 - val_Accuracy: 0.8024 - val_recall: 0.5136\n",
            "Epoch 49/100\n",
            "167/167 [==============================] - 1s 5ms/step - loss: 0.3494 - Accuracy: 0.8406 - recall: 0.6303 - val_loss: 0.4185 - val_Accuracy: 0.8046 - val_recall: 0.5257\n",
            "Epoch 50/100\n",
            "167/167 [==============================] - 1s 5ms/step - loss: 0.3488 - Accuracy: 0.8409 - recall: 0.6441 - val_loss: 0.4244 - val_Accuracy: 0.8054 - val_recall: 0.5589\n",
            "Epoch 51/100\n",
            "167/167 [==============================] - 1s 5ms/step - loss: 0.3458 - Accuracy: 0.8434 - recall: 0.6365 - val_loss: 0.4199 - val_Accuracy: 0.8009 - val_recall: 0.5076\n",
            "Epoch 52/100\n",
            "167/167 [==============================] - 1s 5ms/step - loss: 0.3469 - Accuracy: 0.8419 - recall: 0.6365 - val_loss: 0.4208 - val_Accuracy: 0.8001 - val_recall: 0.5468\n",
            "Epoch 53/100\n",
            "167/167 [==============================] - 1s 5ms/step - loss: 0.3418 - Accuracy: 0.8441 - recall: 0.6386 - val_loss: 0.4246 - val_Accuracy: 0.8069 - val_recall: 0.5589\n",
            "Epoch 54/100\n",
            "167/167 [==============================] - 1s 5ms/step - loss: 0.3417 - Accuracy: 0.8408 - recall: 0.6406 - val_loss: 0.4245 - val_Accuracy: 0.8024 - val_recall: 0.5619\n",
            "Epoch 55/100\n",
            "167/167 [==============================] - 1s 5ms/step - loss: 0.3428 - Accuracy: 0.8408 - recall: 0.6351 - val_loss: 0.4240 - val_Accuracy: 0.7987 - val_recall: 0.5801\n",
            "Epoch 56/100\n",
            "167/167 [==============================] - 1s 6ms/step - loss: 0.3394 - Accuracy: 0.8424 - recall: 0.6448 - val_loss: 0.4299 - val_Accuracy: 0.8031 - val_recall: 0.5529\n",
            "Epoch 57/100\n",
            "167/167 [==============================] - 1s 5ms/step - loss: 0.3424 - Accuracy: 0.8400 - recall: 0.6372 - val_loss: 0.4269 - val_Accuracy: 0.8024 - val_recall: 0.5619\n",
            "Epoch 58/100\n",
            "167/167 [==============================] - 1s 5ms/step - loss: 0.3375 - Accuracy: 0.8443 - recall: 0.6496 - val_loss: 0.4351 - val_Accuracy: 0.8009 - val_recall: 0.5740\n",
            "Epoch 59/100\n",
            "167/167 [==============================] - 1s 6ms/step - loss: 0.3351 - Accuracy: 0.8452 - recall: 0.6455 - val_loss: 0.4247 - val_Accuracy: 0.8091 - val_recall: 0.5166\n",
            "Epoch 60/100\n",
            "167/167 [==============================] - 1s 5ms/step - loss: 0.3333 - Accuracy: 0.8458 - recall: 0.6531 - val_loss: 0.4346 - val_Accuracy: 0.8009 - val_recall: 0.5317\n",
            "Epoch 61/100\n",
            "167/167 [==============================] - 1s 5ms/step - loss: 0.3327 - Accuracy: 0.8503 - recall: 0.6593 - val_loss: 0.4347 - val_Accuracy: 0.8076 - val_recall: 0.5076\n",
            "Epoch 62/100\n",
            "167/167 [==============================] - 1s 5ms/step - loss: 0.3323 - Accuracy: 0.8497 - recall: 0.6503 - val_loss: 0.4417 - val_Accuracy: 0.7912 - val_recall: 0.5106\n",
            "Epoch 63/100\n",
            "167/167 [==============================] - 1s 5ms/step - loss: 0.3311 - Accuracy: 0.8466 - recall: 0.6545 - val_loss: 0.4380 - val_Accuracy: 0.8061 - val_recall: 0.5891\n",
            "Epoch 64/100\n",
            "167/167 [==============================] - 1s 5ms/step - loss: 0.3300 - Accuracy: 0.8514 - recall: 0.6717 - val_loss: 0.4401 - val_Accuracy: 0.7994 - val_recall: 0.5408\n",
            "Epoch 65/100\n",
            "167/167 [==============================] - 1s 5ms/step - loss: 0.3269 - Accuracy: 0.8497 - recall: 0.6683 - val_loss: 0.4384 - val_Accuracy: 0.8024 - val_recall: 0.5468\n",
            "Epoch 66/100\n",
            "167/167 [==============================] - 1s 5ms/step - loss: 0.3261 - Accuracy: 0.8520 - recall: 0.6648 - val_loss: 0.4378 - val_Accuracy: 0.8024 - val_recall: 0.4924\n",
            "Epoch 67/100\n",
            "167/167 [==============================] - 1s 6ms/step - loss: 0.3249 - Accuracy: 0.8516 - recall: 0.6614 - val_loss: 0.4383 - val_Accuracy: 0.8039 - val_recall: 0.5378\n",
            "Epoch 68/100\n",
            "167/167 [==============================] - 1s 5ms/step - loss: 0.3230 - Accuracy: 0.8525 - recall: 0.6655 - val_loss: 0.4534 - val_Accuracy: 0.7927 - val_recall: 0.6042\n",
            "Epoch 69/100\n",
            "167/167 [==============================] - 1s 5ms/step - loss: 0.3212 - Accuracy: 0.8548 - recall: 0.6717 - val_loss: 0.4423 - val_Accuracy: 0.7972 - val_recall: 0.5529\n",
            "Epoch 70/100\n",
            "167/167 [==============================] - 1s 5ms/step - loss: 0.3200 - Accuracy: 0.8548 - recall: 0.6717 - val_loss: 0.4485 - val_Accuracy: 0.7927 - val_recall: 0.5589\n",
            "Epoch 71/100\n",
            "167/167 [==============================] - 1s 5ms/step - loss: 0.3189 - Accuracy: 0.8525 - recall: 0.6704 - val_loss: 0.4595 - val_Accuracy: 0.7927 - val_recall: 0.6133\n",
            "Epoch 72/100\n",
            "167/167 [==============================] - 1s 5ms/step - loss: 0.3177 - Accuracy: 0.8540 - recall: 0.6821 - val_loss: 0.4544 - val_Accuracy: 0.7942 - val_recall: 0.5982\n",
            "Epoch 73/100\n",
            "167/167 [==============================] - 1s 5ms/step - loss: 0.3169 - Accuracy: 0.8540 - recall: 0.6800 - val_loss: 0.4488 - val_Accuracy: 0.8031 - val_recall: 0.4773\n",
            "Epoch 74/100\n",
            "167/167 [==============================] - 1s 5ms/step - loss: 0.3159 - Accuracy: 0.8582 - recall: 0.6814 - val_loss: 0.4487 - val_Accuracy: 0.7994 - val_recall: 0.4773\n",
            "Epoch 75/100\n",
            "167/167 [==============================] - 1s 5ms/step - loss: 0.3164 - Accuracy: 0.8552 - recall: 0.6766 - val_loss: 0.4507 - val_Accuracy: 0.8039 - val_recall: 0.4804\n",
            "Epoch 76/100\n",
            "167/167 [==============================] - 1s 5ms/step - loss: 0.3135 - Accuracy: 0.8570 - recall: 0.6759 - val_loss: 0.4566 - val_Accuracy: 0.7927 - val_recall: 0.5619\n",
            "Epoch 77/100\n",
            "167/167 [==============================] - 1s 5ms/step - loss: 0.3128 - Accuracy: 0.8554 - recall: 0.6800 - val_loss: 0.4513 - val_Accuracy: 0.7987 - val_recall: 0.5347\n",
            "Epoch 78/100\n",
            "167/167 [==============================] - 1s 5ms/step - loss: 0.3118 - Accuracy: 0.8576 - recall: 0.6938 - val_loss: 0.4681 - val_Accuracy: 0.7972 - val_recall: 0.5801\n",
            "Epoch 79/100\n",
            "167/167 [==============================] - 1s 5ms/step - loss: 0.3114 - Accuracy: 0.8617 - recall: 0.6876 - val_loss: 0.4702 - val_Accuracy: 0.7912 - val_recall: 0.6224\n",
            "Epoch 80/100\n",
            "167/167 [==============================] - 1s 5ms/step - loss: 0.3069 - Accuracy: 0.8630 - recall: 0.6959 - val_loss: 0.4697 - val_Accuracy: 0.7889 - val_recall: 0.5770\n",
            "Epoch 81/100\n",
            "167/167 [==============================] - 1s 5ms/step - loss: 0.3108 - Accuracy: 0.8557 - recall: 0.6793 - val_loss: 0.4578 - val_Accuracy: 0.7874 - val_recall: 0.4622\n",
            "Epoch 82/100\n",
            "167/167 [==============================] - 1s 5ms/step - loss: 0.3090 - Accuracy: 0.8615 - recall: 0.6952 - val_loss: 0.4628 - val_Accuracy: 0.7919 - val_recall: 0.4743\n",
            "Epoch 83/100\n",
            "167/167 [==============================] - 1s 5ms/step - loss: 0.3055 - Accuracy: 0.8576 - recall: 0.6745 - val_loss: 0.4606 - val_Accuracy: 0.7934 - val_recall: 0.5710\n",
            "Epoch 84/100\n",
            "167/167 [==============================] - 1s 5ms/step - loss: 0.3064 - Accuracy: 0.8580 - recall: 0.6904 - val_loss: 0.4663 - val_Accuracy: 0.7949 - val_recall: 0.4381\n",
            "Epoch 85/100\n",
            "167/167 [==============================] - 1s 5ms/step - loss: 0.3020 - Accuracy: 0.8623 - recall: 0.6973 - val_loss: 0.4690 - val_Accuracy: 0.8001 - val_recall: 0.5196\n",
            "Epoch 86/100\n",
            "167/167 [==============================] - 1s 5ms/step - loss: 0.2999 - Accuracy: 0.8619 - recall: 0.6911 - val_loss: 0.4844 - val_Accuracy: 0.7837 - val_recall: 0.6254\n",
            "Epoch 87/100\n",
            "167/167 [==============================] - 1s 5ms/step - loss: 0.3017 - Accuracy: 0.8628 - recall: 0.6966 - val_loss: 0.4672 - val_Accuracy: 0.7964 - val_recall: 0.5529\n",
            "Epoch 88/100\n",
            "167/167 [==============================] - 1s 5ms/step - loss: 0.2989 - Accuracy: 0.8673 - recall: 0.7056 - val_loss: 0.4740 - val_Accuracy: 0.7867 - val_recall: 0.5529\n",
            "Epoch 89/100\n",
            "167/167 [==============================] - 1s 5ms/step - loss: 0.2993 - Accuracy: 0.8649 - recall: 0.7008 - val_loss: 0.4822 - val_Accuracy: 0.7829 - val_recall: 0.5619\n",
            "Epoch 90/100\n",
            "167/167 [==============================] - 1s 5ms/step - loss: 0.2969 - Accuracy: 0.8649 - recall: 0.7008 - val_loss: 0.4765 - val_Accuracy: 0.7942 - val_recall: 0.5045\n",
            "Epoch 91/100\n",
            "167/167 [==============================] - 1s 6ms/step - loss: 0.2949 - Accuracy: 0.8658 - recall: 0.7001 - val_loss: 0.4794 - val_Accuracy: 0.7867 - val_recall: 0.5740\n",
            "Epoch 92/100\n",
            "167/167 [==============================] - 1s 5ms/step - loss: 0.2938 - Accuracy: 0.8666 - recall: 0.7077 - val_loss: 0.4739 - val_Accuracy: 0.7994 - val_recall: 0.5468\n",
            "Epoch 93/100\n",
            "167/167 [==============================] - 1s 5ms/step - loss: 0.2925 - Accuracy: 0.8655 - recall: 0.7028 - val_loss: 0.4803 - val_Accuracy: 0.7889 - val_recall: 0.5680\n",
            "Epoch 94/100\n",
            "167/167 [==============================] - 1s 5ms/step - loss: 0.2929 - Accuracy: 0.8671 - recall: 0.7160 - val_loss: 0.4837 - val_Accuracy: 0.8039 - val_recall: 0.4985\n",
            "Epoch 95/100\n",
            "167/167 [==============================] - 1s 5ms/step - loss: 0.2923 - Accuracy: 0.8668 - recall: 0.7077 - val_loss: 0.4804 - val_Accuracy: 0.7934 - val_recall: 0.5408\n",
            "Epoch 96/100\n",
            "167/167 [==============================] - 1s 5ms/step - loss: 0.2883 - Accuracy: 0.8673 - recall: 0.7125 - val_loss: 0.4941 - val_Accuracy: 0.7919 - val_recall: 0.5680\n",
            "Epoch 97/100\n",
            "167/167 [==============================] - 1s 5ms/step - loss: 0.2896 - Accuracy: 0.8671 - recall: 0.7063 - val_loss: 0.4952 - val_Accuracy: 0.7927 - val_recall: 0.6193\n",
            "Epoch 98/100\n",
            "167/167 [==============================] - 1s 5ms/step - loss: 0.2867 - Accuracy: 0.8660 - recall: 0.7077 - val_loss: 0.4805 - val_Accuracy: 0.7987 - val_recall: 0.5861\n",
            "Epoch 99/100\n",
            "167/167 [==============================] - 1s 5ms/step - loss: 0.2871 - Accuracy: 0.8679 - recall: 0.7173 - val_loss: 0.4956 - val_Accuracy: 0.7867 - val_recall: 0.4502\n",
            "Epoch 100/100\n",
            "167/167 [==============================] - 1s 5ms/step - loss: 0.2872 - Accuracy: 0.8724 - recall: 0.7139 - val_loss: 0.4817 - val_Accuracy: 0.7972 - val_recall: 0.5710\n"
          ]
        }
      ]
    },
    {
      "cell_type": "code",
      "source": [
        "first_history.history.keys()"
      ],
      "metadata": {
        "colab": {
          "base_uri": "https://localhost:8080/"
        },
        "id": "Db4YzPa_SvEx",
        "outputId": "42d6ebb4-4889-472c-e37e-730b945f2b71"
      },
      "execution_count": 92,
      "outputs": [
        {
          "output_type": "execute_result",
          "data": {
            "text/plain": [
              "dict_keys(['loss', 'Accuracy', 'recall', 'val_loss', 'val_Accuracy', 'val_recall'])"
            ]
          },
          "metadata": {},
          "execution_count": 92
        }
      ]
    },
    {
      "cell_type": "code",
      "source": [
        "import pandas as pd\n",
        "pd.DataFrame(first_history.history).plot(figsize=(12,8));"
      ],
      "metadata": {
        "colab": {
          "base_uri": "https://localhost:8080/",
          "height": 488
        },
        "id": "ITPS3UJgStHa",
        "outputId": "408e0331-eb3d-4c81-8f8c-c71500ce2194"
      },
      "execution_count": 94,
      "outputs": [
        {
          "output_type": "display_data",
          "data": {
            "image/png": "[encoded data removed]",
            "text/plain": [
              "<Figure size 864x576 with 1 Axes>"
            ]
          },
          "metadata": {}
        }
      ]
    },
    {
      "cell_type": "markdown",
      "source": [
        "Dari Grafik diatas dapat disimpulkan overfitting sehingga kita perlu menggunakan beberapa regularization sepertii batch Normalization, weight initialization dan Drop Out untuk improvement model\n",
        "\n",
        "\n",
        "Dengan menggunakan Epoch 100 kali didapatkan loss: 0.2872 - Accuracy: 0.8724 - recall: 0.7139 - val_loss: 0.4817 - val_Accuracy: 0.7972 - val_recall: 0.5710"
      ],
      "metadata": {
        "id": "WMTRbKGDTT_L"
      }
    },
    {
      "cell_type": "markdown",
      "source": [
        "#### Improvement Model\n",
        "\n",
        "Untuk model kita gunakan 4 Hidden Layers, Weight Initalization, BatchNormalization, Dropout 20%, fungsi activation nya relu, dan sigmoid untuk memprediksi kasus binary class. Optimizer kita gunakan adam dan fungsi loss adalah binary cross entropy sedangakn untuk metrics kita gunakan accuracy dan Recall"
      ],
      "metadata": {
        "id": "c-KP2sroUJBB"
      }
    },
    {
      "cell_type": "code",
      "source": [
        "def get_basic_model():\n",
        "  model = tf.keras.Sequential([\n",
        "        normalizer,    \n",
        "         tf.keras.layers.Dense(32, input_shape=(16,), kernel_initializer=\"he_normal\", use_bias=False),\n",
        "         tf.keras.layers.Dropout(rate=0.2),\n",
        "         tf.keras.layers.BatchNormalization(),\n",
        "         tf.keras.layers.Activation('relu'),\n",
        "         tf.keras.layers.Dense(16, kernel_initializer=\"he_normal\", use_bias=False),\n",
        "         tf.keras.layers.Dropout(rate=0.2),\n",
        "         tf.keras.layers.BatchNormalization(),\n",
        "         tf.keras.layers.Activation('relu'),\n",
        "         tf.keras.layers.Dense(8, kernel_initializer=\"he_normal\", use_bias=False),\n",
        "         tf.keras.layers.Dropout(rate=0.2),\n",
        "         tf.keras.layers.BatchNormalization(),\n",
        "         tf.keras.layers.Activation('relu'),\n",
        "         tf.keras.layers.Dense(4, kernel_initializer=\"he_normal\", use_bias=False),\n",
        "         tf.keras.layers.Dropout(rate=0.2),\n",
        "         tf.keras.layers.BatchNormalization(),\n",
        "         tf.keras.layers.Activation('relu'),\n",
        "         tf.keras.layers.Dense(1, activation='sigmoid')\n",
        "         ])\n",
        "  model.compile(optimizer='adam',\n",
        "                loss=tf.keras.losses.BinaryCrossentropy(),\n",
        "                metrics=['Accuracy', 'Recall'])\n",
        "  return model"
      ],
      "metadata": {
        "id": "_iDsQc2C3Mje"
      },
      "execution_count": 56,
      "outputs": []
    },
    {
      "cell_type": "markdown",
      "source": [
        "**Penjelasan Model**\n",
        "\n",
        "1. Input data ada 16 features\n",
        "2. Jumlah Node pada hidden layer pertama adalah 32, kemudian Hidden layer kedua 16, Hidden layer ke tiga 8, dan hidden layer keempat adalah 4.\n",
        "3. Weight Inizialition digunakan untuk mengatur weight pada Neural Network ke small random values. Karena kita menggunakan fungsi aktivasinya adalah Relu maka kita gunakan Weight Inizialition adalah He\n",
        "4. Batch Normalization digunakan untuk scaling dan pembatasan input pada setiap batch\n",
        "5. Drop Out=0.2 artinya sebanyak 20 persen node pada hidden layer diaknonatifkan secara random yang digunakan untuk mengurangi overfit\n",
        "6. Output hanya 1 hidden layer karena binary class dan menggunakan fungsi activasi sigmoid\n",
        "7. Optimizer adam\n",
        "8. fungsi loss adalah BinaryCrosseEntropy untuk binary class\n",
        "9. Metrics Acuracy dan Recall\n",
        "\n",
        "\n",
        "Karena data nya imbalanced maka kita tidak bisa menggunakan accuracy sebagai patokan sehingga kita gunakan Recall sebagai metrics evaluasi model dikarenakan kita ingin fokus kesalahan memprediksi customer yang tidak churn tapi churn dengan menurunkan presentase False Negatif. Jika customer potential atau diprediksi churn maka kita bisa gunakan strategy dengan memberikan diskon atau promosi agar tidak kehilangan customer tersebut sedangkan untuk customer yang tidak churn namun faktanya churn kerugiannya adalah kita akan kehilangan customer maka dari itu kita fokuskan menurunkan terhadap kesalahan prediksi pada kasus tersebut."
      ],
      "metadata": {
        "id": "zDApErhl-WOo"
      }
    },
    {
      "cell_type": "code",
      "source": [
        "training_dataset = tf.data.Dataset.from_tensor_slices((X_train, y_train))"
      ],
      "metadata": {
        "id": "HOPNkCGJ5dZa"
      },
      "execution_count": 57,
      "outputs": []
    },
    {
      "cell_type": "code",
      "source": [
        "validation_dataset = tf.data.Dataset.from_tensor_slices((X_val, y_val))"
      ],
      "metadata": {
        "id": "Djt_VN-O6z1N"
      },
      "execution_count": 58,
      "outputs": []
    },
    {
      "cell_type": "code",
      "source": [
        "train_batches = training_dataset.shuffle(1000).batch(250)\n",
        "val_batches = validation_dataset .shuffle(1000).batch(250)\n"
      ],
      "metadata": {
        "id": "AB4_78W46MN1"
      },
      "execution_count": 59,
      "outputs": []
    },
    {
      "cell_type": "code",
      "execution_count": 60,
      "metadata": {
        "colab": {
          "base_uri": "https://localhost:8080/"
        },
        "id": "MFUP4rwCN9oV",
        "outputId": "68613f4c-7d65-40d4-db2b-b31b35453820"
      },
      "outputs": [
        {
          "output_type": "stream",
          "name": "stdout",
          "text": [
            "Model: \"sequential\"\n",
            "_________________________________________________________________\n",
            " Layer (type)                Output Shape              Param #   \n",
            "=================================================================\n",
            " normalization (Normalizatio  (None, 16)               33        \n",
            " n)                                                              \n",
            "                                                                 \n",
            " dense (Dense)               (None, 32)                512       \n",
            "                                                                 \n",
            " dropout (Dropout)           (None, 32)                0         \n",
            "                                                                 \n",
            " batch_normalization (BatchN  (None, 32)               128       \n",
            " ormalization)                                                   \n",
            "                                                                 \n",
            " activation (Activation)     (None, 32)                0         \n",
            "                                                                 \n",
            " dense_1 (Dense)             (None, 16)                512       \n",
            "                                                                 \n",
            " dropout_1 (Dropout)         (None, 16)                0         \n",
            "                                                                 \n",
            " batch_normalization_1 (Batc  (None, 16)               64        \n",
            " hNormalization)                                                 \n",
            "                                                                 \n",
            " activation_1 (Activation)   (None, 16)                0         \n",
            "                                                                 \n",
            " dense_2 (Dense)             (None, 8)                 128       \n",
            "                                                                 \n",
            " dropout_2 (Dropout)         (None, 8)                 0         \n",
            "                                                                 \n",
            " batch_normalization_2 (Batc  (None, 8)                32        \n",
            " hNormalization)                                                 \n",
            "                                                                 \n",
            " activation_2 (Activation)   (None, 8)                 0         \n",
            "                                                                 \n",
            " dense_3 (Dense)             (None, 4)                 32        \n",
            "                                                                 \n",
            " dropout_3 (Dropout)         (None, 4)                 0         \n",
            "                                                                 \n",
            " batch_normalization_3 (Batc  (None, 4)                16        \n",
            " hNormalization)                                                 \n",
            "                                                                 \n",
            " activation_3 (Activation)   (None, 4)                 0         \n",
            "                                                                 \n",
            " dense_4 (Dense)             (None, 1)                 5         \n",
            "                                                                 \n",
            "=================================================================\n",
            "Total params: 1,462\n",
            "Trainable params: 1,309\n",
            "Non-trainable params: 153\n",
            "_________________________________________________________________\n"
          ]
        }
      ],
      "source": [
        "model = get_basic_model()\n",
        "model.summary()"
      ]
    },
    {
      "cell_type": "code",
      "execution_count": 61,
      "metadata": {
        "colab": {
          "base_uri": "https://localhost:8080/",
          "height": 1000
        },
        "id": "cCiQWwObN9oV",
        "outputId": "adee4a96-3176-4e0a-f0d9-38aed742fd77"
      },
      "outputs": [
        {
          "output_type": "execute_result",
          "data": {
            "image/png": "[encoded data removed]",
            "text/plain": [
              "<IPython.core.display.Image object>"
            ]
          },
          "metadata": {},
          "execution_count": 61
        }
      ],
      "source": [
        "plot_model(model, \"my_nn.png\", show_shapes=True)"
      ]
    },
    {
      "cell_type": "markdown",
      "source": [
        "#### Functional API\n",
        "\n",
        "Model sama dengan Sequential API namun sekarang tidak kita gunakan untuk training, namun kita akan lihat model summarynya."
      ],
      "metadata": {
        "id": "O8GDZdCM7RXo"
      }
    },
    {
      "cell_type": "code",
      "source": [
        "from tensorflow import keras\n",
        "def model_functional_api():\n",
        "  input_ = keras.layers.Input(shape=X_train.shape[1:])\n",
        "  hidden1 = keras.layers.Dense(32, kernel_initializer=\"he_normal\", use_bias=False)(input_)\n",
        "  dropout1 = keras.layers.Dropout(rate=0.2)(hidden1)\n",
        "  normal1 = keras.layers.BatchNormalization()(dropout1)\n",
        "  active1 = keras.layers.Activation('relu')(normal1)\n",
        "  hidden2 = keras.layers.Dense(16, kernel_initializer=\"he_normal\", use_bias=False)(active1)\n",
        "  dropout2 = keras.layers.Dropout(rate=0.2)(hidden2)\n",
        "  normal2 = keras.layers.BatchNormalization()(dropout2)\n",
        "  active2 = keras.layers.Activation('relu')(normal2)\n",
        "  hidden3 = keras.layers.Dense(8, kernel_initializer=\"he_normal\", use_bias=False)(active2)\n",
        "  dropout3 = keras.layers.Dropout(rate=0.2)(hidden3)\n",
        "  normal3 = keras.layers.BatchNormalization()(dropout3)\n",
        "  active3 = keras.layers.Activation('relu')(normal3)\n",
        "  hidden4 = keras.layers.Dense(4, kernel_initializer=\"he_normal\", use_bias=False)(active3)\n",
        "  dropout4 = keras.layers.Dropout(rate=0.2)(hidden4)\n",
        "  normal4 = keras.layers.BatchNormalization()(dropout4)\n",
        "  active4 = keras.layers.Activation('relu')(normal4)\n",
        "  concat = keras.layers.concatenate([input_, active4])\n",
        "  output = keras.layers.Dense(1,  activation='sigmoid')(concat)\n",
        "  model = keras.models.Model(inputs=[input_], outputs=[output])\n",
        "\n",
        "  model.compile(optimizer='adam',\n",
        "                loss=tf.keras.losses.BinaryCrossentropy(),\n",
        "                metrics=['Accuracy', 'Recall'])\n",
        "  return model"
      ],
      "metadata": {
        "id": "9-ra5iIiY9l1"
      },
      "execution_count": 62,
      "outputs": []
    },
    {
      "cell_type": "code",
      "source": [
        "model_functional_api = model_functional_api()\n",
        "model_functional_api.summary()"
      ],
      "metadata": {
        "colab": {
          "base_uri": "https://localhost:8080/"
        },
        "id": "ZGKX84WcfG7-",
        "outputId": "8248a52b-0ed1-4b6b-963c-9ca42e04652e"
      },
      "execution_count": 63,
      "outputs": [
        {
          "output_type": "stream",
          "name": "stdout",
          "text": [
            "Model: \"model\"\n",
            "__________________________________________________________________________________________________\n",
            " Layer (type)                   Output Shape         Param #     Connected to                     \n",
            "==================================================================================================\n",
            " input_1 (InputLayer)           [(None, 16)]         0           []                               \n",
            "                                                                                                  \n",
            " dense_5 (Dense)                (None, 32)           512         ['input_1[0][0]']                \n",
            "                                                                                                  \n",
            " dropout_4 (Dropout)            (None, 32)           0           ['dense_5[0][0]']                \n",
            "                                                                                                  \n",
            " batch_normalization_4 (BatchNo  (None, 32)          128         ['dropout_4[0][0]']              \n",
            " rmalization)                                                                                     \n",
            "                                                                                                  \n",
            " activation_4 (Activation)      (None, 32)           0           ['batch_normalization_4[0][0]']  \n",
            "                                                                                                  \n",
            " dense_6 (Dense)                (None, 16)           512         ['activation_4[0][0]']           \n",
            "                                                                                                  \n",
            " dropout_5 (Dropout)            (None, 16)           0           ['dense_6[0][0]']                \n",
            "                                                                                                  \n",
            " batch_normalization_5 (BatchNo  (None, 16)          64          ['dropout_5[0][0]']              \n",
            " rmalization)                                                                                     \n",
            "                                                                                                  \n",
            " activation_5 (Activation)      (None, 16)           0           ['batch_normalization_5[0][0]']  \n",
            "                                                                                                  \n",
            " dense_7 (Dense)                (None, 8)            128         ['activation_5[0][0]']           \n",
            "                                                                                                  \n",
            " dropout_6 (Dropout)            (None, 8)            0           ['dense_7[0][0]']                \n",
            "                                                                                                  \n",
            " batch_normalization_6 (BatchNo  (None, 8)           32          ['dropout_6[0][0]']              \n",
            " rmalization)                                                                                     \n",
            "                                                                                                  \n",
            " activation_6 (Activation)      (None, 8)            0           ['batch_normalization_6[0][0]']  \n",
            "                                                                                                  \n",
            " dense_8 (Dense)                (None, 4)            32          ['activation_6[0][0]']           \n",
            "                                                                                                  \n",
            " dropout_7 (Dropout)            (None, 4)            0           ['dense_8[0][0]']                \n",
            "                                                                                                  \n",
            " batch_normalization_7 (BatchNo  (None, 4)           16          ['dropout_7[0][0]']              \n",
            " rmalization)                                                                                     \n",
            "                                                                                                  \n",
            " activation_7 (Activation)      (None, 4)            0           ['batch_normalization_7[0][0]']  \n",
            "                                                                                                  \n",
            " concatenate (Concatenate)      (None, 20)           0           ['input_1[0][0]',                \n",
            "                                                                  'activation_7[0][0]']           \n",
            "                                                                                                  \n",
            " dense_9 (Dense)                (None, 1)            21          ['concatenate[0][0]']            \n",
            "                                                                                                  \n",
            "==================================================================================================\n",
            "Total params: 1,445\n",
            "Trainable params: 1,325\n",
            "Non-trainable params: 120\n",
            "__________________________________________________________________________________________________\n"
          ]
        }
      ]
    },
    {
      "cell_type": "code",
      "source": [
        "plot_model(model_functional_api, \"my_nn2.png\", show_shapes=True)"
      ],
      "metadata": {
        "id": "F3hKgYDicKAq",
        "colab": {
          "base_uri": "https://localhost:8080/",
          "height": 1000
        },
        "outputId": "030c3650-52b6-43a2-e1b3-d78747a0522d"
      },
      "execution_count": 81,
      "outputs": [
        {
          "output_type": "execute_result",
          "data": {
            "image/png": "[encoded data removed]",
            "text/plain": [
              "<IPython.core.display.Image object>"
            ]
          },
          "metadata": {},
          "execution_count": 81
        }
      ]
    },
    {
      "cell_type": "markdown",
      "metadata": {
        "id": "thaUh5gPN9oV"
      },
      "source": [
        "### Pelatihan Model"
      ]
    },
    {
      "cell_type": "code",
      "source": [
        "history = model.fit(train_batches, validation_data=val_batches, epochs=100)"
      ],
      "metadata": {
        "colab": {
          "base_uri": "https://localhost:8080/"
        },
        "id": "4YngBSlk70vT",
        "outputId": "59ef777a-1d25-4877-805f-b26298caea08"
      },
      "execution_count": 65,
      "outputs": [
        {
          "output_type": "stream",
          "name": "stdout",
          "text": [
            "Epoch 1/100\n",
            "22/22 [==============================] - 3s 28ms/step - loss: 0.6567 - Accuracy: 0.6606 - recall: 0.1735 - val_loss: 0.6607 - val_Accuracy: 0.7193 - val_recall: 0.2659\n",
            "Epoch 2/100\n",
            "22/22 [==============================] - 0s 12ms/step - loss: 0.6180 - Accuracy: 0.7000 - recall: 0.1534 - val_loss: 0.6074 - val_Accuracy: 0.7597 - val_recall: 0.2628\n",
            "Epoch 3/100\n",
            "22/22 [==============================] - 0s 11ms/step - loss: 0.5986 - Accuracy: 0.7204 - recall: 0.0857 - val_loss: 0.5656 - val_Accuracy: 0.7500 - val_recall: 0.1269\n",
            "Epoch 4/100\n",
            "22/22 [==============================] - 0s 11ms/step - loss: 0.5758 - Accuracy: 0.7283 - recall: 0.0574 - val_loss: 0.5330 - val_Accuracy: 0.7567 - val_recall: 0.0363\n",
            "Epoch 5/100\n",
            "22/22 [==============================] - 0s 11ms/step - loss: 0.5638 - Accuracy: 0.7294 - recall: 0.0449 - val_loss: 0.5082 - val_Accuracy: 0.7560 - val_recall: 0.0181\n",
            "Epoch 6/100\n",
            "22/22 [==============================] - 0s 11ms/step - loss: 0.5535 - Accuracy: 0.7298 - recall: 0.0449 - val_loss: 0.4877 - val_Accuracy: 0.7537 - val_recall: 0.0091\n",
            "Epoch 7/100\n",
            "22/22 [==============================] - 0s 11ms/step - loss: 0.5460 - Accuracy: 0.7313 - recall: 0.0366 - val_loss: 0.4731 - val_Accuracy: 0.7537 - val_recall: 0.0091\n",
            "Epoch 8/100\n",
            "22/22 [==============================] - 0s 12ms/step - loss: 0.5360 - Accuracy: 0.7320 - recall: 0.0456 - val_loss: 0.4600 - val_Accuracy: 0.7552 - val_recall: 0.0242\n",
            "Epoch 9/100\n",
            "22/22 [==============================] - 0s 12ms/step - loss: 0.5224 - Accuracy: 0.7315 - recall: 0.0511 - val_loss: 0.4505 - val_Accuracy: 0.7717 - val_recall: 0.1390\n",
            "Epoch 10/100\n",
            "22/22 [==============================] - 0s 12ms/step - loss: 0.5200 - Accuracy: 0.7348 - recall: 0.0698 - val_loss: 0.4449 - val_Accuracy: 0.7754 - val_recall: 0.2689\n",
            "Epoch 11/100\n",
            "22/22 [==============================] - 0s 11ms/step - loss: 0.5081 - Accuracy: 0.7365 - recall: 0.1050 - val_loss: 0.4393 - val_Accuracy: 0.7792 - val_recall: 0.4381\n",
            "Epoch 12/100\n",
            "22/22 [==============================] - 0s 11ms/step - loss: 0.5079 - Accuracy: 0.7356 - recall: 0.1209 - val_loss: 0.4342 - val_Accuracy: 0.7784 - val_recall: 0.4955\n",
            "Epoch 13/100\n",
            "22/22 [==============================] - 0s 11ms/step - loss: 0.5001 - Accuracy: 0.7367 - recall: 0.1465 - val_loss: 0.4295 - val_Accuracy: 0.7852 - val_recall: 0.5710\n",
            "Epoch 14/100\n",
            "22/22 [==============================] - 0s 11ms/step - loss: 0.4956 - Accuracy: 0.7373 - recall: 0.1652 - val_loss: 0.4266 - val_Accuracy: 0.7882 - val_recall: 0.6344\n",
            "Epoch 15/100\n",
            "22/22 [==============================] - 0s 11ms/step - loss: 0.4905 - Accuracy: 0.7425 - recall: 0.2032 - val_loss: 0.4259 - val_Accuracy: 0.7852 - val_recall: 0.6737\n",
            "Epoch 16/100\n",
            "22/22 [==============================] - 0s 12ms/step - loss: 0.4905 - Accuracy: 0.7436 - recall: 0.2281 - val_loss: 0.4237 - val_Accuracy: 0.7859 - val_recall: 0.7069\n",
            "Epoch 17/100\n",
            "22/22 [==============================] - 0s 11ms/step - loss: 0.4828 - Accuracy: 0.7511 - recall: 0.2605 - val_loss: 0.4195 - val_Accuracy: 0.7882 - val_recall: 0.7221\n",
            "Epoch 18/100\n",
            "22/22 [==============================] - 0s 11ms/step - loss: 0.4807 - Accuracy: 0.7481 - recall: 0.2958 - val_loss: 0.4178 - val_Accuracy: 0.7859 - val_recall: 0.7311\n",
            "Epoch 19/100\n",
            "22/22 [==============================] - 0s 11ms/step - loss: 0.4796 - Accuracy: 0.7496 - recall: 0.3214 - val_loss: 0.4158 - val_Accuracy: 0.7844 - val_recall: 0.7492\n",
            "Epoch 20/100\n",
            "22/22 [==============================] - 0s 11ms/step - loss: 0.4727 - Accuracy: 0.7592 - recall: 0.3545 - val_loss: 0.4121 - val_Accuracy: 0.7882 - val_recall: 0.7553\n",
            "Epoch 21/100\n",
            "22/22 [==============================] - 0s 11ms/step - loss: 0.4795 - Accuracy: 0.7524 - recall: 0.3476 - val_loss: 0.4096 - val_Accuracy: 0.7867 - val_recall: 0.7492\n",
            "Epoch 22/100\n",
            "22/22 [==============================] - 0s 11ms/step - loss: 0.4734 - Accuracy: 0.7586 - recall: 0.3863 - val_loss: 0.4085 - val_Accuracy: 0.7882 - val_recall: 0.7644\n",
            "Epoch 23/100\n",
            "22/22 [==============================] - 0s 11ms/step - loss: 0.4710 - Accuracy: 0.7625 - recall: 0.3891 - val_loss: 0.4077 - val_Accuracy: 0.7852 - val_recall: 0.7644\n",
            "Epoch 24/100\n",
            "22/22 [==============================] - 0s 11ms/step - loss: 0.4636 - Accuracy: 0.7594 - recall: 0.4015 - val_loss: 0.4034 - val_Accuracy: 0.7927 - val_recall: 0.7492\n",
            "Epoch 25/100\n",
            "22/22 [==============================] - 0s 11ms/step - loss: 0.4678 - Accuracy: 0.7633 - recall: 0.4195 - val_loss: 0.4002 - val_Accuracy: 0.7934 - val_recall: 0.7402\n",
            "Epoch 26/100\n",
            "22/22 [==============================] - 0s 10ms/step - loss: 0.4741 - Accuracy: 0.7586 - recall: 0.4181 - val_loss: 0.3999 - val_Accuracy: 0.7957 - val_recall: 0.7432\n",
            "Epoch 27/100\n",
            "22/22 [==============================] - 0s 12ms/step - loss: 0.4682 - Accuracy: 0.7558 - recall: 0.3856 - val_loss: 0.3992 - val_Accuracy: 0.7972 - val_recall: 0.7402\n",
            "Epoch 28/100\n",
            "22/22 [==============================] - 0s 12ms/step - loss: 0.4647 - Accuracy: 0.7597 - recall: 0.4140 - val_loss: 0.3989 - val_Accuracy: 0.7957 - val_recall: 0.7402\n",
            "Epoch 29/100\n",
            "22/22 [==============================] - 0s 11ms/step - loss: 0.4604 - Accuracy: 0.7650 - recall: 0.4326 - val_loss: 0.3969 - val_Accuracy: 0.8016 - val_recall: 0.7341\n",
            "Epoch 30/100\n",
            "22/22 [==============================] - 0s 11ms/step - loss: 0.4646 - Accuracy: 0.7579 - recall: 0.4250 - val_loss: 0.3959 - val_Accuracy: 0.8016 - val_recall: 0.7311\n",
            "Epoch 31/100\n",
            "22/22 [==============================] - 0s 13ms/step - loss: 0.4602 - Accuracy: 0.7635 - recall: 0.4492 - val_loss: 0.3968 - val_Accuracy: 0.8001 - val_recall: 0.7341\n",
            "Epoch 32/100\n",
            "22/22 [==============================] - 0s 11ms/step - loss: 0.4624 - Accuracy: 0.7665 - recall: 0.4568 - val_loss: 0.3972 - val_Accuracy: 0.7979 - val_recall: 0.7341\n",
            "Epoch 33/100\n",
            "22/22 [==============================] - 0s 11ms/step - loss: 0.4669 - Accuracy: 0.7614 - recall: 0.4478 - val_loss: 0.3973 - val_Accuracy: 0.7972 - val_recall: 0.7311\n",
            "Epoch 34/100\n",
            "22/22 [==============================] - 0s 11ms/step - loss: 0.4619 - Accuracy: 0.7702 - recall: 0.4623 - val_loss: 0.3959 - val_Accuracy: 0.8001 - val_recall: 0.7221\n",
            "Epoch 35/100\n",
            "22/22 [==============================] - 0s 11ms/step - loss: 0.4580 - Accuracy: 0.7738 - recall: 0.4582 - val_loss: 0.3960 - val_Accuracy: 0.8031 - val_recall: 0.7251\n",
            "Epoch 36/100\n",
            "22/22 [==============================] - 0s 11ms/step - loss: 0.4609 - Accuracy: 0.7577 - recall: 0.4354 - val_loss: 0.3953 - val_Accuracy: 0.7994 - val_recall: 0.7130\n",
            "Epoch 37/100\n",
            "22/22 [==============================] - 0s 11ms/step - loss: 0.4622 - Accuracy: 0.7713 - recall: 0.4651 - val_loss: 0.3945 - val_Accuracy: 0.8024 - val_recall: 0.7009\n",
            "Epoch 38/100\n",
            "22/22 [==============================] - 0s 11ms/step - loss: 0.4601 - Accuracy: 0.7667 - recall: 0.4603 - val_loss: 0.3955 - val_Accuracy: 0.8039 - val_recall: 0.7100\n",
            "Epoch 39/100\n",
            "22/22 [==============================] - 0s 12ms/step - loss: 0.4605 - Accuracy: 0.7627 - recall: 0.4368 - val_loss: 0.3949 - val_Accuracy: 0.8031 - val_recall: 0.6949\n",
            "Epoch 40/100\n",
            "22/22 [==============================] - 0s 11ms/step - loss: 0.4591 - Accuracy: 0.7678 - recall: 0.4534 - val_loss: 0.3949 - val_Accuracy: 0.8024 - val_recall: 0.6918\n",
            "Epoch 41/100\n",
            "22/22 [==============================] - 0s 11ms/step - loss: 0.4570 - Accuracy: 0.7700 - recall: 0.4575 - val_loss: 0.3943 - val_Accuracy: 0.8024 - val_recall: 0.6949\n",
            "Epoch 42/100\n",
            "22/22 [==============================] - 0s 11ms/step - loss: 0.4513 - Accuracy: 0.7670 - recall: 0.4568 - val_loss: 0.3941 - val_Accuracy: 0.8031 - val_recall: 0.6949\n",
            "Epoch 43/100\n",
            "22/22 [==============================] - 0s 11ms/step - loss: 0.4534 - Accuracy: 0.7728 - recall: 0.4637 - val_loss: 0.3940 - val_Accuracy: 0.8046 - val_recall: 0.6918\n",
            "Epoch 44/100\n",
            "22/22 [==============================] - 0s 11ms/step - loss: 0.4539 - Accuracy: 0.7741 - recall: 0.4616 - val_loss: 0.3932 - val_Accuracy: 0.8061 - val_recall: 0.6858\n",
            "Epoch 45/100\n",
            "22/22 [==============================] - 0s 12ms/step - loss: 0.4527 - Accuracy: 0.7747 - recall: 0.4686 - val_loss: 0.3936 - val_Accuracy: 0.8061 - val_recall: 0.6737\n",
            "Epoch 46/100\n",
            "22/22 [==============================] - 0s 11ms/step - loss: 0.4613 - Accuracy: 0.7713 - recall: 0.4499 - val_loss: 0.3939 - val_Accuracy: 0.8061 - val_recall: 0.6677\n",
            "Epoch 47/100\n",
            "22/22 [==============================] - 0s 12ms/step - loss: 0.4547 - Accuracy: 0.7687 - recall: 0.4492 - val_loss: 0.3938 - val_Accuracy: 0.8069 - val_recall: 0.6677\n",
            "Epoch 48/100\n",
            "22/22 [==============================] - 0s 11ms/step - loss: 0.4538 - Accuracy: 0.7695 - recall: 0.4326 - val_loss: 0.3936 - val_Accuracy: 0.8076 - val_recall: 0.6586\n",
            "Epoch 49/100\n",
            "22/22 [==============================] - 0s 11ms/step - loss: 0.4553 - Accuracy: 0.7779 - recall: 0.4692 - val_loss: 0.3933 - val_Accuracy: 0.8084 - val_recall: 0.6647\n",
            "Epoch 50/100\n",
            "22/22 [==============================] - 0s 11ms/step - loss: 0.4597 - Accuracy: 0.7657 - recall: 0.4354 - val_loss: 0.3935 - val_Accuracy: 0.8106 - val_recall: 0.6647\n",
            "Epoch 51/100\n",
            "22/22 [==============================] - 0s 12ms/step - loss: 0.4551 - Accuracy: 0.7713 - recall: 0.4520 - val_loss: 0.3935 - val_Accuracy: 0.8091 - val_recall: 0.6616\n",
            "Epoch 52/100\n",
            "22/22 [==============================] - 0s 12ms/step - loss: 0.4562 - Accuracy: 0.7687 - recall: 0.4616 - val_loss: 0.3935 - val_Accuracy: 0.8114 - val_recall: 0.6586\n",
            "Epoch 53/100\n",
            "22/22 [==============================] - 0s 12ms/step - loss: 0.4568 - Accuracy: 0.7668 - recall: 0.4506 - val_loss: 0.3945 - val_Accuracy: 0.8099 - val_recall: 0.6586\n",
            "Epoch 54/100\n",
            "22/22 [==============================] - 0s 11ms/step - loss: 0.4518 - Accuracy: 0.7730 - recall: 0.4451 - val_loss: 0.3949 - val_Accuracy: 0.8106 - val_recall: 0.6526\n",
            "Epoch 55/100\n",
            "22/22 [==============================] - 0s 11ms/step - loss: 0.4525 - Accuracy: 0.7726 - recall: 0.4540 - val_loss: 0.3952 - val_Accuracy: 0.8114 - val_recall: 0.6556\n",
            "Epoch 56/100\n",
            "22/22 [==============================] - 0s 11ms/step - loss: 0.4478 - Accuracy: 0.7753 - recall: 0.4561 - val_loss: 0.3956 - val_Accuracy: 0.8099 - val_recall: 0.6556\n",
            "Epoch 57/100\n",
            "22/22 [==============================] - 0s 11ms/step - loss: 0.4529 - Accuracy: 0.7683 - recall: 0.4485 - val_loss: 0.3955 - val_Accuracy: 0.8091 - val_recall: 0.6495\n",
            "Epoch 58/100\n",
            "22/22 [==============================] - 0s 12ms/step - loss: 0.4531 - Accuracy: 0.7717 - recall: 0.4589 - val_loss: 0.3954 - val_Accuracy: 0.8091 - val_recall: 0.6284\n",
            "Epoch 59/100\n",
            "22/22 [==============================] - 0s 12ms/step - loss: 0.4497 - Accuracy: 0.7796 - recall: 0.4568 - val_loss: 0.3951 - val_Accuracy: 0.8114 - val_recall: 0.6375\n",
            "Epoch 60/100\n",
            "22/22 [==============================] - 0s 11ms/step - loss: 0.4490 - Accuracy: 0.7730 - recall: 0.4368 - val_loss: 0.3953 - val_Accuracy: 0.8099 - val_recall: 0.6435\n",
            "Epoch 61/100\n",
            "22/22 [==============================] - 0s 11ms/step - loss: 0.4556 - Accuracy: 0.7713 - recall: 0.4375 - val_loss: 0.3949 - val_Accuracy: 0.8121 - val_recall: 0.6435\n",
            "Epoch 62/100\n",
            "22/22 [==============================] - 0s 11ms/step - loss: 0.4543 - Accuracy: 0.7743 - recall: 0.4610 - val_loss: 0.3945 - val_Accuracy: 0.8121 - val_recall: 0.6314\n",
            "Epoch 63/100\n",
            "22/22 [==============================] - 0s 12ms/step - loss: 0.4567 - Accuracy: 0.7726 - recall: 0.4644 - val_loss: 0.3949 - val_Accuracy: 0.8106 - val_recall: 0.6224\n",
            "Epoch 64/100\n",
            "22/22 [==============================] - 0s 11ms/step - loss: 0.4500 - Accuracy: 0.7766 - recall: 0.4513 - val_loss: 0.3951 - val_Accuracy: 0.8084 - val_recall: 0.6224\n",
            "Epoch 65/100\n",
            "22/22 [==============================] - 0s 12ms/step - loss: 0.4542 - Accuracy: 0.7736 - recall: 0.4402 - val_loss: 0.3947 - val_Accuracy: 0.8099 - val_recall: 0.6224\n",
            "Epoch 66/100\n",
            "22/22 [==============================] - 0s 12ms/step - loss: 0.4499 - Accuracy: 0.7753 - recall: 0.4485 - val_loss: 0.3944 - val_Accuracy: 0.8099 - val_recall: 0.6224\n",
            "Epoch 67/100\n",
            "22/22 [==============================] - 0s 11ms/step - loss: 0.4490 - Accuracy: 0.7769 - recall: 0.4651 - val_loss: 0.3945 - val_Accuracy: 0.8084 - val_recall: 0.6224\n",
            "Epoch 68/100\n",
            "22/22 [==============================] - 0s 12ms/step - loss: 0.4455 - Accuracy: 0.7738 - recall: 0.4527 - val_loss: 0.3949 - val_Accuracy: 0.8106 - val_recall: 0.6284\n",
            "Epoch 69/100\n",
            "22/22 [==============================] - 0s 12ms/step - loss: 0.4540 - Accuracy: 0.7723 - recall: 0.4561 - val_loss: 0.3955 - val_Accuracy: 0.8091 - val_recall: 0.6284\n",
            "Epoch 70/100\n",
            "22/22 [==============================] - 0s 11ms/step - loss: 0.4480 - Accuracy: 0.7753 - recall: 0.4499 - val_loss: 0.3945 - val_Accuracy: 0.8076 - val_recall: 0.6133\n",
            "Epoch 71/100\n",
            "22/22 [==============================] - 0s 11ms/step - loss: 0.4531 - Accuracy: 0.7691 - recall: 0.4361 - val_loss: 0.3938 - val_Accuracy: 0.8091 - val_recall: 0.6103\n",
            "Epoch 72/100\n",
            "22/22 [==============================] - 0s 12ms/step - loss: 0.4492 - Accuracy: 0.7783 - recall: 0.4568 - val_loss: 0.3939 - val_Accuracy: 0.8076 - val_recall: 0.6103\n",
            "Epoch 73/100\n",
            "22/22 [==============================] - 0s 11ms/step - loss: 0.4504 - Accuracy: 0.7812 - recall: 0.4762 - val_loss: 0.3939 - val_Accuracy: 0.8084 - val_recall: 0.6133\n",
            "Epoch 74/100\n",
            "22/22 [==============================] - 0s 11ms/step - loss: 0.4457 - Accuracy: 0.7747 - recall: 0.4506 - val_loss: 0.3940 - val_Accuracy: 0.8076 - val_recall: 0.6103\n",
            "Epoch 75/100\n",
            "22/22 [==============================] - 0s 11ms/step - loss: 0.4513 - Accuracy: 0.7792 - recall: 0.4492 - val_loss: 0.3942 - val_Accuracy: 0.8061 - val_recall: 0.5952\n",
            "Epoch 76/100\n",
            "22/22 [==============================] - 0s 12ms/step - loss: 0.4455 - Accuracy: 0.7768 - recall: 0.4534 - val_loss: 0.3942 - val_Accuracy: 0.8061 - val_recall: 0.5952\n",
            "Epoch 77/100\n",
            "22/22 [==============================] - 0s 12ms/step - loss: 0.4476 - Accuracy: 0.7751 - recall: 0.4589 - val_loss: 0.3944 - val_Accuracy: 0.8061 - val_recall: 0.5952\n",
            "Epoch 78/100\n",
            "22/22 [==============================] - 0s 12ms/step - loss: 0.4490 - Accuracy: 0.7805 - recall: 0.4506 - val_loss: 0.3942 - val_Accuracy: 0.8061 - val_recall: 0.5982\n",
            "Epoch 79/100\n",
            "22/22 [==============================] - 0s 11ms/step - loss: 0.4503 - Accuracy: 0.7710 - recall: 0.4527 - val_loss: 0.3939 - val_Accuracy: 0.8069 - val_recall: 0.6012\n",
            "Epoch 80/100\n",
            "22/22 [==============================] - 0s 13ms/step - loss: 0.4428 - Accuracy: 0.7796 - recall: 0.4457 - val_loss: 0.3937 - val_Accuracy: 0.8076 - val_recall: 0.6042\n",
            "Epoch 81/100\n",
            "22/22 [==============================] - 0s 11ms/step - loss: 0.4451 - Accuracy: 0.7854 - recall: 0.4803 - val_loss: 0.3935 - val_Accuracy: 0.8099 - val_recall: 0.6133\n",
            "Epoch 82/100\n",
            "22/22 [==============================] - 0s 12ms/step - loss: 0.4460 - Accuracy: 0.7781 - recall: 0.4506 - val_loss: 0.3943 - val_Accuracy: 0.8091 - val_recall: 0.6103\n",
            "Epoch 83/100\n",
            "22/22 [==============================] - 0s 12ms/step - loss: 0.4467 - Accuracy: 0.7788 - recall: 0.4623 - val_loss: 0.3940 - val_Accuracy: 0.8099 - val_recall: 0.6073\n",
            "Epoch 84/100\n",
            "22/22 [==============================] - 0s 11ms/step - loss: 0.4449 - Accuracy: 0.7792 - recall: 0.4741 - val_loss: 0.3938 - val_Accuracy: 0.8084 - val_recall: 0.6042\n",
            "Epoch 85/100\n",
            "22/22 [==============================] - 0s 11ms/step - loss: 0.4457 - Accuracy: 0.7794 - recall: 0.4575 - val_loss: 0.3938 - val_Accuracy: 0.8106 - val_recall: 0.6133\n",
            "Epoch 86/100\n",
            "22/22 [==============================] - 0s 12ms/step - loss: 0.4491 - Accuracy: 0.7799 - recall: 0.4755 - val_loss: 0.3942 - val_Accuracy: 0.8099 - val_recall: 0.6133\n",
            "Epoch 87/100\n",
            "22/22 [==============================] - 0s 13ms/step - loss: 0.4476 - Accuracy: 0.7842 - recall: 0.4692 - val_loss: 0.3937 - val_Accuracy: 0.8076 - val_recall: 0.6042\n",
            "Epoch 88/100\n",
            "22/22 [==============================] - 0s 11ms/step - loss: 0.4462 - Accuracy: 0.7758 - recall: 0.4644 - val_loss: 0.3937 - val_Accuracy: 0.8069 - val_recall: 0.5982\n",
            "Epoch 89/100\n",
            "22/22 [==============================] - 0s 12ms/step - loss: 0.4441 - Accuracy: 0.7794 - recall: 0.4637 - val_loss: 0.3936 - val_Accuracy: 0.8061 - val_recall: 0.6012\n",
            "Epoch 90/100\n",
            "22/22 [==============================] - 0s 12ms/step - loss: 0.4440 - Accuracy: 0.7799 - recall: 0.4596 - val_loss: 0.3937 - val_Accuracy: 0.8061 - val_recall: 0.6012\n",
            "Epoch 91/100\n",
            "22/22 [==============================] - 0s 11ms/step - loss: 0.4443 - Accuracy: 0.7807 - recall: 0.4762 - val_loss: 0.3939 - val_Accuracy: 0.8076 - val_recall: 0.6073\n",
            "Epoch 92/100\n",
            "22/22 [==============================] - 0s 11ms/step - loss: 0.4446 - Accuracy: 0.7812 - recall: 0.4720 - val_loss: 0.3938 - val_Accuracy: 0.8054 - val_recall: 0.6042\n",
            "Epoch 93/100\n",
            "22/22 [==============================] - 0s 11ms/step - loss: 0.4472 - Accuracy: 0.7784 - recall: 0.4616 - val_loss: 0.3935 - val_Accuracy: 0.8054 - val_recall: 0.6012\n",
            "Epoch 94/100\n",
            "22/22 [==============================] - 0s 12ms/step - loss: 0.4462 - Accuracy: 0.7769 - recall: 0.4582 - val_loss: 0.3933 - val_Accuracy: 0.8061 - val_recall: 0.6042\n",
            "Epoch 95/100\n",
            "22/22 [==============================] - 0s 11ms/step - loss: 0.4479 - Accuracy: 0.7764 - recall: 0.4610 - val_loss: 0.3935 - val_Accuracy: 0.8099 - val_recall: 0.6103\n",
            "Epoch 96/100\n",
            "22/22 [==============================] - 0s 11ms/step - loss: 0.4471 - Accuracy: 0.7799 - recall: 0.4616 - val_loss: 0.3939 - val_Accuracy: 0.8099 - val_recall: 0.6133\n",
            "Epoch 97/100\n",
            "22/22 [==============================] - 0s 11ms/step - loss: 0.4482 - Accuracy: 0.7771 - recall: 0.4568 - val_loss: 0.3937 - val_Accuracy: 0.8076 - val_recall: 0.6012\n",
            "Epoch 98/100\n",
            "22/22 [==============================] - 0s 11ms/step - loss: 0.4435 - Accuracy: 0.7781 - recall: 0.4623 - val_loss: 0.3936 - val_Accuracy: 0.8076 - val_recall: 0.6042\n",
            "Epoch 99/100\n",
            "22/22 [==============================] - 0s 12ms/step - loss: 0.4482 - Accuracy: 0.7769 - recall: 0.4575 - val_loss: 0.3934 - val_Accuracy: 0.8061 - val_recall: 0.6073\n",
            "Epoch 100/100\n",
            "22/22 [==============================] - 0s 11ms/step - loss: 0.4467 - Accuracy: 0.7859 - recall: 0.4845 - val_loss: 0.3938 - val_Accuracy: 0.8046 - val_recall: 0.6103\n"
          ]
        }
      ]
    },
    {
      "cell_type": "markdown",
      "metadata": {
        "id": "epEWXdvdN9oV"
      },
      "source": [
        "### Evaluasi Model"
      ]
    },
    {
      "cell_type": "code",
      "source": [
        "history.history.keys()"
      ],
      "metadata": {
        "colab": {
          "base_uri": "https://localhost:8080/"
        },
        "id": "dbqYGPsXh9Ue",
        "outputId": "74a3b82d-9f4b-4132-8b4c-7939163f2c73"
      },
      "execution_count": 66,
      "outputs": [
        {
          "output_type": "execute_result",
          "data": {
            "text/plain": [
              "dict_keys(['loss', 'Accuracy', 'recall', 'val_loss', 'val_Accuracy', 'val_recall'])"
            ]
          },
          "metadata": {},
          "execution_count": 66
        }
      ]
    },
    {
      "cell_type": "code",
      "source": [
        "# Visualize accuracy and loss for train and validation data\n",
        "\n",
        "acc = history.history['Accuracy']\n",
        "val_acc = history.history['val_Accuracy']\n",
        "loss = history.history['loss']\n",
        "val_loss = history.history['val_loss']\n",
        "rec = history.history['recall']\n",
        "val_rec = history.history['val_recall']\n",
        "epochs = range(1, len(acc) + 1)\n",
        "\n",
        "plt.title('Training and validation accuracy')\n",
        "plt.plot(epochs, acc, 'red', label='Training acc')\n",
        "plt.plot(epochs, val_acc, 'blue', label='Validation acc')\n",
        "plt.legend()\n",
        "\n",
        "plt.figure()\n",
        "plt.title('Training and validation loss')\n",
        "plt.plot(epochs, loss, 'red', label='Training loss')\n",
        "plt.plot(epochs, val_loss, 'blue', label='Validation loss')\n",
        "plt.legend()\n",
        "\n",
        "plt.figure()\n",
        "plt.title('Recall and ValidationRecall')\n",
        "plt.plot(epochs, rec, 'red', label='Recall')\n",
        "plt.plot(epochs, val_rec, 'blue', label='ValidationRecall')\n",
        "\n",
        "plt.legend()\n",
        "plt.show()"
      ],
      "metadata": {
        "colab": {
          "base_uri": "https://localhost:8080/",
          "height": 809
        },
        "id": "75iZ_Cpqh68T",
        "outputId": "020d7c23-c35e-4e24-c5f7-fdeb5e2059a6"
      },
      "execution_count": 67,
      "outputs": [
        {
          "output_type": "display_data",
          "data": {
            "image/png": "[encoded data removed]",
            "text/plain": [
              "<Figure size 432x288 with 1 Axes>"
            ]
          },
          "metadata": {
            "needs_background": "light"
          }
        },
        {
          "output_type": "display_data",
          "data": {
            "image/png": "[encoded data removed]",
            "text/plain": [
              "<Figure size 432x288 with 1 Axes>"
            ]
          },
          "metadata": {
            "needs_background": "light"
          }
        },
        {
          "output_type": "display_data",
          "data": {
            "image/png": "[encoded data removed]",
            "text/plain": [
              "<Figure size 432x288 with 1 Axes>"
            ]
          },
          "metadata": {
            "needs_background": "light"
          }
        }
      ]
    },
    {
      "cell_type": "markdown",
      "source": [
        "Hasil dari improvement model dengan menambahkan hidden layer, Weight initialization, Batch Normalization, dan drop out dapat mengatasi model yang **overfitting**.\n",
        "\n",
        "Berdasarkan grafik diatas untuk metrics Accuracy dan Recall bisa dikatakan **underfitting** karena nilai pada hasil training lebih rendah yang artinya model tidak bisa belajar dengan baik. ini dimungkinkan dikarenakan pemilihan Regularization yang masih kurang tepat kedepannya perlu dilakukan uji coba dengan mengubah Regularization yang ada. Untuk nilai lossnya pada hasil training dan validasinya cukup tinggi dan memiliki perbedaan yang cukup signifikan.\n",
        "\n",
        "Dengan menggunakan Epoch 100 kali didapatkan loss: 0.4467 - Accuracy: 0.7859 - recall: 0.4845 dan untuk nilai validasinya adalah val_loss: 0.3938 - val_Accuracy: 0.8046 - val_recall: 0.6103"
      ],
      "metadata": {
        "id": "Ibuoc9k8BN8X"
      }
    },
    {
      "cell_type": "markdown",
      "metadata": {
        "id": "p81GoHMWN9oV"
      },
      "source": [
        "### Model Saving"
      ]
    },
    {
      "cell_type": "markdown",
      "source": [
        "It is possible to partially save the model. However, here we are going to save the entire model with model.save(). As described in the documentation:\n",
        "\n",
        "You can save an entire model to a single artifact. It will include :\n",
        "- The model's architecture/config\n",
        "- The model's weight values [which were learned during training]\n",
        "- The model's compilation information [if compile] was called\n",
        "- The optimizer and its state, if any [this enables you to restart training where you left]"
      ],
      "metadata": {
        "id": "0CK1iYcPsP6o"
      }
    },
    {
      "cell_type": "code",
      "source": [
        "MODEL_PATH = \"./tf_model\"\n",
        "model.save(MODEL_PATH)"
      ],
      "metadata": {
        "colab": {
          "base_uri": "https://localhost:8080/"
        },
        "id": "8FeyLI1iruzQ",
        "outputId": "52ea8cdb-13f4-41bd-b491-cc8e08e844e5"
      },
      "execution_count": 69,
      "outputs": [
        {
          "output_type": "stream",
          "name": "stdout",
          "text": [
            "INFO:tensorflow:Assets written to: ./tf_model/assets\n"
          ]
        }
      ]
    },
    {
      "cell_type": "code",
      "source": [
        "model_final = tf.keras.models.load_model(MODEL_PATH)"
      ],
      "metadata": {
        "id": "j0R9B7dtr84C"
      },
      "execution_count": 70,
      "outputs": []
    },
    {
      "cell_type": "markdown",
      "source": [
        "Karena terdapat [issue](https://github.com/tensorflow/tensorflow/issues/51911) pada load model dimana input data telah dinormalisasi maka kita tidak gunakan '.h5' "
      ],
      "metadata": {
        "id": "DTZPOBSksaDw"
      }
    },
    {
      "cell_type": "markdown",
      "metadata": {
        "id": "nTU8wdktN9oV"
      },
      "source": [
        "### Model Inference"
      ]
    },
    {
      "cell_type": "code",
      "source": [
        "y_pred_proba = model_final.predict(X_test, verbose=0)[:, 0]\n",
        "y_pred_proba[:5]"
      ],
      "metadata": {
        "colab": {
          "base_uri": "https://localhost:8080/"
        },
        "id": "kMzki8VPtGZo",
        "outputId": "01906e3c-3404-4ddd-9607-b11c2e5b68c8"
      },
      "execution_count": 71,
      "outputs": [
        {
          "output_type": "execute_result",
          "data": {
            "text/plain": [
              "array([0.00908595, 0.13090993, 0.73252857, 0.18894425, 0.19460224],\n",
              "      dtype=float32)"
            ]
          },
          "metadata": {},
          "execution_count": 71
        }
      ]
    },
    {
      "cell_type": "markdown",
      "source": [
        "Karena target kita adalah binary class dimana NoChurn=0 dan Churn=1 maka kita definisikan jika nilai probability > 0.5 maka kita kelompokkan sebagai Churn dan nilai probability <= 0.5 maka kita kelompokkan sebagai NoChurn."
      ],
      "metadata": {
        "id": "w17kcwkBFSMJ"
      }
    },
    {
      "cell_type": "code",
      "source": [
        "# predict the churn values\n",
        "y_pred = model_final.predict(X_test)\n",
        "\n",
        "# unscaling the ypred values \n",
        "y_pred_list = []\n",
        "for i in y_pred:\n",
        "    if i>0.5:\n",
        "        y_pred_list.append(1)\n",
        "    else:\n",
        "        y_pred_list.append(0)"
      ],
      "metadata": {
        "id": "gOYpVkeeE2_p"
      },
      "execution_count": 79,
      "outputs": []
    },
    {
      "cell_type": "code",
      "source": [
        "#make dataframe for comparing the orignal and predict values\n",
        "data = {'orignal_churn':y_test, 'predicted_churn':y_pred_list}\n",
        "df_check = pd.DataFrame(data)\n",
        "df_check.head(10)"
      ],
      "metadata": {
        "colab": {
          "base_uri": "https://localhost:8080/",
          "height": 363
        },
        "id": "k7haT9wfEmBa",
        "outputId": "b530bff5-0819-4419-e6ed-383ae53391f5"
      },
      "execution_count": 80,
      "outputs": [
        {
          "output_type": "execute_result",
          "data": {
            "text/html": [
              "\n",
              "  <div id=\"df-b0521b00-b2f7-4733-8cc2-2791f561c3c0\">\n",
              "    <div class=\"colab-df-container\">\n",
              "      <div>\n",
              "<style scoped>\n",
              "    .dataframe tbody tr th:only-of-type {\n",
              "        vertical-align: middle;\n",
              "    }\n",
              "\n",
              "    .dataframe tbody tr th {\n",
              "        vertical-align: top;\n",
              "    }\n",
              "\n",
              "    .dataframe thead th {\n",
              "        text-align: right;\n",
              "    }\n",
              "</style>\n",
              "<table border=\"1\" class=\"dataframe\">\n",
              "  <thead>\n",
              "    <tr style=\"text-align: right;\">\n",
              "      <th></th>\n",
              "      <th>orignal_churn</th>\n",
              "      <th>predicted_churn</th>\n",
              "    </tr>\n",
              "  </thead>\n",
              "  <tbody>\n",
              "    <tr>\n",
              "      <th>2481</th>\n",
              "      <td>0</td>\n",
              "      <td>0</td>\n",
              "    </tr>\n",
              "    <tr>\n",
              "      <th>6784</th>\n",
              "      <td>0</td>\n",
              "      <td>0</td>\n",
              "    </tr>\n",
              "    <tr>\n",
              "      <th>6125</th>\n",
              "      <td>1</td>\n",
              "      <td>1</td>\n",
              "    </tr>\n",
              "    <tr>\n",
              "      <th>3052</th>\n",
              "      <td>0</td>\n",
              "      <td>0</td>\n",
              "    </tr>\n",
              "    <tr>\n",
              "      <th>4099</th>\n",
              "      <td>0</td>\n",
              "      <td>0</td>\n",
              "    </tr>\n",
              "    <tr>\n",
              "      <th>3223</th>\n",
              "      <td>0</td>\n",
              "      <td>0</td>\n",
              "    </tr>\n",
              "    <tr>\n",
              "      <th>3774</th>\n",
              "      <td>0</td>\n",
              "      <td>0</td>\n",
              "    </tr>\n",
              "    <tr>\n",
              "      <th>3469</th>\n",
              "      <td>0</td>\n",
              "      <td>1</td>\n",
              "    </tr>\n",
              "    <tr>\n",
              "      <th>3420</th>\n",
              "      <td>0</td>\n",
              "      <td>0</td>\n",
              "    </tr>\n",
              "    <tr>\n",
              "      <th>1196</th>\n",
              "      <td>0</td>\n",
              "      <td>0</td>\n",
              "    </tr>\n",
              "  </tbody>\n",
              "</table>\n",
              "</div>\n",
              "      <button class=\"colab-df-convert\" onclick=\"convertToInteractive('df-b0521b00-b2f7-4733-8cc2-2791f561c3c0')\"\n",
              "              title=\"Convert this dataframe to an interactive table.\"\n",
              "              style=\"display:none;\">\n",
              "        \n",
              "  <svg xmlns=\"http://www.w3.org/2000/svg\" height=\"24px\"viewBox=\"0 0 24 24\"\n",
              "       width=\"24px\">\n",
              "    <path d=\"M0 0h24v24H0V0z\" fill=\"none\"/>\n",
              "    <path d=\"M18.56 5.44l.94 2.06.94-2.06 2.06-.94-2.06-.94-.94-2.06-.94 2.06-2.06.94zm-11 1L8.5 8.5l.94-2.06 2.06-.94-2.06-.94L8.5 2.5l-.94 2.06-2.06.94zm10 10l.94 2.06.94-2.06 2.06-.94-2.06-.94-.94-2.06-.94 2.06-2.06.94z\"/><path d=\"M17.41 7.96l-1.37-1.37c-.4-.4-.92-.59-1.43-.59-.52 0-1.04.2-1.43.59L10.3 9.45l-7.72 7.72c-.78.78-.78 2.05 0 2.83L4 21.41c.39.39.9.59 1.41.59.51 0 1.02-.2 1.41-.59l7.78-7.78 2.81-2.81c.8-.78.8-2.07 0-2.86zM5.41 20L4 18.59l7.72-7.72 1.47 1.35L5.41 20z\"/>\n",
              "  </svg>\n",
              "      </button>\n",
              "      \n",
              "  <style>\n",
              "    .colab-df-container {\n",
              "      display:flex;\n",
              "      flex-wrap:wrap;\n",
              "      gap: 12px;\n",
              "    }\n",
              "\n",
              "    .colab-df-convert {\n",
              "      background-color: #E8F0FE;\n",
              "      border: none;\n",
              "      border-radius: 50%;\n",
              "      cursor: pointer;\n",
              "      display: none;\n",
              "      fill: #1967D2;\n",
              "      height: 32px;\n",
              "      padding: 0 0 0 0;\n",
              "      width: 32px;\n",
              "    }\n",
              "\n",
              "    .colab-df-convert:hover {\n",
              "      background-color: #E2EBFA;\n",
              "      box-shadow: 0px 1px 2px rgba(60, 64, 67, 0.3), 0px 1px 3px 1px rgba(60, 64, 67, 0.15);\n",
              "      fill: #174EA6;\n",
              "    }\n",
              "\n",
              "    [theme=dark] .colab-df-convert {\n",
              "      background-color: #3B4455;\n",
              "      fill: #D2E3FC;\n",
              "    }\n",
              "\n",
              "    [theme=dark] .colab-df-convert:hover {\n",
              "      background-color: #434B5C;\n",
              "      box-shadow: 0px 1px 3px 1px rgba(0, 0, 0, 0.15);\n",
              "      filter: drop-shadow(0px 1px 2px rgba(0, 0, 0, 0.3));\n",
              "      fill: #FFFFFF;\n",
              "    }\n",
              "  </style>\n",
              "\n",
              "      <script>\n",
              "        const buttonEl =\n",
              "          document.querySelector('#df-b0521b00-b2f7-4733-8cc2-2791f561c3c0 button.colab-df-convert');\n",
              "        buttonEl.style.display =\n",
              "          google.colab.kernel.accessAllowed ? 'block' : 'none';\n",
              "\n",
              "        async function convertToInteractive(key) {\n",
              "          const element = document.querySelector('#df-b0521b00-b2f7-4733-8cc2-2791f561c3c0');\n",
              "          const dataTable =\n",
              "            await google.colab.kernel.invokeFunction('convertToInteractive',\n",
              "                                                     [key], {});\n",
              "          if (!dataTable) return;\n",
              "\n",
              "          const docLinkHtml = 'Like what you see? Visit the ' +\n",
              "            '<a target=\"_blank\" href=https://colab.research.google.com/notebooks/data_table.ipynb>data table notebook</a>'\n",
              "            + ' to learn more about interactive tables.';\n",
              "          element.innerHTML = '';\n",
              "          dataTable['output_type'] = 'display_data';\n",
              "          await google.colab.output.renderOutput(dataTable, element);\n",
              "          const docLink = document.createElement('div');\n",
              "          docLink.innerHTML = docLinkHtml;\n",
              "          element.appendChild(docLink);\n",
              "        }\n",
              "      </script>\n",
              "    </div>\n",
              "  </div>\n",
              "  "
            ],
            "text/plain": [
              "      orignal_churn  predicted_churn\n",
              "2481              0                0\n",
              "6784              0                0\n",
              "6125              1                1\n",
              "3052              0                0\n",
              "4099              0                0\n",
              "3223              0                0\n",
              "3774              0                0\n",
              "3469              0                1\n",
              "3420              0                0\n",
              "1196              0                0"
            ]
          },
          "metadata": {},
          "execution_count": 80
        }
      ]
    },
    {
      "cell_type": "markdown",
      "metadata": {
        "id": "evHfgpgoN9oV"
      },
      "source": [
        "### Pengambilan Kesimpulan"
      ]
    },
    {
      "cell_type": "markdown",
      "source": [
        "\n",
        "\n",
        "A. Customer Churn mayoritas adalah Customer:\n",
        "\n",
        "1. Tidak mempunyai pasangan dan tidak memiliki tanggungan atau mempunyai pasangan namun belum memiliki tanggungan\n",
        "2. Bukan Senior Citizens\n",
        "3. Type contracts Month-to-month\n",
        "4. Metode pembayaran dengan menggunakan Mailed check\n",
        "5. Type Internet service dengan fiberoptic\n",
        "6. Tidak disediakan device protection, online security, tech support, dan onlinebackup. sedangkan untuk tersedianya streamingmovies maupun streamingtv\n",
        "perbedaan antara customer churn dengan ada atau tidak ada layanan streaming tersebut perbedaanya tidak cukup besar\n",
        "7. Monthly charges bulanan tinggi lebih dari 60\n",
        "8. Total charges kurang dari 2000\n",
        "9. Tenure kurang dari 10 bulan\n",
        "\n",
        "\n",
        "B. Data untuk Customer Churn adalah data imbalanced dengan 27% Churn and 73% NoChurn, sehingga kita gunakan recall sebagai metrics evaluasi dengan tujuan meminimalkan kesalahan prediksi untuk customer yang tidak churn sedangkan faktanya adalah churn dengan tujuan kita tidak ingin kehilangan customer yang sudah berlangganan. \n",
        "Model pertama yang kita buat overfitting itu bisa dilihat dari perfomance metrics evaluasi Recall pada training yang jauh lebih besar dari recall validation dan begitu juga loss yang didapatkan pada training dibanding dengan loss pada validation. Improvent model dengan menambahkan hidden layer, Weight initialization, Batch Normalization, dan drop out namun model kita menjadi Underfitting dengan metrics evalusi recall pada data training adalah 0.4845 cukup berbeda jauh dengan recall pada data validation 0.6103.\n",
        "\n",
        "\n",
        "\n",
        "\n",
        "\n",
        "\n",
        "\n",
        "\n",
        "\n",
        "\n",
        "\n",
        "\n"
      ],
      "metadata": {
        "id": "tE6m7Rwe31WJ"
      }
    },
    {
      "cell_type": "markdown",
      "source": [
        "### Future Work"
      ],
      "metadata": {
        "id": "G5Un25hvKz4g"
      }
    },
    {
      "cell_type": "markdown",
      "source": [
        "Dikarenakan model kita tidak cukup bagus dengan nilai recall yang rendah maka kedepannya jika dapat waktu yang lebih kita perlu evaluasi:\n",
        "\n",
        "1. Arsitektur modelnya yaitu jumlah hidden layer, parameter weight initialization, batch normalization, drop out, activation function dan lain sebagainya agar modelnya tidak overfitting maupun underfitting atau good fit\n",
        "2. Penggunaan full pipeline dengan pemilihan parameter yang tepat\n",
        "3. Penggunaan CallBacks"
      ],
      "metadata": {
        "id": "Ei4fZYV0LCI4"
      }
    },
    {
      "cell_type": "code",
      "source": [
        ""
      ],
      "metadata": {
        "id": "u6J8ZNyKe8le"
      },
      "execution_count": null,
      "outputs": []
    }
  ],
  "metadata": {
    "interpreter": {
      "hash": "110f0df45e1191da7809021d0b497e6f6071b07328a6e239c9d83d6f6aa1e854"
    },
    "kernelspec": {
      "display_name": "Python 3.8.8 64-bit",
      "language": "python",
      "name": "python3"
    },
    "language_info": {
      "codemirror_mode": {
        "name": "ipython",
        "version": 3
      },
      "file_extension": ".py",
      "mimetype": "text/x-python",
      "name": "python",
      "nbconvert_exporter": "python",
      "pygments_lexer": "ipython3",
      "version": "3.8.8"
    },
    "orig_nbformat": 4,
    "colab": {
      "name": "Copy of h8dsft_Milestone1P2.ipynb",
      "provenance": [],
      "collapsed_sections": []
    },
    "accelerator": "GPU"
  },
  "nbformat": 4,
  "nbformat_minor": 0
}