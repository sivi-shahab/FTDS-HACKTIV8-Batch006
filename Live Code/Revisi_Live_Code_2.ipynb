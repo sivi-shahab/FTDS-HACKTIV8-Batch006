{
  "nbformat": 4,
  "nbformat_minor": 0,
  "metadata": {
    "colab": {
      "name": "Revisi Live Code 2.ipynb",
      "provenance": [],
      "collapsed_sections": []
    },
    "kernelspec": {
      "name": "python3",
      "display_name": "Python 3"
    },
    "language_info": {
      "name": "python"
    }
  },
  "cells": [
    {
      "cell_type": "markdown",
      "metadata": {
        "id": "cCxxVpihjjDB"
      },
      "source": [
        "##Perkenalan\n",
        "\n",
        "Nama: Sivi Almanaf Ali Shahab\n",
        "\n",
        "Batch: FTDS Batch006"
      ]
    },
    {
      "cell_type": "markdown",
      "metadata": {
        "id": "9skkrbI0jp-Z"
      },
      "source": [
        "###Problem"
      ]
    },
    {
      "cell_type": "markdown",
      "metadata": {
        "id": "mcJ7pdcrjy5o"
      },
      "source": [
        "1. Salah satu ruang lingkup Natural Language Processing (NLP) adalah mengukur kesamaan konteks antar kalimat. Untuk mengetahui dua kalimat memiliki konteks yang sama atau tidak, kita mengukurnya dengan cosine similarity. Cosine similarity sejatinya mengukur 'jarak' antar dua vektor yang mana vektor-vektor tersebut berisikan angka-angka, sehingga kita perlu menerjemahkan kalimat menjadi list angka (encoding). Ada banyak metode encoding yang dapat digunakan untuk menerjemahkan kaliamat ke angka, salah satunya adalah dengan menghitung frekuensi kemunculan kata pada setiap kalimat.\n",
        "\n",
        "Detail soal bisa dilihat [disini](https://github.com/H8-Assignments-Bay/ftds006---live-code-2-sivi-shahab)\n",
        "\n",
        "Kalimat 1: Julie loves me more than Linda loves me\n",
        "\n",
        "Kalimat 2: Jane likes me more than Julie loves me\n",
        "\n",
        "Buatlah vektor yang merupakan representasi masing-masing kalimat berdasarkan tabel di atas dan hitung cosine similarity antar kedua vektor. Apakah kedua kalimat memiliki konteks yang serupa? jika iya, mengapa dan jika tidak, mengapa (jawab berdasarkan hasil perhitungan cosine similaritynya)?"
      ]
    },
    {
      "cell_type": "markdown",
      "metadata": {
        "id": "YX9uQbcykXvm"
      },
      "source": [
        "###Load Library"
      ]
    },
    {
      "cell_type": "code",
      "metadata": {
        "id": "0r0NTvpokWf6"
      },
      "source": [
        "# import library yang akan dibutuhkan\n",
        "import pandas as pd\n",
        "import numpy as np\n",
        "import sympy as sy\n",
        "import matplotlib.pyplot as plt\n",
        "from numpy import linalg as LA"
      ],
      "execution_count": 12,
      "outputs": []
    },
    {
      "cell_type": "markdown",
      "metadata": {
        "id": "OauNA1gslPyQ"
      },
      "source": [
        "Vektor represntasi dari Kalimat 1 dan Kalimat 2 adalah sebagai berikut:"
      ]
    },
    {
      "cell_type": "code",
      "metadata": {
        "colab": {
          "base_uri": "https://localhost:8080/"
        },
        "id": "irUSe-FvgvX8",
        "outputId": "8b72ce82-9dfa-42ec-c68a-746be755a161"
      },
      "source": [
        "kalimat_1 = np.array([2, 0, 1, 1, 0, 2, 1, 1])\n",
        "kalimat_1"
      ],
      "execution_count": 3,
      "outputs": [
        {
          "output_type": "execute_result",
          "data": {
            "text/plain": [
              "array([2, 0, 1, 1, 0, 2, 1, 1])"
            ]
          },
          "metadata": {},
          "execution_count": 3
        }
      ]
    },
    {
      "cell_type": "code",
      "metadata": {
        "colab": {
          "base_uri": "https://localhost:8080/"
        },
        "id": "uuwU-Wtfk73-",
        "outputId": "aa0b4cd2-46c8-4f76-d756-2d11553fbfd7"
      },
      "source": [
        "kalimat_2 = np.array([2, 1, 1, 0, 1, 1, 1, 1])\n",
        "kalimat_2"
      ],
      "execution_count": 4,
      "outputs": [
        {
          "output_type": "execute_result",
          "data": {
            "text/plain": [
              "array([2, 1, 1, 0, 1, 1, 1, 1])"
            ]
          },
          "metadata": {},
          "execution_count": 4
        }
      ]
    },
    {
      "cell_type": "markdown",
      "metadata": {
        "id": "nXsEXrKUl7Sz"
      },
      "source": [
        "Penjelasan tentang Cosine similaity bisa di cek disini https://en.wikipedia.org/wiki/Cosine_similarity"
      ]
    },
    {
      "cell_type": "markdown",
      "metadata": {
        "id": "PxOWSLnamNDU"
      },
      "source": [
        "Sehingga dari definisi diatas kita bisa tulis kedalam persamaan dibawah ini:"
      ]
    },
    {
      "cell_type": "code",
      "metadata": {
        "colab": {
          "base_uri": "https://localhost:8080/"
        },
        "id": "9EXfnIAFCU-K",
        "outputId": "24d4f66e-8b46-4bc2-deff-1d0c70f82411"
      },
      "source": [
        "AdotB = kalimat_1.dot(kalimat_2)\n",
        "AdotB"
      ],
      "execution_count": 20,
      "outputs": [
        {
          "output_type": "execute_result",
          "data": {
            "text/plain": [
              "9"
            ]
          },
          "metadata": {},
          "execution_count": 20
        }
      ]
    },
    {
      "cell_type": "code",
      "metadata": {
        "colab": {
          "base_uri": "https://localhost:8080/"
        },
        "id": "MB-mEEFIEDXo",
        "outputId": "0f96a160-319f-469c-bfc3-f7f9ca115f70"
      },
      "source": [
        "kalimat_1@kalimat_2"
      ],
      "execution_count": 21,
      "outputs": [
        {
          "output_type": "execute_result",
          "data": {
            "text/plain": [
              "9"
            ]
          },
          "metadata": {},
          "execution_count": 21
        }
      ]
    },
    {
      "cell_type": "code",
      "metadata": {
        "colab": {
          "base_uri": "https://localhost:8080/"
        },
        "id": "9prHF89hCknC",
        "outputId": "461e3d87-23c3-499f-b60a-96fbb042b8bf"
      },
      "source": [
        "normA = LA.norm(kalimat_1)\n",
        "normA"
      ],
      "execution_count": 22,
      "outputs": [
        {
          "output_type": "execute_result",
          "data": {
            "text/plain": [
              "3.4641016151377544"
            ]
          },
          "metadata": {},
          "execution_count": 22
        }
      ]
    },
    {
      "cell_type": "code",
      "metadata": {
        "colab": {
          "base_uri": "https://localhost:8080/"
        },
        "id": "7atbvjNXEIUA",
        "outputId": "62389c74-d9f6-4081-fe9c-38aa2edda239"
      },
      "source": [
        "np.linalg.norm(kalimat_1)"
      ],
      "execution_count": 23,
      "outputs": [
        {
          "output_type": "execute_result",
          "data": {
            "text/plain": [
              "3.4641016151377544"
            ]
          },
          "metadata": {},
          "execution_count": 23
        }
      ]
    },
    {
      "cell_type": "code",
      "metadata": {
        "colab": {
          "base_uri": "https://localhost:8080/"
        },
        "id": "IRplp-MlCuQJ",
        "outputId": "92df53ff-e82b-44aa-9e7c-9f2e21fa5691"
      },
      "source": [
        "normB = LA.norm(kalimat_2)\n",
        "normB"
      ],
      "execution_count": 24,
      "outputs": [
        {
          "output_type": "execute_result",
          "data": {
            "text/plain": [
              "3.1622776601683795"
            ]
          },
          "metadata": {},
          "execution_count": 24
        }
      ]
    },
    {
      "cell_type": "code",
      "metadata": {
        "colab": {
          "base_uri": "https://localhost:8080/"
        },
        "id": "kieZiHnwEXtw",
        "outputId": "f8c4f27f-4de5-4e2a-8c5e-2596e267d22a"
      },
      "source": [
        "np.linalg.norm(kalimat_2)"
      ],
      "execution_count": 27,
      "outputs": [
        {
          "output_type": "execute_result",
          "data": {
            "text/plain": [
              "3.1622776601683795"
            ]
          },
          "metadata": {},
          "execution_count": 27
        }
      ]
    },
    {
      "cell_type": "code",
      "metadata": {
        "colab": {
          "base_uri": "https://localhost:8080/"
        },
        "id": "tg8IsP7vk_B1",
        "outputId": "9cac51dc-154e-4402-9dea-bb7e3ed7d75e"
      },
      "source": [
        "# Mencari sudut theta dengan menggunakan formula berikut ini\n",
        "\n",
        "cosine_similarity =  AdotB/(normA*normB)\n",
        "cosine_similarity"
      ],
      "execution_count": 30,
      "outputs": [
        {
          "output_type": "execute_result",
          "data": {
            "text/plain": [
              "0.8215838362577491"
            ]
          },
          "metadata": {},
          "execution_count": 30
        }
      ]
    },
    {
      "cell_type": "code",
      "metadata": {
        "colab": {
          "base_uri": "https://localhost:8080/"
        },
        "id": "CfTBhB3gDqPP",
        "outputId": "402106f2-6ddd-41f7-96d4-681a5e15fd98"
      },
      "source": [
        "cosine_similarity=(kalimat_1@kalimat_2)/(np.linalg.norm(kalimat_1)*np.linalg.norm(kalimat_2))\n",
        "print(cosine_similarity)"
      ],
      "execution_count": 31,
      "outputs": [
        {
          "output_type": "stream",
          "name": "stdout",
          "text": [
            "0.8215838362577491\n"
          ]
        }
      ]
    },
    {
      "cell_type": "markdown",
      "metadata": {
        "id": "WZZt6KLDnfSK"
      },
      "source": [
        "Untuk pencococokan teks, vektor atribut Kalimat 1 dan Kalimat 2 biasanya merupakan vektor frekuensi istilah dari dokumen. Kemiripan kosinus dapat dilihat sebagai metode normalisasi panjang dokumen sebagai perbandingan\n",
        "\n",
        "Dalam hal pencarian informasi, kesamaan kosinus dari dua dokumen akan berkisar dari 0 hingga 1, karena istilah frekuensi tidak boleh negatif. Dengan 0 menunjukkan ketidakmiripan, sedangakan nilai diantara 0 hingga 1 kesamaaan atau ketidakmiripan (biasanya kurang dari sama dengan 0.5 kurang mirip, dan lebih dari 0.5 cukup mirip/ahampir mirip) dan 1 yang berarti sama persis."
      ]
    },
    {
      "cell_type": "markdown",
      "metadata": {
        "id": "eC-4bbMipxqv"
      },
      "source": [
        "Berdasarkan dari hasil perhitungan cosine similarity diperoleh nilai **82%** dapat dikatakan bahwa kedua kalimat memiliki konteks yang hampir serupa karena memiliki korelasi yang cukup kuat."
      ]
    },
    {
      "cell_type": "markdown",
      "metadata": {
        "id": "0DMHUFlqqphx"
      },
      "source": [
        "###Problem"
      ]
    },
    {
      "cell_type": "markdown",
      "metadata": {
        "id": "ZhCIJxpEqg2i"
      },
      "source": [
        "2. Menggunakan konsep integral untuk menghitung luas dibawah kurva, tentukan luas negara Swiss jika diketahui koordinat batas-batasnya! Dataset koordinat batas Swiss dapat diakses pada link berikut: https://raw.githubusercontent.com/fahmimnalfrzki/Dataset/main/Swiss_boundaries.txt?token=AEZDEHXBTS7OMF32RTYPKZDA2FELA"
      ]
    },
    {
      "cell_type": "markdown",
      "metadata": {
        "id": "I3UbM-dUrVMB"
      },
      "source": [
        "#### Load Data"
      ]
    },
    {
      "cell_type": "code",
      "metadata": {
        "colab": {
          "base_uri": "https://localhost:8080/",
          "height": 206
        },
        "id": "e2t2BmOm-XvT",
        "outputId": "80717637-71c2-4eea-f8be-248c23f5e50a"
      },
      "source": [
        "df = pd.read_csv('https://raw.githubusercontent.com/fahmimnalfrzki/Dataset/main/Swiss_boundaries.txt?token=AEZDEHXBTS7OMF32RTYPKZDA2FELA')\n",
        "df.head()"
      ],
      "execution_count": 32,
      "outputs": [
        {
          "output_type": "execute_result",
          "data": {
            "text/html": [
              "<div>\n",
              "<style scoped>\n",
              "    .dataframe tbody tr th:only-of-type {\n",
              "        vertical-align: middle;\n",
              "    }\n",
              "\n",
              "    .dataframe tbody tr th {\n",
              "        vertical-align: top;\n",
              "    }\n",
              "\n",
              "    .dataframe thead th {\n",
              "        text-align: right;\n",
              "    }\n",
              "</style>\n",
              "<table border=\"1\" class=\"dataframe\">\n",
              "  <thead>\n",
              "    <tr style=\"text-align: right;\">\n",
              "      <th></th>\n",
              "      <th>longitude</th>\n",
              "      <th>latitude</th>\n",
              "    </tr>\n",
              "  </thead>\n",
              "  <tbody>\n",
              "    <tr>\n",
              "      <th>0</th>\n",
              "      <td>9.56672</td>\n",
              "      <td>47.54045</td>\n",
              "    </tr>\n",
              "    <tr>\n",
              "      <th>1</th>\n",
              "      <td>9.55980</td>\n",
              "      <td>47.50209</td>\n",
              "    </tr>\n",
              "    <tr>\n",
              "      <th>2</th>\n",
              "      <td>9.59660</td>\n",
              "      <td>47.46944</td>\n",
              "    </tr>\n",
              "    <tr>\n",
              "      <th>3</th>\n",
              "      <td>9.64965</td>\n",
              "      <td>47.45861</td>\n",
              "    </tr>\n",
              "    <tr>\n",
              "      <th>4</th>\n",
              "      <td>9.67035</td>\n",
              "      <td>47.39069</td>\n",
              "    </tr>\n",
              "  </tbody>\n",
              "</table>\n",
              "</div>"
            ],
            "text/plain": [
              "   longitude  latitude\n",
              "0    9.56672  47.54045\n",
              "1    9.55980  47.50209\n",
              "2    9.59660  47.46944\n",
              "3    9.64965  47.45861\n",
              "4    9.67035  47.39069"
            ]
          },
          "metadata": {},
          "execution_count": 32
        }
      ]
    },
    {
      "cell_type": "code",
      "metadata": {
        "id": "p7fijttTE1Yn"
      },
      "source": [
        "df_swiss = df.copy()"
      ],
      "execution_count": 36,
      "outputs": []
    },
    {
      "cell_type": "code",
      "metadata": {
        "id": "HW1XTkrlFNeH"
      },
      "source": [
        "df_swiss.sort_values(by='longitude', ascending=True, inplace=True)"
      ],
      "execution_count": 39,
      "outputs": []
    },
    {
      "cell_type": "code",
      "metadata": {
        "colab": {
          "base_uri": "https://localhost:8080/",
          "height": 206
        },
        "id": "lnImTkseGkKN",
        "outputId": "2cef65e4-1fe1-4228-f165-721bd5fc64a9"
      },
      "source": [
        "df_swiss.head()"
      ],
      "execution_count": 40,
      "outputs": [
        {
          "output_type": "execute_result",
          "data": {
            "text/html": [
              "<div>\n",
              "<style scoped>\n",
              "    .dataframe tbody tr th:only-of-type {\n",
              "        vertical-align: middle;\n",
              "    }\n",
              "\n",
              "    .dataframe tbody tr th {\n",
              "        vertical-align: top;\n",
              "    }\n",
              "\n",
              "    .dataframe thead th {\n",
              "        text-align: right;\n",
              "    }\n",
              "</style>\n",
              "<table border=\"1\" class=\"dataframe\">\n",
              "  <thead>\n",
              "    <tr style=\"text-align: right;\">\n",
              "      <th></th>\n",
              "      <th>longitude</th>\n",
              "      <th>latitude</th>\n",
              "    </tr>\n",
              "  </thead>\n",
              "  <tbody>\n",
              "    <tr>\n",
              "      <th>169</th>\n",
              "      <td>5.96701</td>\n",
              "      <td>46.20729</td>\n",
              "    </tr>\n",
              "    <tr>\n",
              "      <th>170</th>\n",
              "      <td>5.98139</td>\n",
              "      <td>46.22194</td>\n",
              "    </tr>\n",
              "    <tr>\n",
              "      <th>168</th>\n",
              "      <td>5.99639</td>\n",
              "      <td>46.14694</td>\n",
              "    </tr>\n",
              "    <tr>\n",
              "      <th>171</th>\n",
              "      <td>6.00917</td>\n",
              "      <td>46.23389</td>\n",
              "    </tr>\n",
              "    <tr>\n",
              "      <th>172</th>\n",
              "      <td>6.03000</td>\n",
              "      <td>46.24139</td>\n",
              "    </tr>\n",
              "  </tbody>\n",
              "</table>\n",
              "</div>"
            ],
            "text/plain": [
              "     longitude  latitude\n",
              "169    5.96701  46.20729\n",
              "170    5.98139  46.22194\n",
              "168    5.99639  46.14694\n",
              "171    6.00917  46.23389\n",
              "172    6.03000  46.24139"
            ]
          },
          "metadata": {},
          "execution_count": 40
        }
      ]
    },
    {
      "cell_type": "code",
      "metadata": {
        "id": "hs6ERwnEGrQi"
      },
      "source": [
        "index = []\n",
        "for j in range(len(df_swiss['longitude'])):\n",
        "  index.append(j)\n",
        "  "
      ],
      "execution_count": 42,
      "outputs": []
    },
    {
      "cell_type": "code",
      "metadata": {
        "colab": {
          "base_uri": "https://localhost:8080/",
          "height": 206
        },
        "id": "Ar0G_TN-IXi5",
        "outputId": "b95f3a0b-d74d-4ce1-f307-bbadd506a592"
      },
      "source": [
        "df_swiss_sort = pd.DataFrame(({'index': index,\n",
        "                   'longitude': df_swiss['longitude'],\n",
        "                   'latitude': df_swiss['latitude']}))\n",
        "df_swiss_sort.head()"
      ],
      "execution_count": 53,
      "outputs": [
        {
          "output_type": "execute_result",
          "data": {
            "text/html": [
              "<div>\n",
              "<style scoped>\n",
              "    .dataframe tbody tr th:only-of-type {\n",
              "        vertical-align: middle;\n",
              "    }\n",
              "\n",
              "    .dataframe tbody tr th {\n",
              "        vertical-align: top;\n",
              "    }\n",
              "\n",
              "    .dataframe thead th {\n",
              "        text-align: right;\n",
              "    }\n",
              "</style>\n",
              "<table border=\"1\" class=\"dataframe\">\n",
              "  <thead>\n",
              "    <tr style=\"text-align: right;\">\n",
              "      <th></th>\n",
              "      <th>index</th>\n",
              "      <th>longitude</th>\n",
              "      <th>latitude</th>\n",
              "    </tr>\n",
              "  </thead>\n",
              "  <tbody>\n",
              "    <tr>\n",
              "      <th>169</th>\n",
              "      <td>0</td>\n",
              "      <td>5.96701</td>\n",
              "      <td>46.20729</td>\n",
              "    </tr>\n",
              "    <tr>\n",
              "      <th>170</th>\n",
              "      <td>1</td>\n",
              "      <td>5.98139</td>\n",
              "      <td>46.22194</td>\n",
              "    </tr>\n",
              "    <tr>\n",
              "      <th>168</th>\n",
              "      <td>2</td>\n",
              "      <td>5.99639</td>\n",
              "      <td>46.14694</td>\n",
              "    </tr>\n",
              "    <tr>\n",
              "      <th>171</th>\n",
              "      <td>3</td>\n",
              "      <td>6.00917</td>\n",
              "      <td>46.23389</td>\n",
              "    </tr>\n",
              "    <tr>\n",
              "      <th>172</th>\n",
              "      <td>4</td>\n",
              "      <td>6.03000</td>\n",
              "      <td>46.24139</td>\n",
              "    </tr>\n",
              "  </tbody>\n",
              "</table>\n",
              "</div>"
            ],
            "text/plain": [
              "     index  longitude  latitude\n",
              "169      0    5.96701  46.20729\n",
              "170      1    5.98139  46.22194\n",
              "168      2    5.99639  46.14694\n",
              "171      3    6.00917  46.23389\n",
              "172      4    6.03000  46.24139"
            ]
          },
          "metadata": {},
          "execution_count": 53
        }
      ]
    },
    {
      "cell_type": "code",
      "metadata": {
        "colab": {
          "base_uri": "https://localhost:8080/",
          "height": 238
        },
        "id": "YBYyKZ8mJUm2",
        "outputId": "6803da3a-f8a8-47b5-81f8-c1040cae46bc"
      },
      "source": [
        "df_swiss_sort.set_index('index', inplace=True)\n",
        "df_swiss_sort.head()"
      ],
      "execution_count": 54,
      "outputs": [
        {
          "output_type": "execute_result",
          "data": {
            "text/html": [
              "<div>\n",
              "<style scoped>\n",
              "    .dataframe tbody tr th:only-of-type {\n",
              "        vertical-align: middle;\n",
              "    }\n",
              "\n",
              "    .dataframe tbody tr th {\n",
              "        vertical-align: top;\n",
              "    }\n",
              "\n",
              "    .dataframe thead th {\n",
              "        text-align: right;\n",
              "    }\n",
              "</style>\n",
              "<table border=\"1\" class=\"dataframe\">\n",
              "  <thead>\n",
              "    <tr style=\"text-align: right;\">\n",
              "      <th></th>\n",
              "      <th>longitude</th>\n",
              "      <th>latitude</th>\n",
              "    </tr>\n",
              "    <tr>\n",
              "      <th>index</th>\n",
              "      <th></th>\n",
              "      <th></th>\n",
              "    </tr>\n",
              "  </thead>\n",
              "  <tbody>\n",
              "    <tr>\n",
              "      <th>0</th>\n",
              "      <td>5.96701</td>\n",
              "      <td>46.20729</td>\n",
              "    </tr>\n",
              "    <tr>\n",
              "      <th>1</th>\n",
              "      <td>5.98139</td>\n",
              "      <td>46.22194</td>\n",
              "    </tr>\n",
              "    <tr>\n",
              "      <th>2</th>\n",
              "      <td>5.99639</td>\n",
              "      <td>46.14694</td>\n",
              "    </tr>\n",
              "    <tr>\n",
              "      <th>3</th>\n",
              "      <td>6.00917</td>\n",
              "      <td>46.23389</td>\n",
              "    </tr>\n",
              "    <tr>\n",
              "      <th>4</th>\n",
              "      <td>6.03000</td>\n",
              "      <td>46.24139</td>\n",
              "    </tr>\n",
              "  </tbody>\n",
              "</table>\n",
              "</div>"
            ],
            "text/plain": [
              "       longitude  latitude\n",
              "index                     \n",
              "0        5.96701  46.20729\n",
              "1        5.98139  46.22194\n",
              "2        5.99639  46.14694\n",
              "3        6.00917  46.23389\n",
              "4        6.03000  46.24139"
            ]
          },
          "metadata": {},
          "execution_count": 54
        }
      ]
    },
    {
      "cell_type": "markdown",
      "metadata": {
        "id": "e0s8xgj8ukxw"
      },
      "source": [
        "**Hint dan Note:**\n",
        "\n",
        "Longitude adalah sumbu x dan latitude adalah sumbu y nya.\n",
        "Wilayah Swiss dapat dibagi menjadi dua bagian yaitu Northern dan Southern (dapat menggunakan acuan nilai tengah latitude dimana nilai maksimum ditambah nilai minimum lalu dibagi dua. Di atas nilai tengah northern dan di bawah nilai tengah southern) supaya mempermudah dalam menghitung Integral\n",
        "Tidak perlu memperhatikan satuan\n"
      ]
    },
    {
      "cell_type": "code",
      "metadata": {
        "id": "vDuxcKbnuWZv"
      },
      "source": [
        "x = df_swiss_sort['longitude']\n",
        "y = df_swiss_sort['latitude']"
      ],
      "execution_count": 56,
      "outputs": []
    },
    {
      "cell_type": "code",
      "metadata": {
        "colab": {
          "base_uri": "https://localhost:8080/"
        },
        "id": "3a2t0hknvA3n",
        "outputId": "fa56e13c-4fe3-4252-af38-725900c9b9ab"
      },
      "source": [
        "print(x.shape)\n",
        "print(y.shape)"
      ],
      "execution_count": 57,
      "outputs": [
        {
          "output_type": "stream",
          "name": "stdout",
          "text": [
            "(278,)\n",
            "(278,)\n"
          ]
        }
      ]
    },
    {
      "cell_type": "code",
      "metadata": {
        "id": "XsIsUzndvSfk"
      },
      "source": [
        "#convert pandas to numpy array\n",
        "np_x = x.to_numpy()\n",
        "np_y = y.to_numpy()"
      ],
      "execution_count": 58,
      "outputs": []
    },
    {
      "cell_type": "code",
      "metadata": {
        "colab": {
          "base_uri": "https://localhost:8080/"
        },
        "id": "O7JQ0VXNs3CW",
        "outputId": "ec84ce16-a6e9-490c-9e25-f26786011332"
      },
      "source": [
        "max_y = np.amax(np_y)\n",
        "print(max_y)\n",
        "min_y = np.amin(np_y)\n",
        "print(min_y)"
      ],
      "execution_count": 60,
      "outputs": [
        {
          "output_type": "stream",
          "name": "stdout",
          "text": [
            "47.80666000000008\n",
            "45.82944000000003\n"
          ]
        }
      ]
    },
    {
      "cell_type": "code",
      "metadata": {
        "colab": {
          "base_uri": "https://localhost:8080/"
        },
        "id": "ctCR1i4TxcAC",
        "outputId": "8d8087ba-0fac-40d7-ee15-011732c49275"
      },
      "source": [
        "nilai_tengah_y = (max_y+min_y)/2\n",
        "print(nilai_tengah_y)"
      ],
      "execution_count": 61,
      "outputs": [
        {
          "output_type": "stream",
          "name": "stdout",
          "text": [
            "46.818050000000056\n"
          ]
        }
      ]
    },
    {
      "cell_type": "code",
      "metadata": {
        "id": "U-IRVkkGxrza"
      },
      "source": [
        "index_northern=[]\n",
        "index_southern=[]\n",
        "for i in range(len(x)):\n",
        "  if y[i] > nilai_tengah_y:\n",
        "    index_northern.append(i)\n",
        "  else:\n",
        "    index_southern.append(i)\n"
      ],
      "execution_count": 62,
      "outputs": []
    },
    {
      "cell_type": "code",
      "metadata": {
        "colab": {
          "base_uri": "https://localhost:8080/"
        },
        "id": "KPyO89d_yotW",
        "outputId": "1ac2fb76-d664-4f9d-9619-a447595cf10d"
      },
      "source": [
        "print(\"index northern: \", index_northern)\n",
        "print('--'*100)\n",
        "print(\"index southern: \", index_southern)"
      ],
      "execution_count": 63,
      "outputs": [
        {
          "output_type": "stream",
          "name": "stdout",
          "text": [
            "index northern:  [27, 29, 32, 33, 34, 36, 37, 41, 45, 46, 48, 49, 51, 52, 53, 54, 56, 61, 62, 65, 66, 68, 70, 71, 72, 73, 75, 77, 78, 80, 81, 82, 83, 85, 86, 87, 88, 89, 90, 92, 93, 94, 95, 98, 104, 108, 109, 113, 114, 115, 119, 120, 121, 123, 130, 131, 132, 133, 134, 135, 136, 137, 138, 139, 140, 141, 142, 143, 145, 146, 147, 150, 152, 153, 155, 156, 157, 158, 162, 165, 166, 168, 169, 172, 174, 177, 180, 184, 192, 202, 203, 204, 205, 206, 207, 208, 209, 210, 212, 213, 214, 216, 217, 218, 220, 221, 222, 224, 225, 226, 227, 229, 233, 234, 235, 236, 238, 246, 249, 251, 253, 255, 258, 263, 264, 266, 267, 268, 273, 277]\n",
            "--------------------------------------------------------------------------------------------------------------------------------------------------------------------------------------------------------\n",
            "index southern:  [0, 1, 2, 3, 4, 5, 6, 7, 8, 9, 10, 11, 12, 13, 14, 15, 16, 17, 18, 19, 20, 21, 22, 23, 24, 25, 26, 28, 30, 31, 35, 38, 39, 40, 42, 43, 44, 47, 50, 55, 57, 58, 59, 60, 63, 64, 67, 69, 74, 76, 79, 84, 91, 96, 97, 99, 100, 101, 102, 103, 105, 106, 107, 110, 111, 112, 116, 117, 118, 122, 124, 125, 126, 127, 128, 129, 144, 148, 149, 151, 154, 159, 160, 161, 163, 164, 167, 170, 171, 173, 175, 176, 178, 179, 181, 182, 183, 185, 186, 187, 188, 189, 190, 191, 193, 194, 195, 196, 197, 198, 199, 200, 201, 211, 215, 219, 223, 228, 230, 231, 232, 237, 239, 240, 241, 242, 243, 244, 245, 247, 248, 250, 252, 254, 256, 257, 259, 260, 261, 262, 265, 269, 270, 271, 272, 274, 275, 276]\n"
          ]
        }
      ]
    },
    {
      "cell_type": "code",
      "metadata": {
        "colab": {
          "base_uri": "https://localhost:8080/"
        },
        "id": "A-ngcU7Rzdko",
        "outputId": "4093397d-538f-4e1e-f122-94edd45c9386"
      },
      "source": [
        "y_north = y[index_northern]\n",
        "y_north[0:5]"
      ],
      "execution_count": 64,
      "outputs": [
        {
          "output_type": "execute_result",
          "data": {
            "text/plain": [
              "index\n",
              "27    46.83944\n",
              "29    46.89583\n",
              "32    46.97167\n",
              "33    46.98000\n",
              "34    47.00000\n",
              "Name: latitude, dtype: float64"
            ]
          },
          "metadata": {},
          "execution_count": 64
        }
      ]
    },
    {
      "cell_type": "code",
      "metadata": {
        "colab": {
          "base_uri": "https://localhost:8080/"
        },
        "id": "z012ydefz73r",
        "outputId": "8ff7b807-ca39-4e6a-fe67-8432586d59b8"
      },
      "source": [
        "y_south = y[index_southern]\n",
        "y_south[0:5]"
      ],
      "execution_count": 65,
      "outputs": [
        {
          "output_type": "execute_result",
          "data": {
            "text/plain": [
              "index\n",
              "0    46.20729\n",
              "1    46.22194\n",
              "2    46.14694\n",
              "3    46.23389\n",
              "4    46.24139\n",
              "Name: latitude, dtype: float64"
            ]
          },
          "metadata": {},
          "execution_count": 65
        }
      ]
    },
    {
      "cell_type": "code",
      "metadata": {
        "colab": {
          "base_uri": "https://localhost:8080/"
        },
        "id": "FwCu7Wyn0HvE",
        "outputId": "f9a5dd5e-ea31-4e1e-f70e-0c416f39146b"
      },
      "source": [
        "x_north = x[index_northern]\n",
        "x_north[0:5]"
      ],
      "execution_count": 66,
      "outputs": [
        {
          "output_type": "execute_result",
          "data": {
            "text/plain": [
              "index\n",
              "27    6.44694\n",
              "29    6.46028\n",
              "32    6.52833\n",
              "33    6.56639\n",
              "34    6.63250\n",
              "Name: longitude, dtype: float64"
            ]
          },
          "metadata": {},
          "execution_count": 66
        }
      ]
    },
    {
      "cell_type": "code",
      "metadata": {
        "colab": {
          "base_uri": "https://localhost:8080/"
        },
        "id": "WKBgi-Ok0PRv",
        "outputId": "3c37cbfa-caff-41ae-c8f0-5f6732a97ab2"
      },
      "source": [
        "x_south = x[index_southern]\n",
        "x_south[0:5]"
      ],
      "execution_count": 67,
      "outputs": [
        {
          "output_type": "execute_result",
          "data": {
            "text/plain": [
              "index\n",
              "0    5.96701\n",
              "1    5.98139\n",
              "2    5.99639\n",
              "3    6.00917\n",
              "4    6.03000\n",
              "Name: longitude, dtype: float64"
            ]
          },
          "metadata": {},
          "execution_count": 67
        }
      ]
    },
    {
      "cell_type": "markdown",
      "metadata": {
        "id": "nuQuwCoC1hqY"
      },
      "source": [
        "####Luas Area Northern"
      ]
    },
    {
      "cell_type": "code",
      "metadata": {
        "colab": {
          "base_uri": "https://localhost:8080/"
        },
        "id": "-pL9McW50NnS",
        "outputId": "e2913a8d-ad73-4831-80c2-7f855f524b16"
      },
      "source": [
        "# Load library untuk integral\n",
        "from scipy.integrate import trapz\n",
        "\n",
        "area_northen = trapz(y_north, x_north)\n",
        "print(area_northen)\n"
      ],
      "execution_count": 68,
      "outputs": [
        {
          "output_type": "stream",
          "name": "stdout",
          "text": [
            "191.43515335300015\n"
          ]
        }
      ]
    },
    {
      "cell_type": "code",
      "metadata": {
        "colab": {
          "base_uri": "https://localhost:8080/",
          "height": 282
        },
        "id": "D2Z1tq3v5YOu",
        "outputId": "88652ed9-c541-4259-9fd9-b306d0c14633"
      },
      "source": [
        "# Area Swiss bagian Northern\n",
        "plt.plot(x_north,y_north)"
      ],
      "execution_count": 70,
      "outputs": [
        {
          "output_type": "execute_result",
          "data": {
            "text/plain": [
              "[<matplotlib.lines.Line2D at 0x7eff6b6a31d0>]"
            ]
          },
          "metadata": {},
          "execution_count": 70
        },
        {
          "output_type": "display_data",
          "data": {
            "image/png": "[encoded data removed]",
            "text/plain": [
              "<Figure size 432x288 with 1 Axes>"
            ]
          },
          "metadata": {
            "needs_background": "light"
          }
        }
      ]
    },
    {
      "cell_type": "markdown",
      "metadata": {
        "id": "BpRizcxq59nU"
      },
      "source": [
        "####Luas Area Southern"
      ]
    },
    {
      "cell_type": "code",
      "metadata": {
        "colab": {
          "base_uri": "https://localhost:8080/"
        },
        "id": "NJhLGPeK4aX9",
        "outputId": "6804c5d3-d8d3-4101-fca2-2e50b3b2e55d"
      },
      "source": [
        "area_sourth = trapz(y_south, x_south)\n",
        "print(area_sourth)"
      ],
      "execution_count": 69,
      "outputs": [
        {
          "output_type": "stream",
          "name": "stdout",
          "text": [
            "208.95178418020032\n"
          ]
        }
      ]
    },
    {
      "cell_type": "code",
      "metadata": {
        "colab": {
          "base_uri": "https://localhost:8080/",
          "height": 282
        },
        "id": "9dbEy4-s5A20",
        "outputId": "b604e678-e92b-4758-bb87-6116768a6c6c"
      },
      "source": [
        "# Area Swiss bagian Northern\n",
        "\n",
        "plt.plot(x_south,y_south)"
      ],
      "execution_count": 71,
      "outputs": [
        {
          "output_type": "execute_result",
          "data": {
            "text/plain": [
              "[<matplotlib.lines.Line2D at 0x7eff6b184bd0>]"
            ]
          },
          "metadata": {},
          "execution_count": 71
        },
        {
          "output_type": "display_data",
          "data": {
            "image/png": "[encoded data removed]",
            "text/plain": [
              "<Figure size 432x288 with 1 Axes>"
            ]
          },
          "metadata": {
            "needs_background": "light"
          }
        }
      ]
    },
    {
      "cell_type": "markdown",
      "metadata": {
        "id": "Qi2QXFW976Lj"
      },
      "source": [
        "Total Luas Wilayah Negara Swiss adalah:"
      ]
    },
    {
      "cell_type": "code",
      "metadata": {
        "colab": {
          "base_uri": "https://localhost:8080/",
          "height": 282
        },
        "id": "db41u3lgTQ5S",
        "outputId": "8c6e0754-2d34-44c8-87af-aaea3223b3b0"
      },
      "source": [
        "# Gambar Total Luas Wilayah Negara Swiss\n",
        "plt.plot(x_north,y_north)\n",
        "plt.plot(x_south,y_south)"
      ],
      "execution_count": 74,
      "outputs": [
        {
          "output_type": "execute_result",
          "data": {
            "text/plain": [
              "[<matplotlib.lines.Line2D at 0x7eff6b086990>]"
            ]
          },
          "metadata": {},
          "execution_count": 74
        },
        {
          "output_type": "display_data",
          "data": {
            "image/png": "[encoded data removed]",
            "text/plain": [
              "<Figure size 432x288 with 1 Axes>"
            ]
          },
          "metadata": {
            "needs_background": "light"
          }
        }
      ]
    },
    {
      "cell_type": "code",
      "metadata": {
        "colab": {
          "base_uri": "https://localhost:8080/"
        },
        "id": "O9e4a_Or75m3",
        "outputId": "74362e3b-4789-498c-d2aa-3fc83e61f35d"
      },
      "source": [
        "luas_total = abs(area_northen - area_sourth)\n",
        "luas_total"
      ],
      "execution_count": 72,
      "outputs": [
        {
          "output_type": "execute_result",
          "data": {
            "text/plain": [
              "17.516630827200174"
            ]
          },
          "metadata": {},
          "execution_count": 72
        }
      ]
    },
    {
      "cell_type": "markdown",
      "metadata": {
        "id": "PowxJEzT9IPk"
      },
      "source": [
        "Jadi Total Luas Wilayah Negara Swiss adalah **17.516630827200174**"
      ]
    },
    {
      "cell_type": "code",
      "metadata": {
        "id": "tclkceIxB1cQ"
      },
      "source": [
        "# lat_center=(data.latitude.max()+data.latitude.min())/2\n",
        "# lat_center\n",
        "\n",
        "\n",
        "# data_reorder=data.sort_values('longitude',ascending=True)\n",
        "# northern=data_reorder[data_reorder.latitude>=lat_center]\n",
        "# southern=data_reorder[data_reorder.latitude<=lat_center]\n",
        "\n",
        "\n",
        "# plt.plot(northern.longitude,northern.latitude)\n",
        "# plt.plot(southern.longitude,southern.latitude)\n",
        "\n",
        "\n",
        "# L_N=integrate.trapezoid(northern.latitude,northern.longitude)\n",
        "# L_S=integrate.trapezoid(southern.latitude,southern.longitude)\n",
        "# luas_swiss=L_N-L_S\n",
        "\n",
        "# np.abs(luas_swiss)"
      ],
      "execution_count": null,
      "outputs": []
    }
  ]
}