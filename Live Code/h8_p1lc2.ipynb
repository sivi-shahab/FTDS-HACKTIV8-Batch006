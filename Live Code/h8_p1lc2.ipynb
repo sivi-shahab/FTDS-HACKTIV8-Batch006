{
 "cells": [
  {
   "cell_type": "markdown",
   "metadata": {},
   "source": [
    "## Perkenalan\n",
    "\n",
    "Nama: Sivi Almanaf Ali Shahab\n",
    "Batch: 006\n",
    "\n",
    "**Objective**\n",
    "\n",
    "Memprediksi seseorang mempunyai resiko serangan jantung yang lebih besar dengan berdasarkan data yang kita gunakan\n",
    "\n",
    "\n",
    "**About data set**\n",
    "\n",
    "This database contains 76 attributes, but all published experiments refer to using a subset of 14 of them. In particular, the Cleveland database is the only one that has been used by ML researchers to\n",
    "this date.The \"target\" field refers to the presence of heart disease in the patient. It is integer valued 0 = no/less chance of heart attack and 1 = more chance of heart attack\n",
    "\n",
    "**Attribute Information**\n",
    "\n",
    "1) age\n",
    "\n",
    "2) sex\n",
    "\n",
    "3) chest pain type (4 values)\n",
    "\n",
    "\n",
    "4) resting blood pressure\n",
    "\n",
    "5) serum cholestoral in mg/dl\n",
    "\n",
    "6) fasting blood sugar > 120 mg/dl\n",
    "\n",
    "7) resting electrocardiographic results (values 0,1,2)\n",
    "\n",
    "8) maximum heart rate achieved\n",
    "\n",
    "9) exercise induced angina\n",
    "\n",
    "10) oldpeak = ST depression induced by exercise relative to rest\n",
    "\n",
    "11) the slope of the peak exercise ST segment\n",
    "\n",
    "12) number of major vessels (0-3) colored by flourosopy\n",
    "\n",
    "13) thal: 0 = normal; 1 = fixed defect; 2 = reversable defect\n",
    "\n",
    "14) target: 0= less chance of heart attack 1= more chance of heart attack\n",
    "\n",
    "Dataset is taken for learning purpose. Source of the data : https://archive.ics.uci.edu/ml/datasets/Heart+Disease"
   ]
  },
  {
   "cell_type": "markdown",
   "metadata": {},
   "source": [
    "## Judul \n",
    "\n",
    "**Health Care Data Set on Heart Attack Possibility**"
   ]
  },
  {
   "cell_type": "markdown",
   "metadata": {},
   "source": [
    "## Import pustaka yang dibutuhkan"
   ]
  },
  {
   "cell_type": "code",
   "execution_count": 33,
   "metadata": {},
   "outputs": [],
   "source": [
    "import opendatasets as od\n",
    "import matplotlib.pyplot as plt\n",
    "import matplotlib\n",
    "import os\n",
    "import seaborn as sns\n",
    "import numpy as np\n",
    "import pandas as pd\n",
    "%matplotlib inline\n",
    "\n",
    "from sklearn.model_selection import train_test_split\n",
    "from sklearn.pipeline import Pipeline\n",
    "from sklearn.compose import ColumnTransformer\n",
    "from sklearn.preprocessing import MinMaxScaler\n",
    "from sklearn.metrics import classification_report\n",
    "from sklearn.metrics import RocCurveDisplay\n",
    "from sklearn.tree import DecisionTreeClassifier\n",
    "from sklearn.ensemble import RandomForestClassifier\n",
    "\n",
    "\n",
    "pd.set_option('display.max_columns', None)\n",
    "pd.set_option('display.max_rows', 150)\n",
    "sns.set_style('darkgrid')\n",
    "matplotlib.rcParams['font.size'] = 14\n",
    "matplotlib.rcParams['figure.figsize'] = (10, 6)\n",
    "matplotlib.rcParams['figure.facecolor'] = '#00000000'"
   ]
  },
  {
   "cell_type": "markdown",
   "metadata": {},
   "source": [
    "## Data Loading"
   ]
  },
  {
   "cell_type": "markdown",
   "metadata": {},
   "source": [
    "download data di link berikut ini https://www.kaggle.com/nareshbhat/health-care-data-set-on-heart-attack-possibility?select=heart.csv"
   ]
  },
  {
   "cell_type": "code",
   "execution_count": 34,
   "metadata": {},
   "outputs": [
    {
     "data": {
      "text/html": [
       "<div>\n",
       "<style scoped>\n",
       "    .dataframe tbody tr th:only-of-type {\n",
       "        vertical-align: middle;\n",
       "    }\n",
       "\n",
       "    .dataframe tbody tr th {\n",
       "        vertical-align: top;\n",
       "    }\n",
       "\n",
       "    .dataframe thead th {\n",
       "        text-align: right;\n",
       "    }\n",
       "</style>\n",
       "<table border=\"1\" class=\"dataframe\">\n",
       "  <thead>\n",
       "    <tr style=\"text-align: right;\">\n",
       "      <th></th>\n",
       "      <th>age</th>\n",
       "      <th>sex</th>\n",
       "      <th>cp</th>\n",
       "      <th>trestbps</th>\n",
       "      <th>chol</th>\n",
       "      <th>fbs</th>\n",
       "      <th>restecg</th>\n",
       "      <th>thalach</th>\n",
       "      <th>exang</th>\n",
       "      <th>oldpeak</th>\n",
       "      <th>slope</th>\n",
       "      <th>ca</th>\n",
       "      <th>thal</th>\n",
       "      <th>target</th>\n",
       "    </tr>\n",
       "  </thead>\n",
       "  <tbody>\n",
       "    <tr>\n",
       "      <th>0</th>\n",
       "      <td>63</td>\n",
       "      <td>1</td>\n",
       "      <td>3</td>\n",
       "      <td>145</td>\n",
       "      <td>233</td>\n",
       "      <td>1</td>\n",
       "      <td>0</td>\n",
       "      <td>150</td>\n",
       "      <td>0</td>\n",
       "      <td>2.3</td>\n",
       "      <td>0</td>\n",
       "      <td>0</td>\n",
       "      <td>1</td>\n",
       "      <td>1</td>\n",
       "    </tr>\n",
       "    <tr>\n",
       "      <th>1</th>\n",
       "      <td>37</td>\n",
       "      <td>1</td>\n",
       "      <td>2</td>\n",
       "      <td>130</td>\n",
       "      <td>250</td>\n",
       "      <td>0</td>\n",
       "      <td>1</td>\n",
       "      <td>187</td>\n",
       "      <td>0</td>\n",
       "      <td>3.5</td>\n",
       "      <td>0</td>\n",
       "      <td>0</td>\n",
       "      <td>2</td>\n",
       "      <td>1</td>\n",
       "    </tr>\n",
       "    <tr>\n",
       "      <th>2</th>\n",
       "      <td>41</td>\n",
       "      <td>0</td>\n",
       "      <td>1</td>\n",
       "      <td>130</td>\n",
       "      <td>204</td>\n",
       "      <td>0</td>\n",
       "      <td>0</td>\n",
       "      <td>172</td>\n",
       "      <td>0</td>\n",
       "      <td>1.4</td>\n",
       "      <td>2</td>\n",
       "      <td>0</td>\n",
       "      <td>2</td>\n",
       "      <td>1</td>\n",
       "    </tr>\n",
       "    <tr>\n",
       "      <th>3</th>\n",
       "      <td>56</td>\n",
       "      <td>1</td>\n",
       "      <td>1</td>\n",
       "      <td>120</td>\n",
       "      <td>236</td>\n",
       "      <td>0</td>\n",
       "      <td>1</td>\n",
       "      <td>178</td>\n",
       "      <td>0</td>\n",
       "      <td>0.8</td>\n",
       "      <td>2</td>\n",
       "      <td>0</td>\n",
       "      <td>2</td>\n",
       "      <td>1</td>\n",
       "    </tr>\n",
       "    <tr>\n",
       "      <th>4</th>\n",
       "      <td>57</td>\n",
       "      <td>0</td>\n",
       "      <td>0</td>\n",
       "      <td>120</td>\n",
       "      <td>354</td>\n",
       "      <td>0</td>\n",
       "      <td>1</td>\n",
       "      <td>163</td>\n",
       "      <td>1</td>\n",
       "      <td>0.6</td>\n",
       "      <td>2</td>\n",
       "      <td>0</td>\n",
       "      <td>2</td>\n",
       "      <td>1</td>\n",
       "    </tr>\n",
       "  </tbody>\n",
       "</table>\n",
       "</div>"
      ],
      "text/plain": [
       "   age  sex  cp  trestbps  chol  fbs  restecg  thalach  exang  oldpeak  slope  \\\n",
       "0   63    1   3       145   233    1        0      150      0      2.3      0   \n",
       "1   37    1   2       130   250    0        1      187      0      3.5      0   \n",
       "2   41    0   1       130   204    0        0      172      0      1.4      2   \n",
       "3   56    1   1       120   236    0        1      178      0      0.8      2   \n",
       "4   57    0   0       120   354    0        1      163      1      0.6      2   \n",
       "\n",
       "   ca  thal  target  \n",
       "0   0     1       1  \n",
       "1   0     2       1  \n",
       "2   0     2       1  \n",
       "3   0     2       1  \n",
       "4   0     2       1  "
      ]
     },
     "execution_count": 34,
     "metadata": {},
     "output_type": "execute_result"
    }
   ],
   "source": [
    "# data yang didownload disimpan pada folder dataset\n",
    "data = pd.read_csv(\"./dataset/heart.csv\")\n",
    "data.head()"
   ]
  },
  {
   "cell_type": "code",
   "execution_count": 35,
   "metadata": {},
   "outputs": [
    {
     "data": {
      "text/html": [
       "<div>\n",
       "<style scoped>\n",
       "    .dataframe tbody tr th:only-of-type {\n",
       "        vertical-align: middle;\n",
       "    }\n",
       "\n",
       "    .dataframe tbody tr th {\n",
       "        vertical-align: top;\n",
       "    }\n",
       "\n",
       "    .dataframe thead th {\n",
       "        text-align: right;\n",
       "    }\n",
       "</style>\n",
       "<table border=\"1\" class=\"dataframe\">\n",
       "  <thead>\n",
       "    <tr style=\"text-align: right;\">\n",
       "      <th></th>\n",
       "      <th>age</th>\n",
       "      <th>sex</th>\n",
       "      <th>cp</th>\n",
       "      <th>trestbps</th>\n",
       "      <th>chol</th>\n",
       "      <th>fbs</th>\n",
       "      <th>restecg</th>\n",
       "      <th>thalach</th>\n",
       "      <th>exang</th>\n",
       "      <th>oldpeak</th>\n",
       "      <th>slope</th>\n",
       "      <th>ca</th>\n",
       "      <th>thal</th>\n",
       "    </tr>\n",
       "  </thead>\n",
       "  <tbody>\n",
       "    <tr>\n",
       "      <th>0</th>\n",
       "      <td>63</td>\n",
       "      <td>1</td>\n",
       "      <td>3</td>\n",
       "      <td>145</td>\n",
       "      <td>233</td>\n",
       "      <td>1</td>\n",
       "      <td>0</td>\n",
       "      <td>150</td>\n",
       "      <td>0</td>\n",
       "      <td>2.3</td>\n",
       "      <td>0</td>\n",
       "      <td>0</td>\n",
       "      <td>1</td>\n",
       "    </tr>\n",
       "    <tr>\n",
       "      <th>1</th>\n",
       "      <td>37</td>\n",
       "      <td>1</td>\n",
       "      <td>2</td>\n",
       "      <td>130</td>\n",
       "      <td>250</td>\n",
       "      <td>0</td>\n",
       "      <td>1</td>\n",
       "      <td>187</td>\n",
       "      <td>0</td>\n",
       "      <td>3.5</td>\n",
       "      <td>0</td>\n",
       "      <td>0</td>\n",
       "      <td>2</td>\n",
       "    </tr>\n",
       "    <tr>\n",
       "      <th>2</th>\n",
       "      <td>41</td>\n",
       "      <td>0</td>\n",
       "      <td>1</td>\n",
       "      <td>130</td>\n",
       "      <td>204</td>\n",
       "      <td>0</td>\n",
       "      <td>0</td>\n",
       "      <td>172</td>\n",
       "      <td>0</td>\n",
       "      <td>1.4</td>\n",
       "      <td>2</td>\n",
       "      <td>0</td>\n",
       "      <td>2</td>\n",
       "    </tr>\n",
       "    <tr>\n",
       "      <th>3</th>\n",
       "      <td>56</td>\n",
       "      <td>1</td>\n",
       "      <td>1</td>\n",
       "      <td>120</td>\n",
       "      <td>236</td>\n",
       "      <td>0</td>\n",
       "      <td>1</td>\n",
       "      <td>178</td>\n",
       "      <td>0</td>\n",
       "      <td>0.8</td>\n",
       "      <td>2</td>\n",
       "      <td>0</td>\n",
       "      <td>2</td>\n",
       "    </tr>\n",
       "    <tr>\n",
       "      <th>4</th>\n",
       "      <td>57</td>\n",
       "      <td>0</td>\n",
       "      <td>0</td>\n",
       "      <td>120</td>\n",
       "      <td>354</td>\n",
       "      <td>0</td>\n",
       "      <td>1</td>\n",
       "      <td>163</td>\n",
       "      <td>1</td>\n",
       "      <td>0.6</td>\n",
       "      <td>2</td>\n",
       "      <td>0</td>\n",
       "      <td>2</td>\n",
       "    </tr>\n",
       "  </tbody>\n",
       "</table>\n",
       "</div>"
      ],
      "text/plain": [
       "   age  sex  cp  trestbps  chol  fbs  restecg  thalach  exang  oldpeak  slope  \\\n",
       "0   63    1   3       145   233    1        0      150      0      2.3      0   \n",
       "1   37    1   2       130   250    0        1      187      0      3.5      0   \n",
       "2   41    0   1       130   204    0        0      172      0      1.4      2   \n",
       "3   56    1   1       120   236    0        1      178      0      0.8      2   \n",
       "4   57    0   0       120   354    0        1      163      1      0.6      2   \n",
       "\n",
       "   ca  thal  \n",
       "0   0     1  \n",
       "1   0     2  \n",
       "2   0     2  \n",
       "3   0     2  \n",
       "4   0     2  "
      ]
     },
     "execution_count": 35,
     "metadata": {},
     "output_type": "execute_result"
    }
   ],
   "source": [
    "# Check data train yang akan kita gunakan\n",
    "data_train = data.iloc[:, :-1]\n",
    "data_train.head()"
   ]
  },
  {
   "cell_type": "code",
   "execution_count": 36,
   "metadata": {},
   "outputs": [
    {
     "name": "stderr",
     "output_type": "stream",
     "text": [
      "C:\\Users\\sivis\\AppData\\Local\\Programs\\Python\\Python38\\lib\\site-packages\\seaborn\\_decorators.py:36: FutureWarning: Pass the following variable as a keyword arg: x. From version 0.12, the only valid positional argument will be `data`, and passing other arguments without an explicit keyword will result in an error or misinterpretation.\n",
      "  warnings.warn(\n",
      "C:\\Users\\sivis\\AppData\\Local\\Programs\\Python\\Python38\\lib\\site-packages\\seaborn\\_decorators.py:36: FutureWarning: Pass the following variable as a keyword arg: x. From version 0.12, the only valid positional argument will be `data`, and passing other arguments without an explicit keyword will result in an error or misinterpretation.\n",
      "  warnings.warn(\n",
      "C:\\Users\\sivis\\AppData\\Local\\Programs\\Python\\Python38\\lib\\site-packages\\seaborn\\_decorators.py:36: FutureWarning: Pass the following variable as a keyword arg: x. From version 0.12, the only valid positional argument will be `data`, and passing other arguments without an explicit keyword will result in an error or misinterpretation.\n",
      "  warnings.warn(\n",
      "C:\\Users\\sivis\\AppData\\Local\\Programs\\Python\\Python38\\lib\\site-packages\\seaborn\\_decorators.py:36: FutureWarning: Pass the following variable as a keyword arg: x. From version 0.12, the only valid positional argument will be `data`, and passing other arguments without an explicit keyword will result in an error or misinterpretation.\n",
      "  warnings.warn(\n",
      "C:\\Users\\sivis\\AppData\\Local\\Programs\\Python\\Python38\\lib\\site-packages\\seaborn\\_decorators.py:36: FutureWarning: Pass the following variable as a keyword arg: x. From version 0.12, the only valid positional argument will be `data`, and passing other arguments without an explicit keyword will result in an error or misinterpretation.\n",
      "  warnings.warn(\n",
      "C:\\Users\\sivis\\AppData\\Local\\Programs\\Python\\Python38\\lib\\site-packages\\seaborn\\_decorators.py:36: FutureWarning: Pass the following variable as a keyword arg: x. From version 0.12, the only valid positional argument will be `data`, and passing other arguments without an explicit keyword will result in an error or misinterpretation.\n",
      "  warnings.warn(\n",
      "C:\\Users\\sivis\\AppData\\Local\\Programs\\Python\\Python38\\lib\\site-packages\\seaborn\\_decorators.py:36: FutureWarning: Pass the following variable as a keyword arg: x. From version 0.12, the only valid positional argument will be `data`, and passing other arguments without an explicit keyword will result in an error or misinterpretation.\n",
      "  warnings.warn(\n",
      "C:\\Users\\sivis\\AppData\\Local\\Programs\\Python\\Python38\\lib\\site-packages\\seaborn\\_decorators.py:36: FutureWarning: Pass the following variable as a keyword arg: x. From version 0.12, the only valid positional argument will be `data`, and passing other arguments without an explicit keyword will result in an error or misinterpretation.\n",
      "  warnings.warn(\n",
      "C:\\Users\\sivis\\AppData\\Local\\Programs\\Python\\Python38\\lib\\site-packages\\seaborn\\_decorators.py:36: FutureWarning: Pass the following variable as a keyword arg: x. From version 0.12, the only valid positional argument will be `data`, and passing other arguments without an explicit keyword will result in an error or misinterpretation.\n",
      "  warnings.warn(\n",
      "C:\\Users\\sivis\\AppData\\Local\\Programs\\Python\\Python38\\lib\\site-packages\\seaborn\\_decorators.py:36: FutureWarning: Pass the following variable as a keyword arg: x. From version 0.12, the only valid positional argument will be `data`, and passing other arguments without an explicit keyword will result in an error or misinterpretation.\n",
      "  warnings.warn(\n",
      "C:\\Users\\sivis\\AppData\\Local\\Programs\\Python\\Python38\\lib\\site-packages\\seaborn\\_decorators.py:36: FutureWarning: Pass the following variable as a keyword arg: x. From version 0.12, the only valid positional argument will be `data`, and passing other arguments without an explicit keyword will result in an error or misinterpretation.\n",
      "  warnings.warn(\n",
      "C:\\Users\\sivis\\AppData\\Local\\Programs\\Python\\Python38\\lib\\site-packages\\seaborn\\_decorators.py:36: FutureWarning: Pass the following variable as a keyword arg: x. From version 0.12, the only valid positional argument will be `data`, and passing other arguments without an explicit keyword will result in an error or misinterpretation.\n",
      "  warnings.warn(\n"
     ]
    },
    {
     "data": {
      "image/png": "[encoded data removed]",
      "text/plain": [
       "<Figure size 1440x1080 with 12 Axes>"
      ]
     },
     "metadata": {
      "needs_background": "light"
     },
     "output_type": "display_data"
    }
   ],
   "source": [
    "# Boxplot untuk mengetahui outlier dan distribusi data\n",
    "plt.figure(figsize = (20, 15))\n",
    "plotnumber = 1\n",
    "\n",
    "for column in data_train:\n",
    "    if plotnumber <= 12:\n",
    "        ax = plt.subplot(3, 4, plotnumber)\n",
    "        sns.boxplot(data_train[column])\n",
    "        plt.xlabel(column, fontsize = 15)\n",
    "        \n",
    "    plotnumber += 1\n",
    "\n",
    "plt.tight_layout()\n",
    "plt.show()"
   ]
  },
  {
   "cell_type": "markdown",
   "metadata": {},
   "source": [
    "Terdapat beberapa outlier yang ditampilkan namun kita bisa abaikan karena selanjutnya kita gunakan algorithms berbasis Tree"
   ]
  },
  {
   "cell_type": "code",
   "execution_count": 37,
   "metadata": {},
   "outputs": [
    {
     "name": "stdout",
     "output_type": "stream",
     "text": [
      "<class 'pandas.core.frame.DataFrame'>\n",
      "RangeIndex: 303 entries, 0 to 302\n",
      "Data columns (total 14 columns):\n",
      " #   Column    Non-Null Count  Dtype  \n",
      "---  ------    --------------  -----  \n",
      " 0   age       303 non-null    int64  \n",
      " 1   sex       303 non-null    int64  \n",
      " 2   cp        303 non-null    int64  \n",
      " 3   trestbps  303 non-null    int64  \n",
      " 4   chol      303 non-null    int64  \n",
      " 5   fbs       303 non-null    int64  \n",
      " 6   restecg   303 non-null    int64  \n",
      " 7   thalach   303 non-null    int64  \n",
      " 8   exang     303 non-null    int64  \n",
      " 9   oldpeak   303 non-null    float64\n",
      " 10  slope     303 non-null    int64  \n",
      " 11  ca        303 non-null    int64  \n",
      " 12  thal      303 non-null    int64  \n",
      " 13  target    303 non-null    int64  \n",
      "dtypes: float64(1), int64(13)\n",
      "memory usage: 33.3 KB\n"
     ]
    }
   ],
   "source": [
    "# Check fata info\n",
    "data.info()"
   ]
  },
  {
   "cell_type": "markdown",
   "metadata": {},
   "source": [
    "berdasarkan data info diatas kita bisa lihat tipe data dari masing-masing features dan kita bisa simpulkan tidak ada data yang miss "
   ]
  },
  {
   "cell_type": "code",
   "execution_count": 38,
   "metadata": {},
   "outputs": [
    {
     "data": {
      "text/html": [
       "<div>\n",
       "<style scoped>\n",
       "    .dataframe tbody tr th:only-of-type {\n",
       "        vertical-align: middle;\n",
       "    }\n",
       "\n",
       "    .dataframe tbody tr th {\n",
       "        vertical-align: top;\n",
       "    }\n",
       "\n",
       "    .dataframe thead th {\n",
       "        text-align: right;\n",
       "    }\n",
       "</style>\n",
       "<table border=\"1\" class=\"dataframe\">\n",
       "  <thead>\n",
       "    <tr style=\"text-align: right;\">\n",
       "      <th></th>\n",
       "      <th>age</th>\n",
       "      <th>sex</th>\n",
       "      <th>cp</th>\n",
       "      <th>trestbps</th>\n",
       "      <th>chol</th>\n",
       "      <th>fbs</th>\n",
       "      <th>restecg</th>\n",
       "      <th>thalach</th>\n",
       "      <th>exang</th>\n",
       "      <th>oldpeak</th>\n",
       "      <th>slope</th>\n",
       "      <th>ca</th>\n",
       "      <th>thal</th>\n",
       "      <th>target</th>\n",
       "    </tr>\n",
       "  </thead>\n",
       "  <tbody>\n",
       "    <tr>\n",
       "      <th>count</th>\n",
       "      <td>303.000000</td>\n",
       "      <td>303.000000</td>\n",
       "      <td>303.000000</td>\n",
       "      <td>303.000000</td>\n",
       "      <td>303.000000</td>\n",
       "      <td>303.000000</td>\n",
       "      <td>303.000000</td>\n",
       "      <td>303.000000</td>\n",
       "      <td>303.000000</td>\n",
       "      <td>303.000000</td>\n",
       "      <td>303.000000</td>\n",
       "      <td>303.000000</td>\n",
       "      <td>303.000000</td>\n",
       "      <td>303.000000</td>\n",
       "    </tr>\n",
       "    <tr>\n",
       "      <th>mean</th>\n",
       "      <td>54.366337</td>\n",
       "      <td>0.683168</td>\n",
       "      <td>0.966997</td>\n",
       "      <td>131.623762</td>\n",
       "      <td>246.264026</td>\n",
       "      <td>0.148515</td>\n",
       "      <td>0.528053</td>\n",
       "      <td>149.646865</td>\n",
       "      <td>0.326733</td>\n",
       "      <td>1.039604</td>\n",
       "      <td>1.399340</td>\n",
       "      <td>0.729373</td>\n",
       "      <td>2.313531</td>\n",
       "      <td>0.544554</td>\n",
       "    </tr>\n",
       "    <tr>\n",
       "      <th>std</th>\n",
       "      <td>9.082101</td>\n",
       "      <td>0.466011</td>\n",
       "      <td>1.032052</td>\n",
       "      <td>17.538143</td>\n",
       "      <td>51.830751</td>\n",
       "      <td>0.356198</td>\n",
       "      <td>0.525860</td>\n",
       "      <td>22.905161</td>\n",
       "      <td>0.469794</td>\n",
       "      <td>1.161075</td>\n",
       "      <td>0.616226</td>\n",
       "      <td>1.022606</td>\n",
       "      <td>0.612277</td>\n",
       "      <td>0.498835</td>\n",
       "    </tr>\n",
       "    <tr>\n",
       "      <th>min</th>\n",
       "      <td>29.000000</td>\n",
       "      <td>0.000000</td>\n",
       "      <td>0.000000</td>\n",
       "      <td>94.000000</td>\n",
       "      <td>126.000000</td>\n",
       "      <td>0.000000</td>\n",
       "      <td>0.000000</td>\n",
       "      <td>71.000000</td>\n",
       "      <td>0.000000</td>\n",
       "      <td>0.000000</td>\n",
       "      <td>0.000000</td>\n",
       "      <td>0.000000</td>\n",
       "      <td>0.000000</td>\n",
       "      <td>0.000000</td>\n",
       "    </tr>\n",
       "    <tr>\n",
       "      <th>25%</th>\n",
       "      <td>47.500000</td>\n",
       "      <td>0.000000</td>\n",
       "      <td>0.000000</td>\n",
       "      <td>120.000000</td>\n",
       "      <td>211.000000</td>\n",
       "      <td>0.000000</td>\n",
       "      <td>0.000000</td>\n",
       "      <td>133.500000</td>\n",
       "      <td>0.000000</td>\n",
       "      <td>0.000000</td>\n",
       "      <td>1.000000</td>\n",
       "      <td>0.000000</td>\n",
       "      <td>2.000000</td>\n",
       "      <td>0.000000</td>\n",
       "    </tr>\n",
       "    <tr>\n",
       "      <th>50%</th>\n",
       "      <td>55.000000</td>\n",
       "      <td>1.000000</td>\n",
       "      <td>1.000000</td>\n",
       "      <td>130.000000</td>\n",
       "      <td>240.000000</td>\n",
       "      <td>0.000000</td>\n",
       "      <td>1.000000</td>\n",
       "      <td>153.000000</td>\n",
       "      <td>0.000000</td>\n",
       "      <td>0.800000</td>\n",
       "      <td>1.000000</td>\n",
       "      <td>0.000000</td>\n",
       "      <td>2.000000</td>\n",
       "      <td>1.000000</td>\n",
       "    </tr>\n",
       "    <tr>\n",
       "      <th>75%</th>\n",
       "      <td>61.000000</td>\n",
       "      <td>1.000000</td>\n",
       "      <td>2.000000</td>\n",
       "      <td>140.000000</td>\n",
       "      <td>274.500000</td>\n",
       "      <td>0.000000</td>\n",
       "      <td>1.000000</td>\n",
       "      <td>166.000000</td>\n",
       "      <td>1.000000</td>\n",
       "      <td>1.600000</td>\n",
       "      <td>2.000000</td>\n",
       "      <td>1.000000</td>\n",
       "      <td>3.000000</td>\n",
       "      <td>1.000000</td>\n",
       "    </tr>\n",
       "    <tr>\n",
       "      <th>max</th>\n",
       "      <td>77.000000</td>\n",
       "      <td>1.000000</td>\n",
       "      <td>3.000000</td>\n",
       "      <td>200.000000</td>\n",
       "      <td>564.000000</td>\n",
       "      <td>1.000000</td>\n",
       "      <td>2.000000</td>\n",
       "      <td>202.000000</td>\n",
       "      <td>1.000000</td>\n",
       "      <td>6.200000</td>\n",
       "      <td>2.000000</td>\n",
       "      <td>4.000000</td>\n",
       "      <td>3.000000</td>\n",
       "      <td>1.000000</td>\n",
       "    </tr>\n",
       "  </tbody>\n",
       "</table>\n",
       "</div>"
      ],
      "text/plain": [
       "              age         sex          cp    trestbps        chol         fbs  \\\n",
       "count  303.000000  303.000000  303.000000  303.000000  303.000000  303.000000   \n",
       "mean    54.366337    0.683168    0.966997  131.623762  246.264026    0.148515   \n",
       "std      9.082101    0.466011    1.032052   17.538143   51.830751    0.356198   \n",
       "min     29.000000    0.000000    0.000000   94.000000  126.000000    0.000000   \n",
       "25%     47.500000    0.000000    0.000000  120.000000  211.000000    0.000000   \n",
       "50%     55.000000    1.000000    1.000000  130.000000  240.000000    0.000000   \n",
       "75%     61.000000    1.000000    2.000000  140.000000  274.500000    0.000000   \n",
       "max     77.000000    1.000000    3.000000  200.000000  564.000000    1.000000   \n",
       "\n",
       "          restecg     thalach       exang     oldpeak       slope          ca  \\\n",
       "count  303.000000  303.000000  303.000000  303.000000  303.000000  303.000000   \n",
       "mean     0.528053  149.646865    0.326733    1.039604    1.399340    0.729373   \n",
       "std      0.525860   22.905161    0.469794    1.161075    0.616226    1.022606   \n",
       "min      0.000000   71.000000    0.000000    0.000000    0.000000    0.000000   \n",
       "25%      0.000000  133.500000    0.000000    0.000000    1.000000    0.000000   \n",
       "50%      1.000000  153.000000    0.000000    0.800000    1.000000    0.000000   \n",
       "75%      1.000000  166.000000    1.000000    1.600000    2.000000    1.000000   \n",
       "max      2.000000  202.000000    1.000000    6.200000    2.000000    4.000000   \n",
       "\n",
       "             thal      target  \n",
       "count  303.000000  303.000000  \n",
       "mean     2.313531    0.544554  \n",
       "std      0.612277    0.498835  \n",
       "min      0.000000    0.000000  \n",
       "25%      2.000000    0.000000  \n",
       "50%      2.000000    1.000000  \n",
       "75%      3.000000    1.000000  \n",
       "max      3.000000    1.000000  "
      ]
     },
     "execution_count": 38,
     "metadata": {},
     "output_type": "execute_result"
    }
   ],
   "source": [
    "# Check statistic description\n",
    "data.describe()"
   ]
  },
  {
   "cell_type": "markdown",
   "metadata": {},
   "source": [
    "## Data Cleaning"
   ]
  },
  {
   "cell_type": "markdown",
   "metadata": {},
   "source": [
    "#### Feature Selection\n",
    "\n",
    "Kita akan menggunakan Mutual Information untuk melihat feature mana yang memiliki nilai sensitifitas yang tinggi terhadap variabel target "
   ]
  },
  {
   "cell_type": "code",
   "execution_count": 39,
   "metadata": {},
   "outputs": [],
   "source": [
    "from sklearn.metrics import mutual_info_score\n",
    "def calculate_mi(series):\n",
    "    return mutual_info_score(series, data.target)"
   ]
  },
  {
   "cell_type": "code",
   "execution_count": 40,
   "metadata": {},
   "outputs": [
    {
     "name": "stdout",
     "output_type": "stream",
     "text": [
      "----------------------------------------------------------------------------------------------------\n",
      "#Mutual Information Numerical Input, Numerical Output#\n",
      "                MI\n",
      "chol      0.387980\n",
      "thalach   0.232272\n",
      "oldpeak   0.175635\n",
      "thal      0.147814\n",
      "cp        0.141817\n",
      "ca        0.128896\n",
      "exang     0.098573\n",
      "trestbps  0.097337\n",
      "age       0.093786\n",
      "slope     0.080983\n",
      "sex       0.040992\n",
      "restecg   0.016687\n",
      "fbs       0.000392\n",
      "----------------------------------------------------------------------------------------------------\n"
     ]
    },
    {
     "name": "stderr",
     "output_type": "stream",
     "text": [
      "C:\\Users\\sivis\\AppData\\Local\\Programs\\Python\\Python38\\lib\\site-packages\\sklearn\\metrics\\cluster\\_supervised.py:65: UserWarning: Clustering metrics expects discrete values but received continuous values for label, and binary values for target\n",
      "  warnings.warn(msg, UserWarning)\n"
     ]
    }
   ],
   "source": [
    " # Numerical Input, Categorical Output\n",
    "df_mi_num = data_train.apply(calculate_mi)\n",
    "df_mi_num = df_mi_num.sort_values(ascending=False).to_frame(name='MI')\n",
    "print('-'*100)\n",
    "print('#Mutual Information Numerical Input, Numerical Output#')\n",
    "print(df_mi_num)\n",
    "print('-'*100)"
   ]
  },
  {
   "cell_type": "markdown",
   "metadata": {},
   "source": [
    "Dari Hasil Mutual Information diatas kita eliminasi feature 'fbs' dan 'restecg' karena memiliki nilai MI yang paling rendah"
   ]
  },
  {
   "cell_type": "code",
   "execution_count": 41,
   "metadata": {},
   "outputs": [],
   "source": [
    "# Copy data \n",
    "df = data.copy()"
   ]
  },
  {
   "cell_type": "code",
   "execution_count": 42,
   "metadata": {},
   "outputs": [
    {
     "data": {
      "text/plain": [
       "Index(['age', 'sex', 'cp', 'trestbps', 'chol', 'fbs', 'restecg', 'thalach',\n",
       "       'exang', 'oldpeak', 'slope', 'ca', 'thal', 'target'],\n",
       "      dtype='object')"
      ]
     },
     "execution_count": 42,
     "metadata": {},
     "output_type": "execute_result"
    }
   ],
   "source": [
    "df.columns"
   ]
  },
  {
   "cell_type": "code",
   "execution_count": 43,
   "metadata": {},
   "outputs": [
    {
     "data": {
      "text/html": [
       "<div>\n",
       "<style scoped>\n",
       "    .dataframe tbody tr th:only-of-type {\n",
       "        vertical-align: middle;\n",
       "    }\n",
       "\n",
       "    .dataframe tbody tr th {\n",
       "        vertical-align: top;\n",
       "    }\n",
       "\n",
       "    .dataframe thead th {\n",
       "        text-align: right;\n",
       "    }\n",
       "</style>\n",
       "<table border=\"1\" class=\"dataframe\">\n",
       "  <thead>\n",
       "    <tr style=\"text-align: right;\">\n",
       "      <th></th>\n",
       "      <th>age</th>\n",
       "      <th>sex</th>\n",
       "      <th>cp</th>\n",
       "      <th>trestbps</th>\n",
       "      <th>chol</th>\n",
       "      <th>thalach</th>\n",
       "      <th>exang</th>\n",
       "      <th>oldpeak</th>\n",
       "      <th>slope</th>\n",
       "      <th>ca</th>\n",
       "      <th>thal</th>\n",
       "      <th>target</th>\n",
       "    </tr>\n",
       "  </thead>\n",
       "  <tbody>\n",
       "    <tr>\n",
       "      <th>0</th>\n",
       "      <td>63</td>\n",
       "      <td>1</td>\n",
       "      <td>3</td>\n",
       "      <td>145</td>\n",
       "      <td>233</td>\n",
       "      <td>150</td>\n",
       "      <td>0</td>\n",
       "      <td>2.3</td>\n",
       "      <td>0</td>\n",
       "      <td>0</td>\n",
       "      <td>1</td>\n",
       "      <td>1</td>\n",
       "    </tr>\n",
       "    <tr>\n",
       "      <th>1</th>\n",
       "      <td>37</td>\n",
       "      <td>1</td>\n",
       "      <td>2</td>\n",
       "      <td>130</td>\n",
       "      <td>250</td>\n",
       "      <td>187</td>\n",
       "      <td>0</td>\n",
       "      <td>3.5</td>\n",
       "      <td>0</td>\n",
       "      <td>0</td>\n",
       "      <td>2</td>\n",
       "      <td>1</td>\n",
       "    </tr>\n",
       "    <tr>\n",
       "      <th>2</th>\n",
       "      <td>41</td>\n",
       "      <td>0</td>\n",
       "      <td>1</td>\n",
       "      <td>130</td>\n",
       "      <td>204</td>\n",
       "      <td>172</td>\n",
       "      <td>0</td>\n",
       "      <td>1.4</td>\n",
       "      <td>2</td>\n",
       "      <td>0</td>\n",
       "      <td>2</td>\n",
       "      <td>1</td>\n",
       "    </tr>\n",
       "    <tr>\n",
       "      <th>3</th>\n",
       "      <td>56</td>\n",
       "      <td>1</td>\n",
       "      <td>1</td>\n",
       "      <td>120</td>\n",
       "      <td>236</td>\n",
       "      <td>178</td>\n",
       "      <td>0</td>\n",
       "      <td>0.8</td>\n",
       "      <td>2</td>\n",
       "      <td>0</td>\n",
       "      <td>2</td>\n",
       "      <td>1</td>\n",
       "    </tr>\n",
       "    <tr>\n",
       "      <th>4</th>\n",
       "      <td>57</td>\n",
       "      <td>0</td>\n",
       "      <td>0</td>\n",
       "      <td>120</td>\n",
       "      <td>354</td>\n",
       "      <td>163</td>\n",
       "      <td>1</td>\n",
       "      <td>0.6</td>\n",
       "      <td>2</td>\n",
       "      <td>0</td>\n",
       "      <td>2</td>\n",
       "      <td>1</td>\n",
       "    </tr>\n",
       "  </tbody>\n",
       "</table>\n",
       "</div>"
      ],
      "text/plain": [
       "   age  sex  cp  trestbps  chol  thalach  exang  oldpeak  slope  ca  thal  \\\n",
       "0   63    1   3       145   233      150      0      2.3      0   0     1   \n",
       "1   37    1   2       130   250      187      0      3.5      0   0     2   \n",
       "2   41    0   1       130   204      172      0      1.4      2   0     2   \n",
       "3   56    1   1       120   236      178      0      0.8      2   0     2   \n",
       "4   57    0   0       120   354      163      1      0.6      2   0     2   \n",
       "\n",
       "   target  \n",
       "0       1  \n",
       "1       1  \n",
       "2       1  \n",
       "3       1  \n",
       "4       1  "
      ]
     },
     "execution_count": 43,
     "metadata": {},
     "output_type": "execute_result"
    }
   ],
   "source": [
    "df_new = df[['age', 'sex', 'cp', 'trestbps', 'chol', 'thalach',\n",
    "       'exang', 'oldpeak', 'slope', 'ca', 'thal', 'target']]\n",
    "df_new.head()"
   ]
  },
  {
   "cell_type": "markdown",
   "metadata": {},
   "source": [
    "## Explorasi Data"
   ]
  },
  {
   "cell_type": "markdown",
   "metadata": {},
   "source": [
    "Proporsi data target untuk cek inbalanced data"
   ]
  },
  {
   "cell_type": "code",
   "execution_count": 44,
   "metadata": {},
   "outputs": [
    {
     "data": {
      "text/plain": [
       "<AxesSubplot:>"
      ]
     },
     "execution_count": 44,
     "metadata": {},
     "output_type": "execute_result"
    },
    {
     "data": {
      "image/png": "[encoded data removed]",
      "text/plain": [
       "<Figure size 720x432 with 1 Axes>"
      ]
     },
     "metadata": {
      "needs_background": "light"
     },
     "output_type": "display_data"
    }
   ],
   "source": [
    "df_new.target.value_counts().plot(kind='bar')"
   ]
  },
  {
   "cell_type": "code",
   "execution_count": 45,
   "metadata": {},
   "outputs": [
    {
     "data": {
      "text/plain": [
       "1    0.544554\n",
       "0    0.455446\n",
       "Name: target, dtype: float64"
      ]
     },
     "execution_count": 45,
     "metadata": {},
     "output_type": "execute_result"
    }
   ],
   "source": [
    "df_new.target.value_counts()/len(df_new.target)"
   ]
  },
  {
   "cell_type": "markdown",
   "metadata": {},
   "source": [
    "dari proporsi data diatas data dapat dikategorikan balanced karena presentasinya 54.5% dan 45.5% cukup seimbang"
   ]
  },
  {
   "cell_type": "code",
   "execution_count": 96,
   "metadata": {},
   "outputs": [
    {
     "data": {
      "text/html": [
       "<div>\n",
       "<style scoped>\n",
       "    .dataframe tbody tr th:only-of-type {\n",
       "        vertical-align: middle;\n",
       "    }\n",
       "\n",
       "    .dataframe tbody tr th {\n",
       "        vertical-align: top;\n",
       "    }\n",
       "\n",
       "    .dataframe thead th {\n",
       "        text-align: right;\n",
       "    }\n",
       "</style>\n",
       "<table border=\"1\" class=\"dataframe\">\n",
       "  <thead>\n",
       "    <tr style=\"text-align: right;\">\n",
       "      <th></th>\n",
       "      <th>age</th>\n",
       "      <th>sex</th>\n",
       "      <th>cp</th>\n",
       "      <th>trestbps</th>\n",
       "      <th>chol</th>\n",
       "      <th>thalach</th>\n",
       "      <th>exang</th>\n",
       "      <th>oldpeak</th>\n",
       "      <th>slope</th>\n",
       "      <th>ca</th>\n",
       "      <th>thal</th>\n",
       "      <th>target</th>\n",
       "    </tr>\n",
       "  </thead>\n",
       "  <tbody>\n",
       "    <tr>\n",
       "      <th>0</th>\n",
       "      <td>63</td>\n",
       "      <td>1</td>\n",
       "      <td>3</td>\n",
       "      <td>145</td>\n",
       "      <td>233</td>\n",
       "      <td>150</td>\n",
       "      <td>0</td>\n",
       "      <td>2.3</td>\n",
       "      <td>0</td>\n",
       "      <td>0</td>\n",
       "      <td>1</td>\n",
       "      <td>1</td>\n",
       "    </tr>\n",
       "    <tr>\n",
       "      <th>1</th>\n",
       "      <td>37</td>\n",
       "      <td>1</td>\n",
       "      <td>2</td>\n",
       "      <td>130</td>\n",
       "      <td>250</td>\n",
       "      <td>187</td>\n",
       "      <td>0</td>\n",
       "      <td>3.5</td>\n",
       "      <td>0</td>\n",
       "      <td>0</td>\n",
       "      <td>2</td>\n",
       "      <td>1</td>\n",
       "    </tr>\n",
       "    <tr>\n",
       "      <th>2</th>\n",
       "      <td>41</td>\n",
       "      <td>0</td>\n",
       "      <td>1</td>\n",
       "      <td>130</td>\n",
       "      <td>204</td>\n",
       "      <td>172</td>\n",
       "      <td>0</td>\n",
       "      <td>1.4</td>\n",
       "      <td>2</td>\n",
       "      <td>0</td>\n",
       "      <td>2</td>\n",
       "      <td>1</td>\n",
       "    </tr>\n",
       "    <tr>\n",
       "      <th>3</th>\n",
       "      <td>56</td>\n",
       "      <td>1</td>\n",
       "      <td>1</td>\n",
       "      <td>120</td>\n",
       "      <td>236</td>\n",
       "      <td>178</td>\n",
       "      <td>0</td>\n",
       "      <td>0.8</td>\n",
       "      <td>2</td>\n",
       "      <td>0</td>\n",
       "      <td>2</td>\n",
       "      <td>1</td>\n",
       "    </tr>\n",
       "    <tr>\n",
       "      <th>4</th>\n",
       "      <td>57</td>\n",
       "      <td>0</td>\n",
       "      <td>0</td>\n",
       "      <td>120</td>\n",
       "      <td>354</td>\n",
       "      <td>163</td>\n",
       "      <td>1</td>\n",
       "      <td>0.6</td>\n",
       "      <td>2</td>\n",
       "      <td>0</td>\n",
       "      <td>2</td>\n",
       "      <td>1</td>\n",
       "    </tr>\n",
       "  </tbody>\n",
       "</table>\n",
       "</div>"
      ],
      "text/plain": [
       "   age  sex  cp  trestbps  chol  thalach  exang  oldpeak  slope  ca  thal  \\\n",
       "0   63    1   3       145   233      150      0      2.3      0   0     1   \n",
       "1   37    1   2       130   250      187      0      3.5      0   0     2   \n",
       "2   41    0   1       130   204      172      0      1.4      2   0     2   \n",
       "3   56    1   1       120   236      178      0      0.8      2   0     2   \n",
       "4   57    0   0       120   354      163      1      0.6      2   0     2   \n",
       "\n",
       "   target  \n",
       "0       1  \n",
       "1       1  \n",
       "2       1  \n",
       "3       1  \n",
       "4       1  "
      ]
     },
     "execution_count": 96,
     "metadata": {},
     "output_type": "execute_result"
    }
   ],
   "source": [
    "df_new.head()"
   ]
  },
  {
   "cell_type": "markdown",
   "metadata": {},
   "source": [
    "Selanjutnya kita akan fokus pada data yang memiliki potensi serangan jantung lebih besar yaitu target==1"
   ]
  },
  {
   "cell_type": "code",
   "execution_count": 98,
   "metadata": {},
   "outputs": [
    {
     "data": {
      "text/html": [
       "<div>\n",
       "<style scoped>\n",
       "    .dataframe tbody tr th:only-of-type {\n",
       "        vertical-align: middle;\n",
       "    }\n",
       "\n",
       "    .dataframe tbody tr th {\n",
       "        vertical-align: top;\n",
       "    }\n",
       "\n",
       "    .dataframe thead th {\n",
       "        text-align: right;\n",
       "    }\n",
       "</style>\n",
       "<table border=\"1\" class=\"dataframe\">\n",
       "  <thead>\n",
       "    <tr style=\"text-align: right;\">\n",
       "      <th></th>\n",
       "      <th>age</th>\n",
       "      <th>sex</th>\n",
       "      <th>cp</th>\n",
       "      <th>trestbps</th>\n",
       "      <th>chol</th>\n",
       "      <th>thalach</th>\n",
       "      <th>exang</th>\n",
       "      <th>oldpeak</th>\n",
       "      <th>slope</th>\n",
       "      <th>ca</th>\n",
       "      <th>thal</th>\n",
       "      <th>target</th>\n",
       "    </tr>\n",
       "  </thead>\n",
       "  <tbody>\n",
       "    <tr>\n",
       "      <th>0</th>\n",
       "      <td>63</td>\n",
       "      <td>1</td>\n",
       "      <td>3</td>\n",
       "      <td>145</td>\n",
       "      <td>233</td>\n",
       "      <td>150</td>\n",
       "      <td>0</td>\n",
       "      <td>2.3</td>\n",
       "      <td>0</td>\n",
       "      <td>0</td>\n",
       "      <td>1</td>\n",
       "      <td>1</td>\n",
       "    </tr>\n",
       "    <tr>\n",
       "      <th>1</th>\n",
       "      <td>37</td>\n",
       "      <td>1</td>\n",
       "      <td>2</td>\n",
       "      <td>130</td>\n",
       "      <td>250</td>\n",
       "      <td>187</td>\n",
       "      <td>0</td>\n",
       "      <td>3.5</td>\n",
       "      <td>0</td>\n",
       "      <td>0</td>\n",
       "      <td>2</td>\n",
       "      <td>1</td>\n",
       "    </tr>\n",
       "    <tr>\n",
       "      <th>2</th>\n",
       "      <td>41</td>\n",
       "      <td>0</td>\n",
       "      <td>1</td>\n",
       "      <td>130</td>\n",
       "      <td>204</td>\n",
       "      <td>172</td>\n",
       "      <td>0</td>\n",
       "      <td>1.4</td>\n",
       "      <td>2</td>\n",
       "      <td>0</td>\n",
       "      <td>2</td>\n",
       "      <td>1</td>\n",
       "    </tr>\n",
       "    <tr>\n",
       "      <th>3</th>\n",
       "      <td>56</td>\n",
       "      <td>1</td>\n",
       "      <td>1</td>\n",
       "      <td>120</td>\n",
       "      <td>236</td>\n",
       "      <td>178</td>\n",
       "      <td>0</td>\n",
       "      <td>0.8</td>\n",
       "      <td>2</td>\n",
       "      <td>0</td>\n",
       "      <td>2</td>\n",
       "      <td>1</td>\n",
       "    </tr>\n",
       "    <tr>\n",
       "      <th>4</th>\n",
       "      <td>57</td>\n",
       "      <td>0</td>\n",
       "      <td>0</td>\n",
       "      <td>120</td>\n",
       "      <td>354</td>\n",
       "      <td>163</td>\n",
       "      <td>1</td>\n",
       "      <td>0.6</td>\n",
       "      <td>2</td>\n",
       "      <td>0</td>\n",
       "      <td>2</td>\n",
       "      <td>1</td>\n",
       "    </tr>\n",
       "  </tbody>\n",
       "</table>\n",
       "</div>"
      ],
      "text/plain": [
       "   age  sex  cp  trestbps  chol  thalach  exang  oldpeak  slope  ca  thal  \\\n",
       "0   63    1   3       145   233      150      0      2.3      0   0     1   \n",
       "1   37    1   2       130   250      187      0      3.5      0   0     2   \n",
       "2   41    0   1       130   204      172      0      1.4      2   0     2   \n",
       "3   56    1   1       120   236      178      0      0.8      2   0     2   \n",
       "4   57    0   0       120   354      163      1      0.6      2   0     2   \n",
       "\n",
       "   target  \n",
       "0       1  \n",
       "1       1  \n",
       "2       1  \n",
       "3       1  \n",
       "4       1  "
      ]
     },
     "execution_count": 98,
     "metadata": {},
     "output_type": "execute_result"
    }
   ],
   "source": [
    "df_new_yes = df_new[(df_new['target']==1)]\n",
    "df_new_yes.head()"
   ]
  },
  {
   "cell_type": "code",
   "execution_count": 99,
   "metadata": {},
   "outputs": [
    {
     "data": {
      "text/plain": [
       "<AxesSubplot:xlabel='age', ylabel='Count'>"
      ]
     },
     "execution_count": 99,
     "metadata": {},
     "output_type": "execute_result"
    },
    {
     "data": {
      "image/png": "[encoded data removed]",
      "text/plain": [
       "<Figure size 720x432 with 1 Axes>"
      ]
     },
     "metadata": {
      "needs_background": "light"
     },
     "output_type": "display_data"
    }
   ],
   "source": [
    "sns.histplot(data=df_new_yes, x='age',color='purple')"
   ]
  },
  {
   "cell_type": "markdown",
   "metadata": {},
   "source": [
    "Dari Histogram diatas rentang usia dari 40-60 memiliki jumlah peluang yang lebih besar terkena serangan jantung"
   ]
  },
  {
   "cell_type": "code",
   "execution_count": 100,
   "metadata": {},
   "outputs": [],
   "source": [
    "sex_heart_attack= df_new_yes['sex'].value_counts()"
   ]
  },
  {
   "cell_type": "code",
   "execution_count": 101,
   "metadata": {},
   "outputs": [
    {
     "data": {
      "text/plain": [
       "array([1, 0], dtype=int64)"
      ]
     },
     "execution_count": 101,
     "metadata": {},
     "output_type": "execute_result"
    }
   ],
   "source": [
    "labels = df_new_yes['sex'].unique()\n",
    "labels"
   ]
  },
  {
   "cell_type": "code",
   "execution_count": 104,
   "metadata": {},
   "outputs": [
    {
     "data": {
      "image/png": "[encoded data removed]",
      "text/plain": [
       "<Figure size 864x576 with 1 Axes>"
      ]
     },
     "metadata": {},
     "output_type": "display_data"
    }
   ],
   "source": [
    "colors = sns.color_palette('pastel')[0:2]\n",
    "sns.set_theme(style=\"whitegrid\")\n",
    "fig, ax = plt.subplots(figsize=(12, 8))\n",
    "plt.pie(sex_heart_attack, labels= labels, colors=colors, autopct='%.0f%%')\n",
    "plt.title(\"Persentase Sex Heart Attack\")\n",
    "plt.show()"
   ]
  },
  {
   "cell_type": "markdown",
   "metadata": {},
   "source": [
    "Berdasarkan pie chart diatas resiko terkena serangan jantung 56% adalah 'sex'==1 dan 44% 'sex'==0"
   ]
  },
  {
   "cell_type": "code",
   "execution_count": 106,
   "metadata": {},
   "outputs": [
    {
     "data": {
      "text/plain": [
       "array([3, 2, 1, 0], dtype=int64)"
      ]
     },
     "execution_count": 106,
     "metadata": {},
     "output_type": "execute_result"
    }
   ],
   "source": [
    "cp_heart_attack= df_new_yes['cp'].value_counts()\n",
    "labels_cp = df_new_yes['cp'].unique()\n",
    "labels_cp"
   ]
  },
  {
   "cell_type": "code",
   "execution_count": 107,
   "metadata": {},
   "outputs": [
    {
     "data": {
      "image/png": "[encoded data removed]",
      "text/plain": [
       "<Figure size 864x576 with 1 Axes>"
      ]
     },
     "metadata": {},
     "output_type": "display_data"
    }
   ],
   "source": [
    "colors = sns.color_palette('pastel')[0:5]\n",
    "sns.set_theme(style=\"whitegrid\")\n",
    "fig, ax = plt.subplots(figsize=(12, 8))\n",
    "plt.pie(cp_heart_attack, labels= labels_cp, colors=colors, autopct='%.0f%%')\n",
    "plt.title(\"Persentase Chest Pain Heart Attack\")\n",
    "plt.show()"
   ]
  },
  {
   "cell_type": "markdown",
   "metadata": {},
   "source": [
    "Berdasarkan pie chart diatas resiko terkena serangan jantung 42% adalah 'cp'==3, 25% adalah 'cp'==2, 24% adalah 'cp'==1, dan 10% adalah 'cp'==0"
   ]
  },
  {
   "cell_type": "code",
   "execution_count": 108,
   "metadata": {},
   "outputs": [
    {
     "data": {
      "text/plain": [
       "<AxesSubplot:xlabel='trestbps', ylabel='Count'>"
      ]
     },
     "execution_count": 108,
     "metadata": {},
     "output_type": "execute_result"
    },
    {
     "data": {
      "image/png": "[encoded data removed]",
      "text/plain": [
       "<Figure size 720x432 with 1 Axes>"
      ]
     },
     "metadata": {},
     "output_type": "display_data"
    }
   ],
   "source": [
    "sns.histplot(data=df_new_yes, x='trestbps',color='purple')"
   ]
  },
  {
   "cell_type": "markdown",
   "metadata": {},
   "source": [
    "Berdasarkan histogram diatas resiko terkena serangan jantung lebih besar dilihat dari feature trestbps = resting blood pressure adalah di interval 110-150"
   ]
  },
  {
   "cell_type": "markdown",
   "metadata": {},
   "source": [
    "## Data Preprocessing"
   ]
  },
  {
   "cell_type": "markdown",
   "metadata": {},
   "source": [
    "Split data menjadi independent dan dependent data"
   ]
  },
  {
   "cell_type": "code",
   "execution_count": 46,
   "metadata": {},
   "outputs": [],
   "source": [
    "X = df_new.drop(['target'], axis=1)\n",
    "y = df_new['target']"
   ]
  },
  {
   "cell_type": "markdown",
   "metadata": {},
   "source": [
    "Bagi data menjadi data train dan data test"
   ]
  },
  {
   "cell_type": "code",
   "execution_count": 47,
   "metadata": {},
   "outputs": [],
   "source": [
    "X_train, X_test, y_train, y_test = train_test_split(X, y, test_size=0.2, stratify=y, random_state=0)"
   ]
  },
  {
   "cell_type": "code",
   "execution_count": 58,
   "metadata": {},
   "outputs": [],
   "source": [
    "numerical_pipeline = Pipeline([\n",
    "                               (\"scaler\", MinMaxScaler())\n",
    "                                ])"
   ]
  },
  {
   "cell_type": "code",
   "execution_count": 50,
   "metadata": {},
   "outputs": [
    {
     "data": {
      "text/html": [
       "<div>\n",
       "<style scoped>\n",
       "    .dataframe tbody tr th:only-of-type {\n",
       "        vertical-align: middle;\n",
       "    }\n",
       "\n",
       "    .dataframe tbody tr th {\n",
       "        vertical-align: top;\n",
       "    }\n",
       "\n",
       "    .dataframe thead th {\n",
       "        text-align: right;\n",
       "    }\n",
       "</style>\n",
       "<table border=\"1\" class=\"dataframe\">\n",
       "  <thead>\n",
       "    <tr style=\"text-align: right;\">\n",
       "      <th></th>\n",
       "      <th>age</th>\n",
       "      <th>sex</th>\n",
       "      <th>cp</th>\n",
       "      <th>trestbps</th>\n",
       "      <th>chol</th>\n",
       "      <th>thalach</th>\n",
       "      <th>exang</th>\n",
       "      <th>oldpeak</th>\n",
       "      <th>slope</th>\n",
       "      <th>ca</th>\n",
       "      <th>thal</th>\n",
       "      <th>target</th>\n",
       "    </tr>\n",
       "  </thead>\n",
       "  <tbody>\n",
       "    <tr>\n",
       "      <th>0</th>\n",
       "      <td>63</td>\n",
       "      <td>1</td>\n",
       "      <td>3</td>\n",
       "      <td>145</td>\n",
       "      <td>233</td>\n",
       "      <td>150</td>\n",
       "      <td>0</td>\n",
       "      <td>2.3</td>\n",
       "      <td>0</td>\n",
       "      <td>0</td>\n",
       "      <td>1</td>\n",
       "      <td>1</td>\n",
       "    </tr>\n",
       "    <tr>\n",
       "      <th>1</th>\n",
       "      <td>37</td>\n",
       "      <td>1</td>\n",
       "      <td>2</td>\n",
       "      <td>130</td>\n",
       "      <td>250</td>\n",
       "      <td>187</td>\n",
       "      <td>0</td>\n",
       "      <td>3.5</td>\n",
       "      <td>0</td>\n",
       "      <td>0</td>\n",
       "      <td>2</td>\n",
       "      <td>1</td>\n",
       "    </tr>\n",
       "    <tr>\n",
       "      <th>2</th>\n",
       "      <td>41</td>\n",
       "      <td>0</td>\n",
       "      <td>1</td>\n",
       "      <td>130</td>\n",
       "      <td>204</td>\n",
       "      <td>172</td>\n",
       "      <td>0</td>\n",
       "      <td>1.4</td>\n",
       "      <td>2</td>\n",
       "      <td>0</td>\n",
       "      <td>2</td>\n",
       "      <td>1</td>\n",
       "    </tr>\n",
       "    <tr>\n",
       "      <th>3</th>\n",
       "      <td>56</td>\n",
       "      <td>1</td>\n",
       "      <td>1</td>\n",
       "      <td>120</td>\n",
       "      <td>236</td>\n",
       "      <td>178</td>\n",
       "      <td>0</td>\n",
       "      <td>0.8</td>\n",
       "      <td>2</td>\n",
       "      <td>0</td>\n",
       "      <td>2</td>\n",
       "      <td>1</td>\n",
       "    </tr>\n",
       "    <tr>\n",
       "      <th>4</th>\n",
       "      <td>57</td>\n",
       "      <td>0</td>\n",
       "      <td>0</td>\n",
       "      <td>120</td>\n",
       "      <td>354</td>\n",
       "      <td>163</td>\n",
       "      <td>1</td>\n",
       "      <td>0.6</td>\n",
       "      <td>2</td>\n",
       "      <td>0</td>\n",
       "      <td>2</td>\n",
       "      <td>1</td>\n",
       "    </tr>\n",
       "  </tbody>\n",
       "</table>\n",
       "</div>"
      ],
      "text/plain": [
       "   age  sex  cp  trestbps  chol  thalach  exang  oldpeak  slope  ca  thal  \\\n",
       "0   63    1   3       145   233      150      0      2.3      0   0     1   \n",
       "1   37    1   2       130   250      187      0      3.5      0   0     2   \n",
       "2   41    0   1       130   204      172      0      1.4      2   0     2   \n",
       "3   56    1   1       120   236      178      0      0.8      2   0     2   \n",
       "4   57    0   0       120   354      163      1      0.6      2   0     2   \n",
       "\n",
       "   target  \n",
       "0       1  \n",
       "1       1  \n",
       "2       1  \n",
       "3       1  \n",
       "4       1  "
      ]
     },
     "execution_count": 50,
     "metadata": {},
     "output_type": "execute_result"
    }
   ],
   "source": [
    "df_new.head()"
   ]
  },
  {
   "cell_type": "code",
   "execution_count": 52,
   "metadata": {},
   "outputs": [
    {
     "data": {
      "text/plain": [
       "array([0, 2, 1], dtype=int64)"
      ]
     },
     "execution_count": 52,
     "metadata": {},
     "output_type": "execute_result"
    }
   ],
   "source": [
    "df_new['slope'].unique()"
   ]
  },
  {
   "cell_type": "code",
   "execution_count": 56,
   "metadata": {},
   "outputs": [
    {
     "data": {
      "text/plain": [
       "array([0, 2, 1, 3, 4], dtype=int64)"
      ]
     },
     "execution_count": 56,
     "metadata": {},
     "output_type": "execute_result"
    }
   ],
   "source": [
    "df_new['ca'].unique()"
   ]
  },
  {
   "cell_type": "code",
   "execution_count": 55,
   "metadata": {},
   "outputs": [
    {
     "data": {
      "text/plain": [
       "array([0, 1], dtype=int64)"
      ]
     },
     "execution_count": 55,
     "metadata": {},
     "output_type": "execute_result"
    }
   ],
   "source": [
    "df_new['exang'].unique()"
   ]
  },
  {
   "cell_type": "code",
   "execution_count": 54,
   "metadata": {},
   "outputs": [
    {
     "data": {
      "text/plain": [
       "array([0, 2, 1], dtype=int64)"
      ]
     },
     "execution_count": 54,
     "metadata": {},
     "output_type": "execute_result"
    }
   ],
   "source": [
    "df_new['slope'].unique()"
   ]
  },
  {
   "cell_type": "code",
   "execution_count": 59,
   "metadata": {},
   "outputs": [],
   "source": [
    "preprocessor = ColumnTransformer([\n",
    "                                  (\"numeric\", numerical_pipeline, ['age', 'trestbps', 'chol', 'thalach', 'oldpeak'])                \n",
    "\n",
    "])"
   ]
  },
  {
   "cell_type": "markdown",
   "metadata": {},
   "source": [
    "## Pendefinisian Model"
   ]
  },
  {
   "cell_type": "markdown",
   "metadata": {},
   "source": [
    "#### Baseline Model Decision Tree dan Random Forest\n",
    "\n",
    "Baseline Model adalah model dasar yang akan kita gunakan dengan menggunakan default hyperparameter nya"
   ]
  },
  {
   "cell_type": "markdown",
   "metadata": {},
   "source": [
    "##### Decision Tree"
   ]
  },
  {
   "cell_type": "code",
   "execution_count": 60,
   "metadata": {},
   "outputs": [],
   "source": [
    "# Define mode Decision Tree\n",
    "tree = DecisionTreeClassifier()\n",
    "\n",
    "pipeline_tree = Pipeline([\n",
    "                      (\"prep_tree\", preprocessor),\n",
    "                      (\"algo_tree\", tree)\n",
    "                      ])\n"
   ]
  },
  {
   "cell_type": "markdown",
   "metadata": {},
   "source": [
    "##### Random forest"
   ]
  },
  {
   "cell_type": "code",
   "execution_count": 61,
   "metadata": {},
   "outputs": [],
   "source": [
    "rf = RandomForestClassifier()\n",
    "\n",
    "pipeline_rf = Pipeline([\n",
    "                      (\"prep_rf\", preprocessor),\n",
    "                      (\"algo_rf\", rf)\n",
    "                      ])"
   ]
  },
  {
   "cell_type": "markdown",
   "metadata": {},
   "source": [
    "#### Hyperparameter Tuning Decision Tree dan Random Forest"
   ]
  },
  {
   "cell_type": "markdown",
   "metadata": {},
   "source": [
    "##### Decision Tree"
   ]
  },
  {
   "cell_type": "markdown",
   "metadata": {},
   "source": [
    "- Kita akan menggunakan fungsi untuk mengukur kualitas split yaitu gini dan entropy (hanya ada dua tipe)\n",
    "- max_depth range 1 sampe 10 kita tidak ingin model kita overfit\n",
    "- minimun sple split digunakan untuk split di internal node\n",
    "- min sample leaf adalah jumlah daun yang kita gunakan kita pilih range 1 sampe 5\n"
   ]
  },
  {
   "cell_type": "code",
   "execution_count": 75,
   "metadata": {},
   "outputs": [],
   "source": [
    "parameter_tree = {\n",
    "    \"algo_tree__criterion\":  ['gini', 'entropy'],\n",
    "    \"algo_tree__max_depth\": range(1, 10),\n",
    "    \"algo_tree__min_samples_split\": range(1, 10),\n",
    "    \"algo_tree__min_samples_leaf\": range(1, 5) \n",
    "}\n"
   ]
  },
  {
   "cell_type": "code",
   "execution_count": 76,
   "metadata": {},
   "outputs": [],
   "source": [
    "model_best_tree = GridSearchCV(pipeline_tree, param_grid= parameter_tree, cv = 5, n_jobs=-1, verbose=1)"
   ]
  },
  {
   "cell_type": "markdown",
   "metadata": {},
   "source": [
    "##### Random forest"
   ]
  },
  {
   "cell_type": "markdown",
   "metadata": {},
   "source": [
    "- Kita Pilih jumlah pohon(n_estimators) 10, 100, dan 1000 untuk menguji model kita\n",
    "- menggunakan max_feature: sqrt adalah tidak semua pohon yang digunakan hanya akar kuadrat dari total fitur,\n",
    " max_feature: log2 alah tidak semua pohon yang digunakan hanya log 2dari total fitur"
   ]
  },
  {
   "cell_type": "code",
   "execution_count": 118,
   "metadata": {},
   "outputs": [],
   "source": [
    "parameter_rf = {\n",
    "    \"algo_rf__n_estimators\":  [10, 100, 1000],\n",
    "    \"algo_rf__max_features\": ['sqrt', 'log2']\n",
    "}"
   ]
  },
  {
   "cell_type": "code",
   "execution_count": 119,
   "metadata": {},
   "outputs": [],
   "source": [
    "model_best_rf = GridSearchCV(pipeline_rf, param_grid= parameter_rf, cv = 5, n_jobs=-1, verbose=1)"
   ]
  },
  {
   "cell_type": "markdown",
   "metadata": {},
   "source": [
    "## Pelatihan Model"
   ]
  },
  {
   "cell_type": "markdown",
   "metadata": {},
   "source": [
    "##### Decision Tree"
   ]
  },
  {
   "cell_type": "code",
   "execution_count": 62,
   "metadata": {},
   "outputs": [
    {
     "data": {
      "text/plain": [
       "Pipeline(steps=[('prep_tree',\n",
       "                 ColumnTransformer(transformers=[('numeric',\n",
       "                                                  Pipeline(steps=[('scaler',\n",
       "                                                                   MinMaxScaler())]),\n",
       "                                                  ['age', 'trestbps', 'chol',\n",
       "                                                   'thalach', 'oldpeak'])])),\n",
       "                ('algo_tree', DecisionTreeClassifier())])"
      ]
     },
     "execution_count": 62,
     "metadata": {},
     "output_type": "execute_result"
    }
   ],
   "source": [
    "model_train_tree = pipeline_tree.fit(X_train, y_train)\n",
    "model_train_tree"
   ]
  },
  {
   "cell_type": "markdown",
   "metadata": {},
   "source": [
    "##### Random forest"
   ]
  },
  {
   "cell_type": "code",
   "execution_count": 63,
   "metadata": {},
   "outputs": [
    {
     "data": {
      "text/plain": [
       "Pipeline(steps=[('prep_rf',\n",
       "                 ColumnTransformer(transformers=[('numeric',\n",
       "                                                  Pipeline(steps=[('scaler',\n",
       "                                                                   MinMaxScaler())]),\n",
       "                                                  ['age', 'trestbps', 'chol',\n",
       "                                                   'thalach', 'oldpeak'])])),\n",
       "                ('algo_rf', RandomForestClassifier())])"
      ]
     },
     "execution_count": 63,
     "metadata": {},
     "output_type": "execute_result"
    }
   ],
   "source": [
    "model_train_rf = pipeline_rf.fit(X_train, y_train)\n",
    "model_train_rf"
   ]
  },
  {
   "cell_type": "markdown",
   "metadata": {},
   "source": [
    "##### Train Model dengan Best Model dari Tuning"
   ]
  },
  {
   "cell_type": "code",
   "execution_count": 117,
   "metadata": {},
   "outputs": [
    {
     "name": "stdout",
     "output_type": "stream",
     "text": [
      "Fitting 5 folds for each of 648 candidates, totalling 3240 fits\n"
     ]
    },
    {
     "name": "stderr",
     "output_type": "stream",
     "text": [
      "C:\\Users\\sivis\\AppData\\Local\\Programs\\Python\\Python38\\lib\\site-packages\\sklearn\\model_selection\\_validation.py:372: FitFailedWarning: \n",
      "360 fits failed out of a total of 3240.\n",
      "The score on these train-test partitions for these parameters will be set to nan.\n",
      "If these failures are not expected, you can try to debug them by setting error_score='raise'.\n",
      "\n",
      "Below are more details about the failures:\n",
      "--------------------------------------------------------------------------------\n",
      "360 fits failed with the following error:\n",
      "Traceback (most recent call last):\n",
      "  File \"C:\\Users\\sivis\\AppData\\Local\\Programs\\Python\\Python38\\lib\\site-packages\\sklearn\\model_selection\\_validation.py\", line 680, in _fit_and_score\n",
      "    estimator.fit(X_train, y_train, **fit_params)\n",
      "  File \"C:\\Users\\sivis\\AppData\\Local\\Programs\\Python\\Python38\\lib\\site-packages\\sklearn\\pipeline.py\", line 394, in fit\n",
      "    self._final_estimator.fit(Xt, y, **fit_params_last_step)\n",
      "  File \"C:\\Users\\sivis\\AppData\\Local\\Programs\\Python\\Python38\\lib\\site-packages\\sklearn\\tree\\_classes.py\", line 937, in fit\n",
      "    super().fit(\n",
      "  File \"C:\\Users\\sivis\\AppData\\Local\\Programs\\Python\\Python38\\lib\\site-packages\\sklearn\\tree\\_classes.py\", line 250, in fit\n",
      "    raise ValueError(\n",
      "ValueError: min_samples_split must be an integer greater than 1 or a float in (0.0, 1.0]; got the integer 1\n",
      "\n",
      "  warnings.warn(some_fits_failed_message, FitFailedWarning)\n",
      "C:\\Users\\sivis\\AppData\\Local\\Programs\\Python\\Python38\\lib\\site-packages\\sklearn\\model_selection\\_search.py:969: UserWarning: One or more of the test scores are non-finite: [       nan 0.68154762 0.68154762 0.68154762 0.68154762 0.68154762\n",
      " 0.68154762 0.68154762 0.68154762        nan 0.68154762 0.68154762\n",
      " 0.68154762 0.68154762 0.68154762 0.68154762 0.68154762 0.68154762\n",
      "        nan 0.68154762 0.68154762 0.68154762 0.68154762 0.68154762\n",
      " 0.68154762 0.68154762 0.68154762        nan 0.68154762 0.68154762\n",
      " 0.68154762 0.68154762 0.68154762 0.68154762 0.68154762 0.68154762\n",
      "        nan 0.71062925 0.71062925 0.71062925 0.71062925 0.71062925\n",
      " 0.71062925 0.71062925 0.71062925        nan 0.71062925 0.71062925\n",
      " 0.71062925 0.71062925 0.71062925 0.71062925 0.71062925 0.71062925\n",
      "        nan 0.71062925 0.71062925 0.71062925 0.71062925 0.71062925\n",
      " 0.71062925 0.71062925 0.71062925        nan 0.71062925 0.71062925\n",
      " 0.71062925 0.71062925 0.71062925 0.71062925 0.71062925 0.71062925\n",
      "        nan 0.69812925 0.69812925 0.69812925 0.69812925 0.69812925\n",
      " 0.69812925 0.69812925 0.69812925        nan 0.69404762 0.69404762\n",
      " 0.69404762 0.69404762 0.69404762 0.69404762 0.69404762 0.69404762\n",
      "        nan 0.69404762 0.69404762 0.69404762 0.69404762 0.69404762\n",
      " 0.69404762 0.69404762 0.69404762        nan 0.69404762 0.69404762\n",
      " 0.69404762 0.69404762 0.69404762 0.69404762 0.69404762 0.69404762\n",
      "        nan 0.68146259 0.67738095 0.67738095 0.67329932 0.68579932\n",
      " 0.68996599 0.67746599 0.67746599        nan 0.68571429 0.68571429\n",
      " 0.68571429 0.68571429 0.68571429 0.68988095 0.68988095 0.68988095\n",
      "        nan 0.68571429 0.68988095 0.68571429 0.68988095 0.68988095\n",
      " 0.68988095 0.68988095 0.68988095        nan 0.68988095 0.68988095\n",
      " 0.68988095 0.68988095 0.68988095 0.68988095 0.68988095 0.68988095\n",
      "        nan 0.66930272 0.67763605 0.67763605 0.67355442 0.66938776\n",
      " 0.68188776 0.67772109 0.68605442        nan 0.67789116 0.67789116\n",
      " 0.67789116 0.68214286 0.68197279 0.68613946 0.68197279 0.67780612\n",
      "        nan 0.69430272 0.69013605 0.68180272 0.68596939 0.68596939\n",
      " 0.68180272 0.67763605 0.67763605        nan 0.68579932 0.68579932\n",
      " 0.68163265 0.68579932 0.68579932 0.68163265 0.68579932 0.69413265\n",
      "        nan 0.65697279 0.66530612 0.65697279 0.66539116 0.66530612\n",
      " 0.66113946 0.67363946 0.67355442        nan 0.67797619 0.66530612\n",
      " 0.67789116 0.68197279 0.69030612 0.66947279 0.67780612 0.67363946\n",
      "        nan 0.66513605 0.66522109 0.67772109 0.68188776 0.65272109\n",
      " 0.67355442 0.67763605 0.68180272        nan 0.68163265 0.68163265\n",
      " 0.68579932 0.68163265 0.68163265 0.67746599 0.67746599 0.68163265\n",
      "        nan 0.66938776 0.66113946 0.64863946 0.64872449 0.65280612\n",
      " 0.66113946 0.66530612 0.66522109        nan 0.66539116 0.66130952\n",
      " 0.65705782 0.66539116 0.66947279 0.67363946 0.66947279 0.65697279\n",
      "        nan 0.67772109 0.67346939 0.66105442 0.67763605 0.67346939\n",
      " 0.68188776 0.67763605 0.67763605        nan 0.67329932 0.67746599\n",
      " 0.67746599 0.67329932 0.66913265 0.67746599 0.67329932 0.67746599\n",
      "        nan 0.66113946 0.65280612 0.64855442 0.65280612 0.65272109\n",
      " 0.65697279 0.66113946 0.66522109        nan 0.65297619 0.65714286\n",
      " 0.66113946 0.66130952 0.66947279 0.67363946 0.66530612 0.66113946\n",
      "        nan 0.66938776 0.66522109 0.66105442 0.66938776 0.66513605\n",
      " 0.66096939 0.67763605 0.67346939        nan 0.68163265 0.68163265\n",
      " 0.67746599 0.68579932 0.68163265 0.68163265 0.67329932 0.68579932\n",
      "        nan 0.67763605 0.63214286 0.64447279 0.63205782 0.63605442\n",
      " 0.64039116 0.64455782 0.65289116        nan 0.65697279 0.64464286\n",
      " 0.64064626 0.64056122 0.65289116 0.65705782 0.65705782 0.64872449\n",
      "        nan 0.66938776 0.66113946 0.66530612 0.66522109 0.68197279\n",
      " 0.66938776 0.66522109 0.67355442        nan 0.68171769 0.67755102\n",
      " 0.66921769 0.68588435 0.67338435 0.67755102 0.68171769 0.68171769\n",
      "        nan 0.68154762 0.68154762 0.68154762 0.68154762 0.68154762\n",
      " 0.68154762 0.68154762 0.68154762        nan 0.68154762 0.68154762\n",
      " 0.68154762 0.68154762 0.68154762 0.68154762 0.68154762 0.68154762\n",
      "        nan 0.68154762 0.68154762 0.68154762 0.68154762 0.68154762\n",
      " 0.68154762 0.68154762 0.68154762        nan 0.68154762 0.68154762\n",
      " 0.68154762 0.68154762 0.68154762 0.68154762 0.68154762 0.68154762\n",
      "        nan 0.70229592 0.70229592 0.70229592 0.70229592 0.70229592\n",
      " 0.70229592 0.70229592 0.70229592        nan 0.70229592 0.70229592\n",
      " 0.70229592 0.70229592 0.70229592 0.70229592 0.70229592 0.70229592\n",
      "        nan 0.70229592 0.70229592 0.70229592 0.70229592 0.70229592\n",
      " 0.70229592 0.70229592 0.70229592        nan 0.70229592 0.70229592\n",
      " 0.70229592 0.70229592 0.70229592 0.70229592 0.70229592 0.70229592\n",
      "        nan 0.68571429 0.68571429 0.68571429 0.68571429 0.68571429\n",
      " 0.68571429 0.68571429 0.68571429        nan 0.68571429 0.68571429\n",
      " 0.68571429 0.68571429 0.68571429 0.68571429 0.68571429 0.68571429\n",
      "        nan 0.68571429 0.68571429 0.68571429 0.68571429 0.68571429\n",
      " 0.68571429 0.68571429 0.68571429        nan 0.68571429 0.68571429\n",
      " 0.68571429 0.68571429 0.68571429 0.68571429 0.68571429 0.68571429\n",
      "        nan 0.68562925 0.68988095 0.68154762 0.68988095 0.68154762\n",
      " 0.68571429 0.69404762 0.69404762        nan 0.68988095 0.68988095\n",
      " 0.68988095 0.68988095 0.68988095 0.69404762 0.69404762 0.69404762\n",
      "        nan 0.69812925 0.69396259 0.69396259 0.69396259 0.69396259\n",
      " 0.69812925 0.69812925 0.69812925        nan 0.69812925 0.69812925\n",
      " 0.69812925 0.69812925 0.69812925 0.69812925 0.69812925 0.69812925\n",
      "        nan 0.66530612 0.67755102 0.67338435 0.67338435 0.67338435\n",
      " 0.67755102 0.68588435 0.69005102        nan 0.68588435 0.67763605\n",
      " 0.68596939 0.68171769 0.68996599 0.69413265 0.68996599 0.69413265\n",
      "        nan 0.68988095 0.68988095 0.68571429 0.68988095 0.68988095\n",
      " 0.68988095 0.68988095 0.69821429        nan 0.68154762 0.68154762\n",
      " 0.68988095 0.67738095 0.67738095 0.68988095 0.68571429 0.68988095\n",
      "        nan 0.66904762 0.66522109 0.65272109 0.65263605 0.66913265\n",
      " 0.66088435 0.67755102 0.68588435        nan 0.66505102 0.68579932\n",
      " 0.68571429 0.66921769 0.68154762 0.68988095 0.69396259 0.68562925\n",
      "        nan 0.68979592 0.67321429 0.69396259 0.68979592 0.69387755\n",
      " 0.69804422 0.69387755 0.69387755        nan 0.68554422 0.67721088\n",
      " 0.68554422 0.68554422 0.67721088 0.68554422 0.68554422 0.69804422\n",
      "        nan 0.65272109 0.63630952 0.64030612 0.65272109 0.64438776\n",
      " 0.65255102 0.66096939 0.66105442        nan 0.66088435 0.65671769\n",
      " 0.65680272 0.65671769 0.66505102 0.67338435 0.66071429 0.66913265\n",
      "        nan 0.68154762 0.67312925 0.68554422 0.68562925 0.67312925\n",
      " 0.68137755 0.67721088 0.68971088        nan 0.67721088 0.68137755\n",
      " 0.67721088 0.67304422 0.67304422 0.67304422 0.68137755 0.69387755\n",
      "        nan 0.65263605 0.66096939 0.64030612 0.64438776 0.63197279\n",
      " 0.63188776 0.64022109 0.66513605        nan 0.62372449 0.62789116\n",
      " 0.63197279 0.64438776 0.64022109 0.64855442 0.64438776 0.64430272\n",
      "        nan 0.66921769 0.66096939 0.67321429 0.64838435 0.67321429\n",
      " 0.65671769 0.67329932 0.68988095        nan 0.66496599 0.67738095\n",
      " 0.67329932 0.69404762 0.66913265 0.66488095 0.66079932 0.68154762\n",
      "        nan 0.64872449 0.64872449 0.65688776 0.63214286 0.66105442\n",
      " 0.65280612 0.63622449 0.66113946        nan 0.64030612 0.64022109\n",
      " 0.65263605 0.62380952 0.63197279 0.63613946 0.64022109 0.65272109\n",
      "        nan 0.64430272 0.68163265 0.67755102 0.66904762 0.66913265\n",
      " 0.67755102 0.66496599 0.67338435        nan 0.67338435 0.67338435\n",
      " 0.68163265 0.66505102 0.67746599 0.67329932 0.67755102 0.66505102]\n",
      "  warnings.warn(\n"
     ]
    }
   ],
   "source": [
    "model_tree = model_best_tree.fit(X_train, y_train)"
   ]
  },
  {
   "cell_type": "code",
   "execution_count": 122,
   "metadata": {},
   "outputs": [
    {
     "name": "stdout",
     "output_type": "stream",
     "text": [
      "Best: 0.710629 using {'algo_tree__criterion': 'gini', 'algo_tree__max_depth': 2, 'algo_tree__min_samples_leaf': 1, 'algo_tree__min_samples_split': 2}\n",
      "nan (nan) with: {'algo_tree__criterion': 'gini', 'algo_tree__max_depth': 1, 'algo_tree__min_samples_leaf': 1, 'algo_tree__min_samples_split': 1}\n",
      "0.681548 (0.037931) with: {'algo_tree__criterion': 'gini', 'algo_tree__max_depth': 1, 'algo_tree__min_samples_leaf': 1, 'algo_tree__min_samples_split': 2}\n",
      "0.681548 (0.037931) with: {'algo_tree__criterion': 'gini', 'algo_tree__max_depth': 1, 'algo_tree__min_samples_leaf': 1, 'algo_tree__min_samples_split': 3}\n",
      "0.681548 (0.037931) with: {'algo_tree__criterion': 'gini', 'algo_tree__max_depth': 1, 'algo_tree__min_samples_leaf': 1, 'algo_tree__min_samples_split': 4}\n",
      "0.681548 (0.037931) with: {'algo_tree__criterion': 'gini', 'algo_tree__max_depth': 1, 'algo_tree__min_samples_leaf': 1, 'algo_tree__min_samples_split': 5}\n",
      "0.681548 (0.037931) with: {'algo_tree__criterion': 'gini', 'algo_tree__max_depth': 1, 'algo_tree__min_samples_leaf': 1, 'algo_tree__min_samples_split': 6}\n",
      "0.681548 (0.037931) with: {'algo_tree__criterion': 'gini', 'algo_tree__max_depth': 1, 'algo_tree__min_samples_leaf': 1, 'algo_tree__min_samples_split': 7}\n",
      "0.681548 (0.037931) with: {'algo_tree__criterion': 'gini', 'algo_tree__max_depth': 1, 'algo_tree__min_samples_leaf': 1, 'algo_tree__min_samples_split': 8}\n",
      "0.681548 (0.037931) with: {'algo_tree__criterion': 'gini', 'algo_tree__max_depth': 1, 'algo_tree__min_samples_leaf': 1, 'algo_tree__min_samples_split': 9}\n",
      "nan (nan) with: {'algo_tree__criterion': 'gini', 'algo_tree__max_depth': 1, 'algo_tree__min_samples_leaf': 2, 'algo_tree__min_samples_split': 1}\n",
      "0.681548 (0.037931) with: {'algo_tree__criterion': 'gini', 'algo_tree__max_depth': 1, 'algo_tree__min_samples_leaf': 2, 'algo_tree__min_samples_split': 2}\n",
      "0.681548 (0.037931) with: {'algo_tree__criterion': 'gini', 'algo_tree__max_depth': 1, 'algo_tree__min_samples_leaf': 2, 'algo_tree__min_samples_split': 3}\n",
      "0.681548 (0.037931) with: {'algo_tree__criterion': 'gini', 'algo_tree__max_depth': 1, 'algo_tree__min_samples_leaf': 2, 'algo_tree__min_samples_split': 4}\n",
      "0.681548 (0.037931) with: {'algo_tree__criterion': 'gini', 'algo_tree__max_depth': 1, 'algo_tree__min_samples_leaf': 2, 'algo_tree__min_samples_split': 5}\n",
      "0.681548 (0.037931) with: {'algo_tree__criterion': 'gini', 'algo_tree__max_depth': 1, 'algo_tree__min_samples_leaf': 2, 'algo_tree__min_samples_split': 6}\n",
      "0.681548 (0.037931) with: {'algo_tree__criterion': 'gini', 'algo_tree__max_depth': 1, 'algo_tree__min_samples_leaf': 2, 'algo_tree__min_samples_split': 7}\n",
      "0.681548 (0.037931) with: {'algo_tree__criterion': 'gini', 'algo_tree__max_depth': 1, 'algo_tree__min_samples_leaf': 2, 'algo_tree__min_samples_split': 8}\n",
      "0.681548 (0.037931) with: {'algo_tree__criterion': 'gini', 'algo_tree__max_depth': 1, 'algo_tree__min_samples_leaf': 2, 'algo_tree__min_samples_split': 9}\n",
      "nan (nan) with: {'algo_tree__criterion': 'gini', 'algo_tree__max_depth': 1, 'algo_tree__min_samples_leaf': 3, 'algo_tree__min_samples_split': 1}\n",
      "0.681548 (0.037931) with: {'algo_tree__criterion': 'gini', 'algo_tree__max_depth': 1, 'algo_tree__min_samples_leaf': 3, 'algo_tree__min_samples_split': 2}\n",
      "0.681548 (0.037931) with: {'algo_tree__criterion': 'gini', 'algo_tree__max_depth': 1, 'algo_tree__min_samples_leaf': 3, 'algo_tree__min_samples_split': 3}\n",
      "0.681548 (0.037931) with: {'algo_tree__criterion': 'gini', 'algo_tree__max_depth': 1, 'algo_tree__min_samples_leaf': 3, 'algo_tree__min_samples_split': 4}\n",
      "0.681548 (0.037931) with: {'algo_tree__criterion': 'gini', 'algo_tree__max_depth': 1, 'algo_tree__min_samples_leaf': 3, 'algo_tree__min_samples_split': 5}\n",
      "0.681548 (0.037931) with: {'algo_tree__criterion': 'gini', 'algo_tree__max_depth': 1, 'algo_tree__min_samples_leaf': 3, 'algo_tree__min_samples_split': 6}\n",
      "0.681548 (0.037931) with: {'algo_tree__criterion': 'gini', 'algo_tree__max_depth': 1, 'algo_tree__min_samples_leaf': 3, 'algo_tree__min_samples_split': 7}\n",
      "0.681548 (0.037931) with: {'algo_tree__criterion': 'gini', 'algo_tree__max_depth': 1, 'algo_tree__min_samples_leaf': 3, 'algo_tree__min_samples_split': 8}\n",
      "0.681548 (0.037931) with: {'algo_tree__criterion': 'gini', 'algo_tree__max_depth': 1, 'algo_tree__min_samples_leaf': 3, 'algo_tree__min_samples_split': 9}\n",
      "nan (nan) with: {'algo_tree__criterion': 'gini', 'algo_tree__max_depth': 1, 'algo_tree__min_samples_leaf': 4, 'algo_tree__min_samples_split': 1}\n",
      "0.681548 (0.037931) with: {'algo_tree__criterion': 'gini', 'algo_tree__max_depth': 1, 'algo_tree__min_samples_leaf': 4, 'algo_tree__min_samples_split': 2}\n",
      "0.681548 (0.037931) with: {'algo_tree__criterion': 'gini', 'algo_tree__max_depth': 1, 'algo_tree__min_samples_leaf': 4, 'algo_tree__min_samples_split': 3}\n",
      "0.681548 (0.037931) with: {'algo_tree__criterion': 'gini', 'algo_tree__max_depth': 1, 'algo_tree__min_samples_leaf': 4, 'algo_tree__min_samples_split': 4}\n",
      "0.681548 (0.037931) with: {'algo_tree__criterion': 'gini', 'algo_tree__max_depth': 1, 'algo_tree__min_samples_leaf': 4, 'algo_tree__min_samples_split': 5}\n",
      "0.681548 (0.037931) with: {'algo_tree__criterion': 'gini', 'algo_tree__max_depth': 1, 'algo_tree__min_samples_leaf': 4, 'algo_tree__min_samples_split': 6}\n",
      "0.681548 (0.037931) with: {'algo_tree__criterion': 'gini', 'algo_tree__max_depth': 1, 'algo_tree__min_samples_leaf': 4, 'algo_tree__min_samples_split': 7}\n",
      "0.681548 (0.037931) with: {'algo_tree__criterion': 'gini', 'algo_tree__max_depth': 1, 'algo_tree__min_samples_leaf': 4, 'algo_tree__min_samples_split': 8}\n",
      "0.681548 (0.037931) with: {'algo_tree__criterion': 'gini', 'algo_tree__max_depth': 1, 'algo_tree__min_samples_leaf': 4, 'algo_tree__min_samples_split': 9}\n",
      "nan (nan) with: {'algo_tree__criterion': 'gini', 'algo_tree__max_depth': 2, 'algo_tree__min_samples_leaf': 1, 'algo_tree__min_samples_split': 1}\n",
      "0.710629 (0.030133) with: {'algo_tree__criterion': 'gini', 'algo_tree__max_depth': 2, 'algo_tree__min_samples_leaf': 1, 'algo_tree__min_samples_split': 2}\n",
      "0.710629 (0.030133) with: {'algo_tree__criterion': 'gini', 'algo_tree__max_depth': 2, 'algo_tree__min_samples_leaf': 1, 'algo_tree__min_samples_split': 3}\n",
      "0.710629 (0.030133) with: {'algo_tree__criterion': 'gini', 'algo_tree__max_depth': 2, 'algo_tree__min_samples_leaf': 1, 'algo_tree__min_samples_split': 4}\n",
      "0.710629 (0.030133) with: {'algo_tree__criterion': 'gini', 'algo_tree__max_depth': 2, 'algo_tree__min_samples_leaf': 1, 'algo_tree__min_samples_split': 5}\n",
      "0.710629 (0.030133) with: {'algo_tree__criterion': 'gini', 'algo_tree__max_depth': 2, 'algo_tree__min_samples_leaf': 1, 'algo_tree__min_samples_split': 6}\n",
      "0.710629 (0.030133) with: {'algo_tree__criterion': 'gini', 'algo_tree__max_depth': 2, 'algo_tree__min_samples_leaf': 1, 'algo_tree__min_samples_split': 7}\n",
      "0.710629 (0.030133) with: {'algo_tree__criterion': 'gini', 'algo_tree__max_depth': 2, 'algo_tree__min_samples_leaf': 1, 'algo_tree__min_samples_split': 8}\n",
      "0.710629 (0.030133) with: {'algo_tree__criterion': 'gini', 'algo_tree__max_depth': 2, 'algo_tree__min_samples_leaf': 1, 'algo_tree__min_samples_split': 9}\n",
      "nan (nan) with: {'algo_tree__criterion': 'gini', 'algo_tree__max_depth': 2, 'algo_tree__min_samples_leaf': 2, 'algo_tree__min_samples_split': 1}\n",
      "0.710629 (0.030133) with: {'algo_tree__criterion': 'gini', 'algo_tree__max_depth': 2, 'algo_tree__min_samples_leaf': 2, 'algo_tree__min_samples_split': 2}\n",
      "0.710629 (0.030133) with: {'algo_tree__criterion': 'gini', 'algo_tree__max_depth': 2, 'algo_tree__min_samples_leaf': 2, 'algo_tree__min_samples_split': 3}\n",
      "0.710629 (0.030133) with: {'algo_tree__criterion': 'gini', 'algo_tree__max_depth': 2, 'algo_tree__min_samples_leaf': 2, 'algo_tree__min_samples_split': 4}\n",
      "0.710629 (0.030133) with: {'algo_tree__criterion': 'gini', 'algo_tree__max_depth': 2, 'algo_tree__min_samples_leaf': 2, 'algo_tree__min_samples_split': 5}\n",
      "0.710629 (0.030133) with: {'algo_tree__criterion': 'gini', 'algo_tree__max_depth': 2, 'algo_tree__min_samples_leaf': 2, 'algo_tree__min_samples_split': 6}\n",
      "0.710629 (0.030133) with: {'algo_tree__criterion': 'gini', 'algo_tree__max_depth': 2, 'algo_tree__min_samples_leaf': 2, 'algo_tree__min_samples_split': 7}\n",
      "0.710629 (0.030133) with: {'algo_tree__criterion': 'gini', 'algo_tree__max_depth': 2, 'algo_tree__min_samples_leaf': 2, 'algo_tree__min_samples_split': 8}\n",
      "0.710629 (0.030133) with: {'algo_tree__criterion': 'gini', 'algo_tree__max_depth': 2, 'algo_tree__min_samples_leaf': 2, 'algo_tree__min_samples_split': 9}\n",
      "nan (nan) with: {'algo_tree__criterion': 'gini', 'algo_tree__max_depth': 2, 'algo_tree__min_samples_leaf': 3, 'algo_tree__min_samples_split': 1}\n",
      "0.710629 (0.030133) with: {'algo_tree__criterion': 'gini', 'algo_tree__max_depth': 2, 'algo_tree__min_samples_leaf': 3, 'algo_tree__min_samples_split': 2}\n",
      "0.710629 (0.030133) with: {'algo_tree__criterion': 'gini', 'algo_tree__max_depth': 2, 'algo_tree__min_samples_leaf': 3, 'algo_tree__min_samples_split': 3}\n",
      "0.710629 (0.030133) with: {'algo_tree__criterion': 'gini', 'algo_tree__max_depth': 2, 'algo_tree__min_samples_leaf': 3, 'algo_tree__min_samples_split': 4}\n",
      "0.710629 (0.030133) with: {'algo_tree__criterion': 'gini', 'algo_tree__max_depth': 2, 'algo_tree__min_samples_leaf': 3, 'algo_tree__min_samples_split': 5}\n",
      "0.710629 (0.030133) with: {'algo_tree__criterion': 'gini', 'algo_tree__max_depth': 2, 'algo_tree__min_samples_leaf': 3, 'algo_tree__min_samples_split': 6}\n",
      "0.710629 (0.030133) with: {'algo_tree__criterion': 'gini', 'algo_tree__max_depth': 2, 'algo_tree__min_samples_leaf': 3, 'algo_tree__min_samples_split': 7}\n",
      "0.710629 (0.030133) with: {'algo_tree__criterion': 'gini', 'algo_tree__max_depth': 2, 'algo_tree__min_samples_leaf': 3, 'algo_tree__min_samples_split': 8}\n",
      "0.710629 (0.030133) with: {'algo_tree__criterion': 'gini', 'algo_tree__max_depth': 2, 'algo_tree__min_samples_leaf': 3, 'algo_tree__min_samples_split': 9}\n",
      "nan (nan) with: {'algo_tree__criterion': 'gini', 'algo_tree__max_depth': 2, 'algo_tree__min_samples_leaf': 4, 'algo_tree__min_samples_split': 1}\n",
      "0.710629 (0.030133) with: {'algo_tree__criterion': 'gini', 'algo_tree__max_depth': 2, 'algo_tree__min_samples_leaf': 4, 'algo_tree__min_samples_split': 2}\n",
      "0.710629 (0.030133) with: {'algo_tree__criterion': 'gini', 'algo_tree__max_depth': 2, 'algo_tree__min_samples_leaf': 4, 'algo_tree__min_samples_split': 3}\n",
      "0.710629 (0.030133) with: {'algo_tree__criterion': 'gini', 'algo_tree__max_depth': 2, 'algo_tree__min_samples_leaf': 4, 'algo_tree__min_samples_split': 4}\n",
      "0.710629 (0.030133) with: {'algo_tree__criterion': 'gini', 'algo_tree__max_depth': 2, 'algo_tree__min_samples_leaf': 4, 'algo_tree__min_samples_split': 5}\n",
      "0.710629 (0.030133) with: {'algo_tree__criterion': 'gini', 'algo_tree__max_depth': 2, 'algo_tree__min_samples_leaf': 4, 'algo_tree__min_samples_split': 6}\n",
      "0.710629 (0.030133) with: {'algo_tree__criterion': 'gini', 'algo_tree__max_depth': 2, 'algo_tree__min_samples_leaf': 4, 'algo_tree__min_samples_split': 7}\n",
      "0.710629 (0.030133) with: {'algo_tree__criterion': 'gini', 'algo_tree__max_depth': 2, 'algo_tree__min_samples_leaf': 4, 'algo_tree__min_samples_split': 8}\n",
      "0.710629 (0.030133) with: {'algo_tree__criterion': 'gini', 'algo_tree__max_depth': 2, 'algo_tree__min_samples_leaf': 4, 'algo_tree__min_samples_split': 9}\n",
      "nan (nan) with: {'algo_tree__criterion': 'gini', 'algo_tree__max_depth': 3, 'algo_tree__min_samples_leaf': 1, 'algo_tree__min_samples_split': 1}\n",
      "0.698129 (0.044019) with: {'algo_tree__criterion': 'gini', 'algo_tree__max_depth': 3, 'algo_tree__min_samples_leaf': 1, 'algo_tree__min_samples_split': 2}\n",
      "0.698129 (0.044019) with: {'algo_tree__criterion': 'gini', 'algo_tree__max_depth': 3, 'algo_tree__min_samples_leaf': 1, 'algo_tree__min_samples_split': 3}\n",
      "0.698129 (0.044019) with: {'algo_tree__criterion': 'gini', 'algo_tree__max_depth': 3, 'algo_tree__min_samples_leaf': 1, 'algo_tree__min_samples_split': 4}\n",
      "0.698129 (0.044019) with: {'algo_tree__criterion': 'gini', 'algo_tree__max_depth': 3, 'algo_tree__min_samples_leaf': 1, 'algo_tree__min_samples_split': 5}\n",
      "0.698129 (0.044019) with: {'algo_tree__criterion': 'gini', 'algo_tree__max_depth': 3, 'algo_tree__min_samples_leaf': 1, 'algo_tree__min_samples_split': 6}\n",
      "0.698129 (0.044019) with: {'algo_tree__criterion': 'gini', 'algo_tree__max_depth': 3, 'algo_tree__min_samples_leaf': 1, 'algo_tree__min_samples_split': 7}\n",
      "0.698129 (0.044019) with: {'algo_tree__criterion': 'gini', 'algo_tree__max_depth': 3, 'algo_tree__min_samples_leaf': 1, 'algo_tree__min_samples_split': 8}\n",
      "0.698129 (0.044019) with: {'algo_tree__criterion': 'gini', 'algo_tree__max_depth': 3, 'algo_tree__min_samples_leaf': 1, 'algo_tree__min_samples_split': 9}\n",
      "nan (nan) with: {'algo_tree__criterion': 'gini', 'algo_tree__max_depth': 3, 'algo_tree__min_samples_leaf': 2, 'algo_tree__min_samples_split': 1}\n",
      "0.694048 (0.045155) with: {'algo_tree__criterion': 'gini', 'algo_tree__max_depth': 3, 'algo_tree__min_samples_leaf': 2, 'algo_tree__min_samples_split': 2}\n",
      "0.694048 (0.045155) with: {'algo_tree__criterion': 'gini', 'algo_tree__max_depth': 3, 'algo_tree__min_samples_leaf': 2, 'algo_tree__min_samples_split': 3}\n",
      "0.694048 (0.045155) with: {'algo_tree__criterion': 'gini', 'algo_tree__max_depth': 3, 'algo_tree__min_samples_leaf': 2, 'algo_tree__min_samples_split': 4}\n",
      "0.694048 (0.045155) with: {'algo_tree__criterion': 'gini', 'algo_tree__max_depth': 3, 'algo_tree__min_samples_leaf': 2, 'algo_tree__min_samples_split': 5}\n",
      "0.694048 (0.045155) with: {'algo_tree__criterion': 'gini', 'algo_tree__max_depth': 3, 'algo_tree__min_samples_leaf': 2, 'algo_tree__min_samples_split': 6}\n",
      "0.694048 (0.045155) with: {'algo_tree__criterion': 'gini', 'algo_tree__max_depth': 3, 'algo_tree__min_samples_leaf': 2, 'algo_tree__min_samples_split': 7}\n",
      "0.694048 (0.045155) with: {'algo_tree__criterion': 'gini', 'algo_tree__max_depth': 3, 'algo_tree__min_samples_leaf': 2, 'algo_tree__min_samples_split': 8}\n",
      "0.694048 (0.045155) with: {'algo_tree__criterion': 'gini', 'algo_tree__max_depth': 3, 'algo_tree__min_samples_leaf': 2, 'algo_tree__min_samples_split': 9}\n",
      "nan (nan) with: {'algo_tree__criterion': 'gini', 'algo_tree__max_depth': 3, 'algo_tree__min_samples_leaf': 3, 'algo_tree__min_samples_split': 1}\n",
      "0.694048 (0.045155) with: {'algo_tree__criterion': 'gini', 'algo_tree__max_depth': 3, 'algo_tree__min_samples_leaf': 3, 'algo_tree__min_samples_split': 2}\n",
      "0.694048 (0.045155) with: {'algo_tree__criterion': 'gini', 'algo_tree__max_depth': 3, 'algo_tree__min_samples_leaf': 3, 'algo_tree__min_samples_split': 3}\n",
      "0.694048 (0.045155) with: {'algo_tree__criterion': 'gini', 'algo_tree__max_depth': 3, 'algo_tree__min_samples_leaf': 3, 'algo_tree__min_samples_split': 4}\n",
      "0.694048 (0.045155) with: {'algo_tree__criterion': 'gini', 'algo_tree__max_depth': 3, 'algo_tree__min_samples_leaf': 3, 'algo_tree__min_samples_split': 5}\n",
      "0.694048 (0.045155) with: {'algo_tree__criterion': 'gini', 'algo_tree__max_depth': 3, 'algo_tree__min_samples_leaf': 3, 'algo_tree__min_samples_split': 6}\n",
      "0.694048 (0.045155) with: {'algo_tree__criterion': 'gini', 'algo_tree__max_depth': 3, 'algo_tree__min_samples_leaf': 3, 'algo_tree__min_samples_split': 7}\n",
      "0.694048 (0.045155) with: {'algo_tree__criterion': 'gini', 'algo_tree__max_depth': 3, 'algo_tree__min_samples_leaf': 3, 'algo_tree__min_samples_split': 8}\n",
      "0.694048 (0.045155) with: {'algo_tree__criterion': 'gini', 'algo_tree__max_depth': 3, 'algo_tree__min_samples_leaf': 3, 'algo_tree__min_samples_split': 9}\n",
      "nan (nan) with: {'algo_tree__criterion': 'gini', 'algo_tree__max_depth': 3, 'algo_tree__min_samples_leaf': 4, 'algo_tree__min_samples_split': 1}\n",
      "0.694048 (0.045155) with: {'algo_tree__criterion': 'gini', 'algo_tree__max_depth': 3, 'algo_tree__min_samples_leaf': 4, 'algo_tree__min_samples_split': 2}\n",
      "0.694048 (0.045155) with: {'algo_tree__criterion': 'gini', 'algo_tree__max_depth': 3, 'algo_tree__min_samples_leaf': 4, 'algo_tree__min_samples_split': 3}\n",
      "0.694048 (0.045155) with: {'algo_tree__criterion': 'gini', 'algo_tree__max_depth': 3, 'algo_tree__min_samples_leaf': 4, 'algo_tree__min_samples_split': 4}\n",
      "0.694048 (0.045155) with: {'algo_tree__criterion': 'gini', 'algo_tree__max_depth': 3, 'algo_tree__min_samples_leaf': 4, 'algo_tree__min_samples_split': 5}\n",
      "0.694048 (0.045155) with: {'algo_tree__criterion': 'gini', 'algo_tree__max_depth': 3, 'algo_tree__min_samples_leaf': 4, 'algo_tree__min_samples_split': 6}\n",
      "0.694048 (0.045155) with: {'algo_tree__criterion': 'gini', 'algo_tree__max_depth': 3, 'algo_tree__min_samples_leaf': 4, 'algo_tree__min_samples_split': 7}\n",
      "0.694048 (0.045155) with: {'algo_tree__criterion': 'gini', 'algo_tree__max_depth': 3, 'algo_tree__min_samples_leaf': 4, 'algo_tree__min_samples_split': 8}\n",
      "0.694048 (0.045155) with: {'algo_tree__criterion': 'gini', 'algo_tree__max_depth': 3, 'algo_tree__min_samples_leaf': 4, 'algo_tree__min_samples_split': 9}\n",
      "nan (nan) with: {'algo_tree__criterion': 'gini', 'algo_tree__max_depth': 4, 'algo_tree__min_samples_leaf': 1, 'algo_tree__min_samples_split': 1}\n",
      "0.681463 (0.064012) with: {'algo_tree__criterion': 'gini', 'algo_tree__max_depth': 4, 'algo_tree__min_samples_leaf': 1, 'algo_tree__min_samples_split': 2}\n",
      "0.677381 (0.059691) with: {'algo_tree__criterion': 'gini', 'algo_tree__max_depth': 4, 'algo_tree__min_samples_leaf': 1, 'algo_tree__min_samples_split': 3}\n",
      "0.677381 (0.059691) with: {'algo_tree__criterion': 'gini', 'algo_tree__max_depth': 4, 'algo_tree__min_samples_leaf': 1, 'algo_tree__min_samples_split': 4}\n",
      "0.673299 (0.059118) with: {'algo_tree__criterion': 'gini', 'algo_tree__max_depth': 4, 'algo_tree__min_samples_leaf': 1, 'algo_tree__min_samples_split': 5}\n",
      "0.685799 (0.036742) with: {'algo_tree__criterion': 'gini', 'algo_tree__max_depth': 4, 'algo_tree__min_samples_leaf': 1, 'algo_tree__min_samples_split': 6}\n",
      "0.689966 (0.030212) with: {'algo_tree__criterion': 'gini', 'algo_tree__max_depth': 4, 'algo_tree__min_samples_leaf': 1, 'algo_tree__min_samples_split': 7}\n",
      "0.677466 (0.051392) with: {'algo_tree__criterion': 'gini', 'algo_tree__max_depth': 4, 'algo_tree__min_samples_leaf': 1, 'algo_tree__min_samples_split': 8}\n",
      "0.677466 (0.051392) with: {'algo_tree__criterion': 'gini', 'algo_tree__max_depth': 4, 'algo_tree__min_samples_leaf': 1, 'algo_tree__min_samples_split': 9}\n",
      "nan (nan) with: {'algo_tree__criterion': 'gini', 'algo_tree__max_depth': 4, 'algo_tree__min_samples_leaf': 2, 'algo_tree__min_samples_split': 1}\n",
      "0.685714 (0.049253) with: {'algo_tree__criterion': 'gini', 'algo_tree__max_depth': 4, 'algo_tree__min_samples_leaf': 2, 'algo_tree__min_samples_split': 2}\n",
      "0.685714 (0.049253) with: {'algo_tree__criterion': 'gini', 'algo_tree__max_depth': 4, 'algo_tree__min_samples_leaf': 2, 'algo_tree__min_samples_split': 3}\n",
      "0.685714 (0.049253) with: {'algo_tree__criterion': 'gini', 'algo_tree__max_depth': 4, 'algo_tree__min_samples_leaf': 2, 'algo_tree__min_samples_split': 4}\n",
      "0.685714 (0.049253) with: {'algo_tree__criterion': 'gini', 'algo_tree__max_depth': 4, 'algo_tree__min_samples_leaf': 2, 'algo_tree__min_samples_split': 5}\n",
      "0.685714 (0.049253) with: {'algo_tree__criterion': 'gini', 'algo_tree__max_depth': 4, 'algo_tree__min_samples_leaf': 2, 'algo_tree__min_samples_split': 6}\n",
      "0.689881 (0.042612) with: {'algo_tree__criterion': 'gini', 'algo_tree__max_depth': 4, 'algo_tree__min_samples_leaf': 2, 'algo_tree__min_samples_split': 7}\n",
      "0.689881 (0.042612) with: {'algo_tree__criterion': 'gini', 'algo_tree__max_depth': 4, 'algo_tree__min_samples_leaf': 2, 'algo_tree__min_samples_split': 8}\n",
      "0.689881 (0.042612) with: {'algo_tree__criterion': 'gini', 'algo_tree__max_depth': 4, 'algo_tree__min_samples_leaf': 2, 'algo_tree__min_samples_split': 9}\n",
      "nan (nan) with: {'algo_tree__criterion': 'gini', 'algo_tree__max_depth': 4, 'algo_tree__min_samples_leaf': 3, 'algo_tree__min_samples_split': 1}\n",
      "0.685714 (0.049253) with: {'algo_tree__criterion': 'gini', 'algo_tree__max_depth': 4, 'algo_tree__min_samples_leaf': 3, 'algo_tree__min_samples_split': 2}\n",
      "0.689881 (0.042612) with: {'algo_tree__criterion': 'gini', 'algo_tree__max_depth': 4, 'algo_tree__min_samples_leaf': 3, 'algo_tree__min_samples_split': 3}\n",
      "0.685714 (0.049253) with: {'algo_tree__criterion': 'gini', 'algo_tree__max_depth': 4, 'algo_tree__min_samples_leaf': 3, 'algo_tree__min_samples_split': 4}\n",
      "0.689881 (0.042612) with: {'algo_tree__criterion': 'gini', 'algo_tree__max_depth': 4, 'algo_tree__min_samples_leaf': 3, 'algo_tree__min_samples_split': 5}\n",
      "0.689881 (0.042612) with: {'algo_tree__criterion': 'gini', 'algo_tree__max_depth': 4, 'algo_tree__min_samples_leaf': 3, 'algo_tree__min_samples_split': 6}\n",
      "0.689881 (0.042612) with: {'algo_tree__criterion': 'gini', 'algo_tree__max_depth': 4, 'algo_tree__min_samples_leaf': 3, 'algo_tree__min_samples_split': 7}\n",
      "0.689881 (0.042612) with: {'algo_tree__criterion': 'gini', 'algo_tree__max_depth': 4, 'algo_tree__min_samples_leaf': 3, 'algo_tree__min_samples_split': 8}\n",
      "0.689881 (0.042612) with: {'algo_tree__criterion': 'gini', 'algo_tree__max_depth': 4, 'algo_tree__min_samples_leaf': 3, 'algo_tree__min_samples_split': 9}\n",
      "nan (nan) with: {'algo_tree__criterion': 'gini', 'algo_tree__max_depth': 4, 'algo_tree__min_samples_leaf': 4, 'algo_tree__min_samples_split': 1}\n",
      "0.689881 (0.042612) with: {'algo_tree__criterion': 'gini', 'algo_tree__max_depth': 4, 'algo_tree__min_samples_leaf': 4, 'algo_tree__min_samples_split': 2}\n",
      "0.689881 (0.042612) with: {'algo_tree__criterion': 'gini', 'algo_tree__max_depth': 4, 'algo_tree__min_samples_leaf': 4, 'algo_tree__min_samples_split': 3}\n",
      "0.689881 (0.042612) with: {'algo_tree__criterion': 'gini', 'algo_tree__max_depth': 4, 'algo_tree__min_samples_leaf': 4, 'algo_tree__min_samples_split': 4}\n",
      "0.689881 (0.042612) with: {'algo_tree__criterion': 'gini', 'algo_tree__max_depth': 4, 'algo_tree__min_samples_leaf': 4, 'algo_tree__min_samples_split': 5}\n",
      "0.689881 (0.042612) with: {'algo_tree__criterion': 'gini', 'algo_tree__max_depth': 4, 'algo_tree__min_samples_leaf': 4, 'algo_tree__min_samples_split': 6}\n",
      "0.689881 (0.042612) with: {'algo_tree__criterion': 'gini', 'algo_tree__max_depth': 4, 'algo_tree__min_samples_leaf': 4, 'algo_tree__min_samples_split': 7}\n",
      "0.689881 (0.042612) with: {'algo_tree__criterion': 'gini', 'algo_tree__max_depth': 4, 'algo_tree__min_samples_leaf': 4, 'algo_tree__min_samples_split': 8}\n",
      "0.689881 (0.042612) with: {'algo_tree__criterion': 'gini', 'algo_tree__max_depth': 4, 'algo_tree__min_samples_leaf': 4, 'algo_tree__min_samples_split': 9}\n",
      "nan (nan) with: {'algo_tree__criterion': 'gini', 'algo_tree__max_depth': 5, 'algo_tree__min_samples_leaf': 1, 'algo_tree__min_samples_split': 1}\n",
      "0.669303 (0.051650) with: {'algo_tree__criterion': 'gini', 'algo_tree__max_depth': 5, 'algo_tree__min_samples_leaf': 1, 'algo_tree__min_samples_split': 2}\n",
      "0.677636 (0.043127) with: {'algo_tree__criterion': 'gini', 'algo_tree__max_depth': 5, 'algo_tree__min_samples_leaf': 1, 'algo_tree__min_samples_split': 3}\n",
      "0.677636 (0.043127) with: {'algo_tree__criterion': 'gini', 'algo_tree__max_depth': 5, 'algo_tree__min_samples_leaf': 1, 'algo_tree__min_samples_split': 4}\n",
      "0.673554 (0.044278) with: {'algo_tree__criterion': 'gini', 'algo_tree__max_depth': 5, 'algo_tree__min_samples_leaf': 1, 'algo_tree__min_samples_split': 5}\n",
      "0.669388 (0.047550) with: {'algo_tree__criterion': 'gini', 'algo_tree__max_depth': 5, 'algo_tree__min_samples_leaf': 1, 'algo_tree__min_samples_split': 6}\n",
      "0.681888 (0.042147) with: {'algo_tree__criterion': 'gini', 'algo_tree__max_depth': 5, 'algo_tree__min_samples_leaf': 1, 'algo_tree__min_samples_split': 7}\n",
      "0.677721 (0.042415) with: {'algo_tree__criterion': 'gini', 'algo_tree__max_depth': 5, 'algo_tree__min_samples_leaf': 1, 'algo_tree__min_samples_split': 8}\n",
      "0.686054 (0.043504) with: {'algo_tree__criterion': 'gini', 'algo_tree__max_depth': 5, 'algo_tree__min_samples_leaf': 1, 'algo_tree__min_samples_split': 9}\n",
      "nan (nan) with: {'algo_tree__criterion': 'gini', 'algo_tree__max_depth': 5, 'algo_tree__min_samples_leaf': 2, 'algo_tree__min_samples_split': 1}\n",
      "0.677891 (0.028445) with: {'algo_tree__criterion': 'gini', 'algo_tree__max_depth': 5, 'algo_tree__min_samples_leaf': 2, 'algo_tree__min_samples_split': 2}\n",
      "0.677891 (0.028445) with: {'algo_tree__criterion': 'gini', 'algo_tree__max_depth': 5, 'algo_tree__min_samples_leaf': 2, 'algo_tree__min_samples_split': 3}\n",
      "0.677891 (0.028445) with: {'algo_tree__criterion': 'gini', 'algo_tree__max_depth': 5, 'algo_tree__min_samples_leaf': 2, 'algo_tree__min_samples_split': 4}\n",
      "0.682143 (0.045806) with: {'algo_tree__criterion': 'gini', 'algo_tree__max_depth': 5, 'algo_tree__min_samples_leaf': 2, 'algo_tree__min_samples_split': 5}\n",
      "0.681973 (0.022504) with: {'algo_tree__criterion': 'gini', 'algo_tree__max_depth': 5, 'algo_tree__min_samples_leaf': 2, 'algo_tree__min_samples_split': 6}\n",
      "0.686139 (0.021174) with: {'algo_tree__criterion': 'gini', 'algo_tree__max_depth': 5, 'algo_tree__min_samples_leaf': 2, 'algo_tree__min_samples_split': 7}\n",
      "0.681973 (0.022504) with: {'algo_tree__criterion': 'gini', 'algo_tree__max_depth': 5, 'algo_tree__min_samples_leaf': 2, 'algo_tree__min_samples_split': 8}\n",
      "0.677806 (0.018874) with: {'algo_tree__criterion': 'gini', 'algo_tree__max_depth': 5, 'algo_tree__min_samples_leaf': 2, 'algo_tree__min_samples_split': 9}\n",
      "nan (nan) with: {'algo_tree__criterion': 'gini', 'algo_tree__max_depth': 5, 'algo_tree__min_samples_leaf': 3, 'algo_tree__min_samples_split': 1}\n",
      "0.694303 (0.034677) with: {'algo_tree__criterion': 'gini', 'algo_tree__max_depth': 5, 'algo_tree__min_samples_leaf': 3, 'algo_tree__min_samples_split': 2}\n",
      "0.690136 (0.038759) with: {'algo_tree__criterion': 'gini', 'algo_tree__max_depth': 5, 'algo_tree__min_samples_leaf': 3, 'algo_tree__min_samples_split': 3}\n",
      "0.681803 (0.020858) with: {'algo_tree__criterion': 'gini', 'algo_tree__max_depth': 5, 'algo_tree__min_samples_leaf': 3, 'algo_tree__min_samples_split': 4}\n",
      "0.685969 (0.032754) with: {'algo_tree__criterion': 'gini', 'algo_tree__max_depth': 5, 'algo_tree__min_samples_leaf': 3, 'algo_tree__min_samples_split': 5}\n",
      "0.685969 (0.032754) with: {'algo_tree__criterion': 'gini', 'algo_tree__max_depth': 5, 'algo_tree__min_samples_leaf': 3, 'algo_tree__min_samples_split': 6}\n",
      "0.681803 (0.020858) with: {'algo_tree__criterion': 'gini', 'algo_tree__max_depth': 5, 'algo_tree__min_samples_leaf': 3, 'algo_tree__min_samples_split': 7}\n",
      "0.677636 (0.025112) with: {'algo_tree__criterion': 'gini', 'algo_tree__max_depth': 5, 'algo_tree__min_samples_leaf': 3, 'algo_tree__min_samples_split': 8}\n",
      "0.677636 (0.025112) with: {'algo_tree__criterion': 'gini', 'algo_tree__max_depth': 5, 'algo_tree__min_samples_leaf': 3, 'algo_tree__min_samples_split': 9}\n",
      "nan (nan) with: {'algo_tree__criterion': 'gini', 'algo_tree__max_depth': 5, 'algo_tree__min_samples_leaf': 4, 'algo_tree__min_samples_split': 1}\n",
      "0.685799 (0.044904) with: {'algo_tree__criterion': 'gini', 'algo_tree__max_depth': 5, 'algo_tree__min_samples_leaf': 4, 'algo_tree__min_samples_split': 2}\n",
      "0.685799 (0.044904) with: {'algo_tree__criterion': 'gini', 'algo_tree__max_depth': 5, 'algo_tree__min_samples_leaf': 4, 'algo_tree__min_samples_split': 3}\n",
      "0.681633 (0.050916) with: {'algo_tree__criterion': 'gini', 'algo_tree__max_depth': 5, 'algo_tree__min_samples_leaf': 4, 'algo_tree__min_samples_split': 4}\n",
      "0.685799 (0.044904) with: {'algo_tree__criterion': 'gini', 'algo_tree__max_depth': 5, 'algo_tree__min_samples_leaf': 4, 'algo_tree__min_samples_split': 5}\n",
      "0.685799 (0.053707) with: {'algo_tree__criterion': 'gini', 'algo_tree__max_depth': 5, 'algo_tree__min_samples_leaf': 4, 'algo_tree__min_samples_split': 6}\n",
      "0.681633 (0.050916) with: {'algo_tree__criterion': 'gini', 'algo_tree__max_depth': 5, 'algo_tree__min_samples_leaf': 4, 'algo_tree__min_samples_split': 7}\n",
      "0.685799 (0.044904) with: {'algo_tree__criterion': 'gini', 'algo_tree__max_depth': 5, 'algo_tree__min_samples_leaf': 4, 'algo_tree__min_samples_split': 8}\n",
      "0.694133 (0.051669) with: {'algo_tree__criterion': 'gini', 'algo_tree__max_depth': 5, 'algo_tree__min_samples_leaf': 4, 'algo_tree__min_samples_split': 9}\n",
      "nan (nan) with: {'algo_tree__criterion': 'gini', 'algo_tree__max_depth': 6, 'algo_tree__min_samples_leaf': 1, 'algo_tree__min_samples_split': 1}\n",
      "0.656973 (0.053886) with: {'algo_tree__criterion': 'gini', 'algo_tree__max_depth': 6, 'algo_tree__min_samples_leaf': 1, 'algo_tree__min_samples_split': 2}\n",
      "0.665306 (0.047973) with: {'algo_tree__criterion': 'gini', 'algo_tree__max_depth': 6, 'algo_tree__min_samples_leaf': 1, 'algo_tree__min_samples_split': 3}\n",
      "0.656973 (0.055473) with: {'algo_tree__criterion': 'gini', 'algo_tree__max_depth': 6, 'algo_tree__min_samples_leaf': 1, 'algo_tree__min_samples_split': 4}\n",
      "0.665391 (0.049083) with: {'algo_tree__criterion': 'gini', 'algo_tree__max_depth': 6, 'algo_tree__min_samples_leaf': 1, 'algo_tree__min_samples_split': 5}\n",
      "0.665306 (0.051328) with: {'algo_tree__criterion': 'gini', 'algo_tree__max_depth': 6, 'algo_tree__min_samples_leaf': 1, 'algo_tree__min_samples_split': 6}\n",
      "0.661139 (0.056688) with: {'algo_tree__criterion': 'gini', 'algo_tree__max_depth': 6, 'algo_tree__min_samples_leaf': 1, 'algo_tree__min_samples_split': 7}\n",
      "0.673639 (0.045464) with: {'algo_tree__criterion': 'gini', 'algo_tree__max_depth': 6, 'algo_tree__min_samples_leaf': 1, 'algo_tree__min_samples_split': 8}\n",
      "0.673554 (0.051527) with: {'algo_tree__criterion': 'gini', 'algo_tree__max_depth': 6, 'algo_tree__min_samples_leaf': 1, 'algo_tree__min_samples_split': 9}\n",
      "nan (nan) with: {'algo_tree__criterion': 'gini', 'algo_tree__max_depth': 6, 'algo_tree__min_samples_leaf': 2, 'algo_tree__min_samples_split': 1}\n",
      "0.677976 (0.040027) with: {'algo_tree__criterion': 'gini', 'algo_tree__max_depth': 6, 'algo_tree__min_samples_leaf': 2, 'algo_tree__min_samples_split': 2}\n",
      "0.665306 (0.014766) with: {'algo_tree__criterion': 'gini', 'algo_tree__max_depth': 6, 'algo_tree__min_samples_leaf': 2, 'algo_tree__min_samples_split': 3}\n",
      "0.677891 (0.031348) with: {'algo_tree__criterion': 'gini', 'algo_tree__max_depth': 6, 'algo_tree__min_samples_leaf': 2, 'algo_tree__min_samples_split': 4}\n",
      "0.681973 (0.026078) with: {'algo_tree__criterion': 'gini', 'algo_tree__max_depth': 6, 'algo_tree__min_samples_leaf': 2, 'algo_tree__min_samples_split': 5}\n",
      "0.690306 (0.032403) with: {'algo_tree__criterion': 'gini', 'algo_tree__max_depth': 6, 'algo_tree__min_samples_leaf': 2, 'algo_tree__min_samples_split': 6}\n",
      "0.669473 (0.011190) with: {'algo_tree__criterion': 'gini', 'algo_tree__max_depth': 6, 'algo_tree__min_samples_leaf': 2, 'algo_tree__min_samples_split': 7}\n",
      "0.677806 (0.026522) with: {'algo_tree__criterion': 'gini', 'algo_tree__max_depth': 6, 'algo_tree__min_samples_leaf': 2, 'algo_tree__min_samples_split': 8}\n",
      "0.673639 (0.022770) with: {'algo_tree__criterion': 'gini', 'algo_tree__max_depth': 6, 'algo_tree__min_samples_leaf': 2, 'algo_tree__min_samples_split': 9}\n",
      "nan (nan) with: {'algo_tree__criterion': 'gini', 'algo_tree__max_depth': 6, 'algo_tree__min_samples_leaf': 3, 'algo_tree__min_samples_split': 1}\n",
      "0.665136 (0.036827) with: {'algo_tree__criterion': 'gini', 'algo_tree__max_depth': 6, 'algo_tree__min_samples_leaf': 3, 'algo_tree__min_samples_split': 2}\n",
      "0.665221 (0.033732) with: {'algo_tree__criterion': 'gini', 'algo_tree__max_depth': 6, 'algo_tree__min_samples_leaf': 3, 'algo_tree__min_samples_split': 3}\n",
      "0.677721 (0.048165) with: {'algo_tree__criterion': 'gini', 'algo_tree__max_depth': 6, 'algo_tree__min_samples_leaf': 3, 'algo_tree__min_samples_split': 4}\n",
      "0.681888 (0.059266) with: {'algo_tree__criterion': 'gini', 'algo_tree__max_depth': 6, 'algo_tree__min_samples_leaf': 3, 'algo_tree__min_samples_split': 5}\n",
      "0.652721 (0.047409) with: {'algo_tree__criterion': 'gini', 'algo_tree__max_depth': 6, 'algo_tree__min_samples_leaf': 3, 'algo_tree__min_samples_split': 6}\n",
      "0.673554 (0.014982) with: {'algo_tree__criterion': 'gini', 'algo_tree__max_depth': 6, 'algo_tree__min_samples_leaf': 3, 'algo_tree__min_samples_split': 7}\n",
      "0.677636 (0.021378) with: {'algo_tree__criterion': 'gini', 'algo_tree__max_depth': 6, 'algo_tree__min_samples_leaf': 3, 'algo_tree__min_samples_split': 8}\n",
      "0.681803 (0.033608) with: {'algo_tree__criterion': 'gini', 'algo_tree__max_depth': 6, 'algo_tree__min_samples_leaf': 3, 'algo_tree__min_samples_split': 9}\n",
      "nan (nan) with: {'algo_tree__criterion': 'gini', 'algo_tree__max_depth': 6, 'algo_tree__min_samples_leaf': 4, 'algo_tree__min_samples_split': 1}\n",
      "0.681633 (0.045515) with: {'algo_tree__criterion': 'gini', 'algo_tree__max_depth': 6, 'algo_tree__min_samples_leaf': 4, 'algo_tree__min_samples_split': 2}\n",
      "0.681633 (0.054219) with: {'algo_tree__criterion': 'gini', 'algo_tree__max_depth': 6, 'algo_tree__min_samples_leaf': 4, 'algo_tree__min_samples_split': 3}\n",
      "0.685799 (0.048617) with: {'algo_tree__criterion': 'gini', 'algo_tree__max_depth': 6, 'algo_tree__min_samples_leaf': 4, 'algo_tree__min_samples_split': 4}\n",
      "0.681633 (0.045515) with: {'algo_tree__criterion': 'gini', 'algo_tree__max_depth': 6, 'algo_tree__min_samples_leaf': 4, 'algo_tree__min_samples_split': 5}\n",
      "0.681633 (0.054219) with: {'algo_tree__criterion': 'gini', 'algo_tree__max_depth': 6, 'algo_tree__min_samples_leaf': 4, 'algo_tree__min_samples_split': 6}\n",
      "0.677466 (0.051118) with: {'algo_tree__criterion': 'gini', 'algo_tree__max_depth': 6, 'algo_tree__min_samples_leaf': 4, 'algo_tree__min_samples_split': 7}\n",
      "0.677466 (0.051118) with: {'algo_tree__criterion': 'gini', 'algo_tree__max_depth': 6, 'algo_tree__min_samples_leaf': 4, 'algo_tree__min_samples_split': 8}\n",
      "0.681633 (0.054219) with: {'algo_tree__criterion': 'gini', 'algo_tree__max_depth': 6, 'algo_tree__min_samples_leaf': 4, 'algo_tree__min_samples_split': 9}\n",
      "nan (nan) with: {'algo_tree__criterion': 'gini', 'algo_tree__max_depth': 7, 'algo_tree__min_samples_leaf': 1, 'algo_tree__min_samples_split': 1}\n",
      "0.669388 (0.049342) with: {'algo_tree__criterion': 'gini', 'algo_tree__max_depth': 7, 'algo_tree__min_samples_leaf': 1, 'algo_tree__min_samples_split': 2}\n",
      "0.661139 (0.040805) with: {'algo_tree__criterion': 'gini', 'algo_tree__max_depth': 7, 'algo_tree__min_samples_leaf': 1, 'algo_tree__min_samples_split': 3}\n",
      "0.648639 (0.067693) with: {'algo_tree__criterion': 'gini', 'algo_tree__max_depth': 7, 'algo_tree__min_samples_leaf': 1, 'algo_tree__min_samples_split': 4}\n",
      "0.648724 (0.061846) with: {'algo_tree__criterion': 'gini', 'algo_tree__max_depth': 7, 'algo_tree__min_samples_leaf': 1, 'algo_tree__min_samples_split': 5}\n",
      "0.652806 (0.063981) with: {'algo_tree__criterion': 'gini', 'algo_tree__max_depth': 7, 'algo_tree__min_samples_leaf': 1, 'algo_tree__min_samples_split': 6}\n",
      "0.661139 (0.050190) with: {'algo_tree__criterion': 'gini', 'algo_tree__max_depth': 7, 'algo_tree__min_samples_leaf': 1, 'algo_tree__min_samples_split': 7}\n",
      "0.665306 (0.056173) with: {'algo_tree__criterion': 'gini', 'algo_tree__max_depth': 7, 'algo_tree__min_samples_leaf': 1, 'algo_tree__min_samples_split': 8}\n",
      "0.665221 (0.044788) with: {'algo_tree__criterion': 'gini', 'algo_tree__max_depth': 7, 'algo_tree__min_samples_leaf': 1, 'algo_tree__min_samples_split': 9}\n",
      "nan (nan) with: {'algo_tree__criterion': 'gini', 'algo_tree__max_depth': 7, 'algo_tree__min_samples_leaf': 2, 'algo_tree__min_samples_split': 1}\n",
      "0.665391 (0.025943) with: {'algo_tree__criterion': 'gini', 'algo_tree__max_depth': 7, 'algo_tree__min_samples_leaf': 2, 'algo_tree__min_samples_split': 2}\n",
      "0.661310 (0.031732) with: {'algo_tree__criterion': 'gini', 'algo_tree__max_depth': 7, 'algo_tree__min_samples_leaf': 2, 'algo_tree__min_samples_split': 3}\n",
      "0.657058 (0.030489) with: {'algo_tree__criterion': 'gini', 'algo_tree__max_depth': 7, 'algo_tree__min_samples_leaf': 2, 'algo_tree__min_samples_split': 4}\n",
      "0.665391 (0.025943) with: {'algo_tree__criterion': 'gini', 'algo_tree__max_depth': 7, 'algo_tree__min_samples_leaf': 2, 'algo_tree__min_samples_split': 5}\n",
      "0.669473 (0.021735) with: {'algo_tree__criterion': 'gini', 'algo_tree__max_depth': 7, 'algo_tree__min_samples_leaf': 2, 'algo_tree__min_samples_split': 6}\n",
      "0.673639 (0.018571) with: {'algo_tree__criterion': 'gini', 'algo_tree__max_depth': 7, 'algo_tree__min_samples_leaf': 2, 'algo_tree__min_samples_split': 7}\n",
      "0.669473 (0.017286) with: {'algo_tree__criterion': 'gini', 'algo_tree__max_depth': 7, 'algo_tree__min_samples_leaf': 2, 'algo_tree__min_samples_split': 8}\n",
      "0.656973 (0.017307) with: {'algo_tree__criterion': 'gini', 'algo_tree__max_depth': 7, 'algo_tree__min_samples_leaf': 2, 'algo_tree__min_samples_split': 9}\n",
      "nan (nan) with: {'algo_tree__criterion': 'gini', 'algo_tree__max_depth': 7, 'algo_tree__min_samples_leaf': 3, 'algo_tree__min_samples_split': 1}\n",
      "0.677721 (0.044414) with: {'algo_tree__criterion': 'gini', 'algo_tree__max_depth': 7, 'algo_tree__min_samples_leaf': 3, 'algo_tree__min_samples_split': 2}\n",
      "0.673469 (0.044797) with: {'algo_tree__criterion': 'gini', 'algo_tree__max_depth': 7, 'algo_tree__min_samples_leaf': 3, 'algo_tree__min_samples_split': 3}\n",
      "0.661054 (0.052515) with: {'algo_tree__criterion': 'gini', 'algo_tree__max_depth': 7, 'algo_tree__min_samples_leaf': 3, 'algo_tree__min_samples_split': 4}\n",
      "0.677636 (0.056875) with: {'algo_tree__criterion': 'gini', 'algo_tree__max_depth': 7, 'algo_tree__min_samples_leaf': 3, 'algo_tree__min_samples_split': 5}\n",
      "0.673469 (0.044797) with: {'algo_tree__criterion': 'gini', 'algo_tree__max_depth': 7, 'algo_tree__min_samples_leaf': 3, 'algo_tree__min_samples_split': 6}\n",
      "0.681888 (0.037804) with: {'algo_tree__criterion': 'gini', 'algo_tree__max_depth': 7, 'algo_tree__min_samples_leaf': 3, 'algo_tree__min_samples_split': 7}\n",
      "0.677636 (0.038713) with: {'algo_tree__criterion': 'gini', 'algo_tree__max_depth': 7, 'algo_tree__min_samples_leaf': 3, 'algo_tree__min_samples_split': 8}\n",
      "0.677636 (0.038713) with: {'algo_tree__criterion': 'gini', 'algo_tree__max_depth': 7, 'algo_tree__min_samples_leaf': 3, 'algo_tree__min_samples_split': 9}\n",
      "nan (nan) with: {'algo_tree__criterion': 'gini', 'algo_tree__max_depth': 7, 'algo_tree__min_samples_leaf': 4, 'algo_tree__min_samples_split': 1}\n",
      "0.673299 (0.049247) with: {'algo_tree__criterion': 'gini', 'algo_tree__max_depth': 7, 'algo_tree__min_samples_leaf': 4, 'algo_tree__min_samples_split': 2}\n",
      "0.677466 (0.051118) with: {'algo_tree__criterion': 'gini', 'algo_tree__max_depth': 7, 'algo_tree__min_samples_leaf': 4, 'algo_tree__min_samples_split': 3}\n",
      "0.677466 (0.060454) with: {'algo_tree__criterion': 'gini', 'algo_tree__max_depth': 7, 'algo_tree__min_samples_leaf': 4, 'algo_tree__min_samples_split': 4}\n",
      "0.673299 (0.057387) with: {'algo_tree__criterion': 'gini', 'algo_tree__max_depth': 7, 'algo_tree__min_samples_leaf': 4, 'algo_tree__min_samples_split': 5}\n",
      "0.669133 (0.055415) with: {'algo_tree__criterion': 'gini', 'algo_tree__max_depth': 7, 'algo_tree__min_samples_leaf': 4, 'algo_tree__min_samples_split': 6}\n",
      "0.677466 (0.060454) with: {'algo_tree__criterion': 'gini', 'algo_tree__max_depth': 7, 'algo_tree__min_samples_leaf': 4, 'algo_tree__min_samples_split': 7}\n",
      "0.673299 (0.057387) with: {'algo_tree__criterion': 'gini', 'algo_tree__max_depth': 7, 'algo_tree__min_samples_leaf': 4, 'algo_tree__min_samples_split': 8}\n",
      "0.677466 (0.060454) with: {'algo_tree__criterion': 'gini', 'algo_tree__max_depth': 7, 'algo_tree__min_samples_leaf': 4, 'algo_tree__min_samples_split': 9}\n",
      "nan (nan) with: {'algo_tree__criterion': 'gini', 'algo_tree__max_depth': 8, 'algo_tree__min_samples_leaf': 1, 'algo_tree__min_samples_split': 1}\n",
      "0.661139 (0.028231) with: {'algo_tree__criterion': 'gini', 'algo_tree__max_depth': 8, 'algo_tree__min_samples_leaf': 1, 'algo_tree__min_samples_split': 2}\n",
      "0.652806 (0.040952) with: {'algo_tree__criterion': 'gini', 'algo_tree__max_depth': 8, 'algo_tree__min_samples_leaf': 1, 'algo_tree__min_samples_split': 3}\n",
      "0.648554 (0.046987) with: {'algo_tree__criterion': 'gini', 'algo_tree__max_depth': 8, 'algo_tree__min_samples_leaf': 1, 'algo_tree__min_samples_split': 4}\n",
      "0.652806 (0.048698) with: {'algo_tree__criterion': 'gini', 'algo_tree__max_depth': 8, 'algo_tree__min_samples_leaf': 1, 'algo_tree__min_samples_split': 5}\n",
      "0.652721 (0.058846) with: {'algo_tree__criterion': 'gini', 'algo_tree__max_depth': 8, 'algo_tree__min_samples_leaf': 1, 'algo_tree__min_samples_split': 6}\n",
      "0.656973 (0.044962) with: {'algo_tree__criterion': 'gini', 'algo_tree__max_depth': 8, 'algo_tree__min_samples_leaf': 1, 'algo_tree__min_samples_split': 7}\n",
      "0.661139 (0.044702) with: {'algo_tree__criterion': 'gini', 'algo_tree__max_depth': 8, 'algo_tree__min_samples_leaf': 1, 'algo_tree__min_samples_split': 8}\n",
      "0.665221 (0.055205) with: {'algo_tree__criterion': 'gini', 'algo_tree__max_depth': 8, 'algo_tree__min_samples_leaf': 1, 'algo_tree__min_samples_split': 9}\n",
      "nan (nan) with: {'algo_tree__criterion': 'gini', 'algo_tree__max_depth': 8, 'algo_tree__min_samples_leaf': 2, 'algo_tree__min_samples_split': 1}\n",
      "0.652976 (0.029124) with: {'algo_tree__criterion': 'gini', 'algo_tree__max_depth': 8, 'algo_tree__min_samples_leaf': 2, 'algo_tree__min_samples_split': 2}\n",
      "0.657143 (0.022603) with: {'algo_tree__criterion': 'gini', 'algo_tree__max_depth': 8, 'algo_tree__min_samples_leaf': 2, 'algo_tree__min_samples_split': 3}\n",
      "0.661139 (0.010126) with: {'algo_tree__criterion': 'gini', 'algo_tree__max_depth': 8, 'algo_tree__min_samples_leaf': 2, 'algo_tree__min_samples_split': 4}\n",
      "0.661310 (0.031732) with: {'algo_tree__criterion': 'gini', 'algo_tree__max_depth': 8, 'algo_tree__min_samples_leaf': 2, 'algo_tree__min_samples_split': 5}\n",
      "0.669473 (0.021735) with: {'algo_tree__criterion': 'gini', 'algo_tree__max_depth': 8, 'algo_tree__min_samples_leaf': 2, 'algo_tree__min_samples_split': 6}\n",
      "0.673639 (0.018571) with: {'algo_tree__criterion': 'gini', 'algo_tree__max_depth': 8, 'algo_tree__min_samples_leaf': 2, 'algo_tree__min_samples_split': 7}\n",
      "0.665306 (0.014766) with: {'algo_tree__criterion': 'gini', 'algo_tree__max_depth': 8, 'algo_tree__min_samples_leaf': 2, 'algo_tree__min_samples_split': 8}\n",
      "0.661139 (0.021207) with: {'algo_tree__criterion': 'gini', 'algo_tree__max_depth': 8, 'algo_tree__min_samples_leaf': 2, 'algo_tree__min_samples_split': 9}\n",
      "nan (nan) with: {'algo_tree__criterion': 'gini', 'algo_tree__max_depth': 8, 'algo_tree__min_samples_leaf': 3, 'algo_tree__min_samples_split': 1}\n",
      "0.669388 (0.054364) with: {'algo_tree__criterion': 'gini', 'algo_tree__max_depth': 8, 'algo_tree__min_samples_leaf': 3, 'algo_tree__min_samples_split': 2}\n",
      "0.665221 (0.048509) with: {'algo_tree__criterion': 'gini', 'algo_tree__max_depth': 8, 'algo_tree__min_samples_leaf': 3, 'algo_tree__min_samples_split': 3}\n",
      "0.661054 (0.036998) with: {'algo_tree__criterion': 'gini', 'algo_tree__max_depth': 8, 'algo_tree__min_samples_leaf': 3, 'algo_tree__min_samples_split': 4}\n",
      "0.669388 (0.047550) with: {'algo_tree__criterion': 'gini', 'algo_tree__max_depth': 8, 'algo_tree__min_samples_leaf': 3, 'algo_tree__min_samples_split': 5}\n",
      "0.665136 (0.047163) with: {'algo_tree__criterion': 'gini', 'algo_tree__max_depth': 8, 'algo_tree__min_samples_leaf': 3, 'algo_tree__min_samples_split': 6}\n",
      "0.660969 (0.037589) with: {'algo_tree__criterion': 'gini', 'algo_tree__max_depth': 8, 'algo_tree__min_samples_leaf': 3, 'algo_tree__min_samples_split': 7}\n",
      "0.677636 (0.046831) with: {'algo_tree__criterion': 'gini', 'algo_tree__max_depth': 8, 'algo_tree__min_samples_leaf': 3, 'algo_tree__min_samples_split': 8}\n",
      "0.673469 (0.040737) with: {'algo_tree__criterion': 'gini', 'algo_tree__max_depth': 8, 'algo_tree__min_samples_leaf': 3, 'algo_tree__min_samples_split': 9}\n",
      "nan (nan) with: {'algo_tree__criterion': 'gini', 'algo_tree__max_depth': 8, 'algo_tree__min_samples_leaf': 4, 'algo_tree__min_samples_split': 1}\n",
      "0.681633 (0.050916) with: {'algo_tree__criterion': 'gini', 'algo_tree__max_depth': 8, 'algo_tree__min_samples_leaf': 4, 'algo_tree__min_samples_split': 2}\n",
      "0.681633 (0.060284) with: {'algo_tree__criterion': 'gini', 'algo_tree__max_depth': 8, 'algo_tree__min_samples_leaf': 4, 'algo_tree__min_samples_split': 3}\n",
      "0.677466 (0.057511) with: {'algo_tree__criterion': 'gini', 'algo_tree__max_depth': 8, 'algo_tree__min_samples_leaf': 4, 'algo_tree__min_samples_split': 4}\n",
      "0.685799 (0.053707) with: {'algo_tree__criterion': 'gini', 'algo_tree__max_depth': 8, 'algo_tree__min_samples_leaf': 4, 'algo_tree__min_samples_split': 5}\n",
      "0.681633 (0.060284) with: {'algo_tree__criterion': 'gini', 'algo_tree__max_depth': 8, 'algo_tree__min_samples_leaf': 4, 'algo_tree__min_samples_split': 6}\n",
      "0.681633 (0.060284) with: {'algo_tree__criterion': 'gini', 'algo_tree__max_depth': 8, 'algo_tree__min_samples_leaf': 4, 'algo_tree__min_samples_split': 7}\n",
      "0.673299 (0.055854) with: {'algo_tree__criterion': 'gini', 'algo_tree__max_depth': 8, 'algo_tree__min_samples_leaf': 4, 'algo_tree__min_samples_split': 8}\n",
      "0.685799 (0.053707) with: {'algo_tree__criterion': 'gini', 'algo_tree__max_depth': 8, 'algo_tree__min_samples_leaf': 4, 'algo_tree__min_samples_split': 9}\n",
      "nan (nan) with: {'algo_tree__criterion': 'gini', 'algo_tree__max_depth': 9, 'algo_tree__min_samples_leaf': 1, 'algo_tree__min_samples_split': 1}\n",
      "0.677636 (0.021704) with: {'algo_tree__criterion': 'gini', 'algo_tree__max_depth': 9, 'algo_tree__min_samples_leaf': 1, 'algo_tree__min_samples_split': 2}\n",
      "0.632143 (0.046920) with: {'algo_tree__criterion': 'gini', 'algo_tree__max_depth': 9, 'algo_tree__min_samples_leaf': 1, 'algo_tree__min_samples_split': 3}\n",
      "0.644473 (0.049176) with: {'algo_tree__criterion': 'gini', 'algo_tree__max_depth': 9, 'algo_tree__min_samples_leaf': 1, 'algo_tree__min_samples_split': 4}\n",
      "0.632058 (0.055944) with: {'algo_tree__criterion': 'gini', 'algo_tree__max_depth': 9, 'algo_tree__min_samples_leaf': 1, 'algo_tree__min_samples_split': 5}\n",
      "0.636054 (0.066808) with: {'algo_tree__criterion': 'gini', 'algo_tree__max_depth': 9, 'algo_tree__min_samples_leaf': 1, 'algo_tree__min_samples_split': 6}\n",
      "0.640391 (0.055761) with: {'algo_tree__criterion': 'gini', 'algo_tree__max_depth': 9, 'algo_tree__min_samples_leaf': 1, 'algo_tree__min_samples_split': 7}\n",
      "0.644558 (0.061196) with: {'algo_tree__criterion': 'gini', 'algo_tree__max_depth': 9, 'algo_tree__min_samples_leaf': 1, 'algo_tree__min_samples_split': 8}\n",
      "0.652891 (0.051527) with: {'algo_tree__criterion': 'gini', 'algo_tree__max_depth': 9, 'algo_tree__min_samples_leaf': 1, 'algo_tree__min_samples_split': 9}\n",
      "nan (nan) with: {'algo_tree__criterion': 'gini', 'algo_tree__max_depth': 9, 'algo_tree__min_samples_leaf': 2, 'algo_tree__min_samples_split': 1}\n",
      "0.656973 (0.017307) with: {'algo_tree__criterion': 'gini', 'algo_tree__max_depth': 9, 'algo_tree__min_samples_leaf': 2, 'algo_tree__min_samples_split': 2}\n",
      "0.644643 (0.027170) with: {'algo_tree__criterion': 'gini', 'algo_tree__max_depth': 9, 'algo_tree__min_samples_leaf': 2, 'algo_tree__min_samples_split': 3}\n",
      "0.640646 (0.041172) with: {'algo_tree__criterion': 'gini', 'algo_tree__max_depth': 9, 'algo_tree__min_samples_leaf': 2, 'algo_tree__min_samples_split': 4}\n",
      "0.640561 (0.037730) with: {'algo_tree__criterion': 'gini', 'algo_tree__max_depth': 9, 'algo_tree__min_samples_leaf': 2, 'algo_tree__min_samples_split': 5}\n",
      "0.652891 (0.030429) with: {'algo_tree__criterion': 'gini', 'algo_tree__max_depth': 9, 'algo_tree__min_samples_leaf': 2, 'algo_tree__min_samples_split': 6}\n",
      "0.657058 (0.027622) with: {'algo_tree__criterion': 'gini', 'algo_tree__max_depth': 9, 'algo_tree__min_samples_leaf': 2, 'algo_tree__min_samples_split': 7}\n",
      "0.657058 (0.020390) with: {'algo_tree__criterion': 'gini', 'algo_tree__max_depth': 9, 'algo_tree__min_samples_leaf': 2, 'algo_tree__min_samples_split': 8}\n",
      "0.648724 (0.023095) with: {'algo_tree__criterion': 'gini', 'algo_tree__max_depth': 9, 'algo_tree__min_samples_leaf': 2, 'algo_tree__min_samples_split': 9}\n",
      "nan (nan) with: {'algo_tree__criterion': 'gini', 'algo_tree__max_depth': 9, 'algo_tree__min_samples_leaf': 3, 'algo_tree__min_samples_split': 1}\n",
      "0.669388 (0.041716) with: {'algo_tree__criterion': 'gini', 'algo_tree__max_depth': 9, 'algo_tree__min_samples_leaf': 3, 'algo_tree__min_samples_split': 2}\n",
      "0.661139 (0.059789) with: {'algo_tree__criterion': 'gini', 'algo_tree__max_depth': 9, 'algo_tree__min_samples_leaf': 3, 'algo_tree__min_samples_split': 3}\n",
      "0.665306 (0.053124) with: {'algo_tree__criterion': 'gini', 'algo_tree__max_depth': 9, 'algo_tree__min_samples_leaf': 3, 'algo_tree__min_samples_split': 4}\n",
      "0.665221 (0.044788) with: {'algo_tree__criterion': 'gini', 'algo_tree__max_depth': 9, 'algo_tree__min_samples_leaf': 3, 'algo_tree__min_samples_split': 5}\n",
      "0.681973 (0.052568) with: {'algo_tree__criterion': 'gini', 'algo_tree__max_depth': 9, 'algo_tree__min_samples_leaf': 3, 'algo_tree__min_samples_split': 6}\n",
      "0.669388 (0.041716) with: {'algo_tree__criterion': 'gini', 'algo_tree__max_depth': 9, 'algo_tree__min_samples_leaf': 3, 'algo_tree__min_samples_split': 7}\n",
      "0.665221 (0.024840) with: {'algo_tree__criterion': 'gini', 'algo_tree__max_depth': 9, 'algo_tree__min_samples_leaf': 3, 'algo_tree__min_samples_split': 8}\n",
      "0.673554 (0.035583) with: {'algo_tree__criterion': 'gini', 'algo_tree__max_depth': 9, 'algo_tree__min_samples_leaf': 3, 'algo_tree__min_samples_split': 9}\n",
      "nan (nan) with: {'algo_tree__criterion': 'gini', 'algo_tree__max_depth': 9, 'algo_tree__min_samples_leaf': 4, 'algo_tree__min_samples_split': 1}\n",
      "0.681718 (0.048840) with: {'algo_tree__criterion': 'gini', 'algo_tree__max_depth': 9, 'algo_tree__min_samples_leaf': 4, 'algo_tree__min_samples_split': 2}\n",
      "0.677551 (0.055687) with: {'algo_tree__criterion': 'gini', 'algo_tree__max_depth': 9, 'algo_tree__min_samples_leaf': 4, 'algo_tree__min_samples_split': 3}\n",
      "0.669218 (0.050185) with: {'algo_tree__criterion': 'gini', 'algo_tree__max_depth': 9, 'algo_tree__min_samples_leaf': 4, 'algo_tree__min_samples_split': 4}\n",
      "0.685884 (0.053387) with: {'algo_tree__criterion': 'gini', 'algo_tree__max_depth': 9, 'algo_tree__min_samples_leaf': 4, 'algo_tree__min_samples_split': 5}\n",
      "0.673384 (0.052348) with: {'algo_tree__criterion': 'gini', 'algo_tree__max_depth': 9, 'algo_tree__min_samples_leaf': 4, 'algo_tree__min_samples_split': 6}\n",
      "0.677551 (0.055687) with: {'algo_tree__criterion': 'gini', 'algo_tree__max_depth': 9, 'algo_tree__min_samples_leaf': 4, 'algo_tree__min_samples_split': 7}\n",
      "0.681718 (0.048840) with: {'algo_tree__criterion': 'gini', 'algo_tree__max_depth': 9, 'algo_tree__min_samples_leaf': 4, 'algo_tree__min_samples_split': 8}\n",
      "0.681718 (0.060005) with: {'algo_tree__criterion': 'gini', 'algo_tree__max_depth': 9, 'algo_tree__min_samples_leaf': 4, 'algo_tree__min_samples_split': 9}\n",
      "nan (nan) with: {'algo_tree__criterion': 'entropy', 'algo_tree__max_depth': 1, 'algo_tree__min_samples_leaf': 1, 'algo_tree__min_samples_split': 1}\n",
      "0.681548 (0.037931) with: {'algo_tree__criterion': 'entropy', 'algo_tree__max_depth': 1, 'algo_tree__min_samples_leaf': 1, 'algo_tree__min_samples_split': 2}\n",
      "0.681548 (0.037931) with: {'algo_tree__criterion': 'entropy', 'algo_tree__max_depth': 1, 'algo_tree__min_samples_leaf': 1, 'algo_tree__min_samples_split': 3}\n",
      "0.681548 (0.037931) with: {'algo_tree__criterion': 'entropy', 'algo_tree__max_depth': 1, 'algo_tree__min_samples_leaf': 1, 'algo_tree__min_samples_split': 4}\n",
      "0.681548 (0.037931) with: {'algo_tree__criterion': 'entropy', 'algo_tree__max_depth': 1, 'algo_tree__min_samples_leaf': 1, 'algo_tree__min_samples_split': 5}\n",
      "0.681548 (0.037931) with: {'algo_tree__criterion': 'entropy', 'algo_tree__max_depth': 1, 'algo_tree__min_samples_leaf': 1, 'algo_tree__min_samples_split': 6}\n",
      "0.681548 (0.037931) with: {'algo_tree__criterion': 'entropy', 'algo_tree__max_depth': 1, 'algo_tree__min_samples_leaf': 1, 'algo_tree__min_samples_split': 7}\n",
      "0.681548 (0.037931) with: {'algo_tree__criterion': 'entropy', 'algo_tree__max_depth': 1, 'algo_tree__min_samples_leaf': 1, 'algo_tree__min_samples_split': 8}\n",
      "0.681548 (0.037931) with: {'algo_tree__criterion': 'entropy', 'algo_tree__max_depth': 1, 'algo_tree__min_samples_leaf': 1, 'algo_tree__min_samples_split': 9}\n",
      "nan (nan) with: {'algo_tree__criterion': 'entropy', 'algo_tree__max_depth': 1, 'algo_tree__min_samples_leaf': 2, 'algo_tree__min_samples_split': 1}\n",
      "0.681548 (0.037931) with: {'algo_tree__criterion': 'entropy', 'algo_tree__max_depth': 1, 'algo_tree__min_samples_leaf': 2, 'algo_tree__min_samples_split': 2}\n",
      "0.681548 (0.037931) with: {'algo_tree__criterion': 'entropy', 'algo_tree__max_depth': 1, 'algo_tree__min_samples_leaf': 2, 'algo_tree__min_samples_split': 3}\n",
      "0.681548 (0.037931) with: {'algo_tree__criterion': 'entropy', 'algo_tree__max_depth': 1, 'algo_tree__min_samples_leaf': 2, 'algo_tree__min_samples_split': 4}\n",
      "0.681548 (0.037931) with: {'algo_tree__criterion': 'entropy', 'algo_tree__max_depth': 1, 'algo_tree__min_samples_leaf': 2, 'algo_tree__min_samples_split': 5}\n",
      "0.681548 (0.037931) with: {'algo_tree__criterion': 'entropy', 'algo_tree__max_depth': 1, 'algo_tree__min_samples_leaf': 2, 'algo_tree__min_samples_split': 6}\n",
      "0.681548 (0.037931) with: {'algo_tree__criterion': 'entropy', 'algo_tree__max_depth': 1, 'algo_tree__min_samples_leaf': 2, 'algo_tree__min_samples_split': 7}\n",
      "0.681548 (0.037931) with: {'algo_tree__criterion': 'entropy', 'algo_tree__max_depth': 1, 'algo_tree__min_samples_leaf': 2, 'algo_tree__min_samples_split': 8}\n",
      "0.681548 (0.037931) with: {'algo_tree__criterion': 'entropy', 'algo_tree__max_depth': 1, 'algo_tree__min_samples_leaf': 2, 'algo_tree__min_samples_split': 9}\n",
      "nan (nan) with: {'algo_tree__criterion': 'entropy', 'algo_tree__max_depth': 1, 'algo_tree__min_samples_leaf': 3, 'algo_tree__min_samples_split': 1}\n",
      "0.681548 (0.037931) with: {'algo_tree__criterion': 'entropy', 'algo_tree__max_depth': 1, 'algo_tree__min_samples_leaf': 3, 'algo_tree__min_samples_split': 2}\n",
      "0.681548 (0.037931) with: {'algo_tree__criterion': 'entropy', 'algo_tree__max_depth': 1, 'algo_tree__min_samples_leaf': 3, 'algo_tree__min_samples_split': 3}\n",
      "0.681548 (0.037931) with: {'algo_tree__criterion': 'entropy', 'algo_tree__max_depth': 1, 'algo_tree__min_samples_leaf': 3, 'algo_tree__min_samples_split': 4}\n",
      "0.681548 (0.037931) with: {'algo_tree__criterion': 'entropy', 'algo_tree__max_depth': 1, 'algo_tree__min_samples_leaf': 3, 'algo_tree__min_samples_split': 5}\n",
      "0.681548 (0.037931) with: {'algo_tree__criterion': 'entropy', 'algo_tree__max_depth': 1, 'algo_tree__min_samples_leaf': 3, 'algo_tree__min_samples_split': 6}\n",
      "0.681548 (0.037931) with: {'algo_tree__criterion': 'entropy', 'algo_tree__max_depth': 1, 'algo_tree__min_samples_leaf': 3, 'algo_tree__min_samples_split': 7}\n",
      "0.681548 (0.037931) with: {'algo_tree__criterion': 'entropy', 'algo_tree__max_depth': 1, 'algo_tree__min_samples_leaf': 3, 'algo_tree__min_samples_split': 8}\n",
      "0.681548 (0.037931) with: {'algo_tree__criterion': 'entropy', 'algo_tree__max_depth': 1, 'algo_tree__min_samples_leaf': 3, 'algo_tree__min_samples_split': 9}\n",
      "nan (nan) with: {'algo_tree__criterion': 'entropy', 'algo_tree__max_depth': 1, 'algo_tree__min_samples_leaf': 4, 'algo_tree__min_samples_split': 1}\n",
      "0.681548 (0.037931) with: {'algo_tree__criterion': 'entropy', 'algo_tree__max_depth': 1, 'algo_tree__min_samples_leaf': 4, 'algo_tree__min_samples_split': 2}\n",
      "0.681548 (0.037931) with: {'algo_tree__criterion': 'entropy', 'algo_tree__max_depth': 1, 'algo_tree__min_samples_leaf': 4, 'algo_tree__min_samples_split': 3}\n",
      "0.681548 (0.037931) with: {'algo_tree__criterion': 'entropy', 'algo_tree__max_depth': 1, 'algo_tree__min_samples_leaf': 4, 'algo_tree__min_samples_split': 4}\n",
      "0.681548 (0.037931) with: {'algo_tree__criterion': 'entropy', 'algo_tree__max_depth': 1, 'algo_tree__min_samples_leaf': 4, 'algo_tree__min_samples_split': 5}\n",
      "0.681548 (0.037931) with: {'algo_tree__criterion': 'entropy', 'algo_tree__max_depth': 1, 'algo_tree__min_samples_leaf': 4, 'algo_tree__min_samples_split': 6}\n",
      "0.681548 (0.037931) with: {'algo_tree__criterion': 'entropy', 'algo_tree__max_depth': 1, 'algo_tree__min_samples_leaf': 4, 'algo_tree__min_samples_split': 7}\n",
      "0.681548 (0.037931) with: {'algo_tree__criterion': 'entropy', 'algo_tree__max_depth': 1, 'algo_tree__min_samples_leaf': 4, 'algo_tree__min_samples_split': 8}\n",
      "0.681548 (0.037931) with: {'algo_tree__criterion': 'entropy', 'algo_tree__max_depth': 1, 'algo_tree__min_samples_leaf': 4, 'algo_tree__min_samples_split': 9}\n",
      "nan (nan) with: {'algo_tree__criterion': 'entropy', 'algo_tree__max_depth': 2, 'algo_tree__min_samples_leaf': 1, 'algo_tree__min_samples_split': 1}\n",
      "0.702296 (0.034987) with: {'algo_tree__criterion': 'entropy', 'algo_tree__max_depth': 2, 'algo_tree__min_samples_leaf': 1, 'algo_tree__min_samples_split': 2}\n",
      "0.702296 (0.034987) with: {'algo_tree__criterion': 'entropy', 'algo_tree__max_depth': 2, 'algo_tree__min_samples_leaf': 1, 'algo_tree__min_samples_split': 3}\n",
      "0.702296 (0.034987) with: {'algo_tree__criterion': 'entropy', 'algo_tree__max_depth': 2, 'algo_tree__min_samples_leaf': 1, 'algo_tree__min_samples_split': 4}\n",
      "0.702296 (0.034987) with: {'algo_tree__criterion': 'entropy', 'algo_tree__max_depth': 2, 'algo_tree__min_samples_leaf': 1, 'algo_tree__min_samples_split': 5}\n",
      "0.702296 (0.034987) with: {'algo_tree__criterion': 'entropy', 'algo_tree__max_depth': 2, 'algo_tree__min_samples_leaf': 1, 'algo_tree__min_samples_split': 6}\n",
      "0.702296 (0.034987) with: {'algo_tree__criterion': 'entropy', 'algo_tree__max_depth': 2, 'algo_tree__min_samples_leaf': 1, 'algo_tree__min_samples_split': 7}\n",
      "0.702296 (0.034987) with: {'algo_tree__criterion': 'entropy', 'algo_tree__max_depth': 2, 'algo_tree__min_samples_leaf': 1, 'algo_tree__min_samples_split': 8}\n",
      "0.702296 (0.034987) with: {'algo_tree__criterion': 'entropy', 'algo_tree__max_depth': 2, 'algo_tree__min_samples_leaf': 1, 'algo_tree__min_samples_split': 9}\n",
      "nan (nan) with: {'algo_tree__criterion': 'entropy', 'algo_tree__max_depth': 2, 'algo_tree__min_samples_leaf': 2, 'algo_tree__min_samples_split': 1}\n",
      "0.702296 (0.034987) with: {'algo_tree__criterion': 'entropy', 'algo_tree__max_depth': 2, 'algo_tree__min_samples_leaf': 2, 'algo_tree__min_samples_split': 2}\n",
      "0.702296 (0.034987) with: {'algo_tree__criterion': 'entropy', 'algo_tree__max_depth': 2, 'algo_tree__min_samples_leaf': 2, 'algo_tree__min_samples_split': 3}\n",
      "0.702296 (0.034987) with: {'algo_tree__criterion': 'entropy', 'algo_tree__max_depth': 2, 'algo_tree__min_samples_leaf': 2, 'algo_tree__min_samples_split': 4}\n",
      "0.702296 (0.034987) with: {'algo_tree__criterion': 'entropy', 'algo_tree__max_depth': 2, 'algo_tree__min_samples_leaf': 2, 'algo_tree__min_samples_split': 5}\n",
      "0.702296 (0.034987) with: {'algo_tree__criterion': 'entropy', 'algo_tree__max_depth': 2, 'algo_tree__min_samples_leaf': 2, 'algo_tree__min_samples_split': 6}\n",
      "0.702296 (0.034987) with: {'algo_tree__criterion': 'entropy', 'algo_tree__max_depth': 2, 'algo_tree__min_samples_leaf': 2, 'algo_tree__min_samples_split': 7}\n",
      "0.702296 (0.034987) with: {'algo_tree__criterion': 'entropy', 'algo_tree__max_depth': 2, 'algo_tree__min_samples_leaf': 2, 'algo_tree__min_samples_split': 8}\n",
      "0.702296 (0.034987) with: {'algo_tree__criterion': 'entropy', 'algo_tree__max_depth': 2, 'algo_tree__min_samples_leaf': 2, 'algo_tree__min_samples_split': 9}\n",
      "nan (nan) with: {'algo_tree__criterion': 'entropy', 'algo_tree__max_depth': 2, 'algo_tree__min_samples_leaf': 3, 'algo_tree__min_samples_split': 1}\n",
      "0.702296 (0.034987) with: {'algo_tree__criterion': 'entropy', 'algo_tree__max_depth': 2, 'algo_tree__min_samples_leaf': 3, 'algo_tree__min_samples_split': 2}\n",
      "0.702296 (0.034987) with: {'algo_tree__criterion': 'entropy', 'algo_tree__max_depth': 2, 'algo_tree__min_samples_leaf': 3, 'algo_tree__min_samples_split': 3}\n",
      "0.702296 (0.034987) with: {'algo_tree__criterion': 'entropy', 'algo_tree__max_depth': 2, 'algo_tree__min_samples_leaf': 3, 'algo_tree__min_samples_split': 4}\n",
      "0.702296 (0.034987) with: {'algo_tree__criterion': 'entropy', 'algo_tree__max_depth': 2, 'algo_tree__min_samples_leaf': 3, 'algo_tree__min_samples_split': 5}\n",
      "0.702296 (0.034987) with: {'algo_tree__criterion': 'entropy', 'algo_tree__max_depth': 2, 'algo_tree__min_samples_leaf': 3, 'algo_tree__min_samples_split': 6}\n",
      "0.702296 (0.034987) with: {'algo_tree__criterion': 'entropy', 'algo_tree__max_depth': 2, 'algo_tree__min_samples_leaf': 3, 'algo_tree__min_samples_split': 7}\n",
      "0.702296 (0.034987) with: {'algo_tree__criterion': 'entropy', 'algo_tree__max_depth': 2, 'algo_tree__min_samples_leaf': 3, 'algo_tree__min_samples_split': 8}\n",
      "0.702296 (0.034987) with: {'algo_tree__criterion': 'entropy', 'algo_tree__max_depth': 2, 'algo_tree__min_samples_leaf': 3, 'algo_tree__min_samples_split': 9}\n",
      "nan (nan) with: {'algo_tree__criterion': 'entropy', 'algo_tree__max_depth': 2, 'algo_tree__min_samples_leaf': 4, 'algo_tree__min_samples_split': 1}\n",
      "0.702296 (0.034987) with: {'algo_tree__criterion': 'entropy', 'algo_tree__max_depth': 2, 'algo_tree__min_samples_leaf': 4, 'algo_tree__min_samples_split': 2}\n",
      "0.702296 (0.034987) with: {'algo_tree__criterion': 'entropy', 'algo_tree__max_depth': 2, 'algo_tree__min_samples_leaf': 4, 'algo_tree__min_samples_split': 3}\n",
      "0.702296 (0.034987) with: {'algo_tree__criterion': 'entropy', 'algo_tree__max_depth': 2, 'algo_tree__min_samples_leaf': 4, 'algo_tree__min_samples_split': 4}\n",
      "0.702296 (0.034987) with: {'algo_tree__criterion': 'entropy', 'algo_tree__max_depth': 2, 'algo_tree__min_samples_leaf': 4, 'algo_tree__min_samples_split': 5}\n",
      "0.702296 (0.034987) with: {'algo_tree__criterion': 'entropy', 'algo_tree__max_depth': 2, 'algo_tree__min_samples_leaf': 4, 'algo_tree__min_samples_split': 6}\n",
      "0.702296 (0.034987) with: {'algo_tree__criterion': 'entropy', 'algo_tree__max_depth': 2, 'algo_tree__min_samples_leaf': 4, 'algo_tree__min_samples_split': 7}\n",
      "0.702296 (0.034987) with: {'algo_tree__criterion': 'entropy', 'algo_tree__max_depth': 2, 'algo_tree__min_samples_leaf': 4, 'algo_tree__min_samples_split': 8}\n",
      "0.702296 (0.034987) with: {'algo_tree__criterion': 'entropy', 'algo_tree__max_depth': 2, 'algo_tree__min_samples_leaf': 4, 'algo_tree__min_samples_split': 9}\n",
      "nan (nan) with: {'algo_tree__criterion': 'entropy', 'algo_tree__max_depth': 3, 'algo_tree__min_samples_leaf': 1, 'algo_tree__min_samples_split': 1}\n",
      "0.685714 (0.058886) with: {'algo_tree__criterion': 'entropy', 'algo_tree__max_depth': 3, 'algo_tree__min_samples_leaf': 1, 'algo_tree__min_samples_split': 2}\n",
      "0.685714 (0.058886) with: {'algo_tree__criterion': 'entropy', 'algo_tree__max_depth': 3, 'algo_tree__min_samples_leaf': 1, 'algo_tree__min_samples_split': 3}\n",
      "0.685714 (0.058886) with: {'algo_tree__criterion': 'entropy', 'algo_tree__max_depth': 3, 'algo_tree__min_samples_leaf': 1, 'algo_tree__min_samples_split': 4}\n",
      "0.685714 (0.058886) with: {'algo_tree__criterion': 'entropy', 'algo_tree__max_depth': 3, 'algo_tree__min_samples_leaf': 1, 'algo_tree__min_samples_split': 5}\n",
      "0.685714 (0.058886) with: {'algo_tree__criterion': 'entropy', 'algo_tree__max_depth': 3, 'algo_tree__min_samples_leaf': 1, 'algo_tree__min_samples_split': 6}\n",
      "0.685714 (0.058886) with: {'algo_tree__criterion': 'entropy', 'algo_tree__max_depth': 3, 'algo_tree__min_samples_leaf': 1, 'algo_tree__min_samples_split': 7}\n",
      "0.685714 (0.058886) with: {'algo_tree__criterion': 'entropy', 'algo_tree__max_depth': 3, 'algo_tree__min_samples_leaf': 1, 'algo_tree__min_samples_split': 8}\n",
      "0.685714 (0.058886) with: {'algo_tree__criterion': 'entropy', 'algo_tree__max_depth': 3, 'algo_tree__min_samples_leaf': 1, 'algo_tree__min_samples_split': 9}\n",
      "nan (nan) with: {'algo_tree__criterion': 'entropy', 'algo_tree__max_depth': 3, 'algo_tree__min_samples_leaf': 2, 'algo_tree__min_samples_split': 1}\n",
      "0.685714 (0.058886) with: {'algo_tree__criterion': 'entropy', 'algo_tree__max_depth': 3, 'algo_tree__min_samples_leaf': 2, 'algo_tree__min_samples_split': 2}\n",
      "0.685714 (0.058886) with: {'algo_tree__criterion': 'entropy', 'algo_tree__max_depth': 3, 'algo_tree__min_samples_leaf': 2, 'algo_tree__min_samples_split': 3}\n",
      "0.685714 (0.058886) with: {'algo_tree__criterion': 'entropy', 'algo_tree__max_depth': 3, 'algo_tree__min_samples_leaf': 2, 'algo_tree__min_samples_split': 4}\n",
      "0.685714 (0.058886) with: {'algo_tree__criterion': 'entropy', 'algo_tree__max_depth': 3, 'algo_tree__min_samples_leaf': 2, 'algo_tree__min_samples_split': 5}\n",
      "0.685714 (0.058886) with: {'algo_tree__criterion': 'entropy', 'algo_tree__max_depth': 3, 'algo_tree__min_samples_leaf': 2, 'algo_tree__min_samples_split': 6}\n",
      "0.685714 (0.058886) with: {'algo_tree__criterion': 'entropy', 'algo_tree__max_depth': 3, 'algo_tree__min_samples_leaf': 2, 'algo_tree__min_samples_split': 7}\n",
      "0.685714 (0.058886) with: {'algo_tree__criterion': 'entropy', 'algo_tree__max_depth': 3, 'algo_tree__min_samples_leaf': 2, 'algo_tree__min_samples_split': 8}\n",
      "0.685714 (0.058886) with: {'algo_tree__criterion': 'entropy', 'algo_tree__max_depth': 3, 'algo_tree__min_samples_leaf': 2, 'algo_tree__min_samples_split': 9}\n",
      "nan (nan) with: {'algo_tree__criterion': 'entropy', 'algo_tree__max_depth': 3, 'algo_tree__min_samples_leaf': 3, 'algo_tree__min_samples_split': 1}\n",
      "0.685714 (0.058886) with: {'algo_tree__criterion': 'entropy', 'algo_tree__max_depth': 3, 'algo_tree__min_samples_leaf': 3, 'algo_tree__min_samples_split': 2}\n",
      "0.685714 (0.058886) with: {'algo_tree__criterion': 'entropy', 'algo_tree__max_depth': 3, 'algo_tree__min_samples_leaf': 3, 'algo_tree__min_samples_split': 3}\n",
      "0.685714 (0.058886) with: {'algo_tree__criterion': 'entropy', 'algo_tree__max_depth': 3, 'algo_tree__min_samples_leaf': 3, 'algo_tree__min_samples_split': 4}\n",
      "0.685714 (0.058886) with: {'algo_tree__criterion': 'entropy', 'algo_tree__max_depth': 3, 'algo_tree__min_samples_leaf': 3, 'algo_tree__min_samples_split': 5}\n",
      "0.685714 (0.058886) with: {'algo_tree__criterion': 'entropy', 'algo_tree__max_depth': 3, 'algo_tree__min_samples_leaf': 3, 'algo_tree__min_samples_split': 6}\n",
      "0.685714 (0.058886) with: {'algo_tree__criterion': 'entropy', 'algo_tree__max_depth': 3, 'algo_tree__min_samples_leaf': 3, 'algo_tree__min_samples_split': 7}\n",
      "0.685714 (0.058886) with: {'algo_tree__criterion': 'entropy', 'algo_tree__max_depth': 3, 'algo_tree__min_samples_leaf': 3, 'algo_tree__min_samples_split': 8}\n",
      "0.685714 (0.058886) with: {'algo_tree__criterion': 'entropy', 'algo_tree__max_depth': 3, 'algo_tree__min_samples_leaf': 3, 'algo_tree__min_samples_split': 9}\n",
      "nan (nan) with: {'algo_tree__criterion': 'entropy', 'algo_tree__max_depth': 3, 'algo_tree__min_samples_leaf': 4, 'algo_tree__min_samples_split': 1}\n",
      "0.685714 (0.058886) with: {'algo_tree__criterion': 'entropy', 'algo_tree__max_depth': 3, 'algo_tree__min_samples_leaf': 4, 'algo_tree__min_samples_split': 2}\n",
      "0.685714 (0.058886) with: {'algo_tree__criterion': 'entropy', 'algo_tree__max_depth': 3, 'algo_tree__min_samples_leaf': 4, 'algo_tree__min_samples_split': 3}\n",
      "0.685714 (0.058886) with: {'algo_tree__criterion': 'entropy', 'algo_tree__max_depth': 3, 'algo_tree__min_samples_leaf': 4, 'algo_tree__min_samples_split': 4}\n",
      "0.685714 (0.058886) with: {'algo_tree__criterion': 'entropy', 'algo_tree__max_depth': 3, 'algo_tree__min_samples_leaf': 4, 'algo_tree__min_samples_split': 5}\n",
      "0.685714 (0.058886) with: {'algo_tree__criterion': 'entropy', 'algo_tree__max_depth': 3, 'algo_tree__min_samples_leaf': 4, 'algo_tree__min_samples_split': 6}\n",
      "0.685714 (0.058886) with: {'algo_tree__criterion': 'entropy', 'algo_tree__max_depth': 3, 'algo_tree__min_samples_leaf': 4, 'algo_tree__min_samples_split': 7}\n",
      "0.685714 (0.058886) with: {'algo_tree__criterion': 'entropy', 'algo_tree__max_depth': 3, 'algo_tree__min_samples_leaf': 4, 'algo_tree__min_samples_split': 8}\n",
      "0.685714 (0.058886) with: {'algo_tree__criterion': 'entropy', 'algo_tree__max_depth': 3, 'algo_tree__min_samples_leaf': 4, 'algo_tree__min_samples_split': 9}\n",
      "nan (nan) with: {'algo_tree__criterion': 'entropy', 'algo_tree__max_depth': 4, 'algo_tree__min_samples_leaf': 1, 'algo_tree__min_samples_split': 1}\n",
      "0.685629 (0.088516) with: {'algo_tree__criterion': 'entropy', 'algo_tree__max_depth': 4, 'algo_tree__min_samples_leaf': 1, 'algo_tree__min_samples_split': 2}\n",
      "0.689881 (0.069045) with: {'algo_tree__criterion': 'entropy', 'algo_tree__max_depth': 4, 'algo_tree__min_samples_leaf': 1, 'algo_tree__min_samples_split': 3}\n",
      "0.681548 (0.084664) with: {'algo_tree__criterion': 'entropy', 'algo_tree__max_depth': 4, 'algo_tree__min_samples_leaf': 1, 'algo_tree__min_samples_split': 4}\n",
      "0.689881 (0.069045) with: {'algo_tree__criterion': 'entropy', 'algo_tree__max_depth': 4, 'algo_tree__min_samples_leaf': 1, 'algo_tree__min_samples_split': 5}\n",
      "0.681548 (0.084664) with: {'algo_tree__criterion': 'entropy', 'algo_tree__max_depth': 4, 'algo_tree__min_samples_leaf': 1, 'algo_tree__min_samples_split': 6}\n",
      "0.685714 (0.076799) with: {'algo_tree__criterion': 'entropy', 'algo_tree__max_depth': 4, 'algo_tree__min_samples_leaf': 1, 'algo_tree__min_samples_split': 7}\n",
      "0.694048 (0.061442) with: {'algo_tree__criterion': 'entropy', 'algo_tree__max_depth': 4, 'algo_tree__min_samples_leaf': 1, 'algo_tree__min_samples_split': 8}\n",
      "0.694048 (0.061442) with: {'algo_tree__criterion': 'entropy', 'algo_tree__max_depth': 4, 'algo_tree__min_samples_leaf': 1, 'algo_tree__min_samples_split': 9}\n",
      "nan (nan) with: {'algo_tree__criterion': 'entropy', 'algo_tree__max_depth': 4, 'algo_tree__min_samples_leaf': 2, 'algo_tree__min_samples_split': 1}\n",
      "0.689881 (0.069045) with: {'algo_tree__criterion': 'entropy', 'algo_tree__max_depth': 4, 'algo_tree__min_samples_leaf': 2, 'algo_tree__min_samples_split': 2}\n",
      "0.689881 (0.069045) with: {'algo_tree__criterion': 'entropy', 'algo_tree__max_depth': 4, 'algo_tree__min_samples_leaf': 2, 'algo_tree__min_samples_split': 3}\n",
      "0.689881 (0.069045) with: {'algo_tree__criterion': 'entropy', 'algo_tree__max_depth': 4, 'algo_tree__min_samples_leaf': 2, 'algo_tree__min_samples_split': 4}\n",
      "0.689881 (0.069045) with: {'algo_tree__criterion': 'entropy', 'algo_tree__max_depth': 4, 'algo_tree__min_samples_leaf': 2, 'algo_tree__min_samples_split': 5}\n",
      "0.689881 (0.069045) with: {'algo_tree__criterion': 'entropy', 'algo_tree__max_depth': 4, 'algo_tree__min_samples_leaf': 2, 'algo_tree__min_samples_split': 6}\n",
      "0.694048 (0.061442) with: {'algo_tree__criterion': 'entropy', 'algo_tree__max_depth': 4, 'algo_tree__min_samples_leaf': 2, 'algo_tree__min_samples_split': 7}\n",
      "0.694048 (0.061442) with: {'algo_tree__criterion': 'entropy', 'algo_tree__max_depth': 4, 'algo_tree__min_samples_leaf': 2, 'algo_tree__min_samples_split': 8}\n",
      "0.694048 (0.061442) with: {'algo_tree__criterion': 'entropy', 'algo_tree__max_depth': 4, 'algo_tree__min_samples_leaf': 2, 'algo_tree__min_samples_split': 9}\n",
      "nan (nan) with: {'algo_tree__criterion': 'entropy', 'algo_tree__max_depth': 4, 'algo_tree__min_samples_leaf': 3, 'algo_tree__min_samples_split': 1}\n",
      "0.698129 (0.060611) with: {'algo_tree__criterion': 'entropy', 'algo_tree__max_depth': 4, 'algo_tree__min_samples_leaf': 3, 'algo_tree__min_samples_split': 2}\n",
      "0.693963 (0.068555) with: {'algo_tree__criterion': 'entropy', 'algo_tree__max_depth': 4, 'algo_tree__min_samples_leaf': 3, 'algo_tree__min_samples_split': 3}\n",
      "0.693963 (0.068555) with: {'algo_tree__criterion': 'entropy', 'algo_tree__max_depth': 4, 'algo_tree__min_samples_leaf': 3, 'algo_tree__min_samples_split': 4}\n",
      "0.693963 (0.068555) with: {'algo_tree__criterion': 'entropy', 'algo_tree__max_depth': 4, 'algo_tree__min_samples_leaf': 3, 'algo_tree__min_samples_split': 5}\n",
      "0.693963 (0.068555) with: {'algo_tree__criterion': 'entropy', 'algo_tree__max_depth': 4, 'algo_tree__min_samples_leaf': 3, 'algo_tree__min_samples_split': 6}\n",
      "0.698129 (0.060611) with: {'algo_tree__criterion': 'entropy', 'algo_tree__max_depth': 4, 'algo_tree__min_samples_leaf': 3, 'algo_tree__min_samples_split': 7}\n",
      "0.698129 (0.060611) with: {'algo_tree__criterion': 'entropy', 'algo_tree__max_depth': 4, 'algo_tree__min_samples_leaf': 3, 'algo_tree__min_samples_split': 8}\n",
      "0.698129 (0.060611) with: {'algo_tree__criterion': 'entropy', 'algo_tree__max_depth': 4, 'algo_tree__min_samples_leaf': 3, 'algo_tree__min_samples_split': 9}\n",
      "nan (nan) with: {'algo_tree__criterion': 'entropy', 'algo_tree__max_depth': 4, 'algo_tree__min_samples_leaf': 4, 'algo_tree__min_samples_split': 1}\n",
      "0.698129 (0.060611) with: {'algo_tree__criterion': 'entropy', 'algo_tree__max_depth': 4, 'algo_tree__min_samples_leaf': 4, 'algo_tree__min_samples_split': 2}\n",
      "0.698129 (0.060611) with: {'algo_tree__criterion': 'entropy', 'algo_tree__max_depth': 4, 'algo_tree__min_samples_leaf': 4, 'algo_tree__min_samples_split': 3}\n",
      "0.698129 (0.060611) with: {'algo_tree__criterion': 'entropy', 'algo_tree__max_depth': 4, 'algo_tree__min_samples_leaf': 4, 'algo_tree__min_samples_split': 4}\n",
      "0.698129 (0.060611) with: {'algo_tree__criterion': 'entropy', 'algo_tree__max_depth': 4, 'algo_tree__min_samples_leaf': 4, 'algo_tree__min_samples_split': 5}\n",
      "0.698129 (0.060611) with: {'algo_tree__criterion': 'entropy', 'algo_tree__max_depth': 4, 'algo_tree__min_samples_leaf': 4, 'algo_tree__min_samples_split': 6}\n",
      "0.698129 (0.060611) with: {'algo_tree__criterion': 'entropy', 'algo_tree__max_depth': 4, 'algo_tree__min_samples_leaf': 4, 'algo_tree__min_samples_split': 7}\n",
      "0.698129 (0.060611) with: {'algo_tree__criterion': 'entropy', 'algo_tree__max_depth': 4, 'algo_tree__min_samples_leaf': 4, 'algo_tree__min_samples_split': 8}\n",
      "0.698129 (0.060611) with: {'algo_tree__criterion': 'entropy', 'algo_tree__max_depth': 4, 'algo_tree__min_samples_leaf': 4, 'algo_tree__min_samples_split': 9}\n",
      "nan (nan) with: {'algo_tree__criterion': 'entropy', 'algo_tree__max_depth': 5, 'algo_tree__min_samples_leaf': 1, 'algo_tree__min_samples_split': 1}\n",
      "0.665306 (0.065578) with: {'algo_tree__criterion': 'entropy', 'algo_tree__max_depth': 5, 'algo_tree__min_samples_leaf': 1, 'algo_tree__min_samples_split': 2}\n",
      "0.677551 (0.055687) with: {'algo_tree__criterion': 'entropy', 'algo_tree__max_depth': 5, 'algo_tree__min_samples_leaf': 1, 'algo_tree__min_samples_split': 3}\n",
      "0.673384 (0.062894) with: {'algo_tree__criterion': 'entropy', 'algo_tree__max_depth': 5, 'algo_tree__min_samples_leaf': 1, 'algo_tree__min_samples_split': 4}\n",
      "0.673384 (0.062894) with: {'algo_tree__criterion': 'entropy', 'algo_tree__max_depth': 5, 'algo_tree__min_samples_leaf': 1, 'algo_tree__min_samples_split': 5}\n",
      "0.673384 (0.062894) with: {'algo_tree__criterion': 'entropy', 'algo_tree__max_depth': 5, 'algo_tree__min_samples_leaf': 1, 'algo_tree__min_samples_split': 6}\n",
      "0.677551 (0.055687) with: {'algo_tree__criterion': 'entropy', 'algo_tree__max_depth': 5, 'algo_tree__min_samples_leaf': 1, 'algo_tree__min_samples_split': 7}\n",
      "0.685884 (0.042527) with: {'algo_tree__criterion': 'entropy', 'algo_tree__max_depth': 5, 'algo_tree__min_samples_leaf': 1, 'algo_tree__min_samples_split': 8}\n",
      "0.690051 (0.043491) with: {'algo_tree__criterion': 'entropy', 'algo_tree__max_depth': 5, 'algo_tree__min_samples_leaf': 1, 'algo_tree__min_samples_split': 9}\n",
      "nan (nan) with: {'algo_tree__criterion': 'entropy', 'algo_tree__max_depth': 5, 'algo_tree__min_samples_leaf': 2, 'algo_tree__min_samples_split': 1}\n",
      "0.685884 (0.057758) with: {'algo_tree__criterion': 'entropy', 'algo_tree__max_depth': 5, 'algo_tree__min_samples_leaf': 2, 'algo_tree__min_samples_split': 2}\n",
      "0.677636 (0.060708) with: {'algo_tree__criterion': 'entropy', 'algo_tree__max_depth': 5, 'algo_tree__min_samples_leaf': 2, 'algo_tree__min_samples_split': 3}\n",
      "0.685969 (0.057093) with: {'algo_tree__criterion': 'entropy', 'algo_tree__max_depth': 5, 'algo_tree__min_samples_leaf': 2, 'algo_tree__min_samples_split': 4}\n",
      "0.681718 (0.056730) with: {'algo_tree__criterion': 'entropy', 'algo_tree__max_depth': 5, 'algo_tree__min_samples_leaf': 2, 'algo_tree__min_samples_split': 5}\n",
      "0.689966 (0.054480) with: {'algo_tree__criterion': 'entropy', 'algo_tree__max_depth': 5, 'algo_tree__min_samples_leaf': 2, 'algo_tree__min_samples_split': 6}\n",
      "0.694133 (0.048192) with: {'algo_tree__criterion': 'entropy', 'algo_tree__max_depth': 5, 'algo_tree__min_samples_leaf': 2, 'algo_tree__min_samples_split': 7}\n",
      "0.689966 (0.047682) with: {'algo_tree__criterion': 'entropy', 'algo_tree__max_depth': 5, 'algo_tree__min_samples_leaf': 2, 'algo_tree__min_samples_split': 8}\n",
      "0.694133 (0.048192) with: {'algo_tree__criterion': 'entropy', 'algo_tree__max_depth': 5, 'algo_tree__min_samples_leaf': 2, 'algo_tree__min_samples_split': 9}\n",
      "nan (nan) with: {'algo_tree__criterion': 'entropy', 'algo_tree__max_depth': 5, 'algo_tree__min_samples_leaf': 3, 'algo_tree__min_samples_split': 1}\n",
      "0.689881 (0.042612) with: {'algo_tree__criterion': 'entropy', 'algo_tree__max_depth': 5, 'algo_tree__min_samples_leaf': 3, 'algo_tree__min_samples_split': 2}\n",
      "0.689881 (0.050102) with: {'algo_tree__criterion': 'entropy', 'algo_tree__max_depth': 5, 'algo_tree__min_samples_leaf': 3, 'algo_tree__min_samples_split': 3}\n",
      "0.685714 (0.049253) with: {'algo_tree__criterion': 'entropy', 'algo_tree__max_depth': 5, 'algo_tree__min_samples_leaf': 3, 'algo_tree__min_samples_split': 4}\n",
      "0.689881 (0.050102) with: {'algo_tree__criterion': 'entropy', 'algo_tree__max_depth': 5, 'algo_tree__min_samples_leaf': 3, 'algo_tree__min_samples_split': 5}\n",
      "0.689881 (0.050102) with: {'algo_tree__criterion': 'entropy', 'algo_tree__max_depth': 5, 'algo_tree__min_samples_leaf': 3, 'algo_tree__min_samples_split': 6}\n",
      "0.689881 (0.042612) with: {'algo_tree__criterion': 'entropy', 'algo_tree__max_depth': 5, 'algo_tree__min_samples_leaf': 3, 'algo_tree__min_samples_split': 7}\n",
      "0.689881 (0.042612) with: {'algo_tree__criterion': 'entropy', 'algo_tree__max_depth': 5, 'algo_tree__min_samples_leaf': 3, 'algo_tree__min_samples_split': 8}\n",
      "0.698214 (0.045320) with: {'algo_tree__criterion': 'entropy', 'algo_tree__max_depth': 5, 'algo_tree__min_samples_leaf': 3, 'algo_tree__min_samples_split': 9}\n",
      "nan (nan) with: {'algo_tree__criterion': 'entropy', 'algo_tree__max_depth': 5, 'algo_tree__min_samples_leaf': 4, 'algo_tree__min_samples_split': 1}\n",
      "0.681548 (0.048030) with: {'algo_tree__criterion': 'entropy', 'algo_tree__max_depth': 5, 'algo_tree__min_samples_leaf': 4, 'algo_tree__min_samples_split': 2}\n",
      "0.681548 (0.048030) with: {'algo_tree__criterion': 'entropy', 'algo_tree__max_depth': 5, 'algo_tree__min_samples_leaf': 4, 'algo_tree__min_samples_split': 3}\n",
      "0.689881 (0.051806) with: {'algo_tree__criterion': 'entropy', 'algo_tree__max_depth': 5, 'algo_tree__min_samples_leaf': 4, 'algo_tree__min_samples_split': 4}\n",
      "0.677381 (0.054965) with: {'algo_tree__criterion': 'entropy', 'algo_tree__max_depth': 5, 'algo_tree__min_samples_leaf': 4, 'algo_tree__min_samples_split': 5}\n",
      "0.677381 (0.054965) with: {'algo_tree__criterion': 'entropy', 'algo_tree__max_depth': 5, 'algo_tree__min_samples_leaf': 4, 'algo_tree__min_samples_split': 6}\n",
      "0.689881 (0.050102) with: {'algo_tree__criterion': 'entropy', 'algo_tree__max_depth': 5, 'algo_tree__min_samples_leaf': 4, 'algo_tree__min_samples_split': 7}\n",
      "0.685714 (0.049253) with: {'algo_tree__criterion': 'entropy', 'algo_tree__max_depth': 5, 'algo_tree__min_samples_leaf': 4, 'algo_tree__min_samples_split': 8}\n",
      "0.689881 (0.059598) with: {'algo_tree__criterion': 'entropy', 'algo_tree__max_depth': 5, 'algo_tree__min_samples_leaf': 4, 'algo_tree__min_samples_split': 9}\n",
      "nan (nan) with: {'algo_tree__criterion': 'entropy', 'algo_tree__max_depth': 6, 'algo_tree__min_samples_leaf': 1, 'algo_tree__min_samples_split': 1}\n",
      "0.669048 (0.071141) with: {'algo_tree__criterion': 'entropy', 'algo_tree__max_depth': 6, 'algo_tree__min_samples_leaf': 1, 'algo_tree__min_samples_split': 2}\n",
      "0.665221 (0.053413) with: {'algo_tree__criterion': 'entropy', 'algo_tree__max_depth': 6, 'algo_tree__min_samples_leaf': 1, 'algo_tree__min_samples_split': 3}\n",
      "0.652721 (0.070890) with: {'algo_tree__criterion': 'entropy', 'algo_tree__max_depth': 6, 'algo_tree__min_samples_leaf': 1, 'algo_tree__min_samples_split': 4}\n",
      "0.652636 (0.079355) with: {'algo_tree__criterion': 'entropy', 'algo_tree__max_depth': 6, 'algo_tree__min_samples_leaf': 1, 'algo_tree__min_samples_split': 5}\n",
      "0.669133 (0.060280) with: {'algo_tree__criterion': 'entropy', 'algo_tree__max_depth': 6, 'algo_tree__min_samples_leaf': 1, 'algo_tree__min_samples_split': 6}\n",
      "0.660884 (0.065236) with: {'algo_tree__criterion': 'entropy', 'algo_tree__max_depth': 6, 'algo_tree__min_samples_leaf': 1, 'algo_tree__min_samples_split': 7}\n",
      "0.677551 (0.037323) with: {'algo_tree__criterion': 'entropy', 'algo_tree__max_depth': 6, 'algo_tree__min_samples_leaf': 1, 'algo_tree__min_samples_split': 8}\n",
      "0.685884 (0.033795) with: {'algo_tree__criterion': 'entropy', 'algo_tree__max_depth': 6, 'algo_tree__min_samples_leaf': 1, 'algo_tree__min_samples_split': 9}\n",
      "nan (nan) with: {'algo_tree__criterion': 'entropy', 'algo_tree__max_depth': 6, 'algo_tree__min_samples_leaf': 2, 'algo_tree__min_samples_split': 1}\n",
      "0.665051 (0.063231) with: {'algo_tree__criterion': 'entropy', 'algo_tree__max_depth': 6, 'algo_tree__min_samples_leaf': 2, 'algo_tree__min_samples_split': 2}\n",
      "0.685799 (0.047096) with: {'algo_tree__criterion': 'entropy', 'algo_tree__max_depth': 6, 'algo_tree__min_samples_leaf': 2, 'algo_tree__min_samples_split': 3}\n",
      "0.685714 (0.054477) with: {'algo_tree__criterion': 'entropy', 'algo_tree__max_depth': 6, 'algo_tree__min_samples_leaf': 2, 'algo_tree__min_samples_split': 4}\n",
      "0.669218 (0.056683) with: {'algo_tree__criterion': 'entropy', 'algo_tree__max_depth': 6, 'algo_tree__min_samples_leaf': 2, 'algo_tree__min_samples_split': 5}\n",
      "0.681548 (0.071454) with: {'algo_tree__criterion': 'entropy', 'algo_tree__max_depth': 6, 'algo_tree__min_samples_leaf': 2, 'algo_tree__min_samples_split': 6}\n",
      "0.689881 (0.046734) with: {'algo_tree__criterion': 'entropy', 'algo_tree__max_depth': 6, 'algo_tree__min_samples_leaf': 2, 'algo_tree__min_samples_split': 7}\n",
      "0.693963 (0.051152) with: {'algo_tree__criterion': 'entropy', 'algo_tree__max_depth': 6, 'algo_tree__min_samples_leaf': 2, 'algo_tree__min_samples_split': 8}\n",
      "0.685629 (0.066264) with: {'algo_tree__criterion': 'entropy', 'algo_tree__max_depth': 6, 'algo_tree__min_samples_leaf': 2, 'algo_tree__min_samples_split': 9}\n",
      "nan (nan) with: {'algo_tree__criterion': 'entropy', 'algo_tree__max_depth': 6, 'algo_tree__min_samples_leaf': 3, 'algo_tree__min_samples_split': 1}\n",
      "0.689796 (0.045380) with: {'algo_tree__criterion': 'entropy', 'algo_tree__max_depth': 6, 'algo_tree__min_samples_leaf': 3, 'algo_tree__min_samples_split': 2}\n",
      "0.673214 (0.076237) with: {'algo_tree__criterion': 'entropy', 'algo_tree__max_depth': 6, 'algo_tree__min_samples_leaf': 3, 'algo_tree__min_samples_split': 3}\n",
      "0.693963 (0.045931) with: {'algo_tree__criterion': 'entropy', 'algo_tree__max_depth': 6, 'algo_tree__min_samples_leaf': 3, 'algo_tree__min_samples_split': 4}\n",
      "0.689796 (0.036945) with: {'algo_tree__criterion': 'entropy', 'algo_tree__max_depth': 6, 'algo_tree__min_samples_leaf': 3, 'algo_tree__min_samples_split': 5}\n",
      "0.693878 (0.049925) with: {'algo_tree__criterion': 'entropy', 'algo_tree__max_depth': 6, 'algo_tree__min_samples_leaf': 3, 'algo_tree__min_samples_split': 6}\n",
      "0.698044 (0.042596) with: {'algo_tree__criterion': 'entropy', 'algo_tree__max_depth': 6, 'algo_tree__min_samples_leaf': 3, 'algo_tree__min_samples_split': 7}\n",
      "0.693878 (0.044404) with: {'algo_tree__criterion': 'entropy', 'algo_tree__max_depth': 6, 'algo_tree__min_samples_leaf': 3, 'algo_tree__min_samples_split': 8}\n",
      "0.693878 (0.059449) with: {'algo_tree__criterion': 'entropy', 'algo_tree__max_depth': 6, 'algo_tree__min_samples_leaf': 3, 'algo_tree__min_samples_split': 9}\n",
      "nan (nan) with: {'algo_tree__criterion': 'entropy', 'algo_tree__max_depth': 6, 'algo_tree__min_samples_leaf': 4, 'algo_tree__min_samples_split': 1}\n",
      "0.685544 (0.058287) with: {'algo_tree__criterion': 'entropy', 'algo_tree__max_depth': 6, 'algo_tree__min_samples_leaf': 4, 'algo_tree__min_samples_split': 2}\n",
      "0.677211 (0.064525) with: {'algo_tree__criterion': 'entropy', 'algo_tree__max_depth': 6, 'algo_tree__min_samples_leaf': 4, 'algo_tree__min_samples_split': 3}\n",
      "0.685544 (0.065311) with: {'algo_tree__criterion': 'entropy', 'algo_tree__max_depth': 6, 'algo_tree__min_samples_leaf': 4, 'algo_tree__min_samples_split': 4}\n",
      "0.685544 (0.065311) with: {'algo_tree__criterion': 'entropy', 'algo_tree__max_depth': 6, 'algo_tree__min_samples_leaf': 4, 'algo_tree__min_samples_split': 5}\n",
      "0.677211 (0.072146) with: {'algo_tree__criterion': 'entropy', 'algo_tree__max_depth': 6, 'algo_tree__min_samples_leaf': 4, 'algo_tree__min_samples_split': 6}\n",
      "0.685544 (0.058287) with: {'algo_tree__criterion': 'entropy', 'algo_tree__max_depth': 6, 'algo_tree__min_samples_leaf': 4, 'algo_tree__min_samples_split': 7}\n",
      "0.685544 (0.058287) with: {'algo_tree__criterion': 'entropy', 'algo_tree__max_depth': 6, 'algo_tree__min_samples_leaf': 4, 'algo_tree__min_samples_split': 8}\n",
      "0.698044 (0.051792) with: {'algo_tree__criterion': 'entropy', 'algo_tree__max_depth': 6, 'algo_tree__min_samples_leaf': 4, 'algo_tree__min_samples_split': 9}\n",
      "nan (nan) with: {'algo_tree__criterion': 'entropy', 'algo_tree__max_depth': 7, 'algo_tree__min_samples_leaf': 1, 'algo_tree__min_samples_split': 1}\n",
      "0.652721 (0.042945) with: {'algo_tree__criterion': 'entropy', 'algo_tree__max_depth': 7, 'algo_tree__min_samples_leaf': 1, 'algo_tree__min_samples_split': 2}\n",
      "0.636310 (0.025197) with: {'algo_tree__criterion': 'entropy', 'algo_tree__max_depth': 7, 'algo_tree__min_samples_leaf': 1, 'algo_tree__min_samples_split': 3}\n",
      "0.640306 (0.051068) with: {'algo_tree__criterion': 'entropy', 'algo_tree__max_depth': 7, 'algo_tree__min_samples_leaf': 1, 'algo_tree__min_samples_split': 4}\n",
      "0.652721 (0.029303) with: {'algo_tree__criterion': 'entropy', 'algo_tree__max_depth': 7, 'algo_tree__min_samples_leaf': 1, 'algo_tree__min_samples_split': 5}\n",
      "0.644388 (0.035373) with: {'algo_tree__criterion': 'entropy', 'algo_tree__max_depth': 7, 'algo_tree__min_samples_leaf': 1, 'algo_tree__min_samples_split': 6}\n",
      "0.652551 (0.042732) with: {'algo_tree__criterion': 'entropy', 'algo_tree__max_depth': 7, 'algo_tree__min_samples_leaf': 1, 'algo_tree__min_samples_split': 7}\n",
      "0.660969 (0.029868) with: {'algo_tree__criterion': 'entropy', 'algo_tree__max_depth': 7, 'algo_tree__min_samples_leaf': 1, 'algo_tree__min_samples_split': 8}\n",
      "0.661054 (0.025970) with: {'algo_tree__criterion': 'entropy', 'algo_tree__max_depth': 7, 'algo_tree__min_samples_leaf': 1, 'algo_tree__min_samples_split': 9}\n",
      "nan (nan) with: {'algo_tree__criterion': 'entropy', 'algo_tree__max_depth': 7, 'algo_tree__min_samples_leaf': 2, 'algo_tree__min_samples_split': 1}\n",
      "0.660884 (0.038078) with: {'algo_tree__criterion': 'entropy', 'algo_tree__max_depth': 7, 'algo_tree__min_samples_leaf': 2, 'algo_tree__min_samples_split': 2}\n",
      "0.656718 (0.044632) with: {'algo_tree__criterion': 'entropy', 'algo_tree__max_depth': 7, 'algo_tree__min_samples_leaf': 2, 'algo_tree__min_samples_split': 3}\n",
      "0.656803 (0.041882) with: {'algo_tree__criterion': 'entropy', 'algo_tree__max_depth': 7, 'algo_tree__min_samples_leaf': 2, 'algo_tree__min_samples_split': 4}\n",
      "0.656718 (0.044632) with: {'algo_tree__criterion': 'entropy', 'algo_tree__max_depth': 7, 'algo_tree__min_samples_leaf': 2, 'algo_tree__min_samples_split': 5}\n",
      "0.665051 (0.037336) with: {'algo_tree__criterion': 'entropy', 'algo_tree__max_depth': 7, 'algo_tree__min_samples_leaf': 2, 'algo_tree__min_samples_split': 6}\n",
      "0.673384 (0.036762) with: {'algo_tree__criterion': 'entropy', 'algo_tree__max_depth': 7, 'algo_tree__min_samples_leaf': 2, 'algo_tree__min_samples_split': 7}\n",
      "0.660714 (0.055682) with: {'algo_tree__criterion': 'entropy', 'algo_tree__max_depth': 7, 'algo_tree__min_samples_leaf': 2, 'algo_tree__min_samples_split': 8}\n",
      "0.669133 (0.048748) with: {'algo_tree__criterion': 'entropy', 'algo_tree__max_depth': 7, 'algo_tree__min_samples_leaf': 2, 'algo_tree__min_samples_split': 9}\n",
      "nan (nan) with: {'algo_tree__criterion': 'entropy', 'algo_tree__max_depth': 7, 'algo_tree__min_samples_leaf': 3, 'algo_tree__min_samples_split': 1}\n",
      "0.681548 (0.030757) with: {'algo_tree__criterion': 'entropy', 'algo_tree__max_depth': 7, 'algo_tree__min_samples_leaf': 3, 'algo_tree__min_samples_split': 2}\n",
      "0.673129 (0.046961) with: {'algo_tree__criterion': 'entropy', 'algo_tree__max_depth': 7, 'algo_tree__min_samples_leaf': 3, 'algo_tree__min_samples_split': 3}\n",
      "0.685544 (0.046713) with: {'algo_tree__criterion': 'entropy', 'algo_tree__max_depth': 7, 'algo_tree__min_samples_leaf': 3, 'algo_tree__min_samples_split': 4}\n",
      "0.685629 (0.042435) with: {'algo_tree__criterion': 'entropy', 'algo_tree__max_depth': 7, 'algo_tree__min_samples_leaf': 3, 'algo_tree__min_samples_split': 5}\n",
      "0.673129 (0.046961) with: {'algo_tree__criterion': 'entropy', 'algo_tree__max_depth': 7, 'algo_tree__min_samples_leaf': 3, 'algo_tree__min_samples_split': 6}\n",
      "0.681378 (0.047279) with: {'algo_tree__criterion': 'entropy', 'algo_tree__max_depth': 7, 'algo_tree__min_samples_leaf': 3, 'algo_tree__min_samples_split': 7}\n",
      "0.677211 (0.057405) with: {'algo_tree__criterion': 'entropy', 'algo_tree__max_depth': 7, 'algo_tree__min_samples_leaf': 3, 'algo_tree__min_samples_split': 8}\n",
      "0.689711 (0.043825) with: {'algo_tree__criterion': 'entropy', 'algo_tree__max_depth': 7, 'algo_tree__min_samples_leaf': 3, 'algo_tree__min_samples_split': 9}\n",
      "nan (nan) with: {'algo_tree__criterion': 'entropy', 'algo_tree__max_depth': 7, 'algo_tree__min_samples_leaf': 4, 'algo_tree__min_samples_split': 1}\n",
      "0.677211 (0.064525) with: {'algo_tree__criterion': 'entropy', 'algo_tree__max_depth': 7, 'algo_tree__min_samples_leaf': 4, 'algo_tree__min_samples_split': 2}\n",
      "0.681378 (0.050818) with: {'algo_tree__criterion': 'entropy', 'algo_tree__max_depth': 7, 'algo_tree__min_samples_leaf': 4, 'algo_tree__min_samples_split': 3}\n",
      "0.677211 (0.058898) with: {'algo_tree__criterion': 'entropy', 'algo_tree__max_depth': 7, 'algo_tree__min_samples_leaf': 4, 'algo_tree__min_samples_split': 4}\n",
      "0.673044 (0.064398) with: {'algo_tree__criterion': 'entropy', 'algo_tree__max_depth': 7, 'algo_tree__min_samples_leaf': 4, 'algo_tree__min_samples_split': 5}\n",
      "0.673044 (0.065732) with: {'algo_tree__criterion': 'entropy', 'algo_tree__max_depth': 7, 'algo_tree__min_samples_leaf': 4, 'algo_tree__min_samples_split': 6}\n",
      "0.673044 (0.072033) with: {'algo_tree__criterion': 'entropy', 'algo_tree__max_depth': 7, 'algo_tree__min_samples_leaf': 4, 'algo_tree__min_samples_split': 7}\n",
      "0.681378 (0.057245) with: {'algo_tree__criterion': 'entropy', 'algo_tree__max_depth': 7, 'algo_tree__min_samples_leaf': 4, 'algo_tree__min_samples_split': 8}\n",
      "0.693878 (0.042404) with: {'algo_tree__criterion': 'entropy', 'algo_tree__max_depth': 7, 'algo_tree__min_samples_leaf': 4, 'algo_tree__min_samples_split': 9}\n",
      "nan (nan) with: {'algo_tree__criterion': 'entropy', 'algo_tree__max_depth': 8, 'algo_tree__min_samples_leaf': 1, 'algo_tree__min_samples_split': 1}\n",
      "0.652636 (0.059207) with: {'algo_tree__criterion': 'entropy', 'algo_tree__max_depth': 8, 'algo_tree__min_samples_leaf': 1, 'algo_tree__min_samples_split': 2}\n",
      "0.660969 (0.030102) with: {'algo_tree__criterion': 'entropy', 'algo_tree__max_depth': 8, 'algo_tree__min_samples_leaf': 1, 'algo_tree__min_samples_split': 3}\n",
      "0.640306 (0.040104) with: {'algo_tree__criterion': 'entropy', 'algo_tree__max_depth': 8, 'algo_tree__min_samples_leaf': 1, 'algo_tree__min_samples_split': 4}\n",
      "0.644388 (0.042179) with: {'algo_tree__criterion': 'entropy', 'algo_tree__max_depth': 8, 'algo_tree__min_samples_leaf': 1, 'algo_tree__min_samples_split': 5}\n",
      "0.631973 (0.048113) with: {'algo_tree__criterion': 'entropy', 'algo_tree__max_depth': 8, 'algo_tree__min_samples_leaf': 1, 'algo_tree__min_samples_split': 6}\n",
      "0.631888 (0.058392) with: {'algo_tree__criterion': 'entropy', 'algo_tree__max_depth': 8, 'algo_tree__min_samples_leaf': 1, 'algo_tree__min_samples_split': 7}\n",
      "0.640221 (0.042773) with: {'algo_tree__criterion': 'entropy', 'algo_tree__max_depth': 8, 'algo_tree__min_samples_leaf': 1, 'algo_tree__min_samples_split': 8}\n",
      "0.665136 (0.025997) with: {'algo_tree__criterion': 'entropy', 'algo_tree__max_depth': 8, 'algo_tree__min_samples_leaf': 1, 'algo_tree__min_samples_split': 9}\n",
      "nan (nan) with: {'algo_tree__criterion': 'entropy', 'algo_tree__max_depth': 8, 'algo_tree__min_samples_leaf': 2, 'algo_tree__min_samples_split': 1}\n",
      "0.623724 (0.037879) with: {'algo_tree__criterion': 'entropy', 'algo_tree__max_depth': 8, 'algo_tree__min_samples_leaf': 2, 'algo_tree__min_samples_split': 2}\n",
      "0.627891 (0.041091) with: {'algo_tree__criterion': 'entropy', 'algo_tree__max_depth': 8, 'algo_tree__min_samples_leaf': 2, 'algo_tree__min_samples_split': 3}\n",
      "0.631973 (0.042356) with: {'algo_tree__criterion': 'entropy', 'algo_tree__max_depth': 8, 'algo_tree__min_samples_leaf': 2, 'algo_tree__min_samples_split': 4}\n",
      "0.644388 (0.032934) with: {'algo_tree__criterion': 'entropy', 'algo_tree__max_depth': 8, 'algo_tree__min_samples_leaf': 2, 'algo_tree__min_samples_split': 5}\n",
      "0.640221 (0.040692) with: {'algo_tree__criterion': 'entropy', 'algo_tree__max_depth': 8, 'algo_tree__min_samples_leaf': 2, 'algo_tree__min_samples_split': 6}\n",
      "0.648554 (0.031393) with: {'algo_tree__criterion': 'entropy', 'algo_tree__max_depth': 8, 'algo_tree__min_samples_leaf': 2, 'algo_tree__min_samples_split': 7}\n",
      "0.644388 (0.037747) with: {'algo_tree__criterion': 'entropy', 'algo_tree__max_depth': 8, 'algo_tree__min_samples_leaf': 2, 'algo_tree__min_samples_split': 8}\n",
      "0.644303 (0.046632) with: {'algo_tree__criterion': 'entropy', 'algo_tree__max_depth': 8, 'algo_tree__min_samples_leaf': 2, 'algo_tree__min_samples_split': 9}\n",
      "nan (nan) with: {'algo_tree__criterion': 'entropy', 'algo_tree__max_depth': 8, 'algo_tree__min_samples_leaf': 3, 'algo_tree__min_samples_split': 1}\n",
      "0.669218 (0.042710) with: {'algo_tree__criterion': 'entropy', 'algo_tree__max_depth': 8, 'algo_tree__min_samples_leaf': 3, 'algo_tree__min_samples_split': 2}\n",
      "0.660969 (0.047760) with: {'algo_tree__criterion': 'entropy', 'algo_tree__max_depth': 8, 'algo_tree__min_samples_leaf': 3, 'algo_tree__min_samples_split': 3}\n",
      "0.673214 (0.035933) with: {'algo_tree__criterion': 'entropy', 'algo_tree__max_depth': 8, 'algo_tree__min_samples_leaf': 3, 'algo_tree__min_samples_split': 4}\n",
      "0.648384 (0.049722) with: {'algo_tree__criterion': 'entropy', 'algo_tree__max_depth': 8, 'algo_tree__min_samples_leaf': 3, 'algo_tree__min_samples_split': 5}\n",
      "0.673214 (0.059566) with: {'algo_tree__criterion': 'entropy', 'algo_tree__max_depth': 8, 'algo_tree__min_samples_leaf': 3, 'algo_tree__min_samples_split': 6}\n",
      "0.656718 (0.036313) with: {'algo_tree__criterion': 'entropy', 'algo_tree__max_depth': 8, 'algo_tree__min_samples_leaf': 3, 'algo_tree__min_samples_split': 7}\n",
      "0.673299 (0.027041) with: {'algo_tree__criterion': 'entropy', 'algo_tree__max_depth': 8, 'algo_tree__min_samples_leaf': 3, 'algo_tree__min_samples_split': 8}\n",
      "0.689881 (0.046809) with: {'algo_tree__criterion': 'entropy', 'algo_tree__max_depth': 8, 'algo_tree__min_samples_leaf': 3, 'algo_tree__min_samples_split': 9}\n",
      "nan (nan) with: {'algo_tree__criterion': 'entropy', 'algo_tree__max_depth': 8, 'algo_tree__min_samples_leaf': 4, 'algo_tree__min_samples_split': 1}\n",
      "0.664966 (0.063804) with: {'algo_tree__criterion': 'entropy', 'algo_tree__max_depth': 8, 'algo_tree__min_samples_leaf': 4, 'algo_tree__min_samples_split': 2}\n",
      "0.677381 (0.069176) with: {'algo_tree__criterion': 'entropy', 'algo_tree__max_depth': 8, 'algo_tree__min_samples_leaf': 4, 'algo_tree__min_samples_split': 3}\n",
      "0.673299 (0.066159) with: {'algo_tree__criterion': 'entropy', 'algo_tree__max_depth': 8, 'algo_tree__min_samples_leaf': 4, 'algo_tree__min_samples_split': 4}\n",
      "0.694048 (0.045465) with: {'algo_tree__criterion': 'entropy', 'algo_tree__max_depth': 8, 'algo_tree__min_samples_leaf': 4, 'algo_tree__min_samples_split': 5}\n",
      "0.669133 (0.064456) with: {'algo_tree__criterion': 'entropy', 'algo_tree__max_depth': 8, 'algo_tree__min_samples_leaf': 4, 'algo_tree__min_samples_split': 6}\n",
      "0.664881 (0.064153) with: {'algo_tree__criterion': 'entropy', 'algo_tree__max_depth': 8, 'algo_tree__min_samples_leaf': 4, 'algo_tree__min_samples_split': 7}\n",
      "0.660799 (0.061473) with: {'algo_tree__criterion': 'entropy', 'algo_tree__max_depth': 8, 'algo_tree__min_samples_leaf': 4, 'algo_tree__min_samples_split': 8}\n",
      "0.681548 (0.072707) with: {'algo_tree__criterion': 'entropy', 'algo_tree__max_depth': 8, 'algo_tree__min_samples_leaf': 4, 'algo_tree__min_samples_split': 9}\n",
      "nan (nan) with: {'algo_tree__criterion': 'entropy', 'algo_tree__max_depth': 9, 'algo_tree__min_samples_leaf': 1, 'algo_tree__min_samples_split': 1}\n",
      "0.648724 (0.037342) with: {'algo_tree__criterion': 'entropy', 'algo_tree__max_depth': 9, 'algo_tree__min_samples_leaf': 1, 'algo_tree__min_samples_split': 2}\n",
      "0.648724 (0.037059) with: {'algo_tree__criterion': 'entropy', 'algo_tree__max_depth': 9, 'algo_tree__min_samples_leaf': 1, 'algo_tree__min_samples_split': 3}\n",
      "0.656888 (0.039562) with: {'algo_tree__criterion': 'entropy', 'algo_tree__max_depth': 9, 'algo_tree__min_samples_leaf': 1, 'algo_tree__min_samples_split': 4}\n",
      "0.632143 (0.048735) with: {'algo_tree__criterion': 'entropy', 'algo_tree__max_depth': 9, 'algo_tree__min_samples_leaf': 1, 'algo_tree__min_samples_split': 5}\n",
      "0.661054 (0.039364) with: {'algo_tree__criterion': 'entropy', 'algo_tree__max_depth': 9, 'algo_tree__min_samples_leaf': 1, 'algo_tree__min_samples_split': 6}\n",
      "0.652806 (0.028443) with: {'algo_tree__criterion': 'entropy', 'algo_tree__max_depth': 9, 'algo_tree__min_samples_leaf': 1, 'algo_tree__min_samples_split': 7}\n",
      "0.636224 (0.037473) with: {'algo_tree__criterion': 'entropy', 'algo_tree__max_depth': 9, 'algo_tree__min_samples_leaf': 1, 'algo_tree__min_samples_split': 8}\n",
      "0.661139 (0.033826) with: {'algo_tree__criterion': 'entropy', 'algo_tree__max_depth': 9, 'algo_tree__min_samples_leaf': 1, 'algo_tree__min_samples_split': 9}\n",
      "nan (nan) with: {'algo_tree__criterion': 'entropy', 'algo_tree__max_depth': 9, 'algo_tree__min_samples_leaf': 2, 'algo_tree__min_samples_split': 1}\n",
      "0.640306 (0.029998) with: {'algo_tree__criterion': 'entropy', 'algo_tree__max_depth': 9, 'algo_tree__min_samples_leaf': 2, 'algo_tree__min_samples_split': 2}\n",
      "0.640221 (0.050239) with: {'algo_tree__criterion': 'entropy', 'algo_tree__max_depth': 9, 'algo_tree__min_samples_leaf': 2, 'algo_tree__min_samples_split': 3}\n",
      "0.652636 (0.032999) with: {'algo_tree__criterion': 'entropy', 'algo_tree__max_depth': 9, 'algo_tree__min_samples_leaf': 2, 'algo_tree__min_samples_split': 4}\n",
      "0.623810 (0.037190) with: {'algo_tree__criterion': 'entropy', 'algo_tree__max_depth': 9, 'algo_tree__min_samples_leaf': 2, 'algo_tree__min_samples_split': 5}\n",
      "0.631973 (0.042356) with: {'algo_tree__criterion': 'entropy', 'algo_tree__max_depth': 9, 'algo_tree__min_samples_leaf': 2, 'algo_tree__min_samples_split': 6}\n",
      "0.636139 (0.035840) with: {'algo_tree__criterion': 'entropy', 'algo_tree__max_depth': 9, 'algo_tree__min_samples_leaf': 2, 'algo_tree__min_samples_split': 7}\n",
      "0.640221 (0.042854) with: {'algo_tree__criterion': 'entropy', 'algo_tree__max_depth': 9, 'algo_tree__min_samples_leaf': 2, 'algo_tree__min_samples_split': 8}\n",
      "0.652721 (0.022770) with: {'algo_tree__criterion': 'entropy', 'algo_tree__max_depth': 9, 'algo_tree__min_samples_leaf': 2, 'algo_tree__min_samples_split': 9}\n",
      "nan (nan) with: {'algo_tree__criterion': 'entropy', 'algo_tree__max_depth': 9, 'algo_tree__min_samples_leaf': 3, 'algo_tree__min_samples_split': 1}\n",
      "0.644303 (0.048313) with: {'algo_tree__criterion': 'entropy', 'algo_tree__max_depth': 9, 'algo_tree__min_samples_leaf': 3, 'algo_tree__min_samples_split': 2}\n",
      "0.681633 (0.029739) with: {'algo_tree__criterion': 'entropy', 'algo_tree__max_depth': 9, 'algo_tree__min_samples_leaf': 3, 'algo_tree__min_samples_split': 3}\n",
      "0.677551 (0.045380) with: {'algo_tree__criterion': 'entropy', 'algo_tree__max_depth': 9, 'algo_tree__min_samples_leaf': 3, 'algo_tree__min_samples_split': 4}\n",
      "0.669048 (0.057662) with: {'algo_tree__criterion': 'entropy', 'algo_tree__max_depth': 9, 'algo_tree__min_samples_leaf': 3, 'algo_tree__min_samples_split': 5}\n",
      "0.669133 (0.041352) with: {'algo_tree__criterion': 'entropy', 'algo_tree__max_depth': 9, 'algo_tree__min_samples_leaf': 3, 'algo_tree__min_samples_split': 6}\n",
      "0.677551 (0.029413) with: {'algo_tree__criterion': 'entropy', 'algo_tree__max_depth': 9, 'algo_tree__min_samples_leaf': 3, 'algo_tree__min_samples_split': 7}\n",
      "0.664966 (0.044582) with: {'algo_tree__criterion': 'entropy', 'algo_tree__max_depth': 9, 'algo_tree__min_samples_leaf': 3, 'algo_tree__min_samples_split': 8}\n",
      "0.673384 (0.029183) with: {'algo_tree__criterion': 'entropy', 'algo_tree__max_depth': 9, 'algo_tree__min_samples_leaf': 3, 'algo_tree__min_samples_split': 9}\n",
      "nan (nan) with: {'algo_tree__criterion': 'entropy', 'algo_tree__max_depth': 9, 'algo_tree__min_samples_leaf': 4, 'algo_tree__min_samples_split': 1}\n",
      "0.673384 (0.047335) with: {'algo_tree__criterion': 'entropy', 'algo_tree__max_depth': 9, 'algo_tree__min_samples_leaf': 4, 'algo_tree__min_samples_split': 2}\n",
      "0.673384 (0.047335) with: {'algo_tree__criterion': 'entropy', 'algo_tree__max_depth': 9, 'algo_tree__min_samples_leaf': 4, 'algo_tree__min_samples_split': 3}\n",
      "0.681633 (0.039911) with: {'algo_tree__criterion': 'entropy', 'algo_tree__max_depth': 9, 'algo_tree__min_samples_leaf': 4, 'algo_tree__min_samples_split': 4}\n",
      "0.665051 (0.043998) with: {'algo_tree__criterion': 'entropy', 'algo_tree__max_depth': 9, 'algo_tree__min_samples_leaf': 4, 'algo_tree__min_samples_split': 5}\n",
      "0.677466 (0.037945) with: {'algo_tree__criterion': 'entropy', 'algo_tree__max_depth': 9, 'algo_tree__min_samples_leaf': 4, 'algo_tree__min_samples_split': 6}\n",
      "0.673299 (0.037758) with: {'algo_tree__criterion': 'entropy', 'algo_tree__max_depth': 9, 'algo_tree__min_samples_leaf': 4, 'algo_tree__min_samples_split': 7}\n",
      "0.677551 (0.039492) with: {'algo_tree__criterion': 'entropy', 'algo_tree__max_depth': 9, 'algo_tree__min_samples_leaf': 4, 'algo_tree__min_samples_split': 8}\n",
      "0.665051 (0.063397) with: {'algo_tree__criterion': 'entropy', 'algo_tree__max_depth': 9, 'algo_tree__min_samples_leaf': 4, 'algo_tree__min_samples_split': 9}\n"
     ]
    }
   ],
   "source": [
    "# summarize results\n",
    "print(\"Best: %f using %s\" % (model_tree.best_score_, model_tree.best_params_))\n",
    "means = model_tree.cv_results_['mean_test_score']\n",
    "stds = model_tree.cv_results_['std_test_score']\n",
    "params = model_tree.cv_results_['params']\n",
    "for mean, stdev, param in zip(means, stds, params):\n",
    "    print(\"%f (%f) with: %r\" % (mean, stdev, param))"
   ]
  },
  {
   "cell_type": "code",
   "execution_count": 123,
   "metadata": {},
   "outputs": [
    {
     "data": {
      "text/plain": [
       "{'algo_tree__criterion': 'gini',\n",
       " 'algo_tree__max_depth': 2,\n",
       " 'algo_tree__min_samples_leaf': 1,\n",
       " 'algo_tree__min_samples_split': 2}"
      ]
     },
     "execution_count": 123,
     "metadata": {},
     "output_type": "execute_result"
    }
   ],
   "source": [
    "model_tree.best_params_"
   ]
  },
  {
   "cell_type": "markdown",
   "metadata": {},
   "source": [
    "Dari HyperParameter diatas model terbaik adalah:\n",
    "\n",
    "{'algo_tree__criterion': 'gini',\n",
    " 'algo_tree__max_depth': 2,\n",
    " 'algo_tree__min_samples_leaf': 1,\n",
    " 'algo_tree__min_samples_split': 2}"
   ]
  },
  {
   "cell_type": "code",
   "execution_count": 120,
   "metadata": {},
   "outputs": [
    {
     "name": "stdout",
     "output_type": "stream",
     "text": [
      "Fitting 5 folds for each of 6 candidates, totalling 30 fits\n"
     ]
    }
   ],
   "source": [
    "model_rf = model_best_rf.fit(X_train, y_train)"
   ]
  },
  {
   "cell_type": "code",
   "execution_count": 121,
   "metadata": {},
   "outputs": [
    {
     "name": "stdout",
     "output_type": "stream",
     "text": [
      "Best: 0.710459 using {'algo_rf__max_features': 'log2', 'algo_rf__n_estimators': 100}\n",
      "0.673639 (0.047037) with: {'algo_rf__max_features': 'sqrt', 'algo_rf__n_estimators': 10}\n",
      "0.702211 (0.044380) with: {'algo_rf__max_features': 'sqrt', 'algo_rf__n_estimators': 100}\n",
      "0.702381 (0.052436) with: {'algo_rf__max_features': 'sqrt', 'algo_rf__n_estimators': 1000}\n",
      "0.665306 (0.027182) with: {'algo_rf__max_features': 'log2', 'algo_rf__n_estimators': 10}\n",
      "0.710459 (0.056999) with: {'algo_rf__max_features': 'log2', 'algo_rf__n_estimators': 100}\n",
      "0.685969 (0.049615) with: {'algo_rf__max_features': 'log2', 'algo_rf__n_estimators': 1000}\n"
     ]
    }
   ],
   "source": [
    "# summarize results\n",
    "print(\"Best: %f using %s\" % (model_rf.best_score_, model_rf.best_params_))\n",
    "means = model_rf.cv_results_['mean_test_score']\n",
    "stds = model_rf.cv_results_['std_test_score']\n",
    "params = model_rf.cv_results_['params']\n",
    "for mean, stdev, param in zip(means, stds, params):\n",
    "    print(\"%f (%f) with: %r\" % (mean, stdev, param))"
   ]
  },
  {
   "cell_type": "markdown",
   "metadata": {},
   "source": [
    "Dari HyperParameter diatas model terbaik adalah:\n",
    "\n",
    "{'algo_rf__max_features': 'log2', 'algo_rf__n_estimators': 100}"
   ]
  },
  {
   "cell_type": "markdown",
   "metadata": {},
   "source": [
    "## Evaluasi Model"
   ]
  },
  {
   "cell_type": "markdown",
   "metadata": {},
   "source": [
    "#### Evaluasi Baseline Model Decision Tree dan Random Forest"
   ]
  },
  {
   "cell_type": "markdown",
   "metadata": {},
   "source": [
    "**Decision Tree**"
   ]
  },
  {
   "cell_type": "code",
   "execution_count": 64,
   "metadata": {},
   "outputs": [
    {
     "data": {
      "text/plain": [
       "0.6229508196721312"
      ]
     },
     "execution_count": 64,
     "metadata": {},
     "output_type": "execute_result"
    }
   ],
   "source": [
    "evaluasi_model_tree = pipeline_tree.score(X_test, y_test)\n",
    "evaluasi_model_tree"
   ]
  },
  {
   "cell_type": "code",
   "execution_count": 71,
   "metadata": {},
   "outputs": [
    {
     "name": "stdout",
     "output_type": "stream",
     "text": [
      "              precision    recall  f1-score   support\n",
      "\n",
      "           0       0.58      0.68      0.62        28\n",
      "           1       0.68      0.58      0.62        33\n",
      "\n",
      "    accuracy                           0.62        61\n",
      "   macro avg       0.63      0.63      0.62        61\n",
      "weighted avg       0.63      0.62      0.62        61\n",
      "\n"
     ]
    }
   ],
   "source": [
    "y_pred_tree = pipeline_tree.predict(X_test)\n",
    "\n",
    "print(classification_report(y_test, y_pred_tree))"
   ]
  },
  {
   "cell_type": "code",
   "execution_count": 72,
   "metadata": {},
   "outputs": [
    {
     "data": {
      "text/plain": [
       "<sklearn.metrics._plot.roc_curve.RocCurveDisplay at 0x27f7da00070>"
      ]
     },
     "execution_count": 72,
     "metadata": {},
     "output_type": "execute_result"
    },
    {
     "data": {
      "image/png": "[encoded data removed]",
      "text/plain": [
       "<Figure size 720x432 with 1 Axes>"
      ]
     },
     "metadata": {
      "needs_background": "light"
     },
     "output_type": "display_data"
    }
   ],
   "source": [
    "RocCurveDisplay.from_estimator(pipeline_tree, X_test, y_test)"
   ]
  },
  {
   "cell_type": "markdown",
   "metadata": {},
   "source": [
    "**Random Forest**"
   ]
  },
  {
   "cell_type": "code",
   "execution_count": 73,
   "metadata": {},
   "outputs": [
    {
     "data": {
      "text/plain": [
       "0.7049180327868853"
      ]
     },
     "execution_count": 73,
     "metadata": {},
     "output_type": "execute_result"
    }
   ],
   "source": [
    "evaluasi_model_rf = pipeline_rf.score(X_test, y_test)\n",
    "evaluasi_model_rf"
   ]
  },
  {
   "cell_type": "code",
   "execution_count": 74,
   "metadata": {},
   "outputs": [
    {
     "name": "stdout",
     "output_type": "stream",
     "text": [
      "              precision    recall  f1-score   support\n",
      "\n",
      "           0       0.66      0.75      0.70        28\n",
      "           1       0.76      0.67      0.71        33\n",
      "\n",
      "    accuracy                           0.70        61\n",
      "   macro avg       0.71      0.71      0.70        61\n",
      "weighted avg       0.71      0.70      0.71        61\n",
      "\n"
     ]
    }
   ],
   "source": [
    "y_pred_rf = pipeline_rf.predict(X_test)\n",
    "\n",
    "print(classification_report(y_test, y_pred_rf))"
   ]
  },
  {
   "cell_type": "code",
   "execution_count": 70,
   "metadata": {},
   "outputs": [
    {
     "data": {
      "text/plain": [
       "<sklearn.metrics._plot.roc_curve.RocCurveDisplay at 0x27f7dc98190>"
      ]
     },
     "execution_count": 70,
     "metadata": {},
     "output_type": "execute_result"
    },
    {
     "data": {
      "image/png": "[encoded data removed]",
      "text/plain": [
       "<Figure size 720x432 with 1 Axes>"
      ]
     },
     "metadata": {
      "needs_background": "light"
     },
     "output_type": "display_data"
    }
   ],
   "source": [
    "RocCurveDisplay.from_estimator(pipeline_rf, X_test, y_test)"
   ]
  },
  {
   "cell_type": "markdown",
   "metadata": {},
   "source": [
    "#### Evaluasi Best Model Decision Tree dan Random Forest\n",
    "\n",
    "Evaluasi Best Model ini berdasarkan model yang telah kita gunakan Hypeparameter dan menghasilkan model yang terbaik"
   ]
  },
  {
   "cell_type": "markdown",
   "metadata": {},
   "source": [
    "**Decision Tree**"
   ]
  },
  {
   "cell_type": "code",
   "execution_count": 89,
   "metadata": {},
   "outputs": [
    {
     "data": {
      "text/plain": [
       "0.7377049180327869"
      ]
     },
     "execution_count": 89,
     "metadata": {},
     "output_type": "execute_result"
    }
   ],
   "source": [
    "evaluasi_model_best_tree = model_tree.score(X_test, y_test)\n",
    "evaluasi_model_best_tree"
   ]
  },
  {
   "cell_type": "code",
   "execution_count": 88,
   "metadata": {},
   "outputs": [
    {
     "name": "stdout",
     "output_type": "stream",
     "text": [
      "              precision    recall  f1-score   support\n",
      "\n",
      "           0       0.77      0.61      0.68        28\n",
      "           1       0.72      0.85      0.78        33\n",
      "\n",
      "    accuracy                           0.74        61\n",
      "   macro avg       0.75      0.73      0.73        61\n",
      "weighted avg       0.74      0.74      0.73        61\n",
      "\n"
     ]
    }
   ],
   "source": [
    "y_pred_best_tree = model_tree.predict(X_test)\n",
    "\n",
    "print(classification_report(y_test, y_pred_best_tree))"
   ]
  },
  {
   "cell_type": "code",
   "execution_count": 90,
   "metadata": {},
   "outputs": [
    {
     "data": {
      "text/plain": [
       "<sklearn.metrics._plot.roc_curve.RocCurveDisplay at 0x27f7da439d0>"
      ]
     },
     "execution_count": 90,
     "metadata": {},
     "output_type": "execute_result"
    },
    {
     "data": {
      "image/png": "[encoded data removed]",
      "text/plain": [
       "<Figure size 720x432 with 1 Axes>"
      ]
     },
     "metadata": {
      "needs_background": "light"
     },
     "output_type": "display_data"
    }
   ],
   "source": [
    "RocCurveDisplay.from_estimator(model_tree, X_test, y_test)"
   ]
  },
  {
   "cell_type": "markdown",
   "metadata": {},
   "source": [
    "**Random Forest**"
   ]
  },
  {
   "cell_type": "code",
   "execution_count": 92,
   "metadata": {},
   "outputs": [
    {
     "data": {
      "text/plain": [
       "0.7704918032786885"
      ]
     },
     "execution_count": 92,
     "metadata": {},
     "output_type": "execute_result"
    }
   ],
   "source": [
    "evaluasi_model_best_rf = model_rf.score(X_test, y_test)\n",
    "evaluasi_model_best_rf"
   ]
  },
  {
   "cell_type": "code",
   "execution_count": 94,
   "metadata": {},
   "outputs": [
    {
     "name": "stdout",
     "output_type": "stream",
     "text": [
      "              precision    recall  f1-score   support\n",
      "\n",
      "           0       0.75      0.75      0.75        28\n",
      "           1       0.79      0.79      0.79        33\n",
      "\n",
      "    accuracy                           0.77        61\n",
      "   macro avg       0.77      0.77      0.77        61\n",
      "weighted avg       0.77      0.77      0.77        61\n",
      "\n"
     ]
    }
   ],
   "source": [
    "y_pred_best_rf = model_rf.predict(X_test)\n",
    "\n",
    "print(classification_report(y_test, y_pred_best_rf))"
   ]
  },
  {
   "cell_type": "code",
   "execution_count": 95,
   "metadata": {},
   "outputs": [
    {
     "data": {
      "text/plain": [
       "<sklearn.metrics._plot.roc_curve.RocCurveDisplay at 0x27f58871e50>"
      ]
     },
     "execution_count": 95,
     "metadata": {},
     "output_type": "execute_result"
    },
    {
     "data": {
      "image/png": "[encoded data removed]",
      "text/plain": [
       "<Figure size 720x432 with 1 Axes>"
      ]
     },
     "metadata": {
      "needs_background": "light"
     },
     "output_type": "display_data"
    }
   ],
   "source": [
    "RocCurveDisplay.from_estimator(model_rf, X_test, y_test)"
   ]
  },
  {
   "cell_type": "markdown",
   "metadata": {},
   "source": [
    "## Model Inference"
   ]
  },
  {
   "cell_type": "markdown",
   "metadata": {},
   "source": [
    "Dalam bab Model Inference Berikut ini kita akan menggunakan best model yang diperoleh setelah melakukan tuning pada setiap model"
   ]
  },
  {
   "cell_type": "code",
   "execution_count": 111,
   "metadata": {},
   "outputs": [
    {
     "data": {
      "text/html": [
       "<div>\n",
       "<style scoped>\n",
       "    .dataframe tbody tr th:only-of-type {\n",
       "        vertical-align: middle;\n",
       "    }\n",
       "\n",
       "    .dataframe tbody tr th {\n",
       "        vertical-align: top;\n",
       "    }\n",
       "\n",
       "    .dataframe thead th {\n",
       "        text-align: right;\n",
       "    }\n",
       "</style>\n",
       "<table border=\"1\" class=\"dataframe\">\n",
       "  <thead>\n",
       "    <tr style=\"text-align: right;\">\n",
       "      <th></th>\n",
       "      <th>age</th>\n",
       "      <th>sex</th>\n",
       "      <th>cp</th>\n",
       "      <th>trestbps</th>\n",
       "      <th>chol</th>\n",
       "      <th>thalach</th>\n",
       "      <th>exang</th>\n",
       "      <th>oldpeak</th>\n",
       "      <th>slope</th>\n",
       "      <th>ca</th>\n",
       "      <th>thal</th>\n",
       "    </tr>\n",
       "  </thead>\n",
       "  <tbody>\n",
       "    <tr>\n",
       "      <th>269</th>\n",
       "      <td>56</td>\n",
       "      <td>1</td>\n",
       "      <td>0</td>\n",
       "      <td>130</td>\n",
       "      <td>283</td>\n",
       "      <td>103</td>\n",
       "      <td>1</td>\n",
       "      <td>1.6</td>\n",
       "      <td>0</td>\n",
       "      <td>0</td>\n",
       "      <td>3</td>\n",
       "    </tr>\n",
       "  </tbody>\n",
       "</table>\n",
       "</div>"
      ],
      "text/plain": [
       "     age  sex  cp  trestbps  chol  thalach  exang  oldpeak  slope  ca  thal\n",
       "269   56    1   0       130   283      103      1      1.6      0   0     3"
      ]
     },
     "execution_count": 111,
     "metadata": {},
     "output_type": "execute_result"
    }
   ],
   "source": [
    "# Check data yang akan kita gunakan\n",
    "X_train.iloc[0:1]"
   ]
  },
  {
   "cell_type": "code",
   "execution_count": 113,
   "metadata": {},
   "outputs": [
    {
     "data": {
      "text/html": [
       "<div>\n",
       "<style scoped>\n",
       "    .dataframe tbody tr th:only-of-type {\n",
       "        vertical-align: middle;\n",
       "    }\n",
       "\n",
       "    .dataframe tbody tr th {\n",
       "        vertical-align: top;\n",
       "    }\n",
       "\n",
       "    .dataframe thead th {\n",
       "        text-align: right;\n",
       "    }\n",
       "</style>\n",
       "<table border=\"1\" class=\"dataframe\">\n",
       "  <thead>\n",
       "    <tr style=\"text-align: right;\">\n",
       "      <th></th>\n",
       "      <th>age</th>\n",
       "      <th>sex</th>\n",
       "      <th>cp</th>\n",
       "      <th>trestbps</th>\n",
       "      <th>chol</th>\n",
       "      <th>thalach</th>\n",
       "      <th>exang</th>\n",
       "      <th>oldpeak</th>\n",
       "      <th>slope</th>\n",
       "      <th>ca</th>\n",
       "      <th>thal</th>\n",
       "    </tr>\n",
       "  </thead>\n",
       "  <tbody>\n",
       "    <tr>\n",
       "      <th>1</th>\n",
       "      <td>50</td>\n",
       "      <td>1</td>\n",
       "      <td>2</td>\n",
       "      <td>100</td>\n",
       "      <td>300</td>\n",
       "      <td>103</td>\n",
       "      <td>1</td>\n",
       "      <td>1</td>\n",
       "      <td>1</td>\n",
       "      <td>0</td>\n",
       "      <td>3</td>\n",
       "    </tr>\n",
       "  </tbody>\n",
       "</table>\n",
       "</div>"
      ],
      "text/plain": [
       "   age  sex  cp  trestbps  chol  thalach  exang  oldpeak  slope  ca  thal\n",
       "1   50    1   2       100   300      103      1        1      1   0     3"
      ]
     },
     "execution_count": 113,
     "metadata": {},
     "output_type": "execute_result"
    }
   ],
   "source": [
    "# Create Random Data\n",
    "data = [\n",
    "        [50, 1, 2, 100, 300, 103, 1, 1, 1, 0, 3]\n",
    "      ]\n",
    "X_pred = pd.DataFrame(data, index=[1], columns=X.columns)\n",
    "X_pred"
   ]
  },
  {
   "cell_type": "markdown",
   "metadata": {},
   "source": [
    "**Decision Tree**"
   ]
  },
  {
   "cell_type": "code",
   "execution_count": 114,
   "metadata": {},
   "outputs": [
    {
     "data": {
      "text/plain": [
       "array([0], dtype=int64)"
      ]
     },
     "execution_count": 114,
     "metadata": {},
     "output_type": "execute_result"
    }
   ],
   "source": [
    "model_tree.predict(X_pred)"
   ]
  },
  {
   "cell_type": "markdown",
   "metadata": {},
   "source": [
    "Dari data yang kita berikan model decision tree mempridiksi dengan hasil 0 artinya kurang memiliki resiko serangan jantung"
   ]
  },
  {
   "cell_type": "markdown",
   "metadata": {},
   "source": [
    "**Random Forest**"
   ]
  },
  {
   "cell_type": "code",
   "execution_count": 115,
   "metadata": {},
   "outputs": [
    {
     "data": {
      "text/plain": [
       "array([0], dtype=int64)"
      ]
     },
     "execution_count": 115,
     "metadata": {},
     "output_type": "execute_result"
    }
   ],
   "source": [
    "model_rf.predict(X_pred)"
   ]
  },
  {
   "cell_type": "markdown",
   "metadata": {},
   "source": [
    "Dari data yang kita berikan model random forest mempridiksi dengan hasil 0 artinya kurang memiliki resiko serangan jantung"
   ]
  },
  {
   "cell_type": "markdown",
   "metadata": {},
   "source": [
    "## Pengambilan Kesimpulan"
   ]
  },
  {
   "cell_type": "markdown",
   "metadata": {},
   "source": [
    "Berdasarkan dua Model yaitu Decision Tree dan Random Forest yang telah dilakukan hyperparameter tuning Random Forest memiliki score accuracy yang lebih tinggi dari pada Decision Tree yaitu 77% (RF) dibanding 73.7%(DT) artinya model kita masih perlu dilakukan optimize seperti jumlah data yang diperbanyak, melakukan uji coba dengan menggunakan model yang lain, mengganti hyperparamater dan lain sebagainya. Sehingga dapat disimpulkan dengan menggunakan RF sesorang dpat diprediksi memiliki resiko serangan jantung 77% sedangkan dengan DT dpat diprediksi memiliki resiko serangan jantung 73.7%"
   ]
  }
 ],
 "metadata": {
  "interpreter": {
   "hash": "110f0df45e1191da7809021d0b497e6f6071b07328a6e239c9d83d6f6aa1e854"
  },
  "kernelspec": {
   "display_name": "Python 3.8.8 64-bit",
   "language": "python",
   "name": "python3"
  },
  "language_info": {
   "codemirror_mode": {
    "name": "ipython",
    "version": 3
   },
   "file_extension": ".py",
   "mimetype": "text/x-python",
   "name": "python",
   "nbconvert_exporter": "python",
   "pygments_lexer": "ipython3",
   "version": "3.8.8"
  },
  "orig_nbformat": 4
 },
 "nbformat": 4,
 "nbformat_minor": 2
}
