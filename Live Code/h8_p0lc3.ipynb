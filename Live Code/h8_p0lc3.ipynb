{
  "nbformat": 4,
  "nbformat_minor": 0,
  "metadata": {
    "colab": {
      "name": "h8_p0lc3_Sivi_Almanaf.ipynb",
      "provenance": [],
      "collapsed_sections": []
    },
    "kernelspec": {
      "name": "python3",
      "display_name": "Python 3"
    },
    "language_info": {
      "name": "python"
    }
  },
  "cells": [
    {
      "cell_type": "markdown",
      "metadata": {
        "id": "y2JhOEw9m66B"
      },
      "source": [
        "## Perkenalan\n",
        "\n",
        "Nama: Sivi Almanaf Ali Shahab\n",
        "\n",
        "Batch: 006"
      ]
    },
    {
      "cell_type": "markdown",
      "metadata": {
        "id": "kxDm-HE0nI91"
      },
      "source": [
        "## Problems\n",
        "\n",
        "Kamu adalah seorang data scientist di salah satu perusahaan e-commerce. Saat ini, kamu terlibat dalam proyek bersama dengan tim produk dan tim UI/UX untuk merubah tampilan landing page. Menggunakan dataset dari https://raw.githubusercontent.com/fahmimnalfrzki/Dataset/main/purchase_data.txt?token=AEZDEHRU5YLQEXGDDLCL6CLA2KZTI, menggunakan konsep central of tendency, apakah data cenderung berpusat pada purchased=0 atau purchased=1? dan buatlah analisa menggunakan konsep hypothesis testing dan A/B testing (Informasikan H0 dan H1 pada bagian Mathematical Calculation and Analysis). Apa kesimpulanmu terhadap hasil A/B testing?\n",
        "\n",
        "\n",
        "\n",
        "**Keterangan Dataset:**\n",
        "\n",
        "user_id = id pelanggan\n",
        "\n",
        "timestamp = Waktu ketika pelanggan mengakses laman web\n",
        "\n",
        "group = grup kontrol dan treatment\n",
        "\n",
        "landing_page = landing page yang diakses oleh pelanggan (laman lama atau laman baru)\n",
        "\n",
        "purchased = 0 : tidak ada pembelian, and 1: ada pembelian\n"
      ]
    },
    {
      "cell_type": "markdown",
      "metadata": {
        "id": "7JtfHZF5nUYy"
      },
      "source": [
        "## Import Library "
      ]
    },
    {
      "cell_type": "code",
      "metadata": {
        "id": "zu_XXJEhnTbe"
      },
      "source": [
        "import pandas as pd\n",
        "import numpy as np\n",
        "import matplotlib.pyplot as plt\n",
        "import seaborn as sns\n",
        "import scipy.stats as stats"
      ],
      "execution_count": 1,
      "outputs": []
    },
    {
      "cell_type": "markdown",
      "metadata": {
        "id": "RCSFs6zonuty"
      },
      "source": [
        "## Data Loading"
      ]
    },
    {
      "cell_type": "code",
      "metadata": {
        "id": "9xVoB0kgnBt5"
      },
      "source": [
        "df_purchase = pd.read_csv('https://raw.githubusercontent.com/fahmimnalfrzki/Dataset/main/purchase_data.txt?token=AEZDEHRU5YLQEXGDDLCL6CLA2KZTI', delimiter=';')"
      ],
      "execution_count": 2,
      "outputs": []
    },
    {
      "cell_type": "code",
      "metadata": {
        "colab": {
          "base_uri": "https://localhost:8080/",
          "height": 206
        },
        "id": "EF78UDcgoMPp",
        "outputId": "0bc768d8-ba68-4233-8ef6-f4580b21f64f"
      },
      "source": [
        "# print top 5 data\n",
        "df_purchase.head()"
      ],
      "execution_count": 3,
      "outputs": [
        {
          "output_type": "execute_result",
          "data": {
            "text/html": [
              "<div>\n",
              "<style scoped>\n",
              "    .dataframe tbody tr th:only-of-type {\n",
              "        vertical-align: middle;\n",
              "    }\n",
              "\n",
              "    .dataframe tbody tr th {\n",
              "        vertical-align: top;\n",
              "    }\n",
              "\n",
              "    .dataframe thead th {\n",
              "        text-align: right;\n",
              "    }\n",
              "</style>\n",
              "<table border=\"1\" class=\"dataframe\">\n",
              "  <thead>\n",
              "    <tr style=\"text-align: right;\">\n",
              "      <th></th>\n",
              "      <th>user_id</th>\n",
              "      <th>timestamp</th>\n",
              "      <th>group</th>\n",
              "      <th>landing_page</th>\n",
              "      <th>purchased</th>\n",
              "    </tr>\n",
              "  </thead>\n",
              "  <tbody>\n",
              "    <tr>\n",
              "      <th>0</th>\n",
              "      <td>851104</td>\n",
              "      <td>2017-01-21 22:11:48.556739</td>\n",
              "      <td>control</td>\n",
              "      <td>old_page</td>\n",
              "      <td>0</td>\n",
              "    </tr>\n",
              "    <tr>\n",
              "      <th>1</th>\n",
              "      <td>804228</td>\n",
              "      <td>2017-01-12 08:01:45.159739</td>\n",
              "      <td>control</td>\n",
              "      <td>old_page</td>\n",
              "      <td>0</td>\n",
              "    </tr>\n",
              "    <tr>\n",
              "      <th>2</th>\n",
              "      <td>661590</td>\n",
              "      <td>2017-01-11 16:55:06.154213</td>\n",
              "      <td>treatment</td>\n",
              "      <td>new_page</td>\n",
              "      <td>0</td>\n",
              "    </tr>\n",
              "    <tr>\n",
              "      <th>3</th>\n",
              "      <td>853541</td>\n",
              "      <td>2017-01-08 18:28:03.143765</td>\n",
              "      <td>treatment</td>\n",
              "      <td>new_page</td>\n",
              "      <td>0</td>\n",
              "    </tr>\n",
              "    <tr>\n",
              "      <th>4</th>\n",
              "      <td>864975</td>\n",
              "      <td>2017-01-21 01:52:26.210827</td>\n",
              "      <td>control</td>\n",
              "      <td>old_page</td>\n",
              "      <td>1</td>\n",
              "    </tr>\n",
              "  </tbody>\n",
              "</table>\n",
              "</div>"
            ],
            "text/plain": [
              "   user_id                   timestamp      group landing_page  purchased\n",
              "0   851104  2017-01-21 22:11:48.556739    control     old_page          0\n",
              "1   804228  2017-01-12 08:01:45.159739    control     old_page          0\n",
              "2   661590  2017-01-11 16:55:06.154213  treatment     new_page          0\n",
              "3   853541  2017-01-08 18:28:03.143765  treatment     new_page          0\n",
              "4   864975  2017-01-21 01:52:26.210827    control     old_page          1"
            ]
          },
          "metadata": {},
          "execution_count": 3
        }
      ]
    },
    {
      "cell_type": "code",
      "metadata": {
        "colab": {
          "base_uri": "https://localhost:8080/"
        },
        "id": "KumuGK_No25Z",
        "outputId": "562616f1-635d-4d0b-ed3f-c1551f50be5e"
      },
      "source": [
        "df_purchase.shape"
      ],
      "execution_count": 4,
      "outputs": [
        {
          "output_type": "execute_result",
          "data": {
            "text/plain": [
              "(294478, 5)"
            ]
          },
          "metadata": {},
          "execution_count": 4
        }
      ]
    },
    {
      "cell_type": "code",
      "metadata": {
        "colab": {
          "base_uri": "https://localhost:8080/"
        },
        "id": "Nc7HK5YSozvG",
        "outputId": "dde6c330-d546-4296-dee0-7de297d3ab9b"
      },
      "source": [
        "df_purchase.info()"
      ],
      "execution_count": 5,
      "outputs": [
        {
          "output_type": "stream",
          "name": "stdout",
          "text": [
            "<class 'pandas.core.frame.DataFrame'>\n",
            "RangeIndex: 294478 entries, 0 to 294477\n",
            "Data columns (total 5 columns):\n",
            " #   Column        Non-Null Count   Dtype \n",
            "---  ------        --------------   ----- \n",
            " 0   user_id       294478 non-null  int64 \n",
            " 1   timestamp     294478 non-null  object\n",
            " 2   group         294478 non-null  object\n",
            " 3   landing_page  294478 non-null  object\n",
            " 4   purchased     294478 non-null  int64 \n",
            "dtypes: int64(2), object(3)\n",
            "memory usage: 11.2+ MB\n"
          ]
        }
      ]
    },
    {
      "cell_type": "markdown",
      "metadata": {
        "id": "GNxTgO-6oun2"
      },
      "source": [
        "## Data Processing"
      ]
    },
    {
      "cell_type": "markdown",
      "metadata": {
        "id": "ns9ItzEApQfE"
      },
      "source": [
        "Setelah kita cek type data dari masing-masing kolom, ada beberapa data yang masih belum sesuai dengan tipe datanya yang asli. Mari kita rubah dulu ke tipe data yang sesuai sebagai berikut:"
      ]
    },
    {
      "cell_type": "code",
      "metadata": {
        "id": "wUoMbfa3pqXL"
      },
      "source": [
        "df_purchase['user_id'] = df_purchase['user_id'].astype(str)\n",
        "df_purchase['timestamp'] = pd.to_datetime(df_purchase['timestamp'])"
      ],
      "execution_count": 6,
      "outputs": []
    },
    {
      "cell_type": "code",
      "metadata": {
        "colab": {
          "base_uri": "https://localhost:8080/"
        },
        "id": "0aT8j16vrd3I",
        "outputId": "7e4f2576-48b8-44b5-8b31-d977a686fe27"
      },
      "source": [
        "df_purchase.info()"
      ],
      "execution_count": 7,
      "outputs": [
        {
          "output_type": "stream",
          "name": "stdout",
          "text": [
            "<class 'pandas.core.frame.DataFrame'>\n",
            "RangeIndex: 294478 entries, 0 to 294477\n",
            "Data columns (total 5 columns):\n",
            " #   Column        Non-Null Count   Dtype         \n",
            "---  ------        --------------   -----         \n",
            " 0   user_id       294478 non-null  object        \n",
            " 1   timestamp     294478 non-null  datetime64[ns]\n",
            " 2   group         294478 non-null  object        \n",
            " 3   landing_page  294478 non-null  object        \n",
            " 4   purchased     294478 non-null  int64         \n",
            "dtypes: datetime64[ns](1), int64(1), object(3)\n",
            "memory usage: 11.2+ MB\n"
          ]
        }
      ]
    },
    {
      "cell_type": "code",
      "metadata": {
        "colab": {
          "base_uri": "https://localhost:8080/",
          "height": 206
        },
        "id": "rVl3aPxbrzWR",
        "outputId": "9ca9cba1-d77b-4c11-b44e-072e4fd84325"
      },
      "source": [
        "df_purchase.head()"
      ],
      "execution_count": 8,
      "outputs": [
        {
          "output_type": "execute_result",
          "data": {
            "text/html": [
              "<div>\n",
              "<style scoped>\n",
              "    .dataframe tbody tr th:only-of-type {\n",
              "        vertical-align: middle;\n",
              "    }\n",
              "\n",
              "    .dataframe tbody tr th {\n",
              "        vertical-align: top;\n",
              "    }\n",
              "\n",
              "    .dataframe thead th {\n",
              "        text-align: right;\n",
              "    }\n",
              "</style>\n",
              "<table border=\"1\" class=\"dataframe\">\n",
              "  <thead>\n",
              "    <tr style=\"text-align: right;\">\n",
              "      <th></th>\n",
              "      <th>user_id</th>\n",
              "      <th>timestamp</th>\n",
              "      <th>group</th>\n",
              "      <th>landing_page</th>\n",
              "      <th>purchased</th>\n",
              "    </tr>\n",
              "  </thead>\n",
              "  <tbody>\n",
              "    <tr>\n",
              "      <th>0</th>\n",
              "      <td>851104</td>\n",
              "      <td>2017-01-21 22:11:48.556739</td>\n",
              "      <td>control</td>\n",
              "      <td>old_page</td>\n",
              "      <td>0</td>\n",
              "    </tr>\n",
              "    <tr>\n",
              "      <th>1</th>\n",
              "      <td>804228</td>\n",
              "      <td>2017-01-12 08:01:45.159739</td>\n",
              "      <td>control</td>\n",
              "      <td>old_page</td>\n",
              "      <td>0</td>\n",
              "    </tr>\n",
              "    <tr>\n",
              "      <th>2</th>\n",
              "      <td>661590</td>\n",
              "      <td>2017-01-11 16:55:06.154213</td>\n",
              "      <td>treatment</td>\n",
              "      <td>new_page</td>\n",
              "      <td>0</td>\n",
              "    </tr>\n",
              "    <tr>\n",
              "      <th>3</th>\n",
              "      <td>853541</td>\n",
              "      <td>2017-01-08 18:28:03.143765</td>\n",
              "      <td>treatment</td>\n",
              "      <td>new_page</td>\n",
              "      <td>0</td>\n",
              "    </tr>\n",
              "    <tr>\n",
              "      <th>4</th>\n",
              "      <td>864975</td>\n",
              "      <td>2017-01-21 01:52:26.210827</td>\n",
              "      <td>control</td>\n",
              "      <td>old_page</td>\n",
              "      <td>1</td>\n",
              "    </tr>\n",
              "  </tbody>\n",
              "</table>\n",
              "</div>"
            ],
            "text/plain": [
              "  user_id                  timestamp      group landing_page  purchased\n",
              "0  851104 2017-01-21 22:11:48.556739    control     old_page          0\n",
              "1  804228 2017-01-12 08:01:45.159739    control     old_page          0\n",
              "2  661590 2017-01-11 16:55:06.154213  treatment     new_page          0\n",
              "3  853541 2017-01-08 18:28:03.143765  treatment     new_page          0\n",
              "4  864975 2017-01-21 01:52:26.210827    control     old_page          1"
            ]
          },
          "metadata": {},
          "execution_count": 8
        }
      ]
    },
    {
      "cell_type": "code",
      "metadata": {
        "colab": {
          "base_uri": "https://localhost:8080/",
          "height": 206
        },
        "id": "pZc9HMXCr4LY",
        "outputId": "329f0620-5d6b-4da8-91f1-765fc8f14d31"
      },
      "source": [
        "df_purchase['timestamp'] = df_purchase['timestamp'].dt.date\n",
        "df_purchase.head()"
      ],
      "execution_count": 9,
      "outputs": [
        {
          "output_type": "execute_result",
          "data": {
            "text/html": [
              "<div>\n",
              "<style scoped>\n",
              "    .dataframe tbody tr th:only-of-type {\n",
              "        vertical-align: middle;\n",
              "    }\n",
              "\n",
              "    .dataframe tbody tr th {\n",
              "        vertical-align: top;\n",
              "    }\n",
              "\n",
              "    .dataframe thead th {\n",
              "        text-align: right;\n",
              "    }\n",
              "</style>\n",
              "<table border=\"1\" class=\"dataframe\">\n",
              "  <thead>\n",
              "    <tr style=\"text-align: right;\">\n",
              "      <th></th>\n",
              "      <th>user_id</th>\n",
              "      <th>timestamp</th>\n",
              "      <th>group</th>\n",
              "      <th>landing_page</th>\n",
              "      <th>purchased</th>\n",
              "    </tr>\n",
              "  </thead>\n",
              "  <tbody>\n",
              "    <tr>\n",
              "      <th>0</th>\n",
              "      <td>851104</td>\n",
              "      <td>2017-01-21</td>\n",
              "      <td>control</td>\n",
              "      <td>old_page</td>\n",
              "      <td>0</td>\n",
              "    </tr>\n",
              "    <tr>\n",
              "      <th>1</th>\n",
              "      <td>804228</td>\n",
              "      <td>2017-01-12</td>\n",
              "      <td>control</td>\n",
              "      <td>old_page</td>\n",
              "      <td>0</td>\n",
              "    </tr>\n",
              "    <tr>\n",
              "      <th>2</th>\n",
              "      <td>661590</td>\n",
              "      <td>2017-01-11</td>\n",
              "      <td>treatment</td>\n",
              "      <td>new_page</td>\n",
              "      <td>0</td>\n",
              "    </tr>\n",
              "    <tr>\n",
              "      <th>3</th>\n",
              "      <td>853541</td>\n",
              "      <td>2017-01-08</td>\n",
              "      <td>treatment</td>\n",
              "      <td>new_page</td>\n",
              "      <td>0</td>\n",
              "    </tr>\n",
              "    <tr>\n",
              "      <th>4</th>\n",
              "      <td>864975</td>\n",
              "      <td>2017-01-21</td>\n",
              "      <td>control</td>\n",
              "      <td>old_page</td>\n",
              "      <td>1</td>\n",
              "    </tr>\n",
              "  </tbody>\n",
              "</table>\n",
              "</div>"
            ],
            "text/plain": [
              "  user_id   timestamp      group landing_page  purchased\n",
              "0  851104  2017-01-21    control     old_page          0\n",
              "1  804228  2017-01-12    control     old_page          0\n",
              "2  661590  2017-01-11  treatment     new_page          0\n",
              "3  853541  2017-01-08  treatment     new_page          0\n",
              "4  864975  2017-01-21    control     old_page          1"
            ]
          },
          "metadata": {},
          "execution_count": 9
        }
      ]
    },
    {
      "cell_type": "code",
      "metadata": {
        "colab": {
          "base_uri": "https://localhost:8080/",
          "height": 206
        },
        "id": "SENy9R0LsZWQ",
        "outputId": "394280ab-c3d1-442b-b389-d752e4900e59"
      },
      "source": [
        "df = df_purchase.sort_values(by=\"timestamp\")\n",
        "df.head()"
      ],
      "execution_count": 10,
      "outputs": [
        {
          "output_type": "execute_result",
          "data": {
            "text/html": [
              "<div>\n",
              "<style scoped>\n",
              "    .dataframe tbody tr th:only-of-type {\n",
              "        vertical-align: middle;\n",
              "    }\n",
              "\n",
              "    .dataframe tbody tr th {\n",
              "        vertical-align: top;\n",
              "    }\n",
              "\n",
              "    .dataframe thead th {\n",
              "        text-align: right;\n",
              "    }\n",
              "</style>\n",
              "<table border=\"1\" class=\"dataframe\">\n",
              "  <thead>\n",
              "    <tr style=\"text-align: right;\">\n",
              "      <th></th>\n",
              "      <th>user_id</th>\n",
              "      <th>timestamp</th>\n",
              "      <th>group</th>\n",
              "      <th>landing_page</th>\n",
              "      <th>purchased</th>\n",
              "    </tr>\n",
              "  </thead>\n",
              "  <tbody>\n",
              "    <tr>\n",
              "      <th>245040</th>\n",
              "      <td>637212</td>\n",
              "      <td>2017-01-02</td>\n",
              "      <td>treatment</td>\n",
              "      <td>new_page</td>\n",
              "      <td>1</td>\n",
              "    </tr>\n",
              "    <tr>\n",
              "      <th>27445</th>\n",
              "      <td>924138</td>\n",
              "      <td>2017-01-02</td>\n",
              "      <td>treatment</td>\n",
              "      <td>new_page</td>\n",
              "      <td>0</td>\n",
              "    </tr>\n",
              "    <tr>\n",
              "      <th>272484</th>\n",
              "      <td>659091</td>\n",
              "      <td>2017-01-02</td>\n",
              "      <td>control</td>\n",
              "      <td>old_page</td>\n",
              "      <td>0</td>\n",
              "    </tr>\n",
              "    <tr>\n",
              "      <th>27450</th>\n",
              "      <td>653194</td>\n",
              "      <td>2017-01-02</td>\n",
              "      <td>treatment</td>\n",
              "      <td>new_page</td>\n",
              "      <td>0</td>\n",
              "    </tr>\n",
              "    <tr>\n",
              "      <th>10854</th>\n",
              "      <td>810044</td>\n",
              "      <td>2017-01-02</td>\n",
              "      <td>control</td>\n",
              "      <td>old_page</td>\n",
              "      <td>0</td>\n",
              "    </tr>\n",
              "  </tbody>\n",
              "</table>\n",
              "</div>"
            ],
            "text/plain": [
              "       user_id   timestamp      group landing_page  purchased\n",
              "245040  637212  2017-01-02  treatment     new_page          1\n",
              "27445   924138  2017-01-02  treatment     new_page          0\n",
              "272484  659091  2017-01-02    control     old_page          0\n",
              "27450   653194  2017-01-02  treatment     new_page          0\n",
              "10854   810044  2017-01-02    control     old_page          0"
            ]
          },
          "metadata": {},
          "execution_count": 10
        }
      ]
    },
    {
      "cell_type": "code",
      "metadata": {
        "id": "HN9m4XbNsszF"
      },
      "source": [
        "df.set_index('user_id', inplace=True)"
      ],
      "execution_count": 11,
      "outputs": []
    },
    {
      "cell_type": "code",
      "metadata": {
        "colab": {
          "base_uri": "https://localhost:8080/",
          "height": 237
        },
        "id": "iLKgEVFItEeJ",
        "outputId": "a1a839cf-7fb5-4cd2-92d6-9ddb1457cdf6"
      },
      "source": [
        "df.head()"
      ],
      "execution_count": 12,
      "outputs": [
        {
          "output_type": "execute_result",
          "data": {
            "text/html": [
              "<div>\n",
              "<style scoped>\n",
              "    .dataframe tbody tr th:only-of-type {\n",
              "        vertical-align: middle;\n",
              "    }\n",
              "\n",
              "    .dataframe tbody tr th {\n",
              "        vertical-align: top;\n",
              "    }\n",
              "\n",
              "    .dataframe thead th {\n",
              "        text-align: right;\n",
              "    }\n",
              "</style>\n",
              "<table border=\"1\" class=\"dataframe\">\n",
              "  <thead>\n",
              "    <tr style=\"text-align: right;\">\n",
              "      <th></th>\n",
              "      <th>timestamp</th>\n",
              "      <th>group</th>\n",
              "      <th>landing_page</th>\n",
              "      <th>purchased</th>\n",
              "    </tr>\n",
              "    <tr>\n",
              "      <th>user_id</th>\n",
              "      <th></th>\n",
              "      <th></th>\n",
              "      <th></th>\n",
              "      <th></th>\n",
              "    </tr>\n",
              "  </thead>\n",
              "  <tbody>\n",
              "    <tr>\n",
              "      <th>637212</th>\n",
              "      <td>2017-01-02</td>\n",
              "      <td>treatment</td>\n",
              "      <td>new_page</td>\n",
              "      <td>1</td>\n",
              "    </tr>\n",
              "    <tr>\n",
              "      <th>924138</th>\n",
              "      <td>2017-01-02</td>\n",
              "      <td>treatment</td>\n",
              "      <td>new_page</td>\n",
              "      <td>0</td>\n",
              "    </tr>\n",
              "    <tr>\n",
              "      <th>659091</th>\n",
              "      <td>2017-01-02</td>\n",
              "      <td>control</td>\n",
              "      <td>old_page</td>\n",
              "      <td>0</td>\n",
              "    </tr>\n",
              "    <tr>\n",
              "      <th>653194</th>\n",
              "      <td>2017-01-02</td>\n",
              "      <td>treatment</td>\n",
              "      <td>new_page</td>\n",
              "      <td>0</td>\n",
              "    </tr>\n",
              "    <tr>\n",
              "      <th>810044</th>\n",
              "      <td>2017-01-02</td>\n",
              "      <td>control</td>\n",
              "      <td>old_page</td>\n",
              "      <td>0</td>\n",
              "    </tr>\n",
              "  </tbody>\n",
              "</table>\n",
              "</div>"
            ],
            "text/plain": [
              "          timestamp      group landing_page  purchased\n",
              "user_id                                               \n",
              "637212   2017-01-02  treatment     new_page          1\n",
              "924138   2017-01-02  treatment     new_page          0\n",
              "659091   2017-01-02    control     old_page          0\n",
              "653194   2017-01-02  treatment     new_page          0\n",
              "810044   2017-01-02    control     old_page          0"
            ]
          },
          "metadata": {},
          "execution_count": 12
        }
      ]
    },
    {
      "cell_type": "code",
      "metadata": {
        "colab": {
          "base_uri": "https://localhost:8080/"
        },
        "id": "Ivha1yGBu1ze",
        "outputId": "c66618c2-a7df-471a-8854-b6a8b2de38ec"
      },
      "source": [
        "df.group.unique()"
      ],
      "execution_count": 13,
      "outputs": [
        {
          "output_type": "execute_result",
          "data": {
            "text/plain": [
              "array(['treatment', 'control'], dtype=object)"
            ]
          },
          "metadata": {},
          "execution_count": 13
        }
      ]
    },
    {
      "cell_type": "markdown",
      "metadata": {
        "id": "58mSFH5KtqqY"
      },
      "source": [
        "## Mathematical Calculation and Analysis"
      ]
    },
    {
      "cell_type": "markdown",
      "metadata": {
        "id": "RP6yxfZSt26M"
      },
      "source": [
        "### Measure of Central Tendency"
      ]
    },
    {
      "cell_type": "markdown",
      "metadata": {
        "id": "mK0UC_J5uBsZ"
      },
      "source": [
        "- Mean\n",
        "- Median\n",
        "- Mode\n",
        "\n",
        "\n",
        "Karena tipe data berupa kategorik kita hanya bisa menggunakan 'Mode()' untuk data yang sering muncul"
      ]
    },
    {
      "cell_type": "code",
      "metadata": {
        "colab": {
          "base_uri": "https://localhost:8080/"
        },
        "id": "k00-zSvdtp6u",
        "outputId": "398f5fb0-ea99-48f8-d133-b9edee044223"
      },
      "source": [
        "# Mode dari group adalah\n",
        "\n",
        "print(\"Modus dari variabel group adalah:\", df['group'].mode().sum())"
      ],
      "execution_count": 14,
      "outputs": [
        {
          "output_type": "stream",
          "name": "stdout",
          "text": [
            "Modus dari variabel group adalah: treatment\n"
          ]
        }
      ]
    },
    {
      "cell_type": "code",
      "metadata": {
        "colab": {
          "base_uri": "https://localhost:8080/"
        },
        "id": "M17-bXFbzDZE",
        "outputId": "f84f998a-4580-4417-ce8e-b3e63de9a8a0"
      },
      "source": [
        "print('Jumlah data treatment:', df[df['group']=='treatment']['group'].count())\n",
        "print('Jumlah data control:', df[df['group']=='control']['group'].count())"
      ],
      "execution_count": 15,
      "outputs": [
        {
          "output_type": "stream",
          "name": "stdout",
          "text": [
            "Jumlah data treatment: 147276\n",
            "Jumlah data control: 147202\n"
          ]
        }
      ]
    },
    {
      "cell_type": "markdown",
      "metadata": {
        "id": "Tpa5yYKi_0dG"
      },
      "source": [
        "Data untuk kolom group untuk data treatment jumlahnya sedikit lebih banyak"
      ]
    },
    {
      "cell_type": "code",
      "metadata": {
        "colab": {
          "base_uri": "https://localhost:8080/",
          "height": 393
        },
        "id": "gn73tUCYxtcw",
        "outputId": "d039ef4a-4978-4fa1-9fe4-54e86fed2784"
      },
      "source": [
        "# visualisasi\n",
        "group = df['group'].value_counts()\n",
        "group.plot(kind='bar', color=['r', 'b'], figsize=[10, 5], title=\"Variable Treatment dan Kontrol\")"
      ],
      "execution_count": 16,
      "outputs": [
        {
          "output_type": "execute_result",
          "data": {
            "text/plain": [
              "<matplotlib.axes._subplots.AxesSubplot at 0x7f2f0b54e950>"
            ]
          },
          "metadata": {},
          "execution_count": 16
        },
        {
          "output_type": "display_data",
          "data": {
            "image/png": "[encoded data removed]",
            "text/plain": [
              "<Figure size 720x360 with 1 Axes>"
            ]
          },
          "metadata": {
            "needs_background": "light"
          }
        }
      ]
    },
    {
      "cell_type": "code",
      "metadata": {
        "colab": {
          "base_uri": "https://localhost:8080/"
        },
        "id": "PerKXNHw-pir",
        "outputId": "6dd04da6-a85b-417d-8c00-e34de19f995f"
      },
      "source": [
        "print(\"Modus dari variabel landing page adalah:\", df['landing_page'].mode().sum())"
      ],
      "execution_count": 17,
      "outputs": [
        {
          "output_type": "stream",
          "name": "stdout",
          "text": [
            "Modus dari variabel landing page adalah: new_pageold_page\n"
          ]
        }
      ]
    },
    {
      "cell_type": "code",
      "metadata": {
        "colab": {
          "base_uri": "https://localhost:8080/"
        },
        "id": "3lGgFn0dzvSF",
        "outputId": "83489e10-f109-4d4d-9853-32d62dca3ec1"
      },
      "source": [
        "print('Jumlah data new page:', df[df['landing_page']=='new_page']['landing_page'].count())\n",
        "print('Jumlah data old page:', df[df['landing_page']=='old_page']['landing_page'].count())"
      ],
      "execution_count": 18,
      "outputs": [
        {
          "output_type": "stream",
          "name": "stdout",
          "text": [
            "Jumlah data new page: 147239\n",
            "Jumlah data old page: 147239\n"
          ]
        }
      ]
    },
    {
      "cell_type": "markdown",
      "metadata": {
        "id": "4mWLAH5-_j-H"
      },
      "source": [
        "Data untuk kolom landing page adalah data yang jumlahnya seimbang"
      ]
    },
    {
      "cell_type": "code",
      "metadata": {
        "colab": {
          "base_uri": "https://localhost:8080/",
          "height": 393
        },
        "id": "Z3P5Re4b6epX",
        "outputId": "32923e4f-a9eb-4458-d414-db33d0ad5cb7"
      },
      "source": [
        "# visualisasi\n",
        "group = df['landing_page'].value_counts()\n",
        "group.plot(kind='bar', color=['r', 'b'], figsize=[10, 5], title=\"Variable new page dan old page\")"
      ],
      "execution_count": 19,
      "outputs": [
        {
          "output_type": "execute_result",
          "data": {
            "text/plain": [
              "<matplotlib.axes._subplots.AxesSubplot at 0x7f2ef35a1fd0>"
            ]
          },
          "metadata": {},
          "execution_count": 19
        },
        {
          "output_type": "display_data",
          "data": {
            "image/png": "[encoded data removed]",
            "text/plain": [
              "<Figure size 720x360 with 1 Axes>"
            ]
          },
          "metadata": {
            "needs_background": "light"
          }
        }
      ]
    },
    {
      "cell_type": "markdown",
      "metadata": {
        "id": "UeKkdzSs8yIq"
      },
      "source": [
        "Kita Bagi Menjadi dua kasus untuk menguji hipotesis, yaitu:\n",
        "\n",
        "**Kasus I:**\n",
        "\n",
        "H0: μ_group_treatment = μ_group_control\n",
        "\n",
        "H1: μ_group_treatment != μ_group_control\n",
        "\n",
        "\n",
        "**Kasus II:**\n",
        "\n",
        "**H0: μ_landingpage_newpage =  μ_landingpage_oldpage**\n",
        "\n",
        "**H1:μ_landingpage_newpage !=  μ_landingpage_oldpage**\n"
      ]
    },
    {
      "cell_type": "markdown",
      "metadata": {
        "id": "LMjc9khT0YE3"
      },
      "source": [
        "## Hasil"
      ]
    },
    {
      "cell_type": "markdown",
      "metadata": {
        "id": "BmNMgXcj06T8"
      },
      "source": [
        "#### Kasus I"
      ]
    },
    {
      "cell_type": "code",
      "metadata": {
        "colab": {
          "base_uri": "https://localhost:8080/"
        },
        "id": "UZxeNKQooQhx",
        "outputId": "61b569cd-2fb2-4eb1-8388-22de3542df6d"
      },
      "source": [
        "group_treatment = df[df['group']=='treatment']['purchased']\n",
        "group_control = df[df['group']=='control']['purchased']\n",
        "\n",
        "\n",
        "print('Retention rate of group treatment:',group_treatment.sum()/group_treatment.count())\n",
        "print('Retention rate of group control:',group_control.sum()/group_control.count())"
      ],
      "execution_count": 20,
      "outputs": [
        {
          "output_type": "stream",
          "name": "stdout",
          "text": [
            "Retention rate of group treatment: 0.11891957956489856\n",
            "Retention rate of group control: 0.12039917935897611\n"
          ]
        }
      ]
    },
    {
      "cell_type": "code",
      "metadata": {
        "colab": {
          "base_uri": "https://localhost:8080/"
        },
        "id": "g5Z3lRnp2pmG",
        "outputId": "c2c0acae-b7fb-413a-b9ac-a31edc9d903d"
      },
      "source": [
        "group_treatment"
      ],
      "execution_count": 21,
      "outputs": [
        {
          "output_type": "execute_result",
          "data": {
            "text/plain": [
              "user_id\n",
              "637212    1\n",
              "924138    0\n",
              "653194    0\n",
              "645986    0\n",
              "939054    0\n",
              "         ..\n",
              "750363    0\n",
              "900652    0\n",
              "694025    0\n",
              "763379    0\n",
              "880926    0\n",
              "Name: purchased, Length: 147276, dtype: int64"
            ]
          },
          "metadata": {},
          "execution_count": 21
        }
      ]
    },
    {
      "cell_type": "code",
      "metadata": {
        "colab": {
          "base_uri": "https://localhost:8080/"
        },
        "id": "TjM-I7vV2wr4",
        "outputId": "655cc965-0d3f-42b9-b173-183a8f3e5136"
      },
      "source": [
        "group_control"
      ],
      "execution_count": 22,
      "outputs": [
        {
          "output_type": "execute_result",
          "data": {
            "text/plain": [
              "user_id\n",
              "659091    0\n",
              "810044    0\n",
              "638214    0\n",
              "934736    0\n",
              "632934    0\n",
              "         ..\n",
              "820275    0\n",
              "918619    0\n",
              "881686    0\n",
              "907259    1\n",
              "820211    0\n",
              "Name: purchased, Length: 147202, dtype: int64"
            ]
          },
          "metadata": {},
          "execution_count": 22
        }
      ]
    },
    {
      "cell_type": "markdown",
      "metadata": {
        "id": "S5Z8AJsN2_8l"
      },
      "source": [
        "The retention rate between those group is not different (almost same). Is the difference truly the same or because of chance?\n",
        "\n",
        "To make sure of our result, we will check using paired test two sided.\n",
        "\n",
        "Our hypothesis on this case:\n",
        "\n",
        "**H0: μ_group_treatment = μ_group_control**\n",
        "\n",
        "**H1:  μ_group_treatment != μ_group_control**"
      ]
    },
    {
      "cell_type": "code",
      "metadata": {
        "colab": {
          "base_uri": "https://localhost:8080/"
        },
        "id": "m-Q54WsU21gd",
        "outputId": "3a79f32b-5fc9-41b2-8f82-e4d985b3b92b"
      },
      "source": [
        "t_stat, p_val = stats.ttest_rel(group_treatment.sample(100000), group_control.sample(100000))\n",
        "print('P_value: ', p_val)"
      ],
      "execution_count": 23,
      "outputs": [
        {
          "output_type": "stream",
          "name": "stdout",
          "text": [
            "P_value:  0.3165521545362033\n"
          ]
        }
      ]
    },
    {
      "cell_type": "markdown",
      "metadata": {
        "id": "2S6CYZQY4dKQ"
      },
      "source": [
        "Karena p-value nilainya lebih dari significance level (critical_value) 0.05 kita bisa simpulkan bahwa kita gagal menolak H0 (menerima H0) yang artinya bahwa rata-rata treatment dan control tidak signifikan berbeda. Sehingga dapat disimpulkan bahwa user tetap nyaman dengan menggunakan group treatment maupun kontrol"
      ]
    },
    {
      "cell_type": "markdown",
      "metadata": {
        "id": "X6vEQKvh9kOg"
      },
      "source": [
        "#### Kasus II"
      ]
    },
    {
      "cell_type": "markdown",
      "metadata": {
        "id": "f-RIA4s06V8Z"
      },
      "source": [
        "Selanjutnya kita akan uji untuk hipotesis kasus yang kedua"
      ]
    },
    {
      "cell_type": "markdown",
      "metadata": {
        "id": "kJCjl7Ax6AHK"
      },
      "source": [
        "Our hypothesis on this case:\n",
        "\n",
        "**H0: μ_landingpage_newpage =  μ_landingpage_oldpage**\n",
        "\n",
        "**H1:μ_landingpage_newpage !=  μ_landingpage_oldpage**"
      ]
    },
    {
      "cell_type": "code",
      "metadata": {
        "colab": {
          "base_uri": "https://localhost:8080/"
        },
        "id": "nQqPJvWR4GT0",
        "outputId": "cd8ed919-4fea-4c19-a030-78f48bd97ec1"
      },
      "source": [
        "new_page = df[df['landing_page']=='new_page']['purchased']\n",
        "old_page = df[df['landing_page']=='old_page']['purchased']\n",
        "\n",
        "\n",
        "print('Retention rate of new page:',new_page.sum()/new_page.count())\n",
        "print('Retention rate of old page:',old_page.sum()/old_page.count())"
      ],
      "execution_count": 24,
      "outputs": [
        {
          "output_type": "stream",
          "name": "stdout",
          "text": [
            "Retention rate of new page: 0.11884079625642663\n",
            "Retention rate of old page: 0.12047759085568362\n"
          ]
        }
      ]
    },
    {
      "cell_type": "markdown",
      "metadata": {
        "id": "bxtu7Mm97cf8"
      },
      "source": [
        "The retention rate between those group is not different (almost same). Is the difference truly the same or because of chance?\n",
        "\n",
        "To make sure of our result, we will check using paired test two sided.\n",
        "\n",
        "Our hypothesis on this case:\n",
        "\n",
        "**H0: μ_landingpage_newpage =  μ_landingpage_oldpage**\n",
        "\n",
        "**H1:μ_landingpage_newpage !=  μ_landingpage_oldpage**"
      ]
    },
    {
      "cell_type": "code",
      "metadata": {
        "colab": {
          "base_uri": "https://localhost:8080/"
        },
        "id": "sfeyaiO27RxZ",
        "outputId": "7cb6a4ba-d0f2-426c-b27c-39f0f56a0840"
      },
      "source": [
        "t_stat, p_val = stats.ttest_rel(new_page.sample(100000), old_page.sample(100000))\n",
        "print('P_value: ', p_val)"
      ],
      "execution_count": 25,
      "outputs": [
        {
          "output_type": "stream",
          "name": "stdout",
          "text": [
            "P_value:  0.5173963865186795\n"
          ]
        }
      ]
    },
    {
      "cell_type": "markdown",
      "metadata": {
        "id": "oQ7zd-Db7rra"
      },
      "source": [
        "Karena p-value nilainya lebih dari significance level (critical_value) 0.05 kita bisa simpulkan bahwa kita gagal menolak H0 (menerima H0) yang artinya bahwa rata-rata dari new page dan old page tidak signifikan berbeda. maka sangat nyaman dan aman untuk upgrade dengan new page atau tampilan website yang baru"
      ]
    },
    {
      "cell_type": "markdown",
      "metadata": {
        "id": "jrH4vMMi9nkB"
      },
      "source": [
        "Berdasarkan dari hasil Kasus I dan Kasus II untuk tampilan UI/UX keputusannya adalah dilanjutkan dengan update dengn tampilan yang baru atau versi yang baru karena tidak ada pengaruh yang signifikan terhadap pembelian"
      ]
    },
    {
      "cell_type": "markdown",
      "metadata": {
        "id": "SNRFOBBQFUvc"
      },
      "source": [
        "#### Chi-Square Test"
      ]
    },
    {
      "cell_type": "markdown",
      "metadata": {
        "id": "zblFG9BDB4_O"
      },
      "source": [
        "Kita akan lakukan uji independence antara 2 variabel kategorik menggunakan chi-square antara variabel group dan landing_page\n",
        "\n",
        "H0: landing page dari UI/UX independent terhadap group\n",
        "\n",
        "H1: landing page dari UI/UX dependent terhadap group"
      ]
    },
    {
      "cell_type": "code",
      "metadata": {
        "colab": {
          "base_uri": "https://localhost:8080/",
          "height": 143
        },
        "id": "y6tSXDIjCEwp",
        "outputId": "a5920056-e835-4e6c-8137-58496c94adae"
      },
      "source": [
        "contingency_table=pd.crosstab(df[\"group\"],df[\"landing_page\"])\n",
        "contingency_table"
      ],
      "execution_count": 26,
      "outputs": [
        {
          "output_type": "execute_result",
          "data": {
            "text/html": [
              "<div>\n",
              "<style scoped>\n",
              "    .dataframe tbody tr th:only-of-type {\n",
              "        vertical-align: middle;\n",
              "    }\n",
              "\n",
              "    .dataframe tbody tr th {\n",
              "        vertical-align: top;\n",
              "    }\n",
              "\n",
              "    .dataframe thead th {\n",
              "        text-align: right;\n",
              "    }\n",
              "</style>\n",
              "<table border=\"1\" class=\"dataframe\">\n",
              "  <thead>\n",
              "    <tr style=\"text-align: right;\">\n",
              "      <th>landing_page</th>\n",
              "      <th>new_page</th>\n",
              "      <th>old_page</th>\n",
              "    </tr>\n",
              "    <tr>\n",
              "      <th>group</th>\n",
              "      <th></th>\n",
              "      <th></th>\n",
              "    </tr>\n",
              "  </thead>\n",
              "  <tbody>\n",
              "    <tr>\n",
              "      <th>control</th>\n",
              "      <td>1928</td>\n",
              "      <td>145274</td>\n",
              "    </tr>\n",
              "    <tr>\n",
              "      <th>treatment</th>\n",
              "      <td>145311</td>\n",
              "      <td>1965</td>\n",
              "    </tr>\n",
              "  </tbody>\n",
              "</table>\n",
              "</div>"
            ],
            "text/plain": [
              "landing_page  new_page  old_page\n",
              "group                           \n",
              "control           1928    145274\n",
              "treatment       145311      1965"
            ]
          },
          "metadata": {},
          "execution_count": 26
        }
      ]
    },
    {
      "cell_type": "code",
      "metadata": {
        "colab": {
          "base_uri": "https://localhost:8080/"
        },
        "id": "m3anVBdeCXjn",
        "outputId": "b727fcd3-62cc-4706-e481-8a2e756aa2ba"
      },
      "source": [
        "stat, p, dof, expected = stats.chi2_contingency(contingency_table)\n",
        "print('p=%.3f' % (p))\n",
        "if p > 0.05:\n",
        "    print('Probably independent')\n",
        "else:\n",
        "    print('Probably dependent')"
      ],
      "execution_count": 27,
      "outputs": [
        {
          "output_type": "stream",
          "name": "stdout",
          "text": [
            "p=0.000\n",
            "Probably dependent\n"
          ]
        }
      ]
    },
    {
      "cell_type": "markdown",
      "metadata": {
        "id": "ah5ECHeQD5Om"
      },
      "source": [
        "Karena p_value < 0.05 maka H0 ditolak dan dapat disimpulkan bahwa ada perbedaaan yang signifikan dari landing page terhadap group (perlakuan) yang berbeda"
      ]
    },
    {
      "cell_type": "code",
      "metadata": {
        "id": "VxecltfJCiE1"
      },
      "source": [
        ""
      ],
      "execution_count": 27,
      "outputs": []
    }
  ]
}