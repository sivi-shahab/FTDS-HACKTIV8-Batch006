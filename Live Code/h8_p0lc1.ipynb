{
  "cells": [
    {
      "cell_type": "markdown",
      "metadata": {
        "id": "CkBNvYzKg1Vu"
      },
      "source": [
        "##1. Perkenalan"
      ]
    },
    {
      "cell_type": "markdown",
      "metadata": {
        "id": "Troz4tWngPg_"
      },
      "source": [
        "Nama: **Sivi Almanaf Ali Shahab**\n",
        "\n",
        "Batch: **006**"
      ]
    },
    {
      "cell_type": "markdown",
      "metadata": {
        "id": "4nRt-zB_g5qy"
      },
      "source": [
        "#2. Problem"
      ]
    },
    {
      "cell_type": "markdown",
      "metadata": {
        "id": "pj-g_QlEhFW2"
      },
      "source": [
        "Kamu adalah seorang data scientist yang bekerja di salah satu perusahaan manufaktur baterai Lithium ion. Tim produksi meminta kamu untuk mengecek apakah baterai yang mereka buat dalam kondisi bagus atau tidak. Sebelum melakukan pengecekan lebih lanjut, kamu diminta untuk menghitung hambatan/resistansi dan Daya setiap detik:\n",
        "\n",
        "R=V/I\n",
        "\n",
        "P=VI\n",
        "\n",
        "R adalah Kapasitas dalam satuan Ohm\n",
        "P adalah Daya dalam Watt\n",
        "I adalah kuat arus dalam satuan Ampere\n",
        "V adalah tegangan dalam satuan Volt\n",
        "\n",
        "a. Buatlah dua fungsi eksplisit masing-masing memuat perhitungan hambatan (R) dan daya (P) yang nantinya akan digunakan untuk perhitungan\n",
        "\n",
        "b. Buat kolom baru dengan nama kolom R/P berisikan hasil perhitungan daya/hambatan dengan kriteria untuk Kapasitas >=2.5 hitung daya, Kapasitas <2.5 hitung nilai hambatan. (Hint: Gunakan for loop dan if statement untuk mengerjakan perintah nomor b, kamu bisa menggunakan list untuk menyimpan perhitungan sementara, setelahnya dapat dimasukkan ke kolom R/P).\n",
        "\n",
        "c. Hitunglah rata-rata nilai kapasitas untuk arus = 1 Ampere dan cycle ganjil."
      ]
    },
    {
      "cell_type": "markdown",
      "metadata": {
        "id": "uVZg9rQijuCR"
      },
      "source": [
        "## Import Library pandas dan Numpy"
      ]
    },
    {
      "cell_type": "code",
      "execution_count": 5,
      "metadata": {
        "id": "pCuU7YSNjswF"
      },
      "outputs": [],
      "source": [
        "import pandas as pd\n",
        "import numpy as np"
      ]
    },
    {
      "cell_type": "markdown",
      "metadata": {
        "id": "__3yGRPvh2lf"
      },
      "source": [
        "##Load Data"
      ]
    },
    {
      "cell_type": "markdown",
      "metadata": {
        "id": "wcYCQEv0kwOt"
      },
      "source": [
        "Dataset dapat didownload pada link berikut: https://github.com/fahmimnalfrzki/Dataset/blob/main/NMC1-9.xlsx?raw=true"
      ]
    },
    {
      "cell_type": "code",
      "execution_count": 6,
      "metadata": {
        "colab": {
          "base_uri": "https://localhost:8080/",
          "height": 206
        },
        "id": "fipTp5QgjYDR",
        "outputId": "01f8b8b7-de53-4ace-9547-0de429be2287"
      },
      "outputs": [
        {
          "data": {
            "text/html": [
              "<div>\n",
              "<style scoped>\n",
              "    .dataframe tbody tr th:only-of-type {\n",
              "        vertical-align: middle;\n",
              "    }\n",
              "\n",
              "    .dataframe tbody tr th {\n",
              "        vertical-align: top;\n",
              "    }\n",
              "\n",
              "    .dataframe thead th {\n",
              "        text-align: right;\n",
              "    }\n",
              "</style>\n",
              "<table border=\"1\" class=\"dataframe\">\n",
              "  <thead>\n",
              "    <tr style=\"text-align: right;\">\n",
              "      <th></th>\n",
              "      <th>time(s)</th>\n",
              "      <th>V_m</th>\n",
              "      <th>Current (A)</th>\n",
              "      <th>Cycle</th>\n",
              "      <th>Cap</th>\n",
              "    </tr>\n",
              "  </thead>\n",
              "  <tbody>\n",
              "    <tr>\n",
              "      <th>0</th>\n",
              "      <td>0</td>\n",
              "      <td>4.098</td>\n",
              "      <td>0.997</td>\n",
              "      <td>1</td>\n",
              "      <td>2.840817</td>\n",
              "    </tr>\n",
              "    <tr>\n",
              "      <th>1</th>\n",
              "      <td>1</td>\n",
              "      <td>4.096</td>\n",
              "      <td>0.998</td>\n",
              "      <td>1</td>\n",
              "      <td>2.840817</td>\n",
              "    </tr>\n",
              "    <tr>\n",
              "      <th>2</th>\n",
              "      <td>2</td>\n",
              "      <td>4.094</td>\n",
              "      <td>0.999</td>\n",
              "      <td>1</td>\n",
              "      <td>2.840817</td>\n",
              "    </tr>\n",
              "    <tr>\n",
              "      <th>3</th>\n",
              "      <td>3</td>\n",
              "      <td>4.093</td>\n",
              "      <td>0.998</td>\n",
              "      <td>1</td>\n",
              "      <td>2.840817</td>\n",
              "    </tr>\n",
              "    <tr>\n",
              "      <th>4</th>\n",
              "      <td>4</td>\n",
              "      <td>4.092</td>\n",
              "      <td>0.999</td>\n",
              "      <td>1</td>\n",
              "      <td>2.840817</td>\n",
              "    </tr>\n",
              "  </tbody>\n",
              "</table>\n",
              "</div>"
            ],
            "text/plain": [
              "   time(s)    V_m  Current (A)  Cycle       Cap\n",
              "0        0  4.098        0.997      1  2.840817\n",
              "1        1  4.096        0.998      1  2.840817\n",
              "2        2  4.094        0.999      1  2.840817\n",
              "3        3  4.093        0.998      1  2.840817\n",
              "4        4  4.092        0.999      1  2.840817"
            ]
          },
          "execution_count": 6,
          "metadata": {},
          "output_type": "execute_result"
        }
      ],
      "source": [
        "df = pd.read_excel('./data/NMC1-9.xlsx')\n",
        "\n",
        "# print top 5 from data\n",
        "df.head()"
      ]
    },
    {
      "cell_type": "code",
      "execution_count": 7,
      "metadata": {
        "colab": {
          "base_uri": "https://localhost:8080/"
        },
        "id": "IMG_QT6E7XuL",
        "outputId": "49e6e15a-81c1-47a8-fabe-8516368949ae"
      },
      "outputs": [
        {
          "data": {
            "text/plain": [
              "(90982, 5)"
            ]
          },
          "execution_count": 7,
          "metadata": {},
          "output_type": "execute_result"
        }
      ],
      "source": [
        "# cek ukuran data\n",
        "df.shape"
      ]
    },
    {
      "cell_type": "code",
      "execution_count": 8,
      "metadata": {
        "colab": {
          "base_uri": "https://localhost:8080/",
          "height": 300
        },
        "id": "GIRiZaQq7gqw",
        "outputId": "45775afa-ef60-4295-bfa9-ca9ef6a5517a"
      },
      "outputs": [
        {
          "data": {
            "text/html": [
              "<div>\n",
              "<style scoped>\n",
              "    .dataframe tbody tr th:only-of-type {\n",
              "        vertical-align: middle;\n",
              "    }\n",
              "\n",
              "    .dataframe tbody tr th {\n",
              "        vertical-align: top;\n",
              "    }\n",
              "\n",
              "    .dataframe thead th {\n",
              "        text-align: right;\n",
              "    }\n",
              "</style>\n",
              "<table border=\"1\" class=\"dataframe\">\n",
              "  <thead>\n",
              "    <tr style=\"text-align: right;\">\n",
              "      <th></th>\n",
              "      <th>time(s)</th>\n",
              "      <th>V_m</th>\n",
              "      <th>Current (A)</th>\n",
              "      <th>Cycle</th>\n",
              "      <th>Cap</th>\n",
              "    </tr>\n",
              "  </thead>\n",
              "  <tbody>\n",
              "    <tr>\n",
              "      <th>count</th>\n",
              "      <td>90982.000000</td>\n",
              "      <td>90982.000000</td>\n",
              "      <td>90982.000000</td>\n",
              "      <td>90982.000000</td>\n",
              "      <td>90982.000000</td>\n",
              "    </tr>\n",
              "    <tr>\n",
              "      <th>mean</th>\n",
              "      <td>45490.500000</td>\n",
              "      <td>3.607666</td>\n",
              "      <td>0.999264</td>\n",
              "      <td>4.978699</td>\n",
              "      <td>2.806214</td>\n",
              "    </tr>\n",
              "    <tr>\n",
              "      <th>std</th>\n",
              "      <td>26264.385433</td>\n",
              "      <td>0.322777</td>\n",
              "      <td>0.001997</td>\n",
              "      <td>2.582135</td>\n",
              "      <td>0.023283</td>\n",
              "    </tr>\n",
              "    <tr>\n",
              "      <th>min</th>\n",
              "      <td>0.000000</td>\n",
              "      <td>2.497000</td>\n",
              "      <td>0.993000</td>\n",
              "      <td>1.000000</td>\n",
              "      <td>2.770180</td>\n",
              "    </tr>\n",
              "    <tr>\n",
              "      <th>25%</th>\n",
              "      <td>22745.250000</td>\n",
              "      <td>3.422000</td>\n",
              "      <td>0.997000</td>\n",
              "      <td>3.000000</td>\n",
              "      <td>2.786860</td>\n",
              "    </tr>\n",
              "    <tr>\n",
              "      <th>50%</th>\n",
              "      <td>45490.500000</td>\n",
              "      <td>3.636000</td>\n",
              "      <td>0.999000</td>\n",
              "      <td>5.000000</td>\n",
              "      <td>2.804878</td>\n",
              "    </tr>\n",
              "    <tr>\n",
              "      <th>75%</th>\n",
              "      <td>68235.750000</td>\n",
              "      <td>3.868000</td>\n",
              "      <td>1.001000</td>\n",
              "      <td>7.000000</td>\n",
              "      <td>2.823520</td>\n",
              "    </tr>\n",
              "    <tr>\n",
              "      <th>max</th>\n",
              "      <td>90981.000000</td>\n",
              "      <td>4.114000</td>\n",
              "      <td>1.003000</td>\n",
              "      <td>9.000000</td>\n",
              "      <td>2.840817</td>\n",
              "    </tr>\n",
              "  </tbody>\n",
              "</table>\n",
              "</div>"
            ],
            "text/plain": [
              "            time(s)           V_m   Current (A)         Cycle           Cap\n",
              "count  90982.000000  90982.000000  90982.000000  90982.000000  90982.000000\n",
              "mean   45490.500000      3.607666      0.999264      4.978699      2.806214\n",
              "std    26264.385433      0.322777      0.001997      2.582135      0.023283\n",
              "min        0.000000      2.497000      0.993000      1.000000      2.770180\n",
              "25%    22745.250000      3.422000      0.997000      3.000000      2.786860\n",
              "50%    45490.500000      3.636000      0.999000      5.000000      2.804878\n",
              "75%    68235.750000      3.868000      1.001000      7.000000      2.823520\n",
              "max    90981.000000      4.114000      1.003000      9.000000      2.840817"
            ]
          },
          "execution_count": 8,
          "metadata": {},
          "output_type": "execute_result"
        }
      ],
      "source": [
        "df.describe()"
      ]
    },
    {
      "cell_type": "markdown",
      "metadata": {
        "id": "atg_9WC66i9E"
      },
      "source": [
        "##Jawaban poin (a)"
      ]
    },
    {
      "cell_type": "code",
      "execution_count": 9,
      "metadata": {
        "id": "h6QKm_bRlL5j"
      },
      "outputs": [],
      "source": [
        "# definisi fungsi Hambatan dan Daya\n",
        "def hambatan(V, I):\n",
        "  return V/I\n",
        "\n",
        "def daya(V, I):\n",
        "  return V * I\n"
      ]
    },
    {
      "cell_type": "markdown",
      "metadata": {
        "id": "3pjt_1GH6qY5"
      },
      "source": [
        "##Jawaban poin (b)"
      ]
    },
    {
      "cell_type": "code",
      "execution_count": 10,
      "metadata": {
        "id": "7cQTCQLam9Ek"
      },
      "outputs": [
        {
          "data": {
            "text/html": [
              "<div>\n",
              "<style scoped>\n",
              "    .dataframe tbody tr th:only-of-type {\n",
              "        vertical-align: middle;\n",
              "    }\n",
              "\n",
              "    .dataframe tbody tr th {\n",
              "        vertical-align: top;\n",
              "    }\n",
              "\n",
              "    .dataframe thead th {\n",
              "        text-align: right;\n",
              "    }\n",
              "</style>\n",
              "<table border=\"1\" class=\"dataframe\">\n",
              "  <thead>\n",
              "    <tr style=\"text-align: right;\">\n",
              "      <th></th>\n",
              "      <th>time(s)</th>\n",
              "      <th>V_m</th>\n",
              "      <th>Current (A)</th>\n",
              "      <th>Cycle</th>\n",
              "      <th>Cap</th>\n",
              "      <th>R_P</th>\n",
              "    </tr>\n",
              "  </thead>\n",
              "  <tbody>\n",
              "    <tr>\n",
              "      <th>0</th>\n",
              "      <td>0</td>\n",
              "      <td>4.098</td>\n",
              "      <td>0.997</td>\n",
              "      <td>1</td>\n",
              "      <td>2.840817</td>\n",
              "      <td>4.085706</td>\n",
              "    </tr>\n",
              "    <tr>\n",
              "      <th>1</th>\n",
              "      <td>1</td>\n",
              "      <td>4.096</td>\n",
              "      <td>0.998</td>\n",
              "      <td>1</td>\n",
              "      <td>2.840817</td>\n",
              "      <td>4.087808</td>\n",
              "    </tr>\n",
              "    <tr>\n",
              "      <th>2</th>\n",
              "      <td>2</td>\n",
              "      <td>4.094</td>\n",
              "      <td>0.999</td>\n",
              "      <td>1</td>\n",
              "      <td>2.840817</td>\n",
              "      <td>4.089906</td>\n",
              "    </tr>\n",
              "    <tr>\n",
              "      <th>3</th>\n",
              "      <td>3</td>\n",
              "      <td>4.093</td>\n",
              "      <td>0.998</td>\n",
              "      <td>1</td>\n",
              "      <td>2.840817</td>\n",
              "      <td>4.084814</td>\n",
              "    </tr>\n",
              "    <tr>\n",
              "      <th>4</th>\n",
              "      <td>4</td>\n",
              "      <td>4.092</td>\n",
              "      <td>0.999</td>\n",
              "      <td>1</td>\n",
              "      <td>2.840817</td>\n",
              "      <td>4.087908</td>\n",
              "    </tr>\n",
              "  </tbody>\n",
              "</table>\n",
              "</div>"
            ],
            "text/plain": [
              "   time(s)    V_m  Current (A)  Cycle       Cap       R_P\n",
              "0        0  4.098        0.997      1  2.840817  4.085706\n",
              "1        1  4.096        0.998      1  2.840817  4.087808\n",
              "2        2  4.094        0.999      1  2.840817  4.089906\n",
              "3        3  4.093        0.998      1  2.840817  4.084814\n",
              "4        4  4.092        0.999      1  2.840817  4.087908"
            ]
          },
          "execution_count": 10,
          "metadata": {},
          "output_type": "execute_result"
        }
      ],
      "source": [
        "df_new = df.copy()\n",
        "rp = []\n",
        "j=0\n",
        "\n",
        "for i in df_new['Cap']:\n",
        "  if i >=2.5:\n",
        "    rp.append(daya(df_new['V_m'][j], df_new['Current (A)'][j]))\n",
        "  else:\n",
        "    rp.append(hambatan(df_new['V_m'][j], df_new['Current (A)'][j]))\n",
        "  j+=1\n",
        "\n",
        "\n",
        "df_new['R_P'] = rp\n",
        "df_new.head()"
      ]
    },
    {
      "cell_type": "code",
      "execution_count": 12,
      "metadata": {
        "id": "D3RV87tsL9Ca"
      },
      "outputs": [],
      "source": [
        "# RP = []\n",
        "# for in range(len(data)):\n",
        "#   if df_new['Cap'].iloc[i] >= 2.5:\n",
        "#     RP.append(df_new(data['V_m'].iloc[i],df_new['Current (A)'].iloc[i]))\n",
        "#   else:\n",
        "#     RP.append(df_new(data['V_m'].iloc[i],df_new['Current (A)'].iloc[i]))\n",
        "\n",
        "# data_new['R/P'] = RP\n",
        "# data_new.head()"
      ]
    },
    {
      "cell_type": "code",
      "execution_count": 13,
      "metadata": {
        "colab": {
          "base_uri": "https://localhost:8080/",
          "height": 300
        },
        "id": "mnWoDxdi-RzK",
        "outputId": "2a48ada2-6810-4225-81cf-c78f5cd989d3"
      },
      "outputs": [
        {
          "data": {
            "text/html": [
              "<div>\n",
              "<style scoped>\n",
              "    .dataframe tbody tr th:only-of-type {\n",
              "        vertical-align: middle;\n",
              "    }\n",
              "\n",
              "    .dataframe tbody tr th {\n",
              "        vertical-align: top;\n",
              "    }\n",
              "\n",
              "    .dataframe thead th {\n",
              "        text-align: right;\n",
              "    }\n",
              "</style>\n",
              "<table border=\"1\" class=\"dataframe\">\n",
              "  <thead>\n",
              "    <tr style=\"text-align: right;\">\n",
              "      <th></th>\n",
              "      <th>time(s)</th>\n",
              "      <th>V_m</th>\n",
              "      <th>Current (A)</th>\n",
              "      <th>Cycle</th>\n",
              "      <th>Cap</th>\n",
              "      <th>R_P</th>\n",
              "    </tr>\n",
              "  </thead>\n",
              "  <tbody>\n",
              "    <tr>\n",
              "      <th>count</th>\n",
              "      <td>90982.000000</td>\n",
              "      <td>90982.000000</td>\n",
              "      <td>90982.000000</td>\n",
              "      <td>90982.000000</td>\n",
              "      <td>90982.000000</td>\n",
              "      <td>90982.000000</td>\n",
              "    </tr>\n",
              "    <tr>\n",
              "      <th>mean</th>\n",
              "      <td>45490.500000</td>\n",
              "      <td>3.607666</td>\n",
              "      <td>0.999264</td>\n",
              "      <td>4.978699</td>\n",
              "      <td>2.806214</td>\n",
              "      <td>3.604989</td>\n",
              "    </tr>\n",
              "    <tr>\n",
              "      <th>std</th>\n",
              "      <td>26264.385433</td>\n",
              "      <td>0.322777</td>\n",
              "      <td>0.001997</td>\n",
              "      <td>2.582135</td>\n",
              "      <td>0.023283</td>\n",
              "      <td>0.322366</td>\n",
              "    </tr>\n",
              "    <tr>\n",
              "      <th>min</th>\n",
              "      <td>0.000000</td>\n",
              "      <td>2.497000</td>\n",
              "      <td>0.993000</td>\n",
              "      <td>1.000000</td>\n",
              "      <td>2.770180</td>\n",
              "      <td>2.490000</td>\n",
              "    </tr>\n",
              "    <tr>\n",
              "      <th>25%</th>\n",
              "      <td>22745.250000</td>\n",
              "      <td>3.422000</td>\n",
              "      <td>0.997000</td>\n",
              "      <td>3.000000</td>\n",
              "      <td>2.786860</td>\n",
              "      <td>3.420146</td>\n",
              "    </tr>\n",
              "    <tr>\n",
              "      <th>50%</th>\n",
              "      <td>45490.500000</td>\n",
              "      <td>3.636000</td>\n",
              "      <td>0.999000</td>\n",
              "      <td>5.000000</td>\n",
              "      <td>2.804878</td>\n",
              "      <td>3.633252</td>\n",
              "    </tr>\n",
              "    <tr>\n",
              "      <th>75%</th>\n",
              "      <td>68235.750000</td>\n",
              "      <td>3.868000</td>\n",
              "      <td>1.001000</td>\n",
              "      <td>7.000000</td>\n",
              "      <td>2.823520</td>\n",
              "      <td>3.864714</td>\n",
              "    </tr>\n",
              "    <tr>\n",
              "      <th>max</th>\n",
              "      <td>90981.000000</td>\n",
              "      <td>4.114000</td>\n",
              "      <td>1.003000</td>\n",
              "      <td>9.000000</td>\n",
              "      <td>2.840817</td>\n",
              "      <td>4.113109</td>\n",
              "    </tr>\n",
              "  </tbody>\n",
              "</table>\n",
              "</div>"
            ],
            "text/plain": [
              "            time(s)           V_m   Current (A)         Cycle           Cap  \\\n",
              "count  90982.000000  90982.000000  90982.000000  90982.000000  90982.000000   \n",
              "mean   45490.500000      3.607666      0.999264      4.978699      2.806214   \n",
              "std    26264.385433      0.322777      0.001997      2.582135      0.023283   \n",
              "min        0.000000      2.497000      0.993000      1.000000      2.770180   \n",
              "25%    22745.250000      3.422000      0.997000      3.000000      2.786860   \n",
              "50%    45490.500000      3.636000      0.999000      5.000000      2.804878   \n",
              "75%    68235.750000      3.868000      1.001000      7.000000      2.823520   \n",
              "max    90981.000000      4.114000      1.003000      9.000000      2.840817   \n",
              "\n",
              "                R_P  \n",
              "count  90982.000000  \n",
              "mean       3.604989  \n",
              "std        0.322366  \n",
              "min        2.490000  \n",
              "25%        3.420146  \n",
              "50%        3.633252  \n",
              "75%        3.864714  \n",
              "max        4.113109  "
            ]
          },
          "execution_count": 13,
          "metadata": {},
          "output_type": "execute_result"
        }
      ],
      "source": [
        "df_new.describe()"
      ]
    },
    {
      "cell_type": "markdown",
      "metadata": {
        "id": "HI8PfLrq6ujN"
      },
      "source": [
        "##Jawaban poin (c)"
      ]
    },
    {
      "cell_type": "code",
      "execution_count": 14,
      "metadata": {
        "colab": {
          "base_uri": "https://localhost:8080/"
        },
        "id": "D0Yuz7IxvVVl",
        "outputId": "2d50818a-0eb2-4464-f6b0-4b322d495602"
      },
      "outputs": [
        {
          "data": {
            "text/plain": [
              "Index(['time(s)', 'V_m', 'kuat_arus', 'Cycle', 'Cap'], dtype='object')"
            ]
          },
          "execution_count": 14,
          "metadata": {},
          "output_type": "execute_result"
        }
      ],
      "source": [
        "df_new = df.rename(columns={'Current (A)': 'kuat_arus'})\n",
        "df_new.columns"
      ]
    },
    {
      "cell_type": "code",
      "execution_count": 15,
      "metadata": {
        "colab": {
          "base_uri": "https://localhost:8080/",
          "height": 424
        },
        "id": "EQ_8rnTdyZeh",
        "outputId": "fe778659-7524-49b2-c66c-0f5db699f6e5"
      },
      "outputs": [
        {
          "data": {
            "text/html": [
              "<div>\n",
              "<style scoped>\n",
              "    .dataframe tbody tr th:only-of-type {\n",
              "        vertical-align: middle;\n",
              "    }\n",
              "\n",
              "    .dataframe tbody tr th {\n",
              "        vertical-align: top;\n",
              "    }\n",
              "\n",
              "    .dataframe thead th {\n",
              "        text-align: right;\n",
              "    }\n",
              "</style>\n",
              "<table border=\"1\" class=\"dataframe\">\n",
              "  <thead>\n",
              "    <tr style=\"text-align: right;\">\n",
              "      <th></th>\n",
              "      <th>time(s)</th>\n",
              "      <th>V_m</th>\n",
              "      <th>kuat_arus</th>\n",
              "      <th>Cycle</th>\n",
              "      <th>Cap</th>\n",
              "    </tr>\n",
              "  </thead>\n",
              "  <tbody>\n",
              "    <tr>\n",
              "      <th>15</th>\n",
              "      <td>15</td>\n",
              "      <td>4.085</td>\n",
              "      <td>1.0</td>\n",
              "      <td>1</td>\n",
              "      <td>2.840817</td>\n",
              "    </tr>\n",
              "    <tr>\n",
              "      <th>19</th>\n",
              "      <td>19</td>\n",
              "      <td>4.083</td>\n",
              "      <td>1.0</td>\n",
              "      <td>1</td>\n",
              "      <td>2.840817</td>\n",
              "    </tr>\n",
              "    <tr>\n",
              "      <th>20</th>\n",
              "      <td>20</td>\n",
              "      <td>4.083</td>\n",
              "      <td>1.0</td>\n",
              "      <td>1</td>\n",
              "      <td>2.840817</td>\n",
              "    </tr>\n",
              "    <tr>\n",
              "      <th>21</th>\n",
              "      <td>21</td>\n",
              "      <td>4.082</td>\n",
              "      <td>1.0</td>\n",
              "      <td>1</td>\n",
              "      <td>2.840817</td>\n",
              "    </tr>\n",
              "    <tr>\n",
              "      <th>31</th>\n",
              "      <td>31</td>\n",
              "      <td>4.079</td>\n",
              "      <td>1.0</td>\n",
              "      <td>1</td>\n",
              "      <td>2.840817</td>\n",
              "    </tr>\n",
              "    <tr>\n",
              "      <th>...</th>\n",
              "      <td>...</td>\n",
              "      <td>...</td>\n",
              "      <td>...</td>\n",
              "      <td>...</td>\n",
              "      <td>...</td>\n",
              "    </tr>\n",
              "    <tr>\n",
              "      <th>90909</th>\n",
              "      <td>90909</td>\n",
              "      <td>2.640</td>\n",
              "      <td>1.0</td>\n",
              "      <td>9</td>\n",
              "      <td>2.770180</td>\n",
              "    </tr>\n",
              "    <tr>\n",
              "      <th>90923</th>\n",
              "      <td>90923</td>\n",
              "      <td>2.615</td>\n",
              "      <td>1.0</td>\n",
              "      <td>9</td>\n",
              "      <td>2.770180</td>\n",
              "    </tr>\n",
              "    <tr>\n",
              "      <th>90937</th>\n",
              "      <td>90937</td>\n",
              "      <td>2.589</td>\n",
              "      <td>1.0</td>\n",
              "      <td>9</td>\n",
              "      <td>2.770180</td>\n",
              "    </tr>\n",
              "    <tr>\n",
              "      <th>90949</th>\n",
              "      <td>90949</td>\n",
              "      <td>2.565</td>\n",
              "      <td>1.0</td>\n",
              "      <td>9</td>\n",
              "      <td>2.770180</td>\n",
              "    </tr>\n",
              "    <tr>\n",
              "      <th>90967</th>\n",
              "      <td>90967</td>\n",
              "      <td>2.528</td>\n",
              "      <td>1.0</td>\n",
              "      <td>9</td>\n",
              "      <td>2.770180</td>\n",
              "    </tr>\n",
              "  </tbody>\n",
              "</table>\n",
              "<p>6830 rows × 5 columns</p>\n",
              "</div>"
            ],
            "text/plain": [
              "       time(s)    V_m  kuat_arus  Cycle       Cap\n",
              "15          15  4.085        1.0      1  2.840817\n",
              "19          19  4.083        1.0      1  2.840817\n",
              "20          20  4.083        1.0      1  2.840817\n",
              "21          21  4.082        1.0      1  2.840817\n",
              "31          31  4.079        1.0      1  2.840817\n",
              "...        ...    ...        ...    ...       ...\n",
              "90909    90909  2.640        1.0      9  2.770180\n",
              "90923    90923  2.615        1.0      9  2.770180\n",
              "90937    90937  2.589        1.0      9  2.770180\n",
              "90949    90949  2.565        1.0      9  2.770180\n",
              "90967    90967  2.528        1.0      9  2.770180\n",
              "\n",
              "[6830 rows x 5 columns]"
            ]
          },
          "execution_count": 15,
          "metadata": {},
          "output_type": "execute_result"
        }
      ],
      "source": [
        "df_new.query('kuat_arus==1 and Cycle%2==1')"
      ]
    },
    {
      "cell_type": "code",
      "execution_count": 16,
      "metadata": {
        "colab": {
          "base_uri": "https://localhost:8080/"
        },
        "id": "cl9ywGUC6wwJ",
        "outputId": "247325b0-b12e-4f28-a6db-ef4df7888720"
      },
      "outputs": [
        {
          "data": {
            "text/plain": [
              "2.8064845553925855"
            ]
          },
          "execution_count": 16,
          "metadata": {},
          "output_type": "execute_result"
        }
      ],
      "source": [
        "df_new.query('kuat_arus==1 and Cycle%2==1')['Cap'].mean()"
      ]
    },
    {
      "cell_type": "markdown",
      "metadata": {
        "id": "tWk8cu6x61i3"
      },
      "source": [
        "Rata-rata nilai kapasitas untuk arus = 1 Ampere dan cycle ganjil adalah **2.806485**"
      ]
    }
  ],
  "metadata": {
    "accelerator": "GPU",
    "colab": {
      "collapsed_sections": [],
      "name": "Live_Code_1_22_11_2021.ipynb",
      "provenance": []
    },
    "kernelspec": {
      "display_name": "Python 3",
      "name": "python3"
    },
    "language_info": {
      "codemirror_mode": {
        "name": "ipython",
        "version": 3
      },
      "file_extension": ".py",
      "mimetype": "text/x-python",
      "name": "python",
      "nbconvert_exporter": "python",
      "pygments_lexer": "ipython3",
      "version": "3.8.8"
    }
  },
  "nbformat": 4,
  "nbformat_minor": 0
}
